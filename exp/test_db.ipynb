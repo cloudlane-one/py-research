{
 "cells": [
  {
   "cell_type": "code",
   "execution_count": 1,
   "metadata": {},
   "outputs": [],
   "source": [
    "from __future__ import annotations\n",
    "\n",
    "import json\n",
    "import cProfile\n",
    "import pstats"
   ]
  },
  {
   "cell_type": "code",
   "execution_count": 2,
   "metadata": {},
   "outputs": [],
   "source": [
    "from py_research.db import (\n",
    "    DataSource,\n",
    "    RecMap,\n",
    "    RelMap,\n",
    "    SubMap,\n",
    "    SelIndex,\n",
    "    DB\n",
    ")"
   ]
  },
  {
   "cell_type": "code",
   "execution_count": 3,
   "metadata": {},
   "outputs": [],
   "source": [
    "from test_db_schema import Search, Project, Task, User, Membership, Organization"
   ]
  },
  {
   "cell_type": "code",
   "execution_count": 4,
   "metadata": {},
   "outputs": [],
   "source": [
    "data_source = DataSource(\n",
    "    rec=Search,\n",
    "    push={\n",
    "        \"resultCount\": Search.result_count,\n",
    "        \"search\": Search.term,\n",
    "        \"results\": RelMap(\n",
    "            rel=Search.results,\n",
    "            push={\n",
    "                \"project_name\": Project.name,\n",
    "                \"project_start\": Project.start,\n",
    "                \"project_end\": Project.end,\n",
    "                \"project_status\": Project.status,\n",
    "                \"tasks\": RelMap(\n",
    "                    rel=Project.tasks,\n",
    "                    push={\n",
    "                        \"task_name\": Task.name,\n",
    "                        \"task_assignees\": RelMap(\n",
    "                            rel=Task.assignees,\n",
    "                            push=User.name,\n",
    "                            match=User.name,\n",
    "                        ),\n",
    "                        \"task_status\": Task.status,\n",
    "                    },\n",
    "                ),\n",
    "                \"members\": RelMap(\n",
    "                    rel=Project.members,\n",
    "                    push={User.name, User.age},\n",
    "                    link=RecMap(\n",
    "                        push={\n",
    "                            Membership.role,\n",
    "                        },\n",
    "                    ),\n",
    "                ),\n",
    "            },\n",
    "            pull={\n",
    "                Project.org: SubMap(\n",
    "                    push={\n",
    "                        \"organization_name\": Organization.name,\n",
    "                        \"organization_address\": Organization.address,\n",
    "                        \"organization_city\": Organization.city,\n",
    "                    },\n",
    "                ),\n",
    "                Project.number: SelIndex()\n",
    "            },\n",
    "        ),\n",
    "    },\n",
    ")"
   ]
  },
  {
   "cell_type": "code",
   "execution_count": 5,
   "metadata": {},
   "outputs": [],
   "source": [
    "with open(\"./nested_data.json\") as f:\n",
    "    data = json.load(f)"
   ]
  },
  {
   "cell_type": "code",
   "execution_count": 6,
   "metadata": {},
   "outputs": [
    {
     "name": "stderr",
     "output_type": "stream",
     "text": [
      "C:\\Users\\lworm\\Repos\\py-research\\src\\py_research\\db\\base.py:3414: SAWarning: UPDATE statement has a cartesian product between FROM element(s) \"py_research_db_base_Search_867834e92b\" and FROM element \"test_db_schema_Search\".  Apply join condition(s) between each element to resolve.\n",
      "  con.execute(statement)\n"
     ]
    }
   ],
   "source": [
    "with cProfile.Profile() as pr:\n",
    "  db = DB()\n",
    "  rec = await data_source.load([data], db=db)\n",
    "  \n",
    "  stats = pstats.Stats(pr)"
   ]
  },
  {
   "cell_type": "code",
   "execution_count": 7,
   "metadata": {},
   "outputs": [
    {
     "data": {
      "text/html": [
       "<pre style=\"white-space:pre;overflow-x:auto;line-height:normal;font-family:Menlo,'DejaVu Sans Mono',consolas,'Courier New',monospace\"></pre>\n"
      ],
      "text/plain": []
     },
     "metadata": {},
     "output_type": "display_data"
    },
    {
     "data": {
      "text/plain": [
       "\u001b[1m[\u001b[0m\u001b[1m{\u001b[0m\u001b[32m'term'\u001b[0m: \u001b[3;35mNone\u001b[0m, \u001b[32m'result_count'\u001b[0m: \u001b[1;36m3\u001b[0m\u001b[1m}\u001b[0m\u001b[1m]\u001b[0m"
      ]
     },
     "execution_count": 7,
     "metadata": {},
     "output_type": "execute_result"
    }
   ],
   "source": [
    "[s for s in db[Search]]"
   ]
  },
  {
   "cell_type": "code",
   "execution_count": 8,
   "metadata": {},
   "outputs": [
    {
     "name": "stdout",
     "output_type": "stream",
     "text": [
      "         81420 function calls (78361 primitive calls) in 0.398 seconds\n",
      "\n",
      "   Ordered by: cumulative time\n",
      "   List reduced from 1972 to 106 due to restriction <'py_research'>\n",
      "\n",
      "   ncalls  tottime  percall  cumtime  percall filename:lineno(function)\n",
      "        2    0.000    0.000    0.090    0.045 C:\\Users\\lworm\\Repos\\py-research\\src\\py_research\\db\\data_source.py:234(full_map)\n",
      "        2    0.000    0.000    0.090    0.045 C:\\Users\\lworm\\Repos\\py-research\\src\\py_research\\db\\data_source.py:350(_push_to_pull_map)\n",
      "   403/44    0.001    0.000    0.083    0.002 C:\\Users\\lworm\\Repos\\py-research\\src\\py_research\\hashing.py:54(inner)\n",
      "   403/44    0.001    0.000    0.083    0.002 C:\\Users\\lworm\\Repos\\py-research\\src\\py_research\\hashing.py:69(gen_int_hash)\n",
      "    72/40    0.000    0.000    0.082    0.002 C:\\Users\\lworm\\Repos\\py-research\\src\\py_research\\hashing.py:43(_hash_sequence)\n",
      "  158/114    0.000    0.000    0.082    0.001 C:\\Users\\lworm\\Repos\\py-research\\src\\py_research\\hashing.py:44(<lambda>)\n",
      "        4    0.000    0.000    0.080    0.020 C:\\Users\\lworm\\Repos\\py-research\\src\\py_research\\db\\base.py:3456(__hash__)\n",
      "       14    0.000    0.000    0.079    0.006 C:\\Users\\lworm\\Repos\\py-research\\src\\py_research\\db\\base.py:502(__hash__)\n",
      "        1    0.000    0.000    0.078    0.078 C:\\Users\\lworm\\Repos\\py-research\\src\\py_research\\reflect\\ref.py:81(reference)\n",
      "        1    0.000    0.000    0.063    0.063 C:\\Users\\lworm\\Repos\\py-research\\src\\py_research\\db\\base.py:3112(_records_to_df)\n",
      "        3    0.000    0.000    0.034    0.011 C:\\Users\\lworm\\Repos\\py-research\\src\\py_research\\db\\base.py:4335(engine)\n",
      "       78    0.000    0.000    0.010    0.000 C:\\Users\\lworm\\Repos\\py-research\\src\\py_research\\reflect\\types.py:61(has_type)\n",
      "        2    0.000    0.000    0.006    0.003 C:\\Users\\lworm\\Repos\\py-research\\src\\py_research\\reflect\\dist.py:96(get_project_urls)\n",
      "        6    0.000    0.000    0.005    0.001 C:\\Users\\lworm\\Repos\\py-research\\src\\py_research\\db\\base.py:3575(__hash__)\n",
      "        7    0.000    0.000    0.005    0.001 C:\\Users\\lworm\\Repos\\py-research\\src\\py_research\\db\\base.py:1525(__hash__)\n",
      "        4    0.000    0.000    0.005    0.001 C:\\Users\\lworm\\Repos\\py-research\\src\\py_research\\db\\data_source.py:675(_load_rels)\n",
      "       11    0.000    0.000    0.004    0.000 C:\\Users\\lworm\\Repos\\py-research\\src\\py_research\\db\\base.py:3579(record_type)\n",
      "       11    0.000    0.000    0.004    0.000 C:\\Users\\lworm\\Repos\\py-research\\src\\py_research\\db\\base.py:418(record_type)\n",
      "       36    0.000    0.000    0.003    0.000 C:\\Users\\lworm\\Repos\\py-research\\src\\py_research\\reflect\\types.py:56(is_subtype)\n",
      "      3/2    0.000    0.000    0.002    0.001 C:\\Users\\lworm\\Repos\\py-research\\src\\py_research\\db\\base.py:3925(direct_rel)\n",
      "        5    0.000    0.000    0.002    0.000 C:\\Users\\lworm\\Repos\\py-research\\src\\py_research\\db\\base.py:394(_generic_type)\n",
      "        1    0.000    0.000    0.002    0.002 C:\\Users\\lworm\\Repos\\py-research\\src\\py_research\\reflect\\dist.py:87(get_module_repo)\n",
      "        3    0.000    0.000    0.002    0.001 C:\\Users\\lworm\\Repos\\py-research\\src\\py_research\\db\\base.py:1627(_sql_cols)\n",
      "        1    0.000    0.000    0.002    0.002 C:\\Users\\lworm\\Repos\\py-research\\src\\py_research\\reflect\\dist.py:79(get_file_repo)\n",
      "       37    0.000    0.000    0.002    0.000 C:\\Users\\lworm\\Repos\\py-research\\src\\py_research\\db\\base.py:346(_to_typedef)\n",
      "       20    0.000    0.000    0.002    0.000 C:\\Users\\lworm\\Repos\\py-research\\src\\py_research\\db\\base.py:4278(__hash__)\n",
      "      237    0.001    0.000    0.002    0.000 C:\\Users\\lworm\\Repos\\py-research\\src\\py_research\\hashing.py:34(_stable_hash)\n",
      "        6    0.000    0.000    0.001    0.000 C:\\Users\\lworm\\Repos\\py-research\\src\\py_research\\db\\base.py:2311(__getitem__)\n",
      "        5    0.000    0.000    0.001    0.000 C:\\Users\\lworm\\Repos\\py-research\\src\\py_research\\db\\base.py:403(_generic_args)\n",
      "        1    0.000    0.000    0.001    0.001 C:\\Users\\lworm\\Repos\\py-research\\src\\py_research\\db\\base.py:2435(query)\n",
      "        2    0.000    0.000    0.001    0.000 C:\\Users\\lworm\\Repos\\py-research\\src\\py_research\\db\\data_source.py:182(select)\n",
      "        2    0.000    0.000    0.001    0.000 C:\\Users\\lworm\\Repos\\py-research\\src\\py_research\\db\\data_source.py:90(select)\n",
      "        2    0.000    0.000    0.001    0.000 C:\\Users\\lworm\\Repos\\py-research\\src\\py_research\\db\\data_source.py:42(_select_on_level)\n",
      "        2    0.000    0.000    0.001    0.000 C:\\Users\\lworm\\Repos\\py-research\\src\\py_research\\db\\data_source.py:326(_parse_pushmap)\n",
      "        2    0.000    0.000    0.001    0.000 C:\\Users\\lworm\\Repos\\py-research\\src\\py_research\\db\\base.py:486(value_type)\n",
      "        2    0.000    0.000    0.001    0.000 C:\\Users\\lworm\\Repos\\py-research\\src\\py_research\\db\\base.py:409(value_type)\n",
      "       35    0.000    0.000    0.001    0.000 C:\\Users\\lworm\\Repos\\py-research\\src\\py_research\\db\\base.py:407(<genexpr>)\n",
      "       10    0.000    0.000    0.001    0.000 C:\\Users\\lworm\\Repos\\py-research\\src\\py_research\\data.py:33(copy_and_override)\n",
      "       51    0.000    0.000    0.001    0.000 C:\\Users\\lworm\\Repos\\py-research\\src\\py_research\\reflect\\types.py:75(extract_nullable_type)\n",
      "       40    0.000    0.000    0.001    0.000 C:\\Users\\lworm\\Repos\\py-research\\src\\py_research\\db\\base.py:1535(record_type)\n",
      "        4    0.000    0.000    0.001    0.000 C:\\Users\\lworm\\Repos\\py-research\\src\\py_research\\db\\base.py:1531(__eq__)\n",
      "       34    0.000    0.000    0.000    0.000 C:\\Users\\lworm\\Repos\\py-research\\src\\py_research\\hashing.py:107(<genexpr>)\n",
      "        4    0.000    0.000    0.000    0.000 C:\\Users\\lworm\\Repos\\py-research\\src\\py_research\\db\\base.py:3435(record_set)\n",
      "        7    0.000    0.000    0.000    0.000 C:\\Users\\lworm\\Repos\\py-research\\src\\py_research\\db\\base.py:3887(link_type)\n",
      "        4    0.000    0.000    0.000    0.000 C:\\Users\\lworm\\Repos\\py-research\\src\\py_research\\db\\base.py:1517(<lambda>)\n",
      "        7    0.000    0.000    0.000    0.000 C:\\Users\\lworm\\Repos\\py-research\\src\\py_research\\db\\base.py:444(link_type)\n",
      "        3    0.000    0.000    0.000    0.000 C:\\Users\\lworm\\Repos\\py-research\\src\\py_research\\db\\base.py:1652(_foreign_keys)\n",
      "        3    0.000    0.000    0.000    0.000 C:\\Users\\lworm\\Repos\\py-research\\src\\py_research\\db\\base.py:2414(<genexpr>)\n",
      "        3    0.000    0.000    0.000    0.000 C:\\Users\\lworm\\Repos\\py-research\\src\\py_research\\db\\base.py:1101(_defined_rel_cols)\n",
      "        6    0.000    0.000    0.000    0.000 C:\\Users\\lworm\\Repos\\py-research\\src\\py_research\\db\\base.py:4216(__post_init__)\n",
      "     16/3    0.000    0.000    0.000    0.000 C:\\Users\\lworm\\Repos\\py-research\\src\\py_research\\db\\base.py:523(__get__)\n",
      "        1    0.000    0.000    0.000    0.000 C:\\Users\\lworm\\Repos\\py-research\\src\\py_research\\db\\base.py:3974(fk_map)\n",
      "        9    0.000    0.000    0.000    0.000 C:\\Users\\lworm\\Repos\\py-research\\src\\py_research\\reflect\\types.py:66(get_lowest_common_base)\n",
      "      8/4    0.000    0.000    0.000    0.000 C:\\Users\\lworm\\Repos\\py-research\\src\\py_research\\db\\data_source.py:241(__hash__)\n",
      "        1    0.000    0.000    0.000    0.000 C:\\Users\\lworm\\Repos\\py-research\\src\\py_research\\db\\data_source.py:150(_PushMapping)\n",
      "        7    0.000    0.000    0.000    0.000 C:\\Users\\lworm\\Repos\\py-research\\src\\py_research\\db\\base.py:1209(_default_table_name)\n",
      "       10    0.000    0.000    0.000    0.000 C:\\Users\\lworm\\Repos\\py-research\\src\\py_research\\db\\base.py:1110(_primary_keys)\n",
      "        4    0.000    0.000    0.000    0.000 C:\\Users\\lworm\\Repos\\py-research\\src\\py_research\\db\\base.py:1225(_get_table_name)\n",
      "       21    0.000    0.000    0.000    0.000 C:\\Users\\lworm\\Repos\\py-research\\src\\py_research\\reflect\\ref.py:213(to_url)\n",
      "        7    0.000    0.000    0.000    0.000 C:\\Users\\lworm\\Repos\\py-research\\src\\py_research\\db\\base.py:3473(__get__)\n",
      "        3    0.000    0.000    0.000    0.000 C:\\Users\\lworm\\Repos\\py-research\\src\\py_research\\db\\base.py:1357(_index)\n",
      "        6    0.000    0.000    0.000    0.000 C:\\Users\\lworm\\Repos\\py-research\\src\\py_research\\db\\base.py:4308(backend_type)\n",
      "       50    0.000    0.000    0.000    0.000 C:\\Users\\lworm\\Repos\\py-research\\src\\py_research\\db\\base.py:477(name)\n",
      "        1    0.000    0.000    0.000    0.000 C:\\Users\\lworm\\Repos\\py-research\\src\\py_research\\db\\base.py:1365(_is_complete_dict)\n",
      "        7    0.000    0.000    0.000    0.000 C:\\Users\\lworm\\Repos\\py-research\\src\\py_research\\reflect\\types.py:72(<lambda>)\n",
      "        1    0.000    0.000    0.000    0.000 C:\\Users\\lworm\\Repos\\py-research\\src\\py_research\\reflect\\deps.py:179(version_to_range)\n",
      "        1    0.000    0.000    0.000    0.000 C:\\Users\\lworm\\Repos\\py-research\\src\\py_research\\telemetry.py:28(emit)\n",
      "       11    0.000    0.000    0.000    0.000 C:\\Users\\lworm\\Repos\\py-research\\src\\py_research\\reflect\\types.py:71(<genexpr>)\n",
      "        2    0.000    0.000    0.000    0.000 C:\\Users\\lworm\\Repos\\py-research\\src\\py_research\\db\\base.py:3219(<lambda>)\n",
      "        1    0.000    0.000    0.000    0.000 C:\\Users\\lworm\\Repos\\py-research\\src\\py_research\\db\\base.py:1380(_index_from_dict)\n",
      "        6    0.000    0.000    0.000    0.000 C:\\Users\\lworm\\Repos\\py-research\\src\\py_research\\db\\base.py:1441(__post_init__)\n",
      "        3    0.000    0.000    0.000    0.000 C:\\Users\\lworm\\Repos\\py-research\\src\\py_research\\db\\base.py:1133(_cols)\n",
      "        2    0.000    0.000    0.000    0.000 C:\\Users\\lworm\\Repos\\py-research\\src\\py_research\\db\\base.py:2939(_joins)\n",
      "       18    0.000    0.000    0.000    0.000 C:\\Users\\lworm\\Repos\\py-research\\src\\py_research\\db\\base.py:374(_to_type)\n",
      "        8    0.000    0.000    0.000    0.000 C:\\Users\\lworm\\Repos\\py-research\\src\\py_research\\db\\base.py:491(parent_type)\n",
      "        2    0.000    0.000    0.000    0.000 C:\\Users\\lworm\\Repos\\py-research\\src\\py_research\\db\\base.py:1141(_rels)\n",
      "        1    0.000    0.000    0.000    0.000 C:\\Users\\lworm\\Repos\\py-research\\src\\py_research\\db\\base.py:1203(__init__)\n",
      "        1    0.000    0.000    0.000    0.000 C:\\Users\\lworm\\Repos\\py-research\\src\\py_research\\reflect\\dist.py:23(get_module_file)\n",
      "        3    0.000    0.000    0.000    0.000 C:\\Users\\lworm\\Repos\\py-research\\src\\py_research\\db\\base.py:1372(<genexpr>)\n",
      "        7    0.000    0.000    0.000    0.000 C:\\Users\\lworm\\Repos\\py-research\\src\\py_research\\reflect\\ref.py:76(fqn)\n",
      "       26    0.000    0.000    0.000    0.000 C:\\Users\\lworm\\Repos\\py-research\\src\\py_research\\reflect\\types.py:72(<genexpr>)\n",
      "        2    0.000    0.000    0.000    0.000 C:\\Users\\lworm\\Repos\\py-research\\src\\py_research\\db\\base.py:1549(single_key)\n",
      "        4    0.000    0.000    0.000    0.000 C:\\Users\\lworm\\Repos\\py-research\\src\\py_research\\db\\base.py:557(__set__)\n",
      "        2    0.000    0.000    0.000    0.000 C:\\Users\\lworm\\Repos\\py-research\\src\\py_research\\db\\base.py:1596(_rendered_filters)\n",
      "        2    0.000    0.000    0.000    0.000 C:\\Users\\lworm\\Repos\\py-research\\src\\py_research\\db\\base.py:3104(_idx_map)\n",
      "        7    0.000    0.000    0.000    0.000 C:\\Users\\lworm\\Repos\\py-research\\src\\py_research\\hashing.py:110(<genexpr>)\n",
      "        6    0.000    0.000    0.000    0.000 C:\\Users\\lworm\\Repos\\py-research\\src\\py_research\\db\\base.py:1442(<genexpr>)\n",
      "        2    0.000    0.000    0.000    0.000 C:\\Users\\lworm\\Repos\\py-research\\src\\py_research\\db\\base.py:1452(dict)\n",
      "        2    0.000    0.000    0.000    0.000 C:\\Users\\lworm\\Repos\\py-research\\src\\py_research\\db\\data_source.py:748(<genexpr>)\n",
      "        2    0.000    0.000    0.000    0.000 C:\\Users\\lworm\\Repos\\py-research\\src\\py_research\\db\\base.py:1145(<genexpr>)\n",
      "        4    0.000    0.000    0.000    0.000 C:\\Users\\lworm\\Repos\\py-research\\src\\py_research\\db\\base.py:4303(record_type)\n",
      "        2    0.000    0.000    0.000    0.000 C:\\Users\\lworm\\Repos\\py-research\\src\\py_research\\db\\base.py:2419(<genexpr>)\n",
      "        3    0.000    0.000    0.000    0.000 C:\\Users\\lworm\\Repos\\py-research\\src\\py_research\\db\\base.py:1137(<genexpr>)\n",
      "        1    0.000    0.000    0.000    0.000 C:\\Users\\lworm\\Repos\\py-research\\src\\py_research\\db\\base.py:3407(__setitem__)\n",
      "        1    0.000    0.000    0.000    0.000 C:\\Users\\lworm\\Repos\\py-research\\src\\py_research\\db\\data_source.py:724(_obj_cache)\n",
      "      1/0    0.000    0.000    0.000          C:\\Users\\lworm\\Repos\\py-research\\src\\py_research\\db\\data_source.py:566(_load_records)\n",
      "      1/0    0.000    0.000    0.000          C:\\Users\\lworm\\Repos\\py-research\\src\\py_research\\db\\base.py:1685(_base_table)\n",
      "      1/0    0.000    0.000    0.000          C:\\Users\\lworm\\Repos\\py-research\\src\\py_research\\db\\base.py:2406(select)\n",
      "      1/0    0.000    0.000    0.000          C:\\Users\\lworm\\Repos\\py-research\\src\\py_research\\db\\base.py:3126(_mutate)\n",
      "      1/0    0.000    0.000    0.000          C:\\Users\\lworm\\Repos\\py-research\\src\\py_research\\db\\base.py:3210(_mutate_from_records)\n",
      "      1/0    0.000    0.000    0.000          C:\\Users\\lworm\\Repos\\py-research\\src\\py_research\\db\\base.py:1763(_table)\n",
      "      3/0    0.000    0.000    0.000          C:\\Users\\lworm\\Repos\\py-research\\src\\py_research\\db\\base.py:1297(_get_db)\n",
      "      1/0    0.000    0.000    0.000          C:\\Users\\lworm\\Repos\\py-research\\src\\py_research\\db\\base.py:1811(_create_sqla_table)\n",
      "      1/0    0.000    0.000    0.000          C:\\Users\\lworm\\Repos\\py-research\\src\\py_research\\db\\base.py:1542(idx_cols)\n",
      "      1/0    0.000    0.000    0.000          C:\\Users\\lworm\\Repos\\py-research\\src\\py_research\\db\\base.py:2622(__ior__)\n",
      "      1/0    0.000    0.000    0.000          C:\\Users\\lworm\\Repos\\py-research\\src\\py_research\\db\\base.py:3218(<lambda>)\n",
      "\n",
      "\n"
     ]
    },
    {
     "data": {
      "text/html": [
       "<pre style=\"white-space:pre;overflow-x:auto;line-height:normal;font-family:Menlo,'DejaVu Sans Mono',consolas,'Courier New',monospace\"></pre>\n"
      ],
      "text/plain": []
     },
     "metadata": {},
     "output_type": "display_data"
    },
    {
     "data": {
      "text/plain": [
       "\u001b[1m<\u001b[0m\u001b[1;95mpstats.Stats\u001b[0m\u001b[39m object at \u001b[0m\u001b[1;36m0x000001239B512C00\u001b[0m\u001b[1m>\u001b[0m"
      ]
     },
     "execution_count": 8,
     "metadata": {},
     "output_type": "execute_result"
    }
   ],
   "source": [
    "stats.sort_stats(\"cumulative\")\n",
    "stats.print_stats(\"py_research\")"
   ]
  }
 ],
 "metadata": {
  "kernelspec": {
   "display_name": ".venv",
   "language": "python",
   "name": "python3"
  },
  "language_info": {
   "codemirror_mode": {
    "name": "ipython",
    "version": 3
   },
   "file_extension": ".py",
   "mimetype": "text/x-python",
   "name": "python",
   "nbconvert_exporter": "python",
   "pygments_lexer": "ipython3",
   "version": "3.12.4"
  }
 },
 "nbformat": 4,
 "nbformat_minor": 2
}

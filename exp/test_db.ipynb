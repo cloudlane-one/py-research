{
 "cells": [
  {
   "cell_type": "code",
   "execution_count": 8,
   "metadata": {},
   "outputs": [],
   "source": [
    "from __future__ import annotations\n",
    "\n",
    "import cProfile\n",
    "import pstats\n",
    "from asyncio import sleep"
   ]
  },
  {
   "cell_type": "code",
   "execution_count": 9,
   "metadata": {},
   "outputs": [],
   "source": [
    "from py_research.db import (\n",
    "    DataSource,\n",
    "    TableMap,\n",
    "    SubTableMap,\n",
    "    SubMap,\n",
    "    SelIndex,\n",
    "    DataBase\n",
    ")"
   ]
  },
  {
   "cell_type": "code",
   "execution_count": 10,
   "metadata": {},
   "outputs": [],
   "source": [
    "from test_db_schema import (\n",
    "    Search,\n",
    "    Project,\n",
    "    Task,\n",
    "    User,\n",
    "    Membership,\n",
    "    Organization,\n",
    "    SearchResult,\n",
    ")"
   ]
  },
  {
   "cell_type": "code",
   "execution_count": 11,
   "metadata": {},
   "outputs": [],
   "source": [
    "from typing import Any\n",
    "\n",
    "\n",
    "async def dummy_loader(obj: dict[str, Any]) -> dict:\n",
    "    await sleep(0.2)\n",
    "    return {\n",
    "        'name': obj[\"name\"],\n",
    "        'role': obj[\"role\"],\n",
    "        'age': obj[\"age\"] + 1\n",
    "    }"
   ]
  },
  {
   "cell_type": "code",
   "execution_count": 12,
   "metadata": {},
   "outputs": [],
   "source": [
    "data_source = DataSource(\n",
    "    target=Search,\n",
    "    push={\n",
    "        \"resultCount\": Search.result_count,\n",
    "        \"search\": Search.term,\n",
    "        \"results\": SubTableMap(\n",
    "            target=Search.results,\n",
    "            rel_map=TableMap(push={SearchResult.score}),\n",
    "            push={\n",
    "                \"project_name\": Project.name,\n",
    "                \"project_start\": Project.start,\n",
    "                \"project_end\": Project.end,\n",
    "                \"project_status\": Project.status,\n",
    "                \"tasks\": SubTableMap(\n",
    "                    target=Project.tasks,\n",
    "                    push={\n",
    "                        \"task_name\": Task.name,\n",
    "                        \"task_assignees\": SubTableMap(\n",
    "                            target=Task.assignees,\n",
    "                            push=User.name,\n",
    "                            match_by=User.name,\n",
    "                        ),\n",
    "                        \"task_status\": Task.status,\n",
    "                    },\n",
    "                ),\n",
    "                \"members\": SubTableMap(\n",
    "                    target=Project.members,\n",
    "                    loader=dummy_loader,\n",
    "                    push={User.name, User.age},\n",
    "                    match_by=User.name,\n",
    "                    rel_map=TableMap(\n",
    "                        push={\n",
    "                            Membership.role,\n",
    "                        },\n",
    "                    ),\n",
    "                ),\n",
    "            },\n",
    "            pull={\n",
    "                Project.org: SubMap(\n",
    "                    push={\n",
    "                        \"organization_name\": Organization.name,\n",
    "                        \"organization_address\": Organization.address,\n",
    "                        \"organization_city\": Organization.city,\n",
    "                    },\n",
    "                ),\n",
    "                Project.number: SelIndex()\n",
    "            },\n",
    "        ),\n",
    "    },\n",
    ")"
   ]
  },
  {
   "cell_type": "code",
   "execution_count": 13,
   "metadata": {},
   "outputs": [],
   "source": [
    "from datetime import date\n",
    "\n",
    "\n",
    "data = {\n",
    "    \"resultCount\": 3,\n",
    "    \"search\": \"test\",\n",
    "    \"results\": [\n",
    "        {\n",
    "            \"score\": 0.9,\n",
    "            \"project_name\": \"baking cake\",\n",
    "            \"project_start\": date(2020, 1, 1),\n",
    "            \"project_end\": date(2020, 1, 4),\n",
    "            \"project_status\": \"done\",\n",
    "            \"organization_name\": \"Bakery\",\n",
    "            \"organization_address\": \"Main Street 1\",\n",
    "            \"organization_city\": \"Bakerville\",\n",
    "            \"tasks\": [\n",
    "                {\n",
    "                    \"task_name\": \"task1\",\n",
    "                    \"task_assignees\": [\"John\"],\n",
    "                    \"task_status\": \"todo\",\n",
    "                },\n",
    "                {\n",
    "                    \"task_name\": \"task2\",\n",
    "                    \"task_assignees\": [\"John\"],\n",
    "                    \"task_status\": \"todo\",\n",
    "                },\n",
    "                {\n",
    "                    \"task_name\": \"task3\",\n",
    "                    \"task_assignees\": [\"Jane\"],\n",
    "                    \"task_status\": \"done\",\n",
    "                },\n",
    "            ],\n",
    "            \"members\": [\n",
    "                {\"name\": \"John\", \"role\": \"baker\", \"age\": 30},\n",
    "                {\"name\": \"John\", \"role\": \"manager\", \"age\": 40},\n",
    "            ],\n",
    "        },\n",
    "        {\n",
    "            \"score\": 0.8,\n",
    "            \"project_name\": \"cleaning shoes\",\n",
    "            \"project_start\": date(2020, 1, 2),\n",
    "            \"project_end\": date(2020, 1, 5),\n",
    "            \"project_status\": \"done\",\n",
    "            \"organization_name\": \"Shoe Shop\",\n",
    "            \"organization_address\": \"Main Street 2\",\n",
    "            \"organization_city\": \"Shoetown\",\n",
    "            \"tasks\": [\n",
    "                {\n",
    "                    \"task_name\": \"task4\",\n",
    "                    \"task_assignees\": [\"John\"],\n",
    "                    \"task_status\": \"todo\",\n",
    "                },\n",
    "                {\n",
    "                    \"task_name\": \"task5\",\n",
    "                    \"task_assignees\": [\"Jane\"],\n",
    "                    \"task_status\": \"todo\",\n",
    "                },\n",
    "            ],\n",
    "            \"members\": [\n",
    "                {\"name\": \"John\", \"role\": \"cleaner\", \"age\": 25},\n",
    "                {\"name\": \"Jane\", \"role\": \"manager\", \"age\": 35},\n",
    "            ],\n",
    "        },\n",
    "        {\n",
    "            \"score\": 0.7,\n",
    "            \"project_name\": \"fixing cars\",\n",
    "            \"project_start\": date(2020, 1, 3),\n",
    "            \"project_end\": date(2020, 1, 6),\n",
    "            \"project_status\": \"started\",\n",
    "            \"organization_name\": \"Car Shop\",\n",
    "            \"organization_address\": \"Main Street 3\",\n",
    "            \"organization_city\": \"Cartown\",\n",
    "            \"tasks\": [\n",
    "                {\n",
    "                    \"task_name\": \"task6\",\n",
    "                    \"task_assignees\": [\"John\"],\n",
    "                    \"task_status\": \"todo\",\n",
    "                }\n",
    "            ],\n",
    "            \"members\": [\n",
    "                {\"name\": \"John\", \"role\": \"mechanic\", \"age\": 45},\n",
    "                {\"name\": \"Jane\", \"role\": \"manager\", \"age\": 55},\n",
    "                {\"name\": \"Jack\", \"role\": \"manager\", \"age\": 65},\n",
    "            ],\n",
    "        },\n",
    "    ],\n",
    "}"
   ]
  },
  {
   "cell_type": "code",
   "execution_count": 14,
   "metadata": {},
   "outputs": [
    {
     "name": "stderr",
     "output_type": "stream",
     "text": [
      "Async-loading `Search`:   0%|          | 0/1 [00:00<?, ?it/s]"
     ]
    },
    {
     "name": "stderr",
     "output_type": "stream",
     "text": [
      "                                                                      \r"
     ]
    }
   ],
   "source": [
    "with cProfile.Profile() as pr:\n",
    "  db = DataBase()\n",
    "  rec = await data_source.load([data], db=db)\n",
    "\n",
    "  stats = pstats.Stats(pr)"
   ]
  },
  {
   "cell_type": "code",
   "execution_count": 15,
   "metadata": {},
   "outputs": [
    {
     "data": {
      "text/html": [
       "<pre style=\"white-space:pre;overflow-x:auto;line-height:normal;font-family:Menlo,'DejaVu Sans Mono',consolas,'Courier New',monospace\"></pre>\n"
      ],
      "text/plain": []
     },
     "metadata": {},
     "output_type": "display_data"
    },
    {
     "data": {
      "text/plain": [
       "\u001b[1;35mEngine\u001b[0m\u001b[1m(\u001b[0msqlite:\u001b[35m/\u001b[0m\u001b[35m/\u001b[0m\u001b[35m/\u001b[0m\u001b[95mfile\u001b[0m:c5f637e5a2?\u001b[33mcache\u001b[0m=\u001b[35mshared\u001b[0m&\u001b[33mmode\u001b[0m=\u001b[35mmemory\u001b[0m&\u001b[33muri\u001b[0m=\u001b[35mtrue\u001b[0m\u001b[1m)\u001b[0m"
      ]
     },
     "execution_count": 15,
     "metadata": {},
     "output_type": "execute_result"
    }
   ],
   "source": [
    "db.engine"
   ]
  },
  {
   "cell_type": "code",
   "execution_count": 16,
   "metadata": {},
   "outputs": [
    {
     "data": {
      "text/html": [
       "<pre style=\"white-space:pre;overflow-x:auto;line-height:normal;font-family:Menlo,'DejaVu Sans Mono',consolas,'Courier New',monospace\"></pre>\n"
      ],
      "text/plain": []
     },
     "metadata": {},
     "output_type": "display_data"
    },
    {
     "data": {
      "text/plain": [
       "\n",
       "\u001b[1m[\u001b[0m\n",
       "    \u001b[1m(\u001b[0m\u001b[32m'5d4f5fe9-5e9b-4db4-9592-f02e53fdfc91'\u001b[0m, \u001b[32m'John'\u001b[0m\u001b[1m)\u001b[0m,\n",
       "    \u001b[1m(\u001b[0m\u001b[32m'6f26fd54-db4d-4e75-b7cd-9b1dfc9a2190'\u001b[0m, \u001b[32m'John'\u001b[0m\u001b[1m)\u001b[0m,\n",
       "    \u001b[1m(\u001b[0m\u001b[32m'899f9810-1aba-4575-8ea5-e2d64fd7e5e8'\u001b[0m, \u001b[32m'John'\u001b[0m\u001b[1m)\u001b[0m,\n",
       "    \u001b[1m(\u001b[0m\u001b[32m'93fd36bb-1b96-41e3-b8f2-160ec38f508c'\u001b[0m, \u001b[32m'Jane'\u001b[0m\u001b[1m)\u001b[0m,\n",
       "    \u001b[1m(\u001b[0m\u001b[32m'948821d7-dbed-4720-97fd-4832b51edb68'\u001b[0m, \u001b[32m'John'\u001b[0m\u001b[1m)\u001b[0m,\n",
       "    \u001b[1m(\u001b[0m\u001b[32m'b8005cee-c106-4977-bd26-2a42f3f3cfa7'\u001b[0m, \u001b[32m'Jane'\u001b[0m\u001b[1m)\u001b[0m,\n",
       "    \u001b[1m(\u001b[0m\u001b[32m'b8491192-aaf9-4a87-a440-bf1c0e567cb8'\u001b[0m, \u001b[32m'Jack'\u001b[0m\u001b[1m)\u001b[0m\n",
       "\u001b[1m]\u001b[0m"
      ]
     },
     "execution_count": 16,
     "metadata": {},
     "output_type": "execute_result"
    }
   ],
   "source": [
    "list(db[User.name].items())"
   ]
  },
  {
   "cell_type": "code",
   "execution_count": 17,
   "metadata": {},
   "outputs": [
    {
     "name": "stdout",
     "output_type": "stream",
     "text": [
      "SELECT \"test_db_schema_Search\".term AS term,\n",
      "       \"test_db_schema_Search\".result_count AS result_count\n",
      "FROM \"test_db_schema_Search\"\n"
     ]
    }
   ],
   "source": [
    "print(db[Search].select_str)"
   ]
  },
  {
   "cell_type": "code",
   "execution_count": 18,
   "metadata": {},
   "outputs": [
    {
     "name": "stdout",
     "output_type": "stream",
     "text": [
      "SELECT \"test_db_schema_Search\".term AS term\n",
      "FROM \"test_db_schema_Search\"\n"
     ]
    }
   ],
   "source": [
    "print(db[Search.term].select_str)"
   ]
  },
  {
   "cell_type": "code",
   "execution_count": 19,
   "metadata": {},
   "outputs": [
    {
     "name": "stdout",
     "output_type": "stream",
     "text": [
      "SELECT \"test_db_schema_Search\".term AS term,\n",
      "       \"test_db_schema_Search\".result_count AS result_count\n",
      "FROM \"test_db_schema_Search\"\n"
     ]
    }
   ],
   "source": [
    "print(db[Search.result_count].select_str)"
   ]
  },
  {
   "cell_type": "code",
   "execution_count": 20,
   "metadata": {},
   "outputs": [
    {
     "name": "stdout",
     "output_type": "stream",
     "text": [
      "SELECT \"test_db_schema_Search\".term AS term,\n",
      "       \"test_db_schema_SearchResult\".\"test_db_schema_Search_term\" AS \"test_db_schema_Search_term\",\n",
      "       \"test_db_schema_SearchResult\".\"test_db_schema_Project_number\" AS \"test_db_schema_Project_number\",\n",
      "       \"test_db_schema_Project\".name AS name,\n",
      "       \"test_db_schema_Project\".start AS\n",
      "START, \"test_db_schema_Project\".\"test_db_schema_Organization__id\" AS \"test_db_schema_Organization__id\",\n",
      "       \"test_db_schema_Project\".number AS number,\n",
      "       \"test_db_schema_Project\".\"end\" AS \"end\",\n",
      "       \"test_db_schema_Project\".status AS status\n",
      "FROM \"test_db_schema_Search\"\n",
      "JOIN \"test_db_schema_SearchResult\" ON \"test_db_schema_SearchResult\".\"test_db_schema_Search_term\" = \"test_db_schema_Search\".term\n",
      "JOIN \"test_db_schema_Project\" ON \"test_db_schema_SearchResult\".\"test_db_schema_Project_number\" = \"test_db_schema_Project\".number\n"
     ]
    }
   ],
   "source": [
    "print(db[Search.results].select_str)"
   ]
  },
  {
   "cell_type": "code",
   "execution_count": 21,
   "metadata": {},
   "outputs": [
    {
     "data": {
      "text/html": [
       "<pre style=\"white-space:pre;overflow-x:auto;line-height:normal;font-family:Menlo,'DejaVu Sans Mono',consolas,'Courier New',monospace\"></pre>\n"
      ],
      "text/plain": []
     },
     "metadata": {},
     "output_type": "display_data"
    },
    {
     "data": {
      "text/plain": [
       "\u001b[1m[\u001b[0m\u001b[32m'test'\u001b[0m\u001b[1m]\u001b[0m"
      ]
     },
     "execution_count": 21,
     "metadata": {},
     "output_type": "execute_result"
    }
   ],
   "source": [
    "db[Search.term].values()"
   ]
  },
  {
   "cell_type": "code",
   "execution_count": 22,
   "metadata": {},
   "outputs": [
    {
     "data": {
      "text/html": [
       "<pre style=\"white-space:pre;overflow-x:auto;line-height:normal;font-family:Menlo,'DejaVu Sans Mono',consolas,'Courier New',monospace\"></pre>\n"
      ],
      "text/plain": []
     },
     "metadata": {},
     "output_type": "display_data"
    },
    {
     "data": {
      "text/plain": [
       "\u001b[1m[\u001b[0m\u001b[1m(\u001b[0m\u001b[32m'test'\u001b[0m, \u001b[1;36m3\u001b[0m\u001b[1m)\u001b[0m\u001b[1m]\u001b[0m"
      ]
     },
     "execution_count": 22,
     "metadata": {},
     "output_type": "execute_result"
    }
   ],
   "source": [
    "list(db[Search.result_count].items())"
   ]
  },
  {
   "cell_type": "code",
   "execution_count": 23,
   "metadata": {},
   "outputs": [
    {
     "name": "stdout",
     "output_type": "stream",
     "text": [
      "         769018 function calls (721094 primitive calls) in 1.652 seconds\n",
      "\n",
      "   Ordered by: cumulative time\n",
      "   List reduced from 1757 to 143 due to restriction <'py_research'>\n",
      "\n",
      "   ncalls  tottime  percall  cumtime  percall filename:lineno(function)\n",
      "    50/47    0.002    0.000    0.843    0.018 C:\\Users\\lworm\\Repos\\py-research\\src\\py_research\\db\\datasources.py:570(_load_record)\n",
      "       37    0.000    0.000    0.799    0.022 C:\\Users\\lworm\\Repos\\py-research\\src\\py_research\\db\\datasources.py:733(_load_rec_from_item)\n",
      "       33    0.001    0.000    0.620    0.019 C:\\Users\\lworm\\Repos\\py-research\\src\\py_research\\db\\databases.py:4330(__init__)\n",
      "       34    0.000    0.000    0.613    0.018 C:\\Users\\lworm\\Repos\\py-research\\src\\py_research\\db\\databases.py:1367(__ior__)\n",
      "       34    0.001    0.000    0.611    0.018 C:\\Users\\lworm\\Repos\\py-research\\src\\py_research\\db\\databases.py:2790(_mutate)\n",
      "       34    0.001    0.000    0.571    0.017 C:\\Users\\lworm\\Repos\\py-research\\src\\py_research\\db\\databases.py:2917(_mutate_from_records)\n",
      "       34    0.001    0.000    0.340    0.010 C:\\Users\\lworm\\Repos\\py-research\\src\\py_research\\db\\databases.py:2764(_df_to_table)\n",
      "22519/11012    0.027    0.000    0.270    0.000 C:\\Users\\lworm\\Repos\\py-research\\src\\py_research\\caching.py:382(__get__)\n",
      "       43    0.000    0.000    0.182    0.004 C:\\Users\\lworm\\Repos\\py-research\\src\\py_research\\db\\databases.py:700(keys)\n",
      "       43    0.001    0.000    0.173    0.004 C:\\Users\\lworm\\Repos\\py-research\\src\\py_research\\db\\databases.py:847(to_df)\n",
      "       52    0.000    0.000    0.164    0.003 C:\\Users\\lworm\\Repos\\py-research\\src\\py_research\\db\\datasources.py:861(load)\n",
      "   162/56    0.002    0.000    0.154    0.003 C:\\Users\\lworm\\Repos\\py-research\\src\\py_research\\db\\datasources.py:724(_load_records)\n",
      "    46/43    0.000    0.000    0.129    0.003 C:\\Users\\lworm\\Repos\\py-research\\src\\py_research\\caching.py:364(__call__)\n",
      "       43    0.001    0.000    0.129    0.003 C:\\Users\\lworm\\Repos\\py-research\\src\\py_research\\db\\databases.py:629(select)\n",
      "       33    0.002    0.000    0.124    0.004 C:\\Users\\lworm\\Repos\\py-research\\src\\py_research\\db\\databases.py:3017(_mutate_from_sql)\n",
      "      512    0.003    0.000    0.112    0.000 C:\\Users\\lworm\\Repos\\py-research\\src\\py_research\\db\\databases.py:2375(_has_type)\n",
      "       34    0.001    0.000    0.112    0.003 C:\\Users\\lworm\\Repos\\py-research\\src\\py_research\\db\\databases.py:2676(_values_to_df)\n",
      "     1684    0.004    0.000    0.099    0.000 C:\\Users\\lworm\\Repos\\py-research\\src\\py_research\\db\\databases.py:2382(<genexpr>)\n",
      "       21    0.001    0.000    0.092    0.004 C:\\Users\\lworm\\Repos\\py-research\\src\\py_research\\telemetry.py:104(tqdm)\n",
      "4024/4021    0.009    0.000    0.092    0.000 C:\\Users\\lworm\\Repos\\py-research\\src\\py_research\\db\\databases.py:2391(_get_typearg)\n",
      " 9047/338    0.011    0.000    0.089    0.000 C:\\Users\\lworm\\Repos\\py-research\\src\\py_research\\hashing.py:54(inner)\n",
      " 9047/338    0.025    0.000    0.086    0.000 C:\\Users\\lworm\\Repos\\py-research\\src\\py_research\\hashing.py:69(gen_int_hash)\n",
      "  425/297    0.001    0.000    0.085    0.000 C:\\Users\\lworm\\Repos\\py-research\\src\\py_research\\db\\databases.py:669(__hash__)\n",
      " 1447/352    0.001    0.000    0.083    0.000 C:\\Users\\lworm\\Repos\\py-research\\src\\py_research\\hashing.py:43(_hash_sequence)\n",
      "4055/1926    0.007    0.000    0.082    0.000 C:\\Users\\lworm\\Repos\\py-research\\src\\py_research\\hashing.py:44(<lambda>)\n",
      "    46/43    0.000    0.000    0.078    0.002 C:\\Users\\lworm\\Repos\\py-research\\src\\py_research\\db\\databases.py:2230(_sql_joins)\n",
      "       34    0.000    0.000    0.073    0.002 C:\\Users\\lworm\\Repos\\py-research\\src\\py_research\\db\\databases.py:2171(_total_cols)\n",
      "       43    0.000    0.000    0.069    0.002 C:\\Users\\lworm\\Repos\\py-research\\src\\py_research\\db\\databases.py:2180(_total_join_dict)\n",
      "       34    0.002    0.000    0.068    0.002 C:\\Users\\lworm\\Repos\\py-research\\src\\py_research\\db\\databases.py:2014(_abs_cols)\n",
      "      132    0.002    0.000    0.060    0.000 C:\\Users\\lworm\\Repos\\py-research\\src\\py_research\\db\\databases.py:1901(_home_table)\n",
      "    46/43    0.000    0.000    0.059    0.001 C:\\Users\\lworm\\Repos\\py-research\\src\\py_research\\db\\databases.py:2175(_total_joins)\n",
      "       98    0.001    0.000    0.058    0.001 C:\\Users\\lworm\\Repos\\py-research\\src\\py_research\\db\\databases.py:2335(_sql_col)\n",
      "     2463    0.002    0.000    0.057    0.000 C:\\Users\\lworm\\Repos\\py-research\\src\\py_research\\reflect\\types.py:56(is_subtype)\n",
      "  914/911    0.001    0.000    0.057    0.000 C:\\Users\\lworm\\Repos\\py-research\\src\\py_research\\db\\databases.py:1847(_generic_args)\n",
      "       46    0.000    0.000    0.050    0.001 C:\\Users\\lworm\\Repos\\py-research\\src\\py_research\\db\\databases.py:2104(_abs_filters)\n",
      "  914/911    0.002    0.000    0.049    0.000 C:\\Users\\lworm\\Repos\\py-research\\src\\py_research\\db\\databases.py:1838(_generic_type)\n",
      "       34    0.002    0.000    0.045    0.001 C:\\Users\\lworm\\Repos\\py-research\\src\\py_research\\db\\databases.py:2720(_gen_upload_table)\n",
      "      184    0.002    0.000    0.037    0.000 C:\\Users\\lworm\\Repos\\py-research\\src\\py_research\\db\\databases.py:1995(_abs_idx_cols)\n",
      "4739/4733    0.009    0.000    0.036    0.000 C:\\Users\\lworm\\Repos\\py-research\\src\\py_research\\db\\databases.py:2405(_hint_to_typedef)\n",
      "      484    0.016    0.000    0.034    0.000 C:\\Users\\lworm\\Repos\\py-research\\src\\py_research\\data.py:33(copy_and_override)\n",
      "       89    0.000    0.000    0.033    0.000 C:\\Users\\lworm\\Repos\\py-research\\src\\py_research\\db\\databases.py:637(<genexpr>)\n",
      "       33    0.001    0.000    0.030    0.001 C:\\Users\\lworm\\Repos\\py-research\\src\\py_research\\db\\databases.py:2068(_base_table_map)\n",
      "  108/102    0.001    0.000    0.029    0.000 C:\\Users\\lworm\\Repos\\py-research\\src\\py_research\\db\\databases.py:2563(_get_sql_base_table)\n",
      "       51    0.000    0.000    0.026    0.001 C:\\Users\\lworm\\Repos\\py-research\\src\\py_research\\db\\databases.py:2540(_visit_filter_col)\n",
      "       28    0.000    0.000    0.025    0.001 C:\\Users\\lworm\\Repos\\py-research\\src\\py_research\\db\\datasources.py:289(sub_tables)\n",
      "     5154    0.013    0.000    0.025    0.000 C:\\Users\\lworm\\Repos\\py-research\\src\\py_research\\hashing.py:34(_stable_hash)\n",
      "       28    0.000    0.000    0.023    0.001 C:\\Users\\lworm\\Repos\\py-research\\src\\py_research\\db\\datasources.py:270(full_map)\n",
      "      303    0.001    0.000    0.023    0.000 C:\\Users\\lworm\\Repos\\py-research\\src\\py_research\\db\\databases.py:3852(__hash__)\n",
      "       28    0.001    0.000    0.023    0.001 C:\\Users\\lworm\\Repos\\py-research\\src\\py_research\\db\\datasources.py:429(_push_to_pull_map)\n",
      "       49    0.000    0.000    0.022    0.000 C:\\Users\\lworm\\Repos\\py-research\\src\\py_research\\db\\databases.py:1533(__eq__)\n",
      "       52    0.000    0.000    0.021    0.000 C:\\Users\\lworm\\Repos\\py-research\\src\\py_research\\db\\databases.py:2132(<genexpr>)\n",
      "       34    0.001    0.000    0.019    0.001 C:\\Users\\lworm\\Repos\\py-research\\src\\py_research\\db\\databases.py:314(_get_pl_schema)\n",
      "      560    0.000    0.000    0.018    0.000 C:\\Users\\lworm\\Repos\\py-research\\src\\py_research\\db\\databases.py:541(value_type)\n",
      "       55    0.000    0.000    0.017    0.000 C:\\Users\\lworm\\Repos\\py-research\\src\\py_research\\db\\databases.py:2135(<genexpr>)\n",
      "     1176    0.003    0.000    0.016    0.000 C:\\Users\\lworm\\Repos\\py-research\\src\\py_research\\db\\databases.py:4163(_props)\n",
      "      140    0.001    0.000    0.014    0.000 C:\\Users\\lworm\\Repos\\py-research\\src\\py_research\\db\\databases.py:1979(_abs_link_path)\n",
      "     1339    0.004    0.000    0.012    0.000 C:\\Users\\lworm\\Repos\\py-research\\src\\py_research\\db\\databases.py:4153(_class_fk_values)\n",
      "      979    0.000    0.000    0.012    0.000 C:\\Users\\lworm\\Repos\\py-research\\src\\py_research\\hashing.py:109(<genexpr>)\n",
      "      963    0.001    0.000    0.011    0.000 C:\\Users\\lworm\\Repos\\py-research\\src\\py_research\\reflect\\types.py:65(has_type)\n",
      "      220    0.000    0.000    0.010    0.000 C:\\Users\\lworm\\Repos\\py-research\\src\\py_research\\db\\databases.py:546(target_type)\n",
      "        7    0.000    0.000    0.010    0.001 C:\\Users\\lworm\\Repos\\py-research\\src\\py_research\\db\\databases.py:3906(_create_sqla_table)\n",
      "       34    0.001    0.000    0.010    0.000 C:\\Users\\lworm\\Repos\\py-research\\src\\py_research\\db\\databases.py:3223(_mutate_rels_from_sql)\n",
      "       69    0.000    0.000    0.009    0.000 C:\\Users\\lworm\\Repos\\py-research\\src\\py_research\\db\\databases.py:2341(_sql_table)\n",
      "        1    0.000    0.000    0.009    0.009 C:\\Users\\lworm\\Repos\\py-research\\src\\py_research\\db\\databases.py:2988(_mutate_from_rec_ids)\n",
      "  146/140    0.001    0.000    0.008    0.000 C:\\Users\\lworm\\Repos\\py-research\\src\\py_research\\db\\databases.py:527(path)\n",
      "      156    0.002    0.000    0.008    0.000 C:\\Users\\lworm\\Repos\\py-research\\src\\py_research\\db\\databases.py:1168(__getitem__)\n",
      "       46    0.001    0.000    0.008    0.000 C:\\Users\\lworm\\Repos\\py-research\\src\\py_research\\db\\databases.py:2155(_abs_joins)\n",
      "      343    0.001    0.000    0.007    0.000 C:\\Users\\lworm\\Repos\\py-research\\src\\py_research\\db\\databases.py:4204(_values)\n",
      "      193    0.001    0.000    0.006    0.000 C:\\Users\\lworm\\Repos\\py-research\\src\\py_research\\db\\databases.py:1916(_idx_cols)\n",
      "      145    0.000    0.000    0.005    0.000 C:\\Users\\lworm\\Repos\\py-research\\src\\py_research\\db\\databases.py:556(record_type)\n",
      "      228    0.001    0.000    0.005    0.000 C:\\Users\\lworm\\Repos\\py-research\\src\\py_research\\db\\databases.py:4173(_pk_values)\n",
      "  681/528    0.002    0.000    0.005    0.000 C:\\Users\\lworm\\Repos\\py-research\\src\\py_research\\db\\databases.py:1711(__get__)\n",
      "     1339    0.004    0.000    0.005    0.000 C:\\Users\\lworm\\Repos\\py-research\\src\\py_research\\db\\databases.py:4142(_class_links)\n",
      "      306    0.001    0.000    0.005    0.000 C:\\Users\\lworm\\Repos\\py-research\\src\\py_research\\db\\databases.py:4216(_tables)\n",
      "       43    0.000    0.000    0.005    0.000 C:\\Users\\lworm\\Repos\\py-research\\src\\py_research\\db\\databases.py:4448(_is_complete_dict)\n",
      "        3    0.000    0.000    0.004    0.001 C:\\Users\\lworm\\Repos\\py-research\\src\\py_research\\db\\databases.py:2193(_fk_map)\n",
      "        6    0.000    0.000    0.004    0.001 C:\\Users\\lworm\\Repos\\py-research\\src\\py_research\\db\\databases.py:2253(<genexpr>)\n",
      "        7    0.000    0.000    0.004    0.001 C:\\Users\\lworm\\Repos\\py-research\\src\\py_research\\db\\databases.py:2276(_sql_base_cols)\n",
      "      173    0.000    0.000    0.003    0.000 C:\\Users\\lworm\\Repos\\py-research\\src\\py_research\\db\\databases.py:4220(_links)\n",
      "      100    0.000    0.000    0.003    0.000 C:\\Users\\lworm\\Repos\\py-research\\src\\py_research\\db\\datasources.py:203(select)\n",
      "      237    0.001    0.000    0.003    0.000 C:\\Users\\lworm\\Repos\\py-research\\src\\py_research\\db\\databases.py:1873(_ctx_module)\n",
      "        7    0.000    0.000    0.003    0.000 C:\\Users\\lworm\\Repos\\py-research\\src\\py_research\\db\\databases.py:2300(_sql_base_fks)\n",
      "       43    0.000    0.000    0.003    0.000 C:\\Users\\lworm\\Repos\\py-research\\src\\py_research\\db\\databases.py:4212(_non_fk_values)\n",
      "      350    0.000    0.000    0.003    0.000 C:\\Users\\lworm\\Repos\\py-research\\src\\py_research\\db\\databases.py:3324(name)\n",
      "      100    0.000    0.000    0.003    0.000 C:\\Users\\lworm\\Repos\\py-research\\src\\py_research\\db\\datasources.py:100(select)\n",
      "       43    0.000    0.000    0.002    0.000 C:\\Users\\lworm\\Repos\\py-research\\src\\py_research\\db\\datasources.py:535(_gen_match_expr)\n",
      "       33    0.000    0.000    0.002    0.000 C:\\Users\\lworm\\Repos\\py-research\\src\\py_research\\db\\databases.py:4426(_to_dict)\n",
      "      100    0.000    0.000    0.002    0.000 C:\\Users\\lworm\\Repos\\py-research\\src\\py_research\\db\\datasources.py:57(_select_on_level)\n",
      "      146    0.000    0.000    0.002    0.000 C:\\Users\\lworm\\Repos\\py-research\\src\\py_research\\db\\databases.py:563(relation_type)\n",
      "       34    0.000    0.000    0.002    0.000 C:\\Users\\lworm\\Repos\\py-research\\src\\py_research\\db\\datasources.py:553(<genexpr>)\n",
      "       72    0.000    0.000    0.002    0.000 C:\\Users\\lworm\\Repos\\py-research\\src\\py_research\\db\\datasources.py:479(_sliding_batch_map)\n",
      "      159    0.000    0.000    0.002    0.000 C:\\Users\\lworm\\Repos\\py-research\\src\\py_research\\db\\databases.py:3106(<genexpr>)\n",
      "      133    0.000    0.000    0.002    0.000 C:\\Users\\lworm\\Repos\\py-research\\src\\py_research\\db\\databases.py:4224(_arrays)\n",
      "       77    0.000    0.000    0.002    0.000 C:\\Users\\lworm\\Repos\\py-research\\src\\py_research\\db\\databases.py:4208(_col_values)\n",
      "      353    0.001    0.000    0.002    0.000 C:\\Users\\lworm\\Repos\\py-research\\src\\py_research\\db\\databases.py:3319(__post_init__)\n",
      "  229/196    0.001    0.000    0.002    0.000 C:\\Users\\lworm\\Repos\\py-research\\src\\py_research\\db\\databases.py:1783(__set__)\n",
      "        9    0.000    0.000    0.002    0.000 C:\\Users\\lworm\\Repos\\py-research\\src\\py_research\\db\\databases.py:309(<lambda>)\n",
      "        7    0.000    0.000    0.002    0.000 C:\\Users\\lworm\\Repos\\py-research\\src\\py_research\\db\\databases.py:4557(__post_init__)\n",
      "      156    0.000    0.000    0.002    0.000 C:\\Users\\lworm\\Repos\\py-research\\src\\py_research\\db\\databases.py:4195(_fk_values)\n",
      "     7667    0.001    0.000    0.001    0.000 C:\\Users\\lworm\\Repos\\py-research\\src\\py_research\\data.py:82(<genexpr>)\n",
      "       55    0.000    0.000    0.001    0.000 C:\\Users\\lworm\\Repos\\py-research\\src\\py_research\\db\\datasources.py:677(<genexpr>)\n",
      "     7698    0.001    0.000    0.001    0.000 C:\\Users\\lworm\\Repos\\py-research\\src\\py_research\\data.py:56(<genexpr>)\n",
      "        7    0.000    0.000    0.001    0.000 C:\\Users\\lworm\\Repos\\py-research\\src\\py_research\\hashing.py:143(gen_str_hash)\n",
      "        1    0.000    0.000    0.001    0.001 C:\\Users\\lworm\\Repos\\py-research\\src\\py_research\\db\\databases.py:3582(engine)\n",
      "      114    0.000    0.000    0.001    0.000 C:\\Users\\lworm\\Repos\\py-research\\src\\py_research\\db\\databases.py:4278(_get_table_name)\n",
      "      151    0.001    0.000    0.001    0.000 C:\\Users\\lworm\\Repos\\py-research\\src\\py_research\\db\\databases.py:4262(_default_table_name)\n",
      "      237    0.001    0.000    0.001    0.000 C:\\Users\\lworm\\Repos\\py-research\\src\\py_research\\db\\databases.py:1851(_ctx_type)\n",
      "       28    0.000    0.000    0.001    0.000 C:\\Users\\lworm\\Repos\\py-research\\src\\py_research\\db\\datasources.py:405(_parse_pushmap)\n",
      "       19    0.000    0.000    0.001    0.000 C:\\Users\\lworm\\Repos\\py-research\\src\\py_research\\db\\databases.py:4547(<lambda>)\n",
      "     2522    0.001    0.000    0.001    0.000 C:\\Users\\lworm\\Repos\\py-research\\src\\py_research\\db\\databases.py:4060(_get_class_props)\n",
      "       37    0.000    0.000    0.001    0.000 C:\\Users\\lworm\\Repos\\py-research\\src\\py_research\\db\\databases.py:515(ctx)\n",
      "      103    0.000    0.000    0.001    0.000 C:\\Users\\lworm\\Repos\\py-research\\src\\py_research\\db\\databases.py:1912(_root_table)\n",
      "        7    0.000    0.000    0.001    0.000 C:\\Users\\lworm\\Repos\\py-research\\src\\py_research\\db\\databases.py:4182(_class_values)\n",
      "      248    0.000    0.000    0.001    0.000 C:\\Users\\lworm\\Repos\\py-research\\src\\py_research\\db\\databases.py:1860(_ctx_table)\n",
      "       34    0.000    0.000    0.001    0.000 C:\\Users\\lworm\\Repos\\py-research\\src\\py_research\\db\\databases.py:581(fqn)\n",
      "        3    0.000    0.000    0.000    0.000 C:\\Users\\lworm\\Repos\\py-research\\src\\py_research\\db\\databases.py:2484(_add_ctx)\n",
      "        6    0.000    0.000    0.000    0.000 C:\\Users\\lworm\\Repos\\py-research\\src\\py_research\\db\\databases.py:2495(<lambda>)\n",
      "       33    0.000    0.000    0.000    0.000 C:\\Users\\lworm\\Repos\\py-research\\src\\py_research\\db\\databases.py:4380(_db)\n",
      "       29    0.000    0.000    0.000    0.000 C:\\Users\\lworm\\Repos\\py-research\\src\\py_research\\db\\databases.py:2665(_gen_fk_value_map)\n",
      "     1176    0.000    0.000    0.000    0.000 C:\\Users\\lworm\\Repos\\py-research\\src\\py_research\\db\\databases.py:4169(<genexpr>)\n",
      "       62    0.000    0.000    0.000    0.000 C:\\Users\\lworm\\Repos\\py-research\\src\\py_research\\db\\databases.py:4462(<genexpr>)\n",
      "      143    0.000    0.000    0.000    0.000 C:\\Users\\lworm\\Repos\\py-research\\src\\py_research\\db\\databases.py:4455(<genexpr>)\n",
      "       33    0.000    0.000    0.000    0.000 C:\\Users\\lworm\\Repos\\py-research\\src\\py_research\\db\\databases.py:2926(<lambda>)\n",
      "       33    0.000    0.000    0.000    0.000 C:\\Users\\lworm\\Repos\\py-research\\src\\py_research\\db\\databases.py:2928(<lambda>)\n",
      "      352    0.000    0.000    0.000    0.000 C:\\Users\\lworm\\Repos\\py-research\\src\\py_research\\db\\databases.py:536(name)\n",
      "    46/43    0.000    0.000    0.000    0.000 C:\\Users\\lworm\\Repos\\py-research\\src\\py_research\\db\\databases.py:2266(_sql_filters)\n",
      "      153    0.000    0.000    0.000    0.000 C:\\Users\\lworm\\Repos\\py-research\\src\\py_research\\db\\datasources.py:264(record_type)\n",
      "      193    0.000    0.000    0.000    0.000 C:\\Users\\lworm\\Repos\\py-research\\src\\py_research\\db\\databases.py:502(db)\n",
      "        3    0.000    0.000    0.000    0.000 C:\\Users\\lworm\\Repos\\py-research\\src\\py_research\\db\\datasources.py:349(select)\n",
      "       34    0.000    0.000    0.000    0.000 C:\\Users\\lworm\\Repos\\py-research\\src\\py_research\\db\\databases.py:3892(_get_valid_cache_set)\n",
      "       26    0.000    0.000    0.000    0.000 C:\\Users\\lworm\\Repos\\py-research\\src\\py_research\\db\\datasources.py:399(__post_init__)\n",
      "       58    0.000    0.000    0.000    0.000 C:\\Users\\lworm\\Repos\\py-research\\src\\py_research\\db\\databases.py:4463(<genexpr>)\n",
      "        1    0.000    0.000    0.000    0.000 C:\\Users\\lworm\\Repos\\py-research\\src\\py_research\\db\\datasources.py:183(parse)\n",
      "      146    0.000    0.000    0.000    0.000 C:\\Users\\lworm\\Repos\\py-research\\src\\py_research\\db\\databases.py:2455(_hint_to_type)\n",
      "      156    0.000    0.000    0.000    0.000 C:\\Users\\lworm\\Repos\\py-research\\src\\py_research\\db\\databases.py:4200(<genexpr>)\n",
      "        1    0.000    0.000    0.000    0.000 C:\\Users\\lworm\\Repos\\py-research\\src\\py_research\\db\\databases.py:3489(__post_init__)\n",
      "        9    0.000    0.000    0.000    0.000 C:\\Users\\lworm\\Repos\\py-research\\src\\py_research\\db\\databases.py:4372(<genexpr>)\n",
      "        1    0.000    0.000    0.000    0.000 C:\\Users\\lworm\\Repos\\py-research\\src\\py_research\\db\\databases.py:3555(backend_type)\n",
      "       16    0.000    0.000    0.000    0.000 C:\\Users\\lworm\\Repos\\py-research\\src\\py_research\\db\\datasources.py:420(_get_selector_name)\n",
      "        1    0.000    0.000    0.000    0.000 C:\\Users\\lworm\\Repos\\py-research\\src\\py_research\\db\\databases.py:3545(db_id)\n",
      "       34    0.000    0.000    0.000    0.000 C:\\Users\\lworm\\Repos\\py-research\\src\\py_research\\db\\databases.py:1631(__setitem__)\n",
      "        3    0.000    0.000    0.000    0.000 C:\\Users\\lworm\\Repos\\py-research\\src\\py_research\\db\\datasources.py:355(<genexpr>)\n",
      "       26    0.000    0.000    0.000    0.000 C:\\Users\\lworm\\Repos\\py-research\\src\\py_research\\db\\databases.py:4397(__post_init__)\n",
      "\n",
      "\n"
     ]
    },
    {
     "data": {
      "text/html": [
       "<pre style=\"white-space:pre;overflow-x:auto;line-height:normal;font-family:Menlo,'DejaVu Sans Mono',consolas,'Courier New',monospace\"></pre>\n"
      ],
      "text/plain": []
     },
     "metadata": {},
     "output_type": "display_data"
    },
    {
     "data": {
      "text/plain": [
       "\u001b[1m<\u001b[0m\u001b[1;95mpstats.Stats\u001b[0m\u001b[39m object at \u001b[0m\u001b[1;36m0x000001889CF38D10\u001b[0m\u001b[1m>\u001b[0m"
      ]
     },
     "execution_count": 23,
     "metadata": {},
     "output_type": "execute_result"
    }
   ],
   "source": [
    "stats.sort_stats(\"cumulative\")\n",
    "stats.print_stats(\"py_research\")"
   ]
  }
 ],
 "metadata": {
  "kernelspec": {
   "display_name": ".venv",
   "language": "python",
   "name": "python3"
  },
  "language_info": {
   "codemirror_mode": {
    "name": "ipython",
    "version": 3
   },
   "file_extension": ".py",
   "mimetype": "text/x-python",
   "name": "python",
   "nbconvert_exporter": "python",
   "pygments_lexer": "ipython3",
   "version": "3.12.4"
  }
 },
 "nbformat": 4,
 "nbformat_minor": 2
}

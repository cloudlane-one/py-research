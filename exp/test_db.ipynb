{
 "cells": [
  {
   "cell_type": "code",
   "execution_count": null,
   "metadata": {},
   "outputs": [],
   "source": [
    "from __future__ import annotations\n",
    "\n",
    "from typing import Any\n",
    "import cProfile\n",
    "import pstats\n",
    "from asyncio import sleep"
   ]
  },
  {
   "cell_type": "code",
   "execution_count": null,
   "metadata": {},
   "outputs": [],
   "source": [
    "from py_research.db import DataSource, RelPush, RelPull, DataBase, RecMap, All, SelIdx"
   ]
  },
  {
   "cell_type": "code",
   "execution_count": 5,
   "metadata": {},
   "outputs": [],
   "source": [
    "from schema import (\n",
    "    Search,\n",
    "    Project,\n",
    "    Task,\n",
    "    User,\n",
    "    Membership,\n",
    "    Organization,\n",
    "    SearchResult,\n",
    "    TestSchema,\n",
    ")"
   ]
  },
  {
   "cell_type": "code",
   "execution_count": null,
   "metadata": {},
   "outputs": [],
   "source": [
    "async def _dummy_loader(obj: dict[str, Any]) -> dict:\n",
    "    await sleep(0.2)\n",
    "    return {\n",
    "        'name': obj[\"name\"],\n",
    "        'role': obj[\"role\"],\n",
    "        'age': obj[\"age\"] + 1\n",
    "    }"
   ]
  },
  {
   "cell_type": "code",
   "execution_count": null,
   "metadata": {},
   "outputs": [],
   "source": [
    "data_source = DataSource(\n",
    "    target=Search,\n",
    "    push={\n",
    "        \"resultCount\": Search.result_count,\n",
    "        \"search\": Search.term,\n",
    "        \"results\": RelPush(\n",
    "            target=Search.results,\n",
    "            edge_map=RecMap(push={SearchResult.score}),\n",
    "            push={\n",
    "                \"project_name\": Project.name,\n",
    "                \"project_start\": Project.start,\n",
    "                \"project_end\": Project.end,\n",
    "                \"project_status\": Project.status,\n",
    "                \"tasks\": RelPush(\n",
    "                    target=Project.tasks,\n",
    "                    push={\n",
    "                        \"task_name\": Task.name,\n",
    "                        \"task_assignees\": RelPush(\n",
    "                            target=Task.assignees,\n",
    "                            push=User.name,\n",
    "                            match_by=[User.name],\n",
    "                        ),\n",
    "                        \"task_status\": Task.status,\n",
    "                    },\n",
    "                ),\n",
    "                \"members\": RelPush(\n",
    "                    target=Project.members,\n",
    "                    loader=_dummy_loader,\n",
    "                    push={User.name, User.age},\n",
    "                    match_by=[User.name],\n",
    "                    edge_map=RecMap(\n",
    "                        push={\n",
    "                            Membership.role,\n",
    "                        },\n",
    "                    ),\n",
    "                ),\n",
    "            },\n",
    "            pull={\n",
    "                Project.org: RelPull(\n",
    "                    sel=All,\n",
    "                    push={\n",
    "                        \"organization_name\": Organization.name,\n",
    "                        \"organization_address\": Organization.address,\n",
    "                        \"organization_city\": Organization.city,\n",
    "                        \"organization_countries\": Organization.countries,\n",
    "                    },\n",
    "                    match_by=[Organization.name, Organization.city],\n",
    "                ),\n",
    "                Project.number: SelIdx()\n",
    "            },\n",
    "        ),\n",
    "    },\n",
    ")"
   ]
  },
  {
   "cell_type": "code",
   "execution_count": 8,
   "metadata": {},
   "outputs": [],
   "source": [
    "from datetime import date\n",
    "\n",
    "\n",
    "data = {\n",
    "    \"resultCount\": 3,\n",
    "    \"search\": \"test\",\n",
    "    \"results\": [\n",
    "        {\n",
    "            \"score\": 0.9,\n",
    "            \"project_name\": \"baking cake\",\n",
    "            \"project_start\": date(2020, 1, 1),\n",
    "            \"project_end\": date(2020, 1, 4),\n",
    "            \"project_status\": \"done\",\n",
    "            \"organization_name\": \"Bakery\",\n",
    "            \"organization_address\": \"Main Street 1\",\n",
    "            \"organization_city\": \"Bakerville\",\n",
    "            \"organization_countries\": [\"USA\", \"Mexico\", \"Canada\"],\n",
    "            \"tasks\": [\n",
    "                {\n",
    "                    \"task_name\": \"task1\",\n",
    "                    \"task_assignees\": [\"John\"],\n",
    "                    \"task_status\": \"todo\",\n",
    "                },\n",
    "                {\n",
    "                    \"task_name\": \"task2\",\n",
    "                    \"task_assignees\": [\"John\"],\n",
    "                    \"task_status\": \"todo\",\n",
    "                },\n",
    "                {\n",
    "                    \"task_name\": \"task3\",\n",
    "                    \"task_assignees\": [\"Jane\"],\n",
    "                    \"task_status\": \"done\",\n",
    "                },\n",
    "            ],\n",
    "            \"members\": [\n",
    "                {\"name\": \"John\", \"role\": \"baker\", \"age\": 30},\n",
    "                {\"name\": \"John\", \"role\": \"manager\", \"age\": 40},\n",
    "            ],\n",
    "        },\n",
    "        {\n",
    "            \"score\": 0.8,\n",
    "            \"project_name\": \"cleaning shoes\",\n",
    "            \"project_start\": date(2020, 1, 2),\n",
    "            \"project_end\": date(2020, 1, 5),\n",
    "            \"project_status\": \"done\",\n",
    "            \"organization_name\": \"Shoe Shop\",\n",
    "            \"organization_address\": \"Main Street 2\",\n",
    "            \"organization_city\": \"Shoetown\",\n",
    "            \"organization_countries\": [\"USA\", \"Mexico\"],\n",
    "            \"tasks\": [\n",
    "                {\n",
    "                    \"task_name\": \"task4\",\n",
    "                    \"task_assignees\": [\"John\"],\n",
    "                    \"task_status\": \"todo\",\n",
    "                },\n",
    "                {\n",
    "                    \"task_name\": \"task5\",\n",
    "                    \"task_assignees\": [\"Jane\"],\n",
    "                    \"task_status\": \"todo\",\n",
    "                },\n",
    "            ],\n",
    "            \"members\": [\n",
    "                {\"name\": \"John\", \"role\": \"cleaner\", \"age\": 25},\n",
    "                {\"name\": \"Jane\", \"role\": \"manager\", \"age\": 35},\n",
    "            ],\n",
    "        },\n",
    "        {\n",
    "            \"score\": 0.7,\n",
    "            \"project_name\": \"fixing cars\",\n",
    "            \"project_start\": date(2020, 1, 3),\n",
    "            \"project_end\": date(2020, 1, 6),\n",
    "            \"project_status\": \"started\",\n",
    "            \"organization_name\": \"Car Shop\",\n",
    "            \"organization_address\": \"Main Street 3\",\n",
    "            \"organization_city\": \"Cartown\",\n",
    "            \"organization_countries\": [\"USA\", \"Canada\"],\n",
    "            \"tasks\": [\n",
    "                {\n",
    "                    \"task_name\": \"task6\",\n",
    "                    \"task_assignees\": [\"John\"],\n",
    "                    \"task_status\": \"todo\",\n",
    "                }\n",
    "            ],\n",
    "            \"members\": [\n",
    "                {\"name\": \"John\", \"role\": \"mechanic\", \"age\": 45},\n",
    "                {\"name\": \"Jane\", \"role\": \"manager\", \"age\": 55},\n",
    "                {\"name\": \"Jack\", \"role\": \"manager\", \"age\": 65},\n",
    "            ],\n",
    "        },\n",
    "    ],\n",
    "}"
   ]
  },
  {
   "cell_type": "code",
   "execution_count": null,
   "metadata": {},
   "outputs": [],
   "source": [
    "import warnings\n",
    "\n",
    "with warnings.catch_warnings():\n",
    "  warnings.simplefilter(\"error\")\n",
    "  with cProfile.Profile() as pr:\n",
    "    db = DataBase(\n",
    "      schema=TestSchema,\n",
    "      # url=Path(\"./test.xlsx\")\n",
    "    )\n",
    "    rec = await data_source.to_db([data], db=db)\n",
    "\n",
    "    stats = pstats.Stats(pr)"
   ]
  },
  {
   "cell_type": "code",
   "execution_count": null,
   "metadata": {},
   "outputs": [
    {
     "data": {
      "text/html": [
       "<pre style=\"white-space:pre;overflow-x:auto;line-height:normal;font-family:Menlo,'DejaVu Sans Mono',consolas,'Courier New',monospace\"></pre>\n"
      ],
      "text/plain": []
     },
     "metadata": {},
     "output_type": "display_data"
    },
    {
     "data": {
      "text/html": [
       "<div><style>\n",
       ".dataframe > thead > tr,\n",
       ".dataframe > tbody > tr {\n",
       "  text-align: right;\n",
       "  white-space: pre-wrap;\n",
       "}\n",
       "</style>\n",
       "<small>shape: (7, 3)</small><table border=\"1\" class=\"dataframe\"><thead><tr><th>_from__id</th><th>idx</th><th>value</th></tr><tr><td>str</td><td>i64</td><td>str</td></tr></thead><tbody><tr><td>&quot;294904d0-e719-4599-899a-30bb20…</td><td>0</td><td>&quot;USA&quot;</td></tr><tr><td>&quot;294904d0-e719-4599-899a-30bb20…</td><td>1</td><td>&quot;Mexico&quot;</td></tr><tr><td>&quot;294904d0-e719-4599-899a-30bb20…</td><td>2</td><td>&quot;Canada&quot;</td></tr><tr><td>&quot;65d054da-b302-4728-aac0-8a1698…</td><td>0</td><td>&quot;USA&quot;</td></tr><tr><td>&quot;65d054da-b302-4728-aac0-8a1698…</td><td>1</td><td>&quot;Canada&quot;</td></tr><tr><td>&quot;5f96952f-62aa-46da-b2e4-842a90…</td><td>0</td><td>&quot;USA&quot;</td></tr><tr><td>&quot;5f96952f-62aa-46da-b2e4-842a90…</td><td>1</td><td>&quot;Mexico&quot;</td></tr></tbody></table></div>"
      ],
      "text/plain": [
       "\n",
       "shape: \u001b[1m(\u001b[0m\u001b[1;36m7\u001b[0m, \u001b[1;36m3\u001b[0m\u001b[1m)\u001b[0m\n",
       "┌─────────────────────────────────┬─────┬────────┐\n",
       "│ _from__id                       ┆ idx ┆ value  │\n",
       "│ ---                             ┆ --- ┆ ---    │\n",
       "│ str                             ┆ i64 ┆ str    │\n",
       "╞═════════════════════════════════╪═════╪════════╡\n",
       "│ 294904d0-e719-\u001b[1;36m4599\u001b[0m-899a-30bb20… ┆ \u001b[1;36m0\u001b[0m   ┆ USA    │\n",
       "│ 294904d0-e719-\u001b[1;36m4599\u001b[0m-899a-30bb20… ┆ \u001b[1;36m1\u001b[0m   ┆ Mexico │\n",
       "│ 294904d0-e719-\u001b[1;36m4599\u001b[0m-899a-30bb20… ┆ \u001b[1;36m2\u001b[0m   ┆ Canada │\n",
       "│ 65d054da-b302-\u001b[1;36m4728\u001b[0m-aac0-8a1698… ┆ \u001b[1;36m0\u001b[0m   ┆ USA    │\n",
       "│ 65d054da-b302-\u001b[1;36m4728\u001b[0m-aac0-8a1698… ┆ \u001b[1;36m1\u001b[0m   ┆ Canada │\n",
       "│ 5f96952f-62aa-46da-b2e4-842a90… ┆ \u001b[1;36m0\u001b[0m   ┆ USA    │\n",
       "│ 5f96952f-62aa-46da-b2e4-842a90… ┆ \u001b[1;36m1\u001b[0m   ┆ Mexico │\n",
       "└─────────────────────────────────┴─────┴────────┘"
      ]
     },
     "execution_count": 8,
     "metadata": {},
     "output_type": "execute_result"
    }
   ],
   "source": [
    "import polars as pl\n",
    "\n",
    "pl.read_database(\"SELECT * FROM schema_Organization_countries\", db.engine)"
   ]
  },
  {
   "cell_type": "code",
   "execution_count": null,
   "metadata": {},
   "outputs": [
    {
     "name": "stderr",
     "output_type": "stream",
     "text": [
      "Loading: `Search`: 100%|██████████| 1/1 [00:00<00:00, 65.49it/s]\n",
      "Loading: `Organization`: 100%|██████████| 3/3 [00:00<00:00, 33.89it/s]\n",
      "Loading: `Project`: 100%|██████████| 3/3 [00:00<00:00, 117.47it/s]\n",
      "Loading: `SearchResult`: 100%|██████████| 3/3 [00:00<00:00, 136.32it/s]\n",
      "Loading: `Task`: 100%|██████████| 6/6 [00:00<00:00, 157.84it/s]\n",
      "Loading: `User`: 100%|██████████| 6/6 [00:00<00:00, 168.77it/s]\n",
      "Loading: `User`: 100%|██████████| 7/7 [00:00<00:00, 22.67it/s]\n",
      "Loading: `Membership`: 100%|██████████| 7/7 [00:00<00:00, 148.90it/s]\n",
      "Post-loading: `User`: 100%|██████████| 6/6 [00:00<00:00, 175.92it/s]\n",
      "Post-loading: `Assignment`: 100%|██████████| 6/6 [00:00<00:00, 159.93it/s]\n"
     ]
    }
   ],
   "source": [
    "import warnings\n",
    "\n",
    "with warnings.catch_warnings():\n",
    "  warnings.simplefilter(\"error\")\n",
    "  with cProfile.Profile() as pr:\n",
    "    db2 = DataBase(\n",
    "      schema=TestSchema,\n",
    "      # url=Path(\"./test.xlsx\")\n",
    "    )\n",
    "    rec = await data_source.to_db([data], db=db2)\n",
    "\n",
    "    stats = pstats.Stats(pr)"
   ]
  },
  {
   "cell_type": "code",
   "execution_count": null,
   "metadata": {},
   "outputs": [
    {
     "data": {
      "text/html": [
       "<pre style=\"white-space:pre;overflow-x:auto;line-height:normal;font-family:Menlo,'DejaVu Sans Mono',consolas,'Courier New',monospace\"></pre>\n"
      ],
      "text/plain": []
     },
     "metadata": {},
     "output_type": "display_data"
    },
    {
     "data": {
      "text/plain": [
       "\u001b[32m'1f90a58f-a520-4527-9c52-07f25dd33bad'\u001b[0m"
      ]
     },
     "execution_count": 11,
     "metadata": {},
     "output_type": "execute_result"
    }
   ],
   "source": [
    "user_key_0 = db[User].keys()[0]\n",
    "user_key_0"
   ]
  },
  {
   "cell_type": "code",
   "execution_count": null,
   "metadata": {},
   "outputs": [],
   "source": [
    "del db[User][user_key_0]"
   ]
  },
  {
   "cell_type": "code",
   "execution_count": null,
   "metadata": {},
   "outputs": [
    {
     "data": {
      "text/html": [
       "<pre style=\"white-space:pre;overflow-x:auto;line-height:normal;font-family:Menlo,'DejaVu Sans Mono',consolas,'Courier New',monospace\"></pre>\n"
      ],
      "text/plain": []
     },
     "metadata": {},
     "output_type": "display_data"
    },
    {
     "data": {
      "text/html": [
       "<div><style>\n",
       ".dataframe > thead > tr,\n",
       ".dataframe > tbody > tr {\n",
       "  text-align: right;\n",
       "  white-space: pre-wrap;\n",
       "}\n",
       "</style>\n",
       "<small>shape: (2, 3)</small><table border=\"1\" class=\"dataframe\"><thead><tr><th>_id</th><th>name</th><th>age</th></tr><tr><td>str</td><td>str</td><td>i64</td></tr></thead><tbody><tr><td>&quot;4f4f0578-e7d4-4d92-882c-73f02d…</td><td>&quot;John&quot;</td><td>31</td></tr><tr><td>&quot;dc671c32-892c-4008-af31-9ada14…</td><td>&quot;Jane&quot;</td><td>56</td></tr></tbody></table></div>"
      ],
      "text/plain": [
       "\n",
       "shape: \u001b[1m(\u001b[0m\u001b[1;36m2\u001b[0m, \u001b[1;36m3\u001b[0m\u001b[1m)\u001b[0m\n",
       "┌─────────────────────────────────┬──────┬─────┐\n",
       "│ _id                             ┆ name ┆ age │\n",
       "│ ---                             ┆ ---  ┆ --- │\n",
       "│ str                             ┆ str  ┆ i64 │\n",
       "╞═════════════════════════════════╪══════╪═════╡\n",
       "│ 4f4f0578-e7d4-4d92-882c-73f02d… ┆ John ┆ \u001b[1;36m31\u001b[0m  │\n",
       "│ dc671c32-892c-\u001b[1;36m4008\u001b[0m-af31-9ada14… ┆ Jane ┆ \u001b[1;36m56\u001b[0m  │\n",
       "└─────────────────────────────────┴──────┴─────┘"
      ]
     },
     "execution_count": 13,
     "metadata": {},
     "output_type": "execute_result"
    }
   ],
   "source": [
    "db[User].load()"
   ]
  },
  {
   "cell_type": "code",
   "execution_count": null,
   "metadata": {},
   "outputs": [
    {
     "data": {
      "text/html": [
       "<pre style=\"white-space:pre;overflow-x:auto;line-height:normal;font-family:Menlo,'DejaVu Sans Mono',consolas,'Courier New',monospace\"></pre>\n"
      ],
      "text/plain": []
     },
     "metadata": {},
     "output_type": "display_data"
    },
    {
     "data": {
      "text/html": [
       "<div><style>\n",
       ".dataframe > thead > tr,\n",
       ".dataframe > tbody > tr {\n",
       "  text-align: right;\n",
       "  white-space: pre-wrap;\n",
       "}\n",
       "</style>\n",
       "<small>shape: (3, 3)</small><table border=\"1\" class=\"dataframe\"><thead><tr><th>_id</th><th>name</th><th>age</th></tr><tr><td>str</td><td>str</td><td>i64</td></tr></thead><tbody><tr><td>&quot;16c6b407-45ff-4d35-b12b-6cf1d0…</td><td>&quot;John&quot;</td><td>31</td></tr><tr><td>&quot;7b540138-97c2-43ac-ab0d-578171…</td><td>&quot;Jane&quot;</td><td>56</td></tr><tr><td>&quot;8b21ee7b-85ec-41db-91a7-bc86b4…</td><td>&quot;Jack&quot;</td><td>66</td></tr></tbody></table></div>"
      ],
      "text/plain": [
       "\n",
       "shape: \u001b[1m(\u001b[0m\u001b[1;36m3\u001b[0m, \u001b[1;36m3\u001b[0m\u001b[1m)\u001b[0m\n",
       "┌─────────────────────────────────┬──────┬─────┐\n",
       "│ _id                             ┆ name ┆ age │\n",
       "│ ---                             ┆ ---  ┆ --- │\n",
       "│ str                             ┆ str  ┆ i64 │\n",
       "╞═════════════════════════════════╪══════╪═════╡\n",
       "│ 16c6b407-45ff-4d35-b12b-6cf1d0… ┆ John ┆ \u001b[1;36m31\u001b[0m  │\n",
       "│ 7b540138-97c2-43ac-ab0d-\u001b[1;36m578171\u001b[0m… ┆ Jane ┆ \u001b[1;36m56\u001b[0m  │\n",
       "│ 8b21ee7b-85ec-41db-91a7-bc86b4… ┆ Jack ┆ \u001b[1;36m66\u001b[0m  │\n",
       "└─────────────────────────────────┴──────┴─────┘"
      ]
     },
     "execution_count": 14,
     "metadata": {},
     "output_type": "execute_result"
    }
   ],
   "source": [
    "db2[User].load()"
   ]
  },
  {
   "cell_type": "code",
   "execution_count": 15,
   "metadata": {},
   "outputs": [
    {
     "data": {
      "text/html": [
       "<pre style=\"white-space:pre;overflow-x:auto;line-height:normal;font-family:Menlo,'DejaVu Sans Mono',consolas,'Courier New',monospace\"></pre>\n"
      ],
      "text/plain": []
     },
     "metadata": {},
     "output_type": "display_data"
    },
    {
     "data": {
      "text/plain": [
       "\n",
       "\u001b[1m{\u001b[0m\n",
       "    \u001b[32m'contents'\u001b[0m: \u001b[1m{\u001b[0m\n",
       "        \u001b[32m'records'\u001b[0m: \u001b[1m{\u001b[0m\n",
       "            \u001b[32m'schema.Project'\u001b[0m: \u001b[1;36m3\u001b[0m,\n",
       "            \u001b[32m'schema.Organization'\u001b[0m: \u001b[1;36m6\u001b[0m,\n",
       "            \u001b[32m'schema.Task'\u001b[0m: \u001b[1;36m12\u001b[0m,\n",
       "            \u001b[32m'schema.User'\u001b[0m: \u001b[1;36m5\u001b[0m,\n",
       "            \u001b[32m'schema.Search'\u001b[0m: \u001b[1;36m1\u001b[0m\n",
       "        \u001b[1m}\u001b[0m,\n",
       "        \u001b[32m'arrays'\u001b[0m: \u001b[1m{\u001b[0m\u001b[32m'schema.Organization.countries'\u001b[0m: \u001b[1;36m14\u001b[0m\u001b[1m}\u001b[0m,\n",
       "        \u001b[32m'relations'\u001b[0m: \u001b[1m{\u001b[0m\u001b[32m'schema.SearchResult'\u001b[0m: \u001b[1;36m3\u001b[0m, \u001b[32m'schema.Assignment'\u001b[0m: \u001b[1;36m12\u001b[0m, \u001b[32m'schema.Membership'\u001b[0m: \u001b[1;36m14\u001b[0m\u001b[1m}\u001b[0m\n",
       "    \u001b[1m}\u001b[0m,\n",
       "    \u001b[32m'backend'\u001b[0m: \u001b[3;35mNone\u001b[0m,\n",
       "    \u001b[32m'overlay'\u001b[0m: \u001b[32m'upsert/\u001b[0m\u001b[32m(\u001b[0m\u001b[32ma7d8c35b1d|0813e81f13\u001b[0m\u001b[32m)\u001b[0m\u001b[32m/c9ba0523'\u001b[0m\n",
       "\u001b[1m}\u001b[0m"
      ]
     },
     "execution_count": 15,
     "metadata": {},
     "output_type": "execute_result"
    }
   ],
   "source": [
    "db3 = db | db2\n",
    "db3.describe()"
   ]
  },
  {
   "cell_type": "code",
   "execution_count": 16,
   "metadata": {},
   "outputs": [
    {
     "data": {
      "text/html": [
       "<pre style=\"white-space:pre;overflow-x:auto;line-height:normal;font-family:Menlo,'DejaVu Sans Mono',consolas,'Courier New',monospace\"></pre>\n"
      ],
      "text/plain": []
     },
     "metadata": {},
     "output_type": "display_data"
    },
    {
     "data": {
      "text/plain": [
       "\n",
       "\u001b[1m{\u001b[0m\n",
       "    \u001b[32m'contents'\u001b[0m: \u001b[1m{\u001b[0m\n",
       "        \u001b[32m'records'\u001b[0m: \u001b[1m{\u001b[0m\n",
       "            \u001b[32m'schema.Project'\u001b[0m: \u001b[1;36m3\u001b[0m,\n",
       "            \u001b[32m'schema.Organization'\u001b[0m: \u001b[1;36m6\u001b[0m,\n",
       "            \u001b[32m'schema.Task'\u001b[0m: \u001b[1;36m12\u001b[0m,\n",
       "            \u001b[32m'schema.User'\u001b[0m: \u001b[1;36m5\u001b[0m,\n",
       "            \u001b[32m'schema.Search'\u001b[0m: \u001b[1;36m1\u001b[0m\n",
       "        \u001b[1m}\u001b[0m,\n",
       "        \u001b[32m'arrays'\u001b[0m: \u001b[1m{\u001b[0m\u001b[32m'schema.Organization.countries'\u001b[0m: \u001b[1;36m14\u001b[0m\u001b[1m}\u001b[0m,\n",
       "        \u001b[32m'relations'\u001b[0m: \u001b[1m{\u001b[0m\u001b[32m'schema.SearchResult'\u001b[0m: \u001b[1;36m3\u001b[0m, \u001b[32m'schema.Assignment'\u001b[0m: \u001b[1;36m12\u001b[0m, \u001b[32m'schema.Membership'\u001b[0m: \u001b[1;36m14\u001b[0m\u001b[1m}\u001b[0m\n",
       "    \u001b[1m}\u001b[0m,\n",
       "    \u001b[32m'backend'\u001b[0m: \u001b[3;35mNone\u001b[0m,\n",
       "    \u001b[32m'overlay'\u001b[0m: \u001b[32m'insert/\u001b[0m\u001b[32m(\u001b[0m\u001b[32ma7d8c35b1d<<0813e81f13\u001b[0m\u001b[32m)\u001b[0m\u001b[32m/a244af2f'\u001b[0m\n",
       "\u001b[1m}\u001b[0m"
      ]
     },
     "execution_count": 16,
     "metadata": {},
     "output_type": "execute_result"
    }
   ],
   "source": [
    "db4 = db << db2\n",
    "db4.describe()"
   ]
  },
  {
   "cell_type": "code",
   "execution_count": null,
   "metadata": {},
   "outputs": [
    {
     "data": {
      "text/html": [
       "<pre style=\"white-space:pre;overflow-x:auto;line-height:normal;font-family:Menlo,'DejaVu Sans Mono',consolas,'Courier New',monospace\"></pre>\n"
      ],
      "text/plain": []
     },
     "metadata": {},
     "output_type": "display_data"
    },
    {
     "data": {
      "text/plain": [
       "\n",
       "\u001b[1m{\u001b[0m\n",
       "    \u001b[32m'contents'\u001b[0m: \u001b[1m{\u001b[0m\n",
       "        \u001b[32m'records'\u001b[0m: \u001b[1m{\u001b[0m\n",
       "            \u001b[32m'schema.Project'\u001b[0m: \u001b[1;36m3\u001b[0m,\n",
       "            \u001b[32m'schema.Organization'\u001b[0m: \u001b[1;36m3\u001b[0m,\n",
       "            \u001b[32m'schema.Task'\u001b[0m: \u001b[1;36m6\u001b[0m,\n",
       "            \u001b[32m'schema.User'\u001b[0m: \u001b[1;36m2\u001b[0m,\n",
       "            \u001b[32m'schema.Search'\u001b[0m: \u001b[1;36m1\u001b[0m\n",
       "        \u001b[1m}\u001b[0m,\n",
       "        \u001b[32m'arrays'\u001b[0m: \u001b[1m{\u001b[0m\u001b[32m'schema.Organization.countries'\u001b[0m: \u001b[1;36m7\u001b[0m\u001b[1m}\u001b[0m,\n",
       "        \u001b[32m'relations'\u001b[0m: \u001b[1m{\u001b[0m\u001b[32m'schema.SearchResult'\u001b[0m: \u001b[1;36m3\u001b[0m, \u001b[32m'schema.Assignment'\u001b[0m: \u001b[1;36m6\u001b[0m, \u001b[32m'schema.Membership'\u001b[0m: \u001b[1;36m7\u001b[0m\u001b[1m}\u001b[0m\n",
       "    \u001b[1m}\u001b[0m,\n",
       "    \u001b[32m'backend'\u001b[0m: \u001b[3;35mNone\u001b[0m,\n",
       "    \u001b[32m'overlay'\u001b[0m: \u001b[32m'update/\u001b[0m\u001b[32m(\u001b[0m\u001b[32ma7d8c35b1d>>0813e81f13\u001b[0m\u001b[32m)\u001b[0m\u001b[32m/6d2fe804'\u001b[0m\n",
       "\u001b[1m}\u001b[0m"
      ]
     },
     "execution_count": 17,
     "metadata": {},
     "output_type": "execute_result"
    }
   ],
   "source": [
    "db5 = db ^ db2\n",
    "db5.describe()"
   ]
  }
 ],
 "metadata": {
  "kernelspec": {
   "display_name": ".venv",
   "language": "python",
   "name": "python3"
  },
  "language_info": {
   "codemirror_mode": {
    "name": "ipython",
    "version": 3
   },
   "file_extension": ".py",
   "mimetype": "text/x-python",
   "name": "python",
   "nbconvert_exporter": "python",
   "pygments_lexer": "ipython3",
   "version": "3.12.4"
  }
 },
 "nbformat": 4,
 "nbformat_minor": 2
}

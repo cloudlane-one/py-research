{
 "cells": [
  {
   "cell_type": "code",
   "execution_count": 1,
   "metadata": {},
   "outputs": [],
   "source": [
    "from __future__ import annotations\n",
    "\n",
    "import cProfile\n",
    "import pstats\n",
    "from asyncio import sleep"
   ]
  },
  {
   "cell_type": "code",
   "execution_count": 2,
   "metadata": {},
   "outputs": [],
   "source": [
    "from py_research.db import (\n",
    "    DataSource,\n",
    "    TableMap,\n",
    "    SubTableMap,\n",
    "    SubMap,\n",
    "    SelIndex,\n",
    "    DataBase\n",
    ")"
   ]
  },
  {
   "cell_type": "code",
   "execution_count": 3,
   "metadata": {},
   "outputs": [],
   "source": [
    "from schema import (\n",
    "    Search,\n",
    "    Project,\n",
    "    Task,\n",
    "    User,\n",
    "    Membership,\n",
    "    Organization,\n",
    "    SearchResult,\n",
    "    TestSchema,\n",
    ")"
   ]
  },
  {
   "cell_type": "code",
   "execution_count": 4,
   "metadata": {},
   "outputs": [],
   "source": [
    "from typing import Any\n",
    "\n",
    "\n",
    "async def _dummy_loader(obj: dict[str, Any]) -> dict:\n",
    "    await sleep(0.2)\n",
    "    return {\n",
    "        'name': obj[\"name\"],\n",
    "        'role': obj[\"role\"],\n",
    "        'age': obj[\"age\"] + 1\n",
    "    }"
   ]
  },
  {
   "cell_type": "code",
   "execution_count": 5,
   "metadata": {},
   "outputs": [],
   "source": [
    "data_source = DataSource(\n",
    "    target=Search,\n",
    "    push={\n",
    "        \"resultCount\": Search.result_count,\n",
    "        \"search\": Search.term,\n",
    "        \"results\": SubTableMap(\n",
    "            target=Search.results,\n",
    "            rel_map=TableMap(push={SearchResult.score}),\n",
    "            push={\n",
    "                \"project_name\": Project.name,\n",
    "                \"project_start\": Project.start,\n",
    "                \"project_end\": Project.end,\n",
    "                \"project_status\": Project.status,\n",
    "                \"tasks\": SubTableMap(\n",
    "                    target=Project.tasks,\n",
    "                    push={\n",
    "                        \"task_name\": Task.name,\n",
    "                        \"task_assignees\": SubTableMap(\n",
    "                            target=Task.assignees,\n",
    "                            push=User.name,\n",
    "                            match_by=[User.name],\n",
    "                        ),\n",
    "                        \"task_status\": Task.status,\n",
    "                    },\n",
    "                ),\n",
    "                \"members\": SubTableMap(\n",
    "                    target=Project.members,\n",
    "                    loader=_dummy_loader,\n",
    "                    push={User.name, User.age},\n",
    "                    match_by=[User.name],\n",
    "                    rel_map=TableMap(\n",
    "                        push={\n",
    "                            Membership.role,\n",
    "                        },\n",
    "                    ),\n",
    "                ),\n",
    "            },\n",
    "            pull={\n",
    "                Project.org: SubMap(\n",
    "                    push={\n",
    "                        \"organization_name\": Organization.name,\n",
    "                        \"organization_address\": Organization.address,\n",
    "                        \"organization_city\": Organization.city,\n",
    "                        \"organization_countries\": Organization.countries,\n",
    "                    },\n",
    "                    match_by=[Organization.name, Organization.city],\n",
    "                ),\n",
    "                Project.number: SelIndex()\n",
    "            },\n",
    "        ),\n",
    "    },\n",
    ")"
   ]
  },
  {
   "cell_type": "code",
   "execution_count": 6,
   "metadata": {},
   "outputs": [],
   "source": [
    "from datetime import date\n",
    "\n",
    "\n",
    "data = {\n",
    "    \"resultCount\": 3,\n",
    "    \"search\": \"test\",\n",
    "    \"results\": [\n",
    "        {\n",
    "            \"score\": 0.9,\n",
    "            \"project_name\": \"baking cake\",\n",
    "            \"project_start\": date(2020, 1, 1),\n",
    "            \"project_end\": date(2020, 1, 4),\n",
    "            \"project_status\": \"done\",\n",
    "            \"organization_name\": \"Bakery\",\n",
    "            \"organization_address\": \"Main Street 1\",\n",
    "            \"organization_city\": \"Bakerville\",\n",
    "            \"organization_countries\": [\"USA\", \"Mexico\", \"Canada\"],\n",
    "            \"tasks\": [\n",
    "                {\n",
    "                    \"task_name\": \"task1\",\n",
    "                    \"task_assignees\": [\"John\"],\n",
    "                    \"task_status\": \"todo\",\n",
    "                },\n",
    "                {\n",
    "                    \"task_name\": \"task2\",\n",
    "                    \"task_assignees\": [\"John\"],\n",
    "                    \"task_status\": \"todo\",\n",
    "                },\n",
    "                {\n",
    "                    \"task_name\": \"task3\",\n",
    "                    \"task_assignees\": [\"Jane\"],\n",
    "                    \"task_status\": \"done\",\n",
    "                },\n",
    "            ],\n",
    "            \"members\": [\n",
    "                {\"name\": \"John\", \"role\": \"baker\", \"age\": 30},\n",
    "                {\"name\": \"John\", \"role\": \"manager\", \"age\": 40},\n",
    "            ],\n",
    "        },\n",
    "        {\n",
    "            \"score\": 0.8,\n",
    "            \"project_name\": \"cleaning shoes\",\n",
    "            \"project_start\": date(2020, 1, 2),\n",
    "            \"project_end\": date(2020, 1, 5),\n",
    "            \"project_status\": \"done\",\n",
    "            \"organization_name\": \"Shoe Shop\",\n",
    "            \"organization_address\": \"Main Street 2\",\n",
    "            \"organization_city\": \"Shoetown\",\n",
    "            \"organization_countries\": [\"USA\", \"Mexico\"],\n",
    "            \"tasks\": [\n",
    "                {\n",
    "                    \"task_name\": \"task4\",\n",
    "                    \"task_assignees\": [\"John\"],\n",
    "                    \"task_status\": \"todo\",\n",
    "                },\n",
    "                {\n",
    "                    \"task_name\": \"task5\",\n",
    "                    \"task_assignees\": [\"Jane\"],\n",
    "                    \"task_status\": \"todo\",\n",
    "                },\n",
    "            ],\n",
    "            \"members\": [\n",
    "                {\"name\": \"John\", \"role\": \"cleaner\", \"age\": 25},\n",
    "                {\"name\": \"Jane\", \"role\": \"manager\", \"age\": 35},\n",
    "            ],\n",
    "        },\n",
    "        {\n",
    "            \"score\": 0.7,\n",
    "            \"project_name\": \"fixing cars\",\n",
    "            \"project_start\": date(2020, 1, 3),\n",
    "            \"project_end\": date(2020, 1, 6),\n",
    "            \"project_status\": \"started\",\n",
    "            \"organization_name\": \"Car Shop\",\n",
    "            \"organization_address\": \"Main Street 3\",\n",
    "            \"organization_city\": \"Cartown\",\n",
    "            \"organization_countries\": [\"USA\", \"Canada\"],\n",
    "            \"tasks\": [\n",
    "                {\n",
    "                    \"task_name\": \"task6\",\n",
    "                    \"task_assignees\": [\"John\"],\n",
    "                    \"task_status\": \"todo\",\n",
    "                }\n",
    "            ],\n",
    "            \"members\": [\n",
    "                {\"name\": \"John\", \"role\": \"mechanic\", \"age\": 45},\n",
    "                {\"name\": \"Jane\", \"role\": \"manager\", \"age\": 55},\n",
    "                {\"name\": \"Jack\", \"role\": \"manager\", \"age\": 65},\n",
    "            ],\n",
    "        },\n",
    "    ],\n",
    "}"
   ]
  },
  {
   "cell_type": "code",
   "execution_count": 7,
   "metadata": {},
   "outputs": [
    {
     "name": "stderr",
     "output_type": "stream",
     "text": [
      "Loading: `Search`: 100%|██████████| 1/1 [00:00<00:00, 22.59it/s]\n",
      "Loading: `Organization`: 100%|██████████| 3/3 [00:00<00:00, 38.68it/s]\n",
      "Loading: `Project`: 100%|██████████| 3/3 [00:00<00:00, 97.08it/s]\n",
      "Loading: `SearchResult`: 100%|██████████| 3/3 [00:00<00:00, 129.18it/s]\n",
      "Loading: `Task`: 100%|██████████| 6/6 [00:00<00:00, 195.49it/s]\n",
      "Loading: `User`: 100%|██████████| 6/6 [00:00<00:00, 144.11it/s]\n",
      "Loading: `User`: 100%|██████████| 7/7 [00:00<00:00, 20.45it/s]\n",
      "Loading: `Membership`: 100%|██████████| 7/7 [00:00<00:00, 172.59it/s]\n",
      "Post-loading: `User`: 100%|██████████| 6/6 [00:00<00:00, 184.09it/s]\n",
      "Post-loading: `Assignment`: 100%|██████████| 6/6 [00:00<00:00, 162.12it/s]\n"
     ]
    }
   ],
   "source": [
    "from pathlib import Path\n",
    "import warnings\n",
    "\n",
    "with warnings.catch_warnings():\n",
    "  warnings.simplefilter(\"error\")\n",
    "  with cProfile.Profile() as pr:\n",
    "    db = DataBase(\n",
    "      schema=TestSchema,\n",
    "      # url=Path(\"./test.xlsx\")\n",
    "    )\n",
    "    rec = await data_source.load([data], db=db)\n",
    "\n",
    "    stats = pstats.Stats(pr)"
   ]
  },
  {
   "cell_type": "code",
   "execution_count": 8,
   "metadata": {},
   "outputs": [
    {
     "data": {
      "text/html": [
       "<pre style=\"white-space:pre;overflow-x:auto;line-height:normal;font-family:Menlo,'DejaVu Sans Mono',consolas,'Courier New',monospace\"></pre>\n"
      ],
      "text/plain": []
     },
     "metadata": {},
     "output_type": "display_data"
    },
    {
     "data": {
      "text/html": [
       "<div><style>\n",
       ".dataframe > thead > tr,\n",
       ".dataframe > tbody > tr {\n",
       "  text-align: right;\n",
       "  white-space: pre-wrap;\n",
       "}\n",
       "</style>\n",
       "<small>shape: (7, 3)</small><table border=\"1\" class=\"dataframe\"><thead><tr><th>_from__id</th><th>idx</th><th>value</th></tr><tr><td>str</td><td>i64</td><td>str</td></tr></thead><tbody><tr><td>&quot;294904d0-e719-4599-899a-30bb20…</td><td>0</td><td>&quot;USA&quot;</td></tr><tr><td>&quot;294904d0-e719-4599-899a-30bb20…</td><td>1</td><td>&quot;Mexico&quot;</td></tr><tr><td>&quot;294904d0-e719-4599-899a-30bb20…</td><td>2</td><td>&quot;Canada&quot;</td></tr><tr><td>&quot;65d054da-b302-4728-aac0-8a1698…</td><td>0</td><td>&quot;USA&quot;</td></tr><tr><td>&quot;65d054da-b302-4728-aac0-8a1698…</td><td>1</td><td>&quot;Canada&quot;</td></tr><tr><td>&quot;5f96952f-62aa-46da-b2e4-842a90…</td><td>0</td><td>&quot;USA&quot;</td></tr><tr><td>&quot;5f96952f-62aa-46da-b2e4-842a90…</td><td>1</td><td>&quot;Mexico&quot;</td></tr></tbody></table></div>"
      ],
      "text/plain": [
       "\n",
       "shape: \u001b[1m(\u001b[0m\u001b[1;36m7\u001b[0m, \u001b[1;36m3\u001b[0m\u001b[1m)\u001b[0m\n",
       "┌─────────────────────────────────┬─────┬────────┐\n",
       "│ _from__id                       ┆ idx ┆ value  │\n",
       "│ ---                             ┆ --- ┆ ---    │\n",
       "│ str                             ┆ i64 ┆ str    │\n",
       "╞═════════════════════════════════╪═════╪════════╡\n",
       "│ 294904d0-e719-\u001b[1;36m4599\u001b[0m-899a-30bb20… ┆ \u001b[1;36m0\u001b[0m   ┆ USA    │\n",
       "│ 294904d0-e719-\u001b[1;36m4599\u001b[0m-899a-30bb20… ┆ \u001b[1;36m1\u001b[0m   ┆ Mexico │\n",
       "│ 294904d0-e719-\u001b[1;36m4599\u001b[0m-899a-30bb20… ┆ \u001b[1;36m2\u001b[0m   ┆ Canada │\n",
       "│ 65d054da-b302-\u001b[1;36m4728\u001b[0m-aac0-8a1698… ┆ \u001b[1;36m0\u001b[0m   ┆ USA    │\n",
       "│ 65d054da-b302-\u001b[1;36m4728\u001b[0m-aac0-8a1698… ┆ \u001b[1;36m1\u001b[0m   ┆ Canada │\n",
       "│ 5f96952f-62aa-46da-b2e4-842a90… ┆ \u001b[1;36m0\u001b[0m   ┆ USA    │\n",
       "│ 5f96952f-62aa-46da-b2e4-842a90… ┆ \u001b[1;36m1\u001b[0m   ┆ Mexico │\n",
       "└─────────────────────────────────┴─────┴────────┘"
      ]
     },
     "execution_count": 8,
     "metadata": {},
     "output_type": "execute_result"
    }
   ],
   "source": [
    "import polars as pl\n",
    "pl.read_database(\n",
    "                'SELECT * FROM schema_Organization_countries', db.engine\n",
    "            )"
   ]
  },
  {
   "cell_type": "code",
   "execution_count": 9,
   "metadata": {},
   "outputs": [
    {
     "name": "stderr",
     "output_type": "stream",
     "text": [
      "Loading: `Search`: 100%|██████████| 1/1 [00:00<00:00, 65.49it/s]\n",
      "Loading: `Organization`: 100%|██████████| 3/3 [00:00<00:00, 33.89it/s]\n",
      "Loading: `Project`: 100%|██████████| 3/3 [00:00<00:00, 117.47it/s]\n",
      "Loading: `SearchResult`: 100%|██████████| 3/3 [00:00<00:00, 136.32it/s]\n",
      "Loading: `Task`: 100%|██████████| 6/6 [00:00<00:00, 157.84it/s]\n",
      "Loading: `User`: 100%|██████████| 6/6 [00:00<00:00, 168.77it/s]\n",
      "Loading: `User`: 100%|██████████| 7/7 [00:00<00:00, 22.67it/s]\n",
      "Loading: `Membership`: 100%|██████████| 7/7 [00:00<00:00, 148.90it/s]\n",
      "Post-loading: `User`: 100%|██████████| 6/6 [00:00<00:00, 175.92it/s]\n",
      "Post-loading: `Assignment`: 100%|██████████| 6/6 [00:00<00:00, 159.93it/s]\n"
     ]
    }
   ],
   "source": [
    "from pathlib import Path\n",
    "import warnings\n",
    "\n",
    "with warnings.catch_warnings():\n",
    "  warnings.simplefilter(\"error\")\n",
    "  with cProfile.Profile() as pr:\n",
    "    db2 = DataBase(\n",
    "      schema=TestSchema,\n",
    "      # url=Path(\"./test.xlsx\")\n",
    "    )\n",
    "    rec = await data_source.load([data], db=db2)\n",
    "\n",
    "    stats = pstats.Stats(pr)"
   ]
  },
  {
   "cell_type": "code",
   "execution_count": 10,
   "metadata": {},
   "outputs": [],
   "source": [
    "# db[User].extract()"
   ]
  },
  {
   "cell_type": "code",
   "execution_count": 11,
   "metadata": {},
   "outputs": [
    {
     "data": {
      "text/html": [
       "<pre style=\"white-space:pre;overflow-x:auto;line-height:normal;font-family:Menlo,'DejaVu Sans Mono',consolas,'Courier New',monospace\"></pre>\n"
      ],
      "text/plain": []
     },
     "metadata": {},
     "output_type": "display_data"
    },
    {
     "data": {
      "text/plain": [
       "\u001b[32m'1f90a58f-a520-4527-9c52-07f25dd33bad'\u001b[0m"
      ]
     },
     "execution_count": 11,
     "metadata": {},
     "output_type": "execute_result"
    }
   ],
   "source": [
    "db[User].keys()[0]"
   ]
  },
  {
   "cell_type": "code",
   "execution_count": 12,
   "metadata": {},
   "outputs": [],
   "source": [
    "del db[User][db[User].keys()[0]]"
   ]
  },
  {
   "cell_type": "code",
   "execution_count": 13,
   "metadata": {},
   "outputs": [
    {
     "data": {
      "text/html": [
       "<pre style=\"white-space:pre;overflow-x:auto;line-height:normal;font-family:Menlo,'DejaVu Sans Mono',consolas,'Courier New',monospace\"></pre>\n"
      ],
      "text/plain": []
     },
     "metadata": {},
     "output_type": "display_data"
    },
    {
     "data": {
      "text/html": [
       "<div><style>\n",
       ".dataframe > thead > tr,\n",
       ".dataframe > tbody > tr {\n",
       "  text-align: right;\n",
       "  white-space: pre-wrap;\n",
       "}\n",
       "</style>\n",
       "<small>shape: (2, 3)</small><table border=\"1\" class=\"dataframe\"><thead><tr><th>_id</th><th>name</th><th>age</th></tr><tr><td>str</td><td>str</td><td>i64</td></tr></thead><tbody><tr><td>&quot;4f4f0578-e7d4-4d92-882c-73f02d…</td><td>&quot;John&quot;</td><td>31</td></tr><tr><td>&quot;dc671c32-892c-4008-af31-9ada14…</td><td>&quot;Jane&quot;</td><td>56</td></tr></tbody></table></div>"
      ],
      "text/plain": [
       "\n",
       "shape: \u001b[1m(\u001b[0m\u001b[1;36m2\u001b[0m, \u001b[1;36m3\u001b[0m\u001b[1m)\u001b[0m\n",
       "┌─────────────────────────────────┬──────┬─────┐\n",
       "│ _id                             ┆ name ┆ age │\n",
       "│ ---                             ┆ ---  ┆ --- │\n",
       "│ str                             ┆ str  ┆ i64 │\n",
       "╞═════════════════════════════════╪══════╪═════╡\n",
       "│ 4f4f0578-e7d4-4d92-882c-73f02d… ┆ John ┆ \u001b[1;36m31\u001b[0m  │\n",
       "│ dc671c32-892c-\u001b[1;36m4008\u001b[0m-af31-9ada14… ┆ Jane ┆ \u001b[1;36m56\u001b[0m  │\n",
       "└─────────────────────────────────┴──────┴─────┘"
      ]
     },
     "execution_count": 13,
     "metadata": {},
     "output_type": "execute_result"
    }
   ],
   "source": [
    "db[User].df()"
   ]
  },
  {
   "cell_type": "code",
   "execution_count": 14,
   "metadata": {},
   "outputs": [
    {
     "data": {
      "text/html": [
       "<pre style=\"white-space:pre;overflow-x:auto;line-height:normal;font-family:Menlo,'DejaVu Sans Mono',consolas,'Courier New',monospace\"></pre>\n"
      ],
      "text/plain": []
     },
     "metadata": {},
     "output_type": "display_data"
    },
    {
     "data": {
      "text/html": [
       "<div><style>\n",
       ".dataframe > thead > tr,\n",
       ".dataframe > tbody > tr {\n",
       "  text-align: right;\n",
       "  white-space: pre-wrap;\n",
       "}\n",
       "</style>\n",
       "<small>shape: (3, 3)</small><table border=\"1\" class=\"dataframe\"><thead><tr><th>_id</th><th>name</th><th>age</th></tr><tr><td>str</td><td>str</td><td>i64</td></tr></thead><tbody><tr><td>&quot;16c6b407-45ff-4d35-b12b-6cf1d0…</td><td>&quot;John&quot;</td><td>31</td></tr><tr><td>&quot;7b540138-97c2-43ac-ab0d-578171…</td><td>&quot;Jane&quot;</td><td>56</td></tr><tr><td>&quot;8b21ee7b-85ec-41db-91a7-bc86b4…</td><td>&quot;Jack&quot;</td><td>66</td></tr></tbody></table></div>"
      ],
      "text/plain": [
       "\n",
       "shape: \u001b[1m(\u001b[0m\u001b[1;36m3\u001b[0m, \u001b[1;36m3\u001b[0m\u001b[1m)\u001b[0m\n",
       "┌─────────────────────────────────┬──────┬─────┐\n",
       "│ _id                             ┆ name ┆ age │\n",
       "│ ---                             ┆ ---  ┆ --- │\n",
       "│ str                             ┆ str  ┆ i64 │\n",
       "╞═════════════════════════════════╪══════╪═════╡\n",
       "│ 16c6b407-45ff-4d35-b12b-6cf1d0… ┆ John ┆ \u001b[1;36m31\u001b[0m  │\n",
       "│ 7b540138-97c2-43ac-ab0d-\u001b[1;36m578171\u001b[0m… ┆ Jane ┆ \u001b[1;36m56\u001b[0m  │\n",
       "│ 8b21ee7b-85ec-41db-91a7-bc86b4… ┆ Jack ┆ \u001b[1;36m66\u001b[0m  │\n",
       "└─────────────────────────────────┴──────┴─────┘"
      ]
     },
     "execution_count": 14,
     "metadata": {},
     "output_type": "execute_result"
    }
   ],
   "source": [
    "db2[User].df()"
   ]
  },
  {
   "cell_type": "code",
   "execution_count": 15,
   "metadata": {},
   "outputs": [
    {
     "data": {
      "text/html": [
       "<pre style=\"white-space:pre;overflow-x:auto;line-height:normal;font-family:Menlo,'DejaVu Sans Mono',consolas,'Courier New',monospace\"></pre>\n"
      ],
      "text/plain": []
     },
     "metadata": {},
     "output_type": "display_data"
    },
    {
     "data": {
      "text/plain": [
       "\n",
       "\u001b[1m{\u001b[0m\n",
       "    \u001b[32m'contents'\u001b[0m: \u001b[1m{\u001b[0m\n",
       "        \u001b[32m'records'\u001b[0m: \u001b[1m{\u001b[0m\n",
       "            \u001b[32m'schema.Project'\u001b[0m: \u001b[1;36m3\u001b[0m,\n",
       "            \u001b[32m'schema.Organization'\u001b[0m: \u001b[1;36m6\u001b[0m,\n",
       "            \u001b[32m'schema.Task'\u001b[0m: \u001b[1;36m12\u001b[0m,\n",
       "            \u001b[32m'schema.User'\u001b[0m: \u001b[1;36m5\u001b[0m,\n",
       "            \u001b[32m'schema.Search'\u001b[0m: \u001b[1;36m1\u001b[0m\n",
       "        \u001b[1m}\u001b[0m,\n",
       "        \u001b[32m'arrays'\u001b[0m: \u001b[1m{\u001b[0m\u001b[32m'schema.Organization.countries'\u001b[0m: \u001b[1;36m14\u001b[0m\u001b[1m}\u001b[0m,\n",
       "        \u001b[32m'relations'\u001b[0m: \u001b[1m{\u001b[0m\u001b[32m'schema.SearchResult'\u001b[0m: \u001b[1;36m3\u001b[0m, \u001b[32m'schema.Assignment'\u001b[0m: \u001b[1;36m12\u001b[0m, \u001b[32m'schema.Membership'\u001b[0m: \u001b[1;36m14\u001b[0m\u001b[1m}\u001b[0m\n",
       "    \u001b[1m}\u001b[0m,\n",
       "    \u001b[32m'backend'\u001b[0m: \u001b[3;35mNone\u001b[0m,\n",
       "    \u001b[32m'overlay'\u001b[0m: \u001b[32m'upsert/\u001b[0m\u001b[32m(\u001b[0m\u001b[32ma7d8c35b1d|0813e81f13\u001b[0m\u001b[32m)\u001b[0m\u001b[32m/c9ba0523'\u001b[0m\n",
       "\u001b[1m}\u001b[0m"
      ]
     },
     "execution_count": 15,
     "metadata": {},
     "output_type": "execute_result"
    }
   ],
   "source": [
    "db3 = db | db2\n",
    "db3.describe()"
   ]
  },
  {
   "cell_type": "code",
   "execution_count": 16,
   "metadata": {},
   "outputs": [
    {
     "data": {
      "text/html": [
       "<pre style=\"white-space:pre;overflow-x:auto;line-height:normal;font-family:Menlo,'DejaVu Sans Mono',consolas,'Courier New',monospace\"></pre>\n"
      ],
      "text/plain": []
     },
     "metadata": {},
     "output_type": "display_data"
    },
    {
     "data": {
      "text/plain": [
       "\n",
       "\u001b[1m{\u001b[0m\n",
       "    \u001b[32m'contents'\u001b[0m: \u001b[1m{\u001b[0m\n",
       "        \u001b[32m'records'\u001b[0m: \u001b[1m{\u001b[0m\n",
       "            \u001b[32m'schema.Project'\u001b[0m: \u001b[1;36m3\u001b[0m,\n",
       "            \u001b[32m'schema.Organization'\u001b[0m: \u001b[1;36m6\u001b[0m,\n",
       "            \u001b[32m'schema.Task'\u001b[0m: \u001b[1;36m12\u001b[0m,\n",
       "            \u001b[32m'schema.User'\u001b[0m: \u001b[1;36m5\u001b[0m,\n",
       "            \u001b[32m'schema.Search'\u001b[0m: \u001b[1;36m1\u001b[0m\n",
       "        \u001b[1m}\u001b[0m,\n",
       "        \u001b[32m'arrays'\u001b[0m: \u001b[1m{\u001b[0m\u001b[32m'schema.Organization.countries'\u001b[0m: \u001b[1;36m14\u001b[0m\u001b[1m}\u001b[0m,\n",
       "        \u001b[32m'relations'\u001b[0m: \u001b[1m{\u001b[0m\u001b[32m'schema.SearchResult'\u001b[0m: \u001b[1;36m3\u001b[0m, \u001b[32m'schema.Assignment'\u001b[0m: \u001b[1;36m12\u001b[0m, \u001b[32m'schema.Membership'\u001b[0m: \u001b[1;36m14\u001b[0m\u001b[1m}\u001b[0m\n",
       "    \u001b[1m}\u001b[0m,\n",
       "    \u001b[32m'backend'\u001b[0m: \u001b[3;35mNone\u001b[0m,\n",
       "    \u001b[32m'overlay'\u001b[0m: \u001b[32m'insert/\u001b[0m\u001b[32m(\u001b[0m\u001b[32ma7d8c35b1d<<0813e81f13\u001b[0m\u001b[32m)\u001b[0m\u001b[32m/a244af2f'\u001b[0m\n",
       "\u001b[1m}\u001b[0m"
      ]
     },
     "execution_count": 16,
     "metadata": {},
     "output_type": "execute_result"
    }
   ],
   "source": [
    "db4 = db << db2\n",
    "db4.describe()"
   ]
  },
  {
   "cell_type": "code",
   "execution_count": 17,
   "metadata": {},
   "outputs": [
    {
     "data": {
      "text/html": [
       "<pre style=\"white-space:pre;overflow-x:auto;line-height:normal;font-family:Menlo,'DejaVu Sans Mono',consolas,'Courier New',monospace\"></pre>\n"
      ],
      "text/plain": []
     },
     "metadata": {},
     "output_type": "display_data"
    },
    {
     "data": {
      "text/plain": [
       "\n",
       "\u001b[1m{\u001b[0m\n",
       "    \u001b[32m'contents'\u001b[0m: \u001b[1m{\u001b[0m\n",
       "        \u001b[32m'records'\u001b[0m: \u001b[1m{\u001b[0m\n",
       "            \u001b[32m'schema.Project'\u001b[0m: \u001b[1;36m3\u001b[0m,\n",
       "            \u001b[32m'schema.Organization'\u001b[0m: \u001b[1;36m3\u001b[0m,\n",
       "            \u001b[32m'schema.Task'\u001b[0m: \u001b[1;36m6\u001b[0m,\n",
       "            \u001b[32m'schema.User'\u001b[0m: \u001b[1;36m2\u001b[0m,\n",
       "            \u001b[32m'schema.Search'\u001b[0m: \u001b[1;36m1\u001b[0m\n",
       "        \u001b[1m}\u001b[0m,\n",
       "        \u001b[32m'arrays'\u001b[0m: \u001b[1m{\u001b[0m\u001b[32m'schema.Organization.countries'\u001b[0m: \u001b[1;36m7\u001b[0m\u001b[1m}\u001b[0m,\n",
       "        \u001b[32m'relations'\u001b[0m: \u001b[1m{\u001b[0m\u001b[32m'schema.SearchResult'\u001b[0m: \u001b[1;36m3\u001b[0m, \u001b[32m'schema.Assignment'\u001b[0m: \u001b[1;36m6\u001b[0m, \u001b[32m'schema.Membership'\u001b[0m: \u001b[1;36m7\u001b[0m\u001b[1m}\u001b[0m\n",
       "    \u001b[1m}\u001b[0m,\n",
       "    \u001b[32m'backend'\u001b[0m: \u001b[3;35mNone\u001b[0m,\n",
       "    \u001b[32m'overlay'\u001b[0m: \u001b[32m'update/\u001b[0m\u001b[32m(\u001b[0m\u001b[32ma7d8c35b1d>>0813e81f13\u001b[0m\u001b[32m)\u001b[0m\u001b[32m/6d2fe804'\u001b[0m\n",
       "\u001b[1m}\u001b[0m"
      ]
     },
     "execution_count": 17,
     "metadata": {},
     "output_type": "execute_result"
    }
   ],
   "source": [
    "db5 = db >> db2\n",
    "db5.describe()"
   ]
  },
  {
   "cell_type": "code",
   "execution_count": 18,
   "metadata": {},
   "outputs": [
    {
     "data": {
      "text/html": [
       "<pre style=\"white-space:pre;overflow-x:auto;line-height:normal;font-family:Menlo,'DejaVu Sans Mono',consolas,'Courier New',monospace\"></pre>\n"
      ],
      "text/plain": []
     },
     "metadata": {},
     "output_type": "display_data"
    },
    {
     "data": {
      "text/html": [
       "<div><style>\n",
       ".dataframe > thead > tr,\n",
       ".dataframe > tbody > tr {\n",
       "  text-align: right;\n",
       "  white-space: pre-wrap;\n",
       "}\n",
       "</style>\n",
       "<small>shape: (3, 8)</small><table border=\"1\" class=\"dataframe\"><thead><tr><th>schema.Search.term</th><th>schema.Search.results._rel._id</th><th>number</th><th>name</th><th>start</th><th>end</th><th>status</th><th>org__id</th></tr><tr><td>str</td><td>str</td><td>i64</td><td>str</td><td>date</td><td>date</td><td>str</td><td>str</td></tr></thead><tbody><tr><td>&quot;test&quot;</td><td>&quot;104d65b581&quot;</td><td>2</td><td>&quot;fixing cars&quot;</td><td>2020-01-03</td><td>2020-01-06</td><td>&quot;started&quot;</td><td>&quot;65d054da-b302-4728-aac0-8a1698…</td></tr><tr><td>&quot;test&quot;</td><td>&quot;11faab1a21&quot;</td><td>1</td><td>&quot;cleaning shoes&quot;</td><td>2020-01-02</td><td>2020-01-05</td><td>&quot;done&quot;</td><td>&quot;5f96952f-62aa-46da-b2e4-842a90…</td></tr><tr><td>&quot;test&quot;</td><td>&quot;14941c52d3&quot;</td><td>0</td><td>&quot;baking cake&quot;</td><td>2020-01-01</td><td>2020-01-04</td><td>&quot;done&quot;</td><td>&quot;294904d0-e719-4599-899a-30bb20…</td></tr></tbody></table></div>"
      ],
      "text/plain": [
       "\n",
       "shape: \u001b[1m(\u001b[0m\u001b[1;36m3\u001b[0m, \u001b[1;36m8\u001b[0m\u001b[1m)\u001b[0m\n",
       "┌─────────────┬─────────────┬────────┬────────────┬────────────┬────────────┬─────────┬────────────┐\n",
       "│ schema.Sear ┆ schema.Sear ┆ number ┆ name       ┆ start      ┆ end        ┆ status  ┆ org__id    │\n",
       "│ ch.term     ┆ ch.results. ┆ ---    ┆ ---        ┆ ---        ┆ ---        ┆ ---     ┆ ---        │\n",
       "│ ---         ┆ _rel._id    ┆ i64    ┆ str        ┆ date       ┆ date       ┆ str     ┆ str        │\n",
       "│ str         ┆ ---         ┆        ┆            ┆            ┆            ┆         ┆            │\n",
       "│             ┆ str         ┆        ┆            ┆            ┆            ┆         ┆            │\n",
       "╞═════════════╪═════════════╪════════╪════════════╪════════════╪════════════╪═════════╪════════════╡\n",
       "│ test        ┆ 104d65b581  ┆ \u001b[1;36m2\u001b[0m      ┆ fixing     ┆ \u001b[1;36m2020\u001b[0m-\u001b[1;36m01\u001b[0m-\u001b[1;36m03\u001b[0m ┆ \u001b[1;36m2020\u001b[0m-\u001b[1;36m01\u001b[0m-\u001b[1;36m06\u001b[0m ┆ started ┆ 65d054da-b │\n",
       "│             ┆             ┆        ┆ cars       ┆            ┆            ┆         ┆ \u001b[1;36m302\u001b[0m-\u001b[1;36m4728\u001b[0m-a │\n",
       "│             ┆             ┆        ┆            ┆            ┆            ┆         ┆ ac0-8a1698 │\n",
       "│             ┆             ┆        ┆            ┆            ┆            ┆         ┆ …          │\n",
       "│ test        ┆ 11faab1a21  ┆ \u001b[1;36m1\u001b[0m      ┆ cleaning   ┆ \u001b[1;36m2020\u001b[0m-\u001b[1;36m01\u001b[0m-\u001b[1;36m02\u001b[0m ┆ \u001b[1;36m2020\u001b[0m-\u001b[1;36m01\u001b[0m-\u001b[1;36m05\u001b[0m ┆ done    ┆ 5f96952f-\u001b[1;36m6\u001b[0m │\n",
       "│             ┆             ┆        ┆ shoes      ┆            ┆            ┆         ┆ 2aa-46da-b │\n",
       "│             ┆             ┆        ┆            ┆            ┆            ┆         ┆ \u001b[1;36m2e4\u001b[0m-842a90 │\n",
       "│             ┆             ┆        ┆            ┆            ┆            ┆         ┆ …          │\n",
       "│ test        ┆ 14941c52d3  ┆ \u001b[1;36m0\u001b[0m      ┆ baking     ┆ \u001b[1;36m2020\u001b[0m-\u001b[1;36m01\u001b[0m-\u001b[1;36m01\u001b[0m ┆ \u001b[1;36m2020\u001b[0m-\u001b[1;36m01\u001b[0m-\u001b[1;36m04\u001b[0m ┆ done    ┆ 294904d0-e │\n",
       "│             ┆             ┆        ┆ cake       ┆            ┆            ┆         ┆ \u001b[1;36m719\u001b[0m-\u001b[1;36m4599\u001b[0m-\u001b[1;36m8\u001b[0m │\n",
       "│             ┆             ┆        ┆            ┆            ┆            ┆         ┆ 99a-30bb20 │\n",
       "│             ┆             ┆        ┆            ┆            ┆            ┆         ┆ …          │\n",
       "└─────────────┴─────────────┴────────┴────────────┴────────────┴────────────┴─────────┴────────────┘"
      ]
     },
     "execution_count": 18,
     "metadata": {},
     "output_type": "execute_result"
    }
   ],
   "source": [
    "x = db[Search.results]._link\n",
    "assert x is not None\n",
    "x.df()"
   ]
  },
  {
   "cell_type": "code",
   "execution_count": 19,
   "metadata": {},
   "outputs": [
    {
     "name": "stdout",
     "output_type": "stream",
     "text": [
      "SELECT DISTINCT \"schema.Search\".term AS \"schema.Search.term\",\n",
      "                \"schema.Search.results\".number AS \"schema.Search.results.number\",\n",
      "                \"schema.Search.results.tasks\"._id AS \"schema.Search.results.tasks._id\",\n",
      "                \"schema.Task.assignees\"._id AS \"schema.Search.results.tasks.assignees._id\",\n",
      "                \"schema.Task.assignees\"._id AS _id,\n",
      "                \"schema.Task.assignees\".name AS name,\n",
      "                \"schema.Task.assignees\".age AS age\n",
      "FROM \"schema_Search\" AS \"schema.Search\"\n",
      "JOIN \"schema_SearchResult\" AS \"schema.Search.results._rel\" ON \"schema.Search.results._rel\"._from_term = \"schema.Search\".term\n",
      "JOIN \"schema_Project\" AS \"schema.Search.results\" ON \"schema.Search.results._rel\"._to_number = \"schema.Search.results\".number\n",
      "JOIN \"schema_Task\" AS \"schema.Search.results.tasks\" ON \"schema.Search.results.tasks\".project_number = \"schema.Search.results\".number\n",
      "JOIN \"schema_Assignment\" AS \"schema.Search.results.tasks.assignees._rel\" ON \"schema.Search.results.tasks.assignees._rel\"._to__id = \"schema.Search.results.tasks\"._id\n",
      "JOIN \"schema_User\" AS \"schema.Task.assignees\" ON \"schema.Search.results.tasks.assignees._rel\"._from__id = \"schema.Task.assignees\"._id\n"
     ]
    },
    {
     "data": {
      "text/html": [
       "<pre style=\"white-space:pre;overflow-x:auto;line-height:normal;font-family:Menlo,'DejaVu Sans Mono',consolas,'Courier New',monospace\"></pre>\n"
      ],
      "text/plain": []
     },
     "metadata": {},
     "output_type": "display_data"
    },
    {
     "data": {
      "text/html": [
       "<div><style>\n",
       ".dataframe > thead > tr,\n",
       ".dataframe > tbody > tr {\n",
       "  text-align: right;\n",
       "  white-space: pre-wrap;\n",
       "}\n",
       "</style>\n",
       "<small>shape: (6, 6)</small><table border=\"1\" class=\"dataframe\"><thead><tr><th>schema.Search.term</th><th>schema.Search.results.number</th><th>schema.Search.results.tasks._id</th><th>_id</th><th>name</th><th>age</th></tr><tr><td>str</td><td>i64</td><td>str</td><td>str</td><td>str</td><td>i64</td></tr></thead><tbody><tr><td>&quot;test&quot;</td><td>0</td><td>&quot;6fa3b903-4047-4705-9ea1-72ffc6…</td><td>&quot;dc671c32-892c-4008-af31-9ada14…</td><td>&quot;Jane&quot;</td><td>56</td></tr><tr><td>&quot;test&quot;</td><td>1</td><td>&quot;62a4bd91-0fcb-4b9d-b601-8cc4c3…</td><td>&quot;dc671c32-892c-4008-af31-9ada14…</td><td>&quot;Jane&quot;</td><td>56</td></tr><tr><td>&quot;test&quot;</td><td>2</td><td>&quot;c93062b7-f2a6-4117-931f-78577a…</td><td>&quot;4f4f0578-e7d4-4d92-882c-73f02d…</td><td>&quot;John&quot;</td><td>31</td></tr><tr><td>&quot;test&quot;</td><td>0</td><td>&quot;1f2c57b8-fc3a-4693-8fcb-b3548b…</td><td>&quot;4f4f0578-e7d4-4d92-882c-73f02d…</td><td>&quot;John&quot;</td><td>31</td></tr><tr><td>&quot;test&quot;</td><td>1</td><td>&quot;c64fd57f-2e02-4c2a-acf1-05192f…</td><td>&quot;4f4f0578-e7d4-4d92-882c-73f02d…</td><td>&quot;John&quot;</td><td>31</td></tr><tr><td>&quot;test&quot;</td><td>0</td><td>&quot;95584452-de41-4f64-af8f-f0dfdc…</td><td>&quot;4f4f0578-e7d4-4d92-882c-73f02d…</td><td>&quot;John&quot;</td><td>31</td></tr></tbody></table></div>"
      ],
      "text/plain": [
       "\n",
       "shape: \u001b[1m(\u001b[0m\u001b[1;36m6\u001b[0m, \u001b[1;36m6\u001b[0m\u001b[1m)\u001b[0m\n",
       "┌────────────────────┬─────────────────────┬─────────────────────┬────────────────────┬──────┬─────┐\n",
       "│ schema.Search.term ┆ schema.Search.resul ┆ schema.Search.resul ┆ _id                ┆ name ┆ age │\n",
       "│ ---                ┆ ts.number           ┆ ts.tasks._i…        ┆ ---                ┆ ---  ┆ --- │\n",
       "│ str                ┆ ---                 ┆ ---                 ┆ str                ┆ str  ┆ i64 │\n",
       "│                    ┆ i64                 ┆ str                 ┆                    ┆      ┆     │\n",
       "╞════════════════════╪═════════════════════╪═════════════════════╪════════════════════╪══════╪═════╡\n",
       "│ test               ┆ \u001b[1;36m0\u001b[0m                   ┆ 6fa3b903-\u001b[1;36m4047\u001b[0m-\u001b[1;36m4705\u001b[0m- ┆ dc671c32-892c-\u001b[1;36m4008\u001b[0m ┆ Jane ┆ \u001b[1;36m56\u001b[0m  │\n",
       "│                    ┆                     ┆ 9ea1-72ffc6…        ┆ -af31-9ada14…      ┆      ┆     │\n",
       "│ test               ┆ \u001b[1;36m1\u001b[0m                   ┆ 62a4bd91-0fcb-4b9d- ┆ dc671c32-892c-\u001b[1;36m4008\u001b[0m ┆ Jane ┆ \u001b[1;36m56\u001b[0m  │\n",
       "│                    ┆                     ┆ b601-8cc4c3…        ┆ -af31-9ada14…      ┆      ┆     │\n",
       "│ test               ┆ \u001b[1;36m2\u001b[0m                   ┆ c93062b7-f2a6-\u001b[1;36m4117\u001b[0m- ┆ 4f4f0578-e7d4-4d92 ┆ John ┆ \u001b[1;36m31\u001b[0m  │\n",
       "│                    ┆                     ┆ 931f-78577a…        ┆ -882c-73f02d…      ┆      ┆     │\n",
       "│ test               ┆ \u001b[1;36m0\u001b[0m                   ┆ 1f2c57b8-fc3a-\u001b[1;36m4693\u001b[0m- ┆ 4f4f0578-e7d4-4d92 ┆ John ┆ \u001b[1;36m31\u001b[0m  │\n",
       "│                    ┆                     ┆ 8fcb-b3548b…        ┆ -882c-73f02d…      ┆      ┆     │\n",
       "│ test               ┆ \u001b[1;36m1\u001b[0m                   ┆ c64fd57f-\u001b[1;36m2e02\u001b[0m-4c2a- ┆ 4f4f0578-e7d4-4d92 ┆ John ┆ \u001b[1;36m31\u001b[0m  │\n",
       "│                    ┆                     ┆ acf1-05192f…        ┆ -882c-73f02d…      ┆      ┆     │\n",
       "│ test               ┆ \u001b[1;36m0\u001b[0m                   ┆ \u001b[1;36m95584452\u001b[0m-de41-4f64- ┆ 4f4f0578-e7d4-4d92 ┆ John ┆ \u001b[1;36m31\u001b[0m  │\n",
       "│                    ┆                     ┆ af8f-f0dfdc…        ┆ -882c-73f02d…      ┆      ┆     │\n",
       "└────────────────────┴─────────────────────┴─────────────────────┴────────────────────┴──────┴─────┘"
      ]
     },
     "execution_count": 19,
     "metadata": {},
     "output_type": "execute_result"
    }
   ],
   "source": [
    "x = db[Search.results.x.tasks.x.assignees]\n",
    "print(x.select_str)\n",
    "x.keys()\n",
    "x.df(sort_by=[User.name])"
   ]
  },
  {
   "cell_type": "code",
   "execution_count": 20,
   "metadata": {},
   "outputs": [
    {
     "data": {
      "text/html": [
       "<pre style=\"white-space:pre;overflow-x:auto;line-height:normal;font-family:Menlo,'DejaVu Sans Mono',consolas,'Courier New',monospace\"></pre>\n"
      ],
      "text/plain": []
     },
     "metadata": {},
     "output_type": "display_data"
    },
    {
     "data": {
      "text/plain": [
       "\n",
       "\u001b[1m{\u001b[0m\n",
       "    \u001b[32m'schema'\u001b[0m: \u001b[1m{\u001b[0m\n",
       "        \u001b[32m'package'\u001b[0m: \u001b[32m'py-research'\u001b[0m,\n",
       "        \u001b[32m'module'\u001b[0m: \u001b[32m'schema'\u001b[0m,\n",
       "        \u001b[32m'object'\u001b[0m: \u001b[32m'TestSchema'\u001b[0m,\n",
       "        \u001b[32m'package_version'\u001b[0m: \u001b[32m'^5.1.1.dev152+g2c0bcb5.d20250123'\u001b[0m,\n",
       "        \u001b[32m'repo'\u001b[0m: \u001b[32m'https://github.com/cloudlane-one/py-research.git'\u001b[0m,\n",
       "        \u001b[32m'repo_revision'\u001b[0m: \u001b[32m'3783bc57d23333ab436eb55cec0be4a6abad92a4'\u001b[0m,\n",
       "        \u001b[32m'module_path'\u001b[0m: \u001b[1;35mWindowsPath\u001b[0m\u001b[1m(\u001b[0m\u001b[32m'exp/schema.py'\u001b[0m\u001b[1m)\u001b[0m,\n",
       "        \u001b[32m'module_dirty'\u001b[0m: \u001b[3;91mFalse\u001b[0m,\n",
       "        \u001b[32m'docs_url'\u001b[0m: \u001b[32m'https://cloudlane-one.github.io/py-research/'\u001b[0m\n",
       "    \u001b[1m}\u001b[0m,\n",
       "    \u001b[32m'contents'\u001b[0m: \u001b[1m{\u001b[0m\n",
       "        \u001b[32m'records'\u001b[0m: \u001b[1m{\u001b[0m\n",
       "            \u001b[32m'schema.Project'\u001b[0m: \u001b[1;36m3\u001b[0m,\n",
       "            \u001b[32m'schema.Organization'\u001b[0m: \u001b[1;36m3\u001b[0m,\n",
       "            \u001b[32m'schema.Task'\u001b[0m: \u001b[1;36m6\u001b[0m,\n",
       "            \u001b[32m'schema.User'\u001b[0m: \u001b[1;36m2\u001b[0m,\n",
       "            \u001b[32m'schema.Search'\u001b[0m: \u001b[1;36m1\u001b[0m\n",
       "        \u001b[1m}\u001b[0m,\n",
       "        \u001b[32m'arrays'\u001b[0m: \u001b[1m{\u001b[0m\u001b[32m'schema.Organization.countries'\u001b[0m: \u001b[1;36m7\u001b[0m\u001b[1m}\u001b[0m,\n",
       "        \u001b[32m'relations'\u001b[0m: \u001b[1m{\u001b[0m\u001b[32m'schema.SearchResult'\u001b[0m: \u001b[1;36m3\u001b[0m, \u001b[32m'schema.Assignment'\u001b[0m: \u001b[1;36m6\u001b[0m, \u001b[32m'schema.Membership'\u001b[0m: \u001b[1;36m7\u001b[0m\u001b[1m}\u001b[0m\n",
       "    \u001b[1m}\u001b[0m,\n",
       "    \u001b[32m'backend'\u001b[0m: \u001b[3;35mNone\u001b[0m\n",
       "\u001b[1m}\u001b[0m"
      ]
     },
     "execution_count": 20,
     "metadata": {},
     "output_type": "execute_result"
    }
   ],
   "source": [
    "db.describe()"
   ]
  },
  {
   "cell_type": "code",
   "execution_count": 21,
   "metadata": {},
   "outputs": [],
   "source": [
    "nodes, edges = db.to_graph([Search, Project._table[Project.number == 1], Organization])"
   ]
  },
  {
   "cell_type": "code",
   "execution_count": 23,
   "metadata": {},
   "outputs": [
    {
     "data": {
      "text/html": [
       "<pre style=\"white-space:pre;overflow-x:auto;line-height:normal;font-family:Menlo,'DejaVu Sans Mono',consolas,'Courier New',monospace\"></pre>\n"
      ],
      "text/plain": []
     },
     "metadata": {},
     "output_type": "display_data"
    },
    {
     "data": {
      "text/html": [
       "<div>\n",
       "<style scoped>\n",
       "    .dataframe tbody tr th:only-of-type {\n",
       "        vertical-align: middle;\n",
       "    }\n",
       "\n",
       "    .dataframe tbody tr th {\n",
       "        vertical-align: top;\n",
       "    }\n",
       "\n",
       "    .dataframe thead th {\n",
       "        text-align: right;\n",
       "    }\n",
       "</style>\n",
       "<table border=\"1\" class=\"dataframe\">\n",
       "  <thead>\n",
       "    <tr style=\"text-align: right;\">\n",
       "      <th></th>\n",
       "      <th>node_id</th>\n",
       "      <th>table</th>\n",
       "      <th>schema.Search.term</th>\n",
       "      <th>schema.Search.result_count</th>\n",
       "      <th>schema.Project.number</th>\n",
       "      <th>schema.Project.name</th>\n",
       "      <th>schema.Project.start</th>\n",
       "      <th>schema.Project.end</th>\n",
       "      <th>schema.Project.status</th>\n",
       "      <th>schema.Project.org__id</th>\n",
       "      <th>schema.Organization._id</th>\n",
       "      <th>schema.Organization.name</th>\n",
       "      <th>schema.Organization.address</th>\n",
       "      <th>schema.Organization.city</th>\n",
       "    </tr>\n",
       "  </thead>\n",
       "  <tbody>\n",
       "    <tr>\n",
       "      <th>0</th>\n",
       "      <td>0</td>\n",
       "      <td>schema_Search</td>\n",
       "      <td>test</td>\n",
       "      <td>3.0</td>\n",
       "      <td>NaN</td>\n",
       "      <td>NaN</td>\n",
       "      <td>NaN</td>\n",
       "      <td>NaN</td>\n",
       "      <td>NaN</td>\n",
       "      <td>NaN</td>\n",
       "      <td>NaN</td>\n",
       "      <td>NaN</td>\n",
       "      <td>NaN</td>\n",
       "      <td>NaN</td>\n",
       "    </tr>\n",
       "    <tr>\n",
       "      <th>1</th>\n",
       "      <td>1</td>\n",
       "      <td>schema_Project</td>\n",
       "      <td>NaN</td>\n",
       "      <td>NaN</td>\n",
       "      <td>1.0</td>\n",
       "      <td>cleaning shoes</td>\n",
       "      <td>2020-01-02</td>\n",
       "      <td>2020-01-05</td>\n",
       "      <td>done</td>\n",
       "      <td>5f96952f-62aa-46da-b2e4-842a90a22c42</td>\n",
       "      <td>NaN</td>\n",
       "      <td>NaN</td>\n",
       "      <td>NaN</td>\n",
       "      <td>NaN</td>\n",
       "    </tr>\n",
       "    <tr>\n",
       "      <th>2</th>\n",
       "      <td>2</td>\n",
       "      <td>schema_Organization</td>\n",
       "      <td>NaN</td>\n",
       "      <td>NaN</td>\n",
       "      <td>NaN</td>\n",
       "      <td>NaN</td>\n",
       "      <td>NaN</td>\n",
       "      <td>NaN</td>\n",
       "      <td>NaN</td>\n",
       "      <td>NaN</td>\n",
       "      <td>294904d0-e719-4599-899a-30bb20325890</td>\n",
       "      <td>Bakery</td>\n",
       "      <td>Main Street 1</td>\n",
       "      <td>Bakerville</td>\n",
       "    </tr>\n",
       "    <tr>\n",
       "      <th>3</th>\n",
       "      <td>3</td>\n",
       "      <td>schema_Organization</td>\n",
       "      <td>NaN</td>\n",
       "      <td>NaN</td>\n",
       "      <td>NaN</td>\n",
       "      <td>NaN</td>\n",
       "      <td>NaN</td>\n",
       "      <td>NaN</td>\n",
       "      <td>NaN</td>\n",
       "      <td>NaN</td>\n",
       "      <td>5f96952f-62aa-46da-b2e4-842a90a22c42</td>\n",
       "      <td>Shoe Shop</td>\n",
       "      <td>Main Street 2</td>\n",
       "      <td>Shoetown</td>\n",
       "    </tr>\n",
       "    <tr>\n",
       "      <th>4</th>\n",
       "      <td>4</td>\n",
       "      <td>schema_Organization</td>\n",
       "      <td>NaN</td>\n",
       "      <td>NaN</td>\n",
       "      <td>NaN</td>\n",
       "      <td>NaN</td>\n",
       "      <td>NaN</td>\n",
       "      <td>NaN</td>\n",
       "      <td>NaN</td>\n",
       "      <td>NaN</td>\n",
       "      <td>65d054da-b302-4728-aac0-8a16983b59e8</td>\n",
       "      <td>Car Shop</td>\n",
       "      <td>Main Street 3</td>\n",
       "      <td>Cartown</td>\n",
       "    </tr>\n",
       "  </tbody>\n",
       "</table>\n",
       "</div>"
      ],
      "text/plain": [
       "\n",
       "   node_id                table schema.Search.term  \\\n",
       "\u001b[1;36m0\u001b[0m        \u001b[1;36m0\u001b[0m        schema_Search               test   \n",
       "\u001b[1;36m1\u001b[0m        \u001b[1;36m1\u001b[0m       schema_Project                NaN   \n",
       "\u001b[1;36m2\u001b[0m        \u001b[1;36m2\u001b[0m  schema_Organization                NaN   \n",
       "\u001b[1;36m3\u001b[0m        \u001b[1;36m3\u001b[0m  schema_Organization                NaN   \n",
       "\u001b[1;36m4\u001b[0m        \u001b[1;36m4\u001b[0m  schema_Organization                NaN   \n",
       "\n",
       "   schema.Search.result_count  schema.Project.number schema.Project.name  \\\n",
       "\u001b[1;36m0\u001b[0m                         \u001b[1;36m3.0\u001b[0m                    NaN                 NaN   \n",
       "\u001b[1;36m1\u001b[0m                         NaN                    \u001b[1;36m1.0\u001b[0m      cleaning shoes   \n",
       "\u001b[1;36m2\u001b[0m                         NaN                    NaN                 NaN   \n",
       "\u001b[1;36m3\u001b[0m                         NaN                    NaN                 NaN   \n",
       "\u001b[1;36m4\u001b[0m                         NaN                    NaN                 NaN   \n",
       "\n",
       "  schema.Project.start schema.Project.end schema.Project.status  \\\n",
       "\u001b[1;36m0\u001b[0m                  NaN                NaN                   NaN   \n",
       "\u001b[1;36m1\u001b[0m           \u001b[1;36m2020\u001b[0m-\u001b[1;36m01\u001b[0m-\u001b[1;36m02\u001b[0m         \u001b[1;36m2020\u001b[0m-\u001b[1;36m01\u001b[0m-\u001b[1;36m05\u001b[0m                  done   \n",
       "\u001b[1;36m2\u001b[0m                  NaN                NaN                   NaN   \n",
       "\u001b[1;36m3\u001b[0m                  NaN                NaN                   NaN   \n",
       "\u001b[1;36m4\u001b[0m                  NaN                NaN                   NaN   \n",
       "\n",
       "                 schema.Project.org__id               schema.Organization._id  \\\n",
       "\u001b[1;36m0\u001b[0m                                   NaN                                   NaN   \n",
       "\u001b[1;36m1\u001b[0m  \u001b[93m5f96952f-62aa-46da-b2e4-842a90a22c42\u001b[0m                                   NaN   \n",
       "\u001b[1;36m2\u001b[0m                                   NaN  \u001b[93m294904d0-e719-4599-899a-30bb20325890\u001b[0m   \n",
       "\u001b[1;36m3\u001b[0m                                   NaN  \u001b[93m5f96952f-62aa-46da-b2e4-842a90a22c42\u001b[0m   \n",
       "\u001b[1;36m4\u001b[0m                                   NaN  \u001b[93m65d054da-b302-4728-aac0-8a16983b59e8\u001b[0m   \n",
       "\n",
       "  schema.Organization.name schema.Organization.address  \\\n",
       "\u001b[1;36m0\u001b[0m                      NaN                         NaN   \n",
       "\u001b[1;36m1\u001b[0m                      NaN                         NaN   \n",
       "\u001b[1;36m2\u001b[0m                   Bakery               Main Street \u001b[1;36m1\u001b[0m   \n",
       "\u001b[1;36m3\u001b[0m                Shoe Shop               Main Street \u001b[1;36m2\u001b[0m   \n",
       "\u001b[1;36m4\u001b[0m                 Car Shop               Main Street \u001b[1;36m3\u001b[0m   \n",
       "\n",
       "  schema.Organization.city  \n",
       "\u001b[1;36m0\u001b[0m                      NaN  \n",
       "\u001b[1;36m1\u001b[0m                      NaN  \n",
       "\u001b[1;36m2\u001b[0m               Bakerville  \n",
       "\u001b[1;36m3\u001b[0m                 Shoetown  \n",
       "\u001b[1;36m4\u001b[0m                  Cartown  "
      ]
     },
     "execution_count": 23,
     "metadata": {},
     "output_type": "execute_result"
    }
   ],
   "source": [
    "nodes"
   ]
  },
  {
   "cell_type": "code",
   "execution_count": 24,
   "metadata": {},
   "outputs": [
    {
     "data": {
      "text/html": [
       "<pre style=\"white-space:pre;overflow-x:auto;line-height:normal;font-family:Menlo,'DejaVu Sans Mono',consolas,'Courier New',monospace\"></pre>\n"
      ],
      "text/plain": []
     },
     "metadata": {},
     "output_type": "display_data"
    },
    {
     "data": {
      "text/html": [
       "<div>\n",
       "<style scoped>\n",
       "    .dataframe tbody tr th:only-of-type {\n",
       "        vertical-align: middle;\n",
       "    }\n",
       "\n",
       "    .dataframe tbody tr th {\n",
       "        vertical-align: top;\n",
       "    }\n",
       "\n",
       "    .dataframe thead th {\n",
       "        text-align: right;\n",
       "    }\n",
       "</style>\n",
       "<table border=\"1\" class=\"dataframe\">\n",
       "  <thead>\n",
       "    <tr style=\"text-align: right;\">\n",
       "      <th></th>\n",
       "      <th>source</th>\n",
       "      <th>target</th>\n",
       "      <th>ltr</th>\n",
       "      <th>rtl</th>\n",
       "      <th>schema.SearchResult.score</th>\n",
       "      <th>schema.SearchResult._to_number</th>\n",
       "      <th>schema.SearchResult._from_term</th>\n",
       "      <th>schema.SearchResult._id</th>\n",
       "    </tr>\n",
       "  </thead>\n",
       "  <tbody>\n",
       "    <tr>\n",
       "      <th>0</th>\n",
       "      <td>1</td>\n",
       "      <td>3</td>\n",
       "      <td>org__id</td>\n",
       "      <td>None</td>\n",
       "      <td>NaN</td>\n",
       "      <td>NaN</td>\n",
       "      <td>NaN</td>\n",
       "      <td>NaN</td>\n",
       "    </tr>\n",
       "    <tr>\n",
       "      <th>1</th>\n",
       "      <td>0</td>\n",
       "      <td>1</td>\n",
       "      <td>_to_number</td>\n",
       "      <td>_from_term</td>\n",
       "      <td>0.8</td>\n",
       "      <td>1.0</td>\n",
       "      <td>test</td>\n",
       "      <td>11faab1a21</td>\n",
       "    </tr>\n",
       "  </tbody>\n",
       "</table>\n",
       "</div>"
      ],
      "text/plain": [
       "\n",
       "   source  target         ltr         rtl  schema.SearchResult.score  \\\n",
       "\u001b[1;36m0\u001b[0m       \u001b[1;36m1\u001b[0m       \u001b[1;36m3\u001b[0m     org__id        \u001b[3;35mNone\u001b[0m                        NaN   \n",
       "\u001b[1;36m1\u001b[0m       \u001b[1;36m0\u001b[0m       \u001b[1;36m1\u001b[0m  _to_number  _from_term                        \u001b[1;36m0.8\u001b[0m   \n",
       "\n",
       "   schema.SearchResult._to_number schema.SearchResult._from_term  \\\n",
       "\u001b[1;36m0\u001b[0m                             NaN                            NaN   \n",
       "\u001b[1;36m1\u001b[0m                             \u001b[1;36m1.0\u001b[0m                           test   \n",
       "\n",
       "  schema.SearchResult._id  \n",
       "\u001b[1;36m0\u001b[0m                     NaN  \n",
       "\u001b[1;36m1\u001b[0m              11faab1a21  "
      ]
     },
     "execution_count": 24,
     "metadata": {},
     "output_type": "execute_result"
    }
   ],
   "source": [
    "edges"
   ]
  },
  {
   "cell_type": "code",
   "execution_count": 25,
   "metadata": {},
   "outputs": [
    {
     "data": {
      "text/html": [
       "<pre style=\"white-space:pre;overflow-x:auto;line-height:normal;font-family:Menlo,'DejaVu Sans Mono',consolas,'Courier New',monospace\"></pre>\n"
      ],
      "text/plain": []
     },
     "metadata": {},
     "output_type": "display_data"
    },
    {
     "data": {
      "text/plain": [
       "\n",
       "\u001b[1m[\u001b[0m\n",
       "    \u001b[1;35mUser\u001b[0m\u001b[1m(\u001b[0m\u001b[1m{\u001b[0m\u001b[32m'_id'\u001b[0m: \u001b[32m'4f4f0578-e7d4-4d92-882c-73f02d7408a3'\u001b[0m, \u001b[32m'name'\u001b[0m: \u001b[32m'John'\u001b[0m, \u001b[32m'age'\u001b[0m: \u001b[1;36m31\u001b[0m\u001b[1m}\u001b[0m\u001b[1m)\u001b[0m,\n",
       "    \u001b[1;35mUser\u001b[0m\u001b[1m(\u001b[0m\u001b[1m{\u001b[0m\u001b[32m'_id'\u001b[0m: \u001b[32m'dc671c32-892c-4008-af31-9ada149a4bc6'\u001b[0m, \u001b[32m'name'\u001b[0m: \u001b[32m'Jane'\u001b[0m, \u001b[32m'age'\u001b[0m: \u001b[1;36m56\u001b[0m\u001b[1m}\u001b[0m\u001b[1m)\u001b[0m\n",
       "\u001b[1m]\u001b[0m"
      ]
     },
     "execution_count": 25,
     "metadata": {},
     "output_type": "execute_result"
    }
   ],
   "source": [
    "db[User].values()"
   ]
  },
  {
   "cell_type": "code",
   "execution_count": 26,
   "metadata": {},
   "outputs": [
    {
     "data": {
      "text/html": [
       "<pre style=\"white-space:pre;overflow-x:auto;line-height:normal;font-family:Menlo,'DejaVu Sans Mono',consolas,'Courier New',monospace\"></pre>\n"
      ],
      "text/plain": []
     },
     "metadata": {},
     "output_type": "display_data"
    },
    {
     "data": {
      "text/html": [
       "<div><style>\n",
       ".dataframe > thead > tr,\n",
       ".dataframe > tbody > tr {\n",
       "  text-align: right;\n",
       "  white-space: pre-wrap;\n",
       "}\n",
       "</style>\n",
       "<small>shape: (3, 6)</small><table border=\"1\" class=\"dataframe\"><thead><tr><th>number</th><th>name</th><th>start</th><th>end</th><th>status</th><th>org__id</th></tr><tr><td>i64</td><td>str</td><td>date</td><td>date</td><td>str</td><td>str</td></tr></thead><tbody><tr><td>0</td><td>&quot;baking cake&quot;</td><td>2020-01-01</td><td>2020-01-04</td><td>&quot;done&quot;</td><td>&quot;294904d0-e719-4599-899a-30bb20…</td></tr><tr><td>1</td><td>&quot;cleaning shoes&quot;</td><td>2020-01-02</td><td>2020-01-05</td><td>&quot;done&quot;</td><td>&quot;5f96952f-62aa-46da-b2e4-842a90…</td></tr><tr><td>2</td><td>&quot;fixing cars&quot;</td><td>2020-01-03</td><td>2020-01-06</td><td>&quot;started&quot;</td><td>&quot;65d054da-b302-4728-aac0-8a1698…</td></tr></tbody></table></div>"
      ],
      "text/plain": [
       "\n",
       "shape: \u001b[1m(\u001b[0m\u001b[1;36m3\u001b[0m, \u001b[1;36m6\u001b[0m\u001b[1m)\u001b[0m\n",
       "┌────────┬────────────────┬────────────┬────────────┬─────────┬─────────────────────────────────┐\n",
       "│ number ┆ name           ┆ start      ┆ end        ┆ status  ┆ org__id                         │\n",
       "│ ---    ┆ ---            ┆ ---        ┆ ---        ┆ ---     ┆ ---                             │\n",
       "│ i64    ┆ str            ┆ date       ┆ date       ┆ str     ┆ str                             │\n",
       "╞════════╪════════════════╪════════════╪════════════╪═════════╪═════════════════════════════════╡\n",
       "│ \u001b[1;36m0\u001b[0m      ┆ baking cake    ┆ \u001b[1;36m2020\u001b[0m-\u001b[1;36m01\u001b[0m-\u001b[1;36m01\u001b[0m ┆ \u001b[1;36m2020\u001b[0m-\u001b[1;36m01\u001b[0m-\u001b[1;36m04\u001b[0m ┆ done    ┆ 294904d0-e719-\u001b[1;36m4599\u001b[0m-899a-30bb20… │\n",
       "│ \u001b[1;36m1\u001b[0m      ┆ cleaning shoes ┆ \u001b[1;36m2020\u001b[0m-\u001b[1;36m01\u001b[0m-\u001b[1;36m02\u001b[0m ┆ \u001b[1;36m2020\u001b[0m-\u001b[1;36m01\u001b[0m-\u001b[1;36m05\u001b[0m ┆ done    ┆ 5f96952f-62aa-46da-b2e4-842a90… │\n",
       "│ \u001b[1;36m2\u001b[0m      ┆ fixing cars    ┆ \u001b[1;36m2020\u001b[0m-\u001b[1;36m01\u001b[0m-\u001b[1;36m03\u001b[0m ┆ \u001b[1;36m2020\u001b[0m-\u001b[1;36m01\u001b[0m-\u001b[1;36m06\u001b[0m ┆ started ┆ 65d054da-b302-\u001b[1;36m4728\u001b[0m-aac0-8a1698… │\n",
       "└────────┴────────────────┴────────────┴────────────┴─────────┴─────────────────────────────────┘"
      ]
     },
     "execution_count": 26,
     "metadata": {},
     "output_type": "execute_result"
    }
   ],
   "source": [
    "db[Project].df()"
   ]
  },
  {
   "cell_type": "code",
   "execution_count": 27,
   "metadata": {},
   "outputs": [
    {
     "data": {
      "text/html": [
       "<pre style=\"white-space:pre;overflow-x:auto;line-height:normal;font-family:Menlo,'DejaVu Sans Mono',consolas,'Courier New',monospace\"></pre>\n"
      ],
      "text/plain": []
     },
     "metadata": {},
     "output_type": "display_data"
    },
    {
     "data": {
      "text/plain": [
       "\u001b[1m[\u001b[0m\u001b[32m'test'\u001b[0m\u001b[1m]\u001b[0m"
      ]
     },
     "execution_count": 27,
     "metadata": {},
     "output_type": "execute_result"
    }
   ],
   "source": [
    "db[Search.term].values()"
   ]
  },
  {
   "cell_type": "code",
   "execution_count": 28,
   "metadata": {},
   "outputs": [
    {
     "data": {
      "text/html": [
       "<pre style=\"white-space:pre;overflow-x:auto;line-height:normal;font-family:Menlo,'DejaVu Sans Mono',consolas,'Courier New',monospace\"></pre>\n"
      ],
      "text/plain": []
     },
     "metadata": {},
     "output_type": "display_data"
    },
    {
     "data": {
      "text/plain": [
       "\u001b[1m[\u001b[0m\u001b[1m(\u001b[0m\u001b[32m'test'\u001b[0m, \u001b[1;36m3\u001b[0m\u001b[1m)\u001b[0m\u001b[1m]\u001b[0m"
      ]
     },
     "execution_count": 28,
     "metadata": {},
     "output_type": "execute_result"
    }
   ],
   "source": [
    "list(db[Search.result_count].items())"
   ]
  },
  {
   "cell_type": "code",
   "execution_count": 29,
   "metadata": {},
   "outputs": [
    {
     "data": {
      "text/html": [
       "<pre style=\"white-space:pre;overflow-x:auto;line-height:normal;font-family:Menlo,'DejaVu Sans Mono',consolas,'Courier New',monospace\"></pre>\n"
      ],
      "text/plain": []
     },
     "metadata": {},
     "output_type": "display_data"
    },
    {
     "data": {
      "text/plain": [
       "\n",
       "\u001b[1m[\u001b[0m\n",
       "    \u001b[1m(\u001b[0m\n",
       "        \u001b[1m(\u001b[0m\u001b[32m'test'\u001b[0m, \u001b[1;36m0\u001b[0m, \u001b[32m'294904d0-e719-4599-899a-30bb20325890'\u001b[0m\u001b[1m)\u001b[0m,\n",
       "        \u001b[1;35mOrganization\u001b[0m\u001b[1m(\u001b[0m\u001b[1m{\u001b[0m\u001b[32m'_id'\u001b[0m: \u001b[32m'294904d0-e719-4599-899a-30bb20325890'\u001b[0m, \u001b[32m'name'\u001b[0m: \u001b[32m'Bakery'\u001b[0m, \u001b[32m'address'\u001b[0m: \u001b[32m'Main Street 1'\u001b[0m, \u001b[32m'city'\u001b[0m: \u001b[32m'Bakerville'\u001b[0m\u001b[1m}\u001b[0m\u001b[1m)\u001b[0m\n",
       "    \u001b[1m)\u001b[0m,\n",
       "    \u001b[1m(\u001b[0m\n",
       "        \u001b[1m(\u001b[0m\u001b[32m'test'\u001b[0m, \u001b[1;36m1\u001b[0m, \u001b[32m'5f96952f-62aa-46da-b2e4-842a90a22c42'\u001b[0m\u001b[1m)\u001b[0m,\n",
       "        \u001b[1;35mOrganization\u001b[0m\u001b[1m(\u001b[0m\u001b[1m{\u001b[0m\u001b[32m'_id'\u001b[0m: \u001b[32m'5f96952f-62aa-46da-b2e4-842a90a22c42'\u001b[0m, \u001b[32m'name'\u001b[0m: \u001b[32m'Shoe Shop'\u001b[0m, \u001b[32m'address'\u001b[0m: \u001b[32m'Main Street 2'\u001b[0m, \u001b[32m'city'\u001b[0m: \u001b[32m'Shoetown'\u001b[0m\u001b[1m}\u001b[0m\u001b[1m)\u001b[0m\n",
       "    \u001b[1m)\u001b[0m,\n",
       "    \u001b[1m(\u001b[0m\n",
       "        \u001b[1m(\u001b[0m\u001b[32m'test'\u001b[0m, \u001b[1;36m2\u001b[0m, \u001b[32m'65d054da-b302-4728-aac0-8a16983b59e8'\u001b[0m\u001b[1m)\u001b[0m,\n",
       "        \u001b[1;35mOrganization\u001b[0m\u001b[1m(\u001b[0m\u001b[1m{\u001b[0m\u001b[32m'_id'\u001b[0m: \u001b[32m'65d054da-b302-4728-aac0-8a16983b59e8'\u001b[0m, \u001b[32m'name'\u001b[0m: \u001b[32m'Car Shop'\u001b[0m, \u001b[32m'address'\u001b[0m: \u001b[32m'Main Street 3'\u001b[0m, \u001b[32m'city'\u001b[0m: \u001b[32m'Cartown'\u001b[0m\u001b[1m}\u001b[0m\u001b[1m)\u001b[0m\n",
       "    \u001b[1m)\u001b[0m\n",
       "\u001b[1m]\u001b[0m"
      ]
     },
     "execution_count": 29,
     "metadata": {},
     "output_type": "execute_result"
    }
   ],
   "source": [
    "list(db[Search.results.x.org].items())"
   ]
  },
  {
   "cell_type": "code",
   "execution_count": null,
   "metadata": {},
   "outputs": [
    {
     "data": {
      "text/html": [
       "<pre style=\"white-space:pre;overflow-x:auto;line-height:normal;font-family:Menlo,'DejaVu Sans Mono',consolas,'Courier New',monospace\"></pre>\n"
      ],
      "text/plain": []
     },
     "metadata": {},
     "output_type": "display_data"
    },
    {
     "data": {
      "text/plain": [
       "\n",
       "\u001b[1m[\u001b[0m\n",
       "    \u001b[1m(\u001b[0m\n",
       "        \u001b[1m(\u001b[0m\u001b[32m'test'\u001b[0m, \u001b[1;36m0\u001b[0m\u001b[1m)\u001b[0m,\n",
       "        \u001b[1;35mProject\u001b[0m\u001b[1m(\u001b[0m\u001b[1m{\u001b[0m\u001b[32m'number'\u001b[0m: \u001b[1;36m0\u001b[0m, \u001b[32m'name'\u001b[0m: \u001b[32m'baking cake'\u001b[0m, \u001b[32m'start'\u001b[0m: \u001b[1;35mdatetime.date\u001b[0m\u001b[1m(\u001b[0m\u001b[1;36m2020\u001b[0m, \u001b[1;36m1\u001b[0m, \u001b[1;36m1\u001b[0m\u001b[1m)\u001b[0m, \u001b[32m'end'\u001b[0m: \u001b[1;35mdatetime.date\u001b[0m\u001b[1m(\u001b[0m\u001b[1;36m2020\u001b[0m, \u001b[1;36m1\u001b[0m, \u001b[1;36m4\u001b[0m\u001b[1m)\u001b[0m, \u001b[32m'status'\u001b[0m: \u001b[32m'done'\u001b[0m\u001b[1m}\u001b[0m\u001b[1m)\u001b[0m\n",
       "    \u001b[1m)\u001b[0m,\n",
       "    \u001b[1m(\u001b[0m\n",
       "        \u001b[1m(\u001b[0m\u001b[32m'test'\u001b[0m, \u001b[1;36m1\u001b[0m\u001b[1m)\u001b[0m,\n",
       "        \u001b[1;35mProject\u001b[0m\u001b[1m(\u001b[0m\u001b[1m{\u001b[0m\u001b[32m'number'\u001b[0m: \u001b[1;36m1\u001b[0m, \u001b[32m'name'\u001b[0m: \u001b[32m'cleaning shoes'\u001b[0m, \u001b[32m'start'\u001b[0m: \u001b[1;35mdatetime.date\u001b[0m\u001b[1m(\u001b[0m\u001b[1;36m2020\u001b[0m, \u001b[1;36m1\u001b[0m, \u001b[1;36m2\u001b[0m\u001b[1m)\u001b[0m, \u001b[32m'end'\u001b[0m: \u001b[1;35mdatetime.date\u001b[0m\u001b[1m(\u001b[0m\u001b[1;36m2020\u001b[0m, \u001b[1;36m1\u001b[0m, \u001b[1;36m5\u001b[0m\u001b[1m)\u001b[0m, \u001b[32m'status'\u001b[0m: \u001b[32m'done'\u001b[0m\u001b[1m}\u001b[0m\u001b[1m)\u001b[0m\n",
       "    \u001b[1m)\u001b[0m,\n",
       "    \u001b[1m(\u001b[0m\n",
       "        \u001b[1m(\u001b[0m\u001b[32m'test'\u001b[0m, \u001b[1;36m2\u001b[0m\u001b[1m)\u001b[0m,\n",
       "        \u001b[1;35mProject\u001b[0m\u001b[1m(\u001b[0m\u001b[1m{\u001b[0m\u001b[32m'number'\u001b[0m: \u001b[1;36m2\u001b[0m, \u001b[32m'name'\u001b[0m: \u001b[32m'fixing cars'\u001b[0m, \u001b[32m'start'\u001b[0m: \u001b[1;35mdatetime.date\u001b[0m\u001b[1m(\u001b[0m\u001b[1;36m2020\u001b[0m, \u001b[1;36m1\u001b[0m, \u001b[1;36m3\u001b[0m\u001b[1m)\u001b[0m, \u001b[32m'end'\u001b[0m: \u001b[1;35mdatetime.date\u001b[0m\u001b[1m(\u001b[0m\u001b[1;36m2020\u001b[0m, \u001b[1;36m1\u001b[0m, \u001b[1;36m6\u001b[0m\u001b[1m)\u001b[0m, \u001b[32m'status'\u001b[0m: \u001b[32m'started'\u001b[0m\u001b[1m}\u001b[0m\u001b[1m)\u001b[0m\n",
       "    \u001b[1m)\u001b[0m\n",
       "\u001b[1m]\u001b[0m"
      ]
     },
     "execution_count": 30,
     "metadata": {},
     "output_type": "execute_result"
    }
   ],
   "source": [
    "db[Search.results].items()"
   ]
  },
  {
   "cell_type": "code",
   "execution_count": null,
   "metadata": {},
   "outputs": [
    {
     "data": {
      "text/html": [
       "<pre style=\"white-space:pre;overflow-x:auto;line-height:normal;font-family:Menlo,'DejaVu Sans Mono',consolas,'Courier New',monospace\"></pre>\n"
      ],
      "text/plain": []
     },
     "metadata": {},
     "output_type": "display_data"
    },
    {
     "data": {
      "text/plain": [
       "\u001b[1m[\u001b[0m\u001b[32m'number'\u001b[0m, \u001b[32m'name'\u001b[0m, \u001b[32m'start'\u001b[0m, \u001b[32m'end'\u001b[0m, \u001b[32m'status'\u001b[0m, \u001b[32m'org__id'\u001b[0m\u001b[1m]\u001b[0m"
      ]
     },
     "execution_count": 31,
     "metadata": {},
     "output_type": "execute_result"
    }
   ],
   "source": [
    "list(db[Search.results]._abs_cols.keys())"
   ]
  },
  {
   "cell_type": "code",
   "execution_count": 32,
   "metadata": {},
   "outputs": [
    {
     "data": {
      "text/html": [
       "<pre style=\"white-space:pre;overflow-x:auto;line-height:normal;font-family:Menlo,'DejaVu Sans Mono',consolas,'Courier New',monospace\"></pre>\n"
      ],
      "text/plain": []
     },
     "metadata": {},
     "output_type": "display_data"
    },
    {
     "data": {
      "text/html": [
       "<div><style>\n",
       ".dataframe > thead > tr,\n",
       ".dataframe > tbody > tr {\n",
       "  text-align: right;\n",
       "  white-space: pre-wrap;\n",
       "}\n",
       "</style>\n",
       "<small>shape: (3, 7)</small><table border=\"1\" class=\"dataframe\"><thead><tr><th>schema.Search.term</th><th>number</th><th>name</th><th>start</th><th>end</th><th>status</th><th>org__id</th></tr><tr><td>str</td><td>i64</td><td>str</td><td>date</td><td>date</td><td>str</td><td>str</td></tr></thead><tbody><tr><td>&quot;test&quot;</td><td>0</td><td>&quot;baking cake&quot;</td><td>2020-01-01</td><td>2020-01-04</td><td>&quot;done&quot;</td><td>&quot;294904d0-e719-4599-899a-30bb20…</td></tr><tr><td>&quot;test&quot;</td><td>1</td><td>&quot;cleaning shoes&quot;</td><td>2020-01-02</td><td>2020-01-05</td><td>&quot;done&quot;</td><td>&quot;5f96952f-62aa-46da-b2e4-842a90…</td></tr><tr><td>&quot;test&quot;</td><td>2</td><td>&quot;fixing cars&quot;</td><td>2020-01-03</td><td>2020-01-06</td><td>&quot;started&quot;</td><td>&quot;65d054da-b302-4728-aac0-8a1698…</td></tr></tbody></table></div>"
      ],
      "text/plain": [
       "\n",
       "shape: \u001b[1m(\u001b[0m\u001b[1;36m3\u001b[0m, \u001b[1;36m7\u001b[0m\u001b[1m)\u001b[0m\n",
       "┌──────────────────┬────────┬────────────────┬────────────┬────────────┬─────────┬─────────────────┐\n",
       "│ schema.Search.te ┆ number ┆ name           ┆ start      ┆ end        ┆ status  ┆ org__id         │\n",
       "│ rm               ┆ ---    ┆ ---            ┆ ---        ┆ ---        ┆ ---     ┆ ---             │\n",
       "│ ---              ┆ i64    ┆ str            ┆ date       ┆ date       ┆ str     ┆ str             │\n",
       "│ str              ┆        ┆                ┆            ┆            ┆         ┆                 │\n",
       "╞══════════════════╪════════╪════════════════╪════════════╪════════════╪═════════╪═════════════════╡\n",
       "│ test             ┆ \u001b[1;36m0\u001b[0m      ┆ baking cake    ┆ \u001b[1;36m2020\u001b[0m-\u001b[1;36m01\u001b[0m-\u001b[1;36m01\u001b[0m ┆ \u001b[1;36m2020\u001b[0m-\u001b[1;36m01\u001b[0m-\u001b[1;36m04\u001b[0m ┆ done    ┆ 294904d0-e719-\u001b[1;36m4\u001b[0m │\n",
       "│                  ┆        ┆                ┆            ┆            ┆         ┆ \u001b[1;36m599\u001b[0m-899a-30bb20 │\n",
       "│                  ┆        ┆                ┆            ┆            ┆         ┆ …               │\n",
       "│ test             ┆ \u001b[1;36m1\u001b[0m      ┆ cleaning shoes ┆ \u001b[1;36m2020\u001b[0m-\u001b[1;36m01\u001b[0m-\u001b[1;36m02\u001b[0m ┆ \u001b[1;36m2020\u001b[0m-\u001b[1;36m01\u001b[0m-\u001b[1;36m05\u001b[0m ┆ done    ┆ 5f96952f-62aa-\u001b[1;36m4\u001b[0m │\n",
       "│                  ┆        ┆                ┆            ┆            ┆         ┆ 6da-b2e4-842a90 │\n",
       "│                  ┆        ┆                ┆            ┆            ┆         ┆ …               │\n",
       "│ test             ┆ \u001b[1;36m2\u001b[0m      ┆ fixing cars    ┆ \u001b[1;36m2020\u001b[0m-\u001b[1;36m01\u001b[0m-\u001b[1;36m03\u001b[0m ┆ \u001b[1;36m2020\u001b[0m-\u001b[1;36m01\u001b[0m-\u001b[1;36m06\u001b[0m ┆ started ┆ 65d054da-b302-\u001b[1;36m4\u001b[0m │\n",
       "│                  ┆        ┆                ┆            ┆            ┆         ┆ \u001b[1;36m728\u001b[0m-aac0-8a1698 │\n",
       "│                  ┆        ┆                ┆            ┆            ┆         ┆ …               │\n",
       "└──────────────────┴────────┴────────────────┴────────────┴────────────┴─────────┴─────────────────┘"
      ]
     },
     "execution_count": 32,
     "metadata": {},
     "output_type": "execute_result"
    }
   ],
   "source": [
    "db[Search.results].df()"
   ]
  },
  {
   "cell_type": "code",
   "execution_count": 33,
   "metadata": {},
   "outputs": [
    {
     "data": {
      "text/html": [
       "<pre style=\"white-space:pre;overflow-x:auto;line-height:normal;font-family:Menlo,'DejaVu Sans Mono',consolas,'Courier New',monospace\"></pre>\n"
      ],
      "text/plain": []
     },
     "metadata": {},
     "output_type": "display_data"
    },
    {
     "data": {
      "text/html": [
       "<div><style>\n",
       ".dataframe > thead > tr,\n",
       ".dataframe > tbody > tr {\n",
       "  text-align: right;\n",
       "  white-space: pre-wrap;\n",
       "}\n",
       "</style>\n",
       "<small>shape: (3, 6)</small><table border=\"1\" class=\"dataframe\"><thead><tr><th>schema.Search.term</th><th>schema.Search.results.number</th><th>_id</th><th>name</th><th>address</th><th>city</th></tr><tr><td>str</td><td>i64</td><td>str</td><td>str</td><td>str</td><td>str</td></tr></thead><tbody><tr><td>&quot;test&quot;</td><td>0</td><td>&quot;294904d0-e719-4599-899a-30bb20…</td><td>&quot;Bakery&quot;</td><td>&quot;Main Street 1&quot;</td><td>&quot;Bakerville&quot;</td></tr><tr><td>&quot;test&quot;</td><td>1</td><td>&quot;5f96952f-62aa-46da-b2e4-842a90…</td><td>&quot;Shoe Shop&quot;</td><td>&quot;Main Street 2&quot;</td><td>&quot;Shoetown&quot;</td></tr><tr><td>&quot;test&quot;</td><td>2</td><td>&quot;65d054da-b302-4728-aac0-8a1698…</td><td>&quot;Car Shop&quot;</td><td>&quot;Main Street 3&quot;</td><td>&quot;Cartown&quot;</td></tr></tbody></table></div>"
      ],
      "text/plain": [
       "\n",
       "shape: \u001b[1m(\u001b[0m\u001b[1;36m3\u001b[0m, \u001b[1;36m6\u001b[0m\u001b[1m)\u001b[0m\n",
       "┌───────────────────┬──────────────────┬──────────────────┬───────────┬───────────────┬────────────┐\n",
       "│ schema.Search.ter ┆ schema.Search.re ┆ _id              ┆ name      ┆ address       ┆ city       │\n",
       "│ m                 ┆ sults.number     ┆ ---              ┆ ---       ┆ ---           ┆ ---        │\n",
       "│ ---               ┆ ---              ┆ str              ┆ str       ┆ str           ┆ str        │\n",
       "│ str               ┆ i64              ┆                  ┆           ┆               ┆            │\n",
       "╞═══════════════════╪══════════════════╪══════════════════╪═══════════╪═══════════════╪════════════╡\n",
       "│ test              ┆ \u001b[1;36m0\u001b[0m                ┆ 294904d0-e719-\u001b[1;36m45\u001b[0m ┆ Bakery    ┆ Main Street \u001b[1;36m1\u001b[0m ┆ Bakerville │\n",
       "│                   ┆                  ┆ \u001b[1;36m99\u001b[0m-899a-30bb20…  ┆           ┆               ┆            │\n",
       "│ test              ┆ \u001b[1;36m1\u001b[0m                ┆ 5f96952f-62aa-\u001b[1;36m46\u001b[0m ┆ Shoe Shop ┆ Main Street \u001b[1;36m2\u001b[0m ┆ Shoetown   │\n",
       "│                   ┆                  ┆ da-b2e4-842a90…  ┆           ┆               ┆            │\n",
       "│ test              ┆ \u001b[1;36m2\u001b[0m                ┆ 65d054da-b302-\u001b[1;36m47\u001b[0m ┆ Car Shop  ┆ Main Street \u001b[1;36m3\u001b[0m ┆ Cartown    │\n",
       "│                   ┆                  ┆ \u001b[1;36m28\u001b[0m-aac0-8a1698…  ┆           ┆               ┆            │\n",
       "└───────────────────┴──────────────────┴──────────────────┴───────────┴───────────────┴────────────┘"
      ]
     },
     "execution_count": 33,
     "metadata": {},
     "output_type": "execute_result"
    }
   ],
   "source": [
    "db[Search.results.x.org].df()"
   ]
  },
  {
   "cell_type": "code",
   "execution_count": 34,
   "metadata": {},
   "outputs": [
    {
     "data": {
      "text/html": [
       "<pre style=\"white-space:pre;overflow-x:auto;line-height:normal;font-family:Menlo,'DejaVu Sans Mono',consolas,'Courier New',monospace\"></pre>\n"
      ],
      "text/plain": []
     },
     "metadata": {},
     "output_type": "display_data"
    },
    {
     "data": {
      "text/html": [
       "<div><style>\n",
       ".dataframe > thead > tr,\n",
       ".dataframe > tbody > tr {\n",
       "  text-align: right;\n",
       "  white-space: pre-wrap;\n",
       "}\n",
       "</style>\n",
       "<small>shape: (3, 4)</small><table border=\"1\" class=\"dataframe\"><thead><tr><th>_id</th><th>name</th><th>address</th><th>city</th></tr><tr><td>str</td><td>str</td><td>str</td><td>str</td></tr></thead><tbody><tr><td>&quot;294904d0-e719-4599-899a-30bb20…</td><td>&quot;Bakery&quot;</td><td>&quot;Main Street 1&quot;</td><td>&quot;Bakerville&quot;</td></tr><tr><td>&quot;5f96952f-62aa-46da-b2e4-842a90…</td><td>&quot;Shoe Shop&quot;</td><td>&quot;Main Street 2&quot;</td><td>&quot;Shoetown&quot;</td></tr><tr><td>&quot;65d054da-b302-4728-aac0-8a1698…</td><td>&quot;Car Shop&quot;</td><td>&quot;Main Street 3&quot;</td><td>&quot;Cartown&quot;</td></tr></tbody></table></div>"
      ],
      "text/plain": [
       "\n",
       "shape: \u001b[1m(\u001b[0m\u001b[1;36m3\u001b[0m, \u001b[1;36m4\u001b[0m\u001b[1m)\u001b[0m\n",
       "┌─────────────────────────────────┬───────────┬───────────────┬────────────┐\n",
       "│ _id                             ┆ name      ┆ address       ┆ city       │\n",
       "│ ---                             ┆ ---       ┆ ---           ┆ ---        │\n",
       "│ str                             ┆ str       ┆ str           ┆ str        │\n",
       "╞═════════════════════════════════╪═══════════╪═══════════════╪════════════╡\n",
       "│ 294904d0-e719-\u001b[1;36m4599\u001b[0m-899a-30bb20… ┆ Bakery    ┆ Main Street \u001b[1;36m1\u001b[0m ┆ Bakerville │\n",
       "│ 5f96952f-62aa-46da-b2e4-842a90… ┆ Shoe Shop ┆ Main Street \u001b[1;36m2\u001b[0m ┆ Shoetown   │\n",
       "│ 65d054da-b302-\u001b[1;36m4728\u001b[0m-aac0-8a1698… ┆ Car Shop  ┆ Main Street \u001b[1;36m3\u001b[0m ┆ Cartown    │\n",
       "└─────────────────────────────────┴───────────┴───────────────┴────────────┘"
      ]
     },
     "execution_count": 34,
     "metadata": {},
     "output_type": "execute_result"
    }
   ],
   "source": [
    "db[Organization].df()"
   ]
  },
  {
   "cell_type": "code",
   "execution_count": 35,
   "metadata": {},
   "outputs": [
    {
     "data": {
      "text/html": [
       "<pre style=\"white-space:pre;overflow-x:auto;line-height:normal;font-family:Menlo,'DejaVu Sans Mono',consolas,'Courier New',monospace\"></pre>\n"
      ],
      "text/plain": []
     },
     "metadata": {},
     "output_type": "display_data"
    },
    {
     "data": {
      "text/html": [
       "<div><style>\n",
       ".dataframe > thead > tr,\n",
       ".dataframe > tbody > tr {\n",
       "  text-align: right;\n",
       "  white-space: pre-wrap;\n",
       "}\n",
       "</style>\n",
       "<small>shape: (1, 4)</small><table border=\"1\" class=\"dataframe\"><thead><tr><th>_id</th><th>score</th><th>_from_term</th><th>_to_number</th></tr><tr><td>str</td><td>f64</td><td>str</td><td>i64</td></tr></thead><tbody><tr><td>&quot;14941c52d3&quot;</td><td>0.9</td><td>&quot;test&quot;</td><td>0</td></tr></tbody></table></div>"
      ],
      "text/plain": [
       "\n",
       "shape: \u001b[1m(\u001b[0m\u001b[1;36m1\u001b[0m, \u001b[1;36m4\u001b[0m\u001b[1m)\u001b[0m\n",
       "┌────────────┬───────┬────────────┬────────────┐\n",
       "│ _id        ┆ score ┆ _from_term ┆ _to_number │\n",
       "│ ---        ┆ ---   ┆ ---        ┆ ---        │\n",
       "│ str        ┆ f64   ┆ str        ┆ i64        │\n",
       "╞════════════╪═══════╪════════════╪════════════╡\n",
       "│ 14941c52d3 ┆ \u001b[1;36m0.9\u001b[0m   ┆ test       ┆ \u001b[1;36m0\u001b[0m          │\n",
       "└────────────┴───────┴────────────┴────────────┘"
      ]
     },
     "execution_count": 35,
     "metadata": {},
     "output_type": "execute_result"
    }
   ],
   "source": [
    "db[SearchResult._table[SearchResult.score.isin(slice(0.81, 0.9))]].df()"
   ]
  },
  {
   "cell_type": "code",
   "execution_count": 36,
   "metadata": {},
   "outputs": [
    {
     "data": {
      "text/html": [
       "<pre style=\"white-space:pre;overflow-x:auto;line-height:normal;font-family:Menlo,'DejaVu Sans Mono',consolas,'Courier New',monospace\"></pre>\n"
      ],
      "text/plain": []
     },
     "metadata": {},
     "output_type": "display_data"
    },
    {
     "data": {
      "text/html": [
       "<div>\n",
       "<style scoped>\n",
       "    .dataframe tbody tr th:only-of-type {\n",
       "        vertical-align: middle;\n",
       "    }\n",
       "\n",
       "    .dataframe tbody tr th {\n",
       "        vertical-align: top;\n",
       "    }\n",
       "\n",
       "    .dataframe thead th {\n",
       "        text-align: right;\n",
       "    }\n",
       "</style>\n",
       "<table border=\"1\" class=\"dataframe\">\n",
       "  <thead>\n",
       "    <tr style=\"text-align: right;\">\n",
       "      <th></th>\n",
       "      <th></th>\n",
       "      <th>value</th>\n",
       "    </tr>\n",
       "    <tr>\n",
       "      <th>schema.Organization._id</th>\n",
       "      <th>schema.Organization.countries.idx</th>\n",
       "      <th></th>\n",
       "    </tr>\n",
       "  </thead>\n",
       "  <tbody>\n",
       "    <tr>\n",
       "      <th rowspan=\"3\" valign=\"top\">294904d0-e719-4599-899a-30bb20325890</th>\n",
       "      <th>0</th>\n",
       "      <td>USA</td>\n",
       "    </tr>\n",
       "    <tr>\n",
       "      <th>1</th>\n",
       "      <td>Mexico</td>\n",
       "    </tr>\n",
       "    <tr>\n",
       "      <th>2</th>\n",
       "      <td>Canada</td>\n",
       "    </tr>\n",
       "    <tr>\n",
       "      <th rowspan=\"2\" valign=\"top\">5f96952f-62aa-46da-b2e4-842a90a22c42</th>\n",
       "      <th>0</th>\n",
       "      <td>USA</td>\n",
       "    </tr>\n",
       "    <tr>\n",
       "      <th>1</th>\n",
       "      <td>Mexico</td>\n",
       "    </tr>\n",
       "    <tr>\n",
       "      <th rowspan=\"2\" valign=\"top\">65d054da-b302-4728-aac0-8a16983b59e8</th>\n",
       "      <th>0</th>\n",
       "      <td>USA</td>\n",
       "    </tr>\n",
       "    <tr>\n",
       "      <th>1</th>\n",
       "      <td>Canada</td>\n",
       "    </tr>\n",
       "  </tbody>\n",
       "</table>\n",
       "</div>"
      ],
      "text/plain": [
       "\n",
       "                                                                         value\n",
       "schema.Organization._id              schema.Organization.countries.idx        \n",
       "\u001b[93m294904d0-e719-4599-899a-30bb20325890\u001b[0m \u001b[1;36m0\u001b[0m                                     USA\n",
       "                                     \u001b[1;36m1\u001b[0m                                  Mexico\n",
       "                                     \u001b[1;36m2\u001b[0m                                  Canada\n",
       "\u001b[93m5f96952f-62aa-46da-b2e4-842a90a22c42\u001b[0m \u001b[1;36m0\u001b[0m                                     USA\n",
       "                                     \u001b[1;36m1\u001b[0m                                  Mexico\n",
       "\u001b[93m65d054da-b302-4728-aac0-8a16983b59e8\u001b[0m \u001b[1;36m0\u001b[0m                                     USA\n",
       "                                     \u001b[1;36m1\u001b[0m                                  Canada"
      ]
     },
     "execution_count": 36,
     "metadata": {},
     "output_type": "execute_result"
    }
   ],
   "source": [
    "import pandas as pd\n",
    "\n",
    "\n",
    "db[Organization.countries].df(pd.DataFrame)"
   ]
  },
  {
   "cell_type": "code",
   "execution_count": 37,
   "metadata": {},
   "outputs": [
    {
     "name": "stdout",
     "output_type": "stream",
     "text": [
      "         546434 function calls (483929 primitive calls) in 1.100 seconds\n",
      "\n",
      "   Ordered by: cumulative time\n",
      "   List reduced from 1730 to 150 due to restriction <'py_research'>\n",
      "\n",
      "   ncalls  tottime  percall  cumtime  percall filename:lineno(function)\n",
      "       17    0.000    0.000    0.464    0.027 C:\\Users\\lworm\\Repos\\py-research\\src\\py_research\\db\\databases.py:2057(__ior__)\n",
      "       17    0.001    0.000    0.463    0.027 C:\\Users\\lworm\\Repos\\py-research\\src\\py_research\\db\\databases.py:3262(_mutate)\n",
      "       11    0.000    0.000    0.456    0.041 C:\\Users\\lworm\\Repos\\py-research\\src\\py_research\\db\\datasources.py:843(load)\n",
      "    36/12    0.001    0.000    0.456    0.038 C:\\Users\\lworm\\Repos\\py-research\\src\\py_research\\db\\datasources.py:661(_load_records)\n",
      "       55    0.001    0.000    0.439    0.008 C:\\Users\\lworm\\Repos\\py-research\\src\\py_research\\db\\datasources.py:696(_load_rec_from_item)\n",
      "       55    0.002    0.000    0.438    0.008 C:\\Users\\lworm\\Repos\\py-research\\src\\py_research\\db\\datasources.py:568(_load_record)\n",
      "       16    0.001    0.000    0.423    0.026 C:\\Users\\lworm\\Repos\\py-research\\src\\py_research\\db\\databases.py:3412(_mutate_from_records)\n",
      "       48    0.001    0.000    0.258    0.005 C:\\Users\\lworm\\Repos\\py-research\\src\\py_research\\db\\databases.py:853(keys)\n",
      "       48    0.002    0.000    0.256    0.005 C:\\Users\\lworm\\Repos\\py-research\\src\\py_research\\db\\databases.py:1036(df)\n",
      "       17    0.000    0.000    0.238    0.014 C:\\Users\\lworm\\Repos\\py-research\\src\\py_research\\db\\databases.py:3236(_df_to_table)\n",
      "  773/444    0.003    0.000    0.206    0.000 C:\\Users\\lworm\\Repos\\py-research\\src\\py_research\\db\\databases.py:2376(__hash__)\n",
      "20283/476    0.024    0.000    0.193    0.000 C:\\Users\\lworm\\Repos\\py-research\\src\\py_research\\hashing.py:54(inner)\n",
      "20283/476    0.051    0.000    0.190    0.000 C:\\Users\\lworm\\Repos\\py-research\\src\\py_research\\hashing.py:69(gen_int_hash)\n",
      " 2977/502    0.002    0.000    0.185    0.000 C:\\Users\\lworm\\Repos\\py-research\\src\\py_research\\hashing.py:43(_hash_sequence)\n",
      "8749/3240    0.017    0.000    0.183    0.000 C:\\Users\\lworm\\Repos\\py-research\\src\\py_research\\hashing.py:44(<lambda>)\n",
      "19152/13287    0.024    0.000    0.173    0.000 C:\\Users\\lworm\\Repos\\py-research\\src\\py_research\\caching.py:382(__get__)\n",
      "       17    0.003    0.000    0.164    0.010 C:\\Users\\lworm\\Repos\\py-research\\src\\py_research\\db\\databases.py:3505(_mutate_from_sql)\n",
      "      174    0.001    0.000    0.157    0.001 C:\\Users\\lworm\\Repos\\py-research\\src\\py_research\\db\\databases.py:2080(__eq__)\n",
      "       49    0.000    0.000    0.113    0.002 C:\\Users\\lworm\\Repos\\py-research\\src\\py_research\\caching.py:364(__call__)\n",
      "       49    0.001    0.000    0.113    0.002 C:\\Users\\lworm\\Repos\\py-research\\src\\py_research\\db\\databases.py:653(select)\n",
      "      289    0.002    0.000    0.073    0.000 C:\\Users\\lworm\\Repos\\py-research\\src\\py_research\\db\\databases.py:706(sql_col)\n",
      "    11690    0.032    0.000    0.059    0.000 C:\\Users\\lworm\\Repos\\py-research\\src\\py_research\\hashing.py:34(_stable_hash)\n",
      "       60    0.002    0.000    0.054    0.001 C:\\Users\\lworm\\Repos\\py-research\\src\\py_research\\db\\databases.py:2628(_abs_idx_cols)\n",
      "       49    0.000    0.000    0.053    0.001 C:\\Users\\lworm\\Repos\\py-research\\src\\py_research\\db\\databases.py:764(sql_joins)\n",
      "       49    0.000    0.000    0.052    0.001 C:\\Users\\lworm\\Repos\\py-research\\src\\py_research\\db\\databases.py:2780(_total_join_dict)\n",
      "       49    0.000    0.000    0.051    0.001 C:\\Users\\lworm\\Repos\\py-research\\src\\py_research\\db\\databases.py:2776(_total_froms)\n",
      "       49    0.001    0.000    0.050    0.001"
     ]
    },
    {
     "name": "stdout",
     "output_type": "stream",
     "text": [
      " C:\\Users\\lworm\\Repos\\py-research\\src\\py_research\\db\\databases.py:2713(_abs_filters)\n",
      "       10    0.000    0.000    0.046    0.005 C:\\Users\\lworm\\Repos\\py-research\\src\\py_research\\telemetry.py:104(tqdm)\n",
      "      338    0.001    0.000    0.042    0.000 C:\\Users\\lworm\\Repos\\py-research\\src\\py_research\\db\\databases.py:720(sql_from)\n",
      "    77/68    0.001    0.000    0.040    0.001 C:\\Users\\lworm\\Repos\\py-research\\src\\py_research\\db\\databases.py:3033(_gen_sql_base_table)\n",
      "      460    0.001    0.000    0.037    0.000 C:\\Users\\lworm\\Repos\\py-research\\src\\py_research\\db\\databases.py:4383(__hash__)\n",
      "       17    0.001    0.000    0.036    0.002 C:\\Users\\lworm\\Repos\\py-research\\src\\py_research\\db\\databases.py:3146(_values_to_df)\n",
      "      208    0.002    0.000    0.033    0.000 C:\\Users\\lworm\\Repos\\py-research\\src\\py_research\\db\\databases.py:535(value_type)\n",
      "        1    0.000    0.000    0.029    0.029 C:\\Users\\lworm\\Repos\\py-research\\src\\py_research\\db\\databases.py:3396(_mutate_from_values)\n",
      "      895    0.002    0.000    0.028    0.000 C:\\Users\\lworm\\Repos\\py-research\\src\\py_research\\db\\databases.py:2561(_table)\n",
      "       78    0.000    0.000    0.027    0.000 C:\\Users\\lworm\\Repos\\py-research\\src\\py_research\\db\\databases.py:2957(_visit_filter_col)\n",
      "      209    0.010    0.000    0.022    0.000 C:\\Users\\lworm\\Repos\\py-research\\src\\py_research\\data.py:33(copy_and_override)\n",
      "       36    0.001    0.000    0.020    0.001 C:\\Users\\lworm\\Repos\\py-research\\src\\py_research\\db\\databases.py:4959(__init__)\n",
      "       17    0.001    0.000    0.020    0.001 C:\\Users\\lworm\\Repos\\py-research\\src\\py_research\\db\\databases.py:3192(_gen_upload_table)\n",
      "      195    0.000    0.000    0.020    0.000 C:\\Users\\lworm\\Repos\\py-research\\src\\py_research\\db\\databases.py:547(target_type)\n",
      "       52    0.000    0.000    0.019    0.000 C:\\Users\\lworm\\Repos\\py-research\\src\\py_research\\db\\databases.py:2741(<genexpr>)\n",
      "       48    0.000    0.000    0.019    0.000 C:\\Users\\lworm\\Repos\\py-research\\src\\py_research\\db\\datasources.py:536(_gen_match_expr)\n",
      "       52    0.000    0.000    0.018    0.000 C:\\Users\\lworm\\Repos\\py-research\\src\\py_research\\db\\databases.py:2744(<genexpr>)\n",
      "       47    0.000    0.000    0.018    0.000 C:\\Users\\lworm\\Repos\\py-research\\src\\py_research\\db\\datasources.py:551(<genexpr>)\n",
      "      485    0.003    0.000    0.018    0.000 C:\\Users\\lworm\\Repos\\py-research\\src\\py_research\\db\\databases.py:2830(_hint_to_typedef)\n",
      "        9    0.000    0.000    0.017    0.002 C:\\Users\\lworm\\Repos\\py-research\\src\\py_research\\db\\databases.py:4449(_create_sqla_table)\n",
      "      208    0.000    0.000    0.016    0.000 C:\\Users\\lworm\\Repos\\py-research\\src\\py_research\\db\\databases.py:2408(_generic_type)\n",
      "      830    0.003    0.000    0.014    0.000 C:\\Users\\lworm\\Repos\\py-research\\src\\py_research\\db\\databases.py:4718(_props)\n",
      "      323    0.001    0.000    0.014    0.000 C:\\Users\\lworm\\Repos\\py-research\\src\\py_research\\reflect\\types.py:56(is_subtype)\n",
      "        8    0.000    0.000    0.012    0.001 C:\\Users\\lworm\\Repos\\py-research\\src\\py_research\\db\\datasources.py:290(sub_tables)\n",
      "     1010    0.003    0.000    0.011    0.000 C:\\Users\\lworm\\Repos\\py-research\\src\\py_research\\db\\databases.py:4708(_class_fk_values)\n",
      "        8    0.000    0.000    0.010    0.001 C:\\Users\\lworm\\Repos\\py-research\\src\\py_research\\db\\datasources.py:271(full_map)\n",
      "       81    0.002    0.000    0.010    0.000 C:\\Users\\lworm\\Repos\\py-research\\src\\py_research\\db\\databases.py:1685(__getitem__)\n",
      "       11    0.000    0.000    0.010    0.001 C:\\Users\\lworm\\Repos\\py-research\\src\\py_research\\db\\databases.py:2694(_base_table_map)\n",
      "        7    0.000    0.000    0.009    0.001 C:\\Users\\lworm\\Repos\\py-research\\src\\py_research\\db\\datasources.py:430(_push_to_pull_map)\n",
      "       17    0.000    0.000    0.009    0.001 C:\\Users\\lworm\\Repos\\py-research\\src\\py_research\\db\\databases.py:330(_get_pl_schema)\n",
      "       48    0.001    0.000    0.008    0.000 C:\\Users\\lworm\\Repos\\py-research\\src\\py_research\\db\\databases.py:5067(_is_complete_dict)\n",
      "      172    0.000    0.000    0.007    0.000 C:\\Users\\lworm\\Repos\\py-research\\src\\py_research\\db\\databases.py:2477(_backlink)\n",
      "  599/440    0.002    0.000    0.006    0.000 C:\\Users\\lworm\\Repos\\py-research\\src\\py_research\\db\\databases.py:2266(__get__)\n",
      "       12    0.001    0.000    0.006    0.000 C:\\Users\\lworm\\Repos\\py-research\\src\\py_research\\db\\databases.py:2594(_abs_cols)\n",
      "      229    0.001    0.000    0.005    0.000 C:\\Users\\lworm\\Repos\\py-research\\src\\py_research\\db\\databases.py:4759(_values)\n",
      "        9    0.000    0.000    0.005    0.001 C:\\Users\\lworm\\Repos\\py-research\\src\\py_research\\db\\databases.py:2976(_gen_sql_base_cols)\n",
      "        9    0.000    0.000    0.005    0.001 C:\\Users\\lworm\\Repos\\py-research\\src\\py_research\\db\\databases.py:2999(_gen_sql_base_fks)\n",
      "      254    0.001    0.000    0.005    0.000 C:\\Users\\lworm\\Repos\\py-research\\src\\py_research\\db\\databases.py:4771(_tables)\n",
      "       96    0.000    0.000    0.005    0.000 C:\\Users\\lworm\\Repos\\py-research\\src\\py_research\\db\\datasources.py:206(select)\n",
      "      300    0.001    0.000    0.005    0.000 C:\\Users\\lworm\\Repos\\py-research\\src\\py_research\\reflect\\types.py:65(has_type)\n",
      "     1010    0.003    0.000    0.005    0.000 C:\\Users\\lworm\\Repos\\py-research\\src\\py_research\\db\\databases.py:4697(_class_links)\n",
      "       48    0.000    0.000    0.004    0.000 C:\\Users\\lworm\\Repos\\py-research\\src\\py_research\\db\\databases.py:4767(_non_fk_values)\n",
      "       16    0.000    0.000    0.004    0.000 C:\\Users\\lworm\\Repos\\py-research\\src\\py_research\\db\\databases.py:5171(__post_init__)\n",
      "       38    0.000    0.000    0.004    0.000 C:\\Users\\lworm\\Repos\\py-research\\src\\py_research\\db\\databases.py:2929(_prepend_ctx)\n",
      "       79    0.000    0.000    0.004    0.000 C:\\Users\\lworm\\Repos\\py-research\\src\\py_research\\db\\databases.py:552(record_type)\n",
      "       96    0.000    0.000    0.004    0.000 C:\\Users\\lworm\\Repos\\py-research\\src\\py_research\\db\\datasources.py:103(select)\n",
      "       38    0.000    0.000    0.004    0.000 C:\\Users\\lworm\\Repos\\py-research\\src\\py_research\\db\\databases.py:2945(<lambda>)\n",
      "       96    0.001    0.000    0.003    0.000 C:\\Users\\lworm\\Repos\\py-research\\src\\py_research\\db\\datasources.py:55(_select_on_level)\n",
      "   127/66    0.000    0.000    0.003    0.000 C:\\Users\\lworm\\Repos\\py-research\\src\\py_research\\db\\databases.py:629(fqn)\n",
      "       16    0.000    0.000    0.003    0.000 C:\\Users\\lworm\\Repos\\py-research\\src\\py_research\\hashing.py:143(gen_str_hash)\n",
      "       36    0.001    0.000    0.003    0.000 C:\\Users\\lworm\\Repos\\py-research\\src\\py_research\\db\\databases.py:5045(_to_dict)\n",
      "      151    0.000    0.000    0.003    0.000 C:\\Users\\lworm\\Repos\\py-research\\src\\py_research\\db\\databases.py:4775(_links)\n",
      "       60    0.000    0.000    0.003    0.000 C:\\Users\\lworm\\Repos\\py-research\\src\\py_research\\db\\databases.py:2588(_abs_link_path)\n",
      "      105    0.000    0.000    0.003    0.000 C:\\Users\\lworm\\Repos\\py-research\\src\\py_research\\db\\databases.py:4728(_pk_values)\n",
      "      518    0.000    0.000    0.003    0.000 C:\\Users\\lworm\\Repos\\py-research\\src\\py_research\\hashing.py:109(<genexpr>)\n",
      "       59    0.000    0.000    0.002    0.000 C:\\Users\\lworm\\Repos\\py-research\\src\\py_research\\db\\databases.py:4763(_col_values)\n",
      "      136    0.000    0.000    0.002    0.000 C:\\Users\\lworm\\Repos\\py-research\\src\\py_research\\db\\databases.py:2449(_ctx_module)\n",
      "      171    0.000    0.000    0.002    0.000 C:\\Users\\lworm\\Repos\\py-research\\src\\py_research\\db\\databases.py:4750(_fk_values)\n",
      "      292    0.000    0.000    0.002    0.000 C:\\Users\\lworm\\Repos\\py-research\\src\\py_research\\db\\databases.py:2584(_root)\n",
      "        1    0.000    0.000    0.002    0.002 C:\\Users\\lworm\\Repos\\py-research\\src\\py_research\\db\\databases.py:1845(__setitem__)\n",
      "      103    0.000    0.000    0.002    0.000 C:\\Users\\lworm\\Repos\\py-research\\src\\py_research\\db\\databases.py:4779(_arrays)\n",
      "  202/166    0.001    0.000    0.002    0.000 C:\\Users\\lworm\\Repos\\py-research\\src\\py_research\\db\\databases.py:2330(__set__)\n",
      "       68    0.000    0.000    0.002    0.000 C:\\Users\\lworm\\Repos\\py-research\\src\\py_research\\db\\datasources.py:480(_sliding_batch_map)\n",
      "      192    0.001    0.000    0.002    0.000 C:\\Users\\lworm\\Repos\\py-research\\src\\py_research\\db\\databases.py:559(relation_type)\n",
      "      208    0.001    0.000    0.002    0.000 C:\\Users\\lworm\\Repos\\py-research\\src\\py_research\\db\\databases.py:2416(_generic_args)\n",
      "        2    0.000    0.000    0.001    0.001 C:\\Users\\lworm\\Repos\\py-research\\src\\py_research\\db\\databases.py:3962(relation_type)\n",
      "      202    0.000    0.000    0.001    0.000 C:\\Users\\lworm\\Repos\\py-research\\src\\py_research\\db\\databases.py:530(name)\n",
      "       77    0.000    0.000    0.001    0.000 C:\\Users\\lworm\\Repos\\py-research\\src\\py_research\\db\\databases.py:5081(<genexpr>)\n",
      "       86    0.000    0.000    0.001    0.000 C:\\Users\\lworm\\Repos\\py-research\\src\\py_research\\db\\databases.py:4905(_get_table_name)\n",
      "        1    0.000    0.000    0.001    0.001 C:\\Users\\lworm\\Repos\\py-research\\src\\py_research\\db\\databases.py:4147(engine)\n",
      "      128    0.000    0.000    0.001    0.000 C:\\Users\\lworm\\Repos\\py-research\\src\\py_research\\db\\databases.py:3837(name)\n",
      "       60    0.000    0.000    0.001    0.000 C:\\Users\\lworm\\Repos\\py-research\\src\\py_research\\db\\databases.py:594(path)\n",
      "1853/1851    0.001    0.000    0.001    0.000 C:\\Users\\lworm\\Repos\\py-research\\src\\py_research\\db\\databases.py:4597(_get_class_props)\n",
      "      132    0.001    0.000    0.001    0.000 C:\\Users\\lworm\\Repos\\py-research\\src\\py_research\\db\\databases.py:3832(__post_init__)\n",
      "       77    0.000    0.000    0.001    0.000 C:\\Users\\lworm\\Repos\\py-research\\src\\py_research\\db\\databases.py:3651(<genexpr>)\n",
      "       86    0.001    0.000    0.001    0.000 C:\\Users\\lworm\\Repos\\py-research\\src\\py_research\\db\\databases.py:4891(_default_table_name)\n",
      "        2    0.000    0.000    0.001    0.000 C:\\Users\\lworm\\Repos\\py-research\\src\\py_research\\db\\databases.py:5131(dynamic_record_type)\n",
      "       82    0.000    0.000    0.001    0.000 C:\\Users\\lworm\\Repos\\py-research\\src\\py_research\\db\\databases.py:5082(<genexpr>)\n",
      "        1    0.000    0.000    0.001    0.001 C:\\Users\\lworm\\Repos\\py-research\\src\\py_research\\db\\databases.py:4160(df_engine)\n",
      "     3558    0.001    0.000    0.001    0.000 C:\\Users\\lworm\\Repos\\py-research\\src\\py_research\\data.py:82(<genexpr>)\n",
      "     3565    0.001    0.000    0.001    0.000 C:\\Users\\lworm\\Repos\\py-research\\src\\py_research\\data.py:56(<genexpr>)\n",
      "      136    0.001    0.000    0.001    0.000 C:\\Users\\lworm\\Repos\\py-research\\src\\py_research\\db\\databases.py:2427(_symbolic_ctx)\n",
      "       16    0.000    0.000    0.001    0.000 C:\\Users\\lworm\\Repos\\py-research\\src\\py_research\\db\\databases.py:5161(<lambda>)\n",
      "        2    0.000    0.000    0.001    0.000 C:\\Users\\lworm\\Repos\\py-research\\src\\py_research\\db\\databases.py:4548(__init__)\n",
      "      146    0.000    0.000    0.000    0.000 C:\\Users\\lworm\\Repos\\py-research\\src\\py_research\\db\\databases.py:4783(_fqn)\n",
      "      463    0.000    0.000    0.000    0.000 C:\\Users\\lworm\\Repos\\py-research\\src\\py_research\\db\\databases.py:4103(db_id)\n",
      "        9    0.000    0.000    0.000    0.000 C:\\Users\\lworm\\Repos\\py-research\\src\\py_research\\db\\databases.py:4737(_class_values)\n",
      "       41    0.000    0.000    0.000    0.000 C:\\Users\\lworm\\Repos\\py-research\\src\\py_research\\db\\databases.py:3135(_gen_fk_value_map)\n",
      "       36    0.000    0.000    0.000    0.000 C:\\Users\\lworm\\Repos\\py-research\\src\\py_research\\db\\databases.py:3421(<lambda>)\n",
      "      150    0.000    0.000    0.000    0.000 C:\\Users\\lworm\\Repos\\py-research\\src\\py_research\\db\\databases.py:5074(<genexpr>)\n",
      "      387    0.000    0.000    0.000    0.000 C:\\Users\\lworm\\Repos\\py-research\\src\\py_research\\db\\databases.py:2863(_typedef_to_type)\n",
      "       60    0.000    0.000    0.000    0.000 C:\\Users\\lworm\\Repos\\py-research\\src\\py_research\\db\\databases.py:2526(_link)\n",
      "      202    0.000    0.000    0.000    0.000 C:\\Users\\lworm\\Repos\\py-research\\src\\py_research\\db\\databases.py:2436(_ctx_table)\n",
      "        7    0.000    0.000    0.000    0.000 C:\\Users\\lworm\\Repos\\py-research\\src\\py_research\\db\\datasources.py:406(_parse_pushmap)\n",
      "       36    0.000    0.000    0.000    0.000 C:\\Users\\lworm\\Repos\\py-research\\src\\py_research\\db\\databases.py:3423(<lambda>)\n",
      "        6    0.000    0.000    0.000    0.000 C:\\Users\\lworm\\Repos\\py-research\\src\\py_research\\db\\datasources.py:350(select)\n",
      "       49    0.000    0.000    0.000    0.000 C:\\Users\\lworm\\Repos\\py-research\\src\\py_research\\db\\databases.py:800(sql_filters)\n",
      "      830    0.000    0.000    0.000    0.000 C:\\Users\\lworm\\Repos\\py-research\\src\\py_research\\db\\databases.py:4724(<genexpr>)\n",
      "       28    0.000    0.000    0.000    0.000 C:\\Users\\lworm\\Repos\\py-research\\src\\py_research\\db\\databases.py:582(ctx)\n",
      "        2    0.000    0.000    0.000    0.000 C:\\Users\\lworm\\Repos\\py-research\\src\\py_research\\db\\databases.py:4884(__init_subclass__)\n",
      "       49    0.000    0.000    0.000    0.000 C:\\Users\\lworm\\Repos\\py-research\\src\\py_research\\db\\databases.py:2764(_abs_froms)\n",
      "      181    0.000    0.000    0.000    0.000 C:\\Users\\lworm\\Repos\\py-research\\src\\py_research\\db\\databases.py:572(db)\n",
      "     12/2    0.000    0.000    0.000    0.000 C:\\Users\\lworm\\Repos\\py-research\\src\\py_research\\db\\databases.py:4527(_get_typevar_map)\n",
      "        1    0.000    0.000    0.000    0.000 C:\\Users\\lworm\\Repos\\py-research\\src\\py_research\\db\\databases.py:4037(__post_init__)\n",
      "     16/6    0.000    0.000    0.000    0.000 C:\\Users\\lworm\\Repos\\py-research\\src\\py_research\\db\\databases.py:4544(<genexpr>)\n",
      "      106    0.000    0.000    0.000    0.000 C:\\Users\\lworm\\Repos\\py-research\\src\\py_research\\db\\datasources.py:265(record_type)\n",
      "        8    0.000    0.000    0.000    0.000 C:\\Users\\lworm\\Repos\\py-research\\src\\py_research\\db\\datasources.py:400(__post_init__)\n",
      "      171    0.000    0.000    0.000    0.000 C:\\Users\\lworm\\Repos\\py-research\\src\\py_research\\db\\databases.py:4755(<genexpr>)\n",
      "       17    0.000    0.000    0.000    0.000 C:\\Users\\lworm\\Repos\\py-research\\src\\py_research\\db\\databases.py:4435(_get_valid_cache_set)\n",
      "        2    0.000    0.000    0.000    0.000 C:\\Users\\lworm\\Repos\\py-research\\src\\py_research\\db\\databases.py:3554(<genexpr>)\n",
      "       44    0.000    0.000    0.000    0.000 C:\\Users\\lworm\\Repos\\py-research\\src\\py_research\\db\\datasources.py:356(<genexpr>)\n",
      "        2    0.000    0.000    0.000    0.000 C:\\Users\\lworm\\Repos\\py-research\\src\\py_research\\db\\databases.py:3478(_mutate_rels_from_rec_ids)\n",
      "        1    0.000    0.000    0.000    0.000 C:\\Users\\lworm\\Repos\\py-research\\src\\py_research\\db\\databases.py:4120(backend_type)\n",
      "        8    0.000    0.000    0.000    0.000 C:\\Users\\lworm\\Repos\\py-research\\src\\py_research\\db\\databases.py:4589(_super_types)\n",
      "        2    0.000    0.000    0.000    0.000 C:\\Users\\lworm\\Repos\\py-research\\src\\py_research\\db\\databases.py:5145(<lambda>)\n",
      "        2    0.000    0.000    0.000    0.000 C:\\Users\\lworm\\Repos\\py-research\\src\\py_research\\db\\databases.py:3954(_key_type)\n",
      "       20    0.000    0.000    0.000    0.000 C:\\Users\\lworm\\Repos\\py-research\\src\\py_research\\db\\databases.py:5016(__post_init__)\n",
      "        2    0.000    0.000    0.000    0.000 C:\\Users\\lworm\\Repos\\py-research\\src\\py_research\\db\\databases.py:3523(<genexpr>)\n",
      "        1    0.000    0.000    0.000    0.000 C:\\Users\\lworm\\Repos\\py-research\\src\\py_research\\db\\databases.py:2574(_rel)\n",
      "        1    0.000    0.000    0.000    0.000 C:\\Users\\lworm\\Repos\\py-research\\src\\py_research\\db\\databases.py:4393(_schema_map)\n",
      "        4    0.000    0.000    0.000    0.000 C:\\Users\\lworm\\Repos\\py-research\\src\\py_research\\db\\datasources.py:421(_get_selector_name)\n",
      "        4    0.000    0.000    0.000    0.000 C:\\Users\\lworm\\Repos\\py-research\\src\\py_research\\db\\databases.py:4543(<lambda>)\n",
      "        1    0.000    0.000    0.000    0.000 C:\\Users\\lworm\\Repos\\py-research\\src\\py_research\\db\\datasources.py:186(parse)\n",
      "        1    0.000    0.000    0.000    0.000 C:\\Users\\lworm\\Repos\\py-research\\src\\py_research\\db\\datasources.py:870(<genexpr>)\n",
      "\n",
      "\n"
     ]
    },
    {
     "data": {
      "text/html": [
       "<pre style=\"white-space:pre;overflow-x:auto;line-height:normal;font-family:Menlo,'DejaVu Sans Mono',consolas,'Courier New',monospace\"></pre>\n"
      ],
      "text/plain": []
     },
     "metadata": {},
     "output_type": "display_data"
    },
    {
     "data": {
      "text/plain": [
       "\u001b[1m<\u001b[0m\u001b[1;95mpstats.Stats\u001b[0m\u001b[39m object at \u001b[0m\u001b[1;36m0x00000179579D5C70\u001b[0m\u001b[1m>\u001b[0m"
      ]
     },
     "execution_count": 37,
     "metadata": {},
     "output_type": "execute_result"
    }
   ],
   "source": [
    "stats.sort_stats(\"cumulative\")\n",
    "stats.print_stats(\"py_research\")"
   ]
  }
 ],
 "metadata": {
  "kernelspec": {
   "display_name": ".venv",
   "language": "python",
   "name": "python3"
  },
  "language_info": {
   "codemirror_mode": {
    "name": "ipython",
    "version": 3
   },
   "file_extension": ".py",
   "mimetype": "text/x-python",
   "name": "python",
   "nbconvert_exporter": "python",
   "pygments_lexer": "ipython3",
   "version": "3.12.4"
  }
 },
 "nbformat": 4,
 "nbformat_minor": 2
}

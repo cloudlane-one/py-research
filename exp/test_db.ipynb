{
 "cells": [
  {
   "cell_type": "code",
   "execution_count": 1,
   "metadata": {},
   "outputs": [],
   "source": [
    "from __future__ import annotations\n",
    "\n",
    "import cProfile\n",
    "import pstats\n",
    "from asyncio import sleep"
   ]
  },
  {
   "cell_type": "code",
   "execution_count": 2,
   "metadata": {},
   "outputs": [],
   "source": [
    "from py_research.db import (\n",
    "    DataSource,\n",
    "    TableMap,\n",
    "    SubTableMap,\n",
    "    SubMap,\n",
    "    SelIndex,\n",
    "    DataBase\n",
    ")"
   ]
  },
  {
   "cell_type": "code",
   "execution_count": 3,
   "metadata": {},
   "outputs": [],
   "source": [
    "from test_db_schema import (\n",
    "    Search,\n",
    "    Project,\n",
    "    Task,\n",
    "    User,\n",
    "    Membership,\n",
    "    Organization,\n",
    "    SearchResult,\n",
    ")"
   ]
  },
  {
   "cell_type": "code",
   "execution_count": 4,
   "metadata": {},
   "outputs": [],
   "source": [
    "from typing import Any\n",
    "\n",
    "\n",
    "async def dummy_loader(obj: dict[str, Any]) -> dict:\n",
    "    await sleep(0.2)\n",
    "    return {\n",
    "        'name': obj[\"name\"],\n",
    "        'role': obj[\"role\"],\n",
    "        'age': obj[\"age\"] + 1\n",
    "    }"
   ]
  },
  {
   "cell_type": "code",
   "execution_count": 5,
   "metadata": {},
   "outputs": [],
   "source": [
    "data_source = DataSource(\n",
    "    target=Search,\n",
    "    push={\n",
    "        \"resultCount\": Search.result_count,\n",
    "        \"search\": Search.term,\n",
    "        \"results\": SubTableMap(\n",
    "            target=Search.results,\n",
    "            rel_map=TableMap(push={SearchResult.score}),\n",
    "            push={\n",
    "                \"project_name\": Project.name,\n",
    "                \"project_start\": Project.start,\n",
    "                \"project_end\": Project.end,\n",
    "                \"project_status\": Project.status,\n",
    "                \"tasks\": SubTableMap(\n",
    "                    target=Project.tasks,\n",
    "                    push={\n",
    "                        \"task_name\": Task.name,\n",
    "                        \"task_assignees\": SubTableMap(\n",
    "                            target=Task.assignees,\n",
    "                            push=User.name,\n",
    "                            match_by=User.name,\n",
    "                        ),\n",
    "                        \"task_status\": Task.status,\n",
    "                    },\n",
    "                ),\n",
    "                \"members\": SubTableMap(\n",
    "                    target=Project.members,\n",
    "                    loader=dummy_loader,\n",
    "                    push={User.name, User.age},\n",
    "                    match_by=User.name,\n",
    "                    rel_map=TableMap(\n",
    "                        push={\n",
    "                            Membership.role,\n",
    "                        },\n",
    "                    ),\n",
    "                ),\n",
    "            },\n",
    "            pull={\n",
    "                Project.org: SubMap(\n",
    "                    push={\n",
    "                        \"organization_name\": Organization.name,\n",
    "                        \"organization_address\": Organization.address,\n",
    "                        \"organization_city\": Organization.city,\n",
    "                    },\n",
    "                    match_by=[Organization.name, Organization.city],\n",
    "                ),\n",
    "                Project.number: SelIndex()\n",
    "            },\n",
    "        ),\n",
    "    },\n",
    ")"
   ]
  },
  {
   "cell_type": "code",
   "execution_count": 6,
   "metadata": {},
   "outputs": [],
   "source": [
    "from datetime import date\n",
    "\n",
    "\n",
    "data = {\n",
    "    \"resultCount\": 3,\n",
    "    \"search\": \"test\",\n",
    "    \"results\": [\n",
    "        {\n",
    "            \"score\": 0.9,\n",
    "            \"project_name\": \"baking cake\",\n",
    "            \"project_start\": date(2020, 1, 1),\n",
    "            \"project_end\": date(2020, 1, 4),\n",
    "            \"project_status\": \"done\",\n",
    "            \"organization_name\": \"Bakery\",\n",
    "            \"organization_address\": \"Main Street 1\",\n",
    "            \"organization_city\": \"Bakerville\",\n",
    "            \"tasks\": [\n",
    "                {\n",
    "                    \"task_name\": \"task1\",\n",
    "                    \"task_assignees\": [\"John\"],\n",
    "                    \"task_status\": \"todo\",\n",
    "                },\n",
    "                {\n",
    "                    \"task_name\": \"task2\",\n",
    "                    \"task_assignees\": [\"John\"],\n",
    "                    \"task_status\": \"todo\",\n",
    "                },\n",
    "                {\n",
    "                    \"task_name\": \"task3\",\n",
    "                    \"task_assignees\": [\"Jane\"],\n",
    "                    \"task_status\": \"done\",\n",
    "                },\n",
    "            ],\n",
    "            \"members\": [\n",
    "                {\"name\": \"John\", \"role\": \"baker\", \"age\": 30},\n",
    "                {\"name\": \"John\", \"role\": \"manager\", \"age\": 40},\n",
    "            ],\n",
    "        },\n",
    "        {\n",
    "            \"score\": 0.8,\n",
    "            \"project_name\": \"cleaning shoes\",\n",
    "            \"project_start\": date(2020, 1, 2),\n",
    "            \"project_end\": date(2020, 1, 5),\n",
    "            \"project_status\": \"done\",\n",
    "            \"organization_name\": \"Shoe Shop\",\n",
    "            \"organization_address\": \"Main Street 2\",\n",
    "            \"organization_city\": \"Shoetown\",\n",
    "            \"tasks\": [\n",
    "                {\n",
    "                    \"task_name\": \"task4\",\n",
    "                    \"task_assignees\": [\"John\"],\n",
    "                    \"task_status\": \"todo\",\n",
    "                },\n",
    "                {\n",
    "                    \"task_name\": \"task5\",\n",
    "                    \"task_assignees\": [\"Jane\"],\n",
    "                    \"task_status\": \"todo\",\n",
    "                },\n",
    "            ],\n",
    "            \"members\": [\n",
    "                {\"name\": \"John\", \"role\": \"cleaner\", \"age\": 25},\n",
    "                {\"name\": \"Jane\", \"role\": \"manager\", \"age\": 35},\n",
    "            ],\n",
    "        },\n",
    "        {\n",
    "            \"score\": 0.7,\n",
    "            \"project_name\": \"fixing cars\",\n",
    "            \"project_start\": date(2020, 1, 3),\n",
    "            \"project_end\": date(2020, 1, 6),\n",
    "            \"project_status\": \"started\",\n",
    "            \"organization_name\": \"Car Shop\",\n",
    "            \"organization_address\": \"Main Street 3\",\n",
    "            \"organization_city\": \"Cartown\",\n",
    "            \"tasks\": [\n",
    "                {\n",
    "                    \"task_name\": \"task6\",\n",
    "                    \"task_assignees\": [\"John\"],\n",
    "                    \"task_status\": \"todo\",\n",
    "                }\n",
    "            ],\n",
    "            \"members\": [\n",
    "                {\"name\": \"John\", \"role\": \"mechanic\", \"age\": 45},\n",
    "                {\"name\": \"Jane\", \"role\": \"manager\", \"age\": 55},\n",
    "                {\"name\": \"Jack\", \"role\": \"manager\", \"age\": 65},\n",
    "            ],\n",
    "        },\n",
    "    ],\n",
    "}"
   ]
  },
  {
   "cell_type": "code",
   "execution_count": 7,
   "metadata": {},
   "outputs": [
    {
     "name": "stderr",
     "output_type": "stream",
     "text": [
      "                                                                   \r"
     ]
    }
   ],
   "source": [
    "import warnings\n",
    "\n",
    "\n",
    "with warnings.catch_warnings():\n",
    "  warnings.simplefilter(\"error\")\n",
    "  with cProfile.Profile() as pr:\n",
    "    db = DataBase()\n",
    "    rec = await data_source.load([data], db=db)\n",
    "\n",
    "    stats = pstats.Stats(pr)"
   ]
  },
  {
   "cell_type": "code",
   "execution_count": 8,
   "metadata": {},
   "outputs": [
    {
     "data": {
      "text/html": [
       "<pre style=\"white-space:pre;overflow-x:auto;line-height:normal;font-family:Menlo,'DejaVu Sans Mono',consolas,'Courier New',monospace\"></pre>\n"
      ],
      "text/plain": []
     },
     "metadata": {},
     "output_type": "display_data"
    },
    {
     "data": {
      "text/plain": [
       "\n",
       "\u001b[1m[\u001b[0m\n",
       "    \u001b[1;35mUser\u001b[0m\u001b[1m(\u001b[0m\u001b[1m{\u001b[0m\u001b[32m'name'\u001b[0m: \u001b[32m'John'\u001b[0m, \u001b[32m'age'\u001b[0m: \u001b[1;36m31\u001b[0m, \u001b[32m'_id'\u001b[0m: \u001b[32m'e464e307-1e01-4c53-8b3c-cfbd7f66a1b4'\u001b[0m\u001b[1m}\u001b[0m\u001b[1m)\u001b[0m,\n",
       "    \u001b[1;35mUser\u001b[0m\u001b[1m(\u001b[0m\u001b[1m{\u001b[0m\u001b[32m'name'\u001b[0m: \u001b[32m'Jane'\u001b[0m, \u001b[32m'age'\u001b[0m: \u001b[1;36m56\u001b[0m, \u001b[32m'_id'\u001b[0m: \u001b[32m'0abb9c96-b6ca-4150-87df-8bd7c4b66595'\u001b[0m\u001b[1m}\u001b[0m\u001b[1m)\u001b[0m,\n",
       "    \u001b[1;35mUser\u001b[0m\u001b[1m(\u001b[0m\u001b[1m{\u001b[0m\u001b[32m'name'\u001b[0m: \u001b[32m'Jack'\u001b[0m, \u001b[32m'age'\u001b[0m: \u001b[1;36m66\u001b[0m, \u001b[32m'_id'\u001b[0m: \u001b[32m'df1594ae-3658-419d-90a1-82822d1f0977'\u001b[0m\u001b[1m}\u001b[0m\u001b[1m)\u001b[0m\n",
       "\u001b[1m]\u001b[0m"
      ]
     },
     "execution_count": 8,
     "metadata": {},
     "output_type": "execute_result"
    }
   ],
   "source": [
    "db[User].values()"
   ]
  },
  {
   "cell_type": "code",
   "execution_count": 9,
   "metadata": {},
   "outputs": [
    {
     "data": {
      "text/html": [
       "<pre style=\"white-space:pre;overflow-x:auto;line-height:normal;font-family:Menlo,'DejaVu Sans Mono',consolas,'Courier New',monospace\"></pre>\n"
      ],
      "text/plain": []
     },
     "metadata": {},
     "output_type": "display_data"
    },
    {
     "data": {
      "text/plain": [
       "\u001b[1m[\u001b[0m\u001b[32m'test'\u001b[0m\u001b[1m]\u001b[0m"
      ]
     },
     "execution_count": 9,
     "metadata": {},
     "output_type": "execute_result"
    }
   ],
   "source": [
    "db[Search.term].values()"
   ]
  },
  {
   "cell_type": "code",
   "execution_count": 10,
   "metadata": {},
   "outputs": [
    {
     "data": {
      "text/html": [
       "<pre style=\"white-space:pre;overflow-x:auto;line-height:normal;font-family:Menlo,'DejaVu Sans Mono',consolas,'Courier New',monospace\"></pre>\n"
      ],
      "text/plain": []
     },
     "metadata": {},
     "output_type": "display_data"
    },
    {
     "data": {
      "text/plain": [
       "\u001b[1m[\u001b[0m\u001b[1m(\u001b[0m\u001b[32m'test'\u001b[0m, \u001b[1;36m3\u001b[0m\u001b[1m)\u001b[0m\u001b[1m]\u001b[0m"
      ]
     },
     "execution_count": 10,
     "metadata": {},
     "output_type": "execute_result"
    }
   ],
   "source": [
    "list(db[Search.result_count].items())"
   ]
  },
  {
   "cell_type": "code",
   "execution_count": 11,
   "metadata": {},
   "outputs": [
    {
     "data": {
      "text/html": [
       "<pre style=\"white-space:pre;overflow-x:auto;line-height:normal;font-family:Menlo,'DejaVu Sans Mono',consolas,'Courier New',monospace\"></pre>\n"
      ],
      "text/plain": []
     },
     "metadata": {},
     "output_type": "display_data"
    },
    {
     "data": {
      "text/plain": [
       "\n",
       "\u001b[1m[\u001b[0m\n",
       "    \u001b[1m(\u001b[0m\n",
       "        \u001b[1m(\u001b[0m\u001b[32m'test'\u001b[0m, \u001b[1;36m1\u001b[0m\u001b[1m)\u001b[0m,\n",
       "        \u001b[1;35mProject\u001b[0m\u001b[1m(\u001b[0m\u001b[1m{\u001b[0m\u001b[32m'number'\u001b[0m: \u001b[1;36m1\u001b[0m, \u001b[32m'name'\u001b[0m: \u001b[32m'cleaning shoes'\u001b[0m, \u001b[32m'start'\u001b[0m: \u001b[1;35mdatetime.date\u001b[0m\u001b[1m(\u001b[0m\u001b[1;36m2020\u001b[0m, \u001b[1;36m1\u001b[0m, \u001b[1;36m2\u001b[0m\u001b[1m)\u001b[0m, \u001b[32m'end'\u001b[0m: \u001b[1;35mdatetime.date\u001b[0m\u001b[1m(\u001b[0m\u001b[1;36m2020\u001b[0m, \u001b[1;36m1\u001b[0m, \u001b[1;36m5\u001b[0m\u001b[1m)\u001b[0m, \u001b[32m'status'\u001b[0m: \u001b[32m'done'\u001b[0m\u001b[1m}\u001b[0m\u001b[1m)\u001b[0m\n",
       "    \u001b[1m)\u001b[0m,\n",
       "    \u001b[1m(\u001b[0m\n",
       "        \u001b[1m(\u001b[0m\u001b[32m'test'\u001b[0m, \u001b[1;36m0\u001b[0m\u001b[1m)\u001b[0m,\n",
       "        \u001b[1;35mProject\u001b[0m\u001b[1m(\u001b[0m\u001b[1m{\u001b[0m\u001b[32m'number'\u001b[0m: \u001b[1;36m0\u001b[0m, \u001b[32m'name'\u001b[0m: \u001b[32m'baking cake'\u001b[0m, \u001b[32m'start'\u001b[0m: \u001b[1;35mdatetime.date\u001b[0m\u001b[1m(\u001b[0m\u001b[1;36m2020\u001b[0m, \u001b[1;36m1\u001b[0m, \u001b[1;36m1\u001b[0m\u001b[1m)\u001b[0m, \u001b[32m'end'\u001b[0m: \u001b[1;35mdatetime.date\u001b[0m\u001b[1m(\u001b[0m\u001b[1;36m2020\u001b[0m, \u001b[1;36m1\u001b[0m, \u001b[1;36m4\u001b[0m\u001b[1m)\u001b[0m, \u001b[32m'status'\u001b[0m: \u001b[32m'done'\u001b[0m\u001b[1m}\u001b[0m\u001b[1m)\u001b[0m\n",
       "    \u001b[1m)\u001b[0m,\n",
       "    \u001b[1m(\u001b[0m\n",
       "        \u001b[1m(\u001b[0m\u001b[32m'test'\u001b[0m, \u001b[1;36m2\u001b[0m\u001b[1m)\u001b[0m,\n",
       "        \u001b[1;35mProject\u001b[0m\u001b[1m(\u001b[0m\u001b[1m{\u001b[0m\u001b[32m'number'\u001b[0m: \u001b[1;36m2\u001b[0m, \u001b[32m'name'\u001b[0m: \u001b[32m'fixing cars'\u001b[0m, \u001b[32m'start'\u001b[0m: \u001b[1;35mdatetime.date\u001b[0m\u001b[1m(\u001b[0m\u001b[1;36m2020\u001b[0m, \u001b[1;36m1\u001b[0m, \u001b[1;36m3\u001b[0m\u001b[1m)\u001b[0m, \u001b[32m'end'\u001b[0m: \u001b[1;35mdatetime.date\u001b[0m\u001b[1m(\u001b[0m\u001b[1;36m2020\u001b[0m, \u001b[1;36m1\u001b[0m, \u001b[1;36m6\u001b[0m\u001b[1m)\u001b[0m, \u001b[32m'status'\u001b[0m: \u001b[32m'started'\u001b[0m\u001b[1m}\u001b[0m\u001b[1m)\u001b[0m\n",
       "    \u001b[1m)\u001b[0m\n",
       "\u001b[1m]\u001b[0m"
      ]
     },
     "execution_count": 11,
     "metadata": {},
     "output_type": "execute_result"
    }
   ],
   "source": [
    "list(db[Search.results].items())"
   ]
  },
  {
   "cell_type": "code",
   "execution_count": 12,
   "metadata": {},
   "outputs": [
    {
     "data": {
      "text/html": [
       "<pre style=\"white-space:pre;overflow-x:auto;line-height:normal;font-family:Menlo,'DejaVu Sans Mono',consolas,'Courier New',monospace\"></pre>\n"
      ],
      "text/plain": []
     },
     "metadata": {},
     "output_type": "display_data"
    },
    {
     "data": {
      "text/plain": [
       "\u001b[1;36m2020\u001b[0m"
      ]
     },
     "execution_count": 12,
     "metadata": {},
     "output_type": "execute_result"
    }
   ],
   "source": [
    "list(db[Search.results].items())[0][1].start.year"
   ]
  },
  {
   "cell_type": "code",
   "execution_count": 13,
   "metadata": {},
   "outputs": [
    {
     "data": {
      "text/html": [
       "<pre style=\"white-space:pre;overflow-x:auto;line-height:normal;font-family:Menlo,'DejaVu Sans Mono',consolas,'Courier New',monospace\"></pre>\n"
      ],
      "text/plain": []
     },
     "metadata": {},
     "output_type": "display_data"
    },
    {
     "data": {
      "text/html": [
       "<div><style>\n",
       ".dataframe > thead > tr,\n",
       ".dataframe > tbody > tr {\n",
       "  text-align: right;\n",
       "  white-space: pre-wrap;\n",
       "}\n",
       "</style>\n",
       "<small>shape: (3, 8)</small><table border=\"1\" class=\"dataframe\"><thead><tr><th>term</th><th>test_db_schema_Project_number</th><th>number</th><th>status</th><th>name</th><th>test_db_schema_Organization__id</th><th>start</th><th>end</th></tr><tr><td>str</td><td>i64</td><td>i64</td><td>str</td><td>str</td><td>str</td><td>date</td><td>date</td></tr></thead><tbody><tr><td>&quot;test&quot;</td><td>1</td><td>1</td><td>&quot;done&quot;</td><td>&quot;cleaning shoes&quot;</td><td>&quot;615c7cd6-9e45-4637-80e7-48f2cb…</td><td>2020-01-02</td><td>2020-01-05</td></tr><tr><td>&quot;test&quot;</td><td>0</td><td>0</td><td>&quot;done&quot;</td><td>&quot;baking cake&quot;</td><td>&quot;cdc91022-0920-413c-b1fc-4e8105…</td><td>2020-01-01</td><td>2020-01-04</td></tr><tr><td>&quot;test&quot;</td><td>2</td><td>2</td><td>&quot;started&quot;</td><td>&quot;fixing cars&quot;</td><td>&quot;403e122e-1063-49aa-b51e-435943…</td><td>2020-01-03</td><td>2020-01-06</td></tr></tbody></table></div>"
      ],
      "text/plain": [
       "\n",
       "shape: \u001b[1m(\u001b[0m\u001b[1;36m3\u001b[0m, \u001b[1;36m8\u001b[0m\u001b[1m)\u001b[0m\n",
       "┌──────┬───────────────┬────────┬─────────┬───────────────┬──────────────┬────────────┬────────────┐\n",
       "│ term ┆ test_db_schem ┆ number ┆ status  ┆ name          ┆ test_db_sche ┆ start      ┆ end        │\n",
       "│ ---  ┆ a_Project_num ┆ ---    ┆ ---     ┆ ---           ┆ ma_Organizat ┆ ---        ┆ ---        │\n",
       "│ str  ┆ ber           ┆ i64    ┆ str     ┆ str           ┆ ion__i…      ┆ date       ┆ date       │\n",
       "│      ┆ ---           ┆        ┆         ┆               ┆ ---          ┆            ┆            │\n",
       "│      ┆ i64           ┆        ┆         ┆               ┆ str          ┆            ┆            │\n",
       "╞══════╪═══════════════╪════════╪═════════╪═══════════════╪══════════════╪════════════╪════════════╡\n",
       "│ test ┆ \u001b[1;36m1\u001b[0m             ┆ \u001b[1;36m1\u001b[0m      ┆ done    ┆ cleaning      ┆ 615c7cd6-\u001b[1;36m9e4\u001b[0m ┆ \u001b[1;36m2020\u001b[0m-\u001b[1;36m01\u001b[0m-\u001b[1;36m02\u001b[0m ┆ \u001b[1;36m2020\u001b[0m-\u001b[1;36m01\u001b[0m-\u001b[1;36m05\u001b[0m │\n",
       "│      ┆               ┆        ┆         ┆ shoes         ┆ \u001b[1;36m5\u001b[0m-\u001b[1;36m4637\u001b[0m-\u001b[1;36m80e7\u001b[0m- ┆            ┆            │\n",
       "│      ┆               ┆        ┆         ┆               ┆ 48f2cb…      ┆            ┆            │\n",
       "│ test ┆ \u001b[1;36m0\u001b[0m             ┆ \u001b[1;36m0\u001b[0m      ┆ done    ┆ baking cake   ┆ cdc91022-\u001b[1;36m092\u001b[0m ┆ \u001b[1;36m2020\u001b[0m-\u001b[1;36m01\u001b[0m-\u001b[1;36m01\u001b[0m ┆ \u001b[1;36m2020\u001b[0m-\u001b[1;36m01\u001b[0m-\u001b[1;36m04\u001b[0m │\n",
       "│      ┆               ┆        ┆         ┆               ┆ \u001b[1;36m0\u001b[0m-413c-b1fc- ┆            ┆            │\n",
       "│      ┆               ┆        ┆         ┆               ┆ \u001b[1;36m4e8105\u001b[0m…      ┆            ┆            │\n",
       "│ test ┆ \u001b[1;36m2\u001b[0m             ┆ \u001b[1;36m2\u001b[0m      ┆ started ┆ fixing cars   ┆ 403e122e-\u001b[1;36m106\u001b[0m ┆ \u001b[1;36m2020\u001b[0m-\u001b[1;36m01\u001b[0m-\u001b[1;36m03\u001b[0m ┆ \u001b[1;36m2020\u001b[0m-\u001b[1;36m01\u001b[0m-\u001b[1;36m06\u001b[0m │\n",
       "│      ┆               ┆        ┆         ┆               ┆ \u001b[1;36m3\u001b[0m-49aa-b51e- ┆            ┆            │\n",
       "│      ┆               ┆        ┆         ┆               ┆ \u001b[1;36m435943\u001b[0m…      ┆            ┆            │\n",
       "└──────┴───────────────┴────────┴─────────┴───────────────┴──────────────┴────────────┴────────────┘"
      ]
     },
     "execution_count": 13,
     "metadata": {},
     "output_type": "execute_result"
    }
   ],
   "source": [
    "db[Search.results].to_df()"
   ]
  },
  {
   "cell_type": "code",
   "execution_count": 14,
   "metadata": {},
   "outputs": [
    {
     "data": {
      "text/html": [
       "<pre style=\"white-space:pre;overflow-x:auto;line-height:normal;font-family:Menlo,'DejaVu Sans Mono',consolas,'Courier New',monospace\"></pre>\n"
      ],
      "text/plain": []
     },
     "metadata": {},
     "output_type": "display_data"
    },
    {
     "data": {
      "text/html": [
       "<div><style>\n",
       ".dataframe > thead > tr,\n",
       ".dataframe > tbody > tr {\n",
       "  text-align: right;\n",
       "  white-space: pre-wrap;\n",
       "}\n",
       "</style>\n",
       "<small>shape: (3, 4)</small><table border=\"1\" class=\"dataframe\"><thead><tr><th>_id</th><th>city</th><th>address</th><th>name</th></tr><tr><td>str</td><td>str</td><td>str</td><td>str</td></tr></thead><tbody><tr><td>&quot;615c7cd6-9e45-4637-80e7-48f2cb…</td><td>&quot;Bakerville&quot;</td><td>&quot;Main Street 1&quot;</td><td>&quot;Bakery&quot;</td></tr><tr><td>&quot;cdc91022-0920-413c-b1fc-4e8105…</td><td>&quot;Shoetown&quot;</td><td>&quot;Main Street 2&quot;</td><td>&quot;Shoe Shop&quot;</td></tr><tr><td>&quot;403e122e-1063-49aa-b51e-435943…</td><td>&quot;Cartown&quot;</td><td>&quot;Main Street 3&quot;</td><td>&quot;Car Shop&quot;</td></tr></tbody></table></div>"
      ],
      "text/plain": [
       "\n",
       "shape: \u001b[1m(\u001b[0m\u001b[1;36m3\u001b[0m, \u001b[1;36m4\u001b[0m\u001b[1m)\u001b[0m\n",
       "┌─────────────────────────────────┬────────────┬───────────────┬───────────┐\n",
       "│ _id                             ┆ city       ┆ address       ┆ name      │\n",
       "│ ---                             ┆ ---        ┆ ---           ┆ ---       │\n",
       "│ str                             ┆ str        ┆ str           ┆ str       │\n",
       "╞═════════════════════════════════╪════════════╪═══════════════╪═══════════╡\n",
       "│ 615c7cd6-\u001b[1;36m9e45\u001b[0m-\u001b[1;36m4637\u001b[0m-\u001b[1;36m80e7\u001b[0m-48f2cb… ┆ Bakerville ┆ Main Street \u001b[1;36m1\u001b[0m ┆ Bakery    │\n",
       "│ cdc91022-\u001b[1;36m0920\u001b[0m-413c-b1fc-\u001b[1;36m4e8105\u001b[0m… ┆ Shoetown   ┆ Main Street \u001b[1;36m2\u001b[0m ┆ Shoe Shop │\n",
       "│ 403e122e-\u001b[1;36m1063\u001b[0m-49aa-b51e-\u001b[1;36m435943\u001b[0m… ┆ Cartown    ┆ Main Street \u001b[1;36m3\u001b[0m ┆ Car Shop  │\n",
       "└─────────────────────────────────┴────────────┴───────────────┴───────────┘"
      ]
     },
     "execution_count": 14,
     "metadata": {},
     "output_type": "execute_result"
    }
   ],
   "source": [
    "db[Organization].to_df()"
   ]
  },
  {
   "cell_type": "code",
   "execution_count": 15,
   "metadata": {},
   "outputs": [
    {
     "name": "stdout",
     "output_type": "stream",
     "text": [
      "         541574 function calls (507694 primitive calls) in 1.147 seconds\n",
      "\n"
     ]
    },
    {
     "name": "stdout",
     "output_type": "stream",
     "text": [
      "   Ordered by: cumulative time\n",
      "   List reduced from 2270 to 143 due to restriction <'py_research'>\n",
      "\n",
      "   ncalls  tottime  percall  cumtime  percall filename:lineno(function)\n",
      "       52    0.001    0.000    0.527    0.010 C:\\Users\\lworm\\Repos\\py-research\\src\\py_research\\db\\datasources.py:690(_load_rec_from_item)\n",
      "       52    0.002    0.000    0.523    0.010 C:\\Users\\lworm\\Repos\\py-research\\src\\py_research\\db\\datasources.py:569(_load_record)\n",
      "       23    0.000    0.000    0.416    0.018 C:\\Users\\lworm\\Repos\\py-research\\src\\py_research\\db\\databases.py:1368(__ior__)\n",
      "       23    0.001    0.000    0.415    0.018 C:\\Users\\lworm\\Repos\\py-research\\src\\py_research\\db\\databases.py:2794(_mutate)\n",
      "       56    0.000    0.000    0.378    0.007 C:\\Users\\lworm\\Repos\\py-research\\src\\py_research\\db\\datasources.py:831(load)\n",
      "   168/57    0.001    0.000    0.348    0.006 C:\\Users\\lworm\\Repos\\py-research\\src\\py_research\\db\\datasources.py:658(_load_records)\n",
      "16924/8403    0.029    0.000    0.300    0.000 C:\\Users\\lworm\\Repos\\py-research\\src\\py_research\\caching.py:382(__get__)\n",
      "       45    0.001    0.000    0.299    0.007 C:\\Users\\lworm\\Repos\\py-research\\src\\py_research\\db\\databases.py:701(keys)\n",
      "       23    0.001    0.000    0.290    0.013 C:\\Users\\lworm\\Repos\\py-research\\src\\py_research\\db\\databases.py:2921(_mutate_from_records)\n",
      "       45    0.001    0.000    0.285    0.006 C:\\Users\\lworm\\Repos\\py-research\\src\\py_research\\db\\databases.py:848(to_df)\n",
      "       24    0.001    0.000    0.265    0.011 C:\\Users\\lworm\\Repos\\py-research\\src\\py_research\\db\\databases.py:2768(_df_to_table)\n",
      "       45    0.000    0.000    0.213    0.005 C:\\Users\\lworm\\Repos\\py-research\\src\\py_research\\caching.py:364(__call__)\n",
      "       45    0.001    0.000    0.213    0.005 C:\\Users\\lworm\\Repos\\py-research\\src\\py_research\\db\\databases.py:630(select)\n",
      "      376    0.004    0.000    0.118    0.000 C:\\Users\\lworm\\Repos\\py-research\\src\\py_research\\db\\databases.py:2379(_has_type)\n",
      "       99    0.001    0.000    0.117    0.001 C:\\Users\\lworm\\Repos\\py-research\\src\\py_research\\db\\databases.py:2339(_sql_col)\n",
      "       45    0.000    0.000    0.117    0.003 C:\\Users\\lworm\\Repos\\py-research\\src\\py_research\\db\\databases.py:2234(_sql_joins)\n",
      "       45    0.000    0.000    0.116    0.003 C:\\Users\\lworm\\Repos\\py-research\\src\\py_research\\db\\databases.py:2184(_total_join_dict)\n",
      "       45    0.000    0.000    0.106    0.002 C:\\Users\\lworm\\Repos\\py-research\\src\\py_research\\db\\databases.py:2179(_total_joins)\n",
      "       10    0.000    0.000    0.105    0.010 C:\\Users\\lworm\\Repos\\py-research\\src\\py_research\\db\\databases.py:2992(_mutate_from_rec_ids)\n",
      "     1117    0.003    0.000    0.101    0.000 C:\\Users\\lworm\\Repos\\py-research\\src\\py_research\\db\\databases.py:2386(<genexpr>)\n",
      "     2740    0.008    0.000    0.096    0.000 C:\\Users\\lworm\\Repos\\py-research\\src\\py_research\\db\\databases.py:2395(_get_typearg)\n",
      "       45    0.001    0.000    0.092    0.002 C:\\Users\\lworm\\Repos\\py-research\\src\\py_research\\db\\databases.py:2108(_abs_filters)\n",
      " 5821/255    0.009    0.000    0.079    0.000 C:\\Users\\lworm\\Repos\\py-research\\src\\py_research\\hashing.py:54(inner)\n",
      "      122    0.002    0.000    0.079    0.001 C:\\Users\\lworm\\Repos\\py-research\\src\\py_research\\db\\databases.py:1902(_home_table)\n",
      " 5821/255    0.021    0.000    0.077    0.000 C:\\Users\\lworm\\Repos\\py-research\\src\\py_research\\hashing.py:69(gen_int_hash)\n",
      "  924/275    0.001    0.000    0.075    0.000 C:\\Users\\lworm\\Repos\\py-research\\src\\py_research\\hashing.py:43(_hash_sequence)\n",
      "  261/222    0.001    0.000    0.073    0.000 C:\\Users\\lworm\\Repos\\py-research\\src\\py_research\\db\\databases.py:670(__hash__)\n",
      "2599/1461    0.006    0.000    0.073    0.000 C:\\Users\\lworm\\Repos\\py-research\\src\\py_research\\hashing.py:44(<lambda>)\n",
      "       90    0.000    0.000    0.071    0.001 C:\\Users\\lworm\\Repos\\py-research\\src\\py_research\\db\\databases.py:638(<genexpr>)\n",
      "       24    0.001    0.000    0.067    0.003 C:\\Users\\lworm\\Repos\\py-research\\src\\py_research\\db\\databases.py:2680(_values_to_df)\n",
      "       99    0.001    0.000    0.065    0.001 C:\\Users\\lworm\\Repos\\py-research\\src\\py_research\\db\\databases.py:2544(_visit_filter_col)\n",
      "      701    0.001    0.000    0.062    0.000 C:\\Users\\lworm\\Repos\\py-research\\src\\py_research\\db\\databases.py:1848(_generic_args)\n",
      "     1752    0.002    0.000    0.061    0.000 C:\\Users\\lworm\\Repos\\py-research\\src\\py_research\\reflect\\types.py:56(is_subtype)\n",
      "      701    0.002    0.000    0.053    0.000 C:\\Users\\lworm\\Repos\\py-research\\src\\py_research\\db\\databases.py:1839(_generic_type)\n",
      "       14    0.001    0.000    0.052    0.004 C:\\Users\\lworm\\Repos\\py-research\\src\\py_research\\db\\databases.py:3021(_mutate_from_sql)\n",
      "       10    0.000    0.000    0.051    0.005 C:\\Users\\lworm\\Repos\\py-research\\src\\py_research\\telemetry.py:104(tqdm)\n",
      "    99/93    0.001    0.000    0.049    0.001 C:\\Users\\lworm\\Repos\\py-research\\src\\py_research\\db\\databases.py:2567(_get_sql_base_table)\n",
      "      171    0.003    0.000    0.048    0.000 C:\\Users\\lworm\\Repos\\py-research\\src\\py_research\\db\\databases.py:1999(_abs_idx_cols)\n",
      "       79    0.000    0.000    0.048    0.001 C:\\Users\\lworm\\Repos\\py-research\\src\\py_research\\db\\databases.py:2345(_sql_table)\n",
      "      351    0.017    0.000    0.038    0.000 C:\\Users\\lworm\\Repos\\py-research\\src\\py_research\\data.py:33(copy_and_override)\n",
      "     3239    0.009    0.000    0.037    0.000 C:\\Users\\lworm\\Repos\\py-research\\src\\py_research\\db\\databases.py:2409(_hint_to_typedef)\n",
      "       24    0.002    0.000    0.036    0.001 C:\\Users\\lworm\\Repos\\py-research\\src\\py_research\\db\\databases.py:2724(_gen_upload_table)\n",
      "       66    0.000    0.000    0.034    0.001 C:\\Users\\lworm\\Repos\\py-research\\src\\py_research\\db\\databases.py:1534(__eq__)\n",
      "       11    0.000    0.000    0.034    0.003 C:\\Users\\lworm\\Repos\\py-research\\src\\py_research\\db\\databases.py:2175(_total_cols)\n",
      "       11    0.001    0.000    0.031    0.003 C:\\Users\\lworm\\Repos\\py-research\\src\\py_research\\db\\databases.py:2018(_abs_cols)\n",
      "      198    0.001    0.000    0.025    0.000 C:\\Users\\lworm\\Repos\\py-research\\src\\py_research\\db\\databases.py:3854(__hash__)\n",
      "  904/900    0.003    0.000    0.025    0.000 C:\\Users\\lworm\\Repos\\py-research\\src\\py_research\\db\\databases.py:4165(_props)\n",
      "1078/1074    0.004    0.000    0.022    0.000 C:\\Users\\lworm\\Repos\\py-research\\src\\py_research\\db\\databases.py:4155(_class_fk_values)\n",
      "     3313    0.012    0.000    0.021    0.000 C:\\Users\\lworm\\Repos\\py-research\\src\\py_research\\hashing.py:34(_stable_hash)\n",
      "      665    0.001    0.000    0.021    0.000 C:\\Users\\lworm\\Repos\\py-research\\src\\py_research\\reflect\\types.py:65(has_type)\n",
      "       40    0.000    0.000    0.021    0.001 C:\\Users\\lworm\\Repos\\py-research\\src\\py_research\\db\\databases.py:2136(<genexpr>)\n",
      "        9    0.000    0.000    0.020    0.002 C:\\Users\\lworm\\Repos\\py-research\\src\\py_research\\db\\databases.py:3908(_create_sqla_table)\n",
      "       33    0.001    0.000    0.020    0.001 C:\\Users\\lworm\\Repos\\py-research\\src\\py_research\\db\\databases.py:4332(__init__)\n",
      "      126    0.001    0.000    0.018    0.000 C:\\Users\\lworm\\Repos\\py-research\\src\\py_research\\db\\databases.py:1983(_abs_link_path)\n",
      "      196    0.001    0.000    0.018    0.000 C:\\Users\\lworm\\Repos\\py-research\\src\\py_research\\db\\databases.py:547(target_type)\n",
      "        8    0.000    0.000    0.017    0.002 C:\\Users\\lworm\\Repos\\py-research\\src\\py_research\\db\\databases.py:2197(_fk_map)\n",
      "        9    0.000    0.000    0.016    0.002 C:\\Users\\lworm\\Repos\\py-research\\src\\py_research\\db\\datasources.py:288(sub_tables)\n",
      "       40    0.000    0.000    0.016    0.000 C:\\Users\\lworm\\Repos\\py-research\\src\\py_research\\db\\databases.py:2139(<genexpr>)\n",
      "       45    0.000    0.000    0.015    0.000 C:\\Users\\lworm\\Repos\\py-research\\src\\py_research\\db\\datasources.py:534(_gen_match_expr)\n",
      "        9    0.000    0.000    0.015    0.002 C:\\Users\\lworm\\Repos\\py-research\\src\\py_research\\db\\datasources.py:269(full_map)\n",
      "       56    0.000    0.000    0.014    0.000 C:\\Users\\lworm\\Repos\\py-research\\src\\py_research\\db\\datasources.py:552(<genexpr>)\n",
      "        9    0.000    0.000    0.014    0.002 C:\\Users\\lworm\\Repos\\py-research\\src\\py_research\\db\\datasources.py:428(_push_to_pull_map)\n",
      "      246    0.001    0.000    0.013    0.000 C:\\Users\\lworm\\Repos\\py-research\\src\\py_research\\db\\databases.py:4218(_tables)\n",
      "      126    0.001    0.000    0.013    0.000 C:\\Users\\lworm\\Repos\\py-research\\src\\py_research\\db\\databases.py:528(path)\n",
      "      308    0.000    0.000    0.013    0.000 C:\\Users\\lworm\\Repos\\py-research\\src\\py_research\\db\\databases.py:542(value_type)\n",
      "       45    0.001    0.000    0.013    0.000 C:\\Users\\lworm\\Repos\\py-research\\src\\py_research\\db\\databases.py:2159(_abs_joins)\n",
      "       24    0.001    0.000    0.012    0.001 C:\\Users\\lworm\\Repos\\py-research\\src\\py_research\\db\\databases.py:3227(_mutate_rels_from_sql)\n",
      "        9    0.000    0.000    0.012    0.001 C:\\Users\\lworm\\Repos\\py-research\\src\\py_research\\db\\databases.py:2280(_sql_base_cols)\n",
      "      146    0.000    0.000    0.012    0.000 C:\\Users\\lworm\\Repos\\py-research\\src\\py_research\\db\\databases.py:4222(_links)\n",
      "      659    0.000    0.000    0.011    0.000 C:\\Users\\lworm\\Repos\\py-research\\src\\py_research\\hashing.py:109(<genexpr>)\n",
      "      124    0.000    0.000    0.010    0.000 C:\\Users\\lworm\\Repos\\py-research\\src\\py_research\\db\\databases.py:557(record_type)\n",
      "        8    0.000    0.000    0.010    0.001 C:\\Users\\lworm\\Repos\\py-research\\src\\py_research\\db\\databases.py:2072(_base_table_map)\n",
      "       70    0.002    0.000    0.009    0.000 C:\\Users\\lworm\\Repos\\py-research\\src\\py_research\\db\\databases.py:1169(__getitem__)\n",
      "        2    0.000    0.000    0.009    0.005 C:\\Users\\lworm\\Repos\\py-research\\src\\py_research\\db\\databases.py:1939(_rel)\n",
      "       29    0.000    0.000    0.009    0.000 C:\\Users\\lworm\\Repos\\py-research\\src\\py_research\\db\\databases.py:2669(_gen_fk_value_map)\n",
      "  570/412    0.004    0.000    0.008    0.000 C:\\Users\\lworm\\Repos\\py-research\\src\\py_research\\db\\databases.py:1712(__get__)\n",
      "       24    0.000    0.000    0.008    0.000 C:\\Users\\lworm\\Repos\\py-research\\src\\py_research\\db\\databases.py:315(_get_pl_schema)\n",
      "      171    0.001    0.000    0.007    0.000 C:\\Users\\lworm\\Repos\\py-research\\src\\py_research\\db\\databases.py:1917(_idx_cols)\n",
      "      231    0.001    0.000    0.007    0.000 C:\\Users\\lworm\\Repos\\py-research\\src\\py_research\\db\\databases.py:4175(_pk_values)\n",
      "       45    0.001    0.000    0.007    0.000 C:\\Users\\lworm\\Repos\\py-research\\src\\py_research\\db\\databases.py:4450(_is_complete_dict)\n",
      "      102    0.000    0.000    0.006    0.000 C:\\Users\\lworm\\Repos\\py-research\\src\\py_research\\db\\datasources.py:202(select)\n",
      "     1078    0.004    0.000    0.006    0.000 C:\\Users\\lworm\\Repos\\py-research\\src\\py_research\\db\\databases.py:4144(_class_links)\n",
      "      102    0.000    0.000    0.005    0.000 C:\\Users\\lworm\\Repos\\py-research\\src\\py_research\\db\\datasources.py:99(select)\n",
      "      102    0.001    0.000    0.005    0.000 C:\\Users\\lworm\\Repos\\py-research\\src\\py_research\\db\\datasources.py:56(_select_on_level)\n",
      "      195    0.001    0.000    0.005    0.000 C:\\Users\\lworm\\Repos\\py-research\\src\\py_research\\db\\databases.py:4206(_values)\n",
      "       32    0.000    0.000    0.004    0.000 C:\\Users\\lworm\\Repos\\py-research\\src\\py_research\\db\\databases.py:4428(_to_dict)\n",
      "       45    0.000    0.000    0.004    0.000 C:\\Users\\lworm\\Repos\\py-research\\src\\py_research\\db\\databases.py:4214(_non_fk_values)\n",
      "       10    0.000    0.000    0.004    0.000 C:\\Users\\lworm\\Repos\\py-research\\src\\py_research\\db\\databases.py:4563(__post_init__)\n",
      "        2    0.000    0.000    0.003    0.002 C:\\Users\\lworm\\Repos\\py-research\\src\\py_research\\db\\databases.py:3586(engine)\n",
      "      273    0.000    0.000    0.003    0.000 C:\\Users\\lworm\\Repos\\py-research\\src\\py_research\\db\\databases.py:3328(name)\n",
      "        9    0.000    0.000    0.003    0.000 C:\\Users\\lworm\\Repos\\py-research\\src\\py_research\\db\\databases.py:2304(_sql_base_fks)\n",
      "       10    0.000    0.000    0.003    0.000 C:\\Users\\lworm\\Repos\\py-research\\src\\py_research\\hashing.py:143(gen_str_hash)\n",
      "      169    0.000    0.000    0.003    0.000 C:\\Users\\lworm\\Repos\\py-research\\src\\py_research\\db\\databases.py:1874(_ctx_module)\n",
      "      249    0.001    0.000    0.002    0.000 C:\\Users\\lworm\\Repos\\py-research\\src\\py_research\\db\\databases.py:3323(__post_init__)\n",
      "      165    0.000    0.000    0.002    0.000 C:\\Users\\lworm\\Repos\\py-research\\src\\py_research\\db\\databases.py:4197(_fk_values)\n",
      "  199/166    0.001    0.000    0.002    0.000 C:\\Users\\lworm\\Repos\\py-research\\src\\py_research\\db\\databases.py:1784(__set__)\n",
      "      100    0.000    0.000    0.002    0.000 C:\\Users\\lworm\\Repos\\py-research\\src\\py_research\\db\\databases.py:4226(_arrays)\n",
      "       76    0.001    0.000    0.002    0.000 C:\\Users\\lworm\\Repos\\py-research\\src\\py_research\\db\\databases.py:516(ctx)\n",
      "      131    0.001    0.000    0.002    0.000 C:\\Users\\lworm\\Repos\\py-research\\src\\py_research\\db\\databases.py:564(relation_type)\n",
      "       56    0.000    0.000    0.002    0.000 C:\\Users\\lworm\\Repos\\py-research\\src\\py_research\\db\\databases.py:4210(_col_values)\n",
      "     5461    0.002    0.000    0.002    0.000 C:\\Users\\lworm\\Repos\\py-research\\src\\py_research\\data.py:82(<genexpr>)\n",
      "       65    0.000    0.000    0.002    0.000 C:\\Users\\lworm\\Repos\\py-research\\src\\py_research\\db\\datasources.py:478(_sliding_batch_map)\n",
      "        9    0.000    0.000    0.002    0.000 C:\\Users\\lworm\\Repos\\py-research\\src\\py_research\\db\\datasources.py:404(_parse_pushmap)\n",
      "      105    0.000    0.000    0.001    0.000 C:\\Users\\lworm\\Repos\\py-research\\src\\py_research\\db\\databases.py:4280(_get_table_name)\n",
      "     5470    0.001    0.000    0.001    0.000 C:\\Users\\lworm\\Repos\\py-research\\src\\py_research\\data.py:56(<genexpr>)\n",
      "       64    0.000    0.000    0.001    0.000 C:\\Users\\lworm\\Repos\\py-research\\src\\py_research\\db\\databases.py:3110(<genexpr>)\n",
      "      124    0.001    0.000    0.001    0.000 C:\\Users\\lworm\\Repos\\py-research\\src\\py_research\\db\\databases.py:4264(_default_table_name)\n",
      "       19    0.000    0.000    0.001    0.000 C:\\Users\\lworm\\Repos\\py-research\\src\\py_research\\db\\databases.py:4553(<lambda>)\n",
      "      154    0.001    0.000    0.001    0.000 C:\\Users\\lworm\\Repos\\py-research\\src\\py_research\\db\\databases.py:1852(_ctx_type)\n",
      "      225    0.000    0.000    0.001    0.000 C:\\Users\\lworm\\Repos\\py-research\\src\\py_research\\db\\databases.py:1861(_ctx_table)\n",
      "     1991    0.001    0.000    0.001    0.000 C:\\Users\\lworm\\Repos\\py-research\\src\\py_research\\db\\databases.py:4062(_get_class_props)\n",
      "        2    0.000    0.000    0.001    0.000 C:\\Users\\lworm\\Repos\\py-research\\src\\py_research\\db\\databases.py:310(<lambda>)\n",
      "       62    0.000    0.000    0.000    0.000 C:\\Users\\lworm\\Repos\\py-research\\src\\py_research\\db\\databases.py:4464(<genexpr>)\n",
      "        7    0.000    0.000    0.000    0.000 C:\\Users\\lworm\\Repos\\py-research\\src\\py_research\\db\\datasources.py:398(__post_init__)\n",
      "      121    0.000    0.000    0.000    0.000 C:\\Users\\lworm\\Repos\\py-research\\src\\py_research\\db\\databases.py:1913(_root_table)\n",
      "        9    0.000    0.000    0.000    0.000 C:\\Users\\lworm\\Repos\\py-research\\src\\py_research\\db\\databases.py:4184(_class_values)\n",
      "      147    0.000    0.000    0.000    0.000 C:\\Users\\lworm\\Repos\\py-research\\src\\py_research\\db\\databases.py:4457(<genexpr>)\n",
      "       32    0.000    0.000    0.000    0.000 C:\\Users\\lworm\\Repos\\py-research\\src\\py_research\\db\\databases.py:2932(<lambda>)\n",
      "      148    0.000    0.000    0.000    0.000 C:\\Users\\lworm\\Repos\\py-research\\src\\py_research\\db\\databases.py:503(db)\n",
      "       32    0.000    0.000    0.000    0.000 C:\\Users\\lworm\\Repos\\py-research\\src\\py_research\\db\\databases.py:2930(<lambda>)\n",
      "        2    0.000    0.000    0.000    0.000 C:\\Users\\lworm\\Repos\\py-research\\src\\py_research\\db\\databases.py:1962(_rel_to)\n",
      "      285    0.000    0.000    0.000    0.000 C:\\Users\\lworm\\Repos\\py-research\\src\\py_research\\db\\databases.py:537(name)\n",
      "      904    0.000    0.000    0.000    0.000 C:\\Users\\lworm\\Repos\\py-research\\src\\py_research\\db\\databases.py:4171(<genexpr>)\n",
      "       11    0.000    0.000    0.000    0.000 C:\\Users\\lworm\\Repos\\py-research\\src\\py_research\\db\\databases.py:582(fqn)\n",
      "       45    0.000    0.000    0.000    0.000 C:\\Users\\lworm\\Repos\\py-research\\src\\py_research\\db\\databases.py:2270(_sql_filters)\n",
      "        3    0.000    0.000    0.000    0.000 C:\\Users\\lworm\\Repos\\py-research\\src\\py_research\\db\\datasources.py:348(select)\n",
      "        1    0.000    0.000    0.000    0.000 C:\\Users\\lworm\\Repos\\py-research\\src\\py_research\\db\\datasources.py:170(_PushMapping)\n",
      "      104    0.000    0.000    0.000    0.000 C:\\Users\\lworm\\Repos\\py-research\\src\\py_research\\db\\datasources.py:263(record_type)\n",
      "       58    0.000    0.000    0.000    0.000 C:\\Users\\lworm\\Repos\\py-research\\src\\py_research\\db\\databases.py:4465(<genexpr>)\n",
      "      134    0.000    0.000    0.000    0.000 C:\\Users\\lworm\\Repos\\py-research\\src\\py_research\\db\\databases.py:2459(_hint_to_type)\n",
      "       23    0.000    0.000    0.000    0.000 C:\\Users\\lworm\\Repos\\py-research\\src\\py_research\\db\\databases.py:3894(_get_valid_cache_set)\n",
      "      165    0.000    0.000    0.000    0.000 C:\\Users\\lworm\\Repos\\py-research\\src\\py_research\\db\\databases.py:4202(<genexpr>)\n",
      "        3    0.000    0.000    0.000    0.000 C:\\Users\\lworm\\Repos\\py-research\\src\\py_research\\db\\databases.py:575(base_type)\n",
      "        2    0.000    0.000    0.000    0.000 C:\\Users\\lworm\\Repos\\py-research\\src\\py_research\\db\\databases.py:3559(backend_type)\n",
      "       26    0.000    0.000    0.000    0.000 C:\\Users\\lworm\\Repos\\py-research\\src\\py_research\\caching.py:347(cache_name)\n",
      "        2    0.000    0.000    0.000    0.000 C:\\Users\\lworm\\Repos\\py-research\\src\\py_research\\db\\databases.py:3549(db_id)\n",
      "       23    0.000    0.000    0.000    0.000 C:\\Users\\lworm\\Repos\\py-research\\src\\py_research\\db\\databases.py:4399(__post_init__)\n",
      "        4    0.000    0.000    0.000    0.000 C:\\Users\\lworm\\Repos\\py-research\\src\\py_research\\db\\databases.py:3493(__post_init__)\n",
      "        4    0.000    0.000    0.000    0.000 C:\\Users\\lworm\\Repos\\py-research\\src\\py_research\\db\\datasources.py:419(_get_selector_name)\n",
      "        3    0.000    0.000    0.000    0.000 C:\\Users\\lworm\\Repos\\py-research\\src\\py_research\\db\\datasources.py:354(<genexpr>)\n",
      "        1    0.000    0.000    0.000    0.000 C:\\Users\\lworm\\Repos\\py-research\\src\\py_research\\db\\datasources.py:182(parse)\n",
      "        1    0.000    0.000    0.000    0.000 C:\\Users\\lworm\\Repos\\py-research\\src\\py_research\\db\\databases.py:1632(__setitem__)\n",
      "        1    0.000    0.000    0.000    0.000 C:\\Users\\lworm\\Repos\\py-research\\src\\py_research\\db\\datasources.py:858(<genexpr>)\n",
      "\n",
      "\n"
     ]
    },
    {
     "data": {
      "text/html": [
       "<pre style=\"white-space:pre;overflow-x:auto;line-height:normal;font-family:Menlo,'DejaVu Sans Mono',consolas,'Courier New',monospace\"></pre>\n"
      ],
      "text/plain": []
     },
     "metadata": {},
     "output_type": "display_data"
    },
    {
     "data": {
      "text/plain": [
       "\u001b[1m<\u001b[0m\u001b[1;95mpstats.Stats\u001b[0m\u001b[39m object at \u001b[0m\u001b[1;36m0x000001A230FE1640\u001b[0m\u001b[1m>\u001b[0m"
      ]
     },
     "execution_count": 15,
     "metadata": {},
     "output_type": "execute_result"
    }
   ],
   "source": [
    "stats.sort_stats(\"cumulative\")\n",
    "stats.print_stats(\"py_research\")"
   ]
  }
 ],
 "metadata": {
  "kernelspec": {
   "display_name": ".venv",
   "language": "python",
   "name": "python3"
  },
  "language_info": {
   "codemirror_mode": {
    "name": "ipython",
    "version": 3
   },
   "file_extension": ".py",
   "mimetype": "text/x-python",
   "name": "python",
   "nbconvert_exporter": "python",
   "pygments_lexer": "ipython3",
   "version": "3.12.4"
  }
 },
 "nbformat": 4,
 "nbformat_minor": 2
}

{
 "cells": [
  {
   "cell_type": "code",
   "execution_count": 1,
   "metadata": {},
   "outputs": [],
   "source": [
    "from __future__ import annotations\n",
    "\n",
    "import cProfile\n",
    "import pstats\n",
    "from asyncio import sleep"
   ]
  },
  {
   "cell_type": "code",
   "execution_count": 2,
   "metadata": {},
   "outputs": [],
   "source": [
    "from py_research.db import (\n",
    "    DataSource,\n",
    "    TableMap,\n",
    "    SubTableMap,\n",
    "    SubMap,\n",
    "    SelIndex,\n",
    "    DataBase\n",
    ")"
   ]
  },
  {
   "cell_type": "code",
   "execution_count": 3,
   "metadata": {},
   "outputs": [],
   "source": [
    "from schema import (\n",
    "    Search,\n",
    "    Project,\n",
    "    Task,\n",
    "    User,\n",
    "    Membership,\n",
    "    Organization,\n",
    "    SearchResult,\n",
    "    TestSchema,\n",
    ")"
   ]
  },
  {
   "cell_type": "code",
   "execution_count": 4,
   "metadata": {},
   "outputs": [],
   "source": [
    "from typing import Any\n",
    "\n",
    "\n",
    "async def dummy_loader(obj: dict[str, Any]) -> dict:\n",
    "    await sleep(0.2)\n",
    "    return {\n",
    "        'name': obj[\"name\"],\n",
    "        'role': obj[\"role\"],\n",
    "        'age': obj[\"age\"] + 1\n",
    "    }"
   ]
  },
  {
   "cell_type": "code",
   "execution_count": 5,
   "metadata": {},
   "outputs": [],
   "source": [
    "data_source = DataSource(\n",
    "    target=Search,\n",
    "    push={\n",
    "        \"resultCount\": Search.result_count,\n",
    "        \"search\": Search.term,\n",
    "        \"results\": SubTableMap(\n",
    "            target=Search.results,\n",
    "            rel_map=TableMap(push={SearchResult.score}),\n",
    "            push={\n",
    "                \"project_name\": Project.name,\n",
    "                \"project_start\": Project.start,\n",
    "                \"project_end\": Project.end,\n",
    "                \"project_status\": Project.status,\n",
    "                \"tasks\": SubTableMap(\n",
    "                    target=Project.tasks,\n",
    "                    push={\n",
    "                        \"task_name\": Task.name,\n",
    "                        \"task_assignees\": SubTableMap(\n",
    "                            target=Task.assignees,\n",
    "                            push=User.name,\n",
    "                            match_by=[User.name],\n",
    "                        ),\n",
    "                        \"task_status\": Task.status,\n",
    "                    },\n",
    "                ),\n",
    "                \"members\": SubTableMap(\n",
    "                    target=Project.members,\n",
    "                    loader=dummy_loader,\n",
    "                    push={User.name, User.age},\n",
    "                    match_by=[User.name],\n",
    "                    rel_map=TableMap(\n",
    "                        push={\n",
    "                            Membership.role,\n",
    "                        },\n",
    "                    ),\n",
    "                ),\n",
    "            },\n",
    "            pull={\n",
    "                Project.org: SubMap(\n",
    "                    push={\n",
    "                        \"organization_name\": Organization.name,\n",
    "                        \"organization_address\": Organization.address,\n",
    "                        \"organization_city\": Organization.city,\n",
    "                        \"organization_countries\": Organization.ccs,\n",
    "                    },\n",
    "                    match_by=[Organization.name, Organization.city],\n",
    "                ),\n",
    "                Project.number: SelIndex()\n",
    "            },\n",
    "        ),\n",
    "    },\n",
    ")"
   ]
  },
  {
   "cell_type": "code",
   "execution_count": 6,
   "metadata": {},
   "outputs": [],
   "source": [
    "from datetime import date\n",
    "\n",
    "\n",
    "data = {\n",
    "    \"resultCount\": 3,\n",
    "    \"search\": \"test\",\n",
    "    \"results\": [\n",
    "        {\n",
    "            \"score\": 0.9,\n",
    "            \"project_name\": \"baking cake\",\n",
    "            \"project_start\": date(2020, 1, 1),\n",
    "            \"project_end\": date(2020, 1, 4),\n",
    "            \"project_status\": \"done\",\n",
    "            \"organization_name\": \"Bakery\",\n",
    "            \"organization_address\": \"Main Street 1\",\n",
    "            \"organization_city\": \"Bakerville\",\n",
    "            \"organization_countries\": [\"USA\", \"Mexico\", \"Canada\"],\n",
    "            \"tasks\": [\n",
    "                {\n",
    "                    \"task_name\": \"task1\",\n",
    "                    \"task_assignees\": [\"John\"],\n",
    "                    \"task_status\": \"todo\",\n",
    "                },\n",
    "                {\n",
    "                    \"task_name\": \"task2\",\n",
    "                    \"task_assignees\": [\"John\"],\n",
    "                    \"task_status\": \"todo\",\n",
    "                },\n",
    "                {\n",
    "                    \"task_name\": \"task3\",\n",
    "                    \"task_assignees\": [\"Jane\"],\n",
    "                    \"task_status\": \"done\",\n",
    "                },\n",
    "            ],\n",
    "            \"members\": [\n",
    "                {\"name\": \"John\", \"role\": \"baker\", \"age\": 30},\n",
    "                {\"name\": \"John\", \"role\": \"manager\", \"age\": 40},\n",
    "            ],\n",
    "        },\n",
    "        {\n",
    "            \"score\": 0.8,\n",
    "            \"project_name\": \"cleaning shoes\",\n",
    "            \"project_start\": date(2020, 1, 2),\n",
    "            \"project_end\": date(2020, 1, 5),\n",
    "            \"project_status\": \"done\",\n",
    "            \"organization_name\": \"Shoe Shop\",\n",
    "            \"organization_address\": \"Main Street 2\",\n",
    "            \"organization_city\": \"Shoetown\",\n",
    "            \"organization_countries\": [\"USA\", \"Mexico\"],\n",
    "            \"tasks\": [\n",
    "                {\n",
    "                    \"task_name\": \"task4\",\n",
    "                    \"task_assignees\": [\"John\"],\n",
    "                    \"task_status\": \"todo\",\n",
    "                },\n",
    "                {\n",
    "                    \"task_name\": \"task5\",\n",
    "                    \"task_assignees\": [\"Jane\"],\n",
    "                    \"task_status\": \"todo\",\n",
    "                },\n",
    "            ],\n",
    "            \"members\": [\n",
    "                {\"name\": \"John\", \"role\": \"cleaner\", \"age\": 25},\n",
    "                {\"name\": \"Jane\", \"role\": \"manager\", \"age\": 35},\n",
    "            ],\n",
    "        },\n",
    "        {\n",
    "            \"score\": 0.7,\n",
    "            \"project_name\": \"fixing cars\",\n",
    "            \"project_start\": date(2020, 1, 3),\n",
    "            \"project_end\": date(2020, 1, 6),\n",
    "            \"project_status\": \"started\",\n",
    "            \"organization_name\": \"Car Shop\",\n",
    "            \"organization_address\": \"Main Street 3\",\n",
    "            \"organization_city\": \"Cartown\",\n",
    "            \"organization_countries\": [\"USA\", \"Canada\"],\n",
    "            \"tasks\": [\n",
    "                {\n",
    "                    \"task_name\": \"task6\",\n",
    "                    \"task_assignees\": [\"John\"],\n",
    "                    \"task_status\": \"todo\",\n",
    "                }\n",
    "            ],\n",
    "            \"members\": [\n",
    "                {\"name\": \"John\", \"role\": \"mechanic\", \"age\": 45},\n",
    "                {\"name\": \"Jane\", \"role\": \"manager\", \"age\": 55},\n",
    "                {\"name\": \"Jack\", \"role\": \"manager\", \"age\": 65},\n",
    "            ],\n",
    "        },\n",
    "    ],\n",
    "}"
   ]
  },
  {
   "cell_type": "code",
   "execution_count": 7,
   "metadata": {},
   "outputs": [
    {
     "name": "stderr",
     "output_type": "stream",
     "text": [
      "                                                                   \r"
     ]
    }
   ],
   "source": [
    "# from pathlib import Path\n",
    "import warnings\n",
    "\n",
    "with warnings.catch_warnings():\n",
    "  warnings.simplefilter(\"error\")\n",
    "  with cProfile.Profile() as pr:\n",
    "    db = DataBase(\n",
    "      schema=TestSchema, \n",
    "      # url=Path(\"./test.xlsx\")\n",
    "    )\n",
    "    rec = await data_source.load([data], db=db)\n",
    "\n",
    "    stats = pstats.Stats(pr)"
   ]
  },
  {
   "cell_type": "code",
   "execution_count": 8,
   "metadata": {},
   "outputs": [
    {
     "data": {
      "text/html": [
       "<pre style=\"white-space:pre;overflow-x:auto;line-height:normal;font-family:Menlo,'DejaVu Sans Mono',consolas,'Courier New',monospace\"></pre>\n"
      ],
      "text/plain": []
     },
     "metadata": {},
     "output_type": "display_data"
    },
    {
     "data": {
      "text/plain": [
       "\n",
       "\u001b[1m[\u001b[0m\n",
       "    \u001b[1;35mUser\u001b[0m\u001b[1m(\u001b[0m\u001b[1m{\u001b[0m\u001b[32m'_id'\u001b[0m: \u001b[32m'78328bcd-e6e5-48fb-89bd-29a675c3a674'\u001b[0m, \u001b[32m'name'\u001b[0m: \u001b[32m'John'\u001b[0m, \u001b[32m'age'\u001b[0m: \u001b[1;36m31\u001b[0m\u001b[1m}\u001b[0m\u001b[1m)\u001b[0m,\n",
       "    \u001b[1;35mUser\u001b[0m\u001b[1m(\u001b[0m\u001b[1m{\u001b[0m\u001b[32m'_id'\u001b[0m: \u001b[32m'f2b4e619-492d-4237-8cc7-3593eaca7f15'\u001b[0m, \u001b[32m'name'\u001b[0m: \u001b[32m'Jane'\u001b[0m, \u001b[32m'age'\u001b[0m: \u001b[1;36m56\u001b[0m\u001b[1m}\u001b[0m\u001b[1m)\u001b[0m,\n",
       "    \u001b[1;35mUser\u001b[0m\u001b[1m(\u001b[0m\u001b[1m{\u001b[0m\u001b[32m'_id'\u001b[0m: \u001b[32m'a981755b-a40b-4430-b79f-36e356ca07d5'\u001b[0m, \u001b[32m'name'\u001b[0m: \u001b[32m'Jack'\u001b[0m, \u001b[32m'age'\u001b[0m: \u001b[1;36m66\u001b[0m\u001b[1m}\u001b[0m\u001b[1m)\u001b[0m\n",
       "\u001b[1m]\u001b[0m"
      ]
     },
     "execution_count": 8,
     "metadata": {},
     "output_type": "execute_result"
    }
   ],
   "source": [
    "db[User].values()"
   ]
  },
  {
   "cell_type": "code",
   "execution_count": 9,
   "metadata": {},
   "outputs": [
    {
     "data": {
      "text/html": [
       "<pre style=\"white-space:pre;overflow-x:auto;line-height:normal;font-family:Menlo,'DejaVu Sans Mono',consolas,'Courier New',monospace\"></pre>\n"
      ],
      "text/plain": []
     },
     "metadata": {},
     "output_type": "display_data"
    },
    {
     "data": {
      "text/plain": [
       "\u001b[1m[\u001b[0m\u001b[32m'test'\u001b[0m\u001b[1m]\u001b[0m"
      ]
     },
     "execution_count": 9,
     "metadata": {},
     "output_type": "execute_result"
    }
   ],
   "source": [
    "db[Search.term].values()"
   ]
  },
  {
   "cell_type": "code",
   "execution_count": 10,
   "metadata": {},
   "outputs": [
    {
     "data": {
      "text/html": [
       "<pre style=\"white-space:pre;overflow-x:auto;line-height:normal;font-family:Menlo,'DejaVu Sans Mono',consolas,'Courier New',monospace\"></pre>\n"
      ],
      "text/plain": []
     },
     "metadata": {},
     "output_type": "display_data"
    },
    {
     "data": {
      "text/plain": [
       "\u001b[1m[\u001b[0m\u001b[1m(\u001b[0m\u001b[32m'test'\u001b[0m, \u001b[1;36m3\u001b[0m\u001b[1m)\u001b[0m\u001b[1m]\u001b[0m"
      ]
     },
     "execution_count": 10,
     "metadata": {},
     "output_type": "execute_result"
    }
   ],
   "source": [
    "list(db[Search.result_count].items())"
   ]
  },
  {
   "cell_type": "code",
   "execution_count": 11,
   "metadata": {},
   "outputs": [
    {
     "data": {
      "text/html": [
       "<pre style=\"white-space:pre;overflow-x:auto;line-height:normal;font-family:Menlo,'DejaVu Sans Mono',consolas,'Courier New',monospace\"></pre>\n"
      ],
      "text/plain": []
     },
     "metadata": {},
     "output_type": "display_data"
    },
    {
     "data": {
      "text/plain": [
       "\n",
       "\u001b[1m[\u001b[0m\n",
       "    \u001b[1m(\u001b[0m\n",
       "        \u001b[1m(\u001b[0m\u001b[32m'test'\u001b[0m, \u001b[1;36m2\u001b[0m, \u001b[32m'5b61a999-ed0d-4e26-844a-4c762a0ad124'\u001b[0m\u001b[1m)\u001b[0m,\n",
       "        \u001b[1;35mOrganization\u001b[0m\u001b[1m(\u001b[0m\u001b[1m{\u001b[0m\u001b[32m'_id'\u001b[0m: \u001b[32m'5b61a999-ed0d-4e26-844a-4c762a0ad124'\u001b[0m, \u001b[32m'name'\u001b[0m: \u001b[32m'Car Shop'\u001b[0m, \u001b[32m'address'\u001b[0m: \u001b[32m'Main Street 3'\u001b[0m, \u001b[32m'city'\u001b[0m: \u001b[32m'Cartown'\u001b[0m\u001b[1m}\u001b[0m\u001b[1m)\u001b[0m\n",
       "    \u001b[1m)\u001b[0m,\n",
       "    \u001b[1m(\u001b[0m\n",
       "        \u001b[1m(\u001b[0m\u001b[32m'test'\u001b[0m, \u001b[1;36m1\u001b[0m, \u001b[32m'd505c603-2467-475d-8fa7-9ae4e4913437'\u001b[0m\u001b[1m)\u001b[0m,\n",
       "        \u001b[1;35mOrganization\u001b[0m\u001b[1m(\u001b[0m\u001b[1m{\u001b[0m\u001b[32m'_id'\u001b[0m: \u001b[32m'd505c603-2467-475d-8fa7-9ae4e4913437'\u001b[0m, \u001b[32m'name'\u001b[0m: \u001b[32m'Shoe Shop'\u001b[0m, \u001b[32m'address'\u001b[0m: \u001b[32m'Main Street 2'\u001b[0m, \u001b[32m'city'\u001b[0m: \u001b[32m'Shoetown'\u001b[0m\u001b[1m}\u001b[0m\u001b[1m)\u001b[0m\n",
       "    \u001b[1m)\u001b[0m,\n",
       "    \u001b[1m(\u001b[0m\n",
       "        \u001b[1m(\u001b[0m\u001b[32m'test'\u001b[0m, \u001b[1;36m0\u001b[0m, \u001b[32m'831d2772-d13f-4402-8c3d-9ef1fc31c56c'\u001b[0m\u001b[1m)\u001b[0m,\n",
       "        \u001b[1;35mOrganization\u001b[0m\u001b[1m(\u001b[0m\u001b[1m{\u001b[0m\u001b[32m'_id'\u001b[0m: \u001b[32m'831d2772-d13f-4402-8c3d-9ef1fc31c56c'\u001b[0m, \u001b[32m'name'\u001b[0m: \u001b[32m'Bakery'\u001b[0m, \u001b[32m'address'\u001b[0m: \u001b[32m'Main Street 1'\u001b[0m, \u001b[32m'city'\u001b[0m: \u001b[32m'Bakerville'\u001b[0m\u001b[1m}\u001b[0m\u001b[1m)\u001b[0m\n",
       "    \u001b[1m)\u001b[0m\n",
       "\u001b[1m]\u001b[0m"
      ]
     },
     "execution_count": 11,
     "metadata": {},
     "output_type": "execute_result"
    }
   ],
   "source": [
    "list(db[Search.results.x.org].items())"
   ]
  },
  {
   "cell_type": "code",
   "execution_count": 12,
   "metadata": {},
   "outputs": [
    {
     "data": {
      "text/html": [
       "<pre style=\"white-space:pre;overflow-x:auto;line-height:normal;font-family:Menlo,'DejaVu Sans Mono',consolas,'Courier New',monospace\"></pre>\n"
      ],
      "text/plain": []
     },
     "metadata": {},
     "output_type": "display_data"
    },
    {
     "data": {
      "text/plain": [
       "\u001b[1;36m2020\u001b[0m"
      ]
     },
     "execution_count": 12,
     "metadata": {},
     "output_type": "execute_result"
    }
   ],
   "source": [
    "list(db[Search.results].items())[0][1].start.year"
   ]
  },
  {
   "cell_type": "code",
   "execution_count": 13,
   "metadata": {},
   "outputs": [
    {
     "data": {
      "text/html": [
       "<pre style=\"white-space:pre;overflow-x:auto;line-height:normal;font-family:Menlo,'DejaVu Sans Mono',consolas,'Courier New',monospace\"></pre>\n"
      ],
      "text/plain": []
     },
     "metadata": {},
     "output_type": "display_data"
    },
    {
     "data": {
      "text/plain": [
       "\u001b[1m[\u001b[0m\u001b[32m'number'\u001b[0m, \u001b[32m'name'\u001b[0m, \u001b[32m'start'\u001b[0m, \u001b[32m'end'\u001b[0m, \u001b[32m'status'\u001b[0m, \u001b[32m'org__id'\u001b[0m\u001b[1m]\u001b[0m"
      ]
     },
     "execution_count": 13,
     "metadata": {},
     "output_type": "execute_result"
    }
   ],
   "source": [
    "list(db[Search.results]._abs_cols.keys())"
   ]
  },
  {
   "cell_type": "code",
   "execution_count": 14,
   "metadata": {},
   "outputs": [
    {
     "data": {
      "text/html": [
       "<pre style=\"white-space:pre;overflow-x:auto;line-height:normal;font-family:Menlo,'DejaVu Sans Mono',consolas,'Courier New',monospace\"></pre>\n"
      ],
      "text/plain": []
     },
     "metadata": {},
     "output_type": "display_data"
    },
    {
     "data": {
      "text/html": [
       "<div><style>\n",
       ".dataframe > thead > tr,\n",
       ".dataframe > tbody > tr {\n",
       "  text-align: right;\n",
       "  white-space: pre-wrap;\n",
       "}\n",
       "</style>\n",
       "<small>shape: (3, 7)</small><table border=\"1\" class=\"dataframe\"><thead><tr><th>schema_Search_term</th><th>number</th><th>name</th><th>start</th><th>end</th><th>status</th><th>org__id</th></tr><tr><td>str</td><td>i64</td><td>str</td><td>date</td><td>date</td><td>str</td><td>str</td></tr></thead><tbody><tr><td>&quot;test&quot;</td><td>2</td><td>&quot;fixing cars&quot;</td><td>2020-01-03</td><td>2020-01-06</td><td>&quot;started&quot;</td><td>&quot;5b61a999-ed0d-4e26-844a-4c762a…</td></tr><tr><td>&quot;test&quot;</td><td>1</td><td>&quot;cleaning shoes&quot;</td><td>2020-01-02</td><td>2020-01-05</td><td>&quot;done&quot;</td><td>&quot;d505c603-2467-475d-8fa7-9ae4e4…</td></tr><tr><td>&quot;test&quot;</td><td>0</td><td>&quot;baking cake&quot;</td><td>2020-01-01</td><td>2020-01-04</td><td>&quot;done&quot;</td><td>&quot;831d2772-d13f-4402-8c3d-9ef1fc…</td></tr></tbody></table></div>"
      ],
      "text/plain": [
       "\n",
       "shape: \u001b[1m(\u001b[0m\u001b[1;36m3\u001b[0m, \u001b[1;36m7\u001b[0m\u001b[1m)\u001b[0m\n",
       "┌──────────────────┬────────┬────────────────┬────────────┬────────────┬─────────┬─────────────────┐\n",
       "│ schema_Search_te ┆ number ┆ name           ┆ start      ┆ end        ┆ status  ┆ org__id         │\n",
       "│ rm               ┆ ---    ┆ ---            ┆ ---        ┆ ---        ┆ ---     ┆ ---             │\n",
       "│ ---              ┆ i64    ┆ str            ┆ date       ┆ date       ┆ str     ┆ str             │\n",
       "│ str              ┆        ┆                ┆            ┆            ┆         ┆                 │\n",
       "╞══════════════════╪════════╪════════════════╪════════════╪════════════╪═════════╪═════════════════╡\n",
       "│ test             ┆ \u001b[1;36m2\u001b[0m      ┆ fixing cars    ┆ \u001b[1;36m2020\u001b[0m-\u001b[1;36m01\u001b[0m-\u001b[1;36m03\u001b[0m ┆ \u001b[1;36m2020\u001b[0m-\u001b[1;36m01\u001b[0m-\u001b[1;36m06\u001b[0m ┆ started ┆ 5b61a999-ed0d-\u001b[1;36m4\u001b[0m │\n",
       "│                  ┆        ┆                ┆            ┆            ┆         ┆ e26-844a-4c762a │\n",
       "│                  ┆        ┆                ┆            ┆            ┆         ┆ …               │\n",
       "│ test             ┆ \u001b[1;36m1\u001b[0m      ┆ cleaning shoes ┆ \u001b[1;36m2020\u001b[0m-\u001b[1;36m01\u001b[0m-\u001b[1;36m02\u001b[0m ┆ \u001b[1;36m2020\u001b[0m-\u001b[1;36m01\u001b[0m-\u001b[1;36m05\u001b[0m ┆ done    ┆ d505c603-\u001b[1;36m2467\u001b[0m-\u001b[1;36m4\u001b[0m │\n",
       "│                  ┆        ┆                ┆            ┆            ┆         ┆ 75d-8fa7-9ae4e4 │\n",
       "│                  ┆        ┆                ┆            ┆            ┆         ┆ …               │\n",
       "│ test             ┆ \u001b[1;36m0\u001b[0m      ┆ baking cake    ┆ \u001b[1;36m2020\u001b[0m-\u001b[1;36m01\u001b[0m-\u001b[1;36m01\u001b[0m ┆ \u001b[1;36m2020\u001b[0m-\u001b[1;36m01\u001b[0m-\u001b[1;36m04\u001b[0m ┆ done    ┆ 831d2772-d13f-\u001b[1;36m4\u001b[0m │\n",
       "│                  ┆        ┆                ┆            ┆            ┆         ┆ \u001b[1;36m402\u001b[0m-8c3d-9ef1fc │\n",
       "│                  ┆        ┆                ┆            ┆            ┆         ┆ …               │\n",
       "└──────────────────┴────────┴────────────────┴────────────┴────────────┴─────────┴─────────────────┘"
      ]
     },
     "execution_count": 14,
     "metadata": {},
     "output_type": "execute_result"
    }
   ],
   "source": [
    "db[Search.results].df()"
   ]
  },
  {
   "cell_type": "code",
   "execution_count": 15,
   "metadata": {},
   "outputs": [
    {
     "data": {
      "text/html": [
       "<pre style=\"white-space:pre;overflow-x:auto;line-height:normal;font-family:Menlo,'DejaVu Sans Mono',consolas,'Courier New',monospace\"></pre>\n"
      ],
      "text/plain": []
     },
     "metadata": {},
     "output_type": "display_data"
    },
    {
     "data": {
      "text/html": [
       "<div><style>\n",
       ".dataframe > thead > tr,\n",
       ".dataframe > tbody > tr {\n",
       "  text-align: right;\n",
       "  white-space: pre-wrap;\n",
       "}\n",
       "</style>\n",
       "<small>shape: (3, 6)</small><table border=\"1\" class=\"dataframe\"><thead><tr><th>schema_Search_term</th><th>schema_Search_results_number</th><th>_id</th><th>name</th><th>address</th><th>city</th></tr><tr><td>str</td><td>i64</td><td>str</td><td>str</td><td>str</td><td>str</td></tr></thead><tbody><tr><td>&quot;test&quot;</td><td>2</td><td>&quot;5b61a999-ed0d-4e26-844a-4c762a…</td><td>&quot;Car Shop&quot;</td><td>&quot;Main Street 3&quot;</td><td>&quot;Cartown&quot;</td></tr><tr><td>&quot;test&quot;</td><td>1</td><td>&quot;d505c603-2467-475d-8fa7-9ae4e4…</td><td>&quot;Shoe Shop&quot;</td><td>&quot;Main Street 2&quot;</td><td>&quot;Shoetown&quot;</td></tr><tr><td>&quot;test&quot;</td><td>0</td><td>&quot;831d2772-d13f-4402-8c3d-9ef1fc…</td><td>&quot;Bakery&quot;</td><td>&quot;Main Street 1&quot;</td><td>&quot;Bakerville&quot;</td></tr></tbody></table></div>"
      ],
      "text/plain": [
       "\n",
       "shape: \u001b[1m(\u001b[0m\u001b[1;36m3\u001b[0m, \u001b[1;36m6\u001b[0m\u001b[1m)\u001b[0m\n",
       "┌───────────────────┬──────────────────┬──────────────────┬───────────┬───────────────┬────────────┐\n",
       "│ schema_Search_ter ┆ schema_Search_re ┆ _id              ┆ name      ┆ address       ┆ city       │\n",
       "│ m                 ┆ sults_number     ┆ ---              ┆ ---       ┆ ---           ┆ ---        │\n",
       "│ ---               ┆ ---              ┆ str              ┆ str       ┆ str           ┆ str        │\n",
       "│ str               ┆ i64              ┆                  ┆           ┆               ┆            │\n",
       "╞═══════════════════╪══════════════════╪══════════════════╪═══════════╪═══════════════╪════════════╡\n",
       "│ test              ┆ \u001b[1;36m2\u001b[0m                ┆ 5b61a999-ed0d-4e ┆ Car Shop  ┆ Main Street \u001b[1;36m3\u001b[0m ┆ Cartown    │\n",
       "│                   ┆                  ┆ \u001b[1;36m26\u001b[0m-844a-4c762a…  ┆           ┆               ┆            │\n",
       "│ test              ┆ \u001b[1;36m1\u001b[0m                ┆ d505c603-\u001b[1;36m2467\u001b[0m-\u001b[1;36m47\u001b[0m ┆ Shoe Shop ┆ Main Street \u001b[1;36m2\u001b[0m ┆ Shoetown   │\n",
       "│                   ┆                  ┆ 5d-8fa7-9ae4e4…  ┆           ┆               ┆            │\n",
       "│ test              ┆ \u001b[1;36m0\u001b[0m                ┆ 831d2772-d13f-\u001b[1;36m44\u001b[0m ┆ Bakery    ┆ Main Street \u001b[1;36m1\u001b[0m ┆ Bakerville │\n",
       "│                   ┆                  ┆ \u001b[1;36m02\u001b[0m-8c3d-9ef1fc…  ┆           ┆               ┆            │\n",
       "└───────────────────┴──────────────────┴──────────────────┴───────────┴───────────────┴────────────┘"
      ]
     },
     "execution_count": 15,
     "metadata": {},
     "output_type": "execute_result"
    }
   ],
   "source": [
    "db[Search.results.x.org].df()"
   ]
  },
  {
   "cell_type": "code",
   "execution_count": 16,
   "metadata": {},
   "outputs": [
    {
     "data": {
      "text/html": [
       "<pre style=\"white-space:pre;overflow-x:auto;line-height:normal;font-family:Menlo,'DejaVu Sans Mono',consolas,'Courier New',monospace\"></pre>\n"
      ],
      "text/plain": []
     },
     "metadata": {},
     "output_type": "display_data"
    },
    {
     "data": {
      "text/html": [
       "<div><style>\n",
       ".dataframe > thead > tr,\n",
       ".dataframe > tbody > tr {\n",
       "  text-align: right;\n",
       "  white-space: pre-wrap;\n",
       "}\n",
       "</style>\n",
       "<small>shape: (3, 4)</small><table border=\"1\" class=\"dataframe\"><thead><tr><th>_id</th><th>name</th><th>address</th><th>city</th></tr><tr><td>str</td><td>str</td><td>str</td><td>str</td></tr></thead><tbody><tr><td>&quot;831d2772-d13f-4402-8c3d-9ef1fc…</td><td>&quot;Bakery&quot;</td><td>&quot;Main Street 1&quot;</td><td>&quot;Bakerville&quot;</td></tr><tr><td>&quot;d505c603-2467-475d-8fa7-9ae4e4…</td><td>&quot;Shoe Shop&quot;</td><td>&quot;Main Street 2&quot;</td><td>&quot;Shoetown&quot;</td></tr><tr><td>&quot;5b61a999-ed0d-4e26-844a-4c762a…</td><td>&quot;Car Shop&quot;</td><td>&quot;Main Street 3&quot;</td><td>&quot;Cartown&quot;</td></tr></tbody></table></div>"
      ],
      "text/plain": [
       "\n",
       "shape: \u001b[1m(\u001b[0m\u001b[1;36m3\u001b[0m, \u001b[1;36m4\u001b[0m\u001b[1m)\u001b[0m\n",
       "┌─────────────────────────────────┬───────────┬───────────────┬────────────┐\n",
       "│ _id                             ┆ name      ┆ address       ┆ city       │\n",
       "│ ---                             ┆ ---       ┆ ---           ┆ ---        │\n",
       "│ str                             ┆ str       ┆ str           ┆ str        │\n",
       "╞═════════════════════════════════╪═══════════╪═══════════════╪════════════╡\n",
       "│ 831d2772-d13f-\u001b[1;36m4402\u001b[0m-8c3d-9ef1fc… ┆ Bakery    ┆ Main Street \u001b[1;36m1\u001b[0m ┆ Bakerville │\n",
       "│ d505c603-\u001b[1;36m2467\u001b[0m-475d-8fa7-9ae4e4… ┆ Shoe Shop ┆ Main Street \u001b[1;36m2\u001b[0m ┆ Shoetown   │\n",
       "│ 5b61a999-ed0d-\u001b[1;36m4e26\u001b[0m-844a-4c762a… ┆ Car Shop  ┆ Main Street \u001b[1;36m3\u001b[0m ┆ Cartown    │\n",
       "└─────────────────────────────────┴───────────┴───────────────┴────────────┘"
      ]
     },
     "execution_count": 16,
     "metadata": {},
     "output_type": "execute_result"
    }
   ],
   "source": [
    "db[Organization].df()"
   ]
  },
  {
   "cell_type": "code",
   "execution_count": 17,
   "metadata": {},
   "outputs": [
    {
     "data": {
      "text/html": [
       "<pre style=\"white-space:pre;overflow-x:auto;line-height:normal;font-family:Menlo,'DejaVu Sans Mono',consolas,'Courier New',monospace\"></pre>\n"
      ],
      "text/plain": []
     },
     "metadata": {},
     "output_type": "display_data"
    },
    {
     "data": {
      "text/plain": [
       "\n",
       "\u001b[1m{\u001b[0m\n",
       "    \u001b[32m'schema'\u001b[0m: \u001b[1m{\u001b[0m\n",
       "        \u001b[32m'package'\u001b[0m: \u001b[32m'py-research'\u001b[0m,\n",
       "        \u001b[32m'module'\u001b[0m: \u001b[32m'schema'\u001b[0m,\n",
       "        \u001b[32m'object'\u001b[0m: \u001b[32m'TestSchema'\u001b[0m,\n",
       "        \u001b[32m'package_version'\u001b[0m: \u001b[32m'^5.1.1.dev148+g44d4d92.d20250123'\u001b[0m,\n",
       "        \u001b[32m'repo'\u001b[0m: \u001b[32m'https://github.com/cloudlane-one/py-research.git'\u001b[0m,\n",
       "        \u001b[32m'repo_revision'\u001b[0m: \u001b[32m'6e237d311637de6d2e68c7d9ccfd7e726cc906ae'\u001b[0m,\n",
       "        \u001b[32m'module_path'\u001b[0m: \u001b[1;35mWindowsPath\u001b[0m\u001b[1m(\u001b[0m\u001b[32m'exp/schema.py'\u001b[0m\u001b[1m)\u001b[0m,\n",
       "        \u001b[32m'module_dirty'\u001b[0m: \u001b[3;91mFalse\u001b[0m,\n",
       "        \u001b[32m'docs_url'\u001b[0m: \u001b[32m'https://cloudlane-one.github.io/py-research/'\u001b[0m\n",
       "    \u001b[1m}\u001b[0m,\n",
       "    \u001b[32m'contents'\u001b[0m: \u001b[1m{\u001b[0m\n",
       "        \u001b[32m'records'\u001b[0m: \u001b[1m{\u001b[0m\n",
       "            \u001b[32m'schema.Membership'\u001b[0m: \u001b[1;36m7\u001b[0m,\n",
       "            \u001b[32m'schema.User'\u001b[0m: \u001b[1;36m3\u001b[0m,\n",
       "            \u001b[32m'schema.Organization'\u001b[0m: \u001b[1;36m3\u001b[0m,\n",
       "            \u001b[32m'schema.SearchResult'\u001b[0m: \u001b[1;36m3\u001b[0m,\n",
       "            \u001b[32m'schema.Search'\u001b[0m: \u001b[1;36m1\u001b[0m,\n",
       "            \u001b[32m'schema.Task'\u001b[0m: \u001b[1;36m6\u001b[0m,\n",
       "            \u001b[32m'schema.Project'\u001b[0m: \u001b[1;36m3\u001b[0m\n",
       "        \u001b[1m}\u001b[0m,\n",
       "        \u001b[32m'arrays'\u001b[0m: \u001b[1m{\u001b[0m\u001b[32m'schema_Organization_ccs'\u001b[0m: \u001b[1;36m7\u001b[0m\u001b[1m}\u001b[0m,\n",
       "        \u001b[32m'relations'\u001b[0m: \u001b[1m{\u001b[0m\u001b[32m'schema.Membership'\u001b[0m: \u001b[1;36m7\u001b[0m, \u001b[32m'schema.SearchResult'\u001b[0m: \u001b[1;36m3\u001b[0m\u001b[1m}\u001b[0m\n",
       "    \u001b[1m}\u001b[0m,\n",
       "    \u001b[32m'backend'\u001b[0m: \u001b[3;35mNone\u001b[0m\n",
       "\u001b[1m}\u001b[0m"
      ]
     },
     "execution_count": 17,
     "metadata": {},
     "output_type": "execute_result"
    }
   ],
   "source": [
    "db.describe()"
   ]
  },
  {
   "cell_type": "code",
   "execution_count": 18,
   "metadata": {},
   "outputs": [
    {
     "data": {
      "text/html": [
       "<pre style=\"white-space:pre;overflow-x:auto;line-height:normal;font-family:Menlo,'DejaVu Sans Mono',consolas,'Courier New',monospace\"></pre>\n"
      ],
      "text/plain": []
     },
     "metadata": {},
     "output_type": "display_data"
    },
    {
     "data": {
      "text/html": [
       "<div><style>\n",
       ".dataframe > thead > tr,\n",
       ".dataframe > tbody > tr {\n",
       "  text-align: right;\n",
       "  white-space: pre-wrap;\n",
       "}\n",
       "</style>\n",
       "<small>shape: (1, 4)</small><table border=\"1\" class=\"dataframe\"><thead><tr><th>_id</th><th>score</th><th>_from_term</th><th>_to_number</th></tr><tr><td>str</td><td>f64</td><td>str</td><td>i64</td></tr></thead><tbody><tr><td>&quot;4376575091&quot;</td><td>0.9</td><td>&quot;test&quot;</td><td>0</td></tr></tbody></table></div>"
      ],
      "text/plain": [
       "\n",
       "shape: \u001b[1m(\u001b[0m\u001b[1;36m1\u001b[0m, \u001b[1;36m4\u001b[0m\u001b[1m)\u001b[0m\n",
       "┌────────────┬───────┬────────────┬────────────┐\n",
       "│ _id        ┆ score ┆ _from_term ┆ _to_number │\n",
       "│ ---        ┆ ---   ┆ ---        ┆ ---        │\n",
       "│ str        ┆ f64   ┆ str        ┆ i64        │\n",
       "╞════════════╪═══════╪════════════╪════════════╡\n",
       "│ \u001b[1;36m4376575091\u001b[0m ┆ \u001b[1;36m0.9\u001b[0m   ┆ test       ┆ \u001b[1;36m0\u001b[0m          │\n",
       "└────────────┴───────┴────────────┴────────────┘"
      ]
     },
     "execution_count": 18,
     "metadata": {},
     "output_type": "execute_result"
    }
   ],
   "source": [
    "db[SearchResult._table[SearchResult.score.isin(slice(0.81, 0.9))]].df()"
   ]
  },
  {
   "cell_type": "code",
   "execution_count": 22,
   "metadata": {},
   "outputs": [
    {
     "data": {
      "text/html": [
       "<pre style=\"white-space:pre;overflow-x:auto;line-height:normal;font-family:Menlo,'DejaVu Sans Mono',consolas,'Courier New',monospace\"></pre>\n"
      ],
      "text/plain": []
     },
     "metadata": {},
     "output_type": "display_data"
    },
    {
     "data": {
      "text/html": [
       "<div>\n",
       "<style scoped>\n",
       "    .dataframe tbody tr th:only-of-type {\n",
       "        vertical-align: middle;\n",
       "    }\n",
       "\n",
       "    .dataframe tbody tr th {\n",
       "        vertical-align: top;\n",
       "    }\n",
       "\n",
       "    .dataframe thead th {\n",
       "        text-align: right;\n",
       "    }\n",
       "</style>\n",
       "<table border=\"1\" class=\"dataframe\">\n",
       "  <thead>\n",
       "    <tr style=\"text-align: right;\">\n",
       "      <th></th>\n",
       "      <th></th>\n",
       "      <th>value</th>\n",
       "    </tr>\n",
       "    <tr>\n",
       "      <th>schema_Organization__id</th>\n",
       "      <th>schema_Organization_ccs_idx</th>\n",
       "      <th></th>\n",
       "    </tr>\n",
       "  </thead>\n",
       "  <tbody>\n",
       "    <tr>\n",
       "      <th rowspan=\"3\" valign=\"top\">831d2772-d13f-4402-8c3d-9ef1fc31c56c</th>\n",
       "      <th>0</th>\n",
       "      <td>USA</td>\n",
       "    </tr>\n",
       "    <tr>\n",
       "      <th>1</th>\n",
       "      <td>Mexico</td>\n",
       "    </tr>\n",
       "    <tr>\n",
       "      <th>2</th>\n",
       "      <td>Canada</td>\n",
       "    </tr>\n",
       "    <tr>\n",
       "      <th rowspan=\"2\" valign=\"top\">d505c603-2467-475d-8fa7-9ae4e4913437</th>\n",
       "      <th>0</th>\n",
       "      <td>USA</td>\n",
       "    </tr>\n",
       "    <tr>\n",
       "      <th>1</th>\n",
       "      <td>Mexico</td>\n",
       "    </tr>\n",
       "    <tr>\n",
       "      <th rowspan=\"2\" valign=\"top\">5b61a999-ed0d-4e26-844a-4c762a0ad124</th>\n",
       "      <th>0</th>\n",
       "      <td>USA</td>\n",
       "    </tr>\n",
       "    <tr>\n",
       "      <th>1</th>\n",
       "      <td>Canada</td>\n",
       "    </tr>\n",
       "  </tbody>\n",
       "</table>\n",
       "</div>"
      ],
      "text/plain": [
       "\n",
       "                                                                   value\n",
       "schema_Organization__id              schema_Organization_ccs_idx        \n",
       "\u001b[93m831d2772-d13f-4402-8c3d-9ef1fc31c56c\u001b[0m \u001b[1;36m0\u001b[0m                               USA\n",
       "                                     \u001b[1;36m1\u001b[0m                            Mexico\n",
       "                                     \u001b[1;36m2\u001b[0m                            Canada\n",
       "\u001b[93md505c603-2467-475d-8fa7-9ae4e4913437\u001b[0m \u001b[1;36m0\u001b[0m                               USA\n",
       "                                     \u001b[1;36m1\u001b[0m                            Mexico\n",
       "\u001b[93m5b61a999-ed0d-4e26-844a-4c762a0ad124\u001b[0m \u001b[1;36m0\u001b[0m                               USA\n",
       "                                     \u001b[1;36m1\u001b[0m                            Canada"
      ]
     },
     "execution_count": 22,
     "metadata": {},
     "output_type": "execute_result"
    }
   ],
   "source": [
    "import pandas as pd\n",
    "\n",
    "\n",
    "db[Organization.ccs].df(pd.DataFrame)"
   ]
  },
  {
   "cell_type": "code",
   "execution_count": 20,
   "metadata": {},
   "outputs": [
    {
     "name": "stdout",
     "output_type": "stream",
     "text": [
      "         440956 function calls (408995 primitive calls) in 0.744 seconds\n",
      "\n",
      "   Ordered by: cumulative time\n",
      "   List reduced from 2287 to 156 due to restriction <'py_research'>\n",
      "\n",
      "   ncalls  tottime  percall  cumtime  percall filename:lineno(function)\n",
      "       52    0.000    0.000    0.263    0.005 C:\\Users\\lworm\\Repos\\py-research\\src\\py_research\\db\\datasources.py:697(_load_rec_from_item)\n",
      "       52    0.001    0.000    0.261    0.005 C:\\Users\\lworm\\Repos\\py-research\\src\\py_research\\db\\datasources.py:572(_load_record)\n",
      "       56    0.000    0.000    0.227    0.004"
     ]
    },
    {
     "name": "stdout",
     "output_type": "stream",
     "text": [
      " C:\\Users\\lworm\\Repos\\py-research\\src\\py_research\\db\\datasources.py:838(load)\n",
      "   168/57    0.001    0.000    0.219    0.004 C:\\Users\\lworm\\Repos\\py-research\\src\\py_research\\db\\datasources.py:665(_load_records)\n",
      "       19    0.000    0.000    0.216    0.011 C:\\Users\\lworm\\Repos\\py-research\\src\\py_research\\db\\databases.py:1475(__ior__)\n",
      "       19    0.001    0.000    0.215    0.011 C:\\Users\\lworm\\Repos\\py-research\\src\\py_research\\db\\databases.py:2937(_mutate)\n",
      "       17    0.000    0.000    0.170    0.010 C:\\Users\\lworm\\Repos\\py-research\\src\\py_research\\db\\databases.py:3074(_mutate_from_records)\n",
      "       45    0.000    0.000    0.161    0.004 C:\\Users\\lworm\\Repos\\py-research\\src\\py_research\\db\\databases.py:722(keys)\n",
      "14044/6865    0.015    0.000    0.160    0.000 C:\\Users\\lworm\\Repos\\py-research\\src\\py_research\\caching.py:382(__get__)\n",
      "       45    0.001    0.000    0.159    0.004 C:\\Users\\lworm\\Repos\\py-research\\src\\py_research\\db\\databases.py:883(df)\n",
      "       16    0.000    0.000    0.132    0.008 C:\\Users\\lworm\\Repos\\py-research\\src\\py_research\\db\\databases.py:2911(_df_to_table)\n",
      "       47    0.000    0.000    0.109    0.002 C:\\Users\\lworm\\Repos\\py-research\\src\\py_research\\caching.py:364(__call__)\n",
      "       47    0.000    0.000    0.109    0.002 C:\\Users\\lworm\\Repos\\py-research\\src\\py_research\\db\\databases.py:637(select)\n",
      "       81    0.000    0.000    0.053    0.001 C:\\Users\\lworm\\Repos\\py-research\\src\\py_research\\db\\databases.py:2473(_sql_col)\n",
      " 6752/287    0.006    0.000    0.053    0.000 C:\\Users\\lworm\\Repos\\py-research\\src\\py_research\\hashing.py:54(inner)\n",
      " 6752/287    0.015    0.000    0.052    0.000 C:\\Users\\lworm\\Repos\\py-research\\src\\py_research\\hashing.py:69(gen_int_hash)\n",
      "      260    0.000    0.000    0.050    0.000 C:\\Users\\lworm\\Repos\\py-research\\src\\py_research\\db\\databases.py:678(__hash__)\n",
      " 1002/307    0.001    0.000    0.050    0.000 C:\\Users\\lworm\\Repos\\py-research\\src\\py_research\\hashing.py:43(_hash_sequence)\n",
      "3040/1931    0.004    0.000    0.049    0.000 C:\\Users\\lworm\\Repos\\py-research\\src\\py_research\\hashing.py:44(<lambda>)\n",
      "  151/144    0.001    0.000    0.041    0.000 C:\\Users\\lworm\\Repos\\py-research\\src\\py_research\\db\\databases.py:2708(_get_sql_base_table)\n",
      "       47    0.000    0.000    0.040    0.001 C:\\Users\\lworm\\Repos\\py-research\\src\\py_research\\db\\databases.py:2368(_sql_joins)\n",
      "       47    0.000    0.000    0.040    0.001 C:\\Users\\lworm\\Repos\\py-research\\src\\py_research\\db\\databases.py:2318(_total_join_dict)\n",
      "       94    0.000    0.000    0.039    0.000 C:\\Users\\lworm\\Repos\\py-research\\src\\py_research\\db\\databases.py:645(<genexpr>)\n",
      "       47    0.000    0.000    0.037    0.001 C:\\Users\\lworm\\Repos\\py-research\\src\\py_research\\db\\databases.py:2314(_total_joins)\n",
      "      128    0.000    0.000    0.037    0.000 C:\\Users\\lworm\\Repos\\py-research\\src\\py_research\\db\\databases.py:2479(_sql_table)\n",
      "       47    0.000    0.000    0.036    0.001 C:\\Users\\lworm\\Repos\\py-research\\src\\py_research\\db\\databases.py:2251(_abs_filters)\n",
      "       10    0.000    0.000    0.036    0.004 C:\\Users\\lworm\\Repos\\py-research\\src\\py_research\\telemetry.py:104(tqdm)\n",
      "       16    0.001    0.000    0.035    0.002 C:\\Users\\lworm\\Repos\\py-research\\src\\py_research\\db\\databases.py:3167(_mutate_from_sql)\n",
      "       59    0.001    0.000    0.033    0.001 C:\\Users\\lworm\\Repos\\py-research\\src\\py_research\\db\\databases.py:2166(_abs_idx_cols)\n",
      "  678/676    0.001    0.000    0.033    0.000 C:\\Users\\lworm\\Repos\\py-research\\src\\py_research\\db\\databases.py:2533(_get_typearg)\n",
      "        2    0.000    0.000    0.030    0.015 C:\\Users\\lworm\\Repos\\py-research\\src\\py_research\\db\\databases.py:3060(_mutate_from_values)\n",
      "       99    0.001    0.000    0.030    0.000 C:\\Users\\lworm\\Repos\\py-research\\src\\py_research\\db\\databases.py:2685(_visit_filter_col)\n",
      "       16    0.000    0.000    0.029    0.002 C:\\Users\\lworm\\Repos\\py-research\\src\\py_research\\db\\databases.py:2821(_values_to_df)\n",
      "  321/319    0.000    0.000    0.027    0.000 C:\\Users\\lworm\\Repos\\py-research\\src\\py_research\\db\\databases.py:1964(_generic_args)\n",
      "  321/319    0.001    0.000    0.024    0.000 C:\\Users\\lworm\\Repos\\py-research\\src\\py_research\\db\\databases.py:1955(_generic_type)\n",
      "      149    0.000    0.000    0.022    0.000 C:\\Users\\lworm\\Repos\\py-research\\src\\py_research\\db\\databases.py:2114(_target_table)\n",
      "      174    0.000    0.000    0.018    0.000 C:\\Users\\lworm\\Repos\\py-research\\src\\py_research\\db\\databases.py:2066(_link)\n",
      "       10    0.000    0.000    0.018    0.002 C:\\Users\\lworm\\Repos\\py-research\\src\\py_research\\db\\databases.py:4184(_create_sqla_table)\n",
      "  798/792    0.002    0.000    0.018    0.000 C:\\Users\\lworm\\Repos\\py-research\\src\\py_research\\db\\databases.py:4454(_props)\n",
      "  973/967    0.002    0.000    0.016    0.000 C:\\Users\\lworm\\Repos\\py-research\\src\\py_research\\db\\databases.py:4444(_class_fk_values)\n",
      "  912/908    0.003    0.000    0.015    0.000 C:\\Users\\lworm\\Repos\\py-research\\src\\py_research\\db\\databases.py:2550(_hint_to_typedef)\n",
      "     3786    0.008    0.000    0.015    0.000 C:\\Users\\lworm\\Repos\\py-research\\src\\py_research\\hashing.py:34(_stable_hash)\n",
      "      493    0.001    0.000    0.015    0.000 C:\\Users\\lworm\\Repos\\py-research\\src\\py_research\\reflect\\types.py:56(is_subtype)\n",
      "       10    0.000    0.000    0.015    0.001 C:\\Users\\lworm\\Repos\\py-research\\src\\py_research\\db\\databases.py:2331(_fk_map)\n",
      "      220    0.000    0.000    0.014    0.000 C:\\Users\\lworm\\Repos\\py-research\\src\\py_research\\db\\databases.py:4126(__hash__)\n",
      "       57    0.000    0.000    0.013    0.000 C:\\Users\\lworm\\Repos\\py-research\\src\\py_research\\db\\databases.py:1641(__eq__)\n",
      "       16    0.001    0.000    0.013    0.001 C:\\Users\\lworm\\Repos\\py-research\\src\\py_research\\db\\databases.py:2867(_gen_upload_table)\n",
      "      209    0.006    0.000    0.013    0.000 C:\\Users\\lworm\\Repos\\py-research\\src\\py_research\\data.py:33(copy_and_override)\n",
      "      172    0.000    0.000    0.013    0.000 C:\\Users\\lworm\\Repos\\py-research\\src\\py_research\\db\\databases.py:542(target_type)\n",
      "      253    0.001    0.000    0.012    0.000 C:\\Users\\lworm\\Repos\\py-research\\src\\py_research\\db\\databases.py:4507(_tables)\n",
      "        9    0.000    0.000    0.012    0.001 C:\\Users\\lworm\\Repos\\py-research\\src\\py_research\\db\\datasources.py:291(sub_tables)\n",
      "       33    0.001    0.000    0.012    0.000 C:\\Users\\lworm\\Repos\\py-research\\src\\py_research\\db\\databases.py:4709(__init__)\n",
      "      153    0.000    0.000    0.012    0.000 C:\\Users\\lworm\\Repos\\py-research\\src\\py_research\\db\\databases.py:4511(_links)\n",
      "        9    0.000    0.000    0.011    0.001 C:\\Users\\lworm\\Repos\\py-research\\src\\py_research\\db\\datasources.py:272(full_map)\n",
      "      332    0.000    0.000    0.011    0.000 C:\\Users\\lworm\\Repos\\py-research\\src\\py_research\\reflect\\types.py:65(has_type)\n",
      "      147    0.000    0.000    0.011    0.000 C:\\Users\\lworm\\Repos\\py-research\\src\\py_research\\db\\databases.py:559(relation_type)\n",
      "      354    0.000    0.000    0.010    0.000 C:\\Users\\lworm\\Repos\\py-research\\src\\py_research\\db\\databases.py:537(value_type)\n",
      "        9    0.000    0.000    0.010    0.001 C:\\Users\\lworm\\Repos\\py-research\\src\\py_research\\db\\datasources.py:431(_push_to_pull_map)\n",
      "       45    0.000    0.000    0.010    0.000 C:\\Users\\lworm\\Repos\\py-research\\src\\py_research\\db\\datasources.py:537(_gen_match_expr)\n",
      "       10    0.000    0.000    0.010    0.001 C:\\Users\\lworm\\Repos\\py-research\\src\\py_research\\db\\databases.py:2414(_sql_base_cols)\n",
      "       56    0.000    0.000    0.009    0.000 C:\\Users\\lworm\\Repos\\py-research\\src\\py_research\\db\\datasources.py:555(<genexpr>)\n",
      "      174    0.000    0.000    0.009    0.000 C:\\Users\\lworm\\Repos\\py-research\\src\\py_research\\db\\databases.py:2018(_backlink)\n",
      "      139    0.000    0.000    0.009    0.000 C:\\Users\\lworm\\Repos\\py-research\\src\\py_research\\db\\databases.py:552(record_type)\n",
      "      702    0.000    0.000    0.007    0.000 C:\\Users\\lworm\\Repos\\py-research\\src\\py_research\\hashing.py:109(<genexpr>)\n",
      "       16    0.000    0.000    0.006    0.000 C:\\Users\\lworm\\Repos\\py-research\\src\\py_research\\db\\databases.py:322(_get_pl_schema)\n",
      "    92/86    0.000    0.000    0.006    0.000 C:\\Users\\lworm\\Repos\\py-research\\src\\py_research\\db\\databases.py:523(path)\n",
      "       29    0.000    0.000    0.006    0.000 C:\\Users\\lworm\\Repos\\py-research\\src\\py_research\\db\\databases.py:2810(_gen_fk_value_map)\n",
      "       56    0.001    0.000    0.005    0.000 C:\\Users\\lworm\\Repos\\py-research\\src\\py_research\\db\\databases.py:1276(__getitem__)\n",
      "       10    0.000    0.000    0.005    0.001 C:\\Users\\lworm\\Repos\\py-research\\src\\py_research\\db\\databases.py:2232(_base_table_map)\n",
      "       12    0.000    0.000    0.005    0.000 C:\\Users\\lworm\\Repos\\py-research\\src\\py_research\\db\\databases.py:2132(_abs_cols)\n",
      "      243    0.000    0.000    0.005    0.000 C:\\Users\\lworm\\Repos\\py-research\\src\\py_research\\db\\databases.py:2110(_root_table)\n",
      "      114    0.000    0.000    0.004    0.000 C:\\Users\\lworm\\Repos\\py-research\\src\\py_research\\db\\datasources.py:207(select)\n",
      "  585/424    0.002    0.000    0.004    0.000 C:\\Users\\lworm\\Repos\\py-research\\src\\py_research\\db\\databases.py:1833(__get__)\n",
      "      114    0.000    0.000    0.004    0.000 C:\\Users\\lworm\\Repos\\py-research\\src\\py_research\\db\\datasources.py:104(select)\n",
      "       45    0.000    0.000    0.004    0.000 C:\\Users\\lworm\\Repos\\py-research\\src\\py_research\\db\\databases.py:4817(_is_complete_dict)\n",
      "       84    0.000    0.000    0.004    0.000 C:\\Users\\lworm\\Repos\\py-research\\src\\py_research\\db\\databases.py:2126(_abs_link_path)\n",
      "      114    0.001    0.000    0.004    0.000 C:\\Users\\lworm\\Repos\\py-research\\src\\py_research\\db\\datasources.py:56(_select_on_level)\n",
      "      200    0.000    0.000    0.003    0.000 C:\\Users\\lworm\\Repos\\py-research\\src\\py_research\\db\\databases.py:4495(_values)\n",
      "  165/102    0.000    0.000    0.003    0.000 C:\\Users\\lworm\\Repos\\py-research\\src\\py_research\\db\\databases.py:577(fqn)\n",
      "      973    0.002    0.000    0.003    0.000 C:\\Users\\lworm\\Repos\\py-research\\src\\py_research\\db\\databases.py:4433(_class_links)\n",
      "        2    0.000    0.000    0.003    0.001 C:\\Users\\lworm\\Repos\\py-research\\src\\py_research\\db\\databases.py:3744(engine)\n",
      "       10    0.000    0.000    0.003    0.000 C:\\Users\\lworm\\Repos\\py-research\\src\\py_research\\db\\databases.py:2438(_sql_base_fks)\n",
      "       40    0.000    0.000    0.003    0.000 C:\\Users\\lworm\\Repos\\py-research\\src\\py_research\\db\\databases.py:2279(<genexpr>)\n",
      "       40    0.000    0.000    0.003    0.000 C:\\Users\\lworm\\Repos\\py-research\\src\\py_research\\db\\databases.py:2282(<genexpr>)\n",
      "       45    0.000    0.000    0.002    0.000 C:\\Users\\lworm\\Repos\\py-research\\src\\py_research\\db\\databases.py:4503(_non_fk_values)\n",
      "       10    0.000    0.000    0.002    0.000 C:\\Users\\lworm\\Repos\\py-research\\src\\py_research\\db\\databases.py:4917(__post_init__)\n",
      "       33    0.000    0.000    0.002    0.000 C:\\Users\\lworm\\Repos\\py-research\\src\\py_research\\db\\databases.py:4795(_to_dict)\n",
      "      112    0.000    0.000    0.002    0.000 C:\\Users\\lworm\\Repos\\py-research\\src\\py_research\\db\\databases.py:4464(_pk_values)\n",
      "      170    0.000    0.000    0.002    0.000 C:\\Users\\lworm\\Repos\\py-research\\src\\py_research\\db\\databases.py:1990(_ctx_module)\n",
      "       10    0.000    0.000    0.002    0.000 C:\\Users\\lworm\\Repos\\py-research\\src\\py_research\\hashing.py:143(gen_str_hash)\n",
      "       72    0.000    0.000    0.002    0.000 C:\\Users\\lworm\\Repos\\py-research\\src\\py_research\\db\\databases.py:3307(<genexpr>)\n",
      "       76    0.000    0.000    0.002    0.000 C:\\Users\\lworm\\Repos\\py-research\\src\\py_research\\db\\databases.py:593(ctx)\n",
      "        9    0.000    0.000    0.002    0.000 C:\\Users\\lworm\\Repos\\py-research\\src\\py_research\\db\\datasources.py:407(_parse_pushmap)\n",
      "  199/166    0.000    0.000    0.001    0.000 C:\\Users\\lworm\\Repos\\py-research\\src\\py_research\\db\\databases.py:1895(__set__)\n",
      "      165    0.000    0.000    0.001    0.000 C:\\Users\\lworm\\Repos\\py-research\\src\\py_research\\db\\databases.py:4486(_fk_values)\n",
      "        2    0.000    0.000    0.001    0.001 C:\\Users\\lworm\\Repos\\py-research\\src\\py_research\\db\\databases.py:3597(relation_type)\n",
      "      100    0.000    0.000    0.001    0.000 C:\\Users\\lworm\\Repos\\py-research\\src\\py_research\\db\\databases.py:4515(_arrays)\n",
      "       55    0.000    0.000    0.001    0.000 C:\\Users\\lworm\\Repos\\py-research\\src\\py_research\\db\\databases.py:4499(_col_values)\n",
      "      221    0.001    0.000    0.001    0.000 C:\\Users\\lworm\\Repos\\py-research\\src\\py_research\\db\\databases.py:4639(_default_table_name)\n",
      "      169    0.000    0.000    0.001    0.000 C:\\Users\\lworm\\Repos\\py-research\\src\\py_research\\db\\databases.py:3475(name)\n",
      "       65    0.000    0.000    0.001    0.000 C:\\Users\\lworm\\Repos\\py-research\\src\\py_research\\db\\datasources.py:481(_sliding_batch_map)\n",
      "      158    0.000    0.000    0.001    0.000 C:\\Users\\lworm\\Repos\\py-research\\src\\py_research\\db\\databases.py:4657(_get_table_name)\n",
      "1785/1783    0.000    0.000    0.001    0.000 C:\\Users\\lworm\\Repos\\py-research\\src\\py_research\\db\\databases.py:4333(_get_class_props)\n",
      "       21    0.000    0.000    0.001    0.000 C:\\Users\\lworm\\Repos\\py-research\\src\\py_research\\db\\databases.py:4081(__getitem__)\n",
      "      147    0.000    0.000    0.001    0.000 C:\\Users\\lworm\\Repos\\py-research\\src\\py_research\\db\\databases.py:3470(__post_init__)\n",
      "        2    0.000    0.000    0.001    0.000 C:\\Users\\lworm\\Repos\\py-research\\src\\py_research\\db\\databases.py:4881(dynamic_record_type)\n",
      "      236    0.000    0.000    0.001    0.000 C:\\Users\\lworm\\Repos\\py-research\\src\\py_research\\db\\databases.py:1977(_ctx_table)\n",
      "     3214    0.001    0.000    0.001    0.000 C:\\Users\\lworm\\Repos\\py-research\\src\\py_research\\data.py:82(<genexpr>)\n",
      "     3223    0.001    0.000    0.001    0.000 C:\\Users\\lworm\\Repos\\py-research\\src\\py_research\\data.py:56(<genexpr>)\n",
      "       19    0.000    0.000    0.001    0.000 C:\\Users\\lworm\\Repos\\py-research\\src\\py_research\\db\\databases.py:4907(<lambda>)\n",
      "      157    0.000    0.000    0.001    0.000 C:\\Users\\lworm\\Repos\\py-research\\src\\py_research\\db\\databases.py:1968(_ctx_type)\n",
      "        2    0.000    0.000    0.000    0.000 C:\\Users\\lworm\\Repos\\py-research\\src\\py_research\\db\\databases.py:4284(__init__)\n",
      "        2    0.000    0.000    0.000    0.000 C:\\Users\\lworm\\Repos\\py-research\\src\\py_research\\db\\databases.py:2629(_add_ctx)\n",
      "      167    0.000    0.000    0.000    0.000 C:\\Users\\lworm\\Repos\\py-research\\src\\py_research\\db\\databases.py:510(db)\n",
      "       10    0.000    0.000    0.000    0.000 C:\\Users\\lworm\\Repos\\py-research\\src\\py_research\\db\\databases.py:4473(_class_values)\n",
      "        2    0.000    0.000    0.000    0.000 C:\\Users\\lworm\\Repos\\py-research\\src\\py_research\\db\\databases.py:317(<lambda>)\n",
      "        7    0.000    0.000    0.000    0.000 C:\\Users\\lworm\\Repos\\py-research\\src\\py_research\\db\\datasources.py:401(__post_init__)\n",
      "        4    0.000    0.000    0.000    0.000 C:\\Users\\lworm\\Repos\\py-research\\src\\py_research\\db\\databases.py:2640(<lambda>)\n",
      "       33    0.000    0.000    0.000    0.000 C:\\Users\\lworm\\Repos\\py-research\\src\\py_research\\db\\databases.py:3083(<lambda>)\n",
      "      159    0.000    0.000    0.000    0.000 C:\\Users\\lworm\\Repos\\py-research\\src\\py_research\\db\\databases.py:4824(<genexpr>)\n",
      "        9    0.000    0.000    0.000    0.000 C:\\Users\\lworm\\Repos\\py-research\\src\\py_research\\db\\datasources.py:351(select)\n",
      "       62    0.000    0.000    0.000    0.000 C:\\Users\\lworm\\Repos\\py-research\\src\\py_research\\db\\databases.py:4831(<genexpr>)\n",
      "       33    0.000    0.000    0.000    0.000 C:\\Users\\lworm\\Repos\\py-research\\src\\py_research\\db\\databases.py:3085(<lambda>)\n",
      "       47    0.000    0.000    0.000    0.000 C:\\Users\\lworm\\Repos\\py-research\\src\\py_research\\db\\databases.py:2302(_abs_joins)\n",
      "      798    0.000    0.000    0.000    0.000 C:\\Users\\lworm\\Repos\\py-research\\src\\py_research\\db\\databases.py:4460(<genexpr>)\n",
      "       47    0.000    0.000    0.000    0.000 C:\\Users\\lworm\\Repos\\py-research\\src\\py_research\\db\\databases.py:2404(_sql_filters)\n",
      "        6    0.000    0.000    0.000    0.000 C:\\Users\\lworm\\Repos\\py-research\\src\\py_research\\db\\databases.py:3652(__post_init__)\n",
      "      152    0.000    0.000    0.000    0.000 C:\\Users\\lworm\\Repos\\py-research\\src\\py_research\\db\\databases.py:2600(_hint_to_type)\n",
      "     12/2    0.000    0.000    0.000    0.000 C:\\Users\\lworm\\Repos\\py-research\\src\\py_research\\db\\databases.py:4263(_get_typevar_map)\n",
      "      185    0.000    0.000    0.000    0.000 C:\\Users\\lworm\\Repos\\py-research\\src\\py_research\\db\\databases.py:532(name)\n",
      "        1    0.000    0.000    0.000    0.000 C:\\Users\\lworm\\Repos\\py-research\\src\\py_research\\db\\datasources.py:175(_PushMapping)\n",
      "        2    0.000    0.000    0.000    0.000 C:\\Users\\lworm\\Repos\\py-research\\src\\py_research\\db\\databases.py:4632(__init_subclass__)\n",
      "     16/6    0.000    0.000    0.000    0.000 C:\\Users\\lworm\\Repos\\py-research\\src\\py_research\\db\\databases.py:4280(<genexpr>)\n",
      "        5    0.000    0.000    0.000    0.000 C:\\Users\\lworm\\Repos\\py-research\\src\\py_research\\db\\databases.py:570(base_type)\n",
      "      104    0.000    0.000    0.000    0.000 C:\\Users\\lworm\\Repos\\py-research\\src\\py_research\\db\\datasources.py:266(record_type)\n",
      "       58    0.000    0.000    0.000    0.000 C:\\Users\\lworm\\Repos\\py-research\\src\\py_research\\db\\databases.py:4832(<genexpr>)\n",
      "       19    0.000    0.000    0.000    0.000 C:\\Users\\lworm\\Repos\\py-research\\src\\py_research\\db\\databases.py:4170(_get_valid_cache_set)\n",
      "        2    0.000    0.000    0.000    0.000 C:\\Users\\lworm\\Repos\\py-research\\src\\py_research\\db\\databases.py:3717(backend_type)\n",
      "      165    0.000    0.000    0.000    0.000 C:\\Users\\lworm\\Repos\\py-research\\src\\py_research\\db\\databases.py:4491(<genexpr>)\n",
      "        4    0.000    0.000    0.000    0.000 C:\\Users\\lworm\\Repos\\py-research\\src\\py_research\\db\\databases.py:3215(<genexpr>)\n",
      "        1    0.000    0.000    0.000    0.000 C:\\Users\\lworm\\Repos\\py-research\\src\\py_research\\db\\databases.py:3707(db_id)\n",
      "       27    0.000    0.000    0.000    0.000 C:\\Users\\lworm\\Repos\\py-research\\src\\py_research\\caching.py:347(cache_name)\n",
      "       79    0.000    0.000    0.000    0.000 C:\\Users\\lworm\\Repos\\py-research\\src\\py_research\\db\\datasources.py:357(<genexpr>)\n",
      "        6    0.000    0.000    0.000    0.000 C:\\Users\\lworm\\Repos\\py-research\\src\\py_research\\db\\databases.py:4136(_schema_map)\n",
      "        4    0.000    0.000    0.000    0.000 C:\\Users\\lworm\\Repos\\py-research\\src\\py_research\\db\\databases.py:3184(<genexpr>)\n",
      "        2    0.000    0.000    0.000    0.000 C:\\Users\\lworm\\Repos\\py-research\\src\\py_research\\db\\databases.py:3589(_key_type)\n",
      "        3    0.000    0.000    0.000    0.000 C:\\Users\\lworm\\Repos\\py-research\\src\\py_research\\db\\databases.py:3140(_mutate_rels_from_rec_ids)\n",
      "        2    0.000    0.000    0.000    0.000 C:\\Users\\lworm\\Repos\\py-research\\src\\py_research\\db\\databases.py:4893(<lambda>)\n",
      "       23    0.000    0.000    0.000    0.000 C:\\Users\\lworm\\Repos\\py-research\\src\\py_research\\db\\databases.py:4766(__post_init__)\n",
      "        8    0.000    0.000    0.000    0.000 C:\\Users\\lworm\\Repos\\py-research\\src\\py_research\\db\\databases.py:4325(_super_types)\n",
      "        4    0.000    0.000    0.000    0.000 C:\\Users\\lworm\\Repos\\py-research\\src\\py_research\\db\\datasources.py:422(_get_selector_name)\n",
      "        4    0.000    0.000    0.000    0.000 C:\\Users\\lworm\\Repos\\py-research\\src\\py_research\\db\\databases.py:4279(<lambda>)\n",
      "        1    0.000    0.000    0.000    0.000 C:\\Users\\lworm\\Repos\\py-research\\src\\py_research\\db\\datasources.py:187(parse)\n",
      "        2    0.000    0.000    0.000    0.000 C:\\Users\\lworm\\Repos\\py-research\\src\\py_research\\db\\databases.py:1739(__setitem__)\n",
      "        1    0.000    0.000    0.000    0.000 C:\\Users\\lworm\\Repos\\py-research\\src\\py_research\\db\\databases.py:4096(__setitem__)\n",
      "        1    0.000    0.000    0.000    0.000 C:\\Users\\lworm\\Repos\\py-research\\src\\py_research\\db\\datasources.py:865(<genexpr>)\n",
      "\n",
      "\n"
     ]
    },
    {
     "data": {
      "text/html": [
       "<pre style=\"white-space:pre;overflow-x:auto;line-height:normal;font-family:Menlo,'DejaVu Sans Mono',consolas,'Courier New',monospace\"></pre>\n"
      ],
      "text/plain": []
     },
     "metadata": {},
     "output_type": "display_data"
    },
    {
     "data": {
      "text/plain": [
       "\u001b[1m<\u001b[0m\u001b[1;95mpstats.Stats\u001b[0m\u001b[39m object at \u001b[0m\u001b[1;36m0x00000173FEB57CE0\u001b[0m\u001b[1m>\u001b[0m"
      ]
     },
     "execution_count": 20,
     "metadata": {},
     "output_type": "execute_result"
    }
   ],
   "source": [
    "stats.sort_stats(\"cumulative\")\n",
    "stats.print_stats(\"py_research\")"
   ]
  }
 ],
 "metadata": {
  "kernelspec": {
   "display_name": ".venv",
   "language": "python",
   "name": "python3"
  },
  "language_info": {
   "codemirror_mode": {
    "name": "ipython",
    "version": 3
   },
   "file_extension": ".py",
   "mimetype": "text/x-python",
   "name": "python",
   "nbconvert_exporter": "python",
   "pygments_lexer": "ipython3",
   "version": "3.12.4"
  }
 },
 "nbformat": 4,
 "nbformat_minor": 2
}

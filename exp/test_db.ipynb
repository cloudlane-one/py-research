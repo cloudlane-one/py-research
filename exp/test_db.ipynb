{
 "cells": [
  {
   "cell_type": "code",
   "execution_count": 1,
   "metadata": {},
   "outputs": [],
   "source": [
    "from __future__ import annotations\n",
    "\n",
    "import json\n",
    "import cProfile\n",
    "import pstats"
   ]
  },
  {
   "cell_type": "code",
   "execution_count": 2,
   "metadata": {},
   "outputs": [],
   "source": [
    "from py_research.db import (\n",
    "    DataSource,\n",
    "    RecMap,\n",
    "    RelMap,\n",
    "    SubMap,\n",
    "    SelIndex\n",
    ")"
   ]
  },
  {
   "cell_type": "code",
   "execution_count": 3,
   "metadata": {},
   "outputs": [],
   "source": [
    "from test_db_schema import Search, Project, Task, User, Membership, Organization"
   ]
  },
  {
   "cell_type": "code",
   "execution_count": 4,
   "metadata": {},
   "outputs": [],
   "source": [
    "data_source = DataSource(\n",
    "    rec=Search,\n",
    "    use_cache=False,\n",
    "    push={\n",
    "        \"resultCount\": Search.result_count,\n",
    "        \"search\": Search.term,\n",
    "        \"results\": RelMap(\n",
    "            rel=Search.results,\n",
    "            push={\n",
    "                \"project_name\": Project.name,\n",
    "                \"project_start\": Project.start,\n",
    "                \"project_end\": Project.end,\n",
    "                \"project_status\": Project.status,\n",
    "                \"tasks\": RelMap(\n",
    "                    rel=Project.tasks,\n",
    "                    push={\n",
    "                        \"task_name\": Task.name,\n",
    "                        \"task_assignees\": RelMap(\n",
    "                            rel=Task.assignees,\n",
    "                            push=User.name,\n",
    "                            match=User.name,\n",
    "                        ),\n",
    "                        \"task_status\": Task.status,\n",
    "                    },\n",
    "                ),\n",
    "                \"members\": RelMap(\n",
    "                    rel=Project.members,\n",
    "                    push={User.name, User.age},\n",
    "                    link=RecMap(\n",
    "                        push={\n",
    "                            Membership.role,\n",
    "                        },\n",
    "                    ),\n",
    "                ),\n",
    "            },\n",
    "            pull={\n",
    "                Project.org: SubMap(\n",
    "                    push={\n",
    "                        \"organization_name\": Organization.name,\n",
    "                        \"organization_address\": Organization.address,\n",
    "                        \"organization_city\": Organization.city,\n",
    "                    },\n",
    "                ),\n",
    "                Project.number: SelIndex()\n",
    "            },\n",
    "        ),\n",
    "    },\n",
    ")"
   ]
  },
  {
   "cell_type": "code",
   "execution_count": 5,
   "metadata": {},
   "outputs": [],
   "source": [
    "with open(\"./nested_data.json\") as f:\n",
    "    data = json.load(f)"
   ]
  },
  {
   "cell_type": "code",
   "execution_count": 9,
   "metadata": {},
   "outputs": [],
   "source": [
    "with cProfile.Profile() as pr:\n",
    "  rec = data_source.load(data)\n",
    "  db = data_source.cache\n",
    "  \n",
    "  stats = pstats.Stats(pr)"
   ]
  },
  {
   "cell_type": "code",
   "execution_count": 10,
   "metadata": {},
   "outputs": [
    {
     "data": {
      "text/html": [
       "<pre style=\"white-space:pre;overflow-x:auto;line-height:normal;font-family:Menlo,'DejaVu Sans Mono',consolas,'Courier New',monospace\"></pre>\n"
      ],
      "text/plain": []
     },
     "metadata": {},
     "output_type": "display_data"
    },
    {
     "data": {
      "text/plain": [
       "\u001b[1m{\u001b[0m\u001b[32m'term'\u001b[0m: \u001b[32m'test'\u001b[0m, \u001b[32m'result_count'\u001b[0m: \u001b[1;36m3\u001b[0m, \u001b[32m'results'\u001b[0m: \u001b[1m[\u001b[0m\u001b[1m{\u001b[0m\u001b[32m'number'\u001b[0m: \u001b[1;36m0\u001b[0m, \u001b[32m'name'\u001b[0m: \u001b[32m'baking cake'\u001b[0m, \u001b[32m'start'\u001b[0m: \u001b[32m'2020-01-01'\u001b[0m, \u001b[32m'end'\u001b[0m: \u001b[32m'2020-01-04'\u001b[0m, \u001b[32m'status'\u001b[0m: \u001b[32m'done'\u001b[0m, \u001b[32m'org'\u001b[0m: \u001b[1m{\u001b[0m\u001b[32m'name'\u001b[0m: \u001b[32m'Bakery'\u001b[0m, \u001b[32m'address'\u001b[0m: \u001b[32m'Main Street 1'\u001b[0m, \u001b[32m'city'\u001b[0m: \u001b[32m'Bakerville'\u001b[0m, \u001b[32m'projects'\u001b[0m: \u001b[1m<\u001b[0m\u001b[1;95mLoadStatus.unloaded:\u001b[0m\u001b[39m \u001b[0m\u001b[1;36m1\u001b[0m\u001b[39m>, \u001b[0m\u001b[32m'_id'\u001b[0m\u001b[39m: \u001b[0m\u001b[1;35mUUID\u001b[0m\u001b[1;39m(\u001b[0m\u001b[32m'279d4651-5424-4139-9c14-cc67b9cc50d5'\u001b[0m\u001b[1;39m)\u001b[0m\u001b[1;39m}\u001b[0m\u001b[39m, \u001b[0m\u001b[32m'tasks'\u001b[0m\u001b[39m: \u001b[0m\u001b[1;39m[\u001b[0m\u001b[1;39m{\u001b[0m\u001b[32m'name'\u001b[0m\u001b[39m: <LoadStatus.unloaded: \u001b[0m\u001b[1;36m1\u001b[0m\u001b[39m>, \u001b[0m\u001b[32m'project'\u001b[0m\u001b[39m: <LoadStatus.unloaded: \u001b[0m\u001b[1;36m1\u001b[0m\u001b[39m>, \u001b[0m\u001b[32m'assignees'\u001b[0m\u001b[39m: \u001b[0m\u001b[1;39m[\u001b[0m\u001b[1;39m{\u001b[0m\u001b[32m'name'\u001b[0m\u001b[39m: \u001b[0m\u001b[32m'John'\u001b[0m\u001b[39m, \u001b[0m\u001b[32m'age'\u001b[0m\u001b[39m: <LoadStatus.unloaded: \u001b[0m\u001b[1;36m1\u001b[0m\u001b[39m>, \u001b[0m\u001b[32m'tasks'\u001b[0m\u001b[39m: <LoadStatus.unloaded: \u001b[0m\u001b[1;36m1\u001b[0m\u001b[39m>, \u001b[0m\u001b[32m'_id'\u001b[0m\u001b[39m: \u001b[0m\u001b[1;35mUUID\u001b[0m\u001b[1;39m(\u001b[0m\u001b[32m'9b2a36bd-99af-45ed-9cb2-39792c4e1751'\u001b[0m\u001b[1;39m)\u001b[0m\u001b[1;39m}\u001b[0m\u001b[1;39m]\u001b[0m\u001b[39m, \u001b[0m\u001b[32m'status'\u001b[0m\u001b[39m: \u001b[0m\u001b[32m'todo'\u001b[0m\u001b[39m, \u001b[0m\u001b[32m'_id'\u001b[0m\u001b[39m: \u001b[0m\u001b[1;35mUUID\u001b[0m\u001b[1;39m(\u001b[0m\u001b[32m'1b37a53f-0d90-4246-95d0-bb3969f743ab'\u001b[0m\u001b[1;39m)\u001b[0m\u001b[1;39m}\u001b[0m\u001b[39m, \u001b[0m\u001b[1;39m{\u001b[0m\u001b[32m'name'\u001b[0m\u001b[39m: \u001b[0m\u001b[32m'task2'\u001b[0m\u001b[39m, \u001b[0m\u001b[32m'project'\u001b[0m\u001b[39m: <LoadStatus.unloaded: \u001b[0m\u001b[1;36m1\u001b[0m\u001b[39m>, \u001b[0m\u001b[32m'assignees'\u001b[0m\u001b[39m: \u001b[0m\u001b[1;39m[\u001b[0m\u001b[1;39m{\u001b[0m\u001b[32m'name'\u001b[0m\u001b[39m: \u001b[0m\u001b[32m'John'\u001b[0m\u001b[39m, \u001b[0m\u001b[32m'age'\u001b[0m\u001b[39m: <LoadStatus.unloaded: \u001b[0m\u001b[1;36m1\u001b[0m\u001b[39m>, \u001b[0m\u001b[32m'tasks'\u001b[0m\u001b[39m: <LoadStatus.unloaded: \u001b[0m\u001b[1;36m1\u001b[0m\u001b[39m>, \u001b[0m\u001b[32m'_id'\u001b[0m\u001b[39m: \u001b[0m\u001b[1;35mUUID\u001b[0m\u001b[1;39m(\u001b[0m\u001b[32m'c7c4e663-bcdc-433e-9c9f-765b694b22c5'\u001b[0m\u001b[1;39m)\u001b[0m\u001b[1;39m}\u001b[0m\u001b[1;39m]\u001b[0m\u001b[39m, \u001b[0m\u001b[32m'status'\u001b[0m\u001b[39m: \u001b[0m\u001b[32m'todo'\u001b[0m\u001b[39m, \u001b[0m\u001b[32m'_id'\u001b[0m\u001b[39m: \u001b[0m\u001b[1;35mUUID\u001b[0m\u001b[1;39m(\u001b[0m\u001b[32m'f9a6b04a-0c48-4326-9879-c0cb4c521116'\u001b[0m\u001b[1;39m)\u001b[0m\u001b[1;39m}\u001b[0m\u001b[39m, \u001b[0m\u001b[1;39m{\u001b[0m\u001b[32m'name'\u001b[0m\u001b[39m: \u001b[0m\u001b[32m'task3'\u001b[0m\u001b[39m, \u001b[0m\u001b[32m'project'\u001b[0m\u001b[39m: <LoadStatus.unloaded: \u001b[0m\u001b[1;36m1\u001b[0m\u001b[39m>, \u001b[0m\u001b[32m'assignees'\u001b[0m\u001b[39m: \u001b[0m\u001b[1;39m[\u001b[0m\u001b[1;39m{\u001b[0m\u001b[32m'name'\u001b[0m\u001b[39m: \u001b[0m\u001b[32m'Jane'\u001b[0m\u001b[39m, \u001b[0m\u001b[32m'age'\u001b[0m\u001b[39m: <LoadStatus.unloaded: \u001b[0m\u001b[1;36m1\u001b[0m\u001b[39m>, \u001b[0m\u001b[32m'tasks'\u001b[0m\u001b[39m: <LoadStatus.unloaded: \u001b[0m\u001b[1;36m1\u001b[0m\u001b[39m>, \u001b[0m\u001b[32m'_id'\u001b[0m\u001b[39m: \u001b[0m\u001b[1;35mUUID\u001b[0m\u001b[1;39m(\u001b[0m\u001b[32m'2620996b-8aeb-4660-83bd-14b58768c508'\u001b[0m\u001b[1;39m)\u001b[0m\u001b[1;39m}\u001b[0m\u001b[1;39m]\u001b[0m\u001b[39m, \u001b[0m\u001b[32m'status'\u001b[0m\u001b[39m: \u001b[0m\u001b[32m'done'\u001b[0m\u001b[39m, \u001b[0m\u001b[32m'_id'\u001b[0m\u001b[39m: \u001b[0m\u001b[1;35mUUID\u001b[0m\u001b[1;39m(\u001b[0m\u001b[32m'689a6ff4-55be-4295-bdbe-1dc1e7b4df62'\u001b[0m\u001b[1;39m)\u001b[0m\u001b[1;39m}\u001b[0m\u001b[1;39m]\u001b[0m\u001b[39m, \u001b[0m\u001b[32m'members'\u001b[0m\u001b[39m: \u001b[0m\u001b[1;39m[\u001b[0m\u001b[1;39m{\u001b[0m\u001b[32m'name'\u001b[0m\u001b[39m: \u001b[0m\u001b[32m'John'\u001b[0m\u001b[39m, \u001b[0m\u001b[32m'age'\u001b[0m\u001b[39m: \u001b[0m\u001b[1;36m20\u001b[0m\u001b[39m, \u001b[0m\u001b[32m'tasks'\u001b[0m\u001b[39m: <LoadStatus.unloaded: \u001b[0m\u001b[1;36m1\u001b[0m\u001b[39m>, \u001b[0m\u001b[32m'_id'\u001b[0m\u001b[39m: \u001b[0m\u001b[1;35mUUID\u001b[0m\u001b[1;39m(\u001b[0m\u001b[32m'b622e262-f84b-4e0d-b7d6-b459ad940b0f'\u001b[0m\u001b[1;39m)\u001b[0m\u001b[1;39m}\u001b[0m\u001b[39m, \u001b[0m\u001b[1;39m{\u001b[0m\u001b[32m'name'\u001b[0m\u001b[39m: \u001b[0m\u001b[32m'John'\u001b[0m\u001b[39m, \u001b[0m\u001b[32m'age'\u001b[0m\u001b[39m: \u001b[0m\u001b[1;36m20\u001b[0m\u001b[39m, \u001b[0m\u001b[32m'tasks'\u001b[0m\u001b[39m: <LoadStatus.unloaded: \u001b[0m\u001b[1;36m1\u001b[0m\u001b[39m>, \u001b[0m\u001b[32m'_id'\u001b[0m\u001b[39m: \u001b[0m\u001b[1;35mUUID\u001b[0m\u001b[1;39m(\u001b[0m\u001b[32m'c0e9c468-85b5-447b-8fc4-33e146ff5c8f'\u001b[0m\u001b[1;39m)\u001b[0m\u001b[1;39m}\u001b[0m\u001b[1;39m]\u001b[0m\u001b[1;39m}\u001b[0m\u001b[39m, \u001b[0m\u001b[1;39m{\u001b[0m\u001b[32m'number'\u001b[0m\u001b[39m: \u001b[0m\u001b[1;36m1\u001b[0m\u001b[39m, \u001b[0m\u001b[32m'name'\u001b[0m\u001b[39m: \u001b[0m\u001b[32m'cleaning shoes'\u001b[0m\u001b[39m, \u001b[0m\u001b[32m'start'\u001b[0m\u001b[39m: \u001b[0m\u001b[32m'2020-01-02'\u001b[0m\u001b[39m, \u001b[0m\u001b[32m'end'\u001b[0m\u001b[39m: \u001b[0m\u001b[32m'2020-01-05'\u001b[0m\u001b[39m, \u001b[0m\u001b[32m'status'\u001b[0m\u001b[39m: \u001b[0m\u001b[32m'done'\u001b[0m\u001b[39m, \u001b[0m\u001b[32m'org'\u001b[0m\u001b[39m: \u001b[0m\u001b[1;39m{\u001b[0m\u001b[32m'name'\u001b[0m\u001b[39m: \u001b[0m\u001b[32m'Shoe Shop'\u001b[0m\u001b[39m, \u001b[0m\u001b[32m'address'\u001b[0m\u001b[39m: \u001b[0m\u001b[32m'Main Street 2'\u001b[0m\u001b[39m, \u001b[0m\u001b[32m'city'\u001b[0m\u001b[39m: \u001b[0m\u001b[32m'Shoetown'\u001b[0m\u001b[39m, \u001b[0m\u001b[32m'projects'\u001b[0m\u001b[39m: <LoadStatus.unloaded: \u001b[0m\u001b[1;36m1\u001b[0m\u001b[39m>, \u001b[0m\u001b[32m'_id'\u001b[0m\u001b[39m: \u001b[0m\u001b[1;35mUUID\u001b[0m\u001b[1;39m(\u001b[0m\u001b[32m'c727c3d6-efb2-4181-b1b2-023267283f4e'\u001b[0m\u001b[1;39m)\u001b[0m\u001b[1;39m}\u001b[0m\u001b[39m, \u001b[0m\u001b[32m'tasks'\u001b[0m\u001b[39m: \u001b[0m\u001b[1;39m[\u001b[0m\u001b[1;39m{\u001b[0m\u001b[32m'name'\u001b[0m\u001b[39m: \u001b[0m\u001b[32m'task4'\u001b[0m\u001b[39m, \u001b[0m\u001b[32m'project'\u001b[0m\u001b[39m: <LoadStatus.unloaded: \u001b[0m\u001b[1;36m1\u001b[0m\u001b[39m>, \u001b[0m\u001b[32m'assignees'\u001b[0m\u001b[39m: \u001b[0m\u001b[1;39m[\u001b[0m\u001b[1;39m{\u001b[0m\u001b[32m'name'\u001b[0m\u001b[39m: \u001b[0m\u001b[32m'John'\u001b[0m\u001b[39m, \u001b[0m\u001b[32m'age'\u001b[0m\u001b[39m: <LoadStatus.unloaded: \u001b[0m\u001b[1;36m1\u001b[0m\u001b[39m>, \u001b[0m\u001b[32m'tasks'\u001b[0m\u001b[39m: <LoadStatus.unloaded: \u001b[0m\u001b[1;36m1\u001b[0m\u001b[39m>, \u001b[0m\u001b[32m'_id'\u001b[0m\u001b[39m: \u001b[0m\u001b[1;35mUUID\u001b[0m\u001b[1;39m(\u001b[0m\u001b[32m'8a4353b9-7c10-44e2-82b1-1f46ea1bf37b'\u001b[0m\u001b[1;39m)\u001b[0m\u001b[1;39m}\u001b[0m\u001b[1;39m]\u001b[0m\u001b[39m, \u001b[0m\u001b[32m'status'\u001b[0m\u001b[39m: \u001b[0m\u001b[32m'todo'\u001b[0m\u001b[39m, \u001b[0m\u001b[32m'_id'\u001b[0m\u001b[39m: \u001b[0m\u001b[1;35mUUID\u001b[0m\u001b[1;39m(\u001b[0m\u001b[32m'4444fe3c-3ff1-4aac-a9f6-c978c087fb18'\u001b[0m\u001b[1;39m)\u001b[0m\u001b[1;39m}\u001b[0m\u001b[39m, \u001b[0m\u001b[1;39m{\u001b[0m\u001b[32m'name'\u001b[0m\u001b[39m: \u001b[0m\u001b[32m'task5'\u001b[0m\u001b[39m, \u001b[0m\u001b[32m'project'\u001b[0m\u001b[39m: <LoadStatus.unloaded: \u001b[0m\u001b[1;36m1\u001b[0m\u001b[39m>, \u001b[0m\u001b[32m'assignees'\u001b[0m\u001b[39m: \u001b[0m\u001b[1;39m[\u001b[0m\u001b[1;39m{\u001b[0m\u001b[32m'name'\u001b[0m\u001b[39m: \u001b[0m\u001b[32m'Jane'\u001b[0m\u001b[39m, \u001b[0m\u001b[32m'age'\u001b[0m\u001b[39m: <LoadStatus.unloaded: \u001b[0m\u001b[1;36m1\u001b[0m\u001b[39m>, \u001b[0m\u001b[32m'tasks'\u001b[0m\u001b[39m: <LoadStatus.unloaded: \u001b[0m\u001b[1;36m1\u001b[0m\u001b[39m>, \u001b[0m\u001b[32m'_id'\u001b[0m\u001b[39m: \u001b[0m\u001b[1;35mUUID\u001b[0m\u001b[1;39m(\u001b[0m\u001b[32m'5481cbf4-48b3-4fc2-9d2e-b782183189a1'\u001b[0m\u001b[1;39m)\u001b[0m\u001b[1;39m}\u001b[0m\u001b[1;39m]\u001b[0m\u001b[39m, \u001b[0m\u001b[32m'status'\u001b[0m\u001b[39m: \u001b[0m\u001b[32m'todo'\u001b[0m\u001b[39m, \u001b[0m\u001b[32m'_id'\u001b[0m\u001b[39m: \u001b[0m\u001b[1;35mUUID\u001b[0m\u001b[1;39m(\u001b[0m\u001b[32m'4cbb2c49-7ee9-44e2-bc7a-ad4c52a4315c'\u001b[0m\u001b[1;39m)\u001b[0m\u001b[1;39m}\u001b[0m\u001b[1;39m]\u001b[0m\u001b[39m, \u001b[0m\u001b[32m'members'\u001b[0m\u001b[39m: \u001b[0m\u001b[1;39m[\u001b[0m\u001b[1;39m{\u001b[0m\u001b[32m'name'\u001b[0m\u001b[39m: \u001b[0m\u001b[32m'John'\u001b[0m\u001b[39m, \u001b[0m\u001b[32m'age'\u001b[0m\u001b[39m: \u001b[0m\u001b[1;36m20\u001b[0m\u001b[39m, \u001b[0m\u001b[32m'tasks'\u001b[0m\u001b[39m: <LoadStatus.unloaded: \u001b[0m\u001b[1;36m1\u001b[0m\u001b[39m>, \u001b[0m\u001b[32m'_id'\u001b[0m\u001b[39m: \u001b[0m\u001b[1;35mUUID\u001b[0m\u001b[1;39m(\u001b[0m\u001b[32m'e130fe96-fcc1-42e3-a945-6cd6f74aabe9'\u001b[0m\u001b[1;39m)\u001b[0m\u001b[1;39m}\u001b[0m\u001b[39m, \u001b[0m\u001b[1;39m{\u001b[0m\u001b[32m'name'\u001b[0m\u001b[39m: \u001b[0m\u001b[32m'Jane'\u001b[0m\u001b[39m, \u001b[0m\u001b[32m'age'\u001b[0m\u001b[39m: \u001b[0m\u001b[1;36m30\u001b[0m\u001b[39m, \u001b[0m\u001b[32m'tasks'\u001b[0m\u001b[39m: <LoadStatus.unloaded: \u001b[0m\u001b[1;36m1\u001b[0m\u001b[39m>, \u001b[0m\u001b[32m'_id'\u001b[0m\u001b[39m: \u001b[0m\u001b[1;35mUUID\u001b[0m\u001b[1;39m(\u001b[0m\u001b[32m'50e5e248-1975-4c86-894c-505463860ea4'\u001b[0m\u001b[1;39m)\u001b[0m\u001b[1;39m}\u001b[0m\u001b[1;39m]\u001b[0m\u001b[1;39m}\u001b[0m\u001b[39m, \u001b[0m\u001b[1;39m{\u001b[0m\u001b[32m'number'\u001b[0m\u001b[39m: \u001b[0m\u001b[1;36m2\u001b[0m\u001b[39m, \u001b[0m\u001b[32m'name'\u001b[0m\u001b[39m: \u001b[0m\u001b[32m'fixing cars'\u001b[0m\u001b[39m, \u001b[0m\u001b[32m'start'\u001b[0m\u001b[39m: \u001b[0m\u001b[32m'2020-01-03'\u001b[0m\u001b[39m, \u001b[0m\u001b[32m'end'\u001b[0m\u001b[39m: \u001b[0m\u001b[32m'2020-01-06'\u001b[0m\u001b[39m, \u001b[0m\u001b[32m'status'\u001b[0m\u001b[39m: \u001b[0m\u001b[32m'started'\u001b[0m\u001b[39m, \u001b[0m\u001b[32m'org'\u001b[0m\u001b[39m: \u001b[0m\u001b[1;39m{\u001b[0m\u001b[32m'name'\u001b[0m\u001b[39m: \u001b[0m\u001b[32m'Car Shop'\u001b[0m\u001b[39m, \u001b[0m\u001b[32m'address'\u001b[0m\u001b[39m: \u001b[0m\u001b[32m'Main Street 3'\u001b[0m\u001b[39m, \u001b[0m\u001b[32m'city'\u001b[0m\u001b[39m: \u001b[0m\u001b[32m'Cartown'\u001b[0m\u001b[39m, \u001b[0m\u001b[32m'projects'\u001b[0m\u001b[39m: <LoadStatus.unloaded: \u001b[0m\u001b[1;36m1\u001b[0m\u001b[39m>, \u001b[0m\u001b[32m'_id'\u001b[0m\u001b[39m: \u001b[0m\u001b[1;35mUUID\u001b[0m\u001b[1;39m(\u001b[0m\u001b[32m'1a54570b-5660-44fa-a076-14518dfcf54a'\u001b[0m\u001b[1;39m)\u001b[0m\u001b[1;39m}\u001b[0m\u001b[39m, \u001b[0m\u001b[32m'tasks'\u001b[0m\u001b[39m: \u001b[0m\u001b[1;39m[\u001b[0m\u001b[1;39m{\u001b[0m\u001b[32m'name'\u001b[0m\u001b[39m: \u001b[0m\u001b[32m'task6'\u001b[0m\u001b[39m, \u001b[0m\u001b[32m'project'\u001b[0m\u001b[39m: <LoadStatus.unloaded: \u001b[0m\u001b[1;36m1\u001b[0m\u001b[39m>, \u001b[0m\u001b[32m'assignees'\u001b[0m\u001b[39m: \u001b[0m\u001b[1;39m[\u001b[0m\u001b[1;39m{\u001b[0m\u001b[32m'name'\u001b[0m\u001b[39m: \u001b[0m\u001b[32m'John'\u001b[0m\u001b[39m, \u001b[0m\u001b[32m'age'\u001b[0m\u001b[39m: <LoadStatus.unloaded: \u001b[0m\u001b[1;36m1\u001b[0m\u001b[39m>, \u001b[0m\u001b[32m'tasks'\u001b[0m\u001b[39m: <LoadStatus.unloaded: \u001b[0m\u001b[1;36m1\u001b[0m\u001b[39m>, \u001b[0m\u001b[32m'_id'\u001b[0m\u001b[39m: \u001b[0m\u001b[1;35mUUID\u001b[0m\u001b[1;39m(\u001b[0m\u001b[32m'7b07ecaa-5dea-48be-b3ef-2da3b3d63d12'\u001b[0m\u001b[1;39m)\u001b[0m\u001b[1;39m}\u001b[0m\u001b[1;39m]\u001b[0m\u001b[39m, \u001b[0m\u001b[32m'status'\u001b[0m\u001b[39m: \u001b[0m\u001b[32m'todo'\u001b[0m\u001b[39m, \u001b[0m\u001b[32m'_id'\u001b[0m\u001b[39m: \u001b[0m\u001b[1;35mUUID\u001b[0m\u001b[1;39m(\u001b[0m\u001b[32m'3c175cf3-b0e4-4e3d-b100-a75a1d8b0dad'\u001b[0m\u001b[1;39m)\u001b[0m\u001b[1;39m}\u001b[0m\u001b[1;39m]\u001b[0m\u001b[39m, \u001b[0m\u001b[32m'members'\u001b[0m\u001b[39m: \u001b[0m\u001b[1;39m[\u001b[0m\u001b[1;39m{\u001b[0m\u001b[32m'name'\u001b[0m\u001b[39m: \u001b[0m\u001b[32m'John'\u001b[0m\u001b[39m, \u001b[0m\u001b[32m'age'\u001b[0m\u001b[39m: \u001b[0m\u001b[1;36m20\u001b[0m\u001b[39m, \u001b[0m\u001b[32m'tasks'\u001b[0m\u001b[39m: <LoadStatus.unloaded: \u001b[0m\u001b[1;36m1\u001b[0m\u001b[39m>, \u001b[0m\u001b[32m'_id'\u001b[0m\u001b[39m: \u001b[0m\u001b[1;35mUUID\u001b[0m\u001b[1;39m(\u001b[0m\u001b[32m'eec1f5eb-fc56-46ed-8a43-564eb4a46295'\u001b[0m\u001b[1;39m)\u001b[0m\u001b[1;39m}\u001b[0m\u001b[39m, \u001b[0m\u001b[1;39m{\u001b[0m\u001b[32m'name'\u001b[0m\u001b[39m: \u001b[0m\u001b[32m'Jane'\u001b[0m\u001b[39m, \u001b[0m\u001b[32m'age'\u001b[0m\u001b[39m: \u001b[0m\u001b[1;36m30\u001b[0m\u001b[39m, \u001b[0m\u001b[32m'tasks'\u001b[0m\u001b[39m: <LoadStatus.unloaded: \u001b[0m\u001b[1;36m1\u001b[0m\u001b[39m>, \u001b[0m\u001b[32m'_id'\u001b[0m\u001b[39m: \u001b[0m\u001b[1;35mUUID\u001b[0m\u001b[1;39m(\u001b[0m\u001b[32m'ce047db0-ff65-4a38-9758-0ce2cceb722c'\u001b[0m\u001b[1;39m)\u001b[0m\u001b[1;39m}\u001b[0m\u001b[39m, \u001b[0m\u001b[1;39m{\u001b[0m\u001b[32m'name'\u001b[0m\u001b[39m: \u001b[0m\u001b[32m'Jack'\u001b[0m\u001b[39m, \u001b[0m\u001b[32m'age'\u001b[0m\u001b[39m: \u001b[0m\u001b[1;36m40\u001b[0m\u001b[39m, \u001b[0m\u001b[32m'tasks'\u001b[0m\u001b[39m: <LoadStatus.unloaded: \u001b[0m\u001b[1;36m1\u001b[0m\u001b[1m>\u001b[0m, \u001b[32m'_id'\u001b[0m: \u001b[1;35mUUID\u001b[0m\u001b[1m(\u001b[0m\u001b[32m'a2d4d8d0-7c25-4f66-ad25-f890800b79dd'\u001b[0m\u001b[1m)\u001b[0m\u001b[1m}\u001b[0m\u001b[1m]\u001b[0m\u001b[1m}\u001b[0m\u001b[1m]\u001b[0m\u001b[1m}\u001b[0m"
      ]
     },
     "execution_count": 10,
     "metadata": {},
     "output_type": "execute_result"
    }
   ],
   "source": [
    "rec"
   ]
  },
  {
   "cell_type": "code",
   "execution_count": 11,
   "metadata": {},
   "outputs": [
    {
     "name": "stdout",
     "output_type": "stream",
     "text": [
      "         455454 function calls (377858 primitive calls) in 0.356 seconds\n",
      "\n",
      "   Ordered by: cumulative time\n",
      "   List reduced from 190 to 47 due to restriction <'py_research'>\n",
      "\n",
      "   ncalls  tottime  percall  cumtime  percall filename:lineno(function)\n",
      "      386    0.000    0.000    0.356    0.001 C:\\Users\\lworm\\Repos\\py-research\\src\\py_research\\db\\base.py:1869(__hash__)\n",
      "     26/1    0.001    0.000    0.356    0.356 C:\\Users\\lworm\\Repos\\py-research\\src\\py_research\\db\\importing.py:370(_map_record)\n",
      "42978/386    0.088    0.000    0.338    0.001 C:\\Users\\lworm\\Repos\\py-research\\src\\py_research\\hashing.py:33(gen_int_hash)\n",
      "11952/4386    0.007    0.000    0.323    0.000 C:\\Users\\lworm\\Repos\\py-research\\src\\py_research\\hashing.py:63(<genexpr>)\n",
      "10571/4000    0.006    0.000    0.321    0.000 C:\\Users\\lworm\\Repos\\py-research\\src\\py_research\\hashing.py:27(_hash_sequence)\n",
      "20270/8000    0.031    0.000    0.314    0.000 C:\\Users\\lworm\\Repos\\py-research\\src\\py_research\\hashing.py:29(<lambda>)\n",
      "       26    0.000    0.000    0.204    0.008 C:\\Users\\lworm\\Repos\\py-research\\src\\py_research\\db\\base.py:1697(_from_partial_dict)\n",
      "    34009    0.073    0.000    0.136    0.000 C:\\Users\\lworm\\Repos\\py-research\\src\\py_research\\hashing.py:18(_stable_hash)\n",
      "       26    0.000    0.000    0.071    0.003 C:\\Users\\lworm\\Repos\\py-research\\src\\py_research\\db\\importing.py:203(full_map)\n",
      "       26    0.001    0.000    0.066    0.003 C:\\Users\\lworm\\Repos\\py-research\\src\\py_research\\db\\importing.py:314(_push_to_pull_map)\n",
      "       25    0.000    0.000    0.004    0.000 C:\\Users\\lworm\\Repos\\py-research\\src\\py_research\\db\\base.py:3853(link_type)\n",
      "       25    0.000    0.000    0.004    0.000 C:\\Users\\lworm\\Repos\\py-research\\src\\py_research\\db\\base.py:540(link_type)\n",
      "       25    0.000    0.000    0.003    0.000 C:\\Users\\lworm\\Repos\\py-research\\src\\py_research\\db\\base.py:470(_to_type)\n",
      "      311    0.000    0.000    0.003    0.000 C:\\Users\\lworm\\Repos\\py-research\\src\\py_research\\reflect\\types.py:40(has_type)\n",
      "        6    0.000    0.000    0.002    0.000 C:\\Users\\lworm\\Repos\\py-research\\src\\py_research\\db\\base.py:1249(__init__)\n",
      "       74    0.000    0.000    0.002    0.000 C:\\Users\\lworm\\Repos\\py-research\\src\\py_research\\db\\importing.py:163(select)\n",
      "       74    0.000    0.000    0.002    0.000 C:\\Users\\lworm\\Repos\\py-research\\src\\py_research\\db\\importing.py:71(select)\n",
      "       54    0.001    0.000    0.001    0.000 C:\\Users\\lworm\\Repos\\py-research\\src\\py_research\\db\\base.py:162(copy_and_override)\n",
      "       84    0.000    0.000    0.001    0.000 C:\\Users\\lworm\\Repos\\py-research\\src\\py_research\\db\\base.py:600(__get__)\n",
      "       74    0.000    0.000    0.001    0.000 C:\\Users\\lworm\\Repos\\py-research\\src\\py_research\\db\\importing.py:26(_select_on_level)\n",
      "       72    0.000    0.000    0.001    0.000 C:\\Users\\lworm\\Repos\\py-research\\src\\py_research\\db\\base.py:675(__get__)\n",
      "       52    0.000    0.000    0.001    0.000 C:\\Users\\lworm\\Repos\\py-research\\src\\py_research\\db\\base.py:1689(_index)\n",
      "      467    0.001    0.000    0.001    0.000 C:\\Users\\lworm\\Repos\\py-research\\src\\py_research\\reflect\\ref.py:213(to_url)\n",
      "       25    0.000    0.000    0.001    0.000 C:\\Users\\lworm\\Repos\\py-research\\src\\py_research\\reflect\\types.py:35(is_subtype)\n",
      "       22    0.001    0.000    0.001    0.000 C:\\Users\\lworm\\Repos\\py-research\\src\\py_research\\db\\base.py:1646(_to_dict)\n",
      "       26    0.000    0.000    0.000    0.000 C:\\Users\\lworm\\Repos\\py-research\\src\\py_research\\db\\base.py:1419(__init__)\n",
      "       26    0.000    0.000    0.000    0.000 C:\\Users\\lworm\\Repos\\py-research\\src\\py_research\\db\\importing.py:289(_parse_pushmap)\n",
      "       20    0.000    0.000    0.000    0.000 C:\\Users\\lworm\\Repos\\py-research\\src\\py_research\\db\\base.py:1714(_set)\n",
      "        6    0.000    0.000    0.000    0.000 C:\\Users\\lworm\\Repos\\py-research\\src\\py_research\\db\\base.py:1410(__init_subclass__)\n",
      "       32    0.000    0.000    0.000    0.000 C:\\Users\\lworm\\Repos\\py-research\\src\\py_research\\db\\base.py:1728(__post_init__)\n",
      "       52    0.000    0.000    0.000    0.000 C:\\Users\\lworm\\Repos\\py-research\\src\\py_research\\db\\base.py:1353(_primary_keys)\n",
      "      782    0.000    0.000    0.000    0.000 C:\\Users\\lworm\\Repos\\py-research\\src\\py_research\\db\\base.py:570(name)\n",
      "       32    0.000    0.000    0.000    0.000 C:\\Users\\lworm\\Repos\\py-research\\src\\py_research\\db\\base.py:1729(<genexpr>)\n",
      "       12    0.000    0.000    0.000    0.000 C:\\Users\\lworm\\Repos\\py-research\\src\\py_research\\db\\base.py:747(__get__)\n",
      "      149    0.000    0.000    0.000    0.000 C:\\Users\\lworm\\Repos\\py-research\\src\\py_research\\db\\base.py:648(__set__)\n",
      "       48    0.000    0.000    0.000    0.000 C:\\Users\\lworm\\Repos\\py-research\\src\\py_research\\db\\base.py:1363(_props)\n",
      "      143    0.000    0.000    0.000    0.000 C:\\Users\\lworm\\Repos\\py-research\\src\\py_research\\db\\base.py:1658(getter)\n",
      "      388    0.000    0.000    0.000    0.000 C:\\Users\\lworm\\Repos\\py-research\\src\\py_research\\hashing.py:66(<genexpr>)\n",
      "        3    0.000    0.000    0.000    0.000 C:\\Users\\lworm\\Repos\\py-research\\src\\py_research\\db\\importing.py:256(select)\n",
      "       66    0.000    0.000    0.000    0.000 C:\\Users\\lworm\\Repos\\py-research\\src\\py_research\\db\\base.py:1656(<genexpr>)\n",
      "       22    0.000    0.000    0.000    0.000 C:\\Users\\lworm\\Repos\\py-research\\src\\py_research\\db\\base.py:1618(_prop_type_map)\n",
      "        6    0.000    0.000    0.000    0.000 C:\\Users\\lworm\\Repos\\py-research\\src\\py_research\\db\\base.py:487(<lambda>)\n",
      "       26    0.000    0.000    0.000    0.000 C:\\Users\\lworm\\Repos\\py-research\\src\\py_research\\db\\base.py:2081(__post_init__)\n",
      "       48    0.000    0.000    0.000    0.000 C:\\Users\\lworm\\Repos\\py-research\\src\\py_research\\db\\base.py:1367(<genexpr>)\n",
      "       14    0.000    0.000    0.000    0.000 C:\\Users\\lworm\\Repos\\py-research\\src\\py_research\\db\\importing.py:305(_get_selector_name)\n",
      "        6    0.000    0.000    0.000    0.000 C:\\Users\\lworm\\Repos\\py-research\\src\\py_research\\db\\importing.py:143(parse)\n",
      "        3    0.000    0.000    0.000    0.000 C:\\Users\\lworm\\Repos\\py-research\\src\\py_research\\db\\importing.py:262(<genexpr>)\n",
      "\n",
      "\n"
     ]
    },
    {
     "data": {
      "text/html": [
       "<pre style=\"white-space:pre;overflow-x:auto;line-height:normal;font-family:Menlo,'DejaVu Sans Mono',consolas,'Courier New',monospace\"></pre>\n"
      ],
      "text/plain": []
     },
     "metadata": {},
     "output_type": "display_data"
    },
    {
     "data": {
      "text/plain": [
       "\u001b[1m<\u001b[0m\u001b[1;95mpstats.Stats\u001b[0m\u001b[39m object at \u001b[0m\u001b[1;36m0x00000252B3F4B3B0\u001b[0m\u001b[1m>\u001b[0m"
      ]
     },
     "execution_count": 11,
     "metadata": {},
     "output_type": "execute_result"
    }
   ],
   "source": [
    "stats.sort_stats(\"cumulative\")\n",
    "stats.print_stats(\"py_research\")"
   ]
  }
 ],
 "metadata": {
  "kernelspec": {
   "display_name": ".venv",
   "language": "python",
   "name": "python3"
  },
  "language_info": {
   "codemirror_mode": {
    "name": "ipython",
    "version": 3
   },
   "file_extension": ".py",
   "mimetype": "text/x-python",
   "name": "python",
   "nbconvert_exporter": "python",
   "pygments_lexer": "ipython3",
   "version": "3.12.4"
  }
 },
 "nbformat": 4,
 "nbformat_minor": 2
}

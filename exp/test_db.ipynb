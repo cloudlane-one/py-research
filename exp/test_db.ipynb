{
 "cells": [
  {
   "cell_type": "code",
   "execution_count": 1,
   "metadata": {},
   "outputs": [],
   "source": [
    "from __future__ import annotations\n",
    "\n",
    "import json\n",
    "import cProfile\n",
    "import pstats"
   ]
  },
  {
   "cell_type": "code",
   "execution_count": 2,
   "metadata": {},
   "outputs": [],
   "source": [
    "from py_research.db import (\n",
    "    DataSource,\n",
    "    RecMap,\n",
    "    RelMap,\n",
    "    SubMap,\n",
    "    SelIndex\n",
    ")"
   ]
  },
  {
   "cell_type": "code",
   "execution_count": 3,
   "metadata": {},
   "outputs": [],
   "source": [
    "from test_db_schema import Search, Project, Task, User, Membership, Organization"
   ]
  },
  {
   "cell_type": "code",
   "execution_count": 4,
   "metadata": {},
   "outputs": [],
   "source": [
    "data_source = DataSource(\n",
    "    rec=Search,\n",
    "    push={\n",
    "        \"resultCount\": Search.result_count,\n",
    "        \"search\": Search.term,\n",
    "        \"results\": RelMap(\n",
    "            rel=Search.results,\n",
    "            push={\n",
    "                \"project_name\": Project.name,\n",
    "                \"project_start\": Project.start,\n",
    "                \"project_end\": Project.end,\n",
    "                \"project_status\": Project.status,\n",
    "                \"tasks\": RelMap(\n",
    "                    rel=Project.tasks,\n",
    "                    push={\n",
    "                        \"task_name\": Task.name,\n",
    "                        \"task_assignees\": RelMap(\n",
    "                            rel=Task.assignees,\n",
    "                            push=User.name,\n",
    "                            match=User.name,\n",
    "                        ),\n",
    "                        \"task_status\": Task.status,\n",
    "                    },\n",
    "                ),\n",
    "                \"members\": RelMap(\n",
    "                    rel=Project.members,\n",
    "                    push={User.name, User.age},\n",
    "                    link=RecMap(\n",
    "                        push={\n",
    "                            Membership.role,\n",
    "                        },\n",
    "                    ),\n",
    "                ),\n",
    "            },\n",
    "            pull={\n",
    "                Project.org: SubMap(\n",
    "                    push={\n",
    "                        \"organization_name\": Organization.name,\n",
    "                        \"organization_address\": Organization.address,\n",
    "                        \"organization_city\": Organization.city,\n",
    "                    },\n",
    "                ),\n",
    "                Project.number: SelIndex()\n",
    "            },\n",
    "        ),\n",
    "    },\n",
    ")"
   ]
  },
  {
   "cell_type": "code",
   "execution_count": 5,
   "metadata": {},
   "outputs": [],
   "source": [
    "with open(\"./nested_data.json\") as f:\n",
    "    data = json.load(f)"
   ]
  },
  {
   "cell_type": "code",
   "execution_count": 6,
   "metadata": {},
   "outputs": [],
   "source": [
    "with cProfile.Profile() as pr:\n",
    "  rec = await data_source.load(data, cache_with_db=True)\n",
    "  \n",
    "  stats = pstats.Stats(pr)"
   ]
  },
  {
   "cell_type": "code",
   "execution_count": 7,
   "metadata": {},
   "outputs": [
    {
     "data": {
      "text/html": [
       "<pre style=\"white-space:pre;overflow-x:auto;line-height:normal;font-family:Menlo,'DejaVu Sans Mono',consolas,'Courier New',monospace\"></pre>\n"
      ],
      "text/plain": []
     },
     "metadata": {},
     "output_type": "display_data"
    },
    {
     "data": {
      "text/plain": [
       "\u001b[1m{\u001b[0m\u001b[32m'term'\u001b[0m: \u001b[32m'test'\u001b[0m, \u001b[32m'result_count'\u001b[0m: \u001b[1;36m3\u001b[0m, \u001b[32m'results'\u001b[0m: \u001b[1m[\u001b[0m\u001b[1m{\u001b[0m\u001b[32m'number'\u001b[0m: \u001b[1;36m2\u001b[0m, \u001b[32m'name'\u001b[0m: \u001b[32m'fixing cars'\u001b[0m, \u001b[32m'start'\u001b[0m: \u001b[32m'2020-01-03'\u001b[0m, \u001b[32m'end'\u001b[0m: \u001b[32m'2020-01-06'\u001b[0m, \u001b[32m'status'\u001b[0m: \u001b[32m'started'\u001b[0m, \u001b[32m'org'\u001b[0m: \u001b[1m{\u001b[0m\u001b[32m'name'\u001b[0m: \u001b[32m'Car Shop'\u001b[0m, \u001b[32m'address'\u001b[0m: \u001b[32m'Main Street 3'\u001b[0m, \u001b[32m'city'\u001b[0m: \u001b[32m'Cartown'\u001b[0m, \u001b[32m'projects'\u001b[0m: \u001b[1m<\u001b[0m\u001b[1;95mLoadStatus.unloaded:\u001b[0m\u001b[39m \u001b[0m\u001b[1;36m1\u001b[0m\u001b[39m>, \u001b[0m\u001b[32m'_id'\u001b[0m\u001b[39m: \u001b[0m\u001b[1;35mUUID\u001b[0m\u001b[1;39m(\u001b[0m\u001b[32m'45ac0c3b-f2af-479a-a25f-510832af9c52'\u001b[0m\u001b[1;39m)\u001b[0m\u001b[1;39m}\u001b[0m\u001b[39m, \u001b[0m\u001b[32m'tasks'\u001b[0m\u001b[39m: \u001b[0m\u001b[1;39m[\u001b[0m\u001b[1;39m{\u001b[0m\u001b[32m'name'\u001b[0m\u001b[39m: \u001b[0m\u001b[32m'task6'\u001b[0m\u001b[39m, \u001b[0m\u001b[32m'project'\u001b[0m\u001b[39m: <LoadStatus.unloaded: \u001b[0m\u001b[1;36m1\u001b[0m\u001b[39m>, \u001b[0m\u001b[32m'assignees'\u001b[0m\u001b[39m: \u001b[0m\u001b[1;39m[\u001b[0m\u001b[1;39m{\u001b[0m\u001b[32m'name'\u001b[0m\u001b[39m: \u001b[0m\u001b[32m'John'\u001b[0m\u001b[39m, \u001b[0m\u001b[32m'age'\u001b[0m\u001b[39m: <LoadStatus.unloaded: \u001b[0m\u001b[1;36m1\u001b[0m\u001b[39m>, \u001b[0m\u001b[32m'tasks'\u001b[0m\u001b[39m: <LoadStatus.unloaded: \u001b[0m\u001b[1;36m1\u001b[0m\u001b[39m>, \u001b[0m\u001b[32m'_id'\u001b[0m\u001b[39m: \u001b[0m\u001b[1;35mUUID\u001b[0m\u001b[1;39m(\u001b[0m\u001b[32m'2e9ac474-8057-4879-91b0-3d8409e1542c'\u001b[0m\u001b[1;39m)\u001b[0m\u001b[1;39m}\u001b[0m\u001b[1;39m]\u001b[0m\u001b[39m, \u001b[0m\u001b[32m'status'\u001b[0m\u001b[39m: \u001b[0m\u001b[32m'todo'\u001b[0m\u001b[39m, \u001b[0m\u001b[32m'_id'\u001b[0m\u001b[39m: \u001b[0m\u001b[1;35mUUID\u001b[0m\u001b[1;39m(\u001b[0m\u001b[32m'b66e8c75-1caa-4d56-9f8d-221cad236fd8'\u001b[0m\u001b[1;39m)\u001b[0m\u001b[1;39m}\u001b[0m\u001b[1;39m]\u001b[0m\u001b[39m, \u001b[0m\u001b[32m'members'\u001b[0m\u001b[39m: \u001b[0m\u001b[1;39m[\u001b[0m\u001b[1;39m{\u001b[0m\u001b[32m'name'\u001b[0m\u001b[39m: \u001b[0m\u001b[32m'John'\u001b[0m\u001b[39m, \u001b[0m\u001b[32m'age'\u001b[0m\u001b[39m: \u001b[0m\u001b[1;36m20\u001b[0m\u001b[39m, \u001b[0m\u001b[32m'tasks'\u001b[0m\u001b[39m: <LoadStatus.unloaded: \u001b[0m\u001b[1;36m1\u001b[0m\u001b[39m>, \u001b[0m\u001b[32m'_id'\u001b[0m\u001b[39m: \u001b[0m\u001b[1;35mUUID\u001b[0m\u001b[1;39m(\u001b[0m\u001b[32m'cd6545d7-dcb3-4bf3-91f9-09cc5516ae86'\u001b[0m\u001b[1;39m)\u001b[0m\u001b[1;39m}\u001b[0m\u001b[39m, \u001b[0m\u001b[1;39m{\u001b[0m\u001b[32m'name'\u001b[0m\u001b[39m: \u001b[0m\u001b[32m'Jane'\u001b[0m\u001b[39m, \u001b[0m\u001b[32m'age'\u001b[0m\u001b[39m: \u001b[0m\u001b[1;36m30\u001b[0m\u001b[39m, \u001b[0m\u001b[32m'tasks'\u001b[0m\u001b[39m: <LoadStatus.unloaded: \u001b[0m\u001b[1;36m1\u001b[0m\u001b[39m>, \u001b[0m\u001b[32m'_id'\u001b[0m\u001b[39m: \u001b[0m\u001b[1;35mUUID\u001b[0m\u001b[1;39m(\u001b[0m\u001b[32m'9ed6a653-20ee-4997-bfe9-506cd60cf760'\u001b[0m\u001b[1;39m)\u001b[0m\u001b[1;39m}\u001b[0m\u001b[39m, \u001b[0m\u001b[1;39m{\u001b[0m\u001b[32m'name'\u001b[0m\u001b[39m: \u001b[0m\u001b[32m'Jack'\u001b[0m\u001b[39m, \u001b[0m\u001b[32m'age'\u001b[0m\u001b[39m: \u001b[0m\u001b[1;36m40\u001b[0m\u001b[39m, \u001b[0m\u001b[32m'tasks'\u001b[0m\u001b[39m: <LoadStatus.unloaded: \u001b[0m\u001b[1;36m1\u001b[0m\u001b[39m>, \u001b[0m\u001b[32m'_id'\u001b[0m\u001b[39m: \u001b[0m\u001b[1;35mUUID\u001b[0m\u001b[1;39m(\u001b[0m\u001b[32m'ccc99041-030f-4ff3-942f-7b9e32c1ad84'\u001b[0m\u001b[1;39m)\u001b[0m\u001b[1;39m}\u001b[0m\u001b[1;39m]\u001b[0m\u001b[1;39m}\u001b[0m\u001b[39m, \u001b[0m\u001b[1;39m{\u001b[0m\u001b[32m'number'\u001b[0m\u001b[39m: \u001b[0m\u001b[1;36m1\u001b[0m\u001b[39m, \u001b[0m\u001b[32m'name'\u001b[0m\u001b[39m: \u001b[0m\u001b[32m'cleaning shoes'\u001b[0m\u001b[39m, \u001b[0m\u001b[32m'start'\u001b[0m\u001b[39m: \u001b[0m\u001b[32m'2020-01-02'\u001b[0m\u001b[39m, \u001b[0m\u001b[32m'end'\u001b[0m\u001b[39m: \u001b[0m\u001b[32m'2020-01-05'\u001b[0m\u001b[39m, \u001b[0m\u001b[32m'status'\u001b[0m\u001b[39m: \u001b[0m\u001b[32m'done'\u001b[0m\u001b[39m, \u001b[0m\u001b[32m'org'\u001b[0m\u001b[39m: \u001b[0m\u001b[1;39m{\u001b[0m\u001b[32m'name'\u001b[0m\u001b[39m: \u001b[0m\u001b[32m'Shoe Shop'\u001b[0m\u001b[39m, \u001b[0m\u001b[32m'address'\u001b[0m\u001b[39m: \u001b[0m\u001b[32m'Main Street 2'\u001b[0m\u001b[39m, \u001b[0m\u001b[32m'city'\u001b[0m\u001b[39m: \u001b[0m\u001b[32m'Shoetown'\u001b[0m\u001b[39m, \u001b[0m\u001b[32m'projects'\u001b[0m\u001b[39m: <LoadStatus.unloaded: \u001b[0m\u001b[1;36m1\u001b[0m\u001b[39m>, \u001b[0m\u001b[32m'_id'\u001b[0m\u001b[39m: \u001b[0m\u001b[1;35mUUID\u001b[0m\u001b[1;39m(\u001b[0m\u001b[32m'c4ffb439-bc97-458a-9411-c78cd252bb9d'\u001b[0m\u001b[1;39m)\u001b[0m\u001b[1;39m}\u001b[0m\u001b[39m, \u001b[0m\u001b[32m'tasks'\u001b[0m\u001b[39m: \u001b[0m\u001b[1;39m[\u001b[0m\u001b[1;39m{\u001b[0m\u001b[32m'name'\u001b[0m\u001b[39m: \u001b[0m\u001b[32m'task5'\u001b[0m\u001b[39m, \u001b[0m\u001b[32m'project'\u001b[0m\u001b[39m: <LoadStatus.unloaded: \u001b[0m\u001b[1;36m1\u001b[0m\u001b[39m>, \u001b[0m\u001b[32m'assignees'\u001b[0m\u001b[39m: \u001b[0m\u001b[1;39m[\u001b[0m\u001b[1;39m{\u001b[0m\u001b[32m'name'\u001b[0m\u001b[39m: \u001b[0m\u001b[32m'Jane'\u001b[0m\u001b[39m, \u001b[0m\u001b[32m'age'\u001b[0m\u001b[39m: <LoadStatus.unloaded: \u001b[0m\u001b[1;36m1\u001b[0m\u001b[39m>, \u001b[0m\u001b[32m'tasks'\u001b[0m\u001b[39m: <LoadStatus.unloaded: \u001b[0m\u001b[1;36m1\u001b[0m\u001b[39m>, \u001b[0m\u001b[32m'_id'\u001b[0m\u001b[39m: \u001b[0m\u001b[1;35mUUID\u001b[0m\u001b[1;39m(\u001b[0m\u001b[32m'a3fa07d2-f966-4976-969f-2ea54aa2034a'\u001b[0m\u001b[1;39m)\u001b[0m\u001b[1;39m}\u001b[0m\u001b[1;39m]\u001b[0m\u001b[39m, \u001b[0m\u001b[32m'status'\u001b[0m\u001b[39m: \u001b[0m\u001b[32m'todo'\u001b[0m\u001b[39m, \u001b[0m\u001b[32m'_id'\u001b[0m\u001b[39m: \u001b[0m\u001b[1;35mUUID\u001b[0m\u001b[1;39m(\u001b[0m\u001b[32m'242bc431-824a-49b5-b508-6c3a7186d84c'\u001b[0m\u001b[1;39m)\u001b[0m\u001b[1;39m}\u001b[0m\u001b[39m, \u001b[0m\u001b[1;39m{\u001b[0m\u001b[32m'name'\u001b[0m\u001b[39m: \u001b[0m\u001b[32m'task4'\u001b[0m\u001b[39m, \u001b[0m\u001b[32m'project'\u001b[0m\u001b[39m: <LoadStatus.unloaded: \u001b[0m\u001b[1;36m1\u001b[0m\u001b[39m>, \u001b[0m\u001b[32m'assignees'\u001b[0m\u001b[39m: \u001b[0m\u001b[1;39m[\u001b[0m\u001b[1;39m{\u001b[0m\u001b[32m'name'\u001b[0m\u001b[39m: \u001b[0m\u001b[32m'John'\u001b[0m\u001b[39m, \u001b[0m\u001b[32m'age'\u001b[0m\u001b[39m: <LoadStatus.unloaded: \u001b[0m\u001b[1;36m1\u001b[0m\u001b[39m>, \u001b[0m\u001b[32m'tasks'\u001b[0m\u001b[39m: <LoadStatus.unloaded: \u001b[0m\u001b[1;36m1\u001b[0m\u001b[39m>, \u001b[0m\u001b[32m'_id'\u001b[0m\u001b[39m: \u001b[0m\u001b[1;35mUUID\u001b[0m\u001b[1;39m(\u001b[0m\u001b[32m'07c00e02-6b1f-4ceb-afb6-4fd05e08fff5'\u001b[0m\u001b[1;39m)\u001b[0m\u001b[1;39m}\u001b[0m\u001b[1;39m]\u001b[0m\u001b[39m, \u001b[0m\u001b[32m'status'\u001b[0m\u001b[39m: \u001b[0m\u001b[32m'todo'\u001b[0m\u001b[39m, \u001b[0m\u001b[32m'_id'\u001b[0m\u001b[39m: \u001b[0m\u001b[1;35mUUID\u001b[0m\u001b[1;39m(\u001b[0m\u001b[32m'144bfebe-8f27-440e-bb32-76cb9d40eb47'\u001b[0m\u001b[1;39m)\u001b[0m\u001b[1;39m}\u001b[0m\u001b[1;39m]\u001b[0m\u001b[39m, \u001b[0m\u001b[32m'members'\u001b[0m\u001b[39m: \u001b[0m\u001b[1;39m[\u001b[0m\u001b[1;39m{\u001b[0m\u001b[32m'name'\u001b[0m\u001b[39m: \u001b[0m\u001b[32m'John'\u001b[0m\u001b[39m, \u001b[0m\u001b[32m'age'\u001b[0m\u001b[39m: \u001b[0m\u001b[1;36m20\u001b[0m\u001b[39m, \u001b[0m\u001b[32m'tasks'\u001b[0m\u001b[39m: <LoadStatus.unloaded: \u001b[0m\u001b[1;36m1\u001b[0m\u001b[39m>, \u001b[0m\u001b[32m'_id'\u001b[0m\u001b[39m: \u001b[0m\u001b[1;35mUUID\u001b[0m\u001b[1;39m(\u001b[0m\u001b[32m'740f64e9-30cc-484c-859b-e60abc17b09e'\u001b[0m\u001b[1;39m)\u001b[0m\u001b[1;39m}\u001b[0m\u001b[39m, \u001b[0m\u001b[1;39m{\u001b[0m\u001b[32m'name'\u001b[0m\u001b[39m: \u001b[0m\u001b[32m'Jane'\u001b[0m\u001b[39m, \u001b[0m\u001b[32m'age'\u001b[0m\u001b[39m: \u001b[0m\u001b[1;36m30\u001b[0m\u001b[39m, \u001b[0m\u001b[32m'tasks'\u001b[0m\u001b[39m: <LoadStatus.unloaded: \u001b[0m\u001b[1;36m1\u001b[0m\u001b[39m>, \u001b[0m\u001b[32m'_id'\u001b[0m\u001b[39m: \u001b[0m\u001b[1;35mUUID\u001b[0m\u001b[1;39m(\u001b[0m\u001b[32m'1ff366e0-35cc-4463-bc37-877414fb9e78'\u001b[0m\u001b[1;39m)\u001b[0m\u001b[1;39m}\u001b[0m\u001b[1;39m]\u001b[0m\u001b[1;39m}\u001b[0m\u001b[39m, \u001b[0m\u001b[1;39m{\u001b[0m\u001b[32m'number'\u001b[0m\u001b[39m: \u001b[0m\u001b[1;36m0\u001b[0m\u001b[39m, \u001b[0m\u001b[32m'name'\u001b[0m\u001b[39m: \u001b[0m\u001b[32m'baking cake'\u001b[0m\u001b[39m, \u001b[0m\u001b[32m'start'\u001b[0m\u001b[39m: \u001b[0m\u001b[32m'2020-01-01'\u001b[0m\u001b[39m, \u001b[0m\u001b[32m'end'\u001b[0m\u001b[39m: \u001b[0m\u001b[32m'2020-01-04'\u001b[0m\u001b[39m, \u001b[0m\u001b[32m'status'\u001b[0m\u001b[39m: \u001b[0m\u001b[32m'done'\u001b[0m\u001b[39m, \u001b[0m\u001b[32m'org'\u001b[0m\u001b[39m: \u001b[0m\u001b[1;39m{\u001b[0m\u001b[32m'name'\u001b[0m\u001b[39m: \u001b[0m\u001b[32m'Bakery'\u001b[0m\u001b[39m, \u001b[0m\u001b[32m'address'\u001b[0m\u001b[39m: \u001b[0m\u001b[32m'Main Street 1'\u001b[0m\u001b[39m, \u001b[0m\u001b[32m'city'\u001b[0m\u001b[39m: \u001b[0m\u001b[32m'Bakerville'\u001b[0m\u001b[39m, \u001b[0m\u001b[32m'projects'\u001b[0m\u001b[39m: <LoadStatus.unloaded: \u001b[0m\u001b[1;36m1\u001b[0m\u001b[39m>, \u001b[0m\u001b[32m'_id'\u001b[0m\u001b[39m: \u001b[0m\u001b[1;35mUUID\u001b[0m\u001b[1;39m(\u001b[0m\u001b[32m'2a3dd6e7-41ca-4517-8046-825a5e0b19d3'\u001b[0m\u001b[1;39m)\u001b[0m\u001b[1;39m}\u001b[0m\u001b[39m, \u001b[0m\u001b[32m'tasks'\u001b[0m\u001b[39m: \u001b[0m\u001b[1;39m[\u001b[0m\u001b[1;39m{\u001b[0m\u001b[32m'name'\u001b[0m\u001b[39m: \u001b[0m\u001b[32m'task1'\u001b[0m\u001b[39m, \u001b[0m\u001b[32m'project'\u001b[0m\u001b[39m: <LoadStatus.unloaded: \u001b[0m\u001b[1;36m1\u001b[0m\u001b[39m>, \u001b[0m\u001b[32m'assignees'\u001b[0m\u001b[39m: \u001b[0m\u001b[1;39m[\u001b[0m\u001b[1;39m{\u001b[0m\u001b[32m'name'\u001b[0m\u001b[39m: \u001b[0m\u001b[32m'John'\u001b[0m\u001b[39m, \u001b[0m\u001b[32m'age'\u001b[0m\u001b[39m: <LoadStatus.unloaded: \u001b[0m\u001b[1;36m1\u001b[0m\u001b[39m>, \u001b[0m\u001b[32m'tasks'\u001b[0m\u001b[39m: <LoadStatus.unloaded: \u001b[0m\u001b[1;36m1\u001b[0m\u001b[39m>, \u001b[0m\u001b[32m'_id'\u001b[0m\u001b[39m: \u001b[0m\u001b[1;35mUUID\u001b[0m\u001b[1;39m(\u001b[0m\u001b[32m'3a2468a7-6ddf-4532-90f7-5e071f1d2915'\u001b[0m\u001b[1;39m)\u001b[0m\u001b[1;39m}\u001b[0m\u001b[1;39m]\u001b[0m\u001b[39m, \u001b[0m\u001b[32m'status'\u001b[0m\u001b[39m: \u001b[0m\u001b[32m'todo'\u001b[0m\u001b[39m, \u001b[0m\u001b[32m'_id'\u001b[0m\u001b[39m: \u001b[0m\u001b[1;35mUUID\u001b[0m\u001b[1;39m(\u001b[0m\u001b[32m'a085a3e3-d8ed-474b-b886-5f39395c33fe'\u001b[0m\u001b[1;39m)\u001b[0m\u001b[1;39m}\u001b[0m\u001b[39m, \u001b[0m\u001b[1;39m{\u001b[0m\u001b[32m'name'\u001b[0m\u001b[39m: \u001b[0m\u001b[32m'task3'\u001b[0m\u001b[39m, \u001b[0m\u001b[32m'project'\u001b[0m\u001b[39m: <LoadStatus.unloaded: \u001b[0m\u001b[1;36m1\u001b[0m\u001b[39m>, \u001b[0m\u001b[32m'assignees'\u001b[0m\u001b[39m: \u001b[0m\u001b[1;39m[\u001b[0m\u001b[1;39m{\u001b[0m\u001b[32m'name'\u001b[0m\u001b[39m: \u001b[0m\u001b[32m'Jane'\u001b[0m\u001b[39m, \u001b[0m\u001b[32m'age'\u001b[0m\u001b[39m: <LoadStatus.unloaded: \u001b[0m\u001b[1;36m1\u001b[0m\u001b[39m>, \u001b[0m\u001b[32m'tasks'\u001b[0m\u001b[39m: <LoadStatus.unloaded: \u001b[0m\u001b[1;36m1\u001b[0m\u001b[39m>, \u001b[0m\u001b[32m'_id'\u001b[0m\u001b[39m: \u001b[0m\u001b[1;35mUUID\u001b[0m\u001b[1;39m(\u001b[0m\u001b[32m'a1392e1b-4696-447f-95d9-3a8f8541e16f'\u001b[0m\u001b[1;39m)\u001b[0m\u001b[1;39m}\u001b[0m\u001b[1;39m]\u001b[0m\u001b[39m, \u001b[0m\u001b[32m'status'\u001b[0m\u001b[39m: \u001b[0m\u001b[32m'done'\u001b[0m\u001b[39m, \u001b[0m\u001b[32m'_id'\u001b[0m\u001b[39m: \u001b[0m\u001b[1;35mUUID\u001b[0m\u001b[1;39m(\u001b[0m\u001b[32m'8b506ee1-4d7a-4d54-b6bf-a3d9e50a0096'\u001b[0m\u001b[1;39m)\u001b[0m\u001b[1;39m}\u001b[0m\u001b[39m, \u001b[0m\u001b[1;39m{\u001b[0m\u001b[32m'name'\u001b[0m\u001b[39m: \u001b[0m\u001b[32m'task2'\u001b[0m\u001b[39m, \u001b[0m\u001b[32m'project'\u001b[0m\u001b[39m: <LoadStatus.unloaded: \u001b[0m\u001b[1;36m1\u001b[0m\u001b[39m>, \u001b[0m\u001b[32m'assignees'\u001b[0m\u001b[39m: \u001b[0m\u001b[1;39m[\u001b[0m\u001b[1;39m{\u001b[0m\u001b[32m'name'\u001b[0m\u001b[39m: \u001b[0m\u001b[32m'John'\u001b[0m\u001b[39m, \u001b[0m\u001b[32m'age'\u001b[0m\u001b[39m: <LoadStatus.unloaded: \u001b[0m\u001b[1;36m1\u001b[0m\u001b[39m>, \u001b[0m\u001b[32m'tasks'\u001b[0m\u001b[39m: <LoadStatus.unloaded: \u001b[0m\u001b[1;36m1\u001b[0m\u001b[39m>, \u001b[0m\u001b[32m'_id'\u001b[0m\u001b[39m: \u001b[0m\u001b[1;35mUUID\u001b[0m\u001b[1;39m(\u001b[0m\u001b[32m'b8ea87cc-6a29-4522-974b-7fc6686d25b9'\u001b[0m\u001b[1;39m)\u001b[0m\u001b[1;39m}\u001b[0m\u001b[1;39m]\u001b[0m\u001b[39m, \u001b[0m\u001b[32m'status'\u001b[0m\u001b[39m: \u001b[0m\u001b[32m'todo'\u001b[0m\u001b[39m, \u001b[0m\u001b[32m'_id'\u001b[0m\u001b[39m: \u001b[0m\u001b[1;35mUUID\u001b[0m\u001b[1;39m(\u001b[0m\u001b[32m'563145fe-00d7-482d-873c-57a0862afc4c'\u001b[0m\u001b[1;39m)\u001b[0m\u001b[1;39m}\u001b[0m\u001b[1;39m]\u001b[0m\u001b[39m, \u001b[0m\u001b[32m'members'\u001b[0m\u001b[39m: \u001b[0m\u001b[1;39m[\u001b[0m\u001b[1;39m{\u001b[0m\u001b[32m'name'\u001b[0m\u001b[39m: \u001b[0m\u001b[32m'John'\u001b[0m\u001b[39m, \u001b[0m\u001b[32m'age'\u001b[0m\u001b[39m: \u001b[0m\u001b[1;36m20\u001b[0m\u001b[39m, \u001b[0m\u001b[32m'tasks'\u001b[0m\u001b[39m: <LoadStatus.unloaded: \u001b[0m\u001b[1;36m1\u001b[0m\u001b[39m>, \u001b[0m\u001b[32m'_id'\u001b[0m\u001b[39m: \u001b[0m\u001b[1;35mUUID\u001b[0m\u001b[1;39m(\u001b[0m\u001b[32m'4b06524f-2ea3-4d7b-a3d4-f0efb547b398'\u001b[0m\u001b[1;39m)\u001b[0m\u001b[1;39m}\u001b[0m\u001b[39m, \u001b[0m\u001b[1;39m{\u001b[0m\u001b[32m'name'\u001b[0m\u001b[39m: \u001b[0m\u001b[32m'John'\u001b[0m\u001b[39m, \u001b[0m\u001b[32m'age'\u001b[0m\u001b[39m: \u001b[0m\u001b[1;36m20\u001b[0m\u001b[39m, \u001b[0m\u001b[32m'tasks'\u001b[0m\u001b[39m: <LoadStatus.unloaded: \u001b[0m\u001b[1;36m1\u001b[0m\u001b[1m>\u001b[0m, \u001b[32m'_id'\u001b[0m: \u001b[1;35mUUID\u001b[0m\u001b[1m(\u001b[0m\u001b[32m'f17f4307-7ed8-4d00-b262-6157201a28ea'\u001b[0m\u001b[1m)\u001b[0m\u001b[1m}\u001b[0m\u001b[1m]\u001b[0m\u001b[1m}\u001b[0m\u001b[1m]\u001b[0m\u001b[1m}\u001b[0m"
      ]
     },
     "execution_count": 7,
     "metadata": {},
     "output_type": "execute_result"
    }
   ],
   "source": [
    "rec"
   ]
  },
  {
   "cell_type": "code",
   "execution_count": 8,
   "metadata": {},
   "outputs": [
    {
     "name": "stdout",
     "output_type": "stream",
     "text": [
      "         544143 function calls (463446 primitive calls) in 0.641 seconds\n",
      "\n",
      "   Ordered by: cumulative time\n",
      "   List reduced from 858 to 72 due to restriction <'py_research'>\n",
      "\n",
      "   ncalls  tottime  percall  cumtime  percall filename:lineno(function)\n",
      "       67    0.001    0.000    0.637    0.010 C:\\Users\\lworm\\Repos\\py-research\\src\\py_research\\db\\importing.py:433(_load_record)\n",
      "       62    0.000    0.000    0.568    0.009 C:\\Users\\lworm\\Repos\\py-research\\src\\py_research\\db\\importing.py:495(load_record)\n",
      "      388    0.000    0.000    0.535    0.001 C:\\Users\\lworm\\Repos\\py-research\\src\\py_research\\db\\base.py:1831(__hash__)\n",
      "43242/388    0.069    0.000    0.534    0.001 C:\\Users\\lworm\\Repos\\py-research\\src\\py_research\\hashing.py:39(gen_int_hash)\n",
      "12029/4408    0.005    0.000    0.520    0.000 C:\\Users\\lworm\\Repos\\py-research\\src\\py_research\\hashing.py:69(<genexpr>)\n",
      "10635/4020    0.005    0.000    0.517    0.000 C:\\Users\\lworm\\Repos\\py-research\\src\\py_research\\hashing.py:33(_hash_sequence)\n",
      "20396/8040    0.024    0.000    0.513    0.000 C:\\Users\\lworm\\Repos\\py-research\\src\\py_research\\hashing.py:35(<lambda>)\n",
      "       26    0.000    0.000    0.281    0.011 C:\\Users\\lworm\\Repos\\py-research\\src\\py_research\\db\\base.py:1654(_from_partial_dict)\n",
      "        5    0.000    0.000    0.245    0.049 C:\\Users\\lworm\\Repos\\py-research\\src\\py_research\\reflect\\ref.py:81(reference)\n",
      "       26    0.000    0.000    0.212    0.008 C:\\Users\\lworm\\Repos\\py-research\\src\\py_research\\db\\importing.py:213(full_map)\n",
      "       26    0.001    0.000    0.208    0.008 C:\\Users\\lworm\\Repos\\py-research\\src\\py_research\\db\\importing.py:324(_push_to_pull_map)\n",
      "    34219    0.058    0.000    0.119    0.000 C:\\Users\\lworm\\Repos\\py-research\\src\\py_research\\hashing.py:24(_stable_hash)\n",
      "       33    0.000    0.000    0.072    0.002 C:\\Users\\lworm\\Repos\\py-research\\src\\py_research\\db\\base.py:3815(link_type)\n",
      "       33    0.000    0.000    0.072    0.002 C:\\Users\\lworm\\Repos\\py-research\\src\\py_research\\db\\base.py:493(link_type)\n",
      "       44    0.000    0.000    0.071    0.002 C:\\Users\\lworm\\Repos\\py-research\\src\\py_research\\db\\base.py:423(_to_type)\n",
      "        8    0.000    0.000    0.070    0.009 C:\\Users\\lworm\\Repos\\py-research\\src\\py_research\\db\\base.py:1202(__init__)\n",
      "       72    0.001    0.000    0.069    0.001 C:\\Users\\lworm\\Repos\\py-research\\src\\py_research\\data.py:33(copy_and_override)\n",
      "       10    0.000    0.000    0.015    0.002 C:\\Users\\lworm\\Repos\\py-research\\src\\py_research\\reflect\\dist.py:96(get_project_urls)\n",
      "       11    0.000    0.000    0.010    0.001 C:\\Users\\lworm\\Repos\\py-research\\src\\py_research\\db\\base.py:2317(record_type)\n",
      "       11    0.000    0.000    0.010    0.001 C:\\Users\\lworm\\Repos\\py-research\\src\\py_research\\db\\base.py:467(record_type)\n",
      "      311    0.000    0.000    0.009    0.000 C:\\Users\\lworm\\Repos\\py-research\\src\\py_research\\reflect\\types.py:40(has_type)\n",
      "        5    0.000    0.000    0.008    0.002 C:\\Users\\lworm\\Repos\\py-research\\src\\py_research\\reflect\\dist.py:87(get_module_repo)\n",
      "        5    0.000    0.000    0.008    0.002 C:\\Users\\lworm\\Repos\\py-research\\src\\py_research\\reflect\\dist.py:79(get_file_repo)\n",
      "       76    0.000    0.000    0.007    0.000 C:\\Users\\lworm\\Repos\\py-research\\src\\py_research\\reflect\\types.py:35(is_subtype)\n",
      "      8/5    0.000    0.000    0.007    0.001 C:\\Users\\lworm\\Repos\\py-research\\src\\py_research\\db\\base.py:3857(direct_rel)\n",
      "       11    0.000    0.000    0.005    0.000 C:\\Users\\lworm\\Repos\\py-research\\src\\py_research\\db\\base.py:443(_generic_type)\n",
      "       55    0.000    0.000    0.003    0.000 C:\\Users\\lworm\\Repos\\py-research\\src\\py_research\\db\\base.py:395(_to_typedef)\n",
      "       74    0.000    0.000    0.002    0.000 C:\\Users\\lworm\\Repos\\py-research\\src\\py_research\\db\\importing.py:173(select)\n",
      "       74    0.000    0.000    0.002    0.000 C:\\Users\\lworm\\Repos\\py-research\\src\\py_research\\db\\importing.py:81(select)\n",
      "       74    0.000    0.000    0.002    0.000 C:\\Users\\lworm\\Repos\\py-research\\src\\py_research\\db\\importing.py:36(_select_on_level)\n",
      "       26    0.000    0.000    0.002    0.000 C:\\Users\\lworm\\Repos\\py-research\\src\\py_research\\db\\importing.py:299(_parse_pushmap)\n",
      "       11    0.000    0.000    0.001    0.000 C:\\Users\\lworm\\Repos\\py-research\\src\\py_research\\db\\base.py:452(_generic_args)\n",
      "       90    0.000    0.000    0.001    0.000 C:\\Users\\lworm\\Repos\\py-research\\src\\py_research\\db\\base.py:553(__get__)\n",
      "       55    0.000    0.000    0.001    0.000 C:\\Users\\lworm\\Repos\\py-research\\src\\py_research\\db\\base.py:456(<genexpr>)\n",
      "       52    0.000    0.000    0.001    0.000 C:\\Users\\lworm\\Repos\\py-research\\src\\py_research\\db\\base.py:1646(_index)\n",
      "       74    0.000    0.000    0.001    0.000 C:\\Users\\lworm\\Repos\\py-research\\src\\py_research\\db\\base.py:628(__get__)\n",
      "      467    0.001    0.000    0.001    0.000 C:\\Users\\lworm\\Repos\\py-research\\src\\py_research\\reflect\\ref.py:213(to_url)\n",
      "       22    0.000    0.000    0.001    0.000 C:\\Users\\lworm\\Repos\\py-research\\src\\py_research\\db\\base.py:1603(_to_dict)\n",
      "       58    0.000    0.000    0.001    0.000 C:\\Users\\lworm\\Repos\\py-research\\src\\py_research\\db\\importing.py:380(sliding_batch_map)\n",
      "       26    0.000    0.000    0.000    0.000 C:\\Users\\lworm\\Repos\\py-research\\src\\py_research\\db\\base.py:1372(__init__)\n",
      "        8    0.000    0.000    0.000    0.000 C:\\Users\\lworm\\Repos\\py-research\\src\\py_research\\db\\base.py:1363(__init_subclass__)\n",
      "       16    0.000    0.000    0.000    0.000 C:\\Users\\lworm\\Repos\\py-research\\src\\py_research\\db\\base.py:700(__get__)\n",
      "       52    0.000    0.000    0.000    0.000 C:\\Users\\lworm\\Repos\\py-research\\src\\py_research\\db\\base.py:1306(_primary_keys)\n",
      "      782    0.000    0.000    0.000    0.000 C:\\Users\\lworm\\Repos\\py-research\\src\\py_research\\db\\base.py:523(name)\n",
      "       22    0.000    0.000    0.000    0.000 C:\\Users\\lworm\\Repos\\py-research\\src\\py_research\\db\\base.py:1671(_set)\n",
      "      149    0.000    0.000    0.000    0.000 C:\\Users\\lworm\\Repos\\py-research\\src\\py_research\\db\\base.py:601(__set__)\n",
      "        9    0.000    0.000    0.000    0.000 C:\\Users\\lworm\\Repos\\py-research\\src\\py_research\\reflect\\types.py:45(get_lowest_common_base)\n",
      "       48    0.000    0.000    0.000    0.000 C:\\Users\\lworm\\Repos\\py-research\\src\\py_research\\db\\base.py:1316(_props)\n",
      "      393    0.000    0.000    0.000    0.000 C:\\Users\\lworm\\Repos\\py-research\\src\\py_research\\hashing.py:72(<genexpr>)\n",
      "      143    0.000    0.000    0.000    0.000 C:\\Users\\lworm\\Repos\\py-research\\src\\py_research\\db\\base.py:1615(getter)\n",
      "        1    0.000    0.000    0.000    0.000 C:\\Users\\lworm\\Repos\\py-research\\src\\py_research\\db\\importing.py:141(_PushMapping)\n",
      "        5    0.000    0.000    0.000    0.000 C:\\Users\\lworm\\Repos\\py-research\\src\\py_research\\reflect\\deps.py:179(version_to_range)\n",
      "       38    0.000    0.000    0.000    0.000 C:\\Users\\lworm\\Repos\\py-research\\src\\py_research\\db\\base.py:1685(__post_init__)\n",
      "        3    0.000    0.000    0.000    0.000 C:\\Users\\lworm\\Repos\\py-research\\src\\py_research\\db\\importing.py:266(select)\n",
      "        5    0.000    0.000    0.000    0.000 C:\\Users\\lworm\\Repos\\py-research\\src\\py_research\\reflect\\dist.py:23(get_module_file)\n",
      "       27    0.000    0.000    0.000    0.000 C:\\Users\\lworm\\Repos\\py-research\\src\\py_research\\reflect\\types.py:47(<genexpr>)\n",
      "        9    0.000    0.000    0.000    0.000 C:\\Users\\lworm\\Repos\\py-research\\src\\py_research\\reflect\\types.py:48(<lambda>)\n",
      "       66    0.000    0.000    0.000    0.000 C:\\Users\\lworm\\Repos\\py-research\\src\\py_research\\db\\base.py:1613(<genexpr>)\n",
      "       22    0.000    0.000    0.000    0.000 C:\\Users\\lworm\\Repos\\py-research\\src\\py_research\\db\\base.py:1575(_prop_type_map)\n",
      "        8    0.000    0.000    0.000    0.000 C:\\Users\\lworm\\Repos\\py-research\\src\\py_research\\db\\base.py:440(<lambda>)\n",
      "        3    0.000    0.000    0.000    0.000 C:\\Users\\lworm\\Repos\\py-research\\src\\py_research\\db\\base.py:1332(_rels)\n",
      "       30    0.000    0.000    0.000    0.000 C:\\Users\\lworm\\Repos\\py-research\\src\\py_research\\db\\base.py:2043(__post_init__)\n",
      "       48    0.000    0.000    0.000    0.000 C:\\Users\\lworm\\Repos\\py-research\\src\\py_research\\db\\base.py:1320(<genexpr>)\n",
      "       18    0.000    0.000    0.000    0.000 C:\\Users\\lworm\\Repos\\py-research\\src\\py_research\\reflect\\types.py:48(<genexpr>)\n",
      "       38    0.000    0.000    0.000    0.000 C:\\Users\\lworm\\Repos\\py-research\\src\\py_research\\db\\base.py:1686(<genexpr>)\n",
      "       14    0.000    0.000    0.000    0.000 C:\\Users\\lworm\\Repos\\py-research\\src\\py_research\\db\\importing.py:315(_get_selector_name)\n",
      "        6    0.000    0.000    0.000    0.000 C:\\Users\\lworm\\Repos\\py-research\\src\\py_research\\db\\importing.py:153(parse)\n",
      "        1    0.000    0.000    0.000    0.000 C:\\Users\\lworm\\Repos\\py-research\\src\\py_research\\db\\importing.py:26(TreeData)\n",
      "        3    0.000    0.000    0.000    0.000 C:\\Users\\lworm\\Repos\\py-research\\src\\py_research\\db\\importing.py:272(<genexpr>)\n",
      "        3    0.000    0.000    0.000    0.000 C:\\Users\\lworm\\Repos\\py-research\\src\\py_research\\db\\base.py:1336(<genexpr>)\n",
      "        1    0.000    0.000    0.000    0.000 C:\\Users\\lworm\\Repos\\py-research\\src\\py_research\\db\\importing.py:556(_obj_cache)\n",
      "      4/0    0.000    0.000    0.000          C:\\Users\\lworm\\Repos\\py-research\\src\\py_research\\db\\importing.py:560(load)\n",
      "\n",
      "\n"
     ]
    },
    {
     "data": {
      "text/html": [
       "<pre style=\"white-space:pre;overflow-x:auto;line-height:normal;font-family:Menlo,'DejaVu Sans Mono',consolas,'Courier New',monospace\"></pre>\n"
      ],
      "text/plain": []
     },
     "metadata": {},
     "output_type": "display_data"
    },
    {
     "data": {
      "text/plain": [
       "\u001b[1m<\u001b[0m\u001b[1;95mpstats.Stats\u001b[0m\u001b[39m object at \u001b[0m\u001b[1;36m0x000001B46E5E9AC0\u001b[0m\u001b[1m>\u001b[0m"
      ]
     },
     "execution_count": 8,
     "metadata": {},
     "output_type": "execute_result"
    }
   ],
   "source": [
    "stats.sort_stats(\"cumulative\")\n",
    "stats.print_stats(\"py_research\")"
   ]
  }
 ],
 "metadata": {
  "kernelspec": {
   "display_name": ".venv",
   "language": "python",
   "name": "python3"
  },
  "language_info": {
   "codemirror_mode": {
    "name": "ipython",
    "version": 3
   },
   "file_extension": ".py",
   "mimetype": "text/x-python",
   "name": "python",
   "nbconvert_exporter": "python",
   "pygments_lexer": "ipython3",
   "version": "3.12.4"
  }
 },
 "nbformat": 4,
 "nbformat_minor": 2
}

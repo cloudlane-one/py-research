{
 "cells": [
  {
   "cell_type": "code",
   "execution_count": 25,
   "metadata": {},
   "outputs": [],
   "source": [
    "from __future__ import annotations\n",
    "\n",
    "import cProfile\n",
    "import pstats\n",
    "from asyncio import sleep"
   ]
  },
  {
   "cell_type": "code",
   "execution_count": 26,
   "metadata": {},
   "outputs": [],
   "source": [
    "from py_research.db import (\n",
    "    DataSource,\n",
    "    TableMap,\n",
    "    SubTableMap,\n",
    "    SubMap,\n",
    "    SelIndex,\n",
    "    DataBase\n",
    ")"
   ]
  },
  {
   "cell_type": "code",
   "execution_count": 27,
   "metadata": {},
   "outputs": [],
   "source": [
    "from schema import (\n",
    "    Search,\n",
    "    Project,\n",
    "    Task,\n",
    "    User,\n",
    "    Membership,\n",
    "    Organization,\n",
    "    SearchResult,\n",
    "    TestSchema,\n",
    ")"
   ]
  },
  {
   "cell_type": "code",
   "execution_count": 28,
   "metadata": {},
   "outputs": [],
   "source": [
    "from typing import Any\n",
    "\n",
    "\n",
    "async def dummy_loader(obj: dict[str, Any]) -> dict:\n",
    "    await sleep(0.2)\n",
    "    return {\n",
    "        'name': obj[\"name\"],\n",
    "        'role': obj[\"role\"],\n",
    "        'age': obj[\"age\"] + 1\n",
    "    }"
   ]
  },
  {
   "cell_type": "code",
   "execution_count": 29,
   "metadata": {},
   "outputs": [],
   "source": [
    "data_source = DataSource(\n",
    "    target=Search,\n",
    "    push={\n",
    "        \"resultCount\": Search.result_count,\n",
    "        \"search\": Search.term,\n",
    "        \"results\": SubTableMap(\n",
    "            target=Search.results,\n",
    "            rel_map=TableMap(push={SearchResult.score}),\n",
    "            push={\n",
    "                \"project_name\": Project.name,\n",
    "                \"project_start\": Project.start,\n",
    "                \"project_end\": Project.end,\n",
    "                \"project_status\": Project.status,\n",
    "                \"tasks\": SubTableMap(\n",
    "                    target=Project.tasks,\n",
    "                    push={\n",
    "                        \"task_name\": Task.name,\n",
    "                        \"task_assignees\": SubTableMap(\n",
    "                            target=Task.assignees,\n",
    "                            push=User.name,\n",
    "                            match_by=[User.name],\n",
    "                        ),\n",
    "                        \"task_status\": Task.status,\n",
    "                    },\n",
    "                ),\n",
    "                \"members\": SubTableMap(\n",
    "                    target=Project.members,\n",
    "                    loader=dummy_loader,\n",
    "                    push={User.name, User.age},\n",
    "                    match_by=[User.name],\n",
    "                    rel_map=TableMap(\n",
    "                        push={\n",
    "                            Membership.role,\n",
    "                        },\n",
    "                    ),\n",
    "                ),\n",
    "            },\n",
    "            pull={\n",
    "                Project.org: SubMap(\n",
    "                    push={\n",
    "                        \"organization_name\": Organization.name,\n",
    "                        \"organization_address\": Organization.address,\n",
    "                        \"organization_city\": Organization.city,\n",
    "                        \"organization_countries\": Organization.ccs,\n",
    "                    },\n",
    "                    match_by=[Organization.name, Organization.city],\n",
    "                ),\n",
    "                Project.number: SelIndex()\n",
    "            },\n",
    "        ),\n",
    "    },\n",
    ")"
   ]
  },
  {
   "cell_type": "code",
   "execution_count": 30,
   "metadata": {},
   "outputs": [],
   "source": [
    "from datetime import date\n",
    "\n",
    "\n",
    "data = {\n",
    "    \"resultCount\": 3,\n",
    "    \"search\": \"test\",\n",
    "    \"results\": [\n",
    "        {\n",
    "            \"score\": 0.9,\n",
    "            \"project_name\": \"baking cake\",\n",
    "            \"project_start\": date(2020, 1, 1),\n",
    "            \"project_end\": date(2020, 1, 4),\n",
    "            \"project_status\": \"done\",\n",
    "            \"organization_name\": \"Bakery\",\n",
    "            \"organization_address\": \"Main Street 1\",\n",
    "            \"organization_city\": \"Bakerville\",\n",
    "            \"organization_countries\": [\"USA\", \"Mexico\", \"Canada\"],\n",
    "            \"tasks\": [\n",
    "                {\n",
    "                    \"task_name\": \"task1\",\n",
    "                    \"task_assignees\": [\"John\"],\n",
    "                    \"task_status\": \"todo\",\n",
    "                },\n",
    "                {\n",
    "                    \"task_name\": \"task2\",\n",
    "                    \"task_assignees\": [\"John\"],\n",
    "                    \"task_status\": \"todo\",\n",
    "                },\n",
    "                {\n",
    "                    \"task_name\": \"task3\",\n",
    "                    \"task_assignees\": [\"Jane\"],\n",
    "                    \"task_status\": \"done\",\n",
    "                },\n",
    "            ],\n",
    "            \"members\": [\n",
    "                {\"name\": \"John\", \"role\": \"baker\", \"age\": 30},\n",
    "                {\"name\": \"John\", \"role\": \"manager\", \"age\": 40},\n",
    "            ],\n",
    "        },\n",
    "        {\n",
    "            \"score\": 0.8,\n",
    "            \"project_name\": \"cleaning shoes\",\n",
    "            \"project_start\": date(2020, 1, 2),\n",
    "            \"project_end\": date(2020, 1, 5),\n",
    "            \"project_status\": \"done\",\n",
    "            \"organization_name\": \"Shoe Shop\",\n",
    "            \"organization_address\": \"Main Street 2\",\n",
    "            \"organization_city\": \"Shoetown\",\n",
    "            \"organization_countries\": [\"USA\", \"Mexico\"],\n",
    "            \"tasks\": [\n",
    "                {\n",
    "                    \"task_name\": \"task4\",\n",
    "                    \"task_assignees\": [\"John\"],\n",
    "                    \"task_status\": \"todo\",\n",
    "                },\n",
    "                {\n",
    "                    \"task_name\": \"task5\",\n",
    "                    \"task_assignees\": [\"Jane\"],\n",
    "                    \"task_status\": \"todo\",\n",
    "                },\n",
    "            ],\n",
    "            \"members\": [\n",
    "                {\"name\": \"John\", \"role\": \"cleaner\", \"age\": 25},\n",
    "                {\"name\": \"Jane\", \"role\": \"manager\", \"age\": 35},\n",
    "            ],\n",
    "        },\n",
    "        {\n",
    "            \"score\": 0.7,\n",
    "            \"project_name\": \"fixing cars\",\n",
    "            \"project_start\": date(2020, 1, 3),\n",
    "            \"project_end\": date(2020, 1, 6),\n",
    "            \"project_status\": \"started\",\n",
    "            \"organization_name\": \"Car Shop\",\n",
    "            \"organization_address\": \"Main Street 3\",\n",
    "            \"organization_city\": \"Cartown\",\n",
    "            \"organization_countries\": [\"USA\", \"Canada\"],\n",
    "            \"tasks\": [\n",
    "                {\n",
    "                    \"task_name\": \"task6\",\n",
    "                    \"task_assignees\": [\"John\"],\n",
    "                    \"task_status\": \"todo\",\n",
    "                }\n",
    "            ],\n",
    "            \"members\": [\n",
    "                {\"name\": \"John\", \"role\": \"mechanic\", \"age\": 45},\n",
    "                {\"name\": \"Jane\", \"role\": \"manager\", \"age\": 55},\n",
    "                {\"name\": \"Jack\", \"role\": \"manager\", \"age\": 65},\n",
    "            ],\n",
    "        },\n",
    "    ],\n",
    "}"
   ]
  },
  {
   "cell_type": "code",
   "execution_count": 31,
   "metadata": {},
   "outputs": [
    {
     "name": "stderr",
     "output_type": "stream",
     "text": [
      "                                                             \r"
     ]
    },
    {
     "name": "stderr",
     "output_type": "stream",
     "text": [
      "                                                                   \r"
     ]
    }
   ],
   "source": [
    "# from pathlib import Path\n",
    "import warnings\n",
    "\n",
    "with warnings.catch_warnings():\n",
    "  warnings.simplefilter(\"error\")\n",
    "  with cProfile.Profile() as pr:\n",
    "    db = DataBase(\n",
    "      schema=TestSchema, \n",
    "      # url=Path(\"./test.xlsx\")\n",
    "    )\n",
    "    rec = await data_source.load([data], db=db)\n",
    "\n",
    "    stats = pstats.Stats(pr)"
   ]
  },
  {
   "cell_type": "code",
   "execution_count": 32,
   "metadata": {},
   "outputs": [
    {
     "data": {
      "text/html": [
       "<pre style=\"white-space:pre;overflow-x:auto;line-height:normal;font-family:Menlo,'DejaVu Sans Mono',consolas,'Courier New',monospace\"></pre>\n"
      ],
      "text/plain": []
     },
     "metadata": {},
     "output_type": "display_data"
    },
    {
     "data": {
      "text/plain": [
       "\n",
       "\u001b[1m{\u001b[0m\n",
       "    \u001b[32m'schema'\u001b[0m: \u001b[1m{\u001b[0m\n",
       "        \u001b[32m'package'\u001b[0m: \u001b[32m'py-research'\u001b[0m,\n",
       "        \u001b[32m'module'\u001b[0m: \u001b[32m'schema'\u001b[0m,\n",
       "        \u001b[32m'object'\u001b[0m: \u001b[32m'TestSchema'\u001b[0m,\n",
       "        \u001b[32m'package_version'\u001b[0m: \u001b[32m'^5.1.1.dev148+g44d4d92.d20250123'\u001b[0m,\n",
       "        \u001b[32m'repo'\u001b[0m: \u001b[32m'https://github.com/cloudlane-one/py-research.git'\u001b[0m,\n",
       "        \u001b[32m'repo_revision'\u001b[0m: \u001b[32m'da00ea85acc91437b62034533f9c4372decab135'\u001b[0m,\n",
       "        \u001b[32m'module_path'\u001b[0m: \u001b[1;35mWindowsPath\u001b[0m\u001b[1m(\u001b[0m\u001b[32m'exp/schema.py'\u001b[0m\u001b[1m)\u001b[0m,\n",
       "        \u001b[32m'module_dirty'\u001b[0m: \u001b[3;91mFalse\u001b[0m,\n",
       "        \u001b[32m'docs_url'\u001b[0m: \u001b[32m'https://cloudlane-one.github.io/py-research/'\u001b[0m\n",
       "    \u001b[1m}\u001b[0m,\n",
       "    \u001b[32m'contents'\u001b[0m: \u001b[1m{\u001b[0m\n",
       "        \u001b[32m'records'\u001b[0m: \u001b[1m{\u001b[0m\n",
       "            \u001b[32m'schema.Search'\u001b[0m: \u001b[1;36m1\u001b[0m,\n",
       "            \u001b[32m'schema.Organization'\u001b[0m: \u001b[1;36m3\u001b[0m,\n",
       "            \u001b[32m'schema.Membership'\u001b[0m: \u001b[1;36m7\u001b[0m,\n",
       "            \u001b[32m'schema.Project'\u001b[0m: \u001b[1;36m3\u001b[0m,\n",
       "            \u001b[32m'schema.User'\u001b[0m: \u001b[1;36m3\u001b[0m,\n",
       "            \u001b[32m'schema.Task'\u001b[0m: \u001b[1;36m6\u001b[0m,\n",
       "            \u001b[32m'schema.SearchResult'\u001b[0m: \u001b[1;36m3\u001b[0m\n",
       "        \u001b[1m}\u001b[0m,\n",
       "        \u001b[32m'arrays'\u001b[0m: \u001b[1m{\u001b[0m\u001b[32m'schema_Organization_ccs'\u001b[0m: \u001b[1;36m8\u001b[0m\u001b[1m}\u001b[0m,\n",
       "        \u001b[32m'relations'\u001b[0m: \u001b[1m{\u001b[0m\u001b[32m'schema.Membership'\u001b[0m: \u001b[1;36m7\u001b[0m, \u001b[32m'schema.SearchResult'\u001b[0m: \u001b[1;36m3\u001b[0m\u001b[1m}\u001b[0m\n",
       "    \u001b[1m}\u001b[0m,\n",
       "    \u001b[32m'backend'\u001b[0m: \u001b[3;35mNone\u001b[0m\n",
       "\u001b[1m}\u001b[0m"
      ]
     },
     "execution_count": 32,
     "metadata": {},
     "output_type": "execute_result"
    }
   ],
   "source": [
    "db.describe()"
   ]
  },
  {
   "cell_type": "code",
   "execution_count": 33,
   "metadata": {},
   "outputs": [],
   "source": [
    "nodes, edges = db.to_graph([Search, Project, Organization])"
   ]
  },
  {
   "cell_type": "code",
   "execution_count": 34,
   "metadata": {},
   "outputs": [
    {
     "data": {
      "text/html": [
       "<pre style=\"white-space:pre;overflow-x:auto;line-height:normal;font-family:Menlo,'DejaVu Sans Mono',consolas,'Courier New',monospace\"></pre>\n"
      ],
      "text/plain": []
     },
     "metadata": {},
     "output_type": "display_data"
    },
    {
     "data": {
      "text/html": [
       "<div>\n",
       "<style scoped>\n",
       "    .dataframe tbody tr th:only-of-type {\n",
       "        vertical-align: middle;\n",
       "    }\n",
       "\n",
       "    .dataframe tbody tr th {\n",
       "        vertical-align: top;\n",
       "    }\n",
       "\n",
       "    .dataframe thead th {\n",
       "        text-align: right;\n",
       "    }\n",
       "</style>\n",
       "<table border=\"1\" class=\"dataframe\">\n",
       "  <thead>\n",
       "    <tr style=\"text-align: right;\">\n",
       "      <th></th>\n",
       "      <th>node_id</th>\n",
       "      <th>schema_Search_term</th>\n",
       "      <th>schema_Search_result_count</th>\n",
       "      <th>table</th>\n",
       "      <th>schema_Project_number</th>\n",
       "      <th>schema_Project_org__id</th>\n",
       "      <th>schema_Project_name</th>\n",
       "      <th>schema_Project_end</th>\n",
       "      <th>schema_Project_start</th>\n",
       "      <th>schema_Project_status</th>\n",
       "      <th>schema_Organization__id</th>\n",
       "      <th>schema_Organization_address</th>\n",
       "      <th>schema_Organization_name</th>\n",
       "      <th>schema_Organization_city</th>\n",
       "    </tr>\n",
       "  </thead>\n",
       "  <tbody>\n",
       "    <tr>\n",
       "      <th>0</th>\n",
       "      <td>0</td>\n",
       "      <td>test</td>\n",
       "      <td>3.0</td>\n",
       "      <td>schema_Search</td>\n",
       "      <td>NaN</td>\n",
       "      <td>NaN</td>\n",
       "      <td>NaN</td>\n",
       "      <td>NaN</td>\n",
       "      <td>NaN</td>\n",
       "      <td>NaN</td>\n",
       "      <td>NaN</td>\n",
       "      <td>NaN</td>\n",
       "      <td>NaN</td>\n",
       "      <td>NaN</td>\n",
       "    </tr>\n",
       "    <tr>\n",
       "      <th>1</th>\n",
       "      <td>1</td>\n",
       "      <td>NaN</td>\n",
       "      <td>NaN</td>\n",
       "      <td>schema_Project</td>\n",
       "      <td>0.0</td>\n",
       "      <td>f18a7b0e-4828-47f7-9b91-126cb3f9af2f</td>\n",
       "      <td>baking cake</td>\n",
       "      <td>2020-01-04</td>\n",
       "      <td>2020-01-01</td>\n",
       "      <td>done</td>\n",
       "      <td>NaN</td>\n",
       "      <td>NaN</td>\n",
       "      <td>NaN</td>\n",
       "      <td>NaN</td>\n",
       "    </tr>\n",
       "    <tr>\n",
       "      <th>2</th>\n",
       "      <td>2</td>\n",
       "      <td>NaN</td>\n",
       "      <td>NaN</td>\n",
       "      <td>schema_Project</td>\n",
       "      <td>1.0</td>\n",
       "      <td>79ba7912-a9fc-4379-b2d5-cfb3ebbd9b4e</td>\n",
       "      <td>cleaning shoes</td>\n",
       "      <td>2020-01-05</td>\n",
       "      <td>2020-01-02</td>\n",
       "      <td>done</td>\n",
       "      <td>NaN</td>\n",
       "      <td>NaN</td>\n",
       "      <td>NaN</td>\n",
       "      <td>NaN</td>\n",
       "    </tr>\n",
       "    <tr>\n",
       "      <th>3</th>\n",
       "      <td>3</td>\n",
       "      <td>NaN</td>\n",
       "      <td>NaN</td>\n",
       "      <td>schema_Project</td>\n",
       "      <td>2.0</td>\n",
       "      <td>8ba4de5f-fdad-4051-9185-c80277cd1c98</td>\n",
       "      <td>fixing cars</td>\n",
       "      <td>2020-01-06</td>\n",
       "      <td>2020-01-03</td>\n",
       "      <td>started</td>\n",
       "      <td>NaN</td>\n",
       "      <td>NaN</td>\n",
       "      <td>NaN</td>\n",
       "      <td>NaN</td>\n",
       "    </tr>\n",
       "    <tr>\n",
       "      <th>4</th>\n",
       "      <td>4</td>\n",
       "      <td>NaN</td>\n",
       "      <td>NaN</td>\n",
       "      <td>schema_Organization</td>\n",
       "      <td>NaN</td>\n",
       "      <td>NaN</td>\n",
       "      <td>NaN</td>\n",
       "      <td>NaN</td>\n",
       "      <td>NaN</td>\n",
       "      <td>NaN</td>\n",
       "      <td>f18a7b0e-4828-47f7-9b91-126cb3f9af2f</td>\n",
       "      <td>Main Street 1</td>\n",
       "      <td>Bakery</td>\n",
       "      <td>Bakerville</td>\n",
       "    </tr>\n",
       "    <tr>\n",
       "      <th>5</th>\n",
       "      <td>5</td>\n",
       "      <td>NaN</td>\n",
       "      <td>NaN</td>\n",
       "      <td>schema_Organization</td>\n",
       "      <td>NaN</td>\n",
       "      <td>NaN</td>\n",
       "      <td>NaN</td>\n",
       "      <td>NaN</td>\n",
       "      <td>NaN</td>\n",
       "      <td>NaN</td>\n",
       "      <td>8ba4de5f-fdad-4051-9185-c80277cd1c98</td>\n",
       "      <td>Main Street 2</td>\n",
       "      <td>Shoe Shop</td>\n",
       "      <td>Shoetown</td>\n",
       "    </tr>\n",
       "    <tr>\n",
       "      <th>6</th>\n",
       "      <td>6</td>\n",
       "      <td>NaN</td>\n",
       "      <td>NaN</td>\n",
       "      <td>schema_Organization</td>\n",
       "      <td>NaN</td>\n",
       "      <td>NaN</td>\n",
       "      <td>NaN</td>\n",
       "      <td>NaN</td>\n",
       "      <td>NaN</td>\n",
       "      <td>NaN</td>\n",
       "      <td>79ba7912-a9fc-4379-b2d5-cfb3ebbd9b4e</td>\n",
       "      <td>Main Street 3</td>\n",
       "      <td>Car Shop</td>\n",
       "      <td>Cartown</td>\n",
       "    </tr>\n",
       "  </tbody>\n",
       "</table>\n",
       "</div>"
      ],
      "text/plain": [
       "\n",
       "   node_id schema_Search_term  schema_Search_result_count  \\\n",
       "\u001b[1;36m0\u001b[0m        \u001b[1;36m0\u001b[0m               test                         \u001b[1;36m3.0\u001b[0m   \n",
       "\u001b[1;36m1\u001b[0m        \u001b[1;36m1\u001b[0m                NaN                         NaN   \n",
       "\u001b[1;36m2\u001b[0m        \u001b[1;36m2\u001b[0m                NaN                         NaN   \n",
       "\u001b[1;36m3\u001b[0m        \u001b[1;36m3\u001b[0m                NaN                         NaN   \n",
       "\u001b[1;36m4\u001b[0m        \u001b[1;36m4\u001b[0m                NaN                         NaN   \n",
       "\u001b[1;36m5\u001b[0m        \u001b[1;36m5\u001b[0m                NaN                         NaN   \n",
       "\u001b[1;36m6\u001b[0m        \u001b[1;36m6\u001b[0m                NaN                         NaN   \n",
       "\n",
       "                 table  schema_Project_number  \\\n",
       "\u001b[1;36m0\u001b[0m        schema_Search                    NaN   \n",
       "\u001b[1;36m1\u001b[0m       schema_Project                    \u001b[1;36m0.0\u001b[0m   \n",
       "\u001b[1;36m2\u001b[0m       schema_Project                    \u001b[1;36m1.0\u001b[0m   \n",
       "\u001b[1;36m3\u001b[0m       schema_Project                    \u001b[1;36m2.0\u001b[0m   \n",
       "\u001b[1;36m4\u001b[0m  schema_Organization                    NaN   \n",
       "\u001b[1;36m5\u001b[0m  schema_Organization                    NaN   \n",
       "\u001b[1;36m6\u001b[0m  schema_Organization                    NaN   \n",
       "\n",
       "                 schema_Project_org__id schema_Project_name  \\\n",
       "\u001b[1;36m0\u001b[0m                                   NaN                 NaN   \n",
       "\u001b[1;36m1\u001b[0m  \u001b[93mf18a7b0e-4828-47f7-9b91-126cb3f9af2f\u001b[0m         baking cake   \n",
       "\u001b[1;36m2\u001b[0m  \u001b[93m79ba7912-a9fc-4379-b2d5-cfb3ebbd9b4e\u001b[0m      cleaning shoes   \n",
       "\u001b[1;36m3\u001b[0m  \u001b[93m8ba4de5f-fdad-4051-9185-c80277cd1c98\u001b[0m         fixing cars   \n",
       "\u001b[1;36m4\u001b[0m                                   NaN                 NaN   \n",
       "\u001b[1;36m5\u001b[0m                                   NaN                 NaN   \n",
       "\u001b[1;36m6\u001b[0m                                   NaN                 NaN   \n",
       "\n",
       "  schema_Project_end schema_Project_start schema_Project_status  \\\n",
       "\u001b[1;36m0\u001b[0m                NaN                  NaN                   NaN   \n",
       "\u001b[1;36m1\u001b[0m         \u001b[1;36m2020\u001b[0m-\u001b[1;36m01\u001b[0m-\u001b[1;36m04\u001b[0m           \u001b[1;36m2020\u001b[0m-\u001b[1;36m01\u001b[0m-\u001b[1;36m01\u001b[0m                  done   \n",
       "\u001b[1;36m2\u001b[0m         \u001b[1;36m2020\u001b[0m-\u001b[1;36m01\u001b[0m-\u001b[1;36m05\u001b[0m           \u001b[1;36m2020\u001b[0m-\u001b[1;36m01\u001b[0m-\u001b[1;36m02\u001b[0m                  done   \n",
       "\u001b[1;36m3\u001b[0m         \u001b[1;36m2020\u001b[0m-\u001b[1;36m01\u001b[0m-\u001b[1;36m06\u001b[0m           \u001b[1;36m2020\u001b[0m-\u001b[1;36m01\u001b[0m-\u001b[1;36m03\u001b[0m               started   \n",
       "\u001b[1;36m4\u001b[0m                NaN                  NaN                   NaN   \n",
       "\u001b[1;36m5\u001b[0m                NaN                  NaN                   NaN   \n",
       "\u001b[1;36m6\u001b[0m                NaN                  NaN                   NaN   \n",
       "\n",
       "                schema_Organization__id schema_Organization_address  \\\n",
       "\u001b[1;36m0\u001b[0m                                   NaN                         NaN   \n",
       "\u001b[1;36m1\u001b[0m                                   NaN                         NaN   \n",
       "\u001b[1;36m2\u001b[0m                                   NaN                         NaN   \n",
       "\u001b[1;36m3\u001b[0m                                   NaN                         NaN   \n",
       "\u001b[1;36m4\u001b[0m  \u001b[93mf18a7b0e-4828-47f7-9b91-126cb3f9af2f\u001b[0m               Main Street \u001b[1;36m1\u001b[0m   \n",
       "\u001b[1;36m5\u001b[0m  \u001b[93m8ba4de5f-fdad-4051-9185-c80277cd1c98\u001b[0m               Main Street \u001b[1;36m2\u001b[0m   \n",
       "\u001b[1;36m6\u001b[0m  \u001b[93m79ba7912-a9fc-4379-b2d5-cfb3ebbd9b4e\u001b[0m               Main Street \u001b[1;36m3\u001b[0m   \n",
       "\n",
       "  schema_Organization_name schema_Organization_city  \n",
       "\u001b[1;36m0\u001b[0m                      NaN                      NaN  \n",
       "\u001b[1;36m1\u001b[0m                      NaN                      NaN  \n",
       "\u001b[1;36m2\u001b[0m                      NaN                      NaN  \n",
       "\u001b[1;36m3\u001b[0m                      NaN                      NaN  \n",
       "\u001b[1;36m4\u001b[0m                   Bakery               Bakerville  \n",
       "\u001b[1;36m5\u001b[0m                Shoe Shop                 Shoetown  \n",
       "\u001b[1;36m6\u001b[0m                 Car Shop                  Cartown  "
      ]
     },
     "execution_count": 34,
     "metadata": {},
     "output_type": "execute_result"
    }
   ],
   "source": [
    "nodes"
   ]
  },
  {
   "cell_type": "code",
   "execution_count": 35,
   "metadata": {},
   "outputs": [
    {
     "data": {
      "text/html": [
       "<pre style=\"white-space:pre;overflow-x:auto;line-height:normal;font-family:Menlo,'DejaVu Sans Mono',consolas,'Courier New',monospace\"></pre>\n"
      ],
      "text/plain": []
     },
     "metadata": {},
     "output_type": "display_data"
    },
    {
     "data": {
      "text/html": [
       "<div>\n",
       "<style scoped>\n",
       "    .dataframe tbody tr th:only-of-type {\n",
       "        vertical-align: middle;\n",
       "    }\n",
       "\n",
       "    .dataframe tbody tr th {\n",
       "        vertical-align: top;\n",
       "    }\n",
       "\n",
       "    .dataframe thead th {\n",
       "        text-align: right;\n",
       "    }\n",
       "</style>\n",
       "<table border=\"1\" class=\"dataframe\">\n",
       "  <thead>\n",
       "    <tr style=\"text-align: right;\">\n",
       "      <th></th>\n",
       "      <th>source</th>\n",
       "      <th>target</th>\n",
       "      <th>ltr</th>\n",
       "      <th>rtl</th>\n",
       "      <th>schema_SearchResult__to_number</th>\n",
       "      <th>schema_SearchResult_score</th>\n",
       "      <th>schema_SearchResult__id</th>\n",
       "      <th>schema_SearchResult__from_term</th>\n",
       "    </tr>\n",
       "  </thead>\n",
       "  <tbody>\n",
       "    <tr>\n",
       "      <th>0</th>\n",
       "      <td>1</td>\n",
       "      <td>4</td>\n",
       "      <td>org__id</td>\n",
       "      <td>None</td>\n",
       "      <td>NaN</td>\n",
       "      <td>NaN</td>\n",
       "      <td>NaN</td>\n",
       "      <td>NaN</td>\n",
       "    </tr>\n",
       "    <tr>\n",
       "      <th>1</th>\n",
       "      <td>2</td>\n",
       "      <td>6</td>\n",
       "      <td>org__id</td>\n",
       "      <td>None</td>\n",
       "      <td>NaN</td>\n",
       "      <td>NaN</td>\n",
       "      <td>NaN</td>\n",
       "      <td>NaN</td>\n",
       "    </tr>\n",
       "    <tr>\n",
       "      <th>2</th>\n",
       "      <td>3</td>\n",
       "      <td>5</td>\n",
       "      <td>org__id</td>\n",
       "      <td>None</td>\n",
       "      <td>NaN</td>\n",
       "      <td>NaN</td>\n",
       "      <td>NaN</td>\n",
       "      <td>NaN</td>\n",
       "    </tr>\n",
       "    <tr>\n",
       "      <th>3</th>\n",
       "      <td>0</td>\n",
       "      <td>1</td>\n",
       "      <td>_to_number</td>\n",
       "      <td>_from_term</td>\n",
       "      <td>0.0</td>\n",
       "      <td>0.8</td>\n",
       "      <td>2486015738</td>\n",
       "      <td>test</td>\n",
       "    </tr>\n",
       "    <tr>\n",
       "      <th>4</th>\n",
       "      <td>0</td>\n",
       "      <td>3</td>\n",
       "      <td>_to_number</td>\n",
       "      <td>_from_term</td>\n",
       "      <td>2.0</td>\n",
       "      <td>0.9</td>\n",
       "      <td>5271218892</td>\n",
       "      <td>test</td>\n",
       "    </tr>\n",
       "    <tr>\n",
       "      <th>5</th>\n",
       "      <td>0</td>\n",
       "      <td>2</td>\n",
       "      <td>_to_number</td>\n",
       "      <td>_from_term</td>\n",
       "      <td>1.0</td>\n",
       "      <td>0.7</td>\n",
       "      <td>3910210571</td>\n",
       "      <td>test</td>\n",
       "    </tr>\n",
       "  </tbody>\n",
       "</table>\n",
       "</div>"
      ],
      "text/plain": [
       "\n",
       "   source  target         ltr         rtl  schema_SearchResult__to_number  \\\n",
       "\u001b[1;36m0\u001b[0m       \u001b[1;36m1\u001b[0m       \u001b[1;36m4\u001b[0m     org__id        \u001b[3;35mNone\u001b[0m                             NaN   \n",
       "\u001b[1;36m1\u001b[0m       \u001b[1;36m2\u001b[0m       \u001b[1;36m6\u001b[0m     org__id        \u001b[3;35mNone\u001b[0m                             NaN   \n",
       "\u001b[1;36m2\u001b[0m       \u001b[1;36m3\u001b[0m       \u001b[1;36m5\u001b[0m     org__id        \u001b[3;35mNone\u001b[0m                             NaN   \n",
       "\u001b[1;36m3\u001b[0m       \u001b[1;36m0\u001b[0m       \u001b[1;36m1\u001b[0m  _to_number  _from_term                             \u001b[1;36m0.0\u001b[0m   \n",
       "\u001b[1;36m4\u001b[0m       \u001b[1;36m0\u001b[0m       \u001b[1;36m3\u001b[0m  _to_number  _from_term                             \u001b[1;36m2.0\u001b[0m   \n",
       "\u001b[1;36m5\u001b[0m       \u001b[1;36m0\u001b[0m       \u001b[1;36m2\u001b[0m  _to_number  _from_term                             \u001b[1;36m1.0\u001b[0m   \n",
       "\n",
       "   schema_SearchResult_score schema_SearchResult__id  \\\n",
       "\u001b[1;36m0\u001b[0m                        NaN                     NaN   \n",
       "\u001b[1;36m1\u001b[0m                        NaN                     NaN   \n",
       "\u001b[1;36m2\u001b[0m                        NaN                     NaN   \n",
       "\u001b[1;36m3\u001b[0m                        \u001b[1;36m0.8\u001b[0m              \u001b[1;36m2486015738\u001b[0m   \n",
       "\u001b[1;36m4\u001b[0m                        \u001b[1;36m0.9\u001b[0m              \u001b[1;36m5271218892\u001b[0m   \n",
       "\u001b[1;36m5\u001b[0m                        \u001b[1;36m0.7\u001b[0m              \u001b[1;36m3910210571\u001b[0m   \n",
       "\n",
       "  schema_SearchResult__from_term  \n",
       "\u001b[1;36m0\u001b[0m                            NaN  \n",
       "\u001b[1;36m1\u001b[0m                            NaN  \n",
       "\u001b[1;36m2\u001b[0m                            NaN  \n",
       "\u001b[1;36m3\u001b[0m                           test  \n",
       "\u001b[1;36m4\u001b[0m                           test  \n",
       "\u001b[1;36m5\u001b[0m                           test  "
      ]
     },
     "execution_count": 35,
     "metadata": {},
     "output_type": "execute_result"
    }
   ],
   "source": [
    "edges"
   ]
  },
  {
   "cell_type": "code",
   "execution_count": 36,
   "metadata": {},
   "outputs": [
    {
     "data": {
      "text/html": [
       "<pre style=\"white-space:pre;overflow-x:auto;line-height:normal;font-family:Menlo,'DejaVu Sans Mono',consolas,'Courier New',monospace\"></pre>\n"
      ],
      "text/plain": []
     },
     "metadata": {},
     "output_type": "display_data"
    },
    {
     "data": {
      "text/plain": [
       "\n",
       "\u001b[1m[\u001b[0m\n",
       "    \u001b[1;35mUser\u001b[0m\u001b[1m(\u001b[0m\u001b[1m{\u001b[0m\u001b[32m'_id'\u001b[0m: \u001b[32m'ba13df4c-0a32-4b0d-b367-d0f9c1f2c5c6'\u001b[0m, \u001b[32m'name'\u001b[0m: \u001b[32m'John'\u001b[0m, \u001b[32m'age'\u001b[0m: \u001b[1;36m31\u001b[0m\u001b[1m}\u001b[0m\u001b[1m)\u001b[0m,\n",
       "    \u001b[1;35mUser\u001b[0m\u001b[1m(\u001b[0m\u001b[1m{\u001b[0m\u001b[32m'_id'\u001b[0m: \u001b[32m'4e9a1dd1-3a18-4f8b-b95c-37652aa238d2'\u001b[0m, \u001b[32m'name'\u001b[0m: \u001b[32m'Jane'\u001b[0m, \u001b[32m'age'\u001b[0m: \u001b[1;36m56\u001b[0m\u001b[1m}\u001b[0m\u001b[1m)\u001b[0m,\n",
       "    \u001b[1;35mUser\u001b[0m\u001b[1m(\u001b[0m\u001b[1m{\u001b[0m\u001b[32m'_id'\u001b[0m: \u001b[32m'4c8b4002-7a0a-48a4-a624-5b64f3160562'\u001b[0m, \u001b[32m'name'\u001b[0m: \u001b[32m'Jack'\u001b[0m, \u001b[32m'age'\u001b[0m: \u001b[1;36m66\u001b[0m\u001b[1m}\u001b[0m\u001b[1m)\u001b[0m\n",
       "\u001b[1m]\u001b[0m"
      ]
     },
     "execution_count": 36,
     "metadata": {},
     "output_type": "execute_result"
    }
   ],
   "source": [
    "db[User].values()"
   ]
  },
  {
   "cell_type": "code",
   "execution_count": 37,
   "metadata": {},
   "outputs": [
    {
     "data": {
      "text/html": [
       "<pre style=\"white-space:pre;overflow-x:auto;line-height:normal;font-family:Menlo,'DejaVu Sans Mono',consolas,'Courier New',monospace\"></pre>\n"
      ],
      "text/plain": []
     },
     "metadata": {},
     "output_type": "display_data"
    },
    {
     "data": {
      "text/plain": [
       "\u001b[1m[\u001b[0m\u001b[32m'test'\u001b[0m\u001b[1m]\u001b[0m"
      ]
     },
     "execution_count": 37,
     "metadata": {},
     "output_type": "execute_result"
    }
   ],
   "source": [
    "db[Search.term].values()"
   ]
  },
  {
   "cell_type": "code",
   "execution_count": 38,
   "metadata": {},
   "outputs": [
    {
     "data": {
      "text/html": [
       "<pre style=\"white-space:pre;overflow-x:auto;line-height:normal;font-family:Menlo,'DejaVu Sans Mono',consolas,'Courier New',monospace\"></pre>\n"
      ],
      "text/plain": []
     },
     "metadata": {},
     "output_type": "display_data"
    },
    {
     "data": {
      "text/plain": [
       "\u001b[1m[\u001b[0m\u001b[1m(\u001b[0m\u001b[32m'test'\u001b[0m, \u001b[1;36m3\u001b[0m\u001b[1m)\u001b[0m\u001b[1m]\u001b[0m"
      ]
     },
     "execution_count": 38,
     "metadata": {},
     "output_type": "execute_result"
    }
   ],
   "source": [
    "list(db[Search.result_count].items())"
   ]
  },
  {
   "cell_type": "code",
   "execution_count": 39,
   "metadata": {},
   "outputs": [
    {
     "data": {
      "text/html": [
       "<pre style=\"white-space:pre;overflow-x:auto;line-height:normal;font-family:Menlo,'DejaVu Sans Mono',consolas,'Courier New',monospace\"></pre>\n"
      ],
      "text/plain": []
     },
     "metadata": {},
     "output_type": "display_data"
    },
    {
     "data": {
      "text/plain": [
       "\n",
       "\u001b[1m[\u001b[0m\n",
       "    \u001b[1m(\u001b[0m\n",
       "        \u001b[1m(\u001b[0m\u001b[32m'test'\u001b[0m, \u001b[32m'f18a7b0e-4828-47f7-9b91-126cb3f9af2f'\u001b[0m, \u001b[1;36m0\u001b[0m\u001b[1m)\u001b[0m,\n",
       "        \u001b[1;35mOrganization\u001b[0m\u001b[1m(\u001b[0m\u001b[1m{\u001b[0m\u001b[32m'_id'\u001b[0m: \u001b[32m'f18a7b0e-4828-47f7-9b91-126cb3f9af2f'\u001b[0m, \u001b[32m'name'\u001b[0m: \u001b[32m'Bakery'\u001b[0m, \u001b[32m'address'\u001b[0m: \u001b[32m'Main Street 1'\u001b[0m, \u001b[32m'city'\u001b[0m: \u001b[32m'Bakerville'\u001b[0m\u001b[1m}\u001b[0m\u001b[1m)\u001b[0m\n",
       "    \u001b[1m)\u001b[0m,\n",
       "    \u001b[1m(\u001b[0m\n",
       "        \u001b[1m(\u001b[0m\u001b[32m'test'\u001b[0m, \u001b[32m'8ba4de5f-fdad-4051-9185-c80277cd1c98'\u001b[0m, \u001b[1;36m2\u001b[0m\u001b[1m)\u001b[0m,\n",
       "        \u001b[1;35mOrganization\u001b[0m\u001b[1m(\u001b[0m\u001b[1m{\u001b[0m\u001b[32m'_id'\u001b[0m: \u001b[32m'8ba4de5f-fdad-4051-9185-c80277cd1c98'\u001b[0m, \u001b[32m'name'\u001b[0m: \u001b[32m'Shoe Shop'\u001b[0m, \u001b[32m'address'\u001b[0m: \u001b[32m'Main Street 2'\u001b[0m, \u001b[32m'city'\u001b[0m: \u001b[32m'Shoetown'\u001b[0m\u001b[1m}\u001b[0m\u001b[1m)\u001b[0m\n",
       "    \u001b[1m)\u001b[0m,\n",
       "    \u001b[1m(\u001b[0m\n",
       "        \u001b[1m(\u001b[0m\u001b[32m'test'\u001b[0m, \u001b[32m'79ba7912-a9fc-4379-b2d5-cfb3ebbd9b4e'\u001b[0m, \u001b[1;36m1\u001b[0m\u001b[1m)\u001b[0m,\n",
       "        \u001b[1;35mOrganization\u001b[0m\u001b[1m(\u001b[0m\u001b[1m{\u001b[0m\u001b[32m'_id'\u001b[0m: \u001b[32m'79ba7912-a9fc-4379-b2d5-cfb3ebbd9b4e'\u001b[0m, \u001b[32m'name'\u001b[0m: \u001b[32m'Car Shop'\u001b[0m, \u001b[32m'address'\u001b[0m: \u001b[32m'Main Street 3'\u001b[0m, \u001b[32m'city'\u001b[0m: \u001b[32m'Cartown'\u001b[0m\u001b[1m}\u001b[0m\u001b[1m)\u001b[0m\n",
       "    \u001b[1m)\u001b[0m\n",
       "\u001b[1m]\u001b[0m"
      ]
     },
     "execution_count": 39,
     "metadata": {},
     "output_type": "execute_result"
    }
   ],
   "source": [
    "list(db[Search.results.x.org].items())"
   ]
  },
  {
   "cell_type": "code",
   "execution_count": 40,
   "metadata": {},
   "outputs": [
    {
     "data": {
      "text/html": [
       "<pre style=\"white-space:pre;overflow-x:auto;line-height:normal;font-family:Menlo,'DejaVu Sans Mono',consolas,'Courier New',monospace\"></pre>\n"
      ],
      "text/plain": []
     },
     "metadata": {},
     "output_type": "display_data"
    },
    {
     "data": {
      "text/plain": [
       "\u001b[1;36m2020\u001b[0m"
      ]
     },
     "execution_count": 40,
     "metadata": {},
     "output_type": "execute_result"
    }
   ],
   "source": [
    "list(db[Search.results].items())[0][1].start.year"
   ]
  },
  {
   "cell_type": "code",
   "execution_count": 41,
   "metadata": {},
   "outputs": [
    {
     "data": {
      "text/html": [
       "<pre style=\"white-space:pre;overflow-x:auto;line-height:normal;font-family:Menlo,'DejaVu Sans Mono',consolas,'Courier New',monospace\"></pre>\n"
      ],
      "text/plain": []
     },
     "metadata": {},
     "output_type": "display_data"
    },
    {
     "data": {
      "text/plain": [
       "\u001b[1m[\u001b[0m\u001b[32m'number'\u001b[0m, \u001b[32m'name'\u001b[0m, \u001b[32m'start'\u001b[0m, \u001b[32m'end'\u001b[0m, \u001b[32m'status'\u001b[0m, \u001b[32m'org__id'\u001b[0m\u001b[1m]\u001b[0m"
      ]
     },
     "execution_count": 41,
     "metadata": {},
     "output_type": "execute_result"
    }
   ],
   "source": [
    "list(db[Search.results]._abs_cols.keys())"
   ]
  },
  {
   "cell_type": "code",
   "execution_count": 42,
   "metadata": {},
   "outputs": [
    {
     "data": {
      "text/html": [
       "<pre style=\"white-space:pre;overflow-x:auto;line-height:normal;font-family:Menlo,'DejaVu Sans Mono',consolas,'Courier New',monospace\"></pre>\n"
      ],
      "text/plain": []
     },
     "metadata": {},
     "output_type": "display_data"
    },
    {
     "data": {
      "text/html": [
       "<div><style>\n",
       ".dataframe > thead > tr,\n",
       ".dataframe > tbody > tr {\n",
       "  text-align: right;\n",
       "  white-space: pre-wrap;\n",
       "}\n",
       "</style>\n",
       "<small>shape: (3, 7)</small><table border=\"1\" class=\"dataframe\"><thead><tr><th>schema_Search_term</th><th>start</th><th>end</th><th>status</th><th>number</th><th>name</th><th>org__id</th></tr><tr><td>str</td><td>date</td><td>date</td><td>str</td><td>i64</td><td>str</td><td>str</td></tr></thead><tbody><tr><td>&quot;test&quot;</td><td>2020-01-01</td><td>2020-01-04</td><td>&quot;done&quot;</td><td>0</td><td>&quot;baking cake&quot;</td><td>&quot;f18a7b0e-4828-47f7-9b91-126cb3…</td></tr><tr><td>&quot;test&quot;</td><td>2020-01-03</td><td>2020-01-06</td><td>&quot;started&quot;</td><td>2</td><td>&quot;fixing cars&quot;</td><td>&quot;8ba4de5f-fdad-4051-9185-c80277…</td></tr><tr><td>&quot;test&quot;</td><td>2020-01-02</td><td>2020-01-05</td><td>&quot;done&quot;</td><td>1</td><td>&quot;cleaning shoes&quot;</td><td>&quot;79ba7912-a9fc-4379-b2d5-cfb3eb…</td></tr></tbody></table></div>"
      ],
      "text/plain": [
       "\n",
       "shape: \u001b[1m(\u001b[0m\u001b[1;36m3\u001b[0m, \u001b[1;36m7\u001b[0m\u001b[1m)\u001b[0m\n",
       "┌──────────────────┬────────────┬────────────┬─────────┬────────┬────────────────┬─────────────────┐\n",
       "│ schema_Search_te ┆ start      ┆ end        ┆ status  ┆ number ┆ name           ┆ org__id         │\n",
       "│ rm               ┆ ---        ┆ ---        ┆ ---     ┆ ---    ┆ ---            ┆ ---             │\n",
       "│ ---              ┆ date       ┆ date       ┆ str     ┆ i64    ┆ str            ┆ str             │\n",
       "│ str              ┆            ┆            ┆         ┆        ┆                ┆                 │\n",
       "╞══════════════════╪════════════╪════════════╪═════════╪════════╪════════════════╪═════════════════╡\n",
       "│ test             ┆ \u001b[1;36m2020\u001b[0m-\u001b[1;36m01\u001b[0m-\u001b[1;36m01\u001b[0m ┆ \u001b[1;36m2020\u001b[0m-\u001b[1;36m01\u001b[0m-\u001b[1;36m04\u001b[0m ┆ done    ┆ \u001b[1;36m0\u001b[0m      ┆ baking cake    ┆ f18a7b0e-\u001b[1;36m4828\u001b[0m-\u001b[1;36m4\u001b[0m │\n",
       "│                  ┆            ┆            ┆         ┆        ┆                ┆ 7f7-9b91-126cb3 │\n",
       "│                  ┆            ┆            ┆         ┆        ┆                ┆ …               │\n",
       "│ test             ┆ \u001b[1;36m2020\u001b[0m-\u001b[1;36m01\u001b[0m-\u001b[1;36m03\u001b[0m ┆ \u001b[1;36m2020\u001b[0m-\u001b[1;36m01\u001b[0m-\u001b[1;36m06\u001b[0m ┆ started ┆ \u001b[1;36m2\u001b[0m      ┆ fixing cars    ┆ 8ba4de5f-fdad-\u001b[1;36m4\u001b[0m │\n",
       "│                  ┆            ┆            ┆         ┆        ┆                ┆ \u001b[1;36m051\u001b[0m-\u001b[1;36m9185\u001b[0m-c80277 │\n",
       "│                  ┆            ┆            ┆         ┆        ┆                ┆ …               │\n",
       "│ test             ┆ \u001b[1;36m2020\u001b[0m-\u001b[1;36m01\u001b[0m-\u001b[1;36m02\u001b[0m ┆ \u001b[1;36m2020\u001b[0m-\u001b[1;36m01\u001b[0m-\u001b[1;36m05\u001b[0m ┆ done    ┆ \u001b[1;36m1\u001b[0m      ┆ cleaning shoes ┆ 79ba7912-a9fc-\u001b[1;36m4\u001b[0m │\n",
       "│                  ┆            ┆            ┆         ┆        ┆                ┆ \u001b[1;36m379\u001b[0m-b2d5-cfb3eb │\n",
       "│                  ┆            ┆            ┆         ┆        ┆                ┆ …               │\n",
       "└──────────────────┴────────────┴────────────┴─────────┴────────┴────────────────┴─────────────────┘"
      ]
     },
     "execution_count": 42,
     "metadata": {},
     "output_type": "execute_result"
    }
   ],
   "source": [
    "db[Search.results].df()"
   ]
  },
  {
   "cell_type": "code",
   "execution_count": 43,
   "metadata": {},
   "outputs": [
    {
     "data": {
      "text/html": [
       "<pre style=\"white-space:pre;overflow-x:auto;line-height:normal;font-family:Menlo,'DejaVu Sans Mono',consolas,'Courier New',monospace\"></pre>\n"
      ],
      "text/plain": []
     },
     "metadata": {},
     "output_type": "display_data"
    },
    {
     "data": {
      "text/html": [
       "<div><style>\n",
       ".dataframe > thead > tr,\n",
       ".dataframe > tbody > tr {\n",
       "  text-align: right;\n",
       "  white-space: pre-wrap;\n",
       "}\n",
       "</style>\n",
       "<small>shape: (3, 6)</small><table border=\"1\" class=\"dataframe\"><thead><tr><th>_id</th><th>schema_Search_results_number</th><th>name</th><th>address</th><th>city</th><th>schema_Search_term</th></tr><tr><td>str</td><td>i64</td><td>str</td><td>str</td><td>str</td><td>str</td></tr></thead><tbody><tr><td>&quot;f18a7b0e-4828-47f7-9b91-126cb3…</td><td>0</td><td>&quot;Bakery&quot;</td><td>&quot;Main Street 1&quot;</td><td>&quot;Bakerville&quot;</td><td>&quot;test&quot;</td></tr><tr><td>&quot;8ba4de5f-fdad-4051-9185-c80277…</td><td>2</td><td>&quot;Shoe Shop&quot;</td><td>&quot;Main Street 2&quot;</td><td>&quot;Shoetown&quot;</td><td>&quot;test&quot;</td></tr><tr><td>&quot;79ba7912-a9fc-4379-b2d5-cfb3eb…</td><td>1</td><td>&quot;Car Shop&quot;</td><td>&quot;Main Street 3&quot;</td><td>&quot;Cartown&quot;</td><td>&quot;test&quot;</td></tr></tbody></table></div>"
      ],
      "text/plain": [
       "\n",
       "shape: \u001b[1m(\u001b[0m\u001b[1;36m3\u001b[0m, \u001b[1;36m6\u001b[0m\u001b[1m)\u001b[0m\n",
       "┌───────────────────┬──────────────────┬───────────┬───────────────┬────────────┬──────────────────┐\n",
       "│ _id               ┆ schema_Search_re ┆ name      ┆ address       ┆ city       ┆ schema_Search_te │\n",
       "│ ---               ┆ sults_number     ┆ ---       ┆ ---           ┆ ---        ┆ rm               │\n",
       "│ str               ┆ ---              ┆ str       ┆ str           ┆ str        ┆ ---              │\n",
       "│                   ┆ i64              ┆           ┆               ┆            ┆ str              │\n",
       "╞═══════════════════╪══════════════════╪═══════════╪═══════════════╪════════════╪══════════════════╡\n",
       "│ f18a7b0e-\u001b[1;36m4828\u001b[0m-47f ┆ \u001b[1;36m0\u001b[0m                ┆ Bakery    ┆ Main Street \u001b[1;36m1\u001b[0m ┆ Bakerville ┆ test             │\n",
       "│ \u001b[1;36m7\u001b[0m-9b91-126cb3…    ┆                  ┆           ┆               ┆            ┆                  │\n",
       "│ 8ba4de5f-fdad-\u001b[1;36m405\u001b[0m ┆ \u001b[1;36m2\u001b[0m                ┆ Shoe Shop ┆ Main Street \u001b[1;36m2\u001b[0m ┆ Shoetown   ┆ test             │\n",
       "│ \u001b[1;36m1\u001b[0m-\u001b[1;36m9185\u001b[0m-c80277…    ┆                  ┆           ┆               ┆            ┆                  │\n",
       "│ 79ba7912-a9fc-\u001b[1;36m437\u001b[0m ┆ \u001b[1;36m1\u001b[0m                ┆ Car Shop  ┆ Main Street \u001b[1;36m3\u001b[0m ┆ Cartown    ┆ test             │\n",
       "│ \u001b[1;36m9\u001b[0m-b2d5-cfb3eb…    ┆                  ┆           ┆               ┆            ┆                  │\n",
       "└───────────────────┴──────────────────┴───────────┴───────────────┴────────────┴──────────────────┘"
      ]
     },
     "execution_count": 43,
     "metadata": {},
     "output_type": "execute_result"
    }
   ],
   "source": [
    "db[Search.results.x.org].df()"
   ]
  },
  {
   "cell_type": "code",
   "execution_count": 44,
   "metadata": {},
   "outputs": [
    {
     "data": {
      "text/html": [
       "<pre style=\"white-space:pre;overflow-x:auto;line-height:normal;font-family:Menlo,'DejaVu Sans Mono',consolas,'Courier New',monospace\"></pre>\n"
      ],
      "text/plain": []
     },
     "metadata": {},
     "output_type": "display_data"
    },
    {
     "data": {
      "text/html": [
       "<div><style>\n",
       ".dataframe > thead > tr,\n",
       ".dataframe > tbody > tr {\n",
       "  text-align: right;\n",
       "  white-space: pre-wrap;\n",
       "}\n",
       "</style>\n",
       "<small>shape: (3, 4)</small><table border=\"1\" class=\"dataframe\"><thead><tr><th>_id</th><th>name</th><th>city</th><th>address</th></tr><tr><td>str</td><td>str</td><td>str</td><td>str</td></tr></thead><tbody><tr><td>&quot;f18a7b0e-4828-47f7-9b91-126cb3…</td><td>&quot;Bakery&quot;</td><td>&quot;Bakerville&quot;</td><td>&quot;Main Street 1&quot;</td></tr><tr><td>&quot;8ba4de5f-fdad-4051-9185-c80277…</td><td>&quot;Shoe Shop&quot;</td><td>&quot;Shoetown&quot;</td><td>&quot;Main Street 2&quot;</td></tr><tr><td>&quot;79ba7912-a9fc-4379-b2d5-cfb3eb…</td><td>&quot;Car Shop&quot;</td><td>&quot;Cartown&quot;</td><td>&quot;Main Street 3&quot;</td></tr></tbody></table></div>"
      ],
      "text/plain": [
       "\n",
       "shape: \u001b[1m(\u001b[0m\u001b[1;36m3\u001b[0m, \u001b[1;36m4\u001b[0m\u001b[1m)\u001b[0m\n",
       "┌─────────────────────────────────┬───────────┬────────────┬───────────────┐\n",
       "│ _id                             ┆ name      ┆ city       ┆ address       │\n",
       "│ ---                             ┆ ---       ┆ ---        ┆ ---           │\n",
       "│ str                             ┆ str       ┆ str        ┆ str           │\n",
       "╞═════════════════════════════════╪═══════════╪════════════╪═══════════════╡\n",
       "│ f18a7b0e-\u001b[1;36m4828\u001b[0m-47f7-9b91-126cb3… ┆ Bakery    ┆ Bakerville ┆ Main Street \u001b[1;36m1\u001b[0m │\n",
       "│ 8ba4de5f-fdad-\u001b[1;36m4051\u001b[0m-\u001b[1;36m9185\u001b[0m-c80277… ┆ Shoe Shop ┆ Shoetown   ┆ Main Street \u001b[1;36m2\u001b[0m │\n",
       "│ 79ba7912-a9fc-\u001b[1;36m4379\u001b[0m-b2d5-cfb3eb… ┆ Car Shop  ┆ Cartown    ┆ Main Street \u001b[1;36m3\u001b[0m │\n",
       "└─────────────────────────────────┴───────────┴────────────┴───────────────┘"
      ]
     },
     "execution_count": 44,
     "metadata": {},
     "output_type": "execute_result"
    }
   ],
   "source": [
    "db[Organization].df()"
   ]
  },
  {
   "cell_type": "code",
   "execution_count": 45,
   "metadata": {},
   "outputs": [
    {
     "data": {
      "text/html": [
       "<pre style=\"white-space:pre;overflow-x:auto;line-height:normal;font-family:Menlo,'DejaVu Sans Mono',consolas,'Courier New',monospace\"></pre>\n"
      ],
      "text/plain": []
     },
     "metadata": {},
     "output_type": "display_data"
    },
    {
     "data": {
      "text/html": [
       "<div><style>\n",
       ".dataframe > thead > tr,\n",
       ".dataframe > tbody > tr {\n",
       "  text-align: right;\n",
       "  white-space: pre-wrap;\n",
       "}\n",
       "</style>\n",
       "<small>shape: (1, 4)</small><table border=\"1\" class=\"dataframe\"><thead><tr><th>_to_number</th><th>_id</th><th>score</th><th>_from_term</th></tr><tr><td>i64</td><td>str</td><td>f64</td><td>str</td></tr></thead><tbody><tr><td>2</td><td>&quot;5271218892&quot;</td><td>0.9</td><td>&quot;test&quot;</td></tr></tbody></table></div>"
      ],
      "text/plain": [
       "\n",
       "shape: \u001b[1m(\u001b[0m\u001b[1;36m1\u001b[0m, \u001b[1;36m4\u001b[0m\u001b[1m)\u001b[0m\n",
       "┌────────────┬────────────┬───────┬────────────┐\n",
       "│ _to_number ┆ _id        ┆ score ┆ _from_term │\n",
       "│ ---        ┆ ---        ┆ ---   ┆ ---        │\n",
       "│ i64        ┆ str        ┆ f64   ┆ str        │\n",
       "╞════════════╪════════════╪═══════╪════════════╡\n",
       "│ \u001b[1;36m2\u001b[0m          ┆ \u001b[1;36m5271218892\u001b[0m ┆ \u001b[1;36m0.9\u001b[0m   ┆ test       │\n",
       "└────────────┴────────────┴───────┴────────────┘"
      ]
     },
     "execution_count": 45,
     "metadata": {},
     "output_type": "execute_result"
    }
   ],
   "source": [
    "db[SearchResult._table[SearchResult.score.isin(slice(0.81, 0.9))]].df()"
   ]
  },
  {
   "cell_type": "code",
   "execution_count": 46,
   "metadata": {},
   "outputs": [
    {
     "data": {
      "text/html": [
       "<pre style=\"white-space:pre;overflow-x:auto;line-height:normal;font-family:Menlo,'DejaVu Sans Mono',consolas,'Courier New',monospace\"></pre>\n"
      ],
      "text/plain": []
     },
     "metadata": {},
     "output_type": "display_data"
    },
    {
     "data": {
      "text/html": [
       "<div>\n",
       "<style scoped>\n",
       "    .dataframe tbody tr th:only-of-type {\n",
       "        vertical-align: middle;\n",
       "    }\n",
       "\n",
       "    .dataframe tbody tr th {\n",
       "        vertical-align: top;\n",
       "    }\n",
       "\n",
       "    .dataframe thead th {\n",
       "        text-align: right;\n",
       "    }\n",
       "</style>\n",
       "<table border=\"1\" class=\"dataframe\">\n",
       "  <thead>\n",
       "    <tr style=\"text-align: right;\">\n",
       "      <th></th>\n",
       "      <th></th>\n",
       "      <th>value</th>\n",
       "    </tr>\n",
       "    <tr>\n",
       "      <th>schema_Organization__id</th>\n",
       "      <th>schema_Organization_ccs_idx</th>\n",
       "      <th></th>\n",
       "    </tr>\n",
       "  </thead>\n",
       "  <tbody>\n",
       "    <tr>\n",
       "      <th rowspan=\"3\" valign=\"top\">f18a7b0e-4828-47f7-9b91-126cb3f9af2f</th>\n",
       "      <th>0</th>\n",
       "      <td>USA</td>\n",
       "    </tr>\n",
       "    <tr>\n",
       "      <th>1</th>\n",
       "      <td>Mexico</td>\n",
       "    </tr>\n",
       "    <tr>\n",
       "      <th>2</th>\n",
       "      <td>Canada</td>\n",
       "    </tr>\n",
       "    <tr>\n",
       "      <th rowspan=\"2\" valign=\"top\">79ba7912-a9fc-4379-b2d5-cfb3ebbd9b4e</th>\n",
       "      <th>0</th>\n",
       "      <td>USA</td>\n",
       "    </tr>\n",
       "    <tr>\n",
       "      <th>1</th>\n",
       "      <td>Canada</td>\n",
       "    </tr>\n",
       "    <tr>\n",
       "      <th rowspan=\"3\" valign=\"top\">8ba4de5f-fdad-4051-9185-c80277cd1c98</th>\n",
       "      <th>0</th>\n",
       "      <td>USA</td>\n",
       "    </tr>\n",
       "    <tr>\n",
       "      <th>1</th>\n",
       "      <td>Mexico</td>\n",
       "    </tr>\n",
       "    <tr>\n",
       "      <th>2</th>\n",
       "      <td>Canada</td>\n",
       "    </tr>\n",
       "  </tbody>\n",
       "</table>\n",
       "</div>"
      ],
      "text/plain": [
       "\n",
       "                                                                   value\n",
       "schema_Organization__id              schema_Organization_ccs_idx        \n",
       "\u001b[93mf18a7b0e-4828-47f7-9b91-126cb3f9af2f\u001b[0m \u001b[1;36m0\u001b[0m                               USA\n",
       "                                     \u001b[1;36m1\u001b[0m                            Mexico\n",
       "                                     \u001b[1;36m2\u001b[0m                            Canada\n",
       "\u001b[93m79ba7912-a9fc-4379-b2d5-cfb3ebbd9b4e\u001b[0m \u001b[1;36m0\u001b[0m                               USA\n",
       "                                     \u001b[1;36m1\u001b[0m                            Canada\n",
       "\u001b[93m8ba4de5f-fdad-4051-9185-c80277cd1c98\u001b[0m \u001b[1;36m0\u001b[0m                               USA\n",
       "                                     \u001b[1;36m1\u001b[0m                            Mexico\n",
       "                                     \u001b[1;36m2\u001b[0m                            Canada"
      ]
     },
     "execution_count": 46,
     "metadata": {},
     "output_type": "execute_result"
    }
   ],
   "source": [
    "import pandas as pd\n",
    "\n",
    "\n",
    "db[Organization.ccs].df(pd.DataFrame)"
   ]
  },
  {
   "cell_type": "code",
   "execution_count": 47,
   "metadata": {},
   "outputs": [
    {
     "name": "stdout",
     "output_type": "stream",
     "text": [
      "         387482 function calls (360898 primitive calls) in 0.692 seconds\n",
      "\n",
      "   Ordered by: cumulative time\n",
      "   List reduced from 1800 to 153 due to restriction <'py_research'>\n",
      "\n",
      "   ncalls  tottime  percall  cumtime  percall filename:lineno(function)\n",
      "       52    0.000    0.000    0.263    0.005 C:\\Users\\lworm\\Repos\\py-research\\src\\py_research\\db\\datasources.py:697(_load_rec_from_item)\n",
      "       52    0.001    0.000    0.263    0.005 C:\\Users\\lworm\\Repos\\py-research\\src\\py_research\\db\\datasources.py:572(_load_record)\n",
      "       19    0.000    0.000    0.240    0.013 C:\\Users\\lworm\\Repos\\py-research\\src\\py_research\\db\\databases.py:1496(__ior__)\n",
      "       19    0.001    0.000    0.239    0.013 C:\\Users\\lworm\\Repos\\py-research\\src\\py_research\\db\\databases.py:2958(_mutate)\n",
      "       56    0.000    0.000    0.220    0.004 C:\\Users\\lworm\\Repos\\py-research\\src\\py_research\\db\\datasources.py:838(load)\n",
      "   168/57    0.001    0.000    0.203    0.004 C:\\Users\\lworm\\Repos\\py-research\\src\\py_research\\db\\datasources.py:665(_load_records)\n",
      "       17    0.000    0.000    0.191    0.011 C:\\Users\\lworm\\Repos\\py-research\\src\\py_research\\db\\databases.py:3095(_mutate_from_records)\n",
      "       16    0.000    0.000    0.150    0.009 C:\\Users\\lworm\\Repos\\py-research\\src\\py_research\\db\\databases.py:2932(_df_to_table)\n",
      "13385/6788    0.015    0.000    0.149    0.000 C:\\Users\\lworm\\Repos\\py-research\\src\\py_research\\caching.py:382(__get__)\n",
      "       45    0.000    0.000    0.149    0.003 C:\\Users\\lworm\\Repos\\py-research\\src\\py_research\\db\\databases.py:724(keys)\n",
      "       45    0.001    0.000    0.147    0.003 C:\\Users\\lworm\\Repos\\py-research\\src\\py_research\\db\\databases.py:889(df)\n",
      "       47    0.000    0.000    0.116    0.002 C:\\Users\\lworm\\Repos\\py-research\\src\\py_research\\caching.py:364(__call__)\n",
      "       47    0.001    0.000    0.115    0.002 C:\\Users\\lworm\\Repos\\py-research\\src\\py_research\\db\\databases.py:637(select)\n",
      " 5698/247    0.007    0.000    0.056    0.000 C:\\Users\\lworm\\Repos\\py-research\\src\\py_research\\hashing.py:54(inner)\n",
      " 5698/247    0.016    0.000    0.054    0.000 C:\\Users\\lworm\\Repos\\py-research\\src\\py_research\\hashing.py:69(gen_int_hash)\n",
      "       47    0.000    0.000    0.054    0.001 C:\\Users\\lworm\\Repos\\py-research\\src\\py_research\\db\\databases.py:2389(_sql_joins)\n",
      "       47    0.000    0.000    0.053    0.001 C:\\Users\\lworm\\Repos\\py-research\\src\\py_research\\db\\databases.py:2339(_total_join_dict)\n",
      "      220    0.001    0.000    0.053    0.000 C:\\Users\\lworm\\Repos\\py-research\\src\\py_research\\db\\databases.py:680(__hash__)\n",
      "  830/267    0.001    0.000    0.052    0.000 C:\\Users\\lworm\\Repos\\py-research\\src\\py_research\\hashing.py:43(_hash_sequence)\n",
      "2576/1651    0.004    0.000    0.051    0.000 C:\\Users\\lworm\\Repos\\py-research\\src\\py_research\\hashing.py:44(<lambda>)\n",
      "       47    0.000    0.000    0.050    0.001 C:\\Users\\lworm\\Repos\\py-research\\src\\py_research\\db\\databases.py:2335(_total_joins)\n",
      "       47    0.000    0.000    0.050    0.001 C:\\Users\\lworm\\Repos\\py-research\\src\\py_research\\db\\databases.py:2272(_abs_filters)\n",
      "       99    0.001    0.000    0.043    0.000 C:\\Users\\lworm\\Repos\\py-research\\src\\py_research\\db\\databases.py:2706(_visit_filter_col)\n",
      "       78    0.000    0.000    0.042    0.001 C:\\Users\\lworm\\Repos\\py-research\\src\\py_research\\db\\databases.py:2494(_sql_col)\n",
      "       16    0.001    0.000    0.039    0.002 C:\\Users\\lworm\\Repos\\py-research\\src\\py_research\\db\\databases.py:3188(_mutate_from_sql)\n",
      "       10    0.000    0.000    0.038    0.004 C:\\Users\\lworm\\Repos\\py-research\\src\\py_research\\telemetry.py:104(tqdm)\n",
      "        2    0.000    0.000    0.035    0.017 C:\\Users\\lworm\\Repos\\py-research\\src\\py_research\\db\\databases.py:3081(_mutate_from_values)\n",
      "       59    0.001    0.000    0.034    0.001 C:\\Users\\lworm\\Repos\\py-research\\src\\py_research\\db\\databases.py:2187(_abs_idx_cols)\n",
      "       16    0.001    0.000    0.031    0.002 C:\\Users\\lworm\\Repos\\py-research\\src\\py_research\\db\\databases.py:2842(_values_to_df)\n",
      "  632/630    0.002    0.000    0.031    0.000 C:\\Users\\lworm\\Repos\\py-research\\src\\py_research\\db\\databases.py:2554(_get_typearg)\n",
      "  148/141    0.001    0.000    0.027    0.000 C:\\Users\\lworm\\Repos\\py-research\\src\\py_research\\db\\databases.py:2729(_get_sql_base_table)\n",
      "      125    0.000    0.000    0.024    0.000 C:\\Users\\lworm\\Repos\\py-research\\src\\py_research\\db\\databases.py:2500(_sql_table)\n",
      "  273/271    0.000    0.000    0.024    0.000 C:\\Users\\lworm\\Repos\\py-research\\src\\py_research\\db\\databases.py:1985(_generic_args)\n",
      "      146    0.000    0.000    0.024    0.000 C:\\Users\\lworm\\Repos\\py-research\\src\\py_research\\db\\databases.py:2135(_target_table)\n",
      "  273/271    0.001    0.000    0.022    0.000 C:\\Users\\lworm\\Repos\\py-research\\src\\py_research\\db\\databases.py:1976(_generic_type)\n",
      "      169    0.000    0.000    0.019    0.000 C:\\Users\\lworm\\Repos\\py-research\\src\\py_research\\db\\databases.py:2087(_link)\n",
      "      220    0.000    0.000    0.017    0.000 C:\\Users\\lworm\\Repos\\py-research\\src\\py_research\\db\\databases.py:4151(__hash__)\n",
      "       16    0.001    0.000    0.016    0.001 C:\\Users\\lworm\\Repos\\py-research\\src\\py_research\\db\\databases.py:2888(_gen_upload_table)\n",
      "     3110    0.008    0.000    0.015    0.000 C:\\Users\\lworm\\Repos\\py-research\\src\\py_research\\hashing.py:34(_stable_hash)\n",
      "  825/821    0.003    0.000    0.014    0.000 C:\\Users\\lworm\\Repos\\py-research\\src\\py_research\\db\\databases.py:2571(_hint_to_typedef)\n",
      "      207    0.007    0.000    0.014    0.000 C:\\Users\\lworm\\Repos\\py-research\\src\\py_research\\data.py:33(copy_and_override)\n",
      "      435    0.000    0.000    0.013    0.000 C:\\Users\\lworm\\Repos\\py-research\\src\\py_research\\reflect\\types.py:56(is_subtype)\n",
      "       33    0.001    0.000    0.012    0.000 C:\\Users\\lworm\\Repos\\py-research\\src\\py_research\\db\\databases.py:4742(__init__)\n",
      "  780/778    0.002    0.000    0.012    0.000 C:\\Users\\lworm\\Repos\\py-research\\src\\py_research\\db\\databases.py:4479(_props)\n",
      "      139    0.000    0.000    0.012    0.000 C:\\Users\\lworm\\Repos\\py-research\\src\\py_research\\db\\databases.py:559(relation_type)\n",
      "      151    0.000    0.000    0.012    0.000 C:\\Users\\lworm\\Repos\\py-research\\src\\py_research\\db\\databases.py:542(target_type)\n",
      "        8    0.000    0.000    0.011    0.001 C:\\Users\\lworm\\Repos\\py-research\\src\\py_research\\db\\databases.py:4209(_create_sqla_table)\n",
      "  953/951    0.002    0.000    0.011    0.000 C:\\Users\\lworm\\Repos\\py-research\\src\\py_research\\db\\databases.py:4469(_class_fk_values)\n",
      "        9    0.000    0.000    0.009    0.001 C:\\Users\\lworm\\Repos\\py-research\\src\\py_research\\db\\datasources.py:291(sub_tables)\n",
      "      340    0.000    0.000    0.009    0.000 C:\\Users\\lworm\\Repos\\py-research\\src\\py_research\\db\\databases.py:537(value_type)\n",
      "        9    0.000    0.000    0.008    0.001 C:\\Users\\lworm\\Repos\\py-research\\src\\py_research\\db\\datasources.py:272(full_map)\n",
      "        9    0.000    0.000    0.008    0.001 C:\\Users\\lworm\\Repos\\py-research\\src\\py_research\\db\\datasources.py:431(_push_to_pull_map)\n",
      "       16    0.000    0.000    0.008    0.000 C:\\Users\\lworm\\Repos\\py-research\\src\\py_research\\db\\databases.py:322(_get_pl_schema)\n",
      "       57    0.000    0.000    0.007    0.000 C:\\Users\\lworm\\Repos\\py-research\\src\\py_research\\db\\databases.py:1662(__eq__)\n",
      "    92/86    0.001    0.000    0.007    0.000 C:\\Users\\lworm\\Repos\\py-research\\src\\py_research\\db\\databases.py:523(path)\n",
      "      247    0.001    0.000    0.007    0.000 C:\\Users\\lworm\\Repos\\py-research\\src\\py_research\\db\\databases.py:4532(_tables)\n",
      "       10    0.000    0.000    0.006    0.001 C:\\Users\\lworm\\Repos\\py-research\\src\\py_research\\db\\databases.py:2253(_base_table_map)\n",
      "      118    0.000    0.000    0.006    0.000 C:\\Users\\lworm\\Repos\\py-research\\src\\py_research\\db\\databases.py:552(record_type)\n",
      "      147    0.000    0.000    0.006    0.000 C:\\Users\\lworm\\Repos\\py-research\\src\\py_research\\db\\databases.py:4536(_links)\n",
      "       56    0.001    0.000    0.005    0.000 C:\\Users\\lworm\\Repos\\py-research\\src\\py_research\\db\\databases.py:1297(__getitem__)\n",
      "       12    0.000    0.000    0.005    0.000 C:\\Users\\lworm\\Repos\\py-research\\src\\py_research\\db\\databases.py:2153(_abs_cols)\n",
      "      243    0.000    0.000    0.005    0.000 C:\\Users\\lworm\\Repos\\py-research\\src\\py_research\\db\\databases.py:2131(_root_table)\n",
      "      576    0.000    0.000    0.005    0.000 C:\\Users\\lworm\\Repos\\py-research\\src\\py_research\\hashing.py:109(<genexpr>)\n",
      "       84    0.000    0.000    0.005    0.000 C:\\Users\\lworm\\Repos\\py-research\\src\\py_research\\db\\databases.py:2147(_abs_link_path)\n",
      "  567/412    0.002    0.000    0.004    0.000 C:\\Users\\lworm\\Repos\\py-research\\src\\py_research\\db\\databases.py:1854(__get__)\n",
      "       45    0.000    0.000    0.004    0.000 C:\\Users\\lworm\\Repos\\py-research\\src\\py_research\\db\\databases.py:4850(_is_complete_dict)\n",
      "       45    0.000    0.000    0.004    0.000 C:\\Users\\lworm\\Repos\\py-research\\src\\py_research\\db\\datasources.py:537(_gen_match_expr)\n",
      "        2    0.000    0.000    0.003    0.002 C:\\Users\\lworm\\Repos\\py-research\\src\\py_research\\db\\databases.py:2352(_fk_map)\n",
      "      200    0.001    0.000    0.003    0.000 C:\\Users\\lworm\\Repos\\py-research\\src\\py_research\\db\\databases.py:4520(_values)\n",
      "        8    0.000    0.000    0.003    0.000 C:\\Users\\lworm\\Repos\\py-research\\src\\py_research\\db\\databases.py:2435(_sql_base_cols)\n",
      "  165/102    0.000    0.000    0.003    0.000 C:\\Users\\lworm\\Repos\\py-research\\src\\py_research\\db\\databases.py:577(fqn)\n",
      "      953    0.002    0.000    0.003    0.000 C:\\Users\\lworm\\Repos\\py-research\\src\\py_research\\db\\databases.py:4458(_class_links)\n",
      "       56    0.000    0.000    0.003    0.000 C:\\Users\\lworm\\Repos\\py-research\\src\\py_research\\db\\datasources.py:555(<genexpr>)\n",
      "      114    0.000    0.000    0.003    0.000 C:\\Users\\lworm\\Repos\\py-research\\src\\py_research\\db\\datasources.py:207(select)\n",
      "      169    0.000    0.000    0.003    0.000 C:\\Users\\lworm\\Repos\\py-research\\src\\py_research\\db\\databases.py:2039(_backlink)\n",
      "      325    0.000    0.000    0.003    0.000 C:\\Users\\lworm\\Repos\\py-research\\src\\py_research\\reflect\\types.py:65(has_type)\n",
      "       45    0.000    0.000    0.003    0.000 C:\\Users\\lworm\\Repos\\py-research\\src\\py_research\\db\\databases.py:4528(_non_fk_values)\n",
      "        8    0.000    0.000    0.003    0.000 C:\\Users\\lworm\\Repos\\py-research\\src\\py_research\\db\\databases.py:2459(_sql_base_fks)\n",
      "      114    0.000    0.000    0.003    0.000 C:\\Users\\lworm\\Repos\\py-research\\src\\py_research\\db\\datasources.py:104(select)\n",
      "       31    0.000    0.000    0.002    0.000 C:\\Users\\lworm\\Repos\\py-research\\src\\py_research\\db\\databases.py:4828(_to_dict)\n",
      "       10    0.000    0.000    0.002    0.000 C:\\Users\\lworm\\Repos\\py-research\\src\\py_research\\db\\databases.py:4950(__post_init__)\n",
      "      114    0.001    0.000    0.002    0.000 C:\\Users\\lworm\\Repos\\py-research\\src\\py_research\\db\\datasources.py:56(_select_on_level)\n",
      "      102    0.000    0.000    0.002    0.000 C:\\Users\\lworm\\Repos\\py-research\\src\\py_research\\db\\databases.py:4489(_pk_values)\n",
      "       40    0.000    0.000    0.002    0.000 C:\\Users\\lworm\\Repos\\py-research\\src\\py_research\\db\\databases.py:2300(<genexpr>)\n",
      "      135    0.000    0.000    0.002    0.000 C:\\Users\\lworm\\Repos\\py-research\\src\\py_research\\db\\databases.py:2011(_ctx_module)\n",
      "       40    0.000    0.000    0.002    0.000 C:\\Users\\lworm\\Repos\\py-research\\src\\py_research\\db\\databases.py:2303(<genexpr>)\n",
      "       10    0.000    0.000    0.002    0.000 C:\\Users\\lworm\\Repos\\py-research\\src\\py_research\\hashing.py:143(gen_str_hash)\n",
      "        2    0.000    0.000    0.001    0.001 C:\\Users\\lworm\\Repos\\py-research\\src\\py_research\\db\\databases.py:3618(relation_type)\n",
      "       72    0.000    0.000    0.001    0.000 C:\\Users\\lworm\\Repos\\py-research\\src\\py_research\\db\\databases.py:3328(<genexpr>)\n",
      "       68    0.001    0.000    0.001    0.000 C:\\Users\\lworm\\Repos\\py-research\\src\\py_research\\db\\databases.py:593(ctx)\n",
      "      165    0.000    0.000    0.001    0.000 C:\\Users\\lworm\\Repos\\py-research\\src\\py_research\\db\\databases.py:4511(_fk_values)\n",
      "  199/166    0.000    0.000    0.001    0.000 C:\\Users\\lworm\\Repos\\py-research\\src\\py_research\\db\\databases.py:1916(__set__)\n",
      "       65    0.000    0.000    0.001    0.000 C:\\Users\\lworm\\Repos\\py-research\\src\\py_research\\db\\datasources.py:481(_sliding_batch_map)\n",
      "      100    0.000    0.000    0.001    0.000 C:\\Users\\lworm\\Repos\\py-research\\src\\py_research\\db\\databases.py:4540(_arrays)\n",
      "       55    0.000    0.000    0.001    0.000 C:\\Users\\lworm\\Repos\\py-research\\src\\py_research\\db\\databases.py:4524(_col_values)\n",
      "      218    0.001    0.000    0.001    0.000 C:\\Users\\lworm\\Repos\\py-research\\src\\py_research\\db\\databases.py:4672(_default_table_name)\n",
      "      155    0.000    0.000    0.001    0.000 C:\\Users\\lworm\\Repos\\py-research\\src\\py_research\\db\\databases.py:4690(_get_table_name)\n",
      "        2    0.000    0.000    0.001    0.001 C:\\Users\\lworm\\Repos\\py-research\\src\\py_research\\db\\databases.py:2650(_add_ctx)\n",
      "      137    0.000    0.000    0.001    0.000 C:\\Users\\lworm\\Repos\\py-research\\src\\py_research\\db\\databases.py:3496(name)\n",
      "1745/1743    0.000    0.000    0.001    0.000 C:\\Users\\lworm\\Repos\\py-research\\src\\py_research\\db\\databases.py:4358(_get_class_props)\n",
      "        2    0.000    0.000    0.001    0.000 C:\\Users\\lworm\\Repos\\py-research\\src\\py_research\\db\\databases.py:4914(dynamic_record_type)\n",
      "      139    0.000    0.000    0.001    0.000 C:\\Users\\lworm\\Repos\\py-research\\src\\py_research\\db\\databases.py:3491(__post_init__)\n",
      "     3188    0.001    0.000    0.001    0.000 C:\\Users\\lworm\\Repos\\py-research\\src\\py_research\\data.py:82(<genexpr>)\n",
      "        1    0.000    0.000    0.001    0.001 C:\\Users\\lworm\\Repos\\py-research\\src\\py_research\\db\\databases.py:3765(engine)\n",
      "      231    0.000    0.000    0.001    0.000 C:\\Users\\lworm\\Repos\\py-research\\src\\py_research\\db\\databases.py:1998(_ctx_table)\n",
      "       19    0.000    0.000    0.001    0.000 C:\\Users\\lworm\\Repos\\py-research\\src\\py_research\\db\\databases.py:4940(<lambda>)\n",
      "      137    0.000    0.000    0.001    0.000 C:\\Users\\lworm\\Repos\\py-research\\src\\py_research\\db\\databases.py:1989(_ctx_type)\n",
      "        2    0.000    0.000    0.001    0.000 C:\\Users\\lworm\\Repos\\py-research\\src\\py_research\\db\\databases.py:4309(__init__)\n",
      "     3197    0.001    0.000    0.001    0.000 C:\\Users\\lworm\\Repos\\py-research\\src\\py_research\\data.py:56(<genexpr>)\n",
      "        2    0.000    0.000    0.000    0.000 C:\\Users\\lworm\\Repos\\py-research\\src\\py_research\\db\\databases.py:317(<lambda>)\n",
      "       31    0.000    0.000    0.000    0.000 C:\\Users\\lworm\\Repos\\py-research\\src\\py_research\\db\\databases.py:3104(<lambda>)\n",
      "       21    0.000    0.000    0.000    0.000 C:\\Users\\lworm\\Repos\\py-research\\src\\py_research\\db\\databases.py:4106(__getitem__)\n",
      "       62    0.000    0.000    0.000    0.000 C:\\Users\\lworm\\Repos\\py-research\\src\\py_research\\db\\databases.py:4864(<genexpr>)\n",
      "        8    0.000    0.000    0.000    0.000 C:\\Users\\lworm\\Repos\\py-research\\src\\py_research\\db\\databases.py:4498(_class_values)\n",
      "        9    0.000    0.000    0.000    0.000 C:\\Users\\lworm\\Repos\\py-research\\src\\py_research\\db\\datasources.py:351(select)\n",
      "      159    0.000    0.000    0.000    0.000 C:\\Users\\lworm\\Repos\\py-research\\src\\py_research\\db\\databases.py:4857(<genexpr>)\n",
      "       31    0.000    0.000    0.000    0.000 C:\\Users\\lworm\\Repos\\py-research\\src\\py_research\\db\\databases.py:3106(<lambda>)\n",
      "        4    0.000    0.000    0.000    0.000 C:\\Users\\lworm\\Repos\\py-research\\src\\py_research\\db\\databases.py:2661(<lambda>)\n",
      "      153    0.000    0.000    0.000    0.000 C:\\Users\\lworm\\Repos\\py-research\\src\\py_research\\db\\databases.py:510(db)\n",
      "       47    0.000    0.000    0.000    0.000 C:\\Users\\lworm\\Repos\\py-research\\src\\py_research\\db\\databases.py:2323(_abs_joins)\n",
      "        9    0.000    0.000    0.000    0.000 C:\\Users\\lworm\\Repos\\py-research\\src\\py_research\\db\\datasources.py:407(_parse_pushmap)\n",
      "      780    0.000    0.000    0.000    0.000 C:\\Users\\lworm\\Repos\\py-research\\src\\py_research\\db\\databases.py:4485(<genexpr>)\n",
      "       29    0.000    0.000    0.000    0.000 C:\\Users\\lworm\\Repos\\py-research\\src\\py_research\\db\\databases.py:2831(_gen_fk_value_map)\n",
      "       47    0.000    0.000    0.000    0.000 C:\\Users\\lworm\\Repos\\py-research\\src\\py_research\\db\\databases.py:2425(_sql_filters)\n",
      "        3    0.000    0.000    0.000    0.000 C:\\Users\\lworm\\Repos\\py-research\\src\\py_research\\db\\databases.py:3673(__post_init__)\n",
      "       58    0.000    0.000    0.000    0.000 C:\\Users\\lworm\\Repos\\py-research\\src\\py_research\\db\\databases.py:4865(<genexpr>)\n",
      "        2    0.000    0.000    0.000    0.000 C:\\Users\\lworm\\Repos\\py-research\\src\\py_research\\db\\databases.py:4665(__init_subclass__)\n",
      "     12/2    0.000    0.000    0.000    0.000 C:\\Users\\lworm\\Repos\\py-research\\src\\py_research\\db\\databases.py:4288(_get_typevar_map)\n",
      "      141    0.000    0.000    0.000    0.000 C:\\Users\\lworm\\Repos\\py-research\\src\\py_research\\db\\databases.py:2621(_hint_to_type)\n",
      "      143    0.000    0.000    0.000    0.000 C:\\Users\\lworm\\Repos\\py-research\\src\\py_research\\db\\databases.py:532(name)\n",
      "     16/6    0.000    0.000    0.000    0.000 C:\\Users\\lworm\\Repos\\py-research\\src\\py_research\\db\\databases.py:4305(<genexpr>)\n",
      "      104    0.000    0.000    0.000    0.000 C:\\Users\\lworm\\Repos\\py-research\\src\\py_research\\db\\datasources.py:266(record_type)\n",
      "       19    0.000    0.000    0.000    0.000 C:\\Users\\lworm\\Repos\\py-research\\src\\py_research\\db\\databases.py:4195(_get_valid_cache_set)\n",
      "        4    0.000    0.000    0.000    0.000 C:\\Users\\lworm\\Repos\\py-research\\src\\py_research\\db\\databases.py:3236(<genexpr>)\n",
      "      165    0.000    0.000    0.000    0.000 C:\\Users\\lworm\\Repos\\py-research\\src\\py_research\\db\\databases.py:4516(<genexpr>)\n",
      "        7    0.000    0.000    0.000    0.000 C:\\Users\\lworm\\Repos\\py-research\\src\\py_research\\db\\datasources.py:401(__post_init__)\n",
      "        2    0.000    0.000    0.000    0.000 C:\\Users\\lworm\\Repos\\py-research\\src\\py_research\\db\\databases.py:570(base_type)\n",
      "        1    0.000    0.000    0.000    0.000 C:\\Users\\lworm\\Repos\\py-research\\src\\py_research\\db\\databases.py:3728(db_id)\n",
      "       79    0.000    0.000    0.000    0.000 C:\\Users\\lworm\\Repos\\py-research\\src\\py_research\\db\\datasources.py:357(<genexpr>)\n",
      "        4    0.000    0.000    0.000    0.000 C:\\Users\\lworm\\Repos\\py-research\\src\\py_research\\db\\databases.py:3161(_mutate_rels_from_rec_ids)\n",
      "        4    0.000    0.000    0.000    0.000 C:\\Users\\lworm\\Repos\\py-research\\src\\py_research\\db\\databases.py:3205(<genexpr>)\n",
      "        3    0.000    0.000    0.000    0.000 C:\\Users\\lworm\\Repos\\py-research\\src\\py_research\\db\\databases.py:4161(_schema_map)\n",
      "        1    0.000    0.000    0.000    0.000 C:\\Users\\lworm\\Repos\\py-research\\src\\py_research\\db\\databases.py:3738(backend_type)\n",
      "        2    0.000    0.000    0.000    0.000 C:\\Users\\lworm\\Repos\\py-research\\src\\py_research\\db\\databases.py:3610(_key_type)\n",
      "        8    0.000    0.000    0.000    0.000 C:\\Users\\lworm\\Repos\\py-research\\src\\py_research\\db\\databases.py:4350(_super_types)\n",
      "        2    0.000    0.000    0.000    0.000 C:\\Users\\lworm\\Repos\\py-research\\src\\py_research\\db\\databases.py:4926(<lambda>)\n",
      "       23    0.000    0.000    0.000    0.000 C:\\Users\\lworm\\Repos\\py-research\\src\\py_research\\db\\databases.py:4799(__post_init__)\n",
      "        4    0.000    0.000    0.000    0.000 C:\\Users\\lworm\\Repos\\py-research\\src\\py_research\\db\\datasources.py:422(_get_selector_name)\n",
      "        4    0.000    0.000    0.000    0.000 C:\\Users\\lworm\\Repos\\py-research\\src\\py_research\\db\\databases.py:4304(<lambda>)\n",
      "        1    0.000    0.000    0.000    0.000 C:\\Users\\lworm\\Repos\\py-research\\src\\py_research\\db\\datasources.py:187(parse)\n",
      "        2    0.000    0.000    0.000    0.000 C:\\Users\\lworm\\Repos\\py-research\\src\\py_research\\db\\databases.py:1760(__setitem__)\n",
      "        1    0.000    0.000    0.000    0.000 C:\\Users\\lworm\\Repos\\py-research\\src\\py_research\\db\\datasources.py:865(<genexpr>)\n",
      "        1    0.000    0.000    0.000    0.000 C:\\Users\\lworm\\Repos\\py-research\\src\\py_research\\db\\databases.py:4121(__setitem__)\n",
      "\n",
      "\n"
     ]
    },
    {
     "data": {
      "text/html": [
       "<pre style=\"white-space:pre;overflow-x:auto;line-height:normal;font-family:Menlo,'DejaVu Sans Mono',consolas,'Courier New',monospace\"></pre>\n"
      ],
      "text/plain": []
     },
     "metadata": {},
     "output_type": "display_data"
    },
    {
     "data": {
      "text/plain": [
       "\u001b[1m<\u001b[0m\u001b[1;95mpstats.Stats\u001b[0m\u001b[39m object at \u001b[0m\u001b[1;36m0x000002C25059FFB0\u001b[0m\u001b[1m>\u001b[0m"
      ]
     },
     "execution_count": 47,
     "metadata": {},
     "output_type": "execute_result"
    }
   ],
   "source": [
    "stats.sort_stats(\"cumulative\")\n",
    "stats.print_stats(\"py_research\")"
   ]
  }
 ],
 "metadata": {
  "kernelspec": {
   "display_name": ".venv",
   "language": "python",
   "name": "python3"
  },
  "language_info": {
   "codemirror_mode": {
    "name": "ipython",
    "version": 3
   },
   "file_extension": ".py",
   "mimetype": "text/x-python",
   "name": "python",
   "nbconvert_exporter": "python",
   "pygments_lexer": "ipython3",
   "version": "3.12.4"
  }
 },
 "nbformat": 4,
 "nbformat_minor": 2
}

{
 "cells": [
  {
   "cell_type": "code",
   "execution_count": 1,
   "metadata": {},
   "outputs": [],
   "source": [
    "from __future__ import annotations\n",
    "\n",
    "import cProfile\n",
    "import pstats\n",
    "from asyncio import sleep"
   ]
  },
  {
   "cell_type": "code",
   "execution_count": 2,
   "metadata": {},
   "outputs": [],
   "source": [
    "from py_research.db import (\n",
    "    DataSource,\n",
    "    TableMap,\n",
    "    SubTableMap,\n",
    "    SubMap,\n",
    "    SelIndex,\n",
    "    DataBase\n",
    ")"
   ]
  },
  {
   "cell_type": "code",
   "execution_count": 3,
   "metadata": {},
   "outputs": [],
   "source": [
    "from schema import (\n",
    "    Search,\n",
    "    Project,\n",
    "    Task,\n",
    "    User,\n",
    "    Membership,\n",
    "    Organization,\n",
    "    SearchResult,\n",
    "    TestSchema,\n",
    ")"
   ]
  },
  {
   "cell_type": "code",
   "execution_count": 4,
   "metadata": {},
   "outputs": [],
   "source": [
    "from typing import Any\n",
    "\n",
    "\n",
    "async def _dummy_loader(obj: dict[str, Any]) -> dict:\n",
    "    await sleep(0.2)\n",
    "    return {\n",
    "        'name': obj[\"name\"],\n",
    "        'role': obj[\"role\"],\n",
    "        'age': obj[\"age\"] + 1\n",
    "    }"
   ]
  },
  {
   "cell_type": "code",
   "execution_count": 5,
   "metadata": {},
   "outputs": [],
   "source": [
    "data_source = DataSource(\n",
    "    target=Search,\n",
    "    push={\n",
    "        \"resultCount\": Search.result_count,\n",
    "        \"search\": Search.term,\n",
    "        \"results\": SubTableMap(\n",
    "            target=Search.results,\n",
    "            rel_map=TableMap(push={SearchResult.score}),\n",
    "            push={\n",
    "                \"project_name\": Project.name,\n",
    "                \"project_start\": Project.start,\n",
    "                \"project_end\": Project.end,\n",
    "                \"project_status\": Project.status,\n",
    "                \"tasks\": SubTableMap(\n",
    "                    target=Project.tasks,\n",
    "                    push={\n",
    "                        \"task_name\": Task.name,\n",
    "                        \"task_assignees\": SubTableMap(\n",
    "                            target=Task.assignees,\n",
    "                            push=User.name,\n",
    "                            match_by=[User.name],\n",
    "                        ),\n",
    "                        \"task_status\": Task.status,\n",
    "                    },\n",
    "                ),\n",
    "                \"members\": SubTableMap(\n",
    "                    target=Project.members,\n",
    "                    loader=_dummy_loader,\n",
    "                    push={User.name, User.age},\n",
    "                    match_by=[User.name],\n",
    "                    rel_map=TableMap(\n",
    "                        push={\n",
    "                            Membership.role,\n",
    "                        },\n",
    "                    ),\n",
    "                ),\n",
    "            },\n",
    "            pull={\n",
    "                Project.org: SubMap(\n",
    "                    push={\n",
    "                        \"organization_name\": Organization.name,\n",
    "                        \"organization_address\": Organization.address,\n",
    "                        \"organization_city\": Organization.city,\n",
    "                        \"organization_countries\": Organization.ccs,\n",
    "                    },\n",
    "                    match_by=[Organization.name, Organization.city],\n",
    "                ),\n",
    "                Project.number: SelIndex()\n",
    "            },\n",
    "        ),\n",
    "    },\n",
    ")"
   ]
  },
  {
   "cell_type": "code",
   "execution_count": 6,
   "metadata": {},
   "outputs": [],
   "source": [
    "from datetime import date\n",
    "\n",
    "\n",
    "data = {\n",
    "    \"resultCount\": 3,\n",
    "    \"search\": \"test\",\n",
    "    \"results\": [\n",
    "        {\n",
    "            \"score\": 0.9,\n",
    "            \"project_name\": \"baking cake\",\n",
    "            \"project_start\": date(2020, 1, 1),\n",
    "            \"project_end\": date(2020, 1, 4),\n",
    "            \"project_status\": \"done\",\n",
    "            \"organization_name\": \"Bakery\",\n",
    "            \"organization_address\": \"Main Street 1\",\n",
    "            \"organization_city\": \"Bakerville\",\n",
    "            \"organization_countries\": [\"USA\", \"Mexico\", \"Canada\"],\n",
    "            \"tasks\": [\n",
    "                {\n",
    "                    \"task_name\": \"task1\",\n",
    "                    \"task_assignees\": [\"John\"],\n",
    "                    \"task_status\": \"todo\",\n",
    "                },\n",
    "                {\n",
    "                    \"task_name\": \"task2\",\n",
    "                    \"task_assignees\": [\"John\"],\n",
    "                    \"task_status\": \"todo\",\n",
    "                },\n",
    "                {\n",
    "                    \"task_name\": \"task3\",\n",
    "                    \"task_assignees\": [\"Jane\"],\n",
    "                    \"task_status\": \"done\",\n",
    "                },\n",
    "            ],\n",
    "            \"members\": [\n",
    "                {\"name\": \"John\", \"role\": \"baker\", \"age\": 30},\n",
    "                {\"name\": \"John\", \"role\": \"manager\", \"age\": 40},\n",
    "            ],\n",
    "        },\n",
    "        {\n",
    "            \"score\": 0.8,\n",
    "            \"project_name\": \"cleaning shoes\",\n",
    "            \"project_start\": date(2020, 1, 2),\n",
    "            \"project_end\": date(2020, 1, 5),\n",
    "            \"project_status\": \"done\",\n",
    "            \"organization_name\": \"Shoe Shop\",\n",
    "            \"organization_address\": \"Main Street 2\",\n",
    "            \"organization_city\": \"Shoetown\",\n",
    "            \"organization_countries\": [\"USA\", \"Mexico\"],\n",
    "            \"tasks\": [\n",
    "                {\n",
    "                    \"task_name\": \"task4\",\n",
    "                    \"task_assignees\": [\"John\"],\n",
    "                    \"task_status\": \"todo\",\n",
    "                },\n",
    "                {\n",
    "                    \"task_name\": \"task5\",\n",
    "                    \"task_assignees\": [\"Jane\"],\n",
    "                    \"task_status\": \"todo\",\n",
    "                },\n",
    "            ],\n",
    "            \"members\": [\n",
    "                {\"name\": \"John\", \"role\": \"cleaner\", \"age\": 25},\n",
    "                {\"name\": \"Jane\", \"role\": \"manager\", \"age\": 35},\n",
    "            ],\n",
    "        },\n",
    "        {\n",
    "            \"score\": 0.7,\n",
    "            \"project_name\": \"fixing cars\",\n",
    "            \"project_start\": date(2020, 1, 3),\n",
    "            \"project_end\": date(2020, 1, 6),\n",
    "            \"project_status\": \"started\",\n",
    "            \"organization_name\": \"Car Shop\",\n",
    "            \"organization_address\": \"Main Street 3\",\n",
    "            \"organization_city\": \"Cartown\",\n",
    "            \"organization_countries\": [\"USA\", \"Canada\"],\n",
    "            \"tasks\": [\n",
    "                {\n",
    "                    \"task_name\": \"task6\",\n",
    "                    \"task_assignees\": [\"John\"],\n",
    "                    \"task_status\": \"todo\",\n",
    "                }\n",
    "            ],\n",
    "            \"members\": [\n",
    "                {\"name\": \"John\", \"role\": \"mechanic\", \"age\": 45},\n",
    "                {\"name\": \"Jane\", \"role\": \"manager\", \"age\": 55},\n",
    "                {\"name\": \"Jack\", \"role\": \"manager\", \"age\": 65},\n",
    "            ],\n",
    "        },\n",
    "    ],\n",
    "}"
   ]
  },
  {
   "cell_type": "code",
   "execution_count": 7,
   "metadata": {},
   "outputs": [
    {
     "name": "stderr",
     "output_type": "stream",
     "text": [
      "                                                                   \r"
     ]
    }
   ],
   "source": [
    "from pathlib import Path\n",
    "import warnings\n",
    "\n",
    "with warnings.catch_warnings():\n",
    "  warnings.simplefilter(\"error\")\n",
    "  with cProfile.Profile() as pr:\n",
    "    db = DataBase(\n",
    "      schema=TestSchema,\n",
    "      # url=Path(\"./test.xlsx\")\n",
    "    )\n",
    "    rec = await data_source.load([data], db=db)\n",
    "\n",
    "    stats = pstats.Stats(pr)"
   ]
  },
  {
   "cell_type": "code",
   "execution_count": 8,
   "metadata": {},
   "outputs": [],
   "source": [
    "# db[User].extract()"
   ]
  },
  {
   "cell_type": "code",
   "execution_count": 9,
   "metadata": {},
   "outputs": [
    {
     "name": "stdout",
     "output_type": "stream",
     "text": [
      "SELECT \"schema.Project\".number AS \"schema.Project.number\",\n",
      "       \"schema.Project.members\"._id AS \"schema.Project.members._id\",\n",
      "       \"schema.Project.members.tasks\"._id AS \"schema.Project.members.tasks._id\",\n",
      "       \"schema.Project.members.tasks\"._id AS _id,\n",
      "       \"schema.Project.members.tasks\".name AS name,\n",
      "       \"schema.Project.members.tasks\".status AS status,\n",
      "       \"schema.Project.members.tasks\".project_number AS project_number\n",
      "FROM \"schema_Project\" AS \"schema.Project\"\n",
      "JOIN \"schema_Membership\" AS \"schema.Project.members._rel\" ON \"schema.Project.members._rel\"._to_number = \"schema.Project\".number\n",
      "JOIN \"schema_User\" AS \"schema.Project.members\" ON \"schema.Project.members._rel\"._from__id = \"schema.Project.members\"._id\n",
      "JOIN \"schema_Assignment\" AS \"schema.Project.members.tasks._rel\" ON \"schema.Project.members.tasks._rel\"._from__id = \"schema.Project.members\"._id\n",
      "JOIN \"schema_Task\" AS \"schema.Project.members.tasks\" ON \"schema.Project.members.tasks._rel\"._to__id = \"schema.Project.members.tasks\"._id\n"
     ]
    },
    {
     "data": {
      "text/html": [
       "<pre style=\"white-space:pre;overflow-x:auto;line-height:normal;font-family:Menlo,'DejaVu Sans Mono',consolas,'Courier New',monospace\"></pre>\n"
      ],
      "text/plain": []
     },
     "metadata": {},
     "output_type": "display_data"
    },
    {
     "data": {
      "text/html": [
       "<div><style>\n",
       ".dataframe > thead > tr,\n",
       ".dataframe > tbody > tr {\n",
       "  text-align: right;\n",
       "  white-space: pre-wrap;\n",
       "}\n",
       "</style>\n",
       "<small>shape: (20, 6)</small><table border=\"1\" class=\"dataframe\"><thead><tr><th>schema.Project.number</th><th>schema.Project.members._id</th><th>_id</th><th>name</th><th>status</th><th>project_number</th></tr><tr><td>i64</td><td>str</td><td>str</td><td>str</td><td>str</td><td>i64</td></tr></thead><tbody><tr><td>0</td><td>&quot;ad429663-47fd-408d-9db5-3db672…</td><td>&quot;9444ec4a-9bb3-4f53-b9d3-9c1283…</td><td>&quot;task4&quot;</td><td>&quot;todo&quot;</td><td>1</td></tr><tr><td>0</td><td>&quot;ad429663-47fd-408d-9db5-3db672…</td><td>&quot;9444ec4a-9bb3-4f53-b9d3-9c1283…</td><td>&quot;task4&quot;</td><td>&quot;todo&quot;</td><td>1</td></tr><tr><td>1</td><td>&quot;ad429663-47fd-408d-9db5-3db672…</td><td>&quot;9444ec4a-9bb3-4f53-b9d3-9c1283…</td><td>&quot;task4&quot;</td><td>&quot;todo&quot;</td><td>1</td></tr><tr><td>1</td><td>&quot;ad429663-47fd-408d-9db5-3db672…</td><td>&quot;9444ec4a-9bb3-4f53-b9d3-9c1283…</td><td>&quot;task4&quot;</td><td>&quot;todo&quot;</td><td>1</td></tr><tr><td>0</td><td>&quot;ad429663-47fd-408d-9db5-3db672…</td><td>&quot;a313a3bd-6e70-4809-aad9-9ea2a6…</td><td>&quot;task6&quot;</td><td>&quot;todo&quot;</td><td>2</td></tr><tr><td>&hellip;</td><td>&hellip;</td><td>&hellip;</td><td>&hellip;</td><td>&hellip;</td><td>&hellip;</td></tr><tr><td>0</td><td>&quot;ad429663-47fd-408d-9db5-3db672…</td><td>&quot;e90b9f91-7d29-41d4-be94-9604b7…</td><td>&quot;task1&quot;</td><td>&quot;todo&quot;</td><td>0</td></tr><tr><td>1</td><td>&quot;ad429663-47fd-408d-9db5-3db672…</td><td>&quot;e90b9f91-7d29-41d4-be94-9604b7…</td><td>&quot;task1&quot;</td><td>&quot;todo&quot;</td><td>0</td></tr><tr><td>1</td><td>&quot;ad429663-47fd-408d-9db5-3db672…</td><td>&quot;e90b9f91-7d29-41d4-be94-9604b7…</td><td>&quot;task1&quot;</td><td>&quot;todo&quot;</td><td>0</td></tr><tr><td>2</td><td>&quot;4a68126c-589f-4c44-8189-da690c…</td><td>&quot;ebeff444-9865-465e-b9f8-9bba19…</td><td>&quot;task3&quot;</td><td>&quot;done&quot;</td><td>0</td></tr><tr><td>2</td><td>&quot;4a68126c-589f-4c44-8189-da690c…</td><td>&quot;ebeff444-9865-465e-b9f8-9bba19…</td><td>&quot;task3&quot;</td><td>&quot;done&quot;</td><td>0</td></tr></tbody></table></div>"
      ],
      "text/plain": [
       "\n",
       "shape: \u001b[1m(\u001b[0m\u001b[1;36m20\u001b[0m, \u001b[1;36m6\u001b[0m\u001b[1m)\u001b[0m\n",
       "┌─────────────────────┬─────────────────────┬────────────────────┬───────┬────────┬────────────────┐\n",
       "│ schema.Project.numb ┆ schema.Project.memb ┆ _id                ┆ name  ┆ status ┆ project_number │\n",
       "│ er                  ┆ ers._id             ┆ ---                ┆ ---   ┆ ---    ┆ ---            │\n",
       "│ ---                 ┆ ---                 ┆ str                ┆ str   ┆ str    ┆ i64            │\n",
       "│ i64                 ┆ str                 ┆                    ┆       ┆        ┆                │\n",
       "╞═════════════════════╪═════════════════════╪════════════════════╪═══════╪════════╪════════════════╡\n",
       "│ \u001b[1;36m0\u001b[0m                   ┆ ad429663-47fd-408d- ┆ 9444ec4a-9bb3-4f53 ┆ task4 ┆ todo   ┆ \u001b[1;36m1\u001b[0m              │\n",
       "│                     ┆ 9db5-3db672…        ┆ -b9d3-9c1283…      ┆       ┆        ┆                │\n",
       "│ \u001b[1;36m0\u001b[0m                   ┆ ad429663-47fd-408d- ┆ 9444ec4a-9bb3-4f53 ┆ task4 ┆ todo   ┆ \u001b[1;36m1\u001b[0m              │\n",
       "│                     ┆ 9db5-3db672…        ┆ -b9d3-9c1283…      ┆       ┆        ┆                │\n",
       "│ \u001b[1;36m1\u001b[0m                   ┆ ad429663-47fd-408d- ┆ 9444ec4a-9bb3-4f53 ┆ task4 ┆ todo   ┆ \u001b[1;36m1\u001b[0m              │\n",
       "│                     ┆ 9db5-3db672…        ┆ -b9d3-9c1283…      ┆       ┆        ┆                │\n",
       "│ \u001b[1;36m1\u001b[0m                   ┆ ad429663-47fd-408d- ┆ 9444ec4a-9bb3-4f53 ┆ task4 ┆ todo   ┆ \u001b[1;36m1\u001b[0m              │\n",
       "│                     ┆ 9db5-3db672…        ┆ -b9d3-9c1283…      ┆       ┆        ┆                │\n",
       "│ \u001b[1;36m0\u001b[0m                   ┆ ad429663-47fd-408d- ┆ a313a3bd-\u001b[1;36m6e70\u001b[0m-\u001b[1;36m4809\u001b[0m ┆ task6 ┆ todo   ┆ \u001b[1;36m2\u001b[0m              │\n",
       "│                     ┆ 9db5-3db672…        ┆ -aad9-9ea2a6…      ┆       ┆        ┆                │\n",
       "│ …                   ┆ …                   ┆ …                  ┆ …     ┆ …      ┆ …              │\n",
       "│ \u001b[1;36m0\u001b[0m                   ┆ ad429663-47fd-408d- ┆ e90b9f91-7d29-41d4 ┆ task1 ┆ todo   ┆ \u001b[1;36m0\u001b[0m              │\n",
       "│                     ┆ 9db5-3db672…        ┆ -be94-9604b7…      ┆       ┆        ┆                │\n",
       "│ \u001b[1;36m1\u001b[0m                   ┆ ad429663-47fd-408d- ┆ e90b9f91-7d29-41d4 ┆ task1 ┆ todo   ┆ \u001b[1;36m0\u001b[0m              │\n",
       "│                     ┆ 9db5-3db672…        ┆ -be94-9604b7…      ┆       ┆        ┆                │\n",
       "│ \u001b[1;36m1\u001b[0m                   ┆ ad429663-47fd-408d- ┆ e90b9f91-7d29-41d4 ┆ task1 ┆ todo   ┆ \u001b[1;36m0\u001b[0m              │\n",
       "│                     ┆ 9db5-3db672…        ┆ -be94-9604b7…      ┆       ┆        ┆                │\n",
       "│ \u001b[1;36m2\u001b[0m                   ┆ 4a68126c-589f-4c44- ┆ ebeff444-\u001b[1;36m9865\u001b[0m-465e ┆ task3 ┆ done   ┆ \u001b[1;36m0\u001b[0m              │\n",
       "│                     ┆ \u001b[1;36m8189\u001b[0m-da690c…        ┆ -b9f8-9bba19…      ┆       ┆        ┆                │\n",
       "│ \u001b[1;36m2\u001b[0m                   ┆ 4a68126c-589f-4c44- ┆ ebeff444-\u001b[1;36m9865\u001b[0m-465e ┆ task3 ┆ done   ┆ \u001b[1;36m0\u001b[0m              │\n",
       "│                     ┆ \u001b[1;36m8189\u001b[0m-da690c…        ┆ -b9f8-9bba19…      ┆       ┆        ┆                │\n",
       "└─────────────────────┴─────────────────────┴────────────────────┴───────┴────────┴────────────────┘"
      ]
     },
     "execution_count": 9,
     "metadata": {},
     "output_type": "execute_result"
    }
   ],
   "source": [
    "print(db[Project.members.x.tasks].select_str)\n",
    "db[Project.members.x.tasks].df()"
   ]
  },
  {
   "cell_type": "code",
   "execution_count": 10,
   "metadata": {},
   "outputs": [
    {
     "data": {
      "text/html": [
       "<pre style=\"white-space:pre;overflow-x:auto;line-height:normal;font-family:Menlo,'DejaVu Sans Mono',consolas,'Courier New',monospace\"></pre>\n"
      ],
      "text/plain": []
     },
     "metadata": {},
     "output_type": "display_data"
    },
    {
     "data": {
      "text/plain": [
       "\n",
       "\u001b[1m{\u001b[0m\n",
       "    \u001b[32m'schema'\u001b[0m: \u001b[1m{\u001b[0m\n",
       "        \u001b[32m'package'\u001b[0m: \u001b[32m'py-research'\u001b[0m,\n",
       "        \u001b[32m'module'\u001b[0m: \u001b[32m'schema'\u001b[0m,\n",
       "        \u001b[32m'object'\u001b[0m: \u001b[32m'TestSchema'\u001b[0m,\n",
       "        \u001b[32m'package_version'\u001b[0m: \u001b[32m'^5.1.1.dev152+g2c0bcb5.d20250123'\u001b[0m,\n",
       "        \u001b[32m'repo'\u001b[0m: \u001b[32m'https://github.com/cloudlane-one/py-research.git'\u001b[0m,\n",
       "        \u001b[32m'repo_revision'\u001b[0m: \u001b[32m'1089c1ffb0ae83facec0f6a63ad964689e6caadd'\u001b[0m,\n",
       "        \u001b[32m'module_path'\u001b[0m: \u001b[1;35mWindowsPath\u001b[0m\u001b[1m(\u001b[0m\u001b[32m'exp/schema.py'\u001b[0m\u001b[1m)\u001b[0m,\n",
       "        \u001b[32m'module_dirty'\u001b[0m: \u001b[3;91mFalse\u001b[0m,\n",
       "        \u001b[32m'docs_url'\u001b[0m: \u001b[32m'https://cloudlane-one.github.io/py-research/'\u001b[0m\n",
       "    \u001b[1m}\u001b[0m,\n",
       "    \u001b[32m'contents'\u001b[0m: \u001b[1m{\u001b[0m\n",
       "        \u001b[32m'records'\u001b[0m: \u001b[1m{\u001b[0m\n",
       "            \u001b[32m'schema.User'\u001b[0m: \u001b[1;36m3\u001b[0m,\n",
       "            \u001b[32m'schema.Organization'\u001b[0m: \u001b[1;36m3\u001b[0m,\n",
       "            \u001b[32m'schema.Project'\u001b[0m: \u001b[1;36m3\u001b[0m,\n",
       "            \u001b[32m'schema.Search'\u001b[0m: \u001b[1;36m1\u001b[0m,\n",
       "            \u001b[32m'schema.Task'\u001b[0m: \u001b[1;36m6\u001b[0m\n",
       "        \u001b[1m}\u001b[0m,\n",
       "        \u001b[32m'arrays'\u001b[0m: \u001b[1m{\u001b[0m\u001b[32m'schema.Organization_ccs'\u001b[0m: \u001b[1;36m7\u001b[0m\u001b[1m}\u001b[0m,\n",
       "        \u001b[32m'relations'\u001b[0m: \u001b[1m{\u001b[0m\u001b[32m'schema.Assignment'\u001b[0m: \u001b[1;36m6\u001b[0m, \u001b[32m'schema.SearchResult'\u001b[0m: \u001b[1;36m3\u001b[0m, \u001b[32m'schema.Membership'\u001b[0m: \u001b[1;36m7\u001b[0m\u001b[1m}\u001b[0m\n",
       "    \u001b[1m}\u001b[0m,\n",
       "    \u001b[32m'backend'\u001b[0m: \u001b[3;35mNone\u001b[0m\n",
       "\u001b[1m}\u001b[0m"
      ]
     },
     "execution_count": 10,
     "metadata": {},
     "output_type": "execute_result"
    }
   ],
   "source": [
    "db.describe()"
   ]
  },
  {
   "cell_type": "code",
   "execution_count": 11,
   "metadata": {},
   "outputs": [],
   "source": [
    "nodes, edges = db.to_graph([Search, Project, Organization])"
   ]
  },
  {
   "cell_type": "code",
   "execution_count": 12,
   "metadata": {},
   "outputs": [
    {
     "data": {
      "text/html": [
       "<pre style=\"white-space:pre;overflow-x:auto;line-height:normal;font-family:Menlo,'DejaVu Sans Mono',consolas,'Courier New',monospace\"></pre>\n"
      ],
      "text/plain": []
     },
     "metadata": {},
     "output_type": "display_data"
    },
    {
     "data": {
      "text/html": [
       "<div>\n",
       "<style scoped>\n",
       "    .dataframe tbody tr th:only-of-type {\n",
       "        vertical-align: middle;\n",
       "    }\n",
       "\n",
       "    .dataframe tbody tr th {\n",
       "        vertical-align: top;\n",
       "    }\n",
       "\n",
       "    .dataframe thead th {\n",
       "        text-align: right;\n",
       "    }\n",
       "</style>\n",
       "<table border=\"1\" class=\"dataframe\">\n",
       "  <thead>\n",
       "    <tr style=\"text-align: right;\">\n",
       "      <th></th>\n",
       "      <th>node_id</th>\n",
       "      <th>schema.Search.term</th>\n",
       "      <th>schema.Search.result_count</th>\n",
       "      <th>table</th>\n",
       "      <th>schema.Project.number</th>\n",
       "      <th>schema.Project.name</th>\n",
       "      <th>schema.Project.start</th>\n",
       "      <th>schema.Project.end</th>\n",
       "      <th>schema.Project.status</th>\n",
       "      <th>schema.Project.org__id</th>\n",
       "      <th>schema.Organization._id</th>\n",
       "      <th>schema.Organization.name</th>\n",
       "      <th>schema.Organization.address</th>\n",
       "      <th>schema.Organization.city</th>\n",
       "    </tr>\n",
       "  </thead>\n",
       "  <tbody>\n",
       "    <tr>\n",
       "      <th>0</th>\n",
       "      <td>0</td>\n",
       "      <td>test</td>\n",
       "      <td>3.0</td>\n",
       "      <td>schema_Search</td>\n",
       "      <td>NaN</td>\n",
       "      <td>NaN</td>\n",
       "      <td>NaN</td>\n",
       "      <td>NaN</td>\n",
       "      <td>NaN</td>\n",
       "      <td>NaN</td>\n",
       "      <td>NaN</td>\n",
       "      <td>NaN</td>\n",
       "      <td>NaN</td>\n",
       "      <td>NaN</td>\n",
       "    </tr>\n",
       "    <tr>\n",
       "      <th>1</th>\n",
       "      <td>1</td>\n",
       "      <td>NaN</td>\n",
       "      <td>NaN</td>\n",
       "      <td>schema_Project</td>\n",
       "      <td>0.0</td>\n",
       "      <td>baking cake</td>\n",
       "      <td>2020-01-01</td>\n",
       "      <td>2020-01-04</td>\n",
       "      <td>done</td>\n",
       "      <td>f23ca98c-7a20-4543-a90f-2ac8ee6d1c34</td>\n",
       "      <td>NaN</td>\n",
       "      <td>NaN</td>\n",
       "      <td>NaN</td>\n",
       "      <td>NaN</td>\n",
       "    </tr>\n",
       "    <tr>\n",
       "      <th>2</th>\n",
       "      <td>2</td>\n",
       "      <td>NaN</td>\n",
       "      <td>NaN</td>\n",
       "      <td>schema_Project</td>\n",
       "      <td>1.0</td>\n",
       "      <td>cleaning shoes</td>\n",
       "      <td>2020-01-02</td>\n",
       "      <td>2020-01-05</td>\n",
       "      <td>done</td>\n",
       "      <td>a6e6442a-ac5c-4981-87ef-4d2840b0a891</td>\n",
       "      <td>NaN</td>\n",
       "      <td>NaN</td>\n",
       "      <td>NaN</td>\n",
       "      <td>NaN</td>\n",
       "    </tr>\n",
       "    <tr>\n",
       "      <th>3</th>\n",
       "      <td>3</td>\n",
       "      <td>NaN</td>\n",
       "      <td>NaN</td>\n",
       "      <td>schema_Project</td>\n",
       "      <td>2.0</td>\n",
       "      <td>fixing cars</td>\n",
       "      <td>2020-01-03</td>\n",
       "      <td>2020-01-06</td>\n",
       "      <td>started</td>\n",
       "      <td>55cdf244-0d31-4eaf-aa48-0bb1d0a742f5</td>\n",
       "      <td>NaN</td>\n",
       "      <td>NaN</td>\n",
       "      <td>NaN</td>\n",
       "      <td>NaN</td>\n",
       "    </tr>\n",
       "    <tr>\n",
       "      <th>4</th>\n",
       "      <td>4</td>\n",
       "      <td>NaN</td>\n",
       "      <td>NaN</td>\n",
       "      <td>schema_Organization</td>\n",
       "      <td>NaN</td>\n",
       "      <td>NaN</td>\n",
       "      <td>NaN</td>\n",
       "      <td>NaN</td>\n",
       "      <td>NaN</td>\n",
       "      <td>NaN</td>\n",
       "      <td>a6e6442a-ac5c-4981-87ef-4d2840b0a891</td>\n",
       "      <td>Bakery</td>\n",
       "      <td>Main Street 1</td>\n",
       "      <td>Bakerville</td>\n",
       "    </tr>\n",
       "    <tr>\n",
       "      <th>5</th>\n",
       "      <td>5</td>\n",
       "      <td>NaN</td>\n",
       "      <td>NaN</td>\n",
       "      <td>schema_Organization</td>\n",
       "      <td>NaN</td>\n",
       "      <td>NaN</td>\n",
       "      <td>NaN</td>\n",
       "      <td>NaN</td>\n",
       "      <td>NaN</td>\n",
       "      <td>NaN</td>\n",
       "      <td>55cdf244-0d31-4eaf-aa48-0bb1d0a742f5</td>\n",
       "      <td>Shoe Shop</td>\n",
       "      <td>Main Street 2</td>\n",
       "      <td>Shoetown</td>\n",
       "    </tr>\n",
       "    <tr>\n",
       "      <th>6</th>\n",
       "      <td>6</td>\n",
       "      <td>NaN</td>\n",
       "      <td>NaN</td>\n",
       "      <td>schema_Organization</td>\n",
       "      <td>NaN</td>\n",
       "      <td>NaN</td>\n",
       "      <td>NaN</td>\n",
       "      <td>NaN</td>\n",
       "      <td>NaN</td>\n",
       "      <td>NaN</td>\n",
       "      <td>f23ca98c-7a20-4543-a90f-2ac8ee6d1c34</td>\n",
       "      <td>Car Shop</td>\n",
       "      <td>Main Street 3</td>\n",
       "      <td>Cartown</td>\n",
       "    </tr>\n",
       "  </tbody>\n",
       "</table>\n",
       "</div>"
      ],
      "text/plain": [
       "\n",
       "   node_id schema.Search.term  schema.Search.result_count  \\\n",
       "\u001b[1;36m0\u001b[0m        \u001b[1;36m0\u001b[0m               test                         \u001b[1;36m3.0\u001b[0m   \n",
       "\u001b[1;36m1\u001b[0m        \u001b[1;36m1\u001b[0m                NaN                         NaN   \n",
       "\u001b[1;36m2\u001b[0m        \u001b[1;36m2\u001b[0m                NaN                         NaN   \n",
       "\u001b[1;36m3\u001b[0m        \u001b[1;36m3\u001b[0m                NaN                         NaN   \n",
       "\u001b[1;36m4\u001b[0m        \u001b[1;36m4\u001b[0m                NaN                         NaN   \n",
       "\u001b[1;36m5\u001b[0m        \u001b[1;36m5\u001b[0m                NaN                         NaN   \n",
       "\u001b[1;36m6\u001b[0m        \u001b[1;36m6\u001b[0m                NaN                         NaN   \n",
       "\n",
       "                 table  schema.Project.number schema.Project.name  \\\n",
       "\u001b[1;36m0\u001b[0m        schema_Search                    NaN                 NaN   \n",
       "\u001b[1;36m1\u001b[0m       schema_Project                    \u001b[1;36m0.0\u001b[0m         baking cake   \n",
       "\u001b[1;36m2\u001b[0m       schema_Project                    \u001b[1;36m1.0\u001b[0m      cleaning shoes   \n",
       "\u001b[1;36m3\u001b[0m       schema_Project                    \u001b[1;36m2.0\u001b[0m         fixing cars   \n",
       "\u001b[1;36m4\u001b[0m  schema_Organization                    NaN                 NaN   \n",
       "\u001b[1;36m5\u001b[0m  schema_Organization                    NaN                 NaN   \n",
       "\u001b[1;36m6\u001b[0m  schema_Organization                    NaN                 NaN   \n",
       "\n",
       "  schema.Project.start schema.Project.end schema.Project.status  \\\n",
       "\u001b[1;36m0\u001b[0m                  NaN                NaN                   NaN   \n",
       "\u001b[1;36m1\u001b[0m           \u001b[1;36m2020\u001b[0m-\u001b[1;36m01\u001b[0m-\u001b[1;36m01\u001b[0m         \u001b[1;36m2020\u001b[0m-\u001b[1;36m01\u001b[0m-\u001b[1;36m04\u001b[0m                  done   \n",
       "\u001b[1;36m2\u001b[0m           \u001b[1;36m2020\u001b[0m-\u001b[1;36m01\u001b[0m-\u001b[1;36m02\u001b[0m         \u001b[1;36m2020\u001b[0m-\u001b[1;36m01\u001b[0m-\u001b[1;36m05\u001b[0m                  done   \n",
       "\u001b[1;36m3\u001b[0m           \u001b[1;36m2020\u001b[0m-\u001b[1;36m01\u001b[0m-\u001b[1;36m03\u001b[0m         \u001b[1;36m2020\u001b[0m-\u001b[1;36m01\u001b[0m-\u001b[1;36m06\u001b[0m               started   \n",
       "\u001b[1;36m4\u001b[0m                  NaN                NaN                   NaN   \n",
       "\u001b[1;36m5\u001b[0m                  NaN                NaN                   NaN   \n",
       "\u001b[1;36m6\u001b[0m                  NaN                NaN                   NaN   \n",
       "\n",
       "                 schema.Project.org__id               schema.Organization._id  \\\n",
       "\u001b[1;36m0\u001b[0m                                   NaN                                   NaN   \n",
       "\u001b[1;36m1\u001b[0m  \u001b[93mf23ca98c-7a20-4543-a90f-2ac8ee6d1c34\u001b[0m                                   NaN   \n",
       "\u001b[1;36m2\u001b[0m  \u001b[93ma6e6442a-ac5c-4981-87ef-4d2840b0a891\u001b[0m                                   NaN   \n",
       "\u001b[1;36m3\u001b[0m  \u001b[93m55cdf244-0d31-4eaf-aa48-0bb1d0a742f5\u001b[0m                                   NaN   \n",
       "\u001b[1;36m4\u001b[0m                                   NaN  \u001b[93ma6e6442a-ac5c-4981-87ef-4d2840b0a891\u001b[0m   \n",
       "\u001b[1;36m5\u001b[0m                                   NaN  \u001b[93m55cdf244-0d31-4eaf-aa48-0bb1d0a742f5\u001b[0m   \n",
       "\u001b[1;36m6\u001b[0m                                   NaN  \u001b[93mf23ca98c-7a20-4543-a90f-2ac8ee6d1c34\u001b[0m   \n",
       "\n",
       "  schema.Organization.name schema.Organization.address  \\\n",
       "\u001b[1;36m0\u001b[0m                      NaN                         NaN   \n",
       "\u001b[1;36m1\u001b[0m                      NaN                         NaN   \n",
       "\u001b[1;36m2\u001b[0m                      NaN                         NaN   \n",
       "\u001b[1;36m3\u001b[0m                      NaN                         NaN   \n",
       "\u001b[1;36m4\u001b[0m                   Bakery               Main Street \u001b[1;36m1\u001b[0m   \n",
       "\u001b[1;36m5\u001b[0m                Shoe Shop               Main Street \u001b[1;36m2\u001b[0m   \n",
       "\u001b[1;36m6\u001b[0m                 Car Shop               Main Street \u001b[1;36m3\u001b[0m   \n",
       "\n",
       "  schema.Organization.city  \n",
       "\u001b[1;36m0\u001b[0m                      NaN  \n",
       "\u001b[1;36m1\u001b[0m                      NaN  \n",
       "\u001b[1;36m2\u001b[0m                      NaN  \n",
       "\u001b[1;36m3\u001b[0m                      NaN  \n",
       "\u001b[1;36m4\u001b[0m               Bakerville  \n",
       "\u001b[1;36m5\u001b[0m                 Shoetown  \n",
       "\u001b[1;36m6\u001b[0m                  Cartown  "
      ]
     },
     "execution_count": 12,
     "metadata": {},
     "output_type": "execute_result"
    }
   ],
   "source": [
    "nodes"
   ]
  },
  {
   "cell_type": "code",
   "execution_count": 13,
   "metadata": {},
   "outputs": [
    {
     "data": {
      "text/html": [
       "<pre style=\"white-space:pre;overflow-x:auto;line-height:normal;font-family:Menlo,'DejaVu Sans Mono',consolas,'Courier New',monospace\"></pre>\n"
      ],
      "text/plain": []
     },
     "metadata": {},
     "output_type": "display_data"
    },
    {
     "data": {
      "text/html": [
       "<div>\n",
       "<style scoped>\n",
       "    .dataframe tbody tr th:only-of-type {\n",
       "        vertical-align: middle;\n",
       "    }\n",
       "\n",
       "    .dataframe tbody tr th {\n",
       "        vertical-align: top;\n",
       "    }\n",
       "\n",
       "    .dataframe thead th {\n",
       "        text-align: right;\n",
       "    }\n",
       "</style>\n",
       "<table border=\"1\" class=\"dataframe\">\n",
       "  <thead>\n",
       "    <tr style=\"text-align: right;\">\n",
       "      <th></th>\n",
       "      <th>source</th>\n",
       "      <th>target</th>\n",
       "      <th>ltr</th>\n",
       "      <th>rtl</th>\n",
       "      <th>schema.SearchResult._id</th>\n",
       "      <th>schema.SearchResult.score</th>\n",
       "      <th>schema.SearchResult._from_term</th>\n",
       "      <th>schema.SearchResult._to_number</th>\n",
       "    </tr>\n",
       "  </thead>\n",
       "  <tbody>\n",
       "    <tr>\n",
       "      <th>0</th>\n",
       "      <td>1</td>\n",
       "      <td>6</td>\n",
       "      <td>org__id</td>\n",
       "      <td>None</td>\n",
       "      <td>NaN</td>\n",
       "      <td>NaN</td>\n",
       "      <td>NaN</td>\n",
       "      <td>NaN</td>\n",
       "    </tr>\n",
       "    <tr>\n",
       "      <th>1</th>\n",
       "      <td>2</td>\n",
       "      <td>4</td>\n",
       "      <td>org__id</td>\n",
       "      <td>None</td>\n",
       "      <td>NaN</td>\n",
       "      <td>NaN</td>\n",
       "      <td>NaN</td>\n",
       "      <td>NaN</td>\n",
       "    </tr>\n",
       "    <tr>\n",
       "      <th>2</th>\n",
       "      <td>3</td>\n",
       "      <td>5</td>\n",
       "      <td>org__id</td>\n",
       "      <td>None</td>\n",
       "      <td>NaN</td>\n",
       "      <td>NaN</td>\n",
       "      <td>NaN</td>\n",
       "      <td>NaN</td>\n",
       "    </tr>\n",
       "    <tr>\n",
       "      <th>3</th>\n",
       "      <td>0</td>\n",
       "      <td>3</td>\n",
       "      <td>_to_number</td>\n",
       "      <td>_from_term</td>\n",
       "      <td>3467122831</td>\n",
       "      <td>0.7</td>\n",
       "      <td>test</td>\n",
       "      <td>2.0</td>\n",
       "    </tr>\n",
       "    <tr>\n",
       "      <th>4</th>\n",
       "      <td>0</td>\n",
       "      <td>1</td>\n",
       "      <td>_to_number</td>\n",
       "      <td>_from_term</td>\n",
       "      <td>4376575091</td>\n",
       "      <td>0.9</td>\n",
       "      <td>test</td>\n",
       "      <td>0.0</td>\n",
       "    </tr>\n",
       "    <tr>\n",
       "      <th>5</th>\n",
       "      <td>0</td>\n",
       "      <td>2</td>\n",
       "      <td>_to_number</td>\n",
       "      <td>_from_term</td>\n",
       "      <td>3823747280</td>\n",
       "      <td>0.8</td>\n",
       "      <td>test</td>\n",
       "      <td>1.0</td>\n",
       "    </tr>\n",
       "  </tbody>\n",
       "</table>\n",
       "</div>"
      ],
      "text/plain": [
       "\n",
       "   source  target         ltr         rtl schema.SearchResult._id  \\\n",
       "\u001b[1;36m0\u001b[0m       \u001b[1;36m1\u001b[0m       \u001b[1;36m6\u001b[0m     org__id        \u001b[3;35mNone\u001b[0m                     NaN   \n",
       "\u001b[1;36m1\u001b[0m       \u001b[1;36m2\u001b[0m       \u001b[1;36m4\u001b[0m     org__id        \u001b[3;35mNone\u001b[0m                     NaN   \n",
       "\u001b[1;36m2\u001b[0m       \u001b[1;36m3\u001b[0m       \u001b[1;36m5\u001b[0m     org__id        \u001b[3;35mNone\u001b[0m                     NaN   \n",
       "\u001b[1;36m3\u001b[0m       \u001b[1;36m0\u001b[0m       \u001b[1;36m3\u001b[0m  _to_number  _from_term              \u001b[1;36m3467122831\u001b[0m   \n",
       "\u001b[1;36m4\u001b[0m       \u001b[1;36m0\u001b[0m       \u001b[1;36m1\u001b[0m  _to_number  _from_term              \u001b[1;36m4376575091\u001b[0m   \n",
       "\u001b[1;36m5\u001b[0m       \u001b[1;36m0\u001b[0m       \u001b[1;36m2\u001b[0m  _to_number  _from_term              \u001b[1;36m3823747280\u001b[0m   \n",
       "\n",
       "   schema.SearchResult.score schema.SearchResult._from_term  \\\n",
       "\u001b[1;36m0\u001b[0m                        NaN                            NaN   \n",
       "\u001b[1;36m1\u001b[0m                        NaN                            NaN   \n",
       "\u001b[1;36m2\u001b[0m                        NaN                            NaN   \n",
       "\u001b[1;36m3\u001b[0m                        \u001b[1;36m0.7\u001b[0m                           test   \n",
       "\u001b[1;36m4\u001b[0m                        \u001b[1;36m0.9\u001b[0m                           test   \n",
       "\u001b[1;36m5\u001b[0m                        \u001b[1;36m0.8\u001b[0m                           test   \n",
       "\n",
       "   schema.SearchResult._to_number  \n",
       "\u001b[1;36m0\u001b[0m                             NaN  \n",
       "\u001b[1;36m1\u001b[0m                             NaN  \n",
       "\u001b[1;36m2\u001b[0m                             NaN  \n",
       "\u001b[1;36m3\u001b[0m                             \u001b[1;36m2.0\u001b[0m  \n",
       "\u001b[1;36m4\u001b[0m                             \u001b[1;36m0.0\u001b[0m  \n",
       "\u001b[1;36m5\u001b[0m                             \u001b[1;36m1.0\u001b[0m  "
      ]
     },
     "execution_count": 13,
     "metadata": {},
     "output_type": "execute_result"
    }
   ],
   "source": [
    "edges"
   ]
  },
  {
   "cell_type": "code",
   "execution_count": null,
   "metadata": {},
   "outputs": [
    {
     "data": {
      "text/html": [
       "<pre style=\"white-space:pre;overflow-x:auto;line-height:normal;font-family:Menlo,'DejaVu Sans Mono',consolas,'Courier New',monospace\"></pre>\n"
      ],
      "text/plain": []
     },
     "metadata": {},
     "output_type": "display_data"
    },
    {
     "data": {
      "text/plain": [
       "\n",
       "\u001b[1m[\u001b[0m\n",
       "    \u001b[1;35mUser\u001b[0m\u001b[1m(\u001b[0m\u001b[1m{\u001b[0m\u001b[32m'_id'\u001b[0m: \u001b[32m'ad429663-47fd-408d-9db5-3db672d0d110'\u001b[0m, \u001b[32m'name'\u001b[0m: \u001b[32m'John'\u001b[0m, \u001b[32m'age'\u001b[0m: \u001b[1;36m31\u001b[0m\u001b[1m}\u001b[0m\u001b[1m)\u001b[0m,\n",
       "    \u001b[1;35mUser\u001b[0m\u001b[1m(\u001b[0m\u001b[1m{\u001b[0m\u001b[32m'_id'\u001b[0m: \u001b[32m'4a68126c-589f-4c44-8189-da690ce06b5e'\u001b[0m, \u001b[32m'name'\u001b[0m: \u001b[32m'Jane'\u001b[0m, \u001b[32m'age'\u001b[0m: \u001b[1;36m56\u001b[0m\u001b[1m}\u001b[0m\u001b[1m)\u001b[0m,\n",
       "    \u001b[1;35mUser\u001b[0m\u001b[1m(\u001b[0m\u001b[1m{\u001b[0m\u001b[32m'_id'\u001b[0m: \u001b[32m'9457beed-97a3-405d-a0b3-81251ee60111'\u001b[0m, \u001b[32m'name'\u001b[0m: \u001b[32m'Jack'\u001b[0m, \u001b[32m'age'\u001b[0m: \u001b[1;36m66\u001b[0m\u001b[1m}\u001b[0m\u001b[1m)\u001b[0m\n",
       "\u001b[1m]\u001b[0m"
      ]
     },
     "execution_count": 14,
     "metadata": {},
     "output_type": "execute_result"
    }
   ],
   "source": [
    "db[User].values()"
   ]
  },
  {
   "cell_type": "code",
   "execution_count": 15,
   "metadata": {},
   "outputs": [
    {
     "data": {
      "text/html": [
       "<pre style=\"white-space:pre;overflow-x:auto;line-height:normal;font-family:Menlo,'DejaVu Sans Mono',consolas,'Courier New',monospace\"></pre>\n"
      ],
      "text/plain": []
     },
     "metadata": {},
     "output_type": "display_data"
    },
    {
     "data": {
      "text/html": [
       "<div><style>\n",
       ".dataframe > thead > tr,\n",
       ".dataframe > tbody > tr {\n",
       "  text-align: right;\n",
       "  white-space: pre-wrap;\n",
       "}\n",
       "</style>\n",
       "<small>shape: (3, 6)</small><table border=\"1\" class=\"dataframe\"><thead><tr><th>number</th><th>name</th><th>start</th><th>end</th><th>status</th><th>org__id</th></tr><tr><td>i64</td><td>str</td><td>date</td><td>date</td><td>str</td><td>str</td></tr></thead><tbody><tr><td>0</td><td>&quot;baking cake&quot;</td><td>2020-01-01</td><td>2020-01-04</td><td>&quot;done&quot;</td><td>&quot;f23ca98c-7a20-4543-a90f-2ac8ee…</td></tr><tr><td>1</td><td>&quot;cleaning shoes&quot;</td><td>2020-01-02</td><td>2020-01-05</td><td>&quot;done&quot;</td><td>&quot;a6e6442a-ac5c-4981-87ef-4d2840…</td></tr><tr><td>2</td><td>&quot;fixing cars&quot;</td><td>2020-01-03</td><td>2020-01-06</td><td>&quot;started&quot;</td><td>&quot;55cdf244-0d31-4eaf-aa48-0bb1d0…</td></tr></tbody></table></div>"
      ],
      "text/plain": [
       "\n",
       "shape: \u001b[1m(\u001b[0m\u001b[1;36m3\u001b[0m, \u001b[1;36m6\u001b[0m\u001b[1m)\u001b[0m\n",
       "┌────────┬────────────────┬────────────┬────────────┬─────────┬─────────────────────────────────┐\n",
       "│ number ┆ name           ┆ start      ┆ end        ┆ status  ┆ org__id                         │\n",
       "│ ---    ┆ ---            ┆ ---        ┆ ---        ┆ ---     ┆ ---                             │\n",
       "│ i64    ┆ str            ┆ date       ┆ date       ┆ str     ┆ str                             │\n",
       "╞════════╪════════════════╪════════════╪════════════╪═════════╪═════════════════════════════════╡\n",
       "│ \u001b[1;36m0\u001b[0m      ┆ baking cake    ┆ \u001b[1;36m2020\u001b[0m-\u001b[1;36m01\u001b[0m-\u001b[1;36m01\u001b[0m ┆ \u001b[1;36m2020\u001b[0m-\u001b[1;36m01\u001b[0m-\u001b[1;36m04\u001b[0m ┆ done    ┆ f23ca98c-7a20-\u001b[1;36m4543\u001b[0m-a90f-2ac8ee… │\n",
       "│ \u001b[1;36m1\u001b[0m      ┆ cleaning shoes ┆ \u001b[1;36m2020\u001b[0m-\u001b[1;36m01\u001b[0m-\u001b[1;36m02\u001b[0m ┆ \u001b[1;36m2020\u001b[0m-\u001b[1;36m01\u001b[0m-\u001b[1;36m05\u001b[0m ┆ done    ┆ a6e6442a-ac5c-\u001b[1;36m4981\u001b[0m-87ef-4d2840… │\n",
       "│ \u001b[1;36m2\u001b[0m      ┆ fixing cars    ┆ \u001b[1;36m2020\u001b[0m-\u001b[1;36m01\u001b[0m-\u001b[1;36m03\u001b[0m ┆ \u001b[1;36m2020\u001b[0m-\u001b[1;36m01\u001b[0m-\u001b[1;36m06\u001b[0m ┆ started ┆ 55cdf244-0d31-4eaf-aa48-0bb1d0… │\n",
       "└────────┴────────────────┴────────────┴────────────┴─────────┴─────────────────────────────────┘"
      ]
     },
     "execution_count": 15,
     "metadata": {},
     "output_type": "execute_result"
    }
   ],
   "source": [
    "db[Project].df()"
   ]
  },
  {
   "cell_type": "code",
   "execution_count": null,
   "metadata": {},
   "outputs": [
    {
     "data": {
      "text/html": [
       "<pre style=\"white-space:pre;overflow-x:auto;line-height:normal;font-family:Menlo,'DejaVu Sans Mono',consolas,'Courier New',monospace\"></pre>\n"
      ],
      "text/plain": []
     },
     "metadata": {},
     "output_type": "display_data"
    },
    {
     "data": {
      "text/plain": [
       "\u001b[1m[\u001b[0m\u001b[32m'test'\u001b[0m\u001b[1m]\u001b[0m"
      ]
     },
     "execution_count": 16,
     "metadata": {},
     "output_type": "execute_result"
    }
   ],
   "source": [
    "db[Search.term].values()"
   ]
  },
  {
   "cell_type": "code",
   "execution_count": null,
   "metadata": {},
   "outputs": [
    {
     "data": {
      "text/html": [
       "<pre style=\"white-space:pre;overflow-x:auto;line-height:normal;font-family:Menlo,'DejaVu Sans Mono',consolas,'Courier New',monospace\"></pre>\n"
      ],
      "text/plain": []
     },
     "metadata": {},
     "output_type": "display_data"
    },
    {
     "data": {
      "text/plain": [
       "\u001b[1m[\u001b[0m\u001b[1m(\u001b[0m\u001b[32m'test'\u001b[0m, \u001b[1;36m3\u001b[0m\u001b[1m)\u001b[0m\u001b[1m]\u001b[0m"
      ]
     },
     "execution_count": 17,
     "metadata": {},
     "output_type": "execute_result"
    }
   ],
   "source": [
    "list(db[Search.result_count].items())"
   ]
  },
  {
   "cell_type": "code",
   "execution_count": 18,
   "metadata": {},
   "outputs": [
    {
     "data": {
      "text/html": [
       "<pre style=\"white-space:pre;overflow-x:auto;line-height:normal;font-family:Menlo,'DejaVu Sans Mono',consolas,'Courier New',monospace\"></pre>\n"
      ],
      "text/plain": []
     },
     "metadata": {},
     "output_type": "display_data"
    },
    {
     "data": {
      "text/plain": [
       "\n",
       "\u001b[1m[\u001b[0m\n",
       "    \u001b[1m(\u001b[0m\n",
       "        \u001b[1m(\u001b[0m\u001b[32m'test'\u001b[0m, \u001b[1;36m2\u001b[0m, \u001b[32m'55cdf244-0d31-4eaf-aa48-0bb1d0a742f5'\u001b[0m\u001b[1m)\u001b[0m,\n",
       "        \u001b[1;35mOrganization\u001b[0m\u001b[1m(\u001b[0m\u001b[1m{\u001b[0m\u001b[32m'_id'\u001b[0m: \u001b[32m'55cdf244-0d31-4eaf-aa48-0bb1d0a742f5'\u001b[0m, \u001b[32m'name'\u001b[0m: \u001b[32m'Shoe Shop'\u001b[0m, \u001b[32m'address'\u001b[0m: \u001b[32m'Main Street 2'\u001b[0m, \u001b[32m'city'\u001b[0m: \u001b[32m'Shoetown'\u001b[0m\u001b[1m}\u001b[0m\u001b[1m)\u001b[0m\n",
       "    \u001b[1m)\u001b[0m,\n",
       "    \u001b[1m(\u001b[0m\n",
       "        \u001b[1m(\u001b[0m\u001b[32m'test'\u001b[0m, \u001b[1;36m0\u001b[0m, \u001b[32m'f23ca98c-7a20-4543-a90f-2ac8ee6d1c34'\u001b[0m\u001b[1m)\u001b[0m,\n",
       "        \u001b[1;35mOrganization\u001b[0m\u001b[1m(\u001b[0m\u001b[1m{\u001b[0m\u001b[32m'_id'\u001b[0m: \u001b[32m'f23ca98c-7a20-4543-a90f-2ac8ee6d1c34'\u001b[0m, \u001b[32m'name'\u001b[0m: \u001b[32m'Car Shop'\u001b[0m, \u001b[32m'address'\u001b[0m: \u001b[32m'Main Street 3'\u001b[0m, \u001b[32m'city'\u001b[0m: \u001b[32m'Cartown'\u001b[0m\u001b[1m}\u001b[0m\u001b[1m)\u001b[0m\n",
       "    \u001b[1m)\u001b[0m,\n",
       "    \u001b[1m(\u001b[0m\n",
       "        \u001b[1m(\u001b[0m\u001b[32m'test'\u001b[0m, \u001b[1;36m1\u001b[0m, \u001b[32m'a6e6442a-ac5c-4981-87ef-4d2840b0a891'\u001b[0m\u001b[1m)\u001b[0m,\n",
       "        \u001b[1;35mOrganization\u001b[0m\u001b[1m(\u001b[0m\u001b[1m{\u001b[0m\u001b[32m'_id'\u001b[0m: \u001b[32m'a6e6442a-ac5c-4981-87ef-4d2840b0a891'\u001b[0m, \u001b[32m'name'\u001b[0m: \u001b[32m'Bakery'\u001b[0m, \u001b[32m'address'\u001b[0m: \u001b[32m'Main Street 1'\u001b[0m, \u001b[32m'city'\u001b[0m: \u001b[32m'Bakerville'\u001b[0m\u001b[1m}\u001b[0m\u001b[1m)\u001b[0m\n",
       "    \u001b[1m)\u001b[0m\n",
       "\u001b[1m]\u001b[0m"
      ]
     },
     "execution_count": 18,
     "metadata": {},
     "output_type": "execute_result"
    }
   ],
   "source": [
    "list(db[Search.results.x.org].items())"
   ]
  },
  {
   "cell_type": "code",
   "execution_count": 19,
   "metadata": {},
   "outputs": [
    {
     "data": {
      "text/html": [
       "<pre style=\"white-space:pre;overflow-x:auto;line-height:normal;font-family:Menlo,'DejaVu Sans Mono',consolas,'Courier New',monospace\"></pre>\n"
      ],
      "text/plain": []
     },
     "metadata": {},
     "output_type": "display_data"
    },
    {
     "data": {
      "text/plain": [
       "\n",
       "\u001b[1m[\u001b[0m\n",
       "    \u001b[1m(\u001b[0m\n",
       "        \u001b[1m(\u001b[0m\u001b[32m'test'\u001b[0m, \u001b[1;36m2\u001b[0m\u001b[1m)\u001b[0m,\n",
       "        \u001b[1;35mProject\u001b[0m\u001b[1m(\u001b[0m\u001b[1m{\u001b[0m\u001b[32m'number'\u001b[0m: \u001b[1;36m2\u001b[0m, \u001b[32m'name'\u001b[0m: \u001b[32m'fixing cars'\u001b[0m, \u001b[32m'start'\u001b[0m: \u001b[1;35mdatetime.date\u001b[0m\u001b[1m(\u001b[0m\u001b[1;36m2020\u001b[0m, \u001b[1;36m1\u001b[0m, \u001b[1;36m3\u001b[0m\u001b[1m)\u001b[0m, \u001b[32m'end'\u001b[0m: \u001b[1;35mdatetime.date\u001b[0m\u001b[1m(\u001b[0m\u001b[1;36m2020\u001b[0m, \u001b[1;36m1\u001b[0m, \u001b[1;36m6\u001b[0m\u001b[1m)\u001b[0m, \u001b[32m'status'\u001b[0m: \u001b[32m'started'\u001b[0m\u001b[1m}\u001b[0m\u001b[1m)\u001b[0m\n",
       "    \u001b[1m)\u001b[0m,\n",
       "    \u001b[1m(\u001b[0m\n",
       "        \u001b[1m(\u001b[0m\u001b[32m'test'\u001b[0m, \u001b[1;36m0\u001b[0m\u001b[1m)\u001b[0m,\n",
       "        \u001b[1;35mProject\u001b[0m\u001b[1m(\u001b[0m\u001b[1m{\u001b[0m\u001b[32m'number'\u001b[0m: \u001b[1;36m0\u001b[0m, \u001b[32m'name'\u001b[0m: \u001b[32m'baking cake'\u001b[0m, \u001b[32m'start'\u001b[0m: \u001b[1;35mdatetime.date\u001b[0m\u001b[1m(\u001b[0m\u001b[1;36m2020\u001b[0m, \u001b[1;36m1\u001b[0m, \u001b[1;36m1\u001b[0m\u001b[1m)\u001b[0m, \u001b[32m'end'\u001b[0m: \u001b[1;35mdatetime.date\u001b[0m\u001b[1m(\u001b[0m\u001b[1;36m2020\u001b[0m, \u001b[1;36m1\u001b[0m, \u001b[1;36m4\u001b[0m\u001b[1m)\u001b[0m, \u001b[32m'status'\u001b[0m: \u001b[32m'done'\u001b[0m\u001b[1m}\u001b[0m\u001b[1m)\u001b[0m\n",
       "    \u001b[1m)\u001b[0m,\n",
       "    \u001b[1m(\u001b[0m\n",
       "        \u001b[1m(\u001b[0m\u001b[32m'test'\u001b[0m, \u001b[1;36m1\u001b[0m\u001b[1m)\u001b[0m,\n",
       "        \u001b[1;35mProject\u001b[0m\u001b[1m(\u001b[0m\u001b[1m{\u001b[0m\u001b[32m'number'\u001b[0m: \u001b[1;36m1\u001b[0m, \u001b[32m'name'\u001b[0m: \u001b[32m'cleaning shoes'\u001b[0m, \u001b[32m'start'\u001b[0m: \u001b[1;35mdatetime.date\u001b[0m\u001b[1m(\u001b[0m\u001b[1;36m2020\u001b[0m, \u001b[1;36m1\u001b[0m, \u001b[1;36m2\u001b[0m\u001b[1m)\u001b[0m, \u001b[32m'end'\u001b[0m: \u001b[1;35mdatetime.date\u001b[0m\u001b[1m(\u001b[0m\u001b[1;36m2020\u001b[0m, \u001b[1;36m1\u001b[0m, \u001b[1;36m5\u001b[0m\u001b[1m)\u001b[0m, \u001b[32m'status'\u001b[0m: \u001b[32m'done'\u001b[0m\u001b[1m}\u001b[0m\u001b[1m)\u001b[0m\n",
       "    \u001b[1m)\u001b[0m\n",
       "\u001b[1m]\u001b[0m"
      ]
     },
     "execution_count": 19,
     "metadata": {},
     "output_type": "execute_result"
    }
   ],
   "source": [
    "db[Search.results].items()"
   ]
  },
  {
   "cell_type": "code",
   "execution_count": null,
   "metadata": {},
   "outputs": [
    {
     "data": {
      "text/html": [
       "<pre style=\"white-space:pre;overflow-x:auto;line-height:normal;font-family:Menlo,'DejaVu Sans Mono',consolas,'Courier New',monospace\"></pre>\n"
      ],
      "text/plain": []
     },
     "metadata": {},
     "output_type": "display_data"
    },
    {
     "data": {
      "text/plain": [
       "\u001b[1m[\u001b[0m\u001b[32m'number'\u001b[0m, \u001b[32m'name'\u001b[0m, \u001b[32m'start'\u001b[0m, \u001b[32m'end'\u001b[0m, \u001b[32m'status'\u001b[0m, \u001b[32m'org__id'\u001b[0m\u001b[1m]\u001b[0m"
      ]
     },
     "execution_count": 20,
     "metadata": {},
     "output_type": "execute_result"
    }
   ],
   "source": [
    "list(db[Search.results]._abs_cols.keys())"
   ]
  },
  {
   "cell_type": "code",
   "execution_count": null,
   "metadata": {},
   "outputs": [
    {
     "data": {
      "text/html": [
       "<pre style=\"white-space:pre;overflow-x:auto;line-height:normal;font-family:Menlo,'DejaVu Sans Mono',consolas,'Courier New',monospace\"></pre>\n"
      ],
      "text/plain": []
     },
     "metadata": {},
     "output_type": "display_data"
    },
    {
     "data": {
      "text/html": [
       "<div><style>\n",
       ".dataframe > thead > tr,\n",
       ".dataframe > tbody > tr {\n",
       "  text-align: right;\n",
       "  white-space: pre-wrap;\n",
       "}\n",
       "</style>\n",
       "<small>shape: (3, 7)</small><table border=\"1\" class=\"dataframe\"><thead><tr><th>schema.Search.term</th><th>number</th><th>name</th><th>start</th><th>end</th><th>status</th><th>org__id</th></tr><tr><td>str</td><td>i64</td><td>str</td><td>date</td><td>date</td><td>str</td><td>str</td></tr></thead><tbody><tr><td>&quot;test&quot;</td><td>2</td><td>&quot;fixing cars&quot;</td><td>2020-01-03</td><td>2020-01-06</td><td>&quot;started&quot;</td><td>&quot;55cdf244-0d31-4eaf-aa48-0bb1d0…</td></tr><tr><td>&quot;test&quot;</td><td>0</td><td>&quot;baking cake&quot;</td><td>2020-01-01</td><td>2020-01-04</td><td>&quot;done&quot;</td><td>&quot;f23ca98c-7a20-4543-a90f-2ac8ee…</td></tr><tr><td>&quot;test&quot;</td><td>1</td><td>&quot;cleaning shoes&quot;</td><td>2020-01-02</td><td>2020-01-05</td><td>&quot;done&quot;</td><td>&quot;a6e6442a-ac5c-4981-87ef-4d2840…</td></tr></tbody></table></div>"
      ],
      "text/plain": [
       "\n",
       "shape: \u001b[1m(\u001b[0m\u001b[1;36m3\u001b[0m, \u001b[1;36m7\u001b[0m\u001b[1m)\u001b[0m\n",
       "┌──────────────────┬────────┬────────────────┬────────────┬────────────┬─────────┬─────────────────┐\n",
       "│ schema.Search.te ┆ number ┆ name           ┆ start      ┆ end        ┆ status  ┆ org__id         │\n",
       "│ rm               ┆ ---    ┆ ---            ┆ ---        ┆ ---        ┆ ---     ┆ ---             │\n",
       "│ ---              ┆ i64    ┆ str            ┆ date       ┆ date       ┆ str     ┆ str             │\n",
       "│ str              ┆        ┆                ┆            ┆            ┆         ┆                 │\n",
       "╞══════════════════╪════════╪════════════════╪════════════╪════════════╪═════════╪═════════════════╡\n",
       "│ test             ┆ \u001b[1;36m2\u001b[0m      ┆ fixing cars    ┆ \u001b[1;36m2020\u001b[0m-\u001b[1;36m01\u001b[0m-\u001b[1;36m03\u001b[0m ┆ \u001b[1;36m2020\u001b[0m-\u001b[1;36m01\u001b[0m-\u001b[1;36m06\u001b[0m ┆ started ┆ 55cdf244-0d31-\u001b[1;36m4\u001b[0m │\n",
       "│                  ┆        ┆                ┆            ┆            ┆         ┆ eaf-aa48-0bb1d0 │\n",
       "│                  ┆        ┆                ┆            ┆            ┆         ┆ …               │\n",
       "│ test             ┆ \u001b[1;36m0\u001b[0m      ┆ baking cake    ┆ \u001b[1;36m2020\u001b[0m-\u001b[1;36m01\u001b[0m-\u001b[1;36m01\u001b[0m ┆ \u001b[1;36m2020\u001b[0m-\u001b[1;36m01\u001b[0m-\u001b[1;36m04\u001b[0m ┆ done    ┆ f23ca98c-7a20-\u001b[1;36m4\u001b[0m │\n",
       "│                  ┆        ┆                ┆            ┆            ┆         ┆ \u001b[1;36m543\u001b[0m-a90f-2ac8ee │\n",
       "│                  ┆        ┆                ┆            ┆            ┆         ┆ …               │\n",
       "│ test             ┆ \u001b[1;36m1\u001b[0m      ┆ cleaning shoes ┆ \u001b[1;36m2020\u001b[0m-\u001b[1;36m01\u001b[0m-\u001b[1;36m02\u001b[0m ┆ \u001b[1;36m2020\u001b[0m-\u001b[1;36m01\u001b[0m-\u001b[1;36m05\u001b[0m ┆ done    ┆ a6e6442a-ac5c-\u001b[1;36m4\u001b[0m │\n",
       "│                  ┆        ┆                ┆            ┆            ┆         ┆ \u001b[1;36m981\u001b[0m-87ef-4d2840 │\n",
       "│                  ┆        ┆                ┆            ┆            ┆         ┆ …               │\n",
       "└──────────────────┴────────┴────────────────┴────────────┴────────────┴─────────┴─────────────────┘"
      ]
     },
     "execution_count": 21,
     "metadata": {},
     "output_type": "execute_result"
    }
   ],
   "source": [
    "db[Search.results].df()"
   ]
  },
  {
   "cell_type": "code",
   "execution_count": null,
   "metadata": {},
   "outputs": [
    {
     "data": {
      "text/html": [
       "<pre style=\"white-space:pre;overflow-x:auto;line-height:normal;font-family:Menlo,'DejaVu Sans Mono',consolas,'Courier New',monospace\"></pre>\n"
      ],
      "text/plain": []
     },
     "metadata": {},
     "output_type": "display_data"
    },
    {
     "data": {
      "text/html": [
       "<div><style>\n",
       ".dataframe > thead > tr,\n",
       ".dataframe > tbody > tr {\n",
       "  text-align: right;\n",
       "  white-space: pre-wrap;\n",
       "}\n",
       "</style>\n",
       "<small>shape: (3, 6)</small><table border=\"1\" class=\"dataframe\"><thead><tr><th>schema.Search.term</th><th>schema.Search.results.number</th><th>_id</th><th>name</th><th>address</th><th>city</th></tr><tr><td>str</td><td>i64</td><td>str</td><td>str</td><td>str</td><td>str</td></tr></thead><tbody><tr><td>&quot;test&quot;</td><td>2</td><td>&quot;55cdf244-0d31-4eaf-aa48-0bb1d0…</td><td>&quot;Shoe Shop&quot;</td><td>&quot;Main Street 2&quot;</td><td>&quot;Shoetown&quot;</td></tr><tr><td>&quot;test&quot;</td><td>0</td><td>&quot;f23ca98c-7a20-4543-a90f-2ac8ee…</td><td>&quot;Car Shop&quot;</td><td>&quot;Main Street 3&quot;</td><td>&quot;Cartown&quot;</td></tr><tr><td>&quot;test&quot;</td><td>1</td><td>&quot;a6e6442a-ac5c-4981-87ef-4d2840…</td><td>&quot;Bakery&quot;</td><td>&quot;Main Street 1&quot;</td><td>&quot;Bakerville&quot;</td></tr></tbody></table></div>"
      ],
      "text/plain": [
       "\n",
       "shape: \u001b[1m(\u001b[0m\u001b[1;36m3\u001b[0m, \u001b[1;36m6\u001b[0m\u001b[1m)\u001b[0m\n",
       "┌───────────────────┬──────────────────┬──────────────────┬───────────┬───────────────┬────────────┐\n",
       "│ schema.Search.ter ┆ schema.Search.re ┆ _id              ┆ name      ┆ address       ┆ city       │\n",
       "│ m                 ┆ sults.number     ┆ ---              ┆ ---       ┆ ---           ┆ ---        │\n",
       "│ ---               ┆ ---              ┆ str              ┆ str       ┆ str           ┆ str        │\n",
       "│ str               ┆ i64              ┆                  ┆           ┆               ┆            │\n",
       "╞═══════════════════╪══════════════════╪══════════════════╪═══════════╪═══════════════╪════════════╡\n",
       "│ test              ┆ \u001b[1;36m2\u001b[0m                ┆ 55cdf244-0d31-4e ┆ Shoe Shop ┆ Main Street \u001b[1;36m2\u001b[0m ┆ Shoetown   │\n",
       "│                   ┆                  ┆ af-aa48-0bb1d0…  ┆           ┆               ┆            │\n",
       "│ test              ┆ \u001b[1;36m0\u001b[0m                ┆ f23ca98c-7a20-\u001b[1;36m45\u001b[0m ┆ Car Shop  ┆ Main Street \u001b[1;36m3\u001b[0m ┆ Cartown    │\n",
       "│                   ┆                  ┆ \u001b[1;36m43\u001b[0m-a90f-2ac8ee…  ┆           ┆               ┆            │\n",
       "│ test              ┆ \u001b[1;36m1\u001b[0m                ┆ a6e6442a-ac5c-\u001b[1;36m49\u001b[0m ┆ Bakery    ┆ Main Street \u001b[1;36m1\u001b[0m ┆ Bakerville │\n",
       "│                   ┆                  ┆ \u001b[1;36m81\u001b[0m-87ef-4d2840…  ┆           ┆               ┆            │\n",
       "└───────────────────┴──────────────────┴──────────────────┴───────────┴───────────────┴────────────┘"
      ]
     },
     "execution_count": 22,
     "metadata": {},
     "output_type": "execute_result"
    }
   ],
   "source": [
    "db[Search.results.x.org].df()"
   ]
  },
  {
   "cell_type": "code",
   "execution_count": null,
   "metadata": {},
   "outputs": [
    {
     "data": {
      "text/html": [
       "<pre style=\"white-space:pre;overflow-x:auto;line-height:normal;font-family:Menlo,'DejaVu Sans Mono',consolas,'Courier New',monospace\"></pre>\n"
      ],
      "text/plain": []
     },
     "metadata": {},
     "output_type": "display_data"
    },
    {
     "data": {
      "text/html": [
       "<div><style>\n",
       ".dataframe > thead > tr,\n",
       ".dataframe > tbody > tr {\n",
       "  text-align: right;\n",
       "  white-space: pre-wrap;\n",
       "}\n",
       "</style>\n",
       "<small>shape: (3, 4)</small><table border=\"1\" class=\"dataframe\"><thead><tr><th>_id</th><th>name</th><th>address</th><th>city</th></tr><tr><td>str</td><td>str</td><td>str</td><td>str</td></tr></thead><tbody><tr><td>&quot;a6e6442a-ac5c-4981-87ef-4d2840…</td><td>&quot;Bakery&quot;</td><td>&quot;Main Street 1&quot;</td><td>&quot;Bakerville&quot;</td></tr><tr><td>&quot;55cdf244-0d31-4eaf-aa48-0bb1d0…</td><td>&quot;Shoe Shop&quot;</td><td>&quot;Main Street 2&quot;</td><td>&quot;Shoetown&quot;</td></tr><tr><td>&quot;f23ca98c-7a20-4543-a90f-2ac8ee…</td><td>&quot;Car Shop&quot;</td><td>&quot;Main Street 3&quot;</td><td>&quot;Cartown&quot;</td></tr></tbody></table></div>"
      ],
      "text/plain": [
       "\n",
       "shape: \u001b[1m(\u001b[0m\u001b[1;36m3\u001b[0m, \u001b[1;36m4\u001b[0m\u001b[1m)\u001b[0m\n",
       "┌─────────────────────────────────┬───────────┬───────────────┬────────────┐\n",
       "│ _id                             ┆ name      ┆ address       ┆ city       │\n",
       "│ ---                             ┆ ---       ┆ ---           ┆ ---        │\n",
       "│ str                             ┆ str       ┆ str           ┆ str        │\n",
       "╞═════════════════════════════════╪═══════════╪═══════════════╪════════════╡\n",
       "│ a6e6442a-ac5c-\u001b[1;36m4981\u001b[0m-87ef-4d2840… ┆ Bakery    ┆ Main Street \u001b[1;36m1\u001b[0m ┆ Bakerville │\n",
       "│ 55cdf244-0d31-4eaf-aa48-0bb1d0… ┆ Shoe Shop ┆ Main Street \u001b[1;36m2\u001b[0m ┆ Shoetown   │\n",
       "│ f23ca98c-7a20-\u001b[1;36m4543\u001b[0m-a90f-2ac8ee… ┆ Car Shop  ┆ Main Street \u001b[1;36m3\u001b[0m ┆ Cartown    │\n",
       "└─────────────────────────────────┴───────────┴───────────────┴────────────┘"
      ]
     },
     "execution_count": 23,
     "metadata": {},
     "output_type": "execute_result"
    }
   ],
   "source": [
    "db[Organization].df()"
   ]
  },
  {
   "cell_type": "code",
   "execution_count": null,
   "metadata": {},
   "outputs": [
    {
     "data": {
      "text/html": [
       "<pre style=\"white-space:pre;overflow-x:auto;line-height:normal;font-family:Menlo,'DejaVu Sans Mono',consolas,'Courier New',monospace\"></pre>\n"
      ],
      "text/plain": []
     },
     "metadata": {},
     "output_type": "display_data"
    },
    {
     "data": {
      "text/html": [
       "<div><style>\n",
       ".dataframe > thead > tr,\n",
       ".dataframe > tbody > tr {\n",
       "  text-align: right;\n",
       "  white-space: pre-wrap;\n",
       "}\n",
       "</style>\n",
       "<small>shape: (1, 4)</small><table border=\"1\" class=\"dataframe\"><thead><tr><th>_id</th><th>score</th><th>_from_term</th><th>_to_number</th></tr><tr><td>str</td><td>f64</td><td>str</td><td>i64</td></tr></thead><tbody><tr><td>&quot;4376575091&quot;</td><td>0.9</td><td>&quot;test&quot;</td><td>0</td></tr></tbody></table></div>"
      ],
      "text/plain": [
       "\n",
       "shape: \u001b[1m(\u001b[0m\u001b[1;36m1\u001b[0m, \u001b[1;36m4\u001b[0m\u001b[1m)\u001b[0m\n",
       "┌────────────┬───────┬────────────┬────────────┐\n",
       "│ _id        ┆ score ┆ _from_term ┆ _to_number │\n",
       "│ ---        ┆ ---   ┆ ---        ┆ ---        │\n",
       "│ str        ┆ f64   ┆ str        ┆ i64        │\n",
       "╞════════════╪═══════╪════════════╪════════════╡\n",
       "│ \u001b[1;36m4376575091\u001b[0m ┆ \u001b[1;36m0.9\u001b[0m   ┆ test       ┆ \u001b[1;36m0\u001b[0m          │\n",
       "└────────────┴───────┴────────────┴────────────┘"
      ]
     },
     "execution_count": 24,
     "metadata": {},
     "output_type": "execute_result"
    }
   ],
   "source": [
    "db[SearchResult._table[SearchResult.score.isin(slice(0.81, 0.9))]].df()"
   ]
  },
  {
   "cell_type": "code",
   "execution_count": null,
   "metadata": {},
   "outputs": [
    {
     "data": {
      "text/html": [
       "<pre style=\"white-space:pre;overflow-x:auto;line-height:normal;font-family:Menlo,'DejaVu Sans Mono',consolas,'Courier New',monospace\"></pre>\n"
      ],
      "text/plain": []
     },
     "metadata": {},
     "output_type": "display_data"
    },
    {
     "data": {
      "text/html": [
       "<div>\n",
       "<style scoped>\n",
       "    .dataframe tbody tr th:only-of-type {\n",
       "        vertical-align: middle;\n",
       "    }\n",
       "\n",
       "    .dataframe tbody tr th {\n",
       "        vertical-align: top;\n",
       "    }\n",
       "\n",
       "    .dataframe thead th {\n",
       "        text-align: right;\n",
       "    }\n",
       "</style>\n",
       "<table border=\"1\" class=\"dataframe\">\n",
       "  <thead>\n",
       "    <tr style=\"text-align: right;\">\n",
       "      <th></th>\n",
       "      <th></th>\n",
       "      <th>value</th>\n",
       "    </tr>\n",
       "    <tr>\n",
       "      <th>schema.Organization._id</th>\n",
       "      <th>schema.Organization.ccs.idx</th>\n",
       "      <th></th>\n",
       "    </tr>\n",
       "  </thead>\n",
       "  <tbody>\n",
       "    <tr>\n",
       "      <th rowspan=\"3\" valign=\"top\">f23ca98c-7a20-4543-a90f-2ac8ee6d1c34</th>\n",
       "      <th>0</th>\n",
       "      <td>USA</td>\n",
       "    </tr>\n",
       "    <tr>\n",
       "      <th>1</th>\n",
       "      <td>Mexico</td>\n",
       "    </tr>\n",
       "    <tr>\n",
       "      <th>2</th>\n",
       "      <td>Canada</td>\n",
       "    </tr>\n",
       "    <tr>\n",
       "      <th rowspan=\"2\" valign=\"top\">a6e6442a-ac5c-4981-87ef-4d2840b0a891</th>\n",
       "      <th>0</th>\n",
       "      <td>USA</td>\n",
       "    </tr>\n",
       "    <tr>\n",
       "      <th>1</th>\n",
       "      <td>Mexico</td>\n",
       "    </tr>\n",
       "    <tr>\n",
       "      <th rowspan=\"2\" valign=\"top\">55cdf244-0d31-4eaf-aa48-0bb1d0a742f5</th>\n",
       "      <th>0</th>\n",
       "      <td>USA</td>\n",
       "    </tr>\n",
       "    <tr>\n",
       "      <th>1</th>\n",
       "      <td>Canada</td>\n",
       "    </tr>\n",
       "  </tbody>\n",
       "</table>\n",
       "</div>"
      ],
      "text/plain": [
       "\n",
       "                                                                   value\n",
       "schema.Organization._id              schema.Organization.ccs.idx        \n",
       "\u001b[93mf23ca98c-7a20-4543-a90f-2ac8ee6d1c34\u001b[0m \u001b[1;36m0\u001b[0m                               USA\n",
       "                                     \u001b[1;36m1\u001b[0m                            Mexico\n",
       "                                     \u001b[1;36m2\u001b[0m                            Canada\n",
       "\u001b[93ma6e6442a-ac5c-4981-87ef-4d2840b0a891\u001b[0m \u001b[1;36m0\u001b[0m                               USA\n",
       "                                     \u001b[1;36m1\u001b[0m                            Mexico\n",
       "\u001b[93m55cdf244-0d31-4eaf-aa48-0bb1d0a742f5\u001b[0m \u001b[1;36m0\u001b[0m                               USA\n",
       "                                     \u001b[1;36m1\u001b[0m                            Canada"
      ]
     },
     "execution_count": 25,
     "metadata": {},
     "output_type": "execute_result"
    }
   ],
   "source": [
    "import pandas as pd\n",
    "\n",
    "\n",
    "db[Organization.ccs].df(pd.DataFrame)"
   ]
  },
  {
   "cell_type": "code",
   "execution_count": 26,
   "metadata": {},
   "outputs": [
    {
     "name": "stdout",
     "output_type": "stream",
     "text": [
      "         478855 function calls (440534 primitive calls) in 0.855 seconds\n",
      "\n",
      "   Ordered by: cumulative time\n",
      "   List reduced from 2292 to 160 due to restriction <'py_research'>\n",
      "\n",
      "   ncalls  tottime  percall  cumtime  percall filename:lineno(function)\n",
      "       55    0.000    0.000    0.310    0.006 C:\\Users\\lworm\\Repos\\py-research\\src\\py_research\\db\\datasources.py:697(_load_rec_from_item)\n",
      "       55    0.002    0.000    0.306    0.006 C:\\Users\\lworm\\Repos\\py-research\\src\\py_research\\db\\datasources.py:572(_load_record)\n",
      "       60    0.000    0.000    0.290    0.005 C:\\Users\\lworm\\Repos\\py-research\\src\\py_research\\db\\datasources.py:845(load)\n",
      "   176/61    0.001    0.000    0.280    0.005 C:\\Users\\lworm\\Repos\\py-research\\src\\py_research\\db\\datasources.py:665(_load_records)\n",
      "       19    0.000    0.000    0.255    0.013 C:\\Users\\lworm\\Repos\\py-research\\src\\py_research\\db\\databases.py:1522(__ior__)\n",
      "       19    0.001    0.000    0.255    0.013 C:\\Users\\lworm\\Repos\\py-research\\src\\py_research\\db\\databases.py:2977(_mutate)\n",
      "       18    0.001    0.000    0.223    0.012 C:\\Users\\lworm\\Repos\\py-research\\src\\py_research\\db\\databases.py:3114(_mutate_from_records)\n",
      "17643/7702    0.018    0.000    0.199    0.000 C:\\Users\\lworm\\Repos\\py-research\\src\\py_research\\caching.py:382(__get__)\n",
      "       48    0.000    0.000    0.180    0.004 C:\\Users\\lworm\\Repos\\py-research\\src\\py_research\\db\\databases.py:740(keys)\n",
      "       48    0.001    0.000    0.178    0.004 C:\\Users\\lworm\\Repos\\py-research\\src\\py_research\\db\\databases.py:905(df)\n",
      "       16    0.000    0.000    0.164    0.010 C:\\Users\\lworm\\Repos\\py-research\\src\\py_research\\db\\databases.py:2951(_df_to_table)\n",
      "       49    0.000    0.000    0.121    0.002 C:\\Users\\lworm\\Repos\\py-research\\src\\py_research\\caching.py:364(__call__)\n",
      "       49    0.001    0.000    0.120    0.002 C:\\Users\\lworm\\Repos\\py-research\\src\\py_research\\db\\databases.py:650(select)\n"
     ]
    },
    {
     "name": "stdout",
     "output_type": "stream",
     "text": [
      "      209    0.001    0.000    0.083    0.000 C:\\Users\\lworm\\Repos\\py-research\\src\\py_research\\db\\databases.py:698(__hash__)\n",
      " 8013/243    0.008    0.000    0.065    0.000 C:\\Users\\lworm\\Repos\\py-research\\src\\py_research\\hashing.py:54(inner)\n",
      " 8013/243    0.017    0.000    0.064    0.000 C:\\Users\\lworm\\Repos\\py-research\\src\\py_research\\hashing.py:69(gen_int_hash)\n",
      "  948/269    0.001    0.000    0.062    0.000 C:\\Users\\lworm\\Repos\\py-research\\src\\py_research\\hashing.py:43(_hash_sequence)\n",
      "3424/2229    0.006    0.000    0.061    0.000 C:\\Users\\lworm\\Repos\\py-research\\src\\py_research\\hashing.py:44(<lambda>)\n",
      "       77    0.000    0.000    0.055    0.001 C:\\Users\\lworm\\Repos\\py-research\\src\\py_research\\db\\databases.py:2463(_sql_col)\n",
      "    82/71    0.001    0.000    0.046    0.001 C:\\Users\\lworm\\Repos\\py-research\\src\\py_research\\db\\databases.py:2748(_gen_sql_base_table)\n",
      "1951/1950    0.004    0.000    0.044    0.000 C:\\Users\\lworm\\Repos\\py-research\\src\\py_research\\db\\databases.py:2530(_get_typearg)\n",
      "  130/129    0.000    0.000    0.044    0.000 C:\\Users\\lworm\\Repos\\py-research\\src\\py_research\\db\\databases.py:2469(_sql_table)\n",
      "       16    0.001    0.000    0.042    0.003 C:\\Users\\lworm\\Repos\\py-research\\src\\py_research\\db\\databases.py:3207(_mutate_from_sql)\n",
      "       59    0.001    0.000    0.041    0.001 C:\\Users\\lworm\\Repos\\py-research\\src\\py_research\\db\\databases.py:2215(_abs_idx_cols)\n",
      "       49    0.000    0.000    0.038    0.001 C:\\Users\\lworm\\Repos\\py-research\\src\\py_research\\db\\databases.py:2417(_sql_joins)\n",
      "       49    0.000    0.000    0.038    0.001 C:\\Users\\lworm\\Repos\\py-research\\src\\py_research\\db\\databases.py:2367(_total_join_dict)\n",
      "       49    0.000    0.000    0.037    0.001 C:\\Users\\lworm\\Repos\\py-research\\src\\py_research\\db\\databases.py:2363(_total_joins)\n",
      "       49    0.000    0.000    0.036    0.001 C:\\Users\\lworm\\Repos\\py-research\\src\\py_research\\db\\databases.py:2300(_abs_filters)\n",
      "       11    0.000    0.000    0.036    0.003 C:\\Users\\lworm\\Repos\\py-research\\src\\py_research\\telemetry.py:104(tqdm)\n",
      "       78    0.000    0.000    0.030    0.000 C:\\Users\\lworm\\Repos\\py-research\\src\\py_research\\db\\databases.py:2672(_visit_filter_col)\n",
      "  296/295    0.001    0.000    0.030    0.000 C:\\Users\\lworm\\Repos\\py-research\\src\\py_research\\db\\databases.py:2011(_generic_args)\n",
      "       16    0.001    0.000    0.029    0.002 C:\\Users\\lworm\\Repos\\py-research\\src\\py_research\\db\\databases.py:2861(_values_to_df)\n",
      "  296/295    0.001    0.000    0.027    0.000 C:\\Users\\lworm\\Repos\\py-research\\src\\py_research\\db\\databases.py:2002(_generic_type)\n",
      "       12    0.000    0.000    0.025    0.002 C:\\Users\\lworm\\Repos\\py-research\\src\\py_research\\db\\databases.py:2380(_fk_map)\n",
      "       10    0.000    0.000    0.024    0.002 C:\\Users\\lworm\\Repos\\py-research\\src\\py_research\\db\\datasources.py:291(sub_tables)\n",
      "  840/833    0.002    0.000    0.024    0.000 C:\\Users\\lworm\\Repos\\py-research\\src\\py_research\\db\\databases.py:4523(_props)\n",
      "       13    0.000    0.000    0.023    0.002 C:\\Users\\lworm\\Repos\\py-research\\src\\py_research\\db\\databases.py:4254(_create_sqla_table)\n",
      "  144/143    0.000    0.000    0.023    0.000 C:\\Users\\lworm\\Repos\\py-research\\src\\py_research\\db\\databases.py:2114(_link)\n",
      "1024/1017    0.002    0.000    0.022    0.000 C:\\Users\\lworm\\Repos\\py-research\\src\\py_research\\db\\databases.py:4513(_class_fk_values)\n",
      "       10    0.000    0.000    0.022    0.002 C:\\Users\\lworm\\Repos\\py-research\\src\\py_research\\db\\datasources.py:272(full_map)\n",
      "1918/1916    0.005    0.000    0.021    0.000 C:\\Users\\lworm\\Repos\\py-research\\src\\py_research\\db\\databases.py:2547(_hint_to_typedef)\n",
      "     4388    0.011    0.000    0.021    0.000 C:\\Users\\lworm\\Repos\\py-research\\src\\py_research\\hashing.py:34(_stable_hash)\n",
      "        8    0.000    0.000    0.020    0.003 C:\\Users\\lworm\\Repos\\py-research\\src\\py_research\\db\\datasources.py:431(_push_to_pull_map)\n",
      "      183    0.000    0.000    0.020    0.000 C:\\Users\\lworm\\Repos\\py-research\\src\\py_research\\db\\databases.py:2163(_tip)\n",
      "      227    0.000    0.000    0.018    0.000 C:\\Users\\lworm\\Repos\\py-research\\src\\py_research\\db\\databases.py:4196(__hash__)\n",
      "      265    0.001    0.000    0.018    0.000 C:\\Users\\lworm\\Repos\\py-research\\src\\py_research\\db\\databases.py:4576(_tables)\n",
      "        1    0.000    0.000    0.017    0.017 C:\\Users\\lworm\\Repos\\py-research\\src\\py_research\\db\\databases.py:3100(_mutate_from_values)\n",
      "      162    0.000    0.000    0.017    0.000 C:\\Users\\lworm\\Repos\\py-research\\src\\py_research\\db\\databases.py:4580(_links)\n",
      "      206    0.008    0.000    0.016    0.000 C:\\Users\\lworm\\Repos\\py-research\\src\\py_research\\data.py:33(copy_and_override)\n",
      "       16    0.001    0.000    0.016    0.001 C:\\Users\\lworm\\Repos\\py-research\\src\\py_research\\db\\databases.py:2907(_gen_upload_table)\n",
      "      460    0.001    0.000    0.015    0.000 C:\\Users\\lworm\\Repos\\py-research\\src\\py_research\\reflect\\types.py:56(is_subtype)\n",
      "      143    0.000    0.000    0.015    0.000 C:\\Users\\lworm\\Repos\\py-research\\src\\py_research\\db\\databases.py:2065(_backlink)\n",
      "       36    0.001    0.000    0.014    0.000 C:\\Users\\lworm\\Repos\\py-research\\src\\py_research\\db\\databases.py:4787(__init__)\n",
      "  150/149    0.000    0.000    0.014    0.000 C:\\Users\\lworm\\Repos\\py-research\\src\\py_research\\db\\databases.py:552(target_type)\n",
      "      320    0.000    0.000    0.012    0.000 C:\\Users\\lworm\\Repos\\py-research\\src\\py_research\\reflect\\types.py:65(has_type)\n",
      "       51    0.000    0.000    0.012    0.000 C:\\Users\\lworm\\Repos\\py-research\\src\\py_research\\db\\databases.py:1688(__eq__)\n",
      "       41    0.000    0.000    0.011    0.000 C:\\Users\\lworm\\Repos\\py-research\\src\\py_research\\db\\databases.py:2850(_gen_fk_value_map)\n",
      "     1464    0.001    0.000    0.011    0.000 C:\\Users\\lworm\\Repos\\py-research\\src\\py_research\\db\\databases.py:703(<genexpr>)\n",
      "      140    0.000    0.000    0.011    0.000 C:\\Users\\lworm\\Repos\\py-research\\src\\py_research\\db\\databases.py:569(relation_type)\n",
      "       48    0.000    0.000    0.010    0.000 C:\\Users\\lworm\\Repos\\py-research\\src\\py_research\\db\\datasources.py:537(_gen_match_expr)\n",
      "      384    0.000    0.000    0.010    0.000 C:\\Users\\lworm\\Repos\\py-research\\src\\py_research\\db\\databases.py:547(value_type)\n",
      "       47    0.000    0.000    0.009    0.000 C:\\Users\\lworm\\Repos\\py-research\\src\\py_research\\db\\datasources.py:555(<genexpr>)\n",
      "       60    0.001    0.000    0.009    0.000 C:\\Users\\lworm\\Repos\\py-research\\src\\py_research\\db\\databases.py:1331(__getitem__)\n",
      "       13    0.000    0.000    0.009    0.001 C:\\Users\\lworm\\Repos\\py-research\\src\\py_research\\db\\databases.py:2691(_gen_sql_base_cols)\n",
      "       10    0.000    0.000    0.008    0.001 C:\\Users\\lworm\\Repos\\py-research\\src\\py_research\\db\\databases.py:2281(_base_table_map)\n",
      "    13/12    0.000    0.000    0.008    0.001 C:\\Users\\lworm\\Repos\\py-research\\src\\py_research\\db\\databases.py:2714(_gen_sql_base_fks)\n",
      "       16    0.000    0.000    0.008    0.000 C:\\Users\\lworm\\Repos\\py-research\\src\\py_research\\db\\databases.py:327(_get_pl_schema)\n",
      "  230/198    0.001    0.000    0.008    0.000 C:\\Users\\lworm\\Repos\\py-research\\src\\py_research\\db\\databases.py:587(fqn)\n",
      "  124/123    0.000    0.000    0.007    0.000 C:\\Users\\lworm\\Repos\\py-research\\src\\py_research\\db\\databases.py:562(record_type)\n",
      "    89/74    0.000    0.000    0.006    0.000 C:\\Users\\lworm\\Repos\\py-research\\src\\py_research\\db\\databases.py:533(path)\n",
      "       11    0.000    0.000    0.006    0.001 C:\\Users\\lworm\\Repos\\py-research\\src\\py_research\\db\\databases.py:2181(_abs_cols)\n",
      "      241    0.000    0.000    0.006    0.000 C:\\Users\\lworm\\Repos\\py-research\\src\\py_research\\db\\databases.py:2159(_root)\n",
      "       38    0.000    0.000    0.005    0.000 C:\\Users\\lworm\\Repos\\py-research\\src\\py_research\\db\\databases.py:2644(_prepend_ctx)\n",
      "  606/445    0.002    0.000    0.005    0.000 C:\\Users\\lworm\\Repos\\py-research\\src\\py_research\\db\\databases.py:1880(__get__)\n",
      "       48    0.000    0.000    0.005    0.000 C:\\Users\\lworm\\Repos\\py-research\\src\\py_research\\db\\databases.py:4895(_is_complete_dict)\n",
      "       96    0.000    0.000    0.005    0.000 C:\\Users\\lworm\\Repos\\py-research\\src\\py_research\\db\\datasources.py:207(select)\n",
      "       96    0.000    0.000    0.004    0.000 C:\\Users\\lworm\\Repos\\py-research\\src\\py_research\\db\\datasources.py:104(select)\n",
      "      212    0.001    0.000    0.004    0.000 C:\\Users\\lworm\\Repos\\py-research\\src\\py_research\\db\\databases.py:4564(_values)\n",
      "       96    0.001    0.000    0.004    0.000 C:\\Users\\lworm\\Repos\\py-research\\src\\py_research\\db\\datasources.py:56(_select_on_level)\n",
      "        3    0.000    0.000    0.004    0.001 C:\\Users\\lworm\\Repos\\py-research\\src\\py_research\\db\\databases.py:3797(engine)\n",
      "       38    0.000    0.000    0.003    0.000 C:\\Users\\lworm\\Repos\\py-research\\src\\py_research\\db\\databases.py:2660(<lambda>)\n",
      "     1024    0.002    0.000    0.003    0.000 C:\\Users\\lworm\\Repos\\py-research\\src\\py_research\\db\\databases.py:4502(_class_links)\n",
      "       16    0.000    0.000    0.003    0.000 C:\\Users\\lworm\\Repos\\py-research\\src\\py_research\\db\\databases.py:4997(__post_init__)\n",
      "       48    0.000    0.000    0.003    0.000 C:\\Users\\lworm\\Repos\\py-research\\src\\py_research\\db\\databases.py:4572(_non_fk_values)\n",
      "       52    0.000    0.000    0.003    0.000 C:\\Users\\lworm\\Repos\\py-research\\src\\py_research\\db\\databases.py:2328(<genexpr>)\n",
      "       52    0.000    0.000    0.003    0.000 C:\\Users\\lworm\\Repos\\py-research\\src\\py_research\\db\\databases.py:2331(<genexpr>)\n",
      "        8    0.000    0.000    0.002    0.000 C:\\Users\\lworm\\Repos\\py-research\\src\\py_research\\db\\datasources.py:407(_parse_pushmap)\n",
      "       16    0.000    0.000    0.002    0.000 C:\\Users\\lworm\\Repos\\py-research\\src\\py_research\\hashing.py:143(gen_str_hash)\n",
      "      127    0.000    0.000    0.002    0.000 C:\\Users\\lworm\\Repos\\py-research\\src\\py_research\\db\\databases.py:520(db)\n",
      "       37    0.000    0.000    0.002    0.000 C:\\Users\\lworm\\Repos\\py-research\\src\\py_research\\db\\databases.py:4873(_to_dict)\n",
      "      120    0.000    0.000    0.002    0.000 C:\\Users\\lworm\\Repos\\py-research\\src\\py_research\\db\\databases.py:4533(_pk_values)\n",
      "      285    0.000    0.000    0.002    0.000 C:\\Users\\lworm\\Repos\\py-research\\src\\py_research\\hashing.py:109(<genexpr>)\n",
      "      172    0.000    0.000    0.002    0.000 C:\\Users\\lworm\\Repos\\py-research\\src\\py_research\\db\\databases.py:2037(_ctx_module)\n",
      "  202/166    0.001    0.000    0.002    0.000 C:\\Users\\lworm\\Repos\\py-research\\src\\py_research\\db\\databases.py:1942(__set__)\n",
      "      171    0.000    0.000    0.002    0.000 C:\\Users\\lworm\\Repos\\py-research\\src\\py_research\\db\\databases.py:4555(_fk_values)\n",
      "       59    0.000    0.000    0.002    0.000 C:\\Users\\lworm\\Repos\\py-research\\src\\py_research\\db\\databases.py:2175(_abs_link_path)\n",
      "       58    0.000    0.000    0.001    0.000 C:\\Users\\lworm\\Repos\\py-research\\src\\py_research\\db\\databases.py:4568(_col_values)\n",
      "       22    0.000    0.000    0.001    0.000 C:\\Users\\lworm\\Repos\\py-research\\src\\py_research\\db\\databases.py:580(base_type)\n",
      "      103    0.000    0.000    0.001    0.000 C:\\Users\\lworm\\Repos\\py-research\\src\\py_research\\db\\databases.py:4584(_arrays)\n",
      "       69    0.000    0.000    0.001    0.000 C:\\Users\\lworm\\Repos\\py-research\\src\\py_research\\db\\datasources.py:481(_sliding_batch_map)\n",
      "      157    0.000    0.000    0.001    0.000 C:\\Users\\lworm\\Repos\\py-research\\src\\py_research\\db\\databases.py:3515(name)\n",
      "       92    0.000    0.000    0.001    0.000 C:\\Users\\lworm\\Repos\\py-research\\src\\py_research\\db\\databases.py:4735(_get_table_name)\n",
      "      138    0.001    0.000    0.001    0.000 C:\\Users\\lworm\\Repos\\py-research\\src\\py_research\\db\\databases.py:3510(__post_init__)\n",
      "1881/1879    0.000    0.000    0.001    0.000 C:\\Users\\lworm\\Repos\\py-research\\src\\py_research\\db\\databases.py:4402(_get_class_props)\n",
      "       72    0.000    0.000    0.001    0.000 C:\\Users\\lworm\\Repos\\py-research\\src\\py_research\\db\\databases.py:3347(<genexpr>)\n",
      "        1    0.000    0.000    0.001    0.001 C:\\Users\\lworm\\Repos\\py-research\\src\\py_research\\db\\databases.py:3640(relation_type)\n",
      "       92    0.000    0.000    0.001    0.000 C:\\Users\\lworm\\Repos\\py-research\\src\\py_research\\db\\databases.py:4721(_default_table_name)\n",
      "       22    0.000    0.000    0.001    0.000 C:\\Users\\lworm\\Repos\\py-research\\src\\py_research\\db\\databases.py:4151(__getitem__)\n",
      "      162    0.000    0.000    0.001    0.000 C:\\Users\\lworm\\Repos\\py-research\\src\\py_research\\db\\databases.py:2015(_ctx_type)\n",
      "      276    0.000    0.000    0.001    0.000 C:\\Users\\lworm\\Repos\\py-research\\src\\py_research\\db\\databases.py:2024(_ctx_table)\n",
      "       39    0.000    0.000    0.001    0.000 C:\\Users\\lworm\\Repos\\py-research\\src\\py_research\\db\\databases.py:603(ctx)\n",
      "      162    0.000    0.000    0.001    0.000 C:\\Users\\lworm\\Repos\\py-research\\src\\py_research\\db\\databases.py:2597(_hint_to_type)\n",
      "     3313    0.001    0.000    0.001    0.000 C:\\Users\\lworm\\Repos\\py-research\\src\\py_research\\data.py:56(<genexpr>)\n",
      "     3305    0.001    0.000    0.001    0.000 C:\\Users\\lworm\\Repos\\py-research\\src\\py_research\\data.py:82(<genexpr>)\n",
      "       16    0.000    0.000    0.001    0.000 C:\\Users\\lworm\\Repos\\py-research\\src\\py_research\\db\\databases.py:4987(<lambda>)\n",
      "        2    0.000    0.000    0.001    0.000 C:\\Users\\lworm\\Repos\\py-research\\src\\py_research\\db\\databases.py:322(<lambda>)\n",
      "        1    0.000    0.000    0.001    0.001 C:\\Users\\lworm\\Repos\\py-research\\src\\py_research\\db\\databases.py:3810(df_engine)\n",
      "        2    0.000    0.000    0.001    0.000 C:\\Users\\lworm\\Repos\\py-research\\src\\py_research\\db\\databases.py:4353(__init__)\n",
      "      191    0.000    0.000    0.000    0.000 C:\\Users\\lworm\\Repos\\py-research\\src\\py_research\\db\\databases.py:4588(_fqn)\n",
      "       13    0.000    0.000    0.000    0.000 C:\\Users\\lworm\\Repos\\py-research\\src\\py_research\\db\\databases.py:4542(_class_values)\n",
      "       23    0.000    0.000    0.000    0.000 C:\\Users\\lworm\\Repos\\py-research\\src\\py_research\\db\\databases.py:3705(__post_init__)\n",
      "        1    0.000    0.000    0.000    0.000 C:\\Users\\lworm\\Repos\\py-research\\src\\py_research\\db\\databases.py:4959(dynamic_record_type)\n",
      "        8    0.000    0.000    0.000    0.000 C:\\Users\\lworm\\Repos\\py-research\\src\\py_research\\db\\datasources.py:401(__post_init__)\n",
      "       37    0.000    0.000    0.000    0.000 C:\\Users\\lworm\\Repos\\py-research\\src\\py_research\\db\\databases.py:3123(<lambda>)\n",
      "      150    0.000    0.000    0.000    0.000 C:\\Users\\lworm\\Repos\\py-research\\src\\py_research\\db\\databases.py:4902(<genexpr>)\n",
      "       77    0.000    0.000    0.000    0.000 C:\\Users\\lworm\\Repos\\py-research\\src\\py_research\\db\\databases.py:4909(<genexpr>)\n",
      "       49    0.000    0.000    0.000    0.000 C:\\Users\\lworm\\Repos\\py-research\\src\\py_research\\db\\databases.py:2351(_abs_joins)\n",
      "       19    0.000    0.000    0.000    0.000 C:\\Users\\lworm\\Repos\\py-research\\src\\py_research\\db\\databases.py:3760(db_id)\n",
      "      840    0.000    0.000    0.000    0.000 C:\\Users\\lworm\\Repos\\py-research\\src\\py_research\\db\\databases.py:4529(<genexpr>)\n",
      "       37    0.000    0.000    0.000    0.000 C:\\Users\\lworm\\Repos\\py-research\\src\\py_research\\db\\databases.py:3125(<lambda>)\n",
      "        6    0.000    0.000    0.000    0.000 C:\\Users\\lworm\\Repos\\py-research\\src\\py_research\\db\\datasources.py:351(select)\n",
      "       49    0.000    0.000    0.000    0.000 C:\\Users\\lworm\\Repos\\py-research\\src\\py_research\\db\\databases.py:2453(_sql_filters)\n",
      "        2    0.000    0.000    0.000    0.000 C:\\Users\\lworm\\Repos\\py-research\\src\\py_research\\db\\databases.py:4714(__init_subclass__)\n",
      "        1    0.000    0.000    0.000    0.000 C:\\Users\\lworm\\Repos\\py-research\\src\\py_research\\db\\datasources.py:175(_PushMapping)\n",
      "     15/2    0.000    0.000    0.000    0.000 C:\\Users\\lworm\\Repos\\py-research\\src\\py_research\\db\\databases.py:4332(_get_typevar_map)\n",
      "      176    0.000    0.000    0.000    0.000 C:\\Users\\lworm\\Repos\\py-research\\src\\py_research\\db\\databases.py:542(name)\n",
      "     21/7    0.000    0.000    0.000    0.000 C:\\Users\\lworm\\Repos\\py-research\\src\\py_research\\db\\databases.py:4349(<genexpr>)\n",
      "      110    0.000    0.000    0.000    0.000 C:\\Users\\lworm\\Repos\\py-research\\src\\py_research\\db\\datasources.py:266(record_type)\n",
      "       82    0.000    0.000    0.000    0.000 C:\\Users\\lworm\\Repos\\py-research\\src\\py_research\\db\\databases.py:4910(<genexpr>)\n",
      "       19    0.000    0.000    0.000    0.000 C:\\Users\\lworm\\Repos\\py-research\\src\\py_research\\db\\databases.py:4240(_get_valid_cache_set)\n",
      "       23    0.000    0.000    0.000    0.000 C:\\Users\\lworm\\Repos\\py-research\\src\\py_research\\db\\databases.py:4206(_schema_map)\n",
      "      171    0.000    0.000    0.000    0.000 C:\\Users\\lworm\\Repos\\py-research\\src\\py_research\\db\\databases.py:4560(<genexpr>)\n",
      "        3    0.000    0.000    0.000    0.000 C:\\Users\\lworm\\Repos\\py-research\\src\\py_research\\db\\databases.py:3770(backend_type)\n",
      "        2    0.000    0.000    0.000    0.000 C:\\Users\\lworm\\Repos\\py-research\\src\\py_research\\db\\databases.py:3255(<genexpr>)\n",
      "       20    0.000    0.000    0.000    0.000 C:\\Users\\lworm\\Repos\\py-research\\src\\py_research\\caching.py:347(cache_name)\n",
      "       44    0.000    0.000    0.000    0.000 C:\\Users\\lworm\\Repos\\py-research\\src\\py_research\\db\\datasources.py:357(<genexpr>)\n",
      "        2    0.000    0.000    0.000    0.000 C:\\Users\\lworm\\Repos\\py-research\\src\\py_research\\db\\databases.py:3224(<genexpr>)\n",
      "        3    0.000    0.000    0.000    0.000 C:\\Users\\lworm\\Repos\\py-research\\src\\py_research\\db\\databases.py:3180(_mutate_rels_from_rec_ids)\n",
      "       10    0.000    0.000    0.000    0.000 C:\\Users\\lworm\\Repos\\py-research\\src\\py_research\\db\\databases.py:4394(_super_types)\n",
      "       20    0.000    0.000    0.000    0.000 C:\\Users\\lworm\\Repos\\py-research\\src\\py_research\\db\\databases.py:4844(__post_init__)\n",
      "        1    0.000    0.000    0.000    0.000 C:\\Users\\lworm\\Repos\\py-research\\src\\py_research\\db\\databases.py:2620(<lambda>)\n",
      "        1    0.000    0.000    0.000    0.000 C:\\Users\\lworm\\Repos\\py-research\\src\\py_research\\db\\databases.py:3632(_key_type)\n",
      "        4    0.000    0.000    0.000    0.000 C:\\Users\\lworm\\Repos\\py-research\\src\\py_research\\db\\datasources.py:422(_get_selector_name)\n",
      "        1    0.000    0.000    0.000    0.000 C:\\Users\\lworm\\Repos\\py-research\\src\\py_research\\db\\databases.py:4972(<lambda>)\n",
      "        1    0.000    0.000    0.000    0.000 C:\\Users\\lworm\\Repos\\py-research\\src\\py_research\\db\\databases.py:2149(_rel)\n",
      "        5    0.000    0.000    0.000    0.000 C:\\Users\\lworm\\Repos\\py-research\\src\\py_research\\db\\databases.py:4348(<lambda>)\n",
      "        1    0.000    0.000    0.000    0.000 C:\\Users\\lworm\\Repos\\py-research\\src\\py_research\\db\\datasources.py:187(parse)\n",
      "        1    0.000    0.000    0.000    0.000 C:\\Users\\lworm\\Repos\\py-research\\src\\py_research\\db\\databases.py:1786(__setitem__)\n",
      "        1    0.000    0.000    0.000    0.000 C:\\Users\\lworm\\Repos\\py-research\\src\\py_research\\db\\datasources.py:872(<genexpr>)\n",
      "        1    0.000    0.000    0.000    0.000 C:\\Users\\lworm\\Repos\\py-research\\src\\py_research\\db\\databases.py:4166(__setitem__)\n",
      "\n",
      "\n"
     ]
    },
    {
     "data": {
      "text/html": [
       "<pre style=\"white-space:pre;overflow-x:auto;line-height:normal;font-family:Menlo,'DejaVu Sans Mono',consolas,'Courier New',monospace\"></pre>\n"
      ],
      "text/plain": []
     },
     "metadata": {},
     "output_type": "display_data"
    },
    {
     "data": {
      "text/plain": [
       "\u001b[1m<\u001b[0m\u001b[1;95mpstats.Stats\u001b[0m\u001b[39m object at \u001b[0m\u001b[1;36m0x000001ADB154CCE0\u001b[0m\u001b[1m>\u001b[0m"
      ]
     },
     "execution_count": 26,
     "metadata": {},
     "output_type": "execute_result"
    }
   ],
   "source": [
    "stats.sort_stats(\"cumulative\")\n",
    "stats.print_stats(\"py_research\")"
   ]
  }
 ],
 "metadata": {
  "kernelspec": {
   "display_name": ".venv",
   "language": "python",
   "name": "python3"
  },
  "language_info": {
   "codemirror_mode": {
    "name": "ipython",
    "version": 3
   },
   "file_extension": ".py",
   "mimetype": "text/x-python",
   "name": "python",
   "nbconvert_exporter": "python",
   "pygments_lexer": "ipython3",
   "version": "3.12.4"
  }
 },
 "nbformat": 4,
 "nbformat_minor": 2
}

{
 "cells": [
  {
   "cell_type": "code",
   "execution_count": 1,
   "metadata": {},
   "outputs": [],
   "source": [
    "from __future__ import annotations\n",
    "\n",
    "import cProfile\n",
    "import pstats\n",
    "from asyncio import sleep"
   ]
  },
  {
   "cell_type": "code",
   "execution_count": 2,
   "metadata": {},
   "outputs": [],
   "source": [
    "from py_research.db import (\n",
    "    DataSource,\n",
    "    TableMap,\n",
    "    SubTableMap,\n",
    "    SubMap,\n",
    "    SelIndex,\n",
    "    DataBase\n",
    ")"
   ]
  },
  {
   "cell_type": "code",
   "execution_count": 3,
   "metadata": {},
   "outputs": [],
   "source": [
    "from schema import (\n",
    "    Search,\n",
    "    Project,\n",
    "    Task,\n",
    "    User,\n",
    "    Membership,\n",
    "    Organization,\n",
    "    SearchResult,\n",
    "    TestSchema,\n",
    ")"
   ]
  },
  {
   "cell_type": "code",
   "execution_count": 4,
   "metadata": {},
   "outputs": [],
   "source": [
    "from typing import Any\n",
    "\n",
    "\n",
    "async def dummy_loader(obj: dict[str, Any]) -> dict:\n",
    "    await sleep(0.2)\n",
    "    return {\n",
    "        'name': obj[\"name\"],\n",
    "        'role': obj[\"role\"],\n",
    "        'age': obj[\"age\"] + 1\n",
    "    }"
   ]
  },
  {
   "cell_type": "code",
   "execution_count": 5,
   "metadata": {},
   "outputs": [],
   "source": [
    "data_source = DataSource(\n",
    "    target=Search,\n",
    "    push={\n",
    "        \"resultCount\": Search.result_count,\n",
    "        \"search\": Search.term,\n",
    "        \"results\": SubTableMap(\n",
    "            target=Search.results,\n",
    "            rel_map=TableMap(push={SearchResult.score}),\n",
    "            push={\n",
    "                \"project_name\": Project.name,\n",
    "                \"project_start\": Project.start,\n",
    "                \"project_end\": Project.end,\n",
    "                \"project_status\": Project.status,\n",
    "                \"tasks\": SubTableMap(\n",
    "                    target=Project.tasks,\n",
    "                    push={\n",
    "                        \"task_name\": Task.name,\n",
    "                        \"task_assignees\": SubTableMap(\n",
    "                            target=Task.assignees,\n",
    "                            push=User.name,\n",
    "                            match_by=[User.name],\n",
    "                        ),\n",
    "                        \"task_status\": Task.status,\n",
    "                    },\n",
    "                ),\n",
    "                \"members\": SubTableMap(\n",
    "                    target=Project.members,\n",
    "                    loader=dummy_loader,\n",
    "                    push={User.name, User.age},\n",
    "                    match_by=[User.name],\n",
    "                    rel_map=TableMap(\n",
    "                        push={\n",
    "                            Membership.role,\n",
    "                        },\n",
    "                    ),\n",
    "                ),\n",
    "            },\n",
    "            pull={\n",
    "                Project.org: SubMap(\n",
    "                    push={\n",
    "                        \"organization_name\": Organization.name,\n",
    "                        \"organization_address\": Organization.address,\n",
    "                        \"organization_city\": Organization.city,\n",
    "                        \"organization_countries\": Organization.ccs,\n",
    "                    },\n",
    "                    match_by=[Organization.name, Organization.city],\n",
    "                ),\n",
    "                Project.number: SelIndex()\n",
    "            },\n",
    "        ),\n",
    "    },\n",
    ")"
   ]
  },
  {
   "cell_type": "code",
   "execution_count": 6,
   "metadata": {},
   "outputs": [],
   "source": [
    "from datetime import date\n",
    "\n",
    "\n",
    "data = {\n",
    "    \"resultCount\": 3,\n",
    "    \"search\": \"test\",\n",
    "    \"results\": [\n",
    "        {\n",
    "            \"score\": 0.9,\n",
    "            \"project_name\": \"baking cake\",\n",
    "            \"project_start\": date(2020, 1, 1),\n",
    "            \"project_end\": date(2020, 1, 4),\n",
    "            \"project_status\": \"done\",\n",
    "            \"organization_name\": \"Bakery\",\n",
    "            \"organization_address\": \"Main Street 1\",\n",
    "            \"organization_city\": \"Bakerville\",\n",
    "            \"organization_countries\": [\"USA\", \"Mexico\", \"Canada\"],\n",
    "            \"tasks\": [\n",
    "                {\n",
    "                    \"task_name\": \"task1\",\n",
    "                    \"task_assignees\": [\"John\"],\n",
    "                    \"task_status\": \"todo\",\n",
    "                },\n",
    "                {\n",
    "                    \"task_name\": \"task2\",\n",
    "                    \"task_assignees\": [\"John\"],\n",
    "                    \"task_status\": \"todo\",\n",
    "                },\n",
    "                {\n",
    "                    \"task_name\": \"task3\",\n",
    "                    \"task_assignees\": [\"Jane\"],\n",
    "                    \"task_status\": \"done\",\n",
    "                },\n",
    "            ],\n",
    "            \"members\": [\n",
    "                {\"name\": \"John\", \"role\": \"baker\", \"age\": 30},\n",
    "                {\"name\": \"John\", \"role\": \"manager\", \"age\": 40},\n",
    "            ],\n",
    "        },\n",
    "        {\n",
    "            \"score\": 0.8,\n",
    "            \"project_name\": \"cleaning shoes\",\n",
    "            \"project_start\": date(2020, 1, 2),\n",
    "            \"project_end\": date(2020, 1, 5),\n",
    "            \"project_status\": \"done\",\n",
    "            \"organization_name\": \"Shoe Shop\",\n",
    "            \"organization_address\": \"Main Street 2\",\n",
    "            \"organization_city\": \"Shoetown\",\n",
    "            \"organization_countries\": [\"USA\", \"Mexico\"],\n",
    "            \"tasks\": [\n",
    "                {\n",
    "                    \"task_name\": \"task4\",\n",
    "                    \"task_assignees\": [\"John\"],\n",
    "                    \"task_status\": \"todo\",\n",
    "                },\n",
    "                {\n",
    "                    \"task_name\": \"task5\",\n",
    "                    \"task_assignees\": [\"Jane\"],\n",
    "                    \"task_status\": \"todo\",\n",
    "                },\n",
    "            ],\n",
    "            \"members\": [\n",
    "                {\"name\": \"John\", \"role\": \"cleaner\", \"age\": 25},\n",
    "                {\"name\": \"Jane\", \"role\": \"manager\", \"age\": 35},\n",
    "            ],\n",
    "        },\n",
    "        {\n",
    "            \"score\": 0.7,\n",
    "            \"project_name\": \"fixing cars\",\n",
    "            \"project_start\": date(2020, 1, 3),\n",
    "            \"project_end\": date(2020, 1, 6),\n",
    "            \"project_status\": \"started\",\n",
    "            \"organization_name\": \"Car Shop\",\n",
    "            \"organization_address\": \"Main Street 3\",\n",
    "            \"organization_city\": \"Cartown\",\n",
    "            \"organization_countries\": [\"USA\", \"Canada\"],\n",
    "            \"tasks\": [\n",
    "                {\n",
    "                    \"task_name\": \"task6\",\n",
    "                    \"task_assignees\": [\"John\"],\n",
    "                    \"task_status\": \"todo\",\n",
    "                }\n",
    "            ],\n",
    "            \"members\": [\n",
    "                {\"name\": \"John\", \"role\": \"mechanic\", \"age\": 45},\n",
    "                {\"name\": \"Jane\", \"role\": \"manager\", \"age\": 55},\n",
    "                {\"name\": \"Jack\", \"role\": \"manager\", \"age\": 65},\n",
    "            ],\n",
    "        },\n",
    "    ],\n",
    "}"
   ]
  },
  {
   "cell_type": "code",
   "execution_count": 7,
   "metadata": {},
   "outputs": [
    {
     "name": "stderr",
     "output_type": "stream",
     "text": [
      "                                                                           \r"
     ]
    }
   ],
   "source": [
    "from pathlib import Path\n",
    "import warnings\n",
    "\n",
    "with warnings.catch_warnings():\n",
    "  warnings.simplefilter(\"error\")\n",
    "  with cProfile.Profile() as pr:\n",
    "    db = DataBase(schema=TestSchema, url=Path(\"./test.xlsx\"))\n",
    "    rec = await data_source.load([data], db=db)\n",
    "\n",
    "    stats = pstats.Stats(pr)"
   ]
  },
  {
   "cell_type": "code",
   "execution_count": 8,
   "metadata": {},
   "outputs": [
    {
     "data": {
      "text/html": [
       "<pre style=\"white-space:pre;overflow-x:auto;line-height:normal;font-family:Menlo,'DejaVu Sans Mono',consolas,'Courier New',monospace\"></pre>\n"
      ],
      "text/plain": []
     },
     "metadata": {},
     "output_type": "display_data"
    },
    {
     "data": {
      "text/plain": [
       "\n",
       "\u001b[1m[\u001b[0m\n",
       "    \u001b[1;35mUser\u001b[0m\u001b[1m(\u001b[0m\u001b[1m{\u001b[0m\u001b[32m'name'\u001b[0m: \u001b[32m'John'\u001b[0m, \u001b[32m'age'\u001b[0m: \u001b[1;36m31\u001b[0m, \u001b[32m'_id'\u001b[0m: \u001b[32m'1fe150f8-c59b-4c57-b37f-7da370fc9344'\u001b[0m\u001b[1m}\u001b[0m\u001b[1m)\u001b[0m,\n",
       "    \u001b[1;35mUser\u001b[0m\u001b[1m(\u001b[0m\u001b[1m{\u001b[0m\u001b[32m'name'\u001b[0m: \u001b[32m'Jane'\u001b[0m, \u001b[32m'age'\u001b[0m: \u001b[1;36m56\u001b[0m, \u001b[32m'_id'\u001b[0m: \u001b[32m'c2cf358d-c55c-4df6-9cda-eb9a5d835759'\u001b[0m\u001b[1m}\u001b[0m\u001b[1m)\u001b[0m,\n",
       "    \u001b[1;35mUser\u001b[0m\u001b[1m(\u001b[0m\u001b[1m{\u001b[0m\u001b[32m'name'\u001b[0m: \u001b[32m'Jack'\u001b[0m, \u001b[32m'age'\u001b[0m: \u001b[1;36m66\u001b[0m, \u001b[32m'_id'\u001b[0m: \u001b[32m'a3ac4b15-d79d-4cb7-9f56-d689b3aa55f3'\u001b[0m\u001b[1m}\u001b[0m\u001b[1m)\u001b[0m\n",
       "\u001b[1m]\u001b[0m"
      ]
     },
     "execution_count": 8,
     "metadata": {},
     "output_type": "execute_result"
    }
   ],
   "source": [
    "db[User].values()"
   ]
  },
  {
   "cell_type": "code",
   "execution_count": 9,
   "metadata": {},
   "outputs": [
    {
     "data": {
      "text/html": [
       "<pre style=\"white-space:pre;overflow-x:auto;line-height:normal;font-family:Menlo,'DejaVu Sans Mono',consolas,'Courier New',monospace\"></pre>\n"
      ],
      "text/plain": []
     },
     "metadata": {},
     "output_type": "display_data"
    },
    {
     "data": {
      "text/plain": [
       "\u001b[1m[\u001b[0m\u001b[32m'test'\u001b[0m\u001b[1m]\u001b[0m"
      ]
     },
     "execution_count": 9,
     "metadata": {},
     "output_type": "execute_result"
    }
   ],
   "source": [
    "db[Search.term].values()"
   ]
  },
  {
   "cell_type": "code",
   "execution_count": 10,
   "metadata": {},
   "outputs": [
    {
     "data": {
      "text/html": [
       "<pre style=\"white-space:pre;overflow-x:auto;line-height:normal;font-family:Menlo,'DejaVu Sans Mono',consolas,'Courier New',monospace\"></pre>\n"
      ],
      "text/plain": []
     },
     "metadata": {},
     "output_type": "display_data"
    },
    {
     "data": {
      "text/plain": [
       "\u001b[1m[\u001b[0m\u001b[1m(\u001b[0m\u001b[32m'test'\u001b[0m, \u001b[1;36m3\u001b[0m\u001b[1m)\u001b[0m\u001b[1m]\u001b[0m"
      ]
     },
     "execution_count": 10,
     "metadata": {},
     "output_type": "execute_result"
    }
   ],
   "source": [
    "list(db[Search.result_count].items())"
   ]
  },
  {
   "cell_type": "code",
   "execution_count": 11,
   "metadata": {},
   "outputs": [
    {
     "data": {
      "text/html": [
       "<pre style=\"white-space:pre;overflow-x:auto;line-height:normal;font-family:Menlo,'DejaVu Sans Mono',consolas,'Courier New',monospace\"></pre>\n"
      ],
      "text/plain": []
     },
     "metadata": {},
     "output_type": "display_data"
    },
    {
     "data": {
      "text/plain": [
       "\n",
       "\u001b[1m[\u001b[0m\n",
       "    \u001b[1m(\u001b[0m\n",
       "        \u001b[1m(\u001b[0m\u001b[32m'test'\u001b[0m, \u001b[1;36m0\u001b[0m\u001b[1m)\u001b[0m,\n",
       "        \u001b[1;35mOrganization\u001b[0m\u001b[1m(\u001b[0m\u001b[1m{\u001b[0m\u001b[32m'name'\u001b[0m: \u001b[32m'Shoe Shop'\u001b[0m, \u001b[32m'address'\u001b[0m: \u001b[32m'Main Street 2'\u001b[0m, \u001b[32m'city'\u001b[0m: \u001b[32m'Shoetown'\u001b[0m, \u001b[32m'_id'\u001b[0m: \u001b[32m'bb4e82dd-9ac9-4bed-9242-844fb75b5d37'\u001b[0m\u001b[1m}\u001b[0m\u001b[1m)\u001b[0m\n",
       "    \u001b[1m)\u001b[0m,\n",
       "    \u001b[1m(\u001b[0m\n",
       "        \u001b[1m(\u001b[0m\u001b[32m'test'\u001b[0m, \u001b[1;36m1\u001b[0m\u001b[1m)\u001b[0m,\n",
       "        \u001b[1;35mOrganization\u001b[0m\u001b[1m(\u001b[0m\u001b[1m{\u001b[0m\u001b[32m'name'\u001b[0m: \u001b[32m'Bakery'\u001b[0m, \u001b[32m'address'\u001b[0m: \u001b[32m'Main Street 1'\u001b[0m, \u001b[32m'city'\u001b[0m: \u001b[32m'Bakerville'\u001b[0m, \u001b[32m'_id'\u001b[0m: \u001b[32m'78907f17-67bf-4ba5-8e2f-34e8301faef0'\u001b[0m\u001b[1m}\u001b[0m\u001b[1m)\u001b[0m\n",
       "    \u001b[1m)\u001b[0m,\n",
       "    \u001b[1m(\u001b[0m\n",
       "        \u001b[1m(\u001b[0m\u001b[32m'test'\u001b[0m, \u001b[1;36m2\u001b[0m\u001b[1m)\u001b[0m,\n",
       "        \u001b[1;35mOrganization\u001b[0m\u001b[1m(\u001b[0m\u001b[1m{\u001b[0m\u001b[32m'name'\u001b[0m: \u001b[32m'Car Shop'\u001b[0m, \u001b[32m'address'\u001b[0m: \u001b[32m'Main Street 3'\u001b[0m, \u001b[32m'city'\u001b[0m: \u001b[32m'Cartown'\u001b[0m, \u001b[32m'_id'\u001b[0m: \u001b[32m'b38087ce-7b8a-4c12-a954-27bc0a5bebe0'\u001b[0m\u001b[1m}\u001b[0m\u001b[1m)\u001b[0m\n",
       "    \u001b[1m)\u001b[0m,\n",
       "    \u001b[1m(\u001b[0m\n",
       "        \u001b[1m(\u001b[0m\u001b[32m'test'\u001b[0m, \u001b[1;36m0\u001b[0m\u001b[1m)\u001b[0m,\n",
       "        \u001b[1;35mOrganization\u001b[0m\u001b[1m(\u001b[0m\u001b[1m{\u001b[0m\u001b[32m'name'\u001b[0m: \u001b[32m'Shoe Shop'\u001b[0m, \u001b[32m'address'\u001b[0m: \u001b[32m'Main Street 2'\u001b[0m, \u001b[32m'city'\u001b[0m: \u001b[32m'Shoetown'\u001b[0m, \u001b[32m'_id'\u001b[0m: \u001b[32m'bb4e82dd-9ac9-4bed-9242-844fb75b5d37'\u001b[0m\u001b[1m}\u001b[0m\u001b[1m)\u001b[0m\n",
       "    \u001b[1m)\u001b[0m,\n",
       "    \u001b[1m(\u001b[0m\n",
       "        \u001b[1m(\u001b[0m\u001b[32m'test'\u001b[0m, \u001b[1;36m1\u001b[0m\u001b[1m)\u001b[0m,\n",
       "        \u001b[1;35mOrganization\u001b[0m\u001b[1m(\u001b[0m\u001b[1m{\u001b[0m\u001b[32m'name'\u001b[0m: \u001b[32m'Bakery'\u001b[0m, \u001b[32m'address'\u001b[0m: \u001b[32m'Main Street 1'\u001b[0m, \u001b[32m'city'\u001b[0m: \u001b[32m'Bakerville'\u001b[0m, \u001b[32m'_id'\u001b[0m: \u001b[32m'78907f17-67bf-4ba5-8e2f-34e8301faef0'\u001b[0m\u001b[1m}\u001b[0m\u001b[1m)\u001b[0m\n",
       "    \u001b[1m)\u001b[0m\n",
       "\u001b[1m]\u001b[0m"
      ]
     },
     "execution_count": 11,
     "metadata": {},
     "output_type": "execute_result"
    }
   ],
   "source": [
    "list(db[Search.results.x.org].items())"
   ]
  },
  {
   "cell_type": "code",
   "execution_count": 12,
   "metadata": {},
   "outputs": [
    {
     "data": {
      "text/html": [
       "<pre style=\"white-space:pre;overflow-x:auto;line-height:normal;font-family:Menlo,'DejaVu Sans Mono',consolas,'Courier New',monospace\"><span style=\"color: #800000; text-decoration-color: #800000\">╭─────────────────────────────── </span><span style=\"color: #800000; text-decoration-color: #800000; font-weight: bold\">Traceback </span><span style=\"color: #bf7f7f; text-decoration-color: #bf7f7f; font-weight: bold\">(most recent call last)</span><span style=\"color: #800000; text-decoration-color: #800000\"> ────────────────────────────────╮</span>\n",
       "<span style=\"color: #800000; text-decoration-color: #800000\">│</span> in <span style=\"color: #00ff00; text-decoration-color: #00ff00\">&lt;module&gt;</span>:<span style=\"color: #0000ff; text-decoration-color: #0000ff\">1</span>                                                                                    <span style=\"color: #800000; text-decoration-color: #800000\">│</span>\n",
       "<span style=\"color: #800000; text-decoration-color: #800000\">│</span>                                                                                                  <span style=\"color: #800000; text-decoration-color: #800000\">│</span>\n",
       "<span style=\"color: #800000; text-decoration-color: #800000\">│</span> <span style=\"color: #800000; text-decoration-color: #800000\">❱ </span>1 <span style=\"color: #00ffff; text-decoration-color: #00ffff\">list</span>(db[Search.results].items())[<span style=\"color: #0000ff; text-decoration-color: #0000ff\">0</span>][<span style=\"color: #0000ff; text-decoration-color: #0000ff\">1</span>].start.year                                            <span style=\"color: #800000; text-decoration-color: #800000\">│</span>\n",
       "<span style=\"color: #800000; text-decoration-color: #800000\">│</span>   <span style=\"color: #7f7f7f; text-decoration-color: #7f7f7f\">2 </span>                                                                                             <span style=\"color: #800000; text-decoration-color: #800000\">│</span>\n",
       "<span style=\"color: #800000; text-decoration-color: #800000\">│</span>                                                                                                  <span style=\"color: #800000; text-decoration-color: #800000\">│</span>\n",
       "<span style=\"color: #800000; text-decoration-color: #800000\">│</span> <span style=\"color: #808000; text-decoration-color: #808000\">C:\\Users\\lworm\\Repos\\py-research\\src\\py_research\\db\\databases.py</span>:<span style=\"color: #0000ff; text-decoration-color: #0000ff\">818</span> in <span style=\"color: #00ff00; text-decoration-color: #00ff00\">items</span>                    <span style=\"color: #800000; text-decoration-color: #800000\">│</span>\n",
       "<span style=\"color: #800000; text-decoration-color: #800000\">│</span>                                                                                                  <span style=\"color: #800000; text-decoration-color: #800000\">│</span>\n",
       "<span style=\"color: #800000; text-decoration-color: #800000\">│</span>   <span style=\"color: #7f7f7f; text-decoration-color: #7f7f7f\"> 815 </span><span style=\"color: #7f7f7f; text-decoration-color: #7f7f7f\">│   │   </span><span style=\"color: #00ffff; text-decoration-color: #00ffff\">self</span>: Data[Any, Any, Any, Any, Any, DynBackendID],                                <span style=\"color: #800000; text-decoration-color: #800000\">│</span>\n",
       "<span style=\"color: #800000; text-decoration-color: #800000\">│</span>   <span style=\"color: #7f7f7f; text-decoration-color: #7f7f7f\"> 816 </span><span style=\"color: #7f7f7f; text-decoration-color: #7f7f7f\">│   </span>) -&gt; Iterable[<span style=\"color: #00ffff; text-decoration-color: #00ffff\">tuple</span>[Any, Any]]:                                                       <span style=\"color: #800000; text-decoration-color: #800000\">│</span>\n",
       "<span style=\"color: #800000; text-decoration-color: #800000\">│</span>   <span style=\"color: #7f7f7f; text-decoration-color: #7f7f7f\"> 817 </span><span style=\"color: #bfbfbf; text-decoration-color: #bfbfbf\">│   │   </span><span style=\"color: #808000; text-decoration-color: #808000\">\"\"\"Iterable over this dataset's items.\"\"\"</span>                                         <span style=\"color: #800000; text-decoration-color: #800000\">│</span>\n",
       "<span style=\"color: #800000; text-decoration-color: #800000\">│</span> <span style=\"color: #800000; text-decoration-color: #800000\">❱ </span> 818 <span style=\"color: #7f7f7f; text-decoration-color: #7f7f7f\">│   │   </span><span style=\"color: #0000ff; text-decoration-color: #0000ff\">return</span> <span style=\"color: #00ffff; text-decoration-color: #00ffff\">zip</span>(<span style=\"color: #00ffff; text-decoration-color: #00ffff\">self</span>.keys(), <span style=\"color: #00ffff; text-decoration-color: #00ffff\">self</span>.values())                                            <span style=\"color: #800000; text-decoration-color: #800000\">│</span>\n",
       "<span style=\"color: #800000; text-decoration-color: #800000\">│</span>   <span style=\"color: #7f7f7f; text-decoration-color: #7f7f7f\"> 819 </span><span style=\"color: #7f7f7f; text-decoration-color: #7f7f7f\">│   </span>                                                                                      <span style=\"color: #800000; text-decoration-color: #800000\">│</span>\n",
       "<span style=\"color: #800000; text-decoration-color: #800000\">│</span>   <span style=\"color: #7f7f7f; text-decoration-color: #7f7f7f\"> 820 </span><span style=\"color: #7f7f7f; text-decoration-color: #7f7f7f\">│   </span><span style=\"color: #ff00ff; text-decoration-color: #ff00ff; font-weight: bold\">@overload</span>                                                                             <span style=\"color: #800000; text-decoration-color: #800000\">│</span>\n",
       "<span style=\"color: #800000; text-decoration-color: #800000\">│</span>   <span style=\"color: #7f7f7f; text-decoration-color: #7f7f7f\"> 821 </span><span style=\"color: #7f7f7f; text-decoration-color: #7f7f7f\">│   </span><span style=\"color: #0000ff; text-decoration-color: #0000ff\">def</span><span style=\"color: #808080; text-decoration-color: #808080\"> </span><span style=\"color: #00ff00; text-decoration-color: #00ff00\">get</span>(                                                                              <span style=\"color: #800000; text-decoration-color: #800000\">│</span>\n",
       "<span style=\"color: #800000; text-decoration-color: #800000\">│</span>                                                                                                  <span style=\"color: #800000; text-decoration-color: #800000\">│</span>\n",
       "<span style=\"color: #800000; text-decoration-color: #800000\">│</span> <span style=\"color: #808000; text-decoration-color: #808000\">C:\\Users\\lworm\\Repos\\py-research\\src\\py_research\\db\\databases.py</span>:<span style=\"color: #0000ff; text-decoration-color: #0000ff\">736</span> in <span style=\"color: #00ff00; text-decoration-color: #00ff00\">values</span>                   <span style=\"color: #800000; text-decoration-color: #800000\">│</span>\n",
       "<span style=\"color: #800000; text-decoration-color: #800000\">│</span>                                                                                                  <span style=\"color: #800000; text-decoration-color: #800000\">│</span>\n",
       "<span style=\"color: #800000; text-decoration-color: #800000\">│</span>   <span style=\"color: #7f7f7f; text-decoration-color: #7f7f7f\"> 733 </span><span style=\"color: #7f7f7f; text-decoration-color: #7f7f7f\">│   │   </span><span style=\"color: #00ffff; text-decoration-color: #00ffff\">self</span>: Data[ValT2, Any, Any, Any, Any, DynBackendID],                              <span style=\"color: #800000; text-decoration-color: #800000\">│</span>\n",
       "<span style=\"color: #800000; text-decoration-color: #800000\">│</span>   <span style=\"color: #7f7f7f; text-decoration-color: #7f7f7f\"> 734 </span><span style=\"color: #7f7f7f; text-decoration-color: #7f7f7f\">│   </span>) -&gt; Sequence[ValT2]:                                                                 <span style=\"color: #800000; text-decoration-color: #800000\">│</span>\n",
       "<span style=\"color: #800000; text-decoration-color: #800000\">│</span>   <span style=\"color: #7f7f7f; text-decoration-color: #7f7f7f\"> 735 </span><span style=\"color: #bfbfbf; text-decoration-color: #bfbfbf\">│   │   </span><span style=\"color: #808000; text-decoration-color: #808000\">\"\"\"Iterable over this dataset's values.\"\"\"</span>                                        <span style=\"color: #800000; text-decoration-color: #800000\">│</span>\n",
       "<span style=\"color: #800000; text-decoration-color: #800000\">│</span> <span style=\"color: #800000; text-decoration-color: #800000\">❱ </span> 736 <span style=\"color: #7f7f7f; text-decoration-color: #7f7f7f\">│   │   </span>dfs = <span style=\"color: #00ffff; text-decoration-color: #00ffff\">self</span>.df()                                                                   <span style=\"color: #800000; text-decoration-color: #800000\">│</span>\n",
       "<span style=\"color: #800000; text-decoration-color: #800000\">│</span>   <span style=\"color: #7f7f7f; text-decoration-color: #7f7f7f\"> 737 </span><span style=\"color: #7f7f7f; text-decoration-color: #7f7f7f\">│   │   </span><span style=\"color: #0000ff; text-decoration-color: #0000ff\">if</span> <span style=\"color: #00ffff; text-decoration-color: #00ffff\">isinstance</span>(dfs, pl.DataFrame):                                                 <span style=\"color: #800000; text-decoration-color: #800000\">│</span>\n",
       "<span style=\"color: #800000; text-decoration-color: #800000\">│</span>   <span style=\"color: #7f7f7f; text-decoration-color: #7f7f7f\"> 738 </span><span style=\"color: #7f7f7f; text-decoration-color: #7f7f7f\">│   │   │   </span>dfs = (dfs,)                                                                  <span style=\"color: #800000; text-decoration-color: #800000\">│</span>\n",
       "<span style=\"color: #800000; text-decoration-color: #800000\">│</span>   <span style=\"color: #7f7f7f; text-decoration-color: #7f7f7f\"> 739 </span>                                                                                          <span style=\"color: #800000; text-decoration-color: #800000\">│</span>\n",
       "<span style=\"color: #800000; text-decoration-color: #800000\">│</span>                                                                                                  <span style=\"color: #800000; text-decoration-color: #800000\">│</span>\n",
       "<span style=\"color: #800000; text-decoration-color: #800000\">│</span> <span style=\"color: #808000; text-decoration-color: #808000\">C:\\Users\\lworm\\Repos\\py-research\\src\\py_research\\db\\databases.py</span>:<span style=\"color: #0000ff; text-decoration-color: #0000ff\">897</span> in <span style=\"color: #00ff00; text-decoration-color: #00ff00\">df</span>                       <span style=\"color: #800000; text-decoration-color: #800000\">│</span>\n",
       "<span style=\"color: #800000; text-decoration-color: #800000\">│</span>                                                                                                  <span style=\"color: #800000; text-decoration-color: #800000\">│</span>\n",
       "<span style=\"color: #800000; text-decoration-color: #800000\">│</span>   <span style=\"color: #7f7f7f; text-decoration-color: #7f7f7f\"> 894 </span><span style=\"color: #7f7f7f; text-decoration-color: #7f7f7f\">│   │   │   │   │   </span><span style=\"color: #00ffff; text-decoration-color: #00ffff\">list</span>(<span style=\"color: #00ffff; text-decoration-color: #00ffff\">self</span>._abs_idx_cols.keys()), drop=<span style=\"color: #0000ff; text-decoration-color: #0000ff\">False</span>                           <span style=\"color: #800000; text-decoration-color: #800000\">│</span>\n",
       "<span style=\"color: #800000; text-decoration-color: #800000\">│</span>   <span style=\"color: #7f7f7f; text-decoration-color: #7f7f7f\"> 895 </span><span style=\"color: #7f7f7f; text-decoration-color: #7f7f7f\">│   │   │   │   </span>)                                                                         <span style=\"color: #800000; text-decoration-color: #800000\">│</span>\n",
       "<span style=\"color: #800000; text-decoration-color: #800000\">│</span>   <span style=\"color: #7f7f7f; text-decoration-color: #7f7f7f\"> 896 </span><span style=\"color: #7f7f7f; text-decoration-color: #7f7f7f\">│   │   </span><span style=\"color: #0000ff; text-decoration-color: #0000ff\">else</span>:                                                                             <span style=\"color: #800000; text-decoration-color: #800000\">│</span>\n",
       "<span style=\"color: #800000; text-decoration-color: #800000\">│</span> <span style=\"color: #800000; text-decoration-color: #800000\">❱ </span> 897 <span style=\"color: #7f7f7f; text-decoration-color: #7f7f7f\">│   │   │   </span>merged_df = pl.read_database(                                                 <span style=\"color: #800000; text-decoration-color: #800000\">│</span>\n",
       "<span style=\"color: #800000; text-decoration-color: #800000\">│</span>   <span style=\"color: #7f7f7f; text-decoration-color: #7f7f7f\"> 898 </span><span style=\"color: #7f7f7f; text-decoration-color: #7f7f7f\">│   │   │   │   </span>select,                                                                   <span style=\"color: #800000; text-decoration-color: #800000\">│</span>\n",
       "<span style=\"color: #800000; text-decoration-color: #800000\">│</span>   <span style=\"color: #7f7f7f; text-decoration-color: #7f7f7f\"> 899 </span><span style=\"color: #7f7f7f; text-decoration-color: #7f7f7f\">│   │   │   │   </span><span style=\"color: #00ffff; text-decoration-color: #00ffff\">self</span>.db.engine.connect(),                                                 <span style=\"color: #800000; text-decoration-color: #800000\">│</span>\n",
       "<span style=\"color: #800000; text-decoration-color: #800000\">│</span>   <span style=\"color: #7f7f7f; text-decoration-color: #7f7f7f\"> 900 </span><span style=\"color: #7f7f7f; text-decoration-color: #7f7f7f\">│   │   │   │   </span>schema_overrides=_get_pl_schema(                                          <span style=\"color: #800000; text-decoration-color: #800000\">│</span>\n",
       "<span style=\"color: #800000; text-decoration-color: #800000\">│</span>                                                                                                  <span style=\"color: #800000; text-decoration-color: #800000\">│</span>\n",
       "<span style=\"color: #800000; text-decoration-color: #800000\">│</span> <span style=\"color: #808000; text-decoration-color: #808000\">c:\\Users\\lworm\\Repos\\py-research\\.venv\\Lib\\site-packages\\polars\\io\\database\\functions.py</span>:<span style=\"color: #0000ff; text-decoration-color: #0000ff\">250</span> in  <span style=\"color: #800000; text-decoration-color: #800000\">│</span>\n",
       "<span style=\"color: #800000; text-decoration-color: #800000\">│</span> <span style=\"color: #00ff00; text-decoration-color: #00ff00\">read_database</span>                                                                                    <span style=\"color: #800000; text-decoration-color: #800000\">│</span>\n",
       "<span style=\"color: #800000; text-decoration-color: #800000\">│</span>                                                                                                  <span style=\"color: #800000; text-decoration-color: #800000\">│</span>\n",
       "<span style=\"color: #800000; text-decoration-color: #800000\">│</span>   <span style=\"color: #7f7f7f; text-decoration-color: #7f7f7f\">247 </span><span style=\"color: #7f7f7f; text-decoration-color: #7f7f7f\">│   │   </span><span style=\"color: #0000ff; text-decoration-color: #0000ff\">return</span> cx.execute(                                                                 <span style=\"color: #800000; text-decoration-color: #800000\">│</span>\n",
       "<span style=\"color: #800000; text-decoration-color: #800000\">│</span>   <span style=\"color: #7f7f7f; text-decoration-color: #7f7f7f\">248 </span><span style=\"color: #7f7f7f; text-decoration-color: #7f7f7f\">│   │   │   </span>query=query,                                                                   <span style=\"color: #800000; text-decoration-color: #800000\">│</span>\n",
       "<span style=\"color: #800000; text-decoration-color: #800000\">│</span>   <span style=\"color: #7f7f7f; text-decoration-color: #7f7f7f\">249 </span><span style=\"color: #7f7f7f; text-decoration-color: #7f7f7f\">│   │   │   </span>options=execute_options,                                                       <span style=\"color: #800000; text-decoration-color: #800000\">│</span>\n",
       "<span style=\"color: #800000; text-decoration-color: #800000\">│</span> <span style=\"color: #800000; text-decoration-color: #800000\">❱ </span>250 <span style=\"color: #7f7f7f; text-decoration-color: #7f7f7f\">│   │   </span>).to_polars(                                                                       <span style=\"color: #800000; text-decoration-color: #800000\">│</span>\n",
       "<span style=\"color: #800000; text-decoration-color: #800000\">│</span>   <span style=\"color: #7f7f7f; text-decoration-color: #7f7f7f\">251 </span><span style=\"color: #7f7f7f; text-decoration-color: #7f7f7f\">│   │   │   </span>batch_size=batch_size,                                                         <span style=\"color: #800000; text-decoration-color: #800000\">│</span>\n",
       "<span style=\"color: #800000; text-decoration-color: #800000\">│</span>   <span style=\"color: #7f7f7f; text-decoration-color: #7f7f7f\">252 </span><span style=\"color: #7f7f7f; text-decoration-color: #7f7f7f\">│   │   │   </span>iter_batches=iter_batches,                                                     <span style=\"color: #800000; text-decoration-color: #800000\">│</span>\n",
       "<span style=\"color: #800000; text-decoration-color: #800000\">│</span>   <span style=\"color: #7f7f7f; text-decoration-color: #7f7f7f\">253 </span><span style=\"color: #7f7f7f; text-decoration-color: #7f7f7f\">│   │   │   </span>schema_overrides=schema_overrides,                                             <span style=\"color: #800000; text-decoration-color: #800000\">│</span>\n",
       "<span style=\"color: #800000; text-decoration-color: #800000\">│</span>                                                                                                  <span style=\"color: #800000; text-decoration-color: #800000\">│</span>\n",
       "<span style=\"color: #800000; text-decoration-color: #800000\">│</span> <span style=\"color: #808000; text-decoration-color: #808000\">c:\\Users\\lworm\\Repos\\py-research\\.venv\\Lib\\site-packages\\polars\\io\\database\\_executor.py</span>:<span style=\"color: #0000ff; text-decoration-color: #0000ff\">543</span> in  <span style=\"color: #800000; text-decoration-color: #800000\">│</span>\n",
       "<span style=\"color: #800000; text-decoration-color: #800000\">│</span> <span style=\"color: #00ff00; text-decoration-color: #00ff00\">to_polars</span>                                                                                        <span style=\"color: #800000; text-decoration-color: #800000\">│</span>\n",
       "<span style=\"color: #800000; text-decoration-color: #800000\">│</span>                                                                                                  <span style=\"color: #800000; text-decoration-color: #800000\">│</span>\n",
       "<span style=\"color: #800000; text-decoration-color: #800000\">│</span>   <span style=\"color: #7f7f7f; text-decoration-color: #7f7f7f\">540 </span><span style=\"color: #7f7f7f; text-decoration-color: #7f7f7f\">│   │   │   </span><span style=\"color: #00ffff; text-decoration-color: #00ffff\">self</span>._from_arrow,  <span style=\"color: #7f7f7f; text-decoration-color: #7f7f7f\"># init from arrow-native data (where support exists)</span>        <span style=\"color: #800000; text-decoration-color: #800000\">│</span>\n",
       "<span style=\"color: #800000; text-decoration-color: #800000\">│</span>   <span style=\"color: #7f7f7f; text-decoration-color: #7f7f7f\">541 </span><span style=\"color: #7f7f7f; text-decoration-color: #7f7f7f\">│   │   │   </span><span style=\"color: #00ffff; text-decoration-color: #00ffff\">self</span>._from_rows,  <span style=\"color: #7f7f7f; text-decoration-color: #7f7f7f\"># row-wise fallback (sqlalchemy, dbapi2, pyodbc, etc)</span>        <span style=\"color: #800000; text-decoration-color: #800000\">│</span>\n",
       "<span style=\"color: #800000; text-decoration-color: #800000\">│</span>   <span style=\"color: #7f7f7f; text-decoration-color: #7f7f7f\">542 </span><span style=\"color: #7f7f7f; text-decoration-color: #7f7f7f\">│   │   </span>):                                                                                 <span style=\"color: #800000; text-decoration-color: #800000\">│</span>\n",
       "<span style=\"color: #800000; text-decoration-color: #800000\">│</span> <span style=\"color: #800000; text-decoration-color: #800000\">❱ </span>543 <span style=\"color: #7f7f7f; text-decoration-color: #7f7f7f\">│   │   │   </span>frame = frame_init(                                                            <span style=\"color: #800000; text-decoration-color: #800000\">│</span>\n",
       "<span style=\"color: #800000; text-decoration-color: #800000\">│</span>   <span style=\"color: #7f7f7f; text-decoration-color: #7f7f7f\">544 </span><span style=\"color: #7f7f7f; text-decoration-color: #7f7f7f\">│   │   │   │   </span>batch_size=batch_size,                                                     <span style=\"color: #800000; text-decoration-color: #800000\">│</span>\n",
       "<span style=\"color: #800000; text-decoration-color: #800000\">│</span>   <span style=\"color: #7f7f7f; text-decoration-color: #7f7f7f\">545 </span><span style=\"color: #7f7f7f; text-decoration-color: #7f7f7f\">│   │   │   │   </span>iter_batches=iter_batches,                                                 <span style=\"color: #800000; text-decoration-color: #800000\">│</span>\n",
       "<span style=\"color: #800000; text-decoration-color: #800000\">│</span>   <span style=\"color: #7f7f7f; text-decoration-color: #7f7f7f\">546 </span><span style=\"color: #7f7f7f; text-decoration-color: #7f7f7f\">│   │   │   │   </span>schema_overrides=schema_overrides,                                         <span style=\"color: #800000; text-decoration-color: #800000\">│</span>\n",
       "<span style=\"color: #800000; text-decoration-color: #800000\">│</span>                                                                                                  <span style=\"color: #800000; text-decoration-color: #800000\">│</span>\n",
       "<span style=\"color: #800000; text-decoration-color: #800000\">│</span> <span style=\"color: #808000; text-decoration-color: #808000\">c:\\Users\\lworm\\Repos\\py-research\\.venv\\Lib\\site-packages\\polars\\io\\database\\_executor.py</span>:<span style=\"color: #0000ff; text-decoration-color: #0000ff\">300</span> in  <span style=\"color: #800000; text-decoration-color: #800000\">│</span>\n",
       "<span style=\"color: #800000; text-decoration-color: #800000\">│</span> <span style=\"color: #00ff00; text-decoration-color: #00ff00\">_from_rows</span>                                                                                       <span style=\"color: #800000; text-decoration-color: #800000\">│</span>\n",
       "<span style=\"color: #800000; text-decoration-color: #800000\">│</span>                                                                                                  <span style=\"color: #800000; text-decoration-color: #800000\">│</span>\n",
       "<span style=\"color: #800000; text-decoration-color: #800000\">│</span>   <span style=\"color: #7f7f7f; text-decoration-color: #7f7f7f\">297 </span><span style=\"color: #7f7f7f; text-decoration-color: #7f7f7f\">│   │   │   │   │   │   </span><span style=\"color: #0000ff; text-decoration-color: #0000ff\">else</span> [<span style=\"color: #00ffff; text-decoration-color: #00ffff\">self</span>._fetchall_rows(<span style=\"color: #00ffff; text-decoration-color: #00ffff\">self</span>.result, is_alchemy=is_alchemy)]     <span style=\"color: #800000; text-decoration-color: #800000\">│</span>\n",
       "<span style=\"color: #800000; text-decoration-color: #800000\">│</span>   <span style=\"color: #7f7f7f; text-decoration-color: #7f7f7f\">298 </span><span style=\"color: #7f7f7f; text-decoration-color: #7f7f7f\">│   │   │   │   │   </span>)                                                                      <span style=\"color: #800000; text-decoration-color: #800000\">│</span>\n",
       "<span style=\"color: #800000; text-decoration-color: #800000\">│</span>   <span style=\"color: #7f7f7f; text-decoration-color: #7f7f7f\">299 </span><span style=\"color: #7f7f7f; text-decoration-color: #7f7f7f\">│   │   │   │   </span>)                                                                          <span style=\"color: #800000; text-decoration-color: #800000\">│</span>\n",
       "<span style=\"color: #800000; text-decoration-color: #800000\">│</span> <span style=\"color: #800000; text-decoration-color: #800000\">❱ </span>300 <span style=\"color: #7f7f7f; text-decoration-color: #7f7f7f\">│   │   │   │   </span><span style=\"color: #0000ff; text-decoration-color: #0000ff\">return</span> frames <span style=\"color: #0000ff; text-decoration-color: #0000ff\">if</span> iter_batches <span style=\"color: #0000ff; text-decoration-color: #0000ff\">else</span> <span style=\"color: #00ffff; text-decoration-color: #00ffff\">next</span>(frames)  <span style=\"color: #7f7f7f; text-decoration-color: #7f7f7f\"># type: ignore[arg-type</span>   <span style=\"color: #800000; text-decoration-color: #800000\">│</span>\n",
       "<span style=\"color: #800000; text-decoration-color: #800000\">│</span>   <span style=\"color: #7f7f7f; text-decoration-color: #7f7f7f\">301 </span><span style=\"color: #7f7f7f; text-decoration-color: #7f7f7f\">│   │   │   </span><span style=\"color: #0000ff; text-decoration-color: #0000ff\">return</span> <span style=\"color: #0000ff; text-decoration-color: #0000ff\">None</span>                                                                    <span style=\"color: #800000; text-decoration-color: #800000\">│</span>\n",
       "<span style=\"color: #800000; text-decoration-color: #800000\">│</span>   <span style=\"color: #7f7f7f; text-decoration-color: #7f7f7f\">302 </span><span style=\"color: #7f7f7f; text-decoration-color: #7f7f7f\">│   │   </span><span style=\"color: #0000ff; text-decoration-color: #0000ff\">finally</span>:                                                                           <span style=\"color: #800000; text-decoration-color: #800000\">│</span>\n",
       "<span style=\"color: #800000; text-decoration-color: #800000\">│</span>   <span style=\"color: #7f7f7f; text-decoration-color: #7f7f7f\">303 </span><span style=\"color: #7f7f7f; text-decoration-color: #7f7f7f\">│   │   │   </span><span style=\"color: #0000ff; text-decoration-color: #0000ff\">if</span> is_async:                                                                   <span style=\"color: #800000; text-decoration-color: #800000\">│</span>\n",
       "<span style=\"color: #800000; text-decoration-color: #800000\">│</span>                                                                                                  <span style=\"color: #800000; text-decoration-color: #800000\">│</span>\n",
       "<span style=\"color: #800000; text-decoration-color: #800000\">│</span> <span style=\"color: #808000; text-decoration-color: #808000\">c:\\Users\\lworm\\Repos\\py-research\\.venv\\Lib\\site-packages\\polars\\io\\database\\_executor.py</span>:<span style=\"color: #0000ff; text-decoration-color: #0000ff\">283</span> in  <span style=\"color: #800000; text-decoration-color: #800000\">│</span>\n",
       "<span style=\"color: #800000; text-decoration-color: #800000\">│</span> <span style=\"color: #00ff00; text-decoration-color: #00ff00\">&lt;genexpr&gt;</span>                                                                                        <span style=\"color: #800000; text-decoration-color: #800000\">│</span>\n",
       "<span style=\"color: #800000; text-decoration-color: #800000\">│</span>                                                                                                  <span style=\"color: #800000; text-decoration-color: #800000\">│</span>\n",
       "<span style=\"color: #800000; text-decoration-color: #800000\">│</span>   <span style=\"color: #7f7f7f; text-decoration-color: #7f7f7f\">280 </span><span style=\"color: #7f7f7f; text-decoration-color: #7f7f7f\">│   │   │   │   </span>)                                                                          <span style=\"color: #800000; text-decoration-color: #800000\">│</span>\n",
       "<span style=\"color: #800000; text-decoration-color: #800000\">│</span>   <span style=\"color: #7f7f7f; text-decoration-color: #7f7f7f\">281 </span><span style=\"color: #7f7f7f; text-decoration-color: #7f7f7f\">│   │   │   │   </span>result_columns = [nm <span style=\"color: #0000ff; text-decoration-color: #0000ff\">for</span> nm, _ <span style=\"color: #ff00ff; text-decoration-color: #ff00ff\">in</span> cursor_desc]                             <span style=\"color: #800000; text-decoration-color: #800000\">│</span>\n",
       "<span style=\"color: #800000; text-decoration-color: #800000\">│</span>   <span style=\"color: #7f7f7f; text-decoration-color: #7f7f7f\">282 </span><span style=\"color: #7f7f7f; text-decoration-color: #7f7f7f\">│   │   │   │   </span>frames = (                                                                 <span style=\"color: #800000; text-decoration-color: #800000\">│</span>\n",
       "<span style=\"color: #800000; text-decoration-color: #800000\">│</span> <span style=\"color: #800000; text-decoration-color: #800000\">❱ </span>283 <span style=\"color: #7f7f7f; text-decoration-color: #7f7f7f\">│   │   │   │   │   </span>DataFrame(                                                             <span style=\"color: #800000; text-decoration-color: #800000\">│</span>\n",
       "<span style=\"color: #800000; text-decoration-color: #800000\">│</span>   <span style=\"color: #7f7f7f; text-decoration-color: #7f7f7f\">284 </span><span style=\"color: #7f7f7f; text-decoration-color: #7f7f7f\">│   │   │   │   │   │   </span>data=rows,                                                         <span style=\"color: #800000; text-decoration-color: #800000\">│</span>\n",
       "<span style=\"color: #800000; text-decoration-color: #800000\">│</span>   <span style=\"color: #7f7f7f; text-decoration-color: #7f7f7f\">285 </span><span style=\"color: #7f7f7f; text-decoration-color: #7f7f7f\">│   │   │   │   │   │   </span>schema=result_columns <span style=\"color: #ff00ff; text-decoration-color: #ff00ff\">or</span> <span style=\"color: #0000ff; text-decoration-color: #0000ff\">None</span>,                                     <span style=\"color: #800000; text-decoration-color: #800000\">│</span>\n",
       "<span style=\"color: #800000; text-decoration-color: #800000\">│</span>   <span style=\"color: #7f7f7f; text-decoration-color: #7f7f7f\">286 </span><span style=\"color: #7f7f7f; text-decoration-color: #7f7f7f\">│   │   │   │   │   │   </span>schema_overrides=schema_overrides,                                 <span style=\"color: #800000; text-decoration-color: #800000\">│</span>\n",
       "<span style=\"color: #800000; text-decoration-color: #800000\">│</span>                                                                                                  <span style=\"color: #800000; text-decoration-color: #800000\">│</span>\n",
       "<span style=\"color: #800000; text-decoration-color: #800000\">│</span> <span style=\"color: #808000; text-decoration-color: #808000\">c:\\Users\\lworm\\Repos\\py-research\\.venv\\Lib\\site-packages\\polars\\dataframe\\frame.py</span>:<span style=\"color: #0000ff; text-decoration-color: #0000ff\">377</span> in        <span style=\"color: #800000; text-decoration-color: #800000\">│</span>\n",
       "<span style=\"color: #800000; text-decoration-color: #800000\">│</span> <span style=\"color: #00ff00; text-decoration-color: #00ff00\">__init__</span>                                                                                         <span style=\"color: #800000; text-decoration-color: #800000\">│</span>\n",
       "<span style=\"color: #800000; text-decoration-color: #800000\">│</span>                                                                                                  <span style=\"color: #800000; text-decoration-color: #800000\">│</span>\n",
       "<span style=\"color: #800000; text-decoration-color: #800000\">│</span>   <span style=\"color: #7f7f7f; text-decoration-color: #7f7f7f\">  374 </span><span style=\"color: #7f7f7f; text-decoration-color: #7f7f7f\">│   │   │   </span>)                                                                            <span style=\"color: #800000; text-decoration-color: #800000\">│</span>\n",
       "<span style=\"color: #800000; text-decoration-color: #800000\">│</span>   <span style=\"color: #7f7f7f; text-decoration-color: #7f7f7f\">  375 </span><span style=\"color: #7f7f7f; text-decoration-color: #7f7f7f\">│   │   </span>                                                                                 <span style=\"color: #800000; text-decoration-color: #800000\">│</span>\n",
       "<span style=\"color: #800000; text-decoration-color: #800000\">│</span>   <span style=\"color: #7f7f7f; text-decoration-color: #7f7f7f\">  376 </span><span style=\"color: #7f7f7f; text-decoration-color: #7f7f7f\">│   │   </span><span style=\"color: #0000ff; text-decoration-color: #0000ff\">elif</span> <span style=\"color: #00ffff; text-decoration-color: #00ffff\">isinstance</span>(data, (<span style=\"color: #00ffff; text-decoration-color: #00ffff\">list</span>, <span style=\"color: #00ffff; text-decoration-color: #00ffff\">tuple</span>, Sequence)):                                  <span style=\"color: #800000; text-decoration-color: #800000\">│</span>\n",
       "<span style=\"color: #800000; text-decoration-color: #800000\">│</span> <span style=\"color: #800000; text-decoration-color: #800000\">❱ </span>  377 <span style=\"color: #7f7f7f; text-decoration-color: #7f7f7f\">│   │   │   </span><span style=\"color: #00ffff; text-decoration-color: #00ffff\">self</span>._df = sequence_to_pydf(                                                 <span style=\"color: #800000; text-decoration-color: #800000\">│</span>\n",
       "<span style=\"color: #800000; text-decoration-color: #800000\">│</span>   <span style=\"color: #7f7f7f; text-decoration-color: #7f7f7f\">  378 </span><span style=\"color: #7f7f7f; text-decoration-color: #7f7f7f\">│   │   │   │   </span>data,                                                                    <span style=\"color: #800000; text-decoration-color: #800000\">│</span>\n",
       "<span style=\"color: #800000; text-decoration-color: #800000\">│</span>   <span style=\"color: #7f7f7f; text-decoration-color: #7f7f7f\">  379 </span><span style=\"color: #7f7f7f; text-decoration-color: #7f7f7f\">│   │   │   │   </span>schema=schema,                                                           <span style=\"color: #800000; text-decoration-color: #800000\">│</span>\n",
       "<span style=\"color: #800000; text-decoration-color: #800000\">│</span>   <span style=\"color: #7f7f7f; text-decoration-color: #7f7f7f\">  380 </span><span style=\"color: #7f7f7f; text-decoration-color: #7f7f7f\">│   │   │   │   </span>schema_overrides=schema_overrides,                                       <span style=\"color: #800000; text-decoration-color: #800000\">│</span>\n",
       "<span style=\"color: #800000; text-decoration-color: #800000\">│</span>                                                                                                  <span style=\"color: #800000; text-decoration-color: #800000\">│</span>\n",
       "<span style=\"color: #800000; text-decoration-color: #800000\">│</span> <span style=\"color: #808000; text-decoration-color: #808000\">c:\\Users\\lworm\\Repos\\py-research\\.venv\\Lib\\site-packages\\polars\\_utils\\construction\\dataframe.py</span> <span style=\"color: #800000; text-decoration-color: #800000\">│</span>\n",
       "<span style=\"color: #800000; text-decoration-color: #800000\">│</span> :<span style=\"color: #0000ff; text-decoration-color: #0000ff\">460</span> in <span style=\"color: #00ff00; text-decoration-color: #00ff00\">sequence_to_pydf</span>                                                                         <span style=\"color: #800000; text-decoration-color: #800000\">│</span>\n",
       "<span style=\"color: #800000; text-decoration-color: #800000\">│</span>                                                                                                  <span style=\"color: #800000; text-decoration-color: #800000\">│</span>\n",
       "<span style=\"color: #800000; text-decoration-color: #800000\">│</span>   <span style=\"color: #7f7f7f; text-decoration-color: #7f7f7f\"> 457 </span><span style=\"color: #7f7f7f; text-decoration-color: #7f7f7f\">│   </span><span style=\"color: #0000ff; text-decoration-color: #0000ff\">if</span> <span style=\"color: #ff00ff; text-decoration-color: #ff00ff\">not</span> data:                                                                          <span style=\"color: #800000; text-decoration-color: #800000\">│</span>\n",
       "<span style=\"color: #800000; text-decoration-color: #800000\">│</span>   <span style=\"color: #7f7f7f; text-decoration-color: #7f7f7f\"> 458 </span><span style=\"color: #7f7f7f; text-decoration-color: #7f7f7f\">│   │   </span><span style=\"color: #0000ff; text-decoration-color: #0000ff\">return</span> dict_to_pydf({}, schema=schema, schema_overrides=schema_overrides)         <span style=\"color: #800000; text-decoration-color: #800000\">│</span>\n",
       "<span style=\"color: #800000; text-decoration-color: #800000\">│</span>   <span style=\"color: #7f7f7f; text-decoration-color: #7f7f7f\"> 459 </span><span style=\"color: #7f7f7f; text-decoration-color: #7f7f7f\">│   </span>                                                                                      <span style=\"color: #800000; text-decoration-color: #800000\">│</span>\n",
       "<span style=\"color: #800000; text-decoration-color: #800000\">│</span> <span style=\"color: #800000; text-decoration-color: #800000\">❱ </span> 460 <span style=\"color: #7f7f7f; text-decoration-color: #7f7f7f\">│   </span><span style=\"color: #0000ff; text-decoration-color: #0000ff\">return</span> _sequence_to_pydf_dispatcher(                                                  <span style=\"color: #800000; text-decoration-color: #800000\">│</span>\n",
       "<span style=\"color: #800000; text-decoration-color: #800000\">│</span>   <span style=\"color: #7f7f7f; text-decoration-color: #7f7f7f\"> 461 </span><span style=\"color: #7f7f7f; text-decoration-color: #7f7f7f\">│   │   </span>data[<span style=\"color: #0000ff; text-decoration-color: #0000ff\">0</span>],                                                                          <span style=\"color: #800000; text-decoration-color: #800000\">│</span>\n",
       "<span style=\"color: #800000; text-decoration-color: #800000\">│</span>   <span style=\"color: #7f7f7f; text-decoration-color: #7f7f7f\"> 462 </span><span style=\"color: #7f7f7f; text-decoration-color: #7f7f7f\">│   │   </span>data=data,                                                                        <span style=\"color: #800000; text-decoration-color: #800000\">│</span>\n",
       "<span style=\"color: #800000; text-decoration-color: #800000\">│</span>   <span style=\"color: #7f7f7f; text-decoration-color: #7f7f7f\"> 463 </span><span style=\"color: #7f7f7f; text-decoration-color: #7f7f7f\">│   │   </span>schema=schema,                                                                    <span style=\"color: #800000; text-decoration-color: #800000\">│</span>\n",
       "<span style=\"color: #800000; text-decoration-color: #800000\">│</span>                                                                                                  <span style=\"color: #800000; text-decoration-color: #800000\">│</span>\n",
       "<span style=\"color: #800000; text-decoration-color: #800000\">│</span> <span style=\"color: #808000; text-decoration-color: #808000\">C:\\Users\\lworm\\.pyenv\\pyenv-win\\versions\\3.12.4\\Lib\\functools.py</span>:<span style=\"color: #0000ff; text-decoration-color: #0000ff\">909</span> in <span style=\"color: #00ff00; text-decoration-color: #00ff00\">wrapper</span>                  <span style=\"color: #800000; text-decoration-color: #800000\">│</span>\n",
       "<span style=\"color: #800000; text-decoration-color: #800000\">│</span>                                                                                                  <span style=\"color: #800000; text-decoration-color: #800000\">│</span>\n",
       "<span style=\"color: #800000; text-decoration-color: #800000\">│</span>   <span style=\"color: #7f7f7f; text-decoration-color: #7f7f7f\"> 906 </span><span style=\"color: #7f7f7f; text-decoration-color: #7f7f7f\">│   │   │   </span><span style=\"color: #0000ff; text-decoration-color: #0000ff\">raise</span> <span style=\"color: #00ffff; text-decoration-color: #00ffff\">TypeError</span>(<span style=\"color: #808000; text-decoration-color: #808000\">f'{</span>funcname<span style=\"color: #808000; text-decoration-color: #808000\">} requires at least '</span>                              <span style=\"color: #800000; text-decoration-color: #800000\">│</span>\n",
       "<span style=\"color: #800000; text-decoration-color: #800000\">│</span>   <span style=\"color: #7f7f7f; text-decoration-color: #7f7f7f\"> 907 </span><span style=\"color: #7f7f7f; text-decoration-color: #7f7f7f\">│   │   │   │   │   │   │   </span><span style=\"color: #808000; text-decoration-color: #808000\">'1 positional argument'</span>)                                      <span style=\"color: #800000; text-decoration-color: #800000\">│</span>\n",
       "<span style=\"color: #800000; text-decoration-color: #800000\">│</span>   <span style=\"color: #7f7f7f; text-decoration-color: #7f7f7f\"> 908 </span><span style=\"color: #7f7f7f; text-decoration-color: #7f7f7f\">│   │   </span>                                                                                  <span style=\"color: #800000; text-decoration-color: #800000\">│</span>\n",
       "<span style=\"color: #800000; text-decoration-color: #800000\">│</span> <span style=\"color: #800000; text-decoration-color: #800000\">❱ </span> 909 <span style=\"color: #7f7f7f; text-decoration-color: #7f7f7f\">│   │   </span><span style=\"color: #0000ff; text-decoration-color: #0000ff\">return</span> dispatch(args[<span style=\"color: #0000ff; text-decoration-color: #0000ff\">0</span>].<span style=\"color: #ff0000; text-decoration-color: #ff0000\">__class__</span>)(*args, **kw)                                   <span style=\"color: #800000; text-decoration-color: #800000\">│</span>\n",
       "<span style=\"color: #800000; text-decoration-color: #800000\">│</span>   <span style=\"color: #7f7f7f; text-decoration-color: #7f7f7f\"> 910 </span><span style=\"color: #7f7f7f; text-decoration-color: #7f7f7f\">│   </span>                                                                                      <span style=\"color: #800000; text-decoration-color: #800000\">│</span>\n",
       "<span style=\"color: #800000; text-decoration-color: #800000\">│</span>   <span style=\"color: #7f7f7f; text-decoration-color: #7f7f7f\"> 911 </span><span style=\"color: #7f7f7f; text-decoration-color: #7f7f7f\">│   </span>funcname = <span style=\"color: #00ffff; text-decoration-color: #00ffff\">getattr</span>(func, <span style=\"color: #808000; text-decoration-color: #808000\">'__name__'</span>, <span style=\"color: #808000; text-decoration-color: #808000\">'singledispatch function'</span>)                       <span style=\"color: #800000; text-decoration-color: #800000\">│</span>\n",
       "<span style=\"color: #800000; text-decoration-color: #800000\">│</span>   <span style=\"color: #7f7f7f; text-decoration-color: #7f7f7f\"> 912 </span><span style=\"color: #7f7f7f; text-decoration-color: #7f7f7f\">│   </span>registry[<span style=\"color: #00ffff; text-decoration-color: #00ffff\">object</span>] = func                                                               <span style=\"color: #800000; text-decoration-color: #800000\">│</span>\n",
       "<span style=\"color: #800000; text-decoration-color: #800000\">│</span>                                                                                                  <span style=\"color: #800000; text-decoration-color: #800000\">│</span>\n",
       "<span style=\"color: #800000; text-decoration-color: #800000\">│</span> <span style=\"color: #808000; text-decoration-color: #808000\">c:\\Users\\lworm\\Repos\\py-research\\.venv\\Lib\\site-packages\\polars\\_utils\\construction\\dataframe.py</span> <span style=\"color: #800000; text-decoration-color: #800000\">│</span>\n",
       "<span style=\"color: #800000; text-decoration-color: #800000\">│</span> :<span style=\"color: #0000ff; text-decoration-color: #0000ff\">673</span> in <span style=\"color: #00ff00; text-decoration-color: #00ff00\">_sequence_of_tuple_to_pydf</span>                                                               <span style=\"color: #800000; text-decoration-color: #800000\">│</span>\n",
       "<span style=\"color: #800000; text-decoration-color: #800000\">│</span>                                                                                                  <span style=\"color: #800000; text-decoration-color: #800000\">│</span>\n",
       "<span style=\"color: #800000; text-decoration-color: #800000\">│</span>   <span style=\"color: #7f7f7f; text-decoration-color: #7f7f7f\"> 670 </span><span style=\"color: #7f7f7f; text-decoration-color: #7f7f7f\">│   │   │   </span>orient = <span style=\"color: #808000; text-decoration-color: #808000\">\"row\"</span>                                                                <span style=\"color: #800000; text-decoration-color: #800000\">│</span>\n",
       "<span style=\"color: #800000; text-decoration-color: #800000\">│</span>   <span style=\"color: #7f7f7f; text-decoration-color: #7f7f7f\"> 671 </span><span style=\"color: #7f7f7f; text-decoration-color: #7f7f7f\">│   </span>                                                                                      <span style=\"color: #800000; text-decoration-color: #800000\">│</span>\n",
       "<span style=\"color: #800000; text-decoration-color: #800000\">│</span>   <span style=\"color: #7f7f7f; text-decoration-color: #7f7f7f\"> 672 </span><span style=\"color: #7f7f7f; text-decoration-color: #7f7f7f\">│   </span><span style=\"color: #7f7f7f; text-decoration-color: #7f7f7f\"># ...then defer to generic sequence processing</span>                                        <span style=\"color: #800000; text-decoration-color: #800000\">│</span>\n",
       "<span style=\"color: #800000; text-decoration-color: #800000\">│</span> <span style=\"color: #800000; text-decoration-color: #800000\">❱ </span> 673 <span style=\"color: #7f7f7f; text-decoration-color: #7f7f7f\">│   </span><span style=\"color: #0000ff; text-decoration-color: #0000ff\">return</span> _sequence_of_sequence_to_pydf(                                                 <span style=\"color: #800000; text-decoration-color: #800000\">│</span>\n",
       "<span style=\"color: #800000; text-decoration-color: #800000\">│</span>   <span style=\"color: #7f7f7f; text-decoration-color: #7f7f7f\"> 674 </span><span style=\"color: #7f7f7f; text-decoration-color: #7f7f7f\">│   │   </span>first_element,                                                                    <span style=\"color: #800000; text-decoration-color: #800000\">│</span>\n",
       "<span style=\"color: #800000; text-decoration-color: #800000\">│</span>   <span style=\"color: #7f7f7f; text-decoration-color: #7f7f7f\"> 675 </span><span style=\"color: #7f7f7f; text-decoration-color: #7f7f7f\">│   │   </span>data=data,                                                                        <span style=\"color: #800000; text-decoration-color: #800000\">│</span>\n",
       "<span style=\"color: #800000; text-decoration-color: #800000\">│</span>   <span style=\"color: #7f7f7f; text-decoration-color: #7f7f7f\"> 676 </span><span style=\"color: #7f7f7f; text-decoration-color: #7f7f7f\">│   │   </span>schema=schema,                                                                    <span style=\"color: #800000; text-decoration-color: #800000\">│</span>\n",
       "<span style=\"color: #800000; text-decoration-color: #800000\">│</span>                                                                                                  <span style=\"color: #800000; text-decoration-color: #800000\">│</span>\n",
       "<span style=\"color: #800000; text-decoration-color: #800000\">│</span> <span style=\"color: #808000; text-decoration-color: #808000\">c:\\Users\\lworm\\Repos\\py-research\\.venv\\Lib\\site-packages\\polars\\_utils\\construction\\dataframe.py</span> <span style=\"color: #800000; text-decoration-color: #800000\">│</span>\n",
       "<span style=\"color: #800000; text-decoration-color: #800000\">│</span> :<span style=\"color: #0000ff; text-decoration-color: #0000ff\">589</span> in <span style=\"color: #00ff00; text-decoration-color: #00ff00\">_sequence_of_sequence_to_pydf</span>                                                            <span style=\"color: #800000; text-decoration-color: #800000\">│</span>\n",
       "<span style=\"color: #800000; text-decoration-color: #800000\">│</span>                                                                                                  <span style=\"color: #800000; text-decoration-color: #800000\">│</span>\n",
       "<span style=\"color: #800000; text-decoration-color: #800000\">│</span>   <span style=\"color: #7f7f7f; text-decoration-color: #7f7f7f\"> 586 </span><span style=\"color: #7f7f7f; text-decoration-color: #7f7f7f\">│   │   │   │   </span>dicts, strict=strict, infer_schema_length=infer_schema_length             <span style=\"color: #800000; text-decoration-color: #800000\">│</span>\n",
       "<span style=\"color: #800000; text-decoration-color: #800000\">│</span>   <span style=\"color: #7f7f7f; text-decoration-color: #7f7f7f\"> 587 </span><span style=\"color: #7f7f7f; text-decoration-color: #7f7f7f\">│   │   │   </span>)                                                                             <span style=\"color: #800000; text-decoration-color: #800000\">│</span>\n",
       "<span style=\"color: #800000; text-decoration-color: #800000\">│</span>   <span style=\"color: #7f7f7f; text-decoration-color: #7f7f7f\"> 588 </span><span style=\"color: #7f7f7f; text-decoration-color: #7f7f7f\">│   │   </span><span style=\"color: #0000ff; text-decoration-color: #0000ff\">else</span>:                                                                             <span style=\"color: #800000; text-decoration-color: #800000\">│</span>\n",
       "<span style=\"color: #800000; text-decoration-color: #800000\">│</span> <span style=\"color: #800000; text-decoration-color: #800000\">❱ </span> 589 <span style=\"color: #7f7f7f; text-decoration-color: #7f7f7f\">│   │   │   </span>pydf = PyDataFrame.from_rows(                                                 <span style=\"color: #800000; text-decoration-color: #800000\">│</span>\n",
       "<span style=\"color: #800000; text-decoration-color: #800000\">│</span>   <span style=\"color: #7f7f7f; text-decoration-color: #7f7f7f\"> 590 </span><span style=\"color: #7f7f7f; text-decoration-color: #7f7f7f\">│   │   │   │   </span>data,                                                                     <span style=\"color: #800000; text-decoration-color: #800000\">│</span>\n",
       "<span style=\"color: #800000; text-decoration-color: #800000\">│</span>   <span style=\"color: #7f7f7f; text-decoration-color: #7f7f7f\"> 591 </span><span style=\"color: #7f7f7f; text-decoration-color: #7f7f7f\">│   │   │   │   </span>schema=local_schema_override <span style=\"color: #ff00ff; text-decoration-color: #ff00ff\">or</span> <span style=\"color: #0000ff; text-decoration-color: #0000ff\">None</span>,                                     <span style=\"color: #800000; text-decoration-color: #800000\">│</span>\n",
       "<span style=\"color: #800000; text-decoration-color: #800000\">│</span>   <span style=\"color: #7f7f7f; text-decoration-color: #7f7f7f\"> 592 </span><span style=\"color: #7f7f7f; text-decoration-color: #7f7f7f\">│   │   │   │   </span>infer_schema_length=infer_schema_length,                                  <span style=\"color: #800000; text-decoration-color: #800000\">│</span>\n",
       "<span style=\"color: #800000; text-decoration-color: #800000\">╰──────────────────────────────────────────────────────────────────────────────────────────────────╯</span>\n",
       "<span style=\"color: #ff0000; text-decoration-color: #ff0000; font-weight: bold\">ComputeError: </span>could not append value: <span style=\"color: #008000; text-decoration-color: #008000\">\"2020-01-04\"</span> of type: str to the builder; make sure that all rows have the \n",
       "same schema or consider increasing `infer_schema_length`\n",
       "\n",
       "it might also be that a value overflows the data-type's capacity\n",
       "</pre>\n"
      ],
      "text/plain": [
       "\u001b[31m╭─\u001b[0m\u001b[31m──────────────────────────────\u001b[0m\u001b[31m \u001b[0m\u001b[1;31mTraceback \u001b[0m\u001b[1;2;31m(most recent call last)\u001b[0m\u001b[31m \u001b[0m\u001b[31m───────────────────────────────\u001b[0m\u001b[31m─╮\u001b[0m\n",
       "\u001b[31m│\u001b[0m in \u001b[92m<module>\u001b[0m:\u001b[94m1\u001b[0m                                                                                    \u001b[31m│\u001b[0m\n",
       "\u001b[31m│\u001b[0m                                                                                                  \u001b[31m│\u001b[0m\n",
       "\u001b[31m│\u001b[0m \u001b[31m❱ \u001b[0m1 \u001b[96mlist\u001b[0m(db[Search.results].items())[\u001b[94m0\u001b[0m][\u001b[94m1\u001b[0m].start.year                                            \u001b[31m│\u001b[0m\n",
       "\u001b[31m│\u001b[0m   \u001b[2m2 \u001b[0m                                                                                             \u001b[31m│\u001b[0m\n",
       "\u001b[31m│\u001b[0m                                                                                                  \u001b[31m│\u001b[0m\n",
       "\u001b[31m│\u001b[0m \u001b[33mC:\\Users\\lworm\\Repos\\py-research\\src\\py_research\\db\\databases.py\u001b[0m:\u001b[94m818\u001b[0m in \u001b[92mitems\u001b[0m                    \u001b[31m│\u001b[0m\n",
       "\u001b[31m│\u001b[0m                                                                                                  \u001b[31m│\u001b[0m\n",
       "\u001b[31m│\u001b[0m   \u001b[2m 815 \u001b[0m\u001b[2m│   │   \u001b[0m\u001b[96mself\u001b[0m: Data[Any, Any, Any, Any, Any, DynBackendID],                                \u001b[31m│\u001b[0m\n",
       "\u001b[31m│\u001b[0m   \u001b[2m 816 \u001b[0m\u001b[2m│   \u001b[0m) -> Iterable[\u001b[96mtuple\u001b[0m[Any, Any]]:                                                       \u001b[31m│\u001b[0m\n",
       "\u001b[31m│\u001b[0m   \u001b[2m 817 \u001b[0m\u001b[2;90m│   │   \u001b[0m\u001b[33m\"\"\"Iterable over this dataset's items.\"\"\"\u001b[0m                                         \u001b[31m│\u001b[0m\n",
       "\u001b[31m│\u001b[0m \u001b[31m❱ \u001b[0m 818 \u001b[2m│   │   \u001b[0m\u001b[94mreturn\u001b[0m \u001b[96mzip\u001b[0m(\u001b[96mself\u001b[0m.keys(), \u001b[96mself\u001b[0m.values())                                            \u001b[31m│\u001b[0m\n",
       "\u001b[31m│\u001b[0m   \u001b[2m 819 \u001b[0m\u001b[2m│   \u001b[0m                                                                                      \u001b[31m│\u001b[0m\n",
       "\u001b[31m│\u001b[0m   \u001b[2m 820 \u001b[0m\u001b[2m│   \u001b[0m\u001b[1;95m@overload\u001b[0m                                                                             \u001b[31m│\u001b[0m\n",
       "\u001b[31m│\u001b[0m   \u001b[2m 821 \u001b[0m\u001b[2m│   \u001b[0m\u001b[94mdef\u001b[0m\u001b[90m \u001b[0m\u001b[92mget\u001b[0m(                                                                              \u001b[31m│\u001b[0m\n",
       "\u001b[31m│\u001b[0m                                                                                                  \u001b[31m│\u001b[0m\n",
       "\u001b[31m│\u001b[0m \u001b[33mC:\\Users\\lworm\\Repos\\py-research\\src\\py_research\\db\\databases.py\u001b[0m:\u001b[94m736\u001b[0m in \u001b[92mvalues\u001b[0m                   \u001b[31m│\u001b[0m\n",
       "\u001b[31m│\u001b[0m                                                                                                  \u001b[31m│\u001b[0m\n",
       "\u001b[31m│\u001b[0m   \u001b[2m 733 \u001b[0m\u001b[2m│   │   \u001b[0m\u001b[96mself\u001b[0m: Data[ValT2, Any, Any, Any, Any, DynBackendID],                              \u001b[31m│\u001b[0m\n",
       "\u001b[31m│\u001b[0m   \u001b[2m 734 \u001b[0m\u001b[2m│   \u001b[0m) -> Sequence[ValT2]:                                                                 \u001b[31m│\u001b[0m\n",
       "\u001b[31m│\u001b[0m   \u001b[2m 735 \u001b[0m\u001b[2;90m│   │   \u001b[0m\u001b[33m\"\"\"Iterable over this dataset's values.\"\"\"\u001b[0m                                        \u001b[31m│\u001b[0m\n",
       "\u001b[31m│\u001b[0m \u001b[31m❱ \u001b[0m 736 \u001b[2m│   │   \u001b[0mdfs = \u001b[96mself\u001b[0m.df()                                                                   \u001b[31m│\u001b[0m\n",
       "\u001b[31m│\u001b[0m   \u001b[2m 737 \u001b[0m\u001b[2m│   │   \u001b[0m\u001b[94mif\u001b[0m \u001b[96misinstance\u001b[0m(dfs, pl.DataFrame):                                                 \u001b[31m│\u001b[0m\n",
       "\u001b[31m│\u001b[0m   \u001b[2m 738 \u001b[0m\u001b[2m│   │   │   \u001b[0mdfs = (dfs,)                                                                  \u001b[31m│\u001b[0m\n",
       "\u001b[31m│\u001b[0m   \u001b[2m 739 \u001b[0m                                                                                          \u001b[31m│\u001b[0m\n",
       "\u001b[31m│\u001b[0m                                                                                                  \u001b[31m│\u001b[0m\n",
       "\u001b[31m│\u001b[0m \u001b[33mC:\\Users\\lworm\\Repos\\py-research\\src\\py_research\\db\\databases.py\u001b[0m:\u001b[94m897\u001b[0m in \u001b[92mdf\u001b[0m                       \u001b[31m│\u001b[0m\n",
       "\u001b[31m│\u001b[0m                                                                                                  \u001b[31m│\u001b[0m\n",
       "\u001b[31m│\u001b[0m   \u001b[2m 894 \u001b[0m\u001b[2m│   │   │   │   │   \u001b[0m\u001b[96mlist\u001b[0m(\u001b[96mself\u001b[0m._abs_idx_cols.keys()), drop=\u001b[94mFalse\u001b[0m                           \u001b[31m│\u001b[0m\n",
       "\u001b[31m│\u001b[0m   \u001b[2m 895 \u001b[0m\u001b[2m│   │   │   │   \u001b[0m)                                                                         \u001b[31m│\u001b[0m\n",
       "\u001b[31m│\u001b[0m   \u001b[2m 896 \u001b[0m\u001b[2m│   │   \u001b[0m\u001b[94melse\u001b[0m:                                                                             \u001b[31m│\u001b[0m\n",
       "\u001b[31m│\u001b[0m \u001b[31m❱ \u001b[0m 897 \u001b[2m│   │   │   \u001b[0mmerged_df = pl.read_database(                                                 \u001b[31m│\u001b[0m\n",
       "\u001b[31m│\u001b[0m   \u001b[2m 898 \u001b[0m\u001b[2m│   │   │   │   \u001b[0mselect,                                                                   \u001b[31m│\u001b[0m\n",
       "\u001b[31m│\u001b[0m   \u001b[2m 899 \u001b[0m\u001b[2m│   │   │   │   \u001b[0m\u001b[96mself\u001b[0m.db.engine.connect(),                                                 \u001b[31m│\u001b[0m\n",
       "\u001b[31m│\u001b[0m   \u001b[2m 900 \u001b[0m\u001b[2m│   │   │   │   \u001b[0mschema_overrides=_get_pl_schema(                                          \u001b[31m│\u001b[0m\n",
       "\u001b[31m│\u001b[0m                                                                                                  \u001b[31m│\u001b[0m\n",
       "\u001b[31m│\u001b[0m \u001b[33mc:\\Users\\lworm\\Repos\\py-research\\.venv\\Lib\\site-packages\\polars\\io\\database\\functions.py\u001b[0m:\u001b[94m250\u001b[0m in  \u001b[31m│\u001b[0m\n",
       "\u001b[31m│\u001b[0m \u001b[92mread_database\u001b[0m                                                                                    \u001b[31m│\u001b[0m\n",
       "\u001b[31m│\u001b[0m                                                                                                  \u001b[31m│\u001b[0m\n",
       "\u001b[31m│\u001b[0m   \u001b[2m247 \u001b[0m\u001b[2m│   │   \u001b[0m\u001b[94mreturn\u001b[0m cx.execute(                                                                 \u001b[31m│\u001b[0m\n",
       "\u001b[31m│\u001b[0m   \u001b[2m248 \u001b[0m\u001b[2m│   │   │   \u001b[0mquery=query,                                                                   \u001b[31m│\u001b[0m\n",
       "\u001b[31m│\u001b[0m   \u001b[2m249 \u001b[0m\u001b[2m│   │   │   \u001b[0moptions=execute_options,                                                       \u001b[31m│\u001b[0m\n",
       "\u001b[31m│\u001b[0m \u001b[31m❱ \u001b[0m250 \u001b[2m│   │   \u001b[0m).to_polars(                                                                       \u001b[31m│\u001b[0m\n",
       "\u001b[31m│\u001b[0m   \u001b[2m251 \u001b[0m\u001b[2m│   │   │   \u001b[0mbatch_size=batch_size,                                                         \u001b[31m│\u001b[0m\n",
       "\u001b[31m│\u001b[0m   \u001b[2m252 \u001b[0m\u001b[2m│   │   │   \u001b[0miter_batches=iter_batches,                                                     \u001b[31m│\u001b[0m\n",
       "\u001b[31m│\u001b[0m   \u001b[2m253 \u001b[0m\u001b[2m│   │   │   \u001b[0mschema_overrides=schema_overrides,                                             \u001b[31m│\u001b[0m\n",
       "\u001b[31m│\u001b[0m                                                                                                  \u001b[31m│\u001b[0m\n",
       "\u001b[31m│\u001b[0m \u001b[33mc:\\Users\\lworm\\Repos\\py-research\\.venv\\Lib\\site-packages\\polars\\io\\database\\_executor.py\u001b[0m:\u001b[94m543\u001b[0m in  \u001b[31m│\u001b[0m\n",
       "\u001b[31m│\u001b[0m \u001b[92mto_polars\u001b[0m                                                                                        \u001b[31m│\u001b[0m\n",
       "\u001b[31m│\u001b[0m                                                                                                  \u001b[31m│\u001b[0m\n",
       "\u001b[31m│\u001b[0m   \u001b[2m540 \u001b[0m\u001b[2m│   │   │   \u001b[0m\u001b[96mself\u001b[0m._from_arrow,  \u001b[2m# init from arrow-native data (where support exists)\u001b[0m        \u001b[31m│\u001b[0m\n",
       "\u001b[31m│\u001b[0m   \u001b[2m541 \u001b[0m\u001b[2m│   │   │   \u001b[0m\u001b[96mself\u001b[0m._from_rows,  \u001b[2m# row-wise fallback (sqlalchemy, dbapi2, pyodbc, etc)\u001b[0m        \u001b[31m│\u001b[0m\n",
       "\u001b[31m│\u001b[0m   \u001b[2m542 \u001b[0m\u001b[2m│   │   \u001b[0m):                                                                                 \u001b[31m│\u001b[0m\n",
       "\u001b[31m│\u001b[0m \u001b[31m❱ \u001b[0m543 \u001b[2m│   │   │   \u001b[0mframe = frame_init(                                                            \u001b[31m│\u001b[0m\n",
       "\u001b[31m│\u001b[0m   \u001b[2m544 \u001b[0m\u001b[2m│   │   │   │   \u001b[0mbatch_size=batch_size,                                                     \u001b[31m│\u001b[0m\n",
       "\u001b[31m│\u001b[0m   \u001b[2m545 \u001b[0m\u001b[2m│   │   │   │   \u001b[0miter_batches=iter_batches,                                                 \u001b[31m│\u001b[0m\n",
       "\u001b[31m│\u001b[0m   \u001b[2m546 \u001b[0m\u001b[2m│   │   │   │   \u001b[0mschema_overrides=schema_overrides,                                         \u001b[31m│\u001b[0m\n",
       "\u001b[31m│\u001b[0m                                                                                                  \u001b[31m│\u001b[0m\n",
       "\u001b[31m│\u001b[0m \u001b[33mc:\\Users\\lworm\\Repos\\py-research\\.venv\\Lib\\site-packages\\polars\\io\\database\\_executor.py\u001b[0m:\u001b[94m300\u001b[0m in  \u001b[31m│\u001b[0m\n",
       "\u001b[31m│\u001b[0m \u001b[92m_from_rows\u001b[0m                                                                                       \u001b[31m│\u001b[0m\n",
       "\u001b[31m│\u001b[0m                                                                                                  \u001b[31m│\u001b[0m\n",
       "\u001b[31m│\u001b[0m   \u001b[2m297 \u001b[0m\u001b[2m│   │   │   │   │   │   \u001b[0m\u001b[94melse\u001b[0m [\u001b[96mself\u001b[0m._fetchall_rows(\u001b[96mself\u001b[0m.result, is_alchemy=is_alchemy)]     \u001b[31m│\u001b[0m\n",
       "\u001b[31m│\u001b[0m   \u001b[2m298 \u001b[0m\u001b[2m│   │   │   │   │   \u001b[0m)                                                                      \u001b[31m│\u001b[0m\n",
       "\u001b[31m│\u001b[0m   \u001b[2m299 \u001b[0m\u001b[2m│   │   │   │   \u001b[0m)                                                                          \u001b[31m│\u001b[0m\n",
       "\u001b[31m│\u001b[0m \u001b[31m❱ \u001b[0m300 \u001b[2m│   │   │   │   \u001b[0m\u001b[94mreturn\u001b[0m frames \u001b[94mif\u001b[0m iter_batches \u001b[94melse\u001b[0m \u001b[96mnext\u001b[0m(frames)  \u001b[2m# type: ignore[arg-type\u001b[0m   \u001b[31m│\u001b[0m\n",
       "\u001b[31m│\u001b[0m   \u001b[2m301 \u001b[0m\u001b[2m│   │   │   \u001b[0m\u001b[94mreturn\u001b[0m \u001b[94mNone\u001b[0m                                                                    \u001b[31m│\u001b[0m\n",
       "\u001b[31m│\u001b[0m   \u001b[2m302 \u001b[0m\u001b[2m│   │   \u001b[0m\u001b[94mfinally\u001b[0m:                                                                           \u001b[31m│\u001b[0m\n",
       "\u001b[31m│\u001b[0m   \u001b[2m303 \u001b[0m\u001b[2m│   │   │   \u001b[0m\u001b[94mif\u001b[0m is_async:                                                                   \u001b[31m│\u001b[0m\n",
       "\u001b[31m│\u001b[0m                                                                                                  \u001b[31m│\u001b[0m\n",
       "\u001b[31m│\u001b[0m \u001b[33mc:\\Users\\lworm\\Repos\\py-research\\.venv\\Lib\\site-packages\\polars\\io\\database\\_executor.py\u001b[0m:\u001b[94m283\u001b[0m in  \u001b[31m│\u001b[0m\n",
       "\u001b[31m│\u001b[0m \u001b[92m<genexpr>\u001b[0m                                                                                        \u001b[31m│\u001b[0m\n",
       "\u001b[31m│\u001b[0m                                                                                                  \u001b[31m│\u001b[0m\n",
       "\u001b[31m│\u001b[0m   \u001b[2m280 \u001b[0m\u001b[2m│   │   │   │   \u001b[0m)                                                                          \u001b[31m│\u001b[0m\n",
       "\u001b[31m│\u001b[0m   \u001b[2m281 \u001b[0m\u001b[2m│   │   │   │   \u001b[0mresult_columns = [nm \u001b[94mfor\u001b[0m nm, _ \u001b[95min\u001b[0m cursor_desc]                             \u001b[31m│\u001b[0m\n",
       "\u001b[31m│\u001b[0m   \u001b[2m282 \u001b[0m\u001b[2m│   │   │   │   \u001b[0mframes = (                                                                 \u001b[31m│\u001b[0m\n",
       "\u001b[31m│\u001b[0m \u001b[31m❱ \u001b[0m283 \u001b[2m│   │   │   │   │   \u001b[0mDataFrame(                                                             \u001b[31m│\u001b[0m\n",
       "\u001b[31m│\u001b[0m   \u001b[2m284 \u001b[0m\u001b[2m│   │   │   │   │   │   \u001b[0mdata=rows,                                                         \u001b[31m│\u001b[0m\n",
       "\u001b[31m│\u001b[0m   \u001b[2m285 \u001b[0m\u001b[2m│   │   │   │   │   │   \u001b[0mschema=result_columns \u001b[95mor\u001b[0m \u001b[94mNone\u001b[0m,                                     \u001b[31m│\u001b[0m\n",
       "\u001b[31m│\u001b[0m   \u001b[2m286 \u001b[0m\u001b[2m│   │   │   │   │   │   \u001b[0mschema_overrides=schema_overrides,                                 \u001b[31m│\u001b[0m\n",
       "\u001b[31m│\u001b[0m                                                                                                  \u001b[31m│\u001b[0m\n",
       "\u001b[31m│\u001b[0m \u001b[33mc:\\Users\\lworm\\Repos\\py-research\\.venv\\Lib\\site-packages\\polars\\dataframe\\frame.py\u001b[0m:\u001b[94m377\u001b[0m in        \u001b[31m│\u001b[0m\n",
       "\u001b[31m│\u001b[0m \u001b[92m__init__\u001b[0m                                                                                         \u001b[31m│\u001b[0m\n",
       "\u001b[31m│\u001b[0m                                                                                                  \u001b[31m│\u001b[0m\n",
       "\u001b[31m│\u001b[0m   \u001b[2m  374 \u001b[0m\u001b[2m│   │   │   \u001b[0m)                                                                            \u001b[31m│\u001b[0m\n",
       "\u001b[31m│\u001b[0m   \u001b[2m  375 \u001b[0m\u001b[2m│   │   \u001b[0m                                                                                 \u001b[31m│\u001b[0m\n",
       "\u001b[31m│\u001b[0m   \u001b[2m  376 \u001b[0m\u001b[2m│   │   \u001b[0m\u001b[94melif\u001b[0m \u001b[96misinstance\u001b[0m(data, (\u001b[96mlist\u001b[0m, \u001b[96mtuple\u001b[0m, Sequence)):                                  \u001b[31m│\u001b[0m\n",
       "\u001b[31m│\u001b[0m \u001b[31m❱ \u001b[0m  377 \u001b[2m│   │   │   \u001b[0m\u001b[96mself\u001b[0m._df = sequence_to_pydf(                                                 \u001b[31m│\u001b[0m\n",
       "\u001b[31m│\u001b[0m   \u001b[2m  378 \u001b[0m\u001b[2m│   │   │   │   \u001b[0mdata,                                                                    \u001b[31m│\u001b[0m\n",
       "\u001b[31m│\u001b[0m   \u001b[2m  379 \u001b[0m\u001b[2m│   │   │   │   \u001b[0mschema=schema,                                                           \u001b[31m│\u001b[0m\n",
       "\u001b[31m│\u001b[0m   \u001b[2m  380 \u001b[0m\u001b[2m│   │   │   │   \u001b[0mschema_overrides=schema_overrides,                                       \u001b[31m│\u001b[0m\n",
       "\u001b[31m│\u001b[0m                                                                                                  \u001b[31m│\u001b[0m\n",
       "\u001b[31m│\u001b[0m \u001b[33mc:\\Users\\lworm\\Repos\\py-research\\.venv\\Lib\\site-packages\\polars\\_utils\\construction\\dataframe.py\u001b[0m \u001b[31m│\u001b[0m\n",
       "\u001b[31m│\u001b[0m :\u001b[94m460\u001b[0m in \u001b[92msequence_to_pydf\u001b[0m                                                                         \u001b[31m│\u001b[0m\n",
       "\u001b[31m│\u001b[0m                                                                                                  \u001b[31m│\u001b[0m\n",
       "\u001b[31m│\u001b[0m   \u001b[2m 457 \u001b[0m\u001b[2m│   \u001b[0m\u001b[94mif\u001b[0m \u001b[95mnot\u001b[0m data:                                                                          \u001b[31m│\u001b[0m\n",
       "\u001b[31m│\u001b[0m   \u001b[2m 458 \u001b[0m\u001b[2m│   │   \u001b[0m\u001b[94mreturn\u001b[0m dict_to_pydf({}, schema=schema, schema_overrides=schema_overrides)         \u001b[31m│\u001b[0m\n",
       "\u001b[31m│\u001b[0m   \u001b[2m 459 \u001b[0m\u001b[2m│   \u001b[0m                                                                                      \u001b[31m│\u001b[0m\n",
       "\u001b[31m│\u001b[0m \u001b[31m❱ \u001b[0m 460 \u001b[2m│   \u001b[0m\u001b[94mreturn\u001b[0m _sequence_to_pydf_dispatcher(                                                  \u001b[31m│\u001b[0m\n",
       "\u001b[31m│\u001b[0m   \u001b[2m 461 \u001b[0m\u001b[2m│   │   \u001b[0mdata[\u001b[94m0\u001b[0m],                                                                          \u001b[31m│\u001b[0m\n",
       "\u001b[31m│\u001b[0m   \u001b[2m 462 \u001b[0m\u001b[2m│   │   \u001b[0mdata=data,                                                                        \u001b[31m│\u001b[0m\n",
       "\u001b[31m│\u001b[0m   \u001b[2m 463 \u001b[0m\u001b[2m│   │   \u001b[0mschema=schema,                                                                    \u001b[31m│\u001b[0m\n",
       "\u001b[31m│\u001b[0m                                                                                                  \u001b[31m│\u001b[0m\n",
       "\u001b[31m│\u001b[0m \u001b[33mC:\\Users\\lworm\\.pyenv\\pyenv-win\\versions\\3.12.4\\Lib\\functools.py\u001b[0m:\u001b[94m909\u001b[0m in \u001b[92mwrapper\u001b[0m                  \u001b[31m│\u001b[0m\n",
       "\u001b[31m│\u001b[0m                                                                                                  \u001b[31m│\u001b[0m\n",
       "\u001b[31m│\u001b[0m   \u001b[2m 906 \u001b[0m\u001b[2m│   │   │   \u001b[0m\u001b[94mraise\u001b[0m \u001b[96mTypeError\u001b[0m(\u001b[33mf\u001b[0m\u001b[33m'\u001b[0m\u001b[33m{\u001b[0mfuncname\u001b[33m}\u001b[0m\u001b[33m requires at least \u001b[0m\u001b[33m'\u001b[0m                              \u001b[31m│\u001b[0m\n",
       "\u001b[31m│\u001b[0m   \u001b[2m 907 \u001b[0m\u001b[2m│   │   │   │   │   │   │   \u001b[0m\u001b[33m'\u001b[0m\u001b[33m1 positional argument\u001b[0m\u001b[33m'\u001b[0m)                                      \u001b[31m│\u001b[0m\n",
       "\u001b[31m│\u001b[0m   \u001b[2m 908 \u001b[0m\u001b[2m│   │   \u001b[0m                                                                                  \u001b[31m│\u001b[0m\n",
       "\u001b[31m│\u001b[0m \u001b[31m❱ \u001b[0m 909 \u001b[2m│   │   \u001b[0m\u001b[94mreturn\u001b[0m dispatch(args[\u001b[94m0\u001b[0m].\u001b[91m__class__\u001b[0m)(*args, **kw)                                   \u001b[31m│\u001b[0m\n",
       "\u001b[31m│\u001b[0m   \u001b[2m 910 \u001b[0m\u001b[2m│   \u001b[0m                                                                                      \u001b[31m│\u001b[0m\n",
       "\u001b[31m│\u001b[0m   \u001b[2m 911 \u001b[0m\u001b[2m│   \u001b[0mfuncname = \u001b[96mgetattr\u001b[0m(func, \u001b[33m'\u001b[0m\u001b[33m__name__\u001b[0m\u001b[33m'\u001b[0m, \u001b[33m'\u001b[0m\u001b[33msingledispatch function\u001b[0m\u001b[33m'\u001b[0m)                       \u001b[31m│\u001b[0m\n",
       "\u001b[31m│\u001b[0m   \u001b[2m 912 \u001b[0m\u001b[2m│   \u001b[0mregistry[\u001b[96mobject\u001b[0m] = func                                                               \u001b[31m│\u001b[0m\n",
       "\u001b[31m│\u001b[0m                                                                                                  \u001b[31m│\u001b[0m\n",
       "\u001b[31m│\u001b[0m \u001b[33mc:\\Users\\lworm\\Repos\\py-research\\.venv\\Lib\\site-packages\\polars\\_utils\\construction\\dataframe.py\u001b[0m \u001b[31m│\u001b[0m\n",
       "\u001b[31m│\u001b[0m :\u001b[94m673\u001b[0m in \u001b[92m_sequence_of_tuple_to_pydf\u001b[0m                                                               \u001b[31m│\u001b[0m\n",
       "\u001b[31m│\u001b[0m                                                                                                  \u001b[31m│\u001b[0m\n",
       "\u001b[31m│\u001b[0m   \u001b[2m 670 \u001b[0m\u001b[2m│   │   │   \u001b[0morient = \u001b[33m\"\u001b[0m\u001b[33mrow\u001b[0m\u001b[33m\"\u001b[0m                                                                \u001b[31m│\u001b[0m\n",
       "\u001b[31m│\u001b[0m   \u001b[2m 671 \u001b[0m\u001b[2m│   \u001b[0m                                                                                      \u001b[31m│\u001b[0m\n",
       "\u001b[31m│\u001b[0m   \u001b[2m 672 \u001b[0m\u001b[2m│   \u001b[0m\u001b[2m# ...then defer to generic sequence processing\u001b[0m                                        \u001b[31m│\u001b[0m\n",
       "\u001b[31m│\u001b[0m \u001b[31m❱ \u001b[0m 673 \u001b[2m│   \u001b[0m\u001b[94mreturn\u001b[0m _sequence_of_sequence_to_pydf(                                                 \u001b[31m│\u001b[0m\n",
       "\u001b[31m│\u001b[0m   \u001b[2m 674 \u001b[0m\u001b[2m│   │   \u001b[0mfirst_element,                                                                    \u001b[31m│\u001b[0m\n",
       "\u001b[31m│\u001b[0m   \u001b[2m 675 \u001b[0m\u001b[2m│   │   \u001b[0mdata=data,                                                                        \u001b[31m│\u001b[0m\n",
       "\u001b[31m│\u001b[0m   \u001b[2m 676 \u001b[0m\u001b[2m│   │   \u001b[0mschema=schema,                                                                    \u001b[31m│\u001b[0m\n",
       "\u001b[31m│\u001b[0m                                                                                                  \u001b[31m│\u001b[0m\n",
       "\u001b[31m│\u001b[0m \u001b[33mc:\\Users\\lworm\\Repos\\py-research\\.venv\\Lib\\site-packages\\polars\\_utils\\construction\\dataframe.py\u001b[0m \u001b[31m│\u001b[0m\n",
       "\u001b[31m│\u001b[0m :\u001b[94m589\u001b[0m in \u001b[92m_sequence_of_sequence_to_pydf\u001b[0m                                                            \u001b[31m│\u001b[0m\n",
       "\u001b[31m│\u001b[0m                                                                                                  \u001b[31m│\u001b[0m\n",
       "\u001b[31m│\u001b[0m   \u001b[2m 586 \u001b[0m\u001b[2m│   │   │   │   \u001b[0mdicts, strict=strict, infer_schema_length=infer_schema_length             \u001b[31m│\u001b[0m\n",
       "\u001b[31m│\u001b[0m   \u001b[2m 587 \u001b[0m\u001b[2m│   │   │   \u001b[0m)                                                                             \u001b[31m│\u001b[0m\n",
       "\u001b[31m│\u001b[0m   \u001b[2m 588 \u001b[0m\u001b[2m│   │   \u001b[0m\u001b[94melse\u001b[0m:                                                                             \u001b[31m│\u001b[0m\n",
       "\u001b[31m│\u001b[0m \u001b[31m❱ \u001b[0m 589 \u001b[2m│   │   │   \u001b[0mpydf = PyDataFrame.from_rows(                                                 \u001b[31m│\u001b[0m\n",
       "\u001b[31m│\u001b[0m   \u001b[2m 590 \u001b[0m\u001b[2m│   │   │   │   \u001b[0mdata,                                                                     \u001b[31m│\u001b[0m\n",
       "\u001b[31m│\u001b[0m   \u001b[2m 591 \u001b[0m\u001b[2m│   │   │   │   \u001b[0mschema=local_schema_override \u001b[95mor\u001b[0m \u001b[94mNone\u001b[0m,                                     \u001b[31m│\u001b[0m\n",
       "\u001b[31m│\u001b[0m   \u001b[2m 592 \u001b[0m\u001b[2m│   │   │   │   \u001b[0minfer_schema_length=infer_schema_length,                                  \u001b[31m│\u001b[0m\n",
       "\u001b[31m╰──────────────────────────────────────────────────────────────────────────────────────────────────╯\u001b[0m\n",
       "\u001b[1;91mComputeError: \u001b[0mcould not append value: \u001b[32m\"2020-01-04\"\u001b[0m of type: str to the builder; make sure that all rows have the \n",
       "same schema or consider increasing `infer_schema_length`\n",
       "\n",
       "it might also be that a value overflows the data-type's capacity\n"
      ]
     },
     "metadata": {},
     "output_type": "display_data"
    }
   ],
   "source": [
    "list(db[Search.results].items())[0][1].start.year"
   ]
  },
  {
   "cell_type": "code",
   "execution_count": 13,
   "metadata": {},
   "outputs": [
    {
     "data": {
      "text/html": [
       "<pre style=\"white-space:pre;overflow-x:auto;line-height:normal;font-family:Menlo,'DejaVu Sans Mono',consolas,'Courier New',monospace\"></pre>\n"
      ],
      "text/plain": []
     },
     "metadata": {},
     "output_type": "display_data"
    },
    {
     "data": {
      "text/html": [
       "<div><style>\n",
       ".dataframe > thead > tr,\n",
       ".dataframe > tbody > tr {\n",
       "  text-align: right;\n",
       "  white-space: pre-wrap;\n",
       "}\n",
       "</style>\n",
       "<small>shape: (3, 7)</small><table border=\"1\" class=\"dataframe\"><thead><tr><th>schema_Search_term</th><th>start</th><th>name</th><th>status</th><th>org__id</th><th>number</th><th>end</th></tr><tr><td>str</td><td>str</td><td>str</td><td>str</td><td>str</td><td>i64</td><td>str</td></tr></thead><tbody><tr><td>&quot;test&quot;</td><td>&quot;2020-01-01&quot;</td><td>&quot;baking cake&quot;</td><td>&quot;done&quot;</td><td>&quot;bb4e82dd-9ac9-4bed-9242-844fb7…</td><td>0</td><td>&quot;2020-01-04&quot;</td></tr><tr><td>&quot;test&quot;</td><td>&quot;2020-01-02&quot;</td><td>&quot;cleaning shoes&quot;</td><td>&quot;done&quot;</td><td>&quot;78907f17-67bf-4ba5-8e2f-34e830…</td><td>1</td><td>&quot;2020-01-05&quot;</td></tr><tr><td>&quot;test&quot;</td><td>&quot;2020-01-03&quot;</td><td>&quot;fixing cars&quot;</td><td>&quot;started&quot;</td><td>&quot;b38087ce-7b8a-4c12-a954-27bc0a…</td><td>2</td><td>&quot;2020-01-06&quot;</td></tr></tbody></table></div>"
      ],
      "text/plain": [
       "\n",
       "shape: \u001b[1m(\u001b[0m\u001b[1;36m3\u001b[0m, \u001b[1;36m7\u001b[0m\u001b[1m)\u001b[0m\n",
       "┌──────────────────┬────────────┬────────────────┬─────────┬─────────────────┬────────┬────────────┐\n",
       "│ schema_Search_te ┆ start      ┆ name           ┆ status  ┆ org__id         ┆ number ┆ end        │\n",
       "│ rm               ┆ ---        ┆ ---            ┆ ---     ┆ ---             ┆ ---    ┆ ---        │\n",
       "│ ---              ┆ str        ┆ str            ┆ str     ┆ str             ┆ i64    ┆ str        │\n",
       "│ str              ┆            ┆                ┆         ┆                 ┆        ┆            │\n",
       "╞══════════════════╪════════════╪════════════════╪═════════╪═════════════════╪════════╪════════════╡\n",
       "│ test             ┆ \u001b[1;36m2020\u001b[0m-\u001b[1;36m01\u001b[0m-\u001b[1;36m01\u001b[0m ┆ baking cake    ┆ done    ┆ bb4e82dd-9ac9-\u001b[1;36m4\u001b[0m ┆ \u001b[1;36m0\u001b[0m      ┆ \u001b[1;36m2020\u001b[0m-\u001b[1;36m01\u001b[0m-\u001b[1;36m04\u001b[0m │\n",
       "│                  ┆            ┆                ┆         ┆ bed-\u001b[1;36m9242\u001b[0m-844fb7 ┆        ┆            │\n",
       "│                  ┆            ┆                ┆         ┆ …               ┆        ┆            │\n",
       "│ test             ┆ \u001b[1;36m2020\u001b[0m-\u001b[1;36m01\u001b[0m-\u001b[1;36m02\u001b[0m ┆ cleaning shoes ┆ done    ┆ 78907f17-67bf-\u001b[1;36m4\u001b[0m ┆ \u001b[1;36m1\u001b[0m      ┆ \u001b[1;36m2020\u001b[0m-\u001b[1;36m01\u001b[0m-\u001b[1;36m05\u001b[0m │\n",
       "│                  ┆            ┆                ┆         ┆ ba5-8e2f-\u001b[1;36m34e830\u001b[0m ┆        ┆            │\n",
       "│                  ┆            ┆                ┆         ┆ …               ┆        ┆            │\n",
       "│ test             ┆ \u001b[1;36m2020\u001b[0m-\u001b[1;36m01\u001b[0m-\u001b[1;36m03\u001b[0m ┆ fixing cars    ┆ started ┆ b38087ce-7b8a-\u001b[1;36m4\u001b[0m ┆ \u001b[1;36m2\u001b[0m      ┆ \u001b[1;36m2020\u001b[0m-\u001b[1;36m01\u001b[0m-\u001b[1;36m06\u001b[0m │\n",
       "│                  ┆            ┆                ┆         ┆ c12-a954-27bc0a ┆        ┆            │\n",
       "│                  ┆            ┆                ┆         ┆ …               ┆        ┆            │\n",
       "└──────────────────┴────────────┴────────────────┴─────────┴─────────────────┴────────┴────────────┘"
      ]
     },
     "execution_count": 13,
     "metadata": {},
     "output_type": "execute_result"
    }
   ],
   "source": [
    "db[Search.results].df()"
   ]
  },
  {
   "cell_type": "code",
   "execution_count": 14,
   "metadata": {},
   "outputs": [
    {
     "data": {
      "text/html": [
       "<pre style=\"white-space:pre;overflow-x:auto;line-height:normal;font-family:Menlo,'DejaVu Sans Mono',consolas,'Courier New',monospace\"></pre>\n"
      ],
      "text/plain": []
     },
     "metadata": {},
     "output_type": "display_data"
    },
    {
     "data": {
      "text/html": [
       "<div><style>\n",
       ".dataframe > thead > tr,\n",
       ".dataframe > tbody > tr {\n",
       "  text-align: right;\n",
       "  white-space: pre-wrap;\n",
       "}\n",
       "</style>\n",
       "<small>shape: (3, 5)</small><table border=\"1\" class=\"dataframe\"><thead><tr><th>schema_Organization__id</th><th>city</th><th>address</th><th>_id</th><th>name</th></tr><tr><td>str</td><td>str</td><td>str</td><td>str</td><td>str</td></tr></thead><tbody><tr><td>&quot;d46d70dd-a3a3-4933-bd15-8f3db6…</td><td>&quot;Bakerville&quot;</td><td>&quot;Main Street 1&quot;</td><td>&quot;d46d70dd-a3a3-4933-bd15-8f3db6…</td><td>&quot;Bakery&quot;</td></tr><tr><td>&quot;e2c659cd-df92-42b7-a828-163821…</td><td>&quot;Shoetown&quot;</td><td>&quot;Main Street 2&quot;</td><td>&quot;e2c659cd-df92-42b7-a828-163821…</td><td>&quot;Shoe Shop&quot;</td></tr><tr><td>&quot;4de83e34-12c2-4835-a552-7514c4…</td><td>&quot;Cartown&quot;</td><td>&quot;Main Street 3&quot;</td><td>&quot;4de83e34-12c2-4835-a552-7514c4…</td><td>&quot;Car Shop&quot;</td></tr></tbody></table></div>"
      ],
      "text/plain": [
       "\n",
       "shape: \u001b[1m(\u001b[0m\u001b[1;36m3\u001b[0m, \u001b[1;36m5\u001b[0m\u001b[1m)\u001b[0m\n",
       "┌────────────────────────────┬────────────┬───────────────┬────────────────────────────┬───────────┐\n",
       "│ schema_Organization__id    ┆ city       ┆ address       ┆ _id                        ┆ name      │\n",
       "│ ---                        ┆ ---        ┆ ---           ┆ ---                        ┆ ---       │\n",
       "│ str                        ┆ str        ┆ str           ┆ str                        ┆ str       │\n",
       "╞════════════════════════════╪════════════╪═══════════════╪════════════════════════════╪═══════════╡\n",
       "│ d46d70dd-a3a3-\u001b[1;36m4933\u001b[0m-bd15-8f ┆ Bakerville ┆ Main Street \u001b[1;36m1\u001b[0m ┆ d46d70dd-a3a3-\u001b[1;36m4933\u001b[0m-bd15-8f ┆ Bakery    │\n",
       "│ 3db6…                      ┆            ┆               ┆ 3db6…                      ┆           │\n",
       "│ e2c659cd-df92-42b7-a828-\u001b[1;36m16\u001b[0m ┆ Shoetown   ┆ Main Street \u001b[1;36m2\u001b[0m ┆ e2c659cd-df92-42b7-a828-\u001b[1;36m16\u001b[0m ┆ Shoe Shop │\n",
       "│ \u001b[1;36m3821\u001b[0m…                      ┆            ┆               ┆ \u001b[1;36m3821\u001b[0m…                      ┆           │\n",
       "│ 4de83e34-12c2-\u001b[1;36m4835\u001b[0m-a552-\u001b[1;36m75\u001b[0m ┆ Cartown    ┆ Main Street \u001b[1;36m3\u001b[0m ┆ 4de83e34-12c2-\u001b[1;36m4835\u001b[0m-a552-\u001b[1;36m75\u001b[0m ┆ Car Shop  │\n",
       "│ 14c4…                      ┆            ┆               ┆ 14c4…                      ┆           │\n",
       "└────────────────────────────┴────────────┴───────────────┴────────────────────────────┴───────────┘"
      ]
     },
     "execution_count": 14,
     "metadata": {},
     "output_type": "execute_result"
    }
   ],
   "source": [
    "db[Organization].df()"
   ]
  },
  {
   "cell_type": "code",
   "execution_count": 15,
   "metadata": {},
   "outputs": [
    {
     "data": {
      "text/html": [
       "<pre style=\"white-space:pre;overflow-x:auto;line-height:normal;font-family:Menlo,'DejaVu Sans Mono',consolas,'Courier New',monospace\"></pre>\n"
      ],
      "text/plain": []
     },
     "metadata": {},
     "output_type": "display_data"
    },
    {
     "data": {
      "text/plain": [
       "\n",
       "\u001b[1m{\u001b[0m\n",
       "    \u001b[32m'schema'\u001b[0m: \u001b[1m{\u001b[0m\n",
       "        \u001b[32m'package'\u001b[0m: \u001b[32m'py-research'\u001b[0m,\n",
       "        \u001b[32m'module'\u001b[0m: \u001b[32m'schema'\u001b[0m,\n",
       "        \u001b[32m'object'\u001b[0m: \u001b[32m'TestSchema'\u001b[0m,\n",
       "        \u001b[32m'package_version'\u001b[0m: \u001b[32m'^5.1.1.dev148+g44d4d92.d20250123'\u001b[0m,\n",
       "        \u001b[32m'repo'\u001b[0m: \u001b[32m'https://github.com/cloudlane-one/py-research.git'\u001b[0m,\n",
       "        \u001b[32m'repo_revision'\u001b[0m: \u001b[32m'44d4d92865c3ff6427ce606c03da9c732e82548f'\u001b[0m,\n",
       "        \u001b[32m'module_path'\u001b[0m: \u001b[1;35mWindowsPath\u001b[0m\u001b[1m(\u001b[0m\u001b[32m'exp/schema.py'\u001b[0m\u001b[1m)\u001b[0m,\n",
       "        \u001b[32m'module_dirty'\u001b[0m: \u001b[3;91mFalse\u001b[0m,\n",
       "        \u001b[32m'docs_url'\u001b[0m: \u001b[32m'https://cloudlane-one.github.io/py-research/'\u001b[0m\n",
       "    \u001b[1m}\u001b[0m,\n",
       "    \u001b[32m'contents'\u001b[0m: \u001b[1m{\u001b[0m\n",
       "        \u001b[32m'records'\u001b[0m: \u001b[1m{\u001b[0m\n",
       "            \u001b[32m'schema.Organization'\u001b[0m: \u001b[1;36m3\u001b[0m,\n",
       "            \u001b[32m'schema.Task'\u001b[0m: \u001b[1;36m6\u001b[0m,\n",
       "            \u001b[32m'schema.Search'\u001b[0m: \u001b[1;36m1\u001b[0m,\n",
       "            \u001b[32m'schema.Project'\u001b[0m: \u001b[1;36m3\u001b[0m,\n",
       "            \u001b[32m'schema.SearchResult'\u001b[0m: \u001b[1;36m3\u001b[0m,\n",
       "            \u001b[32m'schema.Membership'\u001b[0m: \u001b[1;36m7\u001b[0m,\n",
       "            \u001b[32m'schema.User'\u001b[0m: \u001b[1;36m3\u001b[0m\n",
       "        \u001b[1m}\u001b[0m,\n",
       "        \u001b[32m'arrays'\u001b[0m: \u001b[1m{\u001b[0m\u001b[32m'schema_Organization_ccs'\u001b[0m: \u001b[1;36m7\u001b[0m\u001b[1m}\u001b[0m,\n",
       "        \u001b[32m'relations'\u001b[0m: \u001b[1m{\u001b[0m\u001b[32m'schema.SearchResult'\u001b[0m: \u001b[1;36m3\u001b[0m, \u001b[32m'schema.Membership'\u001b[0m: \u001b[1;36m7\u001b[0m\u001b[1m}\u001b[0m\n",
       "    \u001b[1m}\u001b[0m,\n",
       "    \u001b[32m'backend'\u001b[0m: \u001b[3;35mNone\u001b[0m\n",
       "\u001b[1m}\u001b[0m"
      ]
     },
     "execution_count": 15,
     "metadata": {},
     "output_type": "execute_result"
    }
   ],
   "source": [
    "db.describe()"
   ]
  },
  {
   "cell_type": "code",
   "execution_count": null,
   "metadata": {},
   "outputs": [
    {
     "data": {
      "text/html": [
       "<pre style=\"white-space:pre;overflow-x:auto;line-height:normal;font-family:Menlo,'DejaVu Sans Mono',consolas,'Courier New',monospace\"></pre>\n"
      ],
      "text/plain": []
     },
     "metadata": {},
     "output_type": "display_data"
    },
    {
     "data": {
      "text/html": [
       "<div><style>\n",
       ".dataframe > thead > tr,\n",
       ".dataframe > tbody > tr {\n",
       "  text-align: right;\n",
       "  white-space: pre-wrap;\n",
       "}\n",
       "</style>\n",
       "<small>shape: (1, 5)</small><table border=\"1\" class=\"dataframe\"><thead><tr><th>schema_SearchResult__id</th><th>_to_number</th><th>_from_term</th><th>_id</th><th>score</th></tr><tr><td>str</td><td>i64</td><td>str</td><td>str</td><td>f64</td></tr></thead><tbody><tr><td>&quot;5714306633&quot;</td><td>1</td><td>&quot;test&quot;</td><td>&quot;5714306633&quot;</td><td>0.9</td></tr></tbody></table></div>"
      ],
      "text/plain": [
       "\n",
       "shape: \u001b[1m(\u001b[0m\u001b[1;36m1\u001b[0m, \u001b[1;36m5\u001b[0m\u001b[1m)\u001b[0m\n",
       "┌─────────────────────────┬────────────┬────────────┬────────────┬───────┐\n",
       "│ schema_SearchResult__id ┆ _to_number ┆ _from_term ┆ _id        ┆ score │\n",
       "│ ---                     ┆ ---        ┆ ---        ┆ ---        ┆ ---   │\n",
       "│ str                     ┆ i64        ┆ str        ┆ str        ┆ f64   │\n",
       "╞═════════════════════════╪════════════╪════════════╪════════════╪═══════╡\n",
       "│ \u001b[1;36m5714306633\u001b[0m              ┆ \u001b[1;36m1\u001b[0m          ┆ test       ┆ \u001b[1;36m5714306633\u001b[0m ┆ \u001b[1;36m0.9\u001b[0m   │\n",
       "└─────────────────────────┴────────────┴────────────┴────────────┴───────┘"
      ]
     },
     "execution_count": 16,
     "metadata": {},
     "output_type": "execute_result"
    }
   ],
   "source": [
    "db[SearchResult._table[SearchResult.score.isin(slice(0.81, 0.9))]].df()"
   ]
  },
  {
   "cell_type": "code",
   "execution_count": null,
   "metadata": {},
   "outputs": [
    {
     "data": {
      "text/html": [
       "<pre style=\"white-space:pre;overflow-x:auto;line-height:normal;font-family:Menlo,'DejaVu Sans Mono',consolas,'Courier New',monospace\"></pre>\n"
      ],
      "text/plain": []
     },
     "metadata": {},
     "output_type": "display_data"
    },
    {
     "data": {
      "text/html": [
       "<div><style>\n",
       ".dataframe > thead > tr,\n",
       ".dataframe > tbody > tr {\n",
       "  text-align: right;\n",
       "  white-space: pre-wrap;\n",
       "}\n",
       "</style>\n",
       "<small>shape: (7, 3)</small><table border=\"1\" class=\"dataframe\"><thead><tr><th>schema_Organization__id</th><th>schema_Organization_183742__id</th><th>_value</th></tr><tr><td>str</td><td>i64</td><td>str</td></tr></thead><tbody><tr><td>&quot;d46d70dd-a3a3-4933-bd15-8f3db6…</td><td>0</td><td>&quot;USA&quot;</td></tr><tr><td>&quot;d46d70dd-a3a3-4933-bd15-8f3db6…</td><td>1</td><td>&quot;Mexico&quot;</td></tr><tr><td>&quot;d46d70dd-a3a3-4933-bd15-8f3db6…</td><td>2</td><td>&quot;Canada&quot;</td></tr><tr><td>&quot;e2c659cd-df92-42b7-a828-163821…</td><td>0</td><td>&quot;USA&quot;</td></tr><tr><td>&quot;e2c659cd-df92-42b7-a828-163821…</td><td>1</td><td>&quot;Mexico&quot;</td></tr><tr><td>&quot;4de83e34-12c2-4835-a552-7514c4…</td><td>0</td><td>&quot;USA&quot;</td></tr><tr><td>&quot;4de83e34-12c2-4835-a552-7514c4…</td><td>1</td><td>&quot;Canada&quot;</td></tr></tbody></table></div>"
      ],
      "text/plain": [
       "\n",
       "shape: \u001b[1m(\u001b[0m\u001b[1;36m7\u001b[0m, \u001b[1;36m3\u001b[0m\u001b[1m)\u001b[0m\n",
       "┌─────────────────────────────────┬────────────────────────────────┬────────┐\n",
       "│ schema_Organization__id         ┆ schema_Organization_183742__id ┆ _value │\n",
       "│ ---                             ┆ ---                            ┆ ---    │\n",
       "│ str                             ┆ i64                            ┆ str    │\n",
       "╞═════════════════════════════════╪════════════════════════════════╪════════╡\n",
       "│ d46d70dd-a3a3-\u001b[1;36m4933\u001b[0m-bd15-8f3db6… ┆ \u001b[1;36m0\u001b[0m                              ┆ USA    │\n",
       "│ d46d70dd-a3a3-\u001b[1;36m4933\u001b[0m-bd15-8f3db6… ┆ \u001b[1;36m1\u001b[0m                              ┆ Mexico │\n",
       "│ d46d70dd-a3a3-\u001b[1;36m4933\u001b[0m-bd15-8f3db6… ┆ \u001b[1;36m2\u001b[0m                              ┆ Canada │\n",
       "│ e2c659cd-df92-42b7-a828-\u001b[1;36m163821\u001b[0m… ┆ \u001b[1;36m0\u001b[0m                              ┆ USA    │\n",
       "│ e2c659cd-df92-42b7-a828-\u001b[1;36m163821\u001b[0m… ┆ \u001b[1;36m1\u001b[0m                              ┆ Mexico │\n",
       "│ 4de83e34-12c2-\u001b[1;36m4835\u001b[0m-a552-7514c4… ┆ \u001b[1;36m0\u001b[0m                              ┆ USA    │\n",
       "│ 4de83e34-12c2-\u001b[1;36m4835\u001b[0m-a552-7514c4… ┆ \u001b[1;36m1\u001b[0m                              ┆ Canada │\n",
       "└─────────────────────────────────┴────────────────────────────────┴────────┘"
      ]
     },
     "execution_count": 17,
     "metadata": {},
     "output_type": "execute_result"
    }
   ],
   "source": [
    "db[Organization.ccs].df()"
   ]
  },
  {
   "cell_type": "code",
   "execution_count": 18,
   "metadata": {},
   "outputs": [
    {
     "name": "stdout",
     "output_type": "stream",
     "text": [
      "         483559 function calls (449490 primitive calls) in 0.670 seconds\n",
      "\n",
      "   Ordered by: cumulative time\n",
      "   List reduced from 2280 to 157 due to restriction <'py_research'>\n",
      "\n",
      "   ncalls  tottime  percall  cumtime  percall filename:lineno(function)\n",
      "       56    0.000    0.000    0.217    0.004 C:\\Users\\lworm\\Repos\\py-research\\src\\py_research\\db\\datasources.py:838(load)\n",
      "       52    0.000    0.000    0.212    0.004 C:\\Users\\lworm\\Repos\\py-research\\src\\py_research\\db\\datasources.py:697(_load_rec_from_item)\n",
      "       52    0.001    0.000    0.209    0.004 C:\\Users\\lworm\\Repos\\py-research\\src\\py_research\\db\\datasources.py:572(_load_record)\n",
      "   168/57    0.001    0.000    0.207    0.004 C:\\Users\\lworm\\Repos\\py-research\\src\\py_research\\db\\datasources.py:665(_load_records)\n",
      "       19    0.000    0.000    0.191    0.010 C:\\Users\\lworm\\Repos\\py-research\\src\\py_research\\db\\databases.py:1467(__ior__)\n",
      "       19    0.001    0.000    0.191    0.010 C:\\Users\\lworm\\Repos\\py-research\\src\\py_research\\db\\databases.py:2908(_mutate)\n",
      "       17    0.000    0.000 "
     ]
    },
    {
     "name": "stdout",
     "output_type": "stream",
     "text": [
      "   0.152    0.009 C:\\Users\\lworm\\Repos\\py-research\\src\\py_research\\db\\databases.py:3045(_mutate_from_records)\n",
      "16352/7843    0.014    0.000    0.145    0.000 C:\\Users\\lworm\\Repos\\py-research\\src\\py_research\\caching.py:382(__get__)\n",
      "       45    0.000    0.000    0.131    0.003 C:\\Users\\lworm\\Repos\\py-research\\src\\py_research\\db\\databases.py:722(keys)\n",
      "       45    0.000    0.000    0.125    0.003 C:\\Users\\lworm\\Repos\\py-research\\src\\py_research\\db\\databases.py:881(df)\n",
      "       16    0.000    0.000    0.105    0.007 C:\\Users\\lworm\\Repos\\py-research\\src\\py_research\\db\\databases.py:2882(_df_to_table)\n",
      "       47    0.000    0.000    0.086    0.002 C:\\Users\\lworm\\Repos\\py-research\\src\\py_research\\caching.py:364(__call__)\n",
      "       47    0.000    0.000    0.086    0.002 C:\\Users\\lworm\\Repos\\py-research\\src\\py_research\\db\\databases.py:637(select)\n",
      "      101    0.000    0.000    0.050    0.000 C:\\Users\\lworm\\Repos\\py-research\\src\\py_research\\db\\databases.py:2444(_sql_col)\n",
      " 6906/265    0.006    0.000    0.045    0.000 C:\\Users\\lworm\\Repos\\py-research\\src\\py_research\\hashing.py:54(inner)\n",
      " 6906/265    0.012    0.000    0.043    0.000 C:\\Users\\lworm\\Repos\\py-research\\src\\py_research\\hashing.py:69(gen_int_hash)\n",
      "  273/234    0.000    0.000    0.042    0.000 C:\\Users\\lworm\\Repos\\py-research\\src\\py_research\\db\\databases.py:678(__hash__)\n",
      " 1030/285    0.000    0.000    0.042    0.000 C:\\Users\\lworm\\Repos\\py-research\\src\\py_research\\hashing.py:43(_hash_sequence)\n",
      "3104/1757    0.003    0.000    0.041    0.000 C:\\Users\\lworm\\Repos\\py-research\\src\\py_research\\hashing.py:44(<lambda>)\n",
      "       47    0.000    0.000    0.038    0.001 C:\\Users\\lworm\\Repos\\py-research\\src\\py_research\\db\\databases.py:2339(_sql_joins)\n",
      "       47    0.000    0.000    0.038    0.001 C:\\Users\\lworm\\Repos\\py-research\\src\\py_research\\db\\databases.py:2289(_total_join_dict)\n",
      "  171/164    0.001    0.000    0.038    0.000 C:\\Users\\lworm\\Repos\\py-research\\src\\py_research\\db\\databases.py:2679(_get_sql_base_table)\n",
      "       16    0.000    0.000    0.037    0.002 C:\\Users\\lworm\\Repos\\py-research\\src\\py_research\\db\\databases.py:2792(_values_to_df)\n",
      "       47    0.000    0.000    0.036    0.001 C:\\Users\\lworm\\Repos\\py-research\\src\\py_research\\db\\databases.py:2285(_total_joins)\n",
      "       47    0.000    0.000    0.036    0.001 C:\\Users\\lworm\\Repos\\py-research\\src\\py_research\\db\\databases.py:2222(_abs_filters)\n",
      "      148    0.000    0.000    0.035    0.000 C:\\Users\\lworm\\Repos\\py-research\\src\\py_research\\db\\databases.py:2450(_sql_table)\n",
      "       94    0.000    0.000    0.034    0.000 C:\\Users\\lworm\\Repos\\py-research\\src\\py_research\\db\\databases.py:645(<genexpr>)\n",
      "       16    0.001    0.000    0.032    0.002 C:\\Users\\lworm\\Repos\\py-research\\src\\py_research\\db\\databases.py:3138(_mutate_from_sql)\n",
      "      226    0.002    0.000    0.031    0.000 C:\\Users\\lworm\\Repos\\py-research\\src\\py_research\\db\\databases.py:2172(_abs_idx_cols)\n",
      "  647/645    0.001    0.000    0.031    0.000 C:\\Users\\lworm\\Repos\\py-research\\src\\py_research\\db\\databases.py:2504(_get_typearg)\n",
      "       10    0.000    0.000    0.027    0.003 C:\\Users\\lworm\\Repos\\py-research\\src\\py_research\\telemetry.py:104(tqdm)\n",
      "        2    0.000    0.000    0.027    0.013 C:\\Users\\lworm\\Repos\\py-research\\src\\py_research\\db\\databases.py:3031(_mutate_from_values)\n",
      "  365/363    0.000    0.000    0.026    0.000 C:\\Users\\lworm\\Repos\\py-research\\src\\py_research\\db\\databases.py:1956(_generic_args)\n",
      "       99    0.000    0.000    0.025    0.000 C:\\Users\\lworm\\Repos\\py-research\\src\\py_research\\db\\databases.py:2656(_visit_filter_col)\n",
      "  365/363    0.001    0.000    0.024    0.000 C:\\Users\\lworm\\Repos\\py-research\\src\\py_research\\db\\databases.py:1947(_generic_type)\n",
      "      169    0.000    0.000    0.021    0.000 C:\\Users\\lworm\\Repos\\py-research\\src\\py_research\\db\\databases.py:2122(_target_table)\n",
      "      396    0.009    0.000    0.020    0.000 C:\\Users\\lworm\\Repos\\py-research\\src\\py_research\\data.py:33(copy_and_override)\n",
      "  965/959    0.002    0.000    0.018    0.000 C:\\Users\\lworm\\Repos\\py-research\\src\\py_research\\db\\databases.py:4420(_props)\n",
      "      194    0.000    0.000    0.017    0.000 C:\\Users\\lworm\\Repos\\py-research\\src\\py_research\\db\\databases.py:2074(_link)\n",
      "       12    0.000    0.000    0.016    0.001 C:\\Users\\lworm\\Repos\\py-research\\src\\py_research\\db\\databases.py:2138(_abs_cols)\n",
      "1140/1134    0.002    0.000    0.016    0.000 C:\\Users\\lworm\\Repos\\py-research\\src\\py_research\\db\\databases.py:4410(_class_fk_values)\n",
      "       10    0.000    0.000    0.016    0.002 C:\\Users\\lworm\\Repos\\py-research\\src\\py_research\\db\\databases.py:4155(_create_sqla_table)\n",
      "       57    0.000    0.000    0.016    0.000 C:\\Users\\lworm\\Repos\\py-research\\src\\py_research\\db\\databases.py:1633(__eq__)\n",
      "  905/901    0.003    0.000    0.015    0.000 C:\\Users\\lworm\\Repos\\py-research\\src\\py_research\\db\\databases.py:2521(_hint_to_typedef)\n",
      "       10    0.000    0.000    0.014    0.001 C:\\Users\\lworm\\Repos\\py-research\\src\\py_research\\db\\databases.py:2302(_fk_map)\n",
      "       16    0.001    0.000    0.014    0.001 C:\\Users\\lworm\\Repos\\py-research\\src\\py_research\\db\\databases.py:2838(_gen_upload_table)\n",
      "      577    0.000    0.000    0.013    0.000 C:\\Users\\lworm\\Repos\\py-research\\src\\py_research\\reflect\\types.py:56(is_subtype)\n",
      "        9    0.000    0.000    0.013    0.001 C:\\Users\\lworm\\Repos\\py-research\\src\\py_research\\db\\datasources.py:291(sub_tables)\n",
      "     3936    0.006    0.000    0.012    0.000 C:\\Users\\lworm\\Repos\\py-research\\src\\py_research\\hashing.py:34(_stable_hash)\n",
      "      253    0.000    0.000    0.012    0.000 C:\\Users\\lworm\\Repos\\py-research\\src\\py_research\\db\\databases.py:4473(_tables)\n",
      "        9    0.000    0.000    0.011    0.001 C:\\Users\\lworm\\Repos\\py-research\\src\\py_research\\db\\datasources.py:272(full_map)\n",
      "      172    0.000    0.000    0.011    0.000 C:\\Users\\lworm\\Repos\\py-research\\src\\py_research\\db\\databases.py:542(target_type)\n",
      "      354    0.000    0.000    0.011    0.000 C:\\Users\\lworm\\Repos\\py-research\\src\\py_research\\db\\databases.py:537(value_type)\n",
      "      153    0.000    0.000    0.011    0.000 C:\\Users\\lworm\\Repos\\py-research\\src\\py_research\\db\\databases.py:4477(_links)\n",
      "      332    0.000    0.000    0.011    0.000 C:\\Users\\lworm\\Repos\\py-research\\src\\py_research\\reflect\\types.py:65(has_type)\n",
      "        9    0.000    0.000    0.010    0.001 C:\\Users\\lworm\\Repos\\py-research\\src\\py_research\\db\\datasources.py:431(_push_to_pull_map)\n",
      "       33    0.001    0.000    0.010    0.000 C:\\Users\\lworm\\Repos\\py-research\\src\\py_research\\db\\databases.py:4673(__init__)\n",
      "      116    0.000    0.000    0.010    0.000 C:\\Users\\lworm\\Repos\\py-research\\src\\py_research\\db\\databases.py:559(relation_type)\n",
      "      194    0.000    0.000    0.010    0.000 C:\\Users\\lworm\\Repos\\py-research\\src\\py_research\\db\\databases.py:4097(__hash__)\n",
      "      194    0.000    0.000    0.010    0.000 C:\\Users\\lworm\\Repos\\py-research\\src\\py_research\\db\\databases.py:2034(_backlink)\n",
      "       45    0.000    0.000    0.009    0.000 C:\\Users\\lworm\\Repos\\py-research\\src\\py_research\\db\\datasources.py:537(_gen_match_expr)\n",
      "       10    0.000    0.000    0.009    0.001 C:\\Users\\lworm\\Repos\\py-research\\src\\py_research\\db\\databases.py:2385(_sql_base_cols)\n",
      "       10    0.000    0.000    0.009    0.001 C:\\Users\\lworm\\Repos\\py-research\\src\\py_research\\db\\databases.py:2203(_base_table_map)\n",
      "       56    0.000    0.000    0.009    0.000 C:\\Users\\lworm\\Repos\\py-research\\src\\py_research\\db\\datasources.py:555(<genexpr>)\n",
      "      736    0.000    0.000    0.008    0.000 C:\\Users\\lworm\\Repos\\py-research\\src\\py_research\\hashing.py:109(<genexpr>)\n",
      "       40    0.000    0.000    0.008    0.000 C:\\Users\\lworm\\Repos\\py-research\\src\\py_research\\db\\databases.py:2250(<genexpr>)\n",
      "      139    0.000    0.000    0.007    0.000 C:\\Users\\lworm\\Repos\\py-research\\src\\py_research\\db\\databases.py:552(record_type)\n",
      "       40    0.000    0.000    0.006    0.000 C:\\Users\\lworm\\Repos\\py-research\\src\\py_research\\db\\databases.py:2253(<genexpr>)\n",
      "       29    0.000    0.000    0.006    0.000 C:\\Users\\lworm\\Repos\\py-research\\src\\py_research\\db\\databases.py:2781(_gen_fk_value_map)\n",
      "       16    0.000    0.000    0.006    0.000 C:\\Users\\lworm\\Repos\\py-research\\src\\py_research\\db\\databases.py:322(_get_pl_schema)\n",
      "  352/289    0.001    0.000    0.005    0.000 C:\\Users\\lworm\\Repos\\py-research\\src\\py_research\\db\\databases.py:577(fqn)\n",
      "    92/86    0.000    0.000    0.005    0.000 C:\\Users\\lworm\\Repos\\py-research\\src\\py_research\\db\\databases.py:523(path)\n",
      "       56    0.001    0.000    0.004    0.000 C:\\Users\\lworm\\Repos\\py-research\\src\\py_research\\db\\databases.py:1268(__getitem__)\n",
      "      351    0.000    0.000    0.004    0.000 C:\\Users\\lworm\\Repos\\py-research\\src\\py_research\\db\\databases.py:2118(_root_table)\n",
      "      250    0.001    0.000    0.004    0.000 C:\\Users\\lworm\\Repos\\py-research\\src\\py_research\\db\\databases.py:1960(_idx_cols)\n",
      "  605/444    0.002    0.000    0.004    0.000 C:\\Users\\lworm\\Repos\\py-research\\src\\py_research\\db\\databases.py:1825(__get__)\n",
      "      279    0.001    0.000    0.004    0.000 C:\\Users\\lworm\\Repos\\py-research\\src\\py_research\\db\\databases.py:4430(_pk_values)\n",
      "      114    0.000    0.000    0.004    0.000 C:\\Users\\lworm\\Repos\\py-research\\src\\py_research\\db\\datasources.py:207(select)\n",
      "       10    0.000    0.000    0.004    0.000 C:\\Users\\lworm\\Repos\\py-research\\src\\py_research\\db\\databases.py:2409(_sql_base_fks)\n",
      "        2    0.000    0.000    0.003    0.002 C:\\Users\\lworm\\Repos\\py-research\\src\\py_research\\db\\databases.py:3715(engine)\n",
      "       45    0.000    0.000    0.003    0.000 C:\\Users\\lworm\\Repos\\py-research\\src\\py_research\\db\\databases.py:4781(_is_complete_dict)\n",
      "      114    0.000    0.000    0.003    0.000 C:\\Users\\lworm\\Repos\\py-research\\src\\py_research\\db\\datasources.py:104(select)\n",
      "     1140    0.002    0.000    0.003    0.000 C:\\Users\\lworm\\Repos\\py-research\\src\\py_research\\db\\databases.py:4399(_class_links)\n",
      "      114    0.000    0.000    0.003    0.000 C:\\Users\\lworm\\Repos\\py-research\\src\\py_research\\db\\datasources.py:56(_select_on_level)\n",
      "      200    0.000    0.000    0.003    0.000 C:\\Users\\lworm\\Repos\\py-research\\src\\py_research\\db\\databases.py:4461(_values)\n",
      "       84    0.000    0.000    0.002    0.000 C:\\Users\\lworm\\Repos\\py-research\\src\\py_research\\db\\databases.py:2134(_abs_link_path)\n",
      "       45    0.000    0.000    0.002    0.000 C:\\Users\\lworm\\Repos\\py-research\\src\\py_research\\db\\databases.py:4469(_non_fk_values)\n",
      "       14    0.000    0.000    0.002    0.000 C:\\Users\\lworm\\Repos\\py-research\\src\\py_research\\hashing.py:143(gen_str_hash)\n",
      "       10    0.000    0.000    0.002    0.000 C:\\Users\\lworm\\Repos\\py-research\\src\\py_research\\db\\databases.py:4881(__post_init__)\n",
      "        9    0.000    0.000    0.002    0.000 C:\\Users\\lworm\\Repos\\py-research\\src\\py_research\\db\\datasources.py:407(_parse_pushmap)\n",
      "       33    0.000    0.000    0.002    0.000 C:\\Users\\lworm\\Repos\\py-research\\src\\py_research\\db\\databases.py:4759(_to_dict)\n",
      "      214    0.000    0.000    0.002    0.000 C:\\Users\\lworm\\Repos\\py-research\\src\\py_research\\db\\databases.py:2006(_ctx_module)\n",
      "      356    0.000    0.000    0.002    0.000 C:\\Users\\lworm\\Repos\\py-research\\src\\py_research\\db\\databases.py:3446(name)\n",
      "        2    0.000    0.000    0.001    0.001 C:\\Users\\lworm\\Repos\\py-research\\src\\py_research\\db\\databases.py:3568(relation_type)\n",
      "       76    0.000    0.000    0.001    0.000 C:\\Users\\lworm\\Repos\\py-research\\src\\py_research\\db\\databases.py:593(ctx)\n",
      "  199/166    0.000    0.000    0.001    0.000 C:\\Users\\lworm\\Repos\\py-research\\src\\py_research\\db\\databases.py:1887(__set__)\n",
      "      334    0.001    0.000    0.001    0.000 C:\\Users\\lworm\\Repos\\py-research\\src\\py_research\\db\\databases.py:3441(__post_init__)\n",
      "      165    0.000    0.000    0.001    0.000 C:\\Users\\lworm\\Repos\\py-research\\src\\py_research\\db\\databases.py:4452(_fk_values)\n",
      "       65    0.000    0.000    0.001    0.000 C:\\Users\\lworm\\Repos\\py-research\\src\\py_research\\db\\datasources.py:481(_sliding_batch_map)\n",
      "       55    0.000    0.000    0.001    0.000 C:\\Users\\lworm\\Repos\\py-research\\src\\py_research\\db\\databases.py:4465(_col_values)\n",
      "       72    0.000    0.000    0.001    0.000 C:\\Users\\lworm\\Repos\\py-research\\src\\py_research\\db\\databases.py:3278(<genexpr>)\n",
      "      100    0.000    0.000    0.001    0.000 C:\\Users\\lworm\\Repos\\py-research\\src\\py_research\\db\\databases.py:4481(_arrays)\n",
      "      178    0.000    0.000    0.001    0.000 C:\\Users\\lworm\\Repos\\py-research\\src\\py_research\\db\\databases.py:4621(_get_table_name)\n",
      "      241    0.001    0.000    0.001    0.000 C:\\Users\\lworm\\Repos\\py-research\\src\\py_research\\db\\databases.py:4605(_default_table_name)\n",
      "       21    0.000    0.000    0.001    0.000 C:\\Users\\lworm\\Repos\\py-research\\src\\py_research\\db\\databases.py:4052(__getitem__)\n",
      "2119/2117    0.000    0.000    0.001    0.000 C:\\Users\\lworm\\Repos\\py-research\\src\\py_research\\db\\databases.py:4304(_get_class_props)\n",
      "     6580    0.001    0.000    0.001    0.000 C:\\Users\\lworm\\Repos\\py-research\\src\\py_research\\data.py:82(<genexpr>)\n",
      "     6589    0.001    0.000    0.001    0.000 C:\\Users\\lworm\\Repos\\py-research\\src\\py_research\\data.py:56(<genexpr>)\n",
      "        2    0.000    0.000    0.001    0.000 C:\\Users\\lworm\\Repos\\py-research\\src\\py_research\\db\\databases.py:2600(_add_ctx)\n",
      "        2    0.000    0.000    0.001    0.000 C:\\Users\\lworm\\Repos\\py-research\\src\\py_research\\db\\databases.py:4845(dynamic_record_type)\n",
      "      423    0.000    0.000    0.001    0.000 C:\\Users\\lworm\\Repos\\py-research\\src\\py_research\\db\\databases.py:1993(_ctx_table)\n",
      "      201    0.000    0.000    0.001    0.000 C:\\Users\\lworm\\Repos\\py-research\\src\\py_research\\db\\databases.py:1984(_ctx_type)\n",
      "       33    0.000    0.000    0.001    0.000 C:\\Users\\lworm\\Repos\\py-research\\src\\py_research\\db\\databases.py:3054(<lambda>)\n",
      "       19    0.000    0.000    0.000    0.000 C:\\Users\\lworm\\Repos\\py-research\\src\\py_research\\db\\databases.py:4871(<lambda>)\n",
      "        2    0.000    0.000    0.000    0.000 C:\\Users\\lworm\\Repos\\py-research\\src\\py_research\\db\\databases.py:4255(__init__)\n",
      "      167    0.000    0.000    0.000    0.000 C:\\Users\\lworm\\Repos\\py-research\\src\\py_research\\db\\databases.py:510(db)\n",
      "        2    0.000    0.000    0.000    0.000 C:\\Users\\lworm\\Repos\\py-research\\src\\py_research\\db\\databases.py:317(<lambda>)\n",
      "        4    0.000    0.000    0.000    0.000 C:\\Users\\lworm\\Repos\\py-research\\src\\py_research\\db\\databases.py:2611(<lambda>)\n",
      "        9    0.000    0.000    0.000    0.000 C:\\Users\\lworm\\Repos\\py-research\\src\\py_research\\db\\datasources.py:351(select)\n",
      "        7    0.000    0.000    0.000    0.000 C:\\Users\\lworm\\Repos\\py-research\\src\\py_research\\db\\datasources.py:401(__post_init__)\n",
      "       10    0.000    0.000    0.000    0.000 C:\\Users\\lworm\\Repos\\py-research\\src\\py_research\\db\\databases.py:4439(_class_values)\n",
      "       62    0.000    0.000    0.000    0.000 C:\\Users\\lworm\\Repos\\py-research\\src\\py_research\\db\\databases.py:4795(<genexpr>)\n",
      "      147    0.000    0.000    0.000    0.000 C:\\Users\\lworm\\Repos\\py-research\\src\\py_research\\db\\databases.py:4788(<genexpr>)\n",
      "       33    0.000    0.000    0.000    0.000 C:\\Users\\lworm\\Repos\\py-research\\src\\py_research\\db\\databases.py:3056(<lambda>)\n",
      "      965    0.000    0.000    0.000    0.000 C:\\Users\\lworm\\Repos\\py-research\\src\\py_research\\db\\databases.py:4426(<genexpr>)\n",
      "       47    0.000    0.000    0.000    0.000 C:\\Users\\lworm\\Repos\\py-research\\src\\py_research\\db\\databases.py:2273(_abs_joins)\n",
      "        6    0.000    0.000    0.000    0.000 C:\\Users\\lworm\\Repos\\py-research\\src\\py_research\\db\\databases.py:3623(__post_init__)\n",
      "      370    0.000    0.000    0.000    0.000 C:\\Users\\lworm\\Repos\\py-research\\src\\py_research\\db\\databases.py:532(name)\n",
      "        2    0.000    0.000    0.000    0.000 C:\\Users\\lworm\\Repos\\py-research\\src\\py_research\\db\\databases.py:3560(_key_type)\n",
      "       47    0.000    0.000    0.000    0.000 C:\\Users\\lworm\\Repos\\py-research\\src\\py_research\\db\\databases.py:2375(_sql_filters)\n",
      "        1    0.000    0.000    0.000    0.000 C:\\Users\\lworm\\Repos\\py-research\\src\\py_research\\db\\datasources.py:175(_PushMapping)\n",
      "     12/2    0.000    0.000    0.000    0.000 C:\\Users\\lworm\\Repos\\py-research\\src\\py_research\\db\\databases.py:4234(_get_typevar_map)\n",
      "      104    0.000    0.000    0.000    0.000 C:\\Users\\lworm\\Repos\\py-research\\src\\py_research\\db\\datasources.py:266(record_type)\n",
      "      121    0.000    0.000    0.000    0.000 C:\\Users\\lworm\\Repos\\py-research\\src\\py_research\\db\\databases.py:2571(_hint_to_type)\n",
      "        2    0.000    0.000    0.000    0.000 C:\\Users\\lworm\\Repos\\py-research\\src\\py_research\\db\\databases.py:4598(__init_subclass__)\n",
      "        5    0.000    0.000    0.000    0.000 C:\\Users\\lworm\\Repos\\py-research\\src\\py_research\\db\\databases.py:570(base_type)\n",
      "     16/6    0.000    0.000    0.000    0.000 C:\\Users\\lworm\\Repos\\py-research\\src\\py_research\\db\\databases.py:4251(<genexpr>)\n",
      "      165    0.000    0.000    0.000    0.000 C:\\Users\\lworm\\Repos\\py-research\\src\\py_research\\db\\databases.py:4457(<genexpr>)\n",
      "       58    0.000    0.000    0.000    0.000 C:\\Users\\lworm\\Repos\\py-research\\src\\py_research\\db\\databases.py:4796(<genexpr>)\n",
      "       19    0.000    0.000    0.000    0.000 C:\\Users\\lworm\\Repos\\py-research\\src\\py_research\\db\\databases.py:4141(_get_valid_cache_set)\n",
      "        2    0.000    0.000    0.000    0.000 C:\\Users\\lworm\\Repos\\py-research\\src\\py_research\\db\\databases.py:3688(backend_type)\n",
      "        4    0.000    0.000    0.000    0.000 C:\\Users\\lworm\\Repos\\py-research\\src\\py_research\\db\\databases.py:3186(<genexpr>)\n",
      "        1    0.000    0.000    0.000    0.000 C:\\Users\\lworm\\Repos\\py-research\\src\\py_research\\db\\databases.py:3678(db_id)\n",
      "       26    0.000    0.000    0.000    0.000 C:\\Users\\lworm\\Repos\\py-research\\src\\py_research\\caching.py:347(cache_name)\n",
      "       79    0.000    0.000    0.000    0.000 C:\\Users\\lworm\\Repos\\py-research\\src\\py_research\\db\\datasources.py:357(<genexpr>)\n",
      "        2    0.000    0.000    0.000    0.000 C:\\Users\\lworm\\Repos\\py-research\\src\\py_research\\db\\databases.py:4857(<lambda>)\n",
      "        6    0.000    0.000    0.000    0.000 C:\\Users\\lworm\\Repos\\py-research\\src\\py_research\\db\\databases.py:4107(_schema_map)\n",
      "        4    0.000    0.000    0.000    0.000 C:\\Users\\lworm\\Repos\\py-research\\src\\py_research\\db\\databases.py:3155(<genexpr>)\n",
      "        3    0.000    0.000    0.000    0.000 C:\\Users\\lworm\\Repos\\py-research\\src\\py_research\\db\\databases.py:3111(_mutate_rels_from_rec_ids)\n",
      "        8    0.000    0.000    0.000    0.000 C:\\Users\\lworm\\Repos\\py-research\\src\\py_research\\db\\databases.py:4296(_super_types)\n",
      "       23    0.000    0.000    0.000    0.000 C:\\Users\\lworm\\Repos\\py-research\\src\\py_research\\db\\databases.py:4730(__post_init__)\n",
      "        4    0.000    0.000    0.000    0.000 C:\\Users\\lworm\\Repos\\py-research\\src\\py_research\\db\\datasources.py:422(_get_selector_name)\n",
      "        4    0.000    0.000    0.000    0.000 C:\\Users\\lworm\\Repos\\py-research\\src\\py_research\\db\\databases.py:4250(<lambda>)\n",
      "        1    0.000    0.000    0.000    0.000 C:\\Users\\lworm\\Repos\\py-research\\src\\py_research\\db\\datasources.py:187(parse)\n",
      "        2    0.000    0.000    0.000    0.000 C:\\Users\\lworm\\Repos\\py-research\\src\\py_research\\db\\databases.py:1731(__setitem__)\n",
      "        1    0.000    0.000    0.000    0.000 C:\\Users\\lworm\\Repos\\py-research\\src\\py_research\\db\\datasources.py:865(<genexpr>)\n",
      "        1    0.000    0.000    0.000    0.000 C:\\Users\\lworm\\Repos\\py-research\\src\\py_research\\db\\databases.py:4067(__setitem__)\n",
      "\n",
      "\n"
     ]
    },
    {
     "data": {
      "text/html": [
       "<pre style=\"white-space:pre;overflow-x:auto;line-height:normal;font-family:Menlo,'DejaVu Sans Mono',consolas,'Courier New',monospace\"></pre>\n"
      ],
      "text/plain": []
     },
     "metadata": {},
     "output_type": "display_data"
    },
    {
     "data": {
      "text/plain": [
       "\u001b[1m<\u001b[0m\u001b[1;95mpstats.Stats\u001b[0m\u001b[39m object at \u001b[0m\u001b[1;36m0x00000231CF3264E0\u001b[0m\u001b[1m>\u001b[0m"
      ]
     },
     "execution_count": 18,
     "metadata": {},
     "output_type": "execute_result"
    }
   ],
   "source": [
    "stats.sort_stats(\"cumulative\")\n",
    "stats.print_stats(\"py_research\")"
   ]
  }
 ],
 "metadata": {
  "kernelspec": {
   "display_name": ".venv",
   "language": "python",
   "name": "python3"
  },
  "language_info": {
   "codemirror_mode": {
    "name": "ipython",
    "version": 3
   },
   "file_extension": ".py",
   "mimetype": "text/x-python",
   "name": "python",
   "nbconvert_exporter": "python",
   "pygments_lexer": "ipython3",
   "version": "3.12.4"
  }
 },
 "nbformat": 4,
 "nbformat_minor": 2
}

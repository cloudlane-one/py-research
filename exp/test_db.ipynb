{
 "cells": [
  {
   "cell_type": "code",
   "execution_count": 1,
   "metadata": {},
   "outputs": [],
   "source": [
    "from __future__ import annotations\n",
    "\n",
    "import cProfile\n",
    "import pstats\n",
    "from asyncio import sleep"
   ]
  },
  {
   "cell_type": "code",
   "execution_count": 2,
   "metadata": {},
   "outputs": [],
   "source": [
    "from py_research.db import (\n",
    "    DataSource,\n",
    "    TableMap,\n",
    "    SubTableMap,\n",
    "    SubMap,\n",
    "    SelIndex,\n",
    "    DataBase\n",
    ")"
   ]
  },
  {
   "cell_type": "code",
   "execution_count": 3,
   "metadata": {},
   "outputs": [],
   "source": [
    "from schema import (\n",
    "    Search,\n",
    "    Project,\n",
    "    Task,\n",
    "    User,\n",
    "    Membership,\n",
    "    Organization,\n",
    "    SearchResult,\n",
    "    TestSchema,\n",
    ")"
   ]
  },
  {
   "cell_type": "code",
   "execution_count": 4,
   "metadata": {},
   "outputs": [],
   "source": [
    "from typing import Any\n",
    "\n",
    "\n",
    "async def _dummy_loader(obj: dict[str, Any]) -> dict:\n",
    "    await sleep(0.2)\n",
    "    return {\n",
    "        'name': obj[\"name\"],\n",
    "        'role': obj[\"role\"],\n",
    "        'age': obj[\"age\"] + 1\n",
    "    }"
   ]
  },
  {
   "cell_type": "code",
   "execution_count": 5,
   "metadata": {},
   "outputs": [],
   "source": [
    "data_source = DataSource(\n",
    "    target=Search,\n",
    "    push={\n",
    "        \"resultCount\": Search.result_count,\n",
    "        \"search\": Search.term,\n",
    "        \"results\": SubTableMap(\n",
    "            target=Search.results,\n",
    "            rel_map=TableMap(push={SearchResult.score}),\n",
    "            push={\n",
    "                \"project_name\": Project.name,\n",
    "                \"project_start\": Project.start,\n",
    "                \"project_end\": Project.end,\n",
    "                \"project_status\": Project.status,\n",
    "                \"tasks\": SubTableMap(\n",
    "                    target=Project.tasks,\n",
    "                    push={\n",
    "                        \"task_name\": Task.name,\n",
    "                        \"task_assignees\": SubTableMap(\n",
    "                            target=Task.assignees,\n",
    "                            push=User.name,\n",
    "                            match_by=[User.name],\n",
    "                        ),\n",
    "                        \"task_status\": Task.status,\n",
    "                    },\n",
    "                ),\n",
    "                \"members\": SubTableMap(\n",
    "                    target=Project.members,\n",
    "                    loader=_dummy_loader,\n",
    "                    push={User.name, User.age},\n",
    "                    match_by=[User.name],\n",
    "                    rel_map=TableMap(\n",
    "                        push={\n",
    "                            Membership.role,\n",
    "                        },\n",
    "                    ),\n",
    "                ),\n",
    "            },\n",
    "            pull={\n",
    "                Project.org: SubMap(\n",
    "                    push={\n",
    "                        \"organization_name\": Organization.name,\n",
    "                        \"organization_address\": Organization.address,\n",
    "                        \"organization_city\": Organization.city,\n",
    "                        \"organization_countries\": Organization.countries,\n",
    "                    },\n",
    "                    match_by=[Organization.name, Organization.city],\n",
    "                ),\n",
    "                Project.number: SelIndex()\n",
    "            },\n",
    "        ),\n",
    "    },\n",
    ")"
   ]
  },
  {
   "cell_type": "code",
   "execution_count": 6,
   "metadata": {},
   "outputs": [],
   "source": [
    "from datetime import date\n",
    "\n",
    "\n",
    "data = {\n",
    "    \"resultCount\": 3,\n",
    "    \"search\": \"test\",\n",
    "    \"results\": [\n",
    "        {\n",
    "            \"score\": 0.9,\n",
    "            \"project_name\": \"baking cake\",\n",
    "            \"project_start\": date(2020, 1, 1),\n",
    "            \"project_end\": date(2020, 1, 4),\n",
    "            \"project_status\": \"done\",\n",
    "            \"organization_name\": \"Bakery\",\n",
    "            \"organization_address\": \"Main Street 1\",\n",
    "            \"organization_city\": \"Bakerville\",\n",
    "            \"organization_countries\": [\"USA\", \"Mexico\", \"Canada\"],\n",
    "            \"tasks\": [\n",
    "                {\n",
    "                    \"task_name\": \"task1\",\n",
    "                    \"task_assignees\": [\"John\"],\n",
    "                    \"task_status\": \"todo\",\n",
    "                },\n",
    "                {\n",
    "                    \"task_name\": \"task2\",\n",
    "                    \"task_assignees\": [\"John\"],\n",
    "                    \"task_status\": \"todo\",\n",
    "                },\n",
    "                {\n",
    "                    \"task_name\": \"task3\",\n",
    "                    \"task_assignees\": [\"Jane\"],\n",
    "                    \"task_status\": \"done\",\n",
    "                },\n",
    "            ],\n",
    "            \"members\": [\n",
    "                {\"name\": \"John\", \"role\": \"baker\", \"age\": 30},\n",
    "                {\"name\": \"John\", \"role\": \"manager\", \"age\": 40},\n",
    "            ],\n",
    "        },\n",
    "        {\n",
    "            \"score\": 0.8,\n",
    "            \"project_name\": \"cleaning shoes\",\n",
    "            \"project_start\": date(2020, 1, 2),\n",
    "            \"project_end\": date(2020, 1, 5),\n",
    "            \"project_status\": \"done\",\n",
    "            \"organization_name\": \"Shoe Shop\",\n",
    "            \"organization_address\": \"Main Street 2\",\n",
    "            \"organization_city\": \"Shoetown\",\n",
    "            \"organization_countries\": [\"USA\", \"Mexico\"],\n",
    "            \"tasks\": [\n",
    "                {\n",
    "                    \"task_name\": \"task4\",\n",
    "                    \"task_assignees\": [\"John\"],\n",
    "                    \"task_status\": \"todo\",\n",
    "                },\n",
    "                {\n",
    "                    \"task_name\": \"task5\",\n",
    "                    \"task_assignees\": [\"Jane\"],\n",
    "                    \"task_status\": \"todo\",\n",
    "                },\n",
    "            ],\n",
    "            \"members\": [\n",
    "                {\"name\": \"John\", \"role\": \"cleaner\", \"age\": 25},\n",
    "                {\"name\": \"Jane\", \"role\": \"manager\", \"age\": 35},\n",
    "            ],\n",
    "        },\n",
    "        {\n",
    "            \"score\": 0.7,\n",
    "            \"project_name\": \"fixing cars\",\n",
    "            \"project_start\": date(2020, 1, 3),\n",
    "            \"project_end\": date(2020, 1, 6),\n",
    "            \"project_status\": \"started\",\n",
    "            \"organization_name\": \"Car Shop\",\n",
    "            \"organization_address\": \"Main Street 3\",\n",
    "            \"organization_city\": \"Cartown\",\n",
    "            \"organization_countries\": [\"USA\", \"Canada\"],\n",
    "            \"tasks\": [\n",
    "                {\n",
    "                    \"task_name\": \"task6\",\n",
    "                    \"task_assignees\": [\"John\"],\n",
    "                    \"task_status\": \"todo\",\n",
    "                }\n",
    "            ],\n",
    "            \"members\": [\n",
    "                {\"name\": \"John\", \"role\": \"mechanic\", \"age\": 45},\n",
    "                {\"name\": \"Jane\", \"role\": \"manager\", \"age\": 55},\n",
    "                {\"name\": \"Jack\", \"role\": \"manager\", \"age\": 65},\n",
    "            ],\n",
    "        },\n",
    "    ],\n",
    "}"
   ]
  },
  {
   "cell_type": "code",
   "execution_count": 7,
   "metadata": {},
   "outputs": [
    {
     "name": "stderr",
     "output_type": "stream",
     "text": [
      "Loading: `Search`: 100%|██████████| 1/1 [00:00<00:00, 28.57it/s]\n",
      "Loading: `Organization`: 100%|██████████| 3/3 [00:00<00:00, 34.92it/s]\n",
      "Loading: `Project`: 100%|██████████| 3/3 [00:00<00:00, 79.50it/s]\n",
      "Loading: `SearchResult`: 100%|██████████| 3/3 [00:00<00:00, 157.12it/s]\n",
      "Loading: `Task`: 100%|██████████| 6/6 [00:00<00:00, 199.80it/s]\n",
      "Loading: `User`: 100%|██████████| 6/6 [00:00<00:00, 189.25it/s]\n",
      "Loading: `User`: 100%|██████████| 7/7 [00:00<00:00, 21.67it/s]\n",
      "Loading: `Membership`: 100%|██████████| 7/7 [00:00<00:00, 159.04it/s]\n",
      "Post-loading: `User`: 100%|██████████| 6/6 [00:00<00:00, 140.97it/s]\n",
      "Post-loading: `Assignment`: 100%|██████████| 6/6 [00:00<00:00, 60.55it/s]\n"
     ]
    }
   ],
   "source": [
    "from pathlib import Path\n",
    "import warnings\n",
    "\n",
    "with warnings.catch_warnings():\n",
    "  warnings.simplefilter(\"error\")\n",
    "  with cProfile.Profile() as pr:\n",
    "    db = DataBase(\n",
    "      schema=TestSchema,\n",
    "      # url=Path(\"./test.xlsx\")\n",
    "    )\n",
    "    rec = await data_source.load([data], db=db)\n",
    "\n",
    "    stats = pstats.Stats(pr)"
   ]
  },
  {
   "cell_type": "code",
   "execution_count": 8,
   "metadata": {},
   "outputs": [
    {
     "name": "stderr",
     "output_type": "stream",
     "text": [
      "Loading: `Search`: 100%|██████████| 1/1 [00:00<00:00, 81.59it/s]\n",
      "Loading: `Organization`: 100%|██████████| 3/3 [00:00<00:00, 35.15it/s]\n",
      "Loading: `Project`: 100%|██████████| 3/3 [00:00<00:00, 107.12it/s]\n",
      "Loading: `SearchResult`: 100%|██████████| 3/3 [00:00<00:00, 119.08it/s]\n",
      "Loading: `Task`: 100%|██████████| 6/6 [00:00<00:00, 134.51it/s]\n",
      "Loading: `User`: 100%|██████████| 6/6 [00:00<00:00, 167.96it/s]\n",
      "Loading: `User`: 100%|██████████| 7/7 [00:00<00:00, 21.10it/s]\n",
      "Loading: `Membership`: 100%|██████████| 7/7 [00:00<00:00, 178.71it/s]\n",
      "Post-loading: `User`: 100%|██████████| 6/6 [00:00<00:00, 195.09it/s]\n",
      "Post-loading: `Assignment`: 100%|██████████| 6/6 [00:00<00:00, 212.97it/s]\n"
     ]
    }
   ],
   "source": [
    "from pathlib import Path\n",
    "import warnings\n",
    "\n",
    "with warnings.catch_warnings():\n",
    "  warnings.simplefilter(\"error\")\n",
    "  with cProfile.Profile() as pr:\n",
    "    db2 = DataBase(\n",
    "      schema=TestSchema,\n",
    "      # url=Path(\"./test.xlsx\")\n",
    "    )\n",
    "    rec = await data_source.load([data], db=db2)\n",
    "\n",
    "    stats = pstats.Stats(pr)"
   ]
  },
  {
   "cell_type": "code",
   "execution_count": 9,
   "metadata": {},
   "outputs": [],
   "source": [
    "# db[User].extract()"
   ]
  },
  {
   "cell_type": "code",
   "execution_count": 10,
   "metadata": {},
   "outputs": [
    {
     "data": {
      "text/html": [
       "<pre style=\"white-space:pre;overflow-x:auto;line-height:normal;font-family:Menlo,'DejaVu Sans Mono',consolas,'Courier New',monospace\"></pre>\n"
      ],
      "text/plain": []
     },
     "metadata": {},
     "output_type": "display_data"
    },
    {
     "data": {
      "text/plain": [
       "\u001b[32m'16c7cfb1-a757-4ccf-b285-cbcf96ef50af'\u001b[0m"
      ]
     },
     "execution_count": 10,
     "metadata": {},
     "output_type": "execute_result"
    }
   ],
   "source": [
    "db[User].keys()[0]"
   ]
  },
  {
   "cell_type": "code",
   "execution_count": 11,
   "metadata": {},
   "outputs": [],
   "source": [
    "del db[User][db[User].keys()[0]]"
   ]
  },
  {
   "cell_type": "code",
   "execution_count": 12,
   "metadata": {},
   "outputs": [
    {
     "data": {
      "text/html": [
       "<pre style=\"white-space:pre;overflow-x:auto;line-height:normal;font-family:Menlo,'DejaVu Sans Mono',consolas,'Courier New',monospace\"></pre>\n"
      ],
      "text/plain": []
     },
     "metadata": {},
     "output_type": "display_data"
    },
    {
     "data": {
      "text/html": [
       "<div><style>\n",
       ".dataframe > thead > tr,\n",
       ".dataframe > tbody > tr {\n",
       "  text-align: right;\n",
       "  white-space: pre-wrap;\n",
       "}\n",
       "</style>\n",
       "<small>shape: (2, 3)</small><table border=\"1\" class=\"dataframe\"><thead><tr><th>_id</th><th>name</th><th>age</th></tr><tr><td>str</td><td>str</td><td>i64</td></tr></thead><tbody><tr><td>&quot;1db6b635-e8d9-457d-80b5-1ab09e…</td><td>&quot;Jack&quot;</td><td>66</td></tr><tr><td>&quot;b0409880-13a4-4e81-bc67-856138…</td><td>&quot;John&quot;</td><td>26</td></tr></tbody></table></div>"
      ],
      "text/plain": [
       "\n",
       "shape: \u001b[1m(\u001b[0m\u001b[1;36m2\u001b[0m, \u001b[1;36m3\u001b[0m\u001b[1m)\u001b[0m\n",
       "┌─────────────────────────────────┬──────┬─────┐\n",
       "│ _id                             ┆ name ┆ age │\n",
       "│ ---                             ┆ ---  ┆ --- │\n",
       "│ str                             ┆ str  ┆ i64 │\n",
       "╞═════════════════════════════════╪══════╪═════╡\n",
       "│ 1db6b635-e8d9-457d-80b5-1ab09e… ┆ Jack ┆ \u001b[1;36m66\u001b[0m  │\n",
       "│ b0409880-13a4-\u001b[1;36m4e81\u001b[0m-bc67-\u001b[1;36m856138\u001b[0m… ┆ John ┆ \u001b[1;36m26\u001b[0m  │\n",
       "└─────────────────────────────────┴──────┴─────┘"
      ]
     },
     "execution_count": 12,
     "metadata": {},
     "output_type": "execute_result"
    }
   ],
   "source": [
    "db[User].df()"
   ]
  },
  {
   "cell_type": "code",
   "execution_count": 13,
   "metadata": {},
   "outputs": [
    {
     "data": {
      "text/html": [
       "<pre style=\"white-space:pre;overflow-x:auto;line-height:normal;font-family:Menlo,'DejaVu Sans Mono',consolas,'Courier New',monospace\"></pre>\n"
      ],
      "text/plain": []
     },
     "metadata": {},
     "output_type": "display_data"
    },
    {
     "data": {
      "text/html": [
       "<div><style>\n",
       ".dataframe > thead > tr,\n",
       ".dataframe > tbody > tr {\n",
       "  text-align: right;\n",
       "  white-space: pre-wrap;\n",
       "}\n",
       "</style>\n",
       "<small>shape: (3, 3)</small><table border=\"1\" class=\"dataframe\"><thead><tr><th>_id</th><th>name</th><th>age</th></tr><tr><td>str</td><td>str</td><td>i64</td></tr></thead><tbody><tr><td>&quot;066baca6-90f0-47d4-bbb2-343efa…</td><td>&quot;Jack&quot;</td><td>66</td></tr><tr><td>&quot;c22f2288-ec2a-4d9a-8f61-f5bda5…</td><td>&quot;John&quot;</td><td>31</td></tr><tr><td>&quot;e14ac4d6-3037-44cc-a725-6c92cc…</td><td>&quot;Jane&quot;</td><td>36</td></tr></tbody></table></div>"
      ],
      "text/plain": [
       "\n",
       "shape: \u001b[1m(\u001b[0m\u001b[1;36m3\u001b[0m, \u001b[1;36m3\u001b[0m\u001b[1m)\u001b[0m\n",
       "┌─────────────────────────────────┬──────┬─────┐\n",
       "│ _id                             ┆ name ┆ age │\n",
       "│ ---                             ┆ ---  ┆ --- │\n",
       "│ str                             ┆ str  ┆ i64 │\n",
       "╞═════════════════════════════════╪══════╪═════╡\n",
       "│ 066baca6-90f0-47d4-bbb2-343efa… ┆ Jack ┆ \u001b[1;36m66\u001b[0m  │\n",
       "│ c22f2288-ec2a-4d9a-8f61-f5bda5… ┆ John ┆ \u001b[1;36m31\u001b[0m  │\n",
       "│ e14ac4d6-\u001b[1;36m3037\u001b[0m-44cc-a725-6c92cc… ┆ Jane ┆ \u001b[1;36m36\u001b[0m  │\n",
       "└─────────────────────────────────┴──────┴─────┘"
      ]
     },
     "execution_count": 13,
     "metadata": {},
     "output_type": "execute_result"
    }
   ],
   "source": [
    "db2[User].df()"
   ]
  },
  {
   "cell_type": "code",
   "execution_count": 14,
   "metadata": {},
   "outputs": [
    {
     "data": {
      "text/html": [
       "<pre style=\"white-space:pre;overflow-x:auto;line-height:normal;font-family:Menlo,'DejaVu Sans Mono',consolas,'Courier New',monospace\"></pre>\n"
      ],
      "text/plain": []
     },
     "metadata": {},
     "output_type": "display_data"
    },
    {
     "data": {
      "text/plain": [
       "\n",
       "\u001b[1m{\u001b[0m\n",
       "    \u001b[32m'contents'\u001b[0m: \u001b[1m{\u001b[0m\n",
       "        \u001b[32m'records'\u001b[0m: \u001b[1m{\u001b[0m\n",
       "            \u001b[32m'schema.User'\u001b[0m: \u001b[1;36m5\u001b[0m,\n",
       "            \u001b[32m'schema.Task'\u001b[0m: \u001b[1;36m12\u001b[0m,\n",
       "            \u001b[32m'schema.Project'\u001b[0m: \u001b[1;36m3\u001b[0m,\n",
       "            \u001b[32m'schema.Organization'\u001b[0m: \u001b[1;36m6\u001b[0m,\n",
       "            \u001b[32m'schema.Search'\u001b[0m: \u001b[1;36m1\u001b[0m\n",
       "        \u001b[1m}\u001b[0m,\n",
       "        \u001b[32m'arrays'\u001b[0m: \u001b[1m{\u001b[0m\u001b[32m'schema.Organization.countries'\u001b[0m: \u001b[1;36m14\u001b[0m\u001b[1m}\u001b[0m,\n",
       "        \u001b[32m'relations'\u001b[0m: \u001b[1m{\u001b[0m\u001b[32m'schema.SearchResult'\u001b[0m: \u001b[1;36m3\u001b[0m, \u001b[32m'schema.Assignment'\u001b[0m: \u001b[1;36m12\u001b[0m, \u001b[32m'schema.Membership'\u001b[0m: \u001b[1;36m14\u001b[0m\u001b[1m}\u001b[0m\n",
       "    \u001b[1m}\u001b[0m,\n",
       "    \u001b[32m'backend'\u001b[0m: \u001b[3;35mNone\u001b[0m\n",
       "\u001b[1m}\u001b[0m"
      ]
     },
     "execution_count": 14,
     "metadata": {},
     "output_type": "execute_result"
    }
   ],
   "source": [
    "db3 = db | db2\n",
    "db3.describe()"
   ]
  },
  {
   "cell_type": "code",
   "execution_count": 15,
   "metadata": {},
   "outputs": [
    {
     "data": {
      "text/html": [
       "<pre style=\"white-space:pre;overflow-x:auto;line-height:normal;font-family:Menlo,'DejaVu Sans Mono',consolas,'Courier New',monospace\"></pre>\n"
      ],
      "text/plain": []
     },
     "metadata": {},
     "output_type": "display_data"
    },
    {
     "data": {
      "text/html": [
       "<div><style>\n",
       ".dataframe > thead > tr,\n",
       ".dataframe > tbody > tr {\n",
       "  text-align: right;\n",
       "  white-space: pre-wrap;\n",
       "}\n",
       "</style>\n",
       "<small>shape: (3, 8)</small><table border=\"1\" class=\"dataframe\"><thead><tr><th>schema.Search.term</th><th>schema.Search.results._rel._id</th><th>number</th><th>name</th><th>start</th><th>end</th><th>status</th><th>org__id</th></tr><tr><td>str</td><td>str</td><td>i64</td><td>str</td><td>date</td><td>date</td><td>str</td><td>str</td></tr></thead><tbody><tr><td>&quot;test&quot;</td><td>&quot;104d65b581&quot;</td><td>2</td><td>&quot;fixing cars&quot;</td><td>2020-01-03</td><td>2020-01-06</td><td>&quot;started&quot;</td><td>&quot;51dcdcb7-c4d7-4f5c-af20-8386fb…</td></tr><tr><td>&quot;test&quot;</td><td>&quot;11faab1a21&quot;</td><td>1</td><td>&quot;cleaning shoes&quot;</td><td>2020-01-02</td><td>2020-01-05</td><td>&quot;done&quot;</td><td>&quot;884b25cc-5974-4631-b3b9-794ad5…</td></tr><tr><td>&quot;test&quot;</td><td>&quot;14941c52d3&quot;</td><td>0</td><td>&quot;baking cake&quot;</td><td>2020-01-01</td><td>2020-01-04</td><td>&quot;done&quot;</td><td>&quot;b4c2e65b-b716-4568-a181-159a9d…</td></tr></tbody></table></div>"
      ],
      "text/plain": [
       "\n",
       "shape: \u001b[1m(\u001b[0m\u001b[1;36m3\u001b[0m, \u001b[1;36m8\u001b[0m\u001b[1m)\u001b[0m\n",
       "┌─────────────┬─────────────┬────────┬────────────┬────────────┬────────────┬─────────┬────────────┐\n",
       "│ schema.Sear ┆ schema.Sear ┆ number ┆ name       ┆ start      ┆ end        ┆ status  ┆ org__id    │\n",
       "│ ch.term     ┆ ch.results. ┆ ---    ┆ ---        ┆ ---        ┆ ---        ┆ ---     ┆ ---        │\n",
       "│ ---         ┆ _rel._id    ┆ i64    ┆ str        ┆ date       ┆ date       ┆ str     ┆ str        │\n",
       "│ str         ┆ ---         ┆        ┆            ┆            ┆            ┆         ┆            │\n",
       "│             ┆ str         ┆        ┆            ┆            ┆            ┆         ┆            │\n",
       "╞═════════════╪═════════════╪════════╪════════════╪════════════╪════════════╪═════════╪════════════╡\n",
       "│ test        ┆ 104d65b581  ┆ \u001b[1;36m2\u001b[0m      ┆ fixing     ┆ \u001b[1;36m2020\u001b[0m-\u001b[1;36m01\u001b[0m-\u001b[1;36m03\u001b[0m ┆ \u001b[1;36m2020\u001b[0m-\u001b[1;36m01\u001b[0m-\u001b[1;36m06\u001b[0m ┆ started ┆ 51dcdcb7-c │\n",
       "│             ┆             ┆        ┆ cars       ┆            ┆            ┆         ┆ 4d7-4f5c-a │\n",
       "│             ┆             ┆        ┆            ┆            ┆            ┆         ┆ f20-8386fb │\n",
       "│             ┆             ┆        ┆            ┆            ┆            ┆         ┆ …          │\n",
       "│ test        ┆ 11faab1a21  ┆ \u001b[1;36m1\u001b[0m      ┆ cleaning   ┆ \u001b[1;36m2020\u001b[0m-\u001b[1;36m01\u001b[0m-\u001b[1;36m02\u001b[0m ┆ \u001b[1;36m2020\u001b[0m-\u001b[1;36m01\u001b[0m-\u001b[1;36m05\u001b[0m ┆ done    ┆ 884b25cc-\u001b[1;36m5\u001b[0m │\n",
       "│             ┆             ┆        ┆ shoes      ┆            ┆            ┆         ┆ \u001b[1;36m974\u001b[0m-\u001b[1;36m4631\u001b[0m-b │\n",
       "│             ┆             ┆        ┆            ┆            ┆            ┆         ┆ 3b9-794ad5 │\n",
       "│             ┆             ┆        ┆            ┆            ┆            ┆         ┆ …          │\n",
       "│ test        ┆ 14941c52d3  ┆ \u001b[1;36m0\u001b[0m      ┆ baking     ┆ \u001b[1;36m2020\u001b[0m-\u001b[1;36m01\u001b[0m-\u001b[1;36m01\u001b[0m ┆ \u001b[1;36m2020\u001b[0m-\u001b[1;36m01\u001b[0m-\u001b[1;36m04\u001b[0m ┆ done    ┆ b4c2e65b-b │\n",
       "│             ┆             ┆        ┆ cake       ┆            ┆            ┆         ┆ \u001b[1;36m716\u001b[0m-\u001b[1;36m4568\u001b[0m-a │\n",
       "│             ┆             ┆        ┆            ┆            ┆            ┆         ┆ \u001b[1;36m181\u001b[0m-159a9d │\n",
       "│             ┆             ┆        ┆            ┆            ┆            ┆         ┆ …          │\n",
       "└─────────────┴─────────────┴────────┴────────────┴────────────┴────────────┴─────────┴────────────┘"
      ]
     },
     "execution_count": 15,
     "metadata": {},
     "output_type": "execute_result"
    }
   ],
   "source": [
    "x = db[Search.results]._link\n",
    "assert x is not None\n",
    "x.df()"
   ]
  },
  {
   "cell_type": "code",
   "execution_count": 16,
   "metadata": {},
   "outputs": [
    {
     "name": "stdout",
     "output_type": "stream",
     "text": [
      "SELECT DISTINCT \"schema.Search\".term AS \"schema.Search.term\",\n",
      "                \"schema.Search.results\".number AS \"schema.Search.results.number\",\n",
      "                \"schema.Search.results.tasks\"._id AS \"schema.Search.results.tasks._id\",\n",
      "                \"schema.Task.assignees\"._id AS \"schema.Task.assignees._id\",\n",
      "                \"schema.Task.assignees\"._id AS _id,\n",
      "                \"schema.Task.assignees\".name AS name,\n",
      "                \"schema.Task.assignees\".age AS age\n",
      "FROM \"schema_Search\" AS \"schema.Search\"\n",
      "JOIN \"schema_SearchResult\" AS \"schema.Search.results._rel\" ON \"schema.Search.results._rel\"._from_term = \"schema.Search\".term\n",
      "JOIN \"schema_Project\" AS \"schema.Search.results\" ON \"schema.Search.results._rel\"._to_number = \"schema.Search.results\".number\n",
      "JOIN \"schema_Task\" AS \"schema.Search.results.tasks\" ON \"schema.Search.results.tasks\".project_number = \"schema.Search.results\".number\n",
      "JOIN \"schema_Assignment\" AS \"schema.Search.results.tasks.assignees._rel\" ON \"schema.Search.results.tasks.assignees._rel\"._to__id = \"schema.Search.results.tasks\"._id\n",
      "JOIN \"schema_User\" AS \"schema.Task.assignees\" ON \"schema.Search.results.tasks.assignees._rel\"._from__id = \"schema.Task.assignees\"._id\n"
     ]
    },
    {
     "data": {
      "text/html": [
       "<pre style=\"white-space:pre;overflow-x:auto;line-height:normal;font-family:Menlo,'DejaVu Sans Mono',consolas,'Courier New',monospace\"></pre>\n"
      ],
      "text/plain": []
     },
     "metadata": {},
     "output_type": "display_data"
    },
    {
     "data": {
      "text/html": [
       "<div><style>\n",
       ".dataframe > thead > tr,\n",
       ".dataframe > tbody > tr {\n",
       "  text-align: right;\n",
       "  white-space: pre-wrap;\n",
       "}\n",
       "</style>\n",
       "<small>shape: (10, 6)</small><table border=\"1\" class=\"dataframe\"><thead><tr><th>schema.Search.term</th><th>schema.Search.results.number</th><th>schema.Search.results.tasks._id</th><th>_id</th><th>name</th><th>age</th></tr><tr><td>str</td><td>i64</td><td>str</td><td>str</td><td>str</td><td>i64</td></tr></thead><tbody><tr><td>&quot;test&quot;</td><td>0</td><td>&quot;665cf8b4-1509-4449-b4ed-eaa6e4…</td><td>&quot;e14ac4d6-3037-44cc-a725-6c92cc…</td><td>&quot;Jane&quot;</td><td>36</td></tr><tr><td>&quot;test&quot;</td><td>1</td><td>&quot;27ecf5ae-ce4b-4937-bd8b-65e73f…</td><td>&quot;e14ac4d6-3037-44cc-a725-6c92cc…</td><td>&quot;Jane&quot;</td><td>36</td></tr><tr><td>&quot;test&quot;</td><td>0</td><td>&quot;135f12d2-744d-480d-bce2-b236b0…</td><td>&quot;b0409880-13a4-4e81-bc67-856138…</td><td>&quot;John&quot;</td><td>26</td></tr><tr><td>&quot;test&quot;</td><td>2</td><td>&quot;74846d49-939e-49a5-bbce-1e6b89…</td><td>&quot;b0409880-13a4-4e81-bc67-856138…</td><td>&quot;John&quot;</td><td>26</td></tr><tr><td>&quot;test&quot;</td><td>1</td><td>&quot;6bc1994d-4c1c-413b-bd03-41ee73…</td><td>&quot;b0409880-13a4-4e81-bc67-856138…</td><td>&quot;John&quot;</td><td>26</td></tr><tr><td>&quot;test&quot;</td><td>0</td><td>&quot;f59fa840-3446-4774-91d8-1a7c8e…</td><td>&quot;b0409880-13a4-4e81-bc67-856138…</td><td>&quot;John&quot;</td><td>26</td></tr><tr><td>&quot;test&quot;</td><td>1</td><td>&quot;53517e35-42d3-45a7-b6cd-2e86b5…</td><td>&quot;c22f2288-ec2a-4d9a-8f61-f5bda5…</td><td>&quot;John&quot;</td><td>31</td></tr><tr><td>&quot;test&quot;</td><td>2</td><td>&quot;440f8854-426a-4130-a87b-e913db…</td><td>&quot;c22f2288-ec2a-4d9a-8f61-f5bda5…</td><td>&quot;John&quot;</td><td>31</td></tr><tr><td>&quot;test&quot;</td><td>0</td><td>&quot;957e3fa1-c00b-49c0-8cdc-8591e6…</td><td>&quot;c22f2288-ec2a-4d9a-8f61-f5bda5…</td><td>&quot;John&quot;</td><td>31</td></tr><tr><td>&quot;test&quot;</td><td>0</td><td>&quot;c10d241f-f320-4c78-8ab5-4b66b5…</td><td>&quot;c22f2288-ec2a-4d9a-8f61-f5bda5…</td><td>&quot;John&quot;</td><td>31</td></tr></tbody></table></div>"
      ],
      "text/plain": [
       "\n",
       "shape: \u001b[1m(\u001b[0m\u001b[1;36m10\u001b[0m, \u001b[1;36m6\u001b[0m\u001b[1m)\u001b[0m\n",
       "┌────────────────────┬─────────────────────┬─────────────────────┬────────────────────┬──────┬─────┐\n",
       "│ schema.Search.term ┆ schema.Search.resul ┆ schema.Search.resul ┆ _id                ┆ name ┆ age │\n",
       "│ ---                ┆ ts.number           ┆ ts.tasks._i…        ┆ ---                ┆ ---  ┆ --- │\n",
       "│ str                ┆ ---                 ┆ ---                 ┆ str                ┆ str  ┆ i64 │\n",
       "│                    ┆ i64                 ┆ str                 ┆                    ┆      ┆     │\n",
       "╞════════════════════╪═════════════════════╪═════════════════════╪════════════════════╪══════╪═════╡\n",
       "│ test               ┆ \u001b[1;36m0\u001b[0m                   ┆ 665cf8b4-\u001b[1;36m1509\u001b[0m-\u001b[1;36m4449\u001b[0m- ┆ e14ac4d6-\u001b[1;36m3037\u001b[0m-44cc ┆ Jane ┆ \u001b[1;36m36\u001b[0m  │\n",
       "│                    ┆                     ┆ b4ed-eaa6e4…        ┆ -a725-6c92cc…      ┆      ┆     │\n",
       "│ test               ┆ \u001b[1;36m1\u001b[0m                   ┆ 27ecf5ae-ce4b-\u001b[1;36m4937\u001b[0m- ┆ e14ac4d6-\u001b[1;36m3037\u001b[0m-44cc ┆ Jane ┆ \u001b[1;36m36\u001b[0m  │\n",
       "│                    ┆                     ┆ bd8b-65e73f…        ┆ -a725-6c92cc…      ┆      ┆     │\n",
       "│ test               ┆ \u001b[1;36m0\u001b[0m                   ┆ 135f12d2-744d-480d- ┆ b0409880-13a4-\u001b[1;36m4e81\u001b[0m ┆ John ┆ \u001b[1;36m26\u001b[0m  │\n",
       "│                    ┆                     ┆ bce2-b236b0…        ┆ -bc67-\u001b[1;36m856138\u001b[0m…      ┆      ┆     │\n",
       "│ test               ┆ \u001b[1;36m2\u001b[0m                   ┆ 74846d49-939e-49a5- ┆ b0409880-13a4-\u001b[1;36m4e81\u001b[0m ┆ John ┆ \u001b[1;36m26\u001b[0m  │\n",
       "│                    ┆                     ┆ bbce-1e6b89…        ┆ -bc67-\u001b[1;36m856138\u001b[0m…      ┆      ┆     │\n",
       "│ test               ┆ \u001b[1;36m1\u001b[0m                   ┆ 6bc1994d-4c1c-413b- ┆ b0409880-13a4-\u001b[1;36m4e81\u001b[0m ┆ John ┆ \u001b[1;36m26\u001b[0m  │\n",
       "│                    ┆                     ┆ bd03-41ee73…        ┆ -bc67-\u001b[1;36m856138\u001b[0m…      ┆      ┆     │\n",
       "│ test               ┆ \u001b[1;36m0\u001b[0m                   ┆ f59fa840-\u001b[1;36m3446\u001b[0m-\u001b[1;36m4774\u001b[0m- ┆ b0409880-13a4-\u001b[1;36m4e81\u001b[0m ┆ John ┆ \u001b[1;36m26\u001b[0m  │\n",
       "│                    ┆                     ┆ 91d8-1a7c8e…        ┆ -bc67-\u001b[1;36m856138\u001b[0m…      ┆      ┆     │\n",
       "│ test               ┆ \u001b[1;36m1\u001b[0m                   ┆ \u001b[1;36m53517e35\u001b[0m-42d3-45a7- ┆ c22f2288-ec2a-4d9a ┆ John ┆ \u001b[1;36m31\u001b[0m  │\n",
       "│                    ┆                     ┆ b6cd-2e86b5…        ┆ -8f61-f5bda5…      ┆      ┆     │\n",
       "│ test               ┆ \u001b[1;36m2\u001b[0m                   ┆ 440f8854-426a-\u001b[1;36m4130\u001b[0m- ┆ c22f2288-ec2a-4d9a ┆ John ┆ \u001b[1;36m31\u001b[0m  │\n",
       "│                    ┆                     ┆ a87b-e913db…        ┆ -8f61-f5bda5…      ┆      ┆     │\n",
       "│ test               ┆ \u001b[1;36m0\u001b[0m                   ┆ 957e3fa1-c00b-49c0- ┆ c22f2288-ec2a-4d9a ┆ John ┆ \u001b[1;36m31\u001b[0m  │\n",
       "│                    ┆                     ┆ 8cdc-\u001b[1;36m8591e6\u001b[0m…        ┆ -8f61-f5bda5…      ┆      ┆     │\n",
       "│ test               ┆ \u001b[1;36m0\u001b[0m                   ┆ c10d241f-f320-4c78- ┆ c22f2288-ec2a-4d9a ┆ John ┆ \u001b[1;36m31\u001b[0m  │\n",
       "│                    ┆                     ┆ 8ab5-4b66b5…        ┆ -8f61-f5bda5…      ┆      ┆     │\n",
       "└────────────────────┴─────────────────────┴─────────────────────┴────────────────────┴──────┴─────┘"
      ]
     },
     "execution_count": 16,
     "metadata": {},
     "output_type": "execute_result"
    }
   ],
   "source": [
    "x = db[Search.results.x.tasks.x.assignees]\n",
    "print(x.select_str)\n",
    "x.keys()\n",
    "x.df(sort_by=[User.name])"
   ]
  },
  {
   "cell_type": "code",
   "execution_count": 17,
   "metadata": {},
   "outputs": [
    {
     "data": {
      "text/html": [
       "<pre style=\"white-space:pre;overflow-x:auto;line-height:normal;font-family:Menlo,'DejaVu Sans Mono',consolas,'Courier New',monospace\"></pre>\n"
      ],
      "text/plain": []
     },
     "metadata": {},
     "output_type": "display_data"
    },
    {
     "data": {
      "text/plain": [
       "\n",
       "\u001b[1m{\u001b[0m\n",
       "    \u001b[32m'schema'\u001b[0m: \u001b[1m{\u001b[0m\n",
       "        \u001b[32m'package'\u001b[0m: \u001b[32m'py-research'\u001b[0m,\n",
       "        \u001b[32m'module'\u001b[0m: \u001b[32m'schema'\u001b[0m,\n",
       "        \u001b[32m'object'\u001b[0m: \u001b[32m'TestSchema'\u001b[0m,\n",
       "        \u001b[32m'package_version'\u001b[0m: \u001b[32m'^5.1.1.dev152+g2c0bcb5.d20250123'\u001b[0m,\n",
       "        \u001b[32m'repo'\u001b[0m: \u001b[32m'https://github.com/cloudlane-one/py-research.git'\u001b[0m,\n",
       "        \u001b[32m'repo_revision'\u001b[0m: \u001b[32m'd30f62a8d1f6a43e808b3c3f26ee3923b3e4c2e7'\u001b[0m,\n",
       "        \u001b[32m'module_path'\u001b[0m: \u001b[1;35mWindowsPath\u001b[0m\u001b[1m(\u001b[0m\u001b[32m'exp/schema.py'\u001b[0m\u001b[1m)\u001b[0m,\n",
       "        \u001b[32m'module_dirty'\u001b[0m: \u001b[3;91mFalse\u001b[0m,\n",
       "        \u001b[32m'docs_url'\u001b[0m: \u001b[32m'https://cloudlane-one.github.io/py-research/'\u001b[0m\n",
       "    \u001b[1m}\u001b[0m,\n",
       "    \u001b[32m'contents'\u001b[0m: \u001b[1m{\u001b[0m\n",
       "        \u001b[32m'records'\u001b[0m: \u001b[1m{\u001b[0m\n",
       "            \u001b[32m'schema.User'\u001b[0m: \u001b[1;36m5\u001b[0m,\n",
       "            \u001b[32m'schema.Task'\u001b[0m: \u001b[1;36m12\u001b[0m,\n",
       "            \u001b[32m'schema.Project'\u001b[0m: \u001b[1;36m3\u001b[0m,\n",
       "            \u001b[32m'schema.Organization'\u001b[0m: \u001b[1;36m6\u001b[0m,\n",
       "            \u001b[32m'schema.Search'\u001b[0m: \u001b[1;36m1\u001b[0m\n",
       "        \u001b[1m}\u001b[0m,\n",
       "        \u001b[32m'arrays'\u001b[0m: \u001b[1m{\u001b[0m\u001b[32m'schema.Organization.countries'\u001b[0m: \u001b[1;36m14\u001b[0m\u001b[1m}\u001b[0m,\n",
       "        \u001b[32m'relations'\u001b[0m: \u001b[1m{\u001b[0m\u001b[32m'schema.SearchResult'\u001b[0m: \u001b[1;36m3\u001b[0m, \u001b[32m'schema.Assignment'\u001b[0m: \u001b[1;36m12\u001b[0m, \u001b[32m'schema.Membership'\u001b[0m: \u001b[1;36m14\u001b[0m\u001b[1m}\u001b[0m\n",
       "    \u001b[1m}\u001b[0m,\n",
       "    \u001b[32m'backend'\u001b[0m: \u001b[3;35mNone\u001b[0m\n",
       "\u001b[1m}\u001b[0m"
      ]
     },
     "execution_count": 17,
     "metadata": {},
     "output_type": "execute_result"
    }
   ],
   "source": [
    "db.describe()"
   ]
  },
  {
   "cell_type": "code",
   "execution_count": 18,
   "metadata": {},
   "outputs": [],
   "source": [
    "nodes, edges = db.to_graph([Search, Project, Organization])"
   ]
  },
  {
   "cell_type": "code",
   "execution_count": 19,
   "metadata": {},
   "outputs": [
    {
     "data": {
      "text/html": [
       "<pre style=\"white-space:pre;overflow-x:auto;line-height:normal;font-family:Menlo,'DejaVu Sans Mono',consolas,'Courier New',monospace\"></pre>\n"
      ],
      "text/plain": []
     },
     "metadata": {},
     "output_type": "display_data"
    },
    {
     "data": {
      "text/html": [
       "<div>\n",
       "<style scoped>\n",
       "    .dataframe tbody tr th:only-of-type {\n",
       "        vertical-align: middle;\n",
       "    }\n",
       "\n",
       "    .dataframe tbody tr th {\n",
       "        vertical-align: top;\n",
       "    }\n",
       "\n",
       "    .dataframe thead th {\n",
       "        text-align: right;\n",
       "    }\n",
       "</style>\n",
       "<table border=\"1\" class=\"dataframe\">\n",
       "  <thead>\n",
       "    <tr style=\"text-align: right;\">\n",
       "      <th></th>\n",
       "      <th>node_id</th>\n",
       "      <th>table</th>\n",
       "      <th>schema.Search.term</th>\n",
       "      <th>schema.Search.result_count</th>\n",
       "      <th>schema.Project.number</th>\n",
       "      <th>schema.Project.name</th>\n",
       "      <th>schema.Project.start</th>\n",
       "      <th>schema.Project.end</th>\n",
       "      <th>schema.Project.status</th>\n",
       "      <th>schema.Project.org__id</th>\n",
       "      <th>schema.Organization._id</th>\n",
       "      <th>schema.Organization.name</th>\n",
       "      <th>schema.Organization.address</th>\n",
       "      <th>schema.Organization.city</th>\n",
       "    </tr>\n",
       "  </thead>\n",
       "  <tbody>\n",
       "    <tr>\n",
       "      <th>0</th>\n",
       "      <td>0</td>\n",
       "      <td>schema_Search</td>\n",
       "      <td>test</td>\n",
       "      <td>3.0</td>\n",
       "      <td>NaN</td>\n",
       "      <td>NaN</td>\n",
       "      <td>NaN</td>\n",
       "      <td>NaN</td>\n",
       "      <td>NaN</td>\n",
       "      <td>NaN</td>\n",
       "      <td>NaN</td>\n",
       "      <td>NaN</td>\n",
       "      <td>NaN</td>\n",
       "      <td>NaN</td>\n",
       "    </tr>\n",
       "    <tr>\n",
       "      <th>1</th>\n",
       "      <td>1</td>\n",
       "      <td>schema_Project</td>\n",
       "      <td>NaN</td>\n",
       "      <td>NaN</td>\n",
       "      <td>0.0</td>\n",
       "      <td>baking cake</td>\n",
       "      <td>2020-01-01</td>\n",
       "      <td>2020-01-04</td>\n",
       "      <td>done</td>\n",
       "      <td>b4c2e65b-b716-4568-a181-159a9d1276a0</td>\n",
       "      <td>NaN</td>\n",
       "      <td>NaN</td>\n",
       "      <td>NaN</td>\n",
       "      <td>NaN</td>\n",
       "    </tr>\n",
       "    <tr>\n",
       "      <th>2</th>\n",
       "      <td>2</td>\n",
       "      <td>schema_Project</td>\n",
       "      <td>NaN</td>\n",
       "      <td>NaN</td>\n",
       "      <td>1.0</td>\n",
       "      <td>cleaning shoes</td>\n",
       "      <td>2020-01-02</td>\n",
       "      <td>2020-01-05</td>\n",
       "      <td>done</td>\n",
       "      <td>884b25cc-5974-4631-b3b9-794ad5952b75</td>\n",
       "      <td>NaN</td>\n",
       "      <td>NaN</td>\n",
       "      <td>NaN</td>\n",
       "      <td>NaN</td>\n",
       "    </tr>\n",
       "    <tr>\n",
       "      <th>3</th>\n",
       "      <td>3</td>\n",
       "      <td>schema_Project</td>\n",
       "      <td>NaN</td>\n",
       "      <td>NaN</td>\n",
       "      <td>2.0</td>\n",
       "      <td>fixing cars</td>\n",
       "      <td>2020-01-03</td>\n",
       "      <td>2020-01-06</td>\n",
       "      <td>started</td>\n",
       "      <td>51dcdcb7-c4d7-4f5c-af20-8386fbb93ebd</td>\n",
       "      <td>NaN</td>\n",
       "      <td>NaN</td>\n",
       "      <td>NaN</td>\n",
       "      <td>NaN</td>\n",
       "    </tr>\n",
       "    <tr>\n",
       "      <th>4</th>\n",
       "      <td>4</td>\n",
       "      <td>schema_Organization</td>\n",
       "      <td>NaN</td>\n",
       "      <td>NaN</td>\n",
       "      <td>NaN</td>\n",
       "      <td>NaN</td>\n",
       "      <td>NaN</td>\n",
       "      <td>NaN</td>\n",
       "      <td>NaN</td>\n",
       "      <td>NaN</td>\n",
       "      <td>1010d3c8-c839-4969-a90d-247ea54cea32</td>\n",
       "      <td>Car Shop</td>\n",
       "      <td>Main Street 3</td>\n",
       "      <td>Cartown</td>\n",
       "    </tr>\n",
       "    <tr>\n",
       "      <th>5</th>\n",
       "      <td>5</td>\n",
       "      <td>schema_Organization</td>\n",
       "      <td>NaN</td>\n",
       "      <td>NaN</td>\n",
       "      <td>NaN</td>\n",
       "      <td>NaN</td>\n",
       "      <td>NaN</td>\n",
       "      <td>NaN</td>\n",
       "      <td>NaN</td>\n",
       "      <td>NaN</td>\n",
       "      <td>1e041f8b-4f3f-4b81-8070-97f007c52641</td>\n",
       "      <td>Shoe Shop</td>\n",
       "      <td>Main Street 2</td>\n",
       "      <td>Shoetown</td>\n",
       "    </tr>\n",
       "    <tr>\n",
       "      <th>6</th>\n",
       "      <td>6</td>\n",
       "      <td>schema_Organization</td>\n",
       "      <td>NaN</td>\n",
       "      <td>NaN</td>\n",
       "      <td>NaN</td>\n",
       "      <td>NaN</td>\n",
       "      <td>NaN</td>\n",
       "      <td>NaN</td>\n",
       "      <td>NaN</td>\n",
       "      <td>NaN</td>\n",
       "      <td>51dcdcb7-c4d7-4f5c-af20-8386fbb93ebd</td>\n",
       "      <td>Car Shop</td>\n",
       "      <td>Main Street 3</td>\n",
       "      <td>Cartown</td>\n",
       "    </tr>\n",
       "    <tr>\n",
       "      <th>7</th>\n",
       "      <td>7</td>\n",
       "      <td>schema_Organization</td>\n",
       "      <td>NaN</td>\n",
       "      <td>NaN</td>\n",
       "      <td>NaN</td>\n",
       "      <td>NaN</td>\n",
       "      <td>NaN</td>\n",
       "      <td>NaN</td>\n",
       "      <td>NaN</td>\n",
       "      <td>NaN</td>\n",
       "      <td>884b25cc-5974-4631-b3b9-794ad5952b75</td>\n",
       "      <td>Shoe Shop</td>\n",
       "      <td>Main Street 2</td>\n",
       "      <td>Shoetown</td>\n",
       "    </tr>\n",
       "    <tr>\n",
       "      <th>8</th>\n",
       "      <td>8</td>\n",
       "      <td>schema_Organization</td>\n",
       "      <td>NaN</td>\n",
       "      <td>NaN</td>\n",
       "      <td>NaN</td>\n",
       "      <td>NaN</td>\n",
       "      <td>NaN</td>\n",
       "      <td>NaN</td>\n",
       "      <td>NaN</td>\n",
       "      <td>NaN</td>\n",
       "      <td>a2662a8b-6f2c-4b20-9d75-96e94c0e5183</td>\n",
       "      <td>Bakery</td>\n",
       "      <td>Main Street 1</td>\n",
       "      <td>Bakerville</td>\n",
       "    </tr>\n",
       "    <tr>\n",
       "      <th>9</th>\n",
       "      <td>9</td>\n",
       "      <td>schema_Organization</td>\n",
       "      <td>NaN</td>\n",
       "      <td>NaN</td>\n",
       "      <td>NaN</td>\n",
       "      <td>NaN</td>\n",
       "      <td>NaN</td>\n",
       "      <td>NaN</td>\n",
       "      <td>NaN</td>\n",
       "      <td>NaN</td>\n",
       "      <td>b4c2e65b-b716-4568-a181-159a9d1276a0</td>\n",
       "      <td>Bakery</td>\n",
       "      <td>Main Street 1</td>\n",
       "      <td>Bakerville</td>\n",
       "    </tr>\n",
       "  </tbody>\n",
       "</table>\n",
       "</div>"
      ],
      "text/plain": [
       "\n",
       "   node_id                table schema.Search.term  \\\n",
       "\u001b[1;36m0\u001b[0m        \u001b[1;36m0\u001b[0m        schema_Search               test   \n",
       "\u001b[1;36m1\u001b[0m        \u001b[1;36m1\u001b[0m       schema_Project                NaN   \n",
       "\u001b[1;36m2\u001b[0m        \u001b[1;36m2\u001b[0m       schema_Project                NaN   \n",
       "\u001b[1;36m3\u001b[0m        \u001b[1;36m3\u001b[0m       schema_Project                NaN   \n",
       "\u001b[1;36m4\u001b[0m        \u001b[1;36m4\u001b[0m  schema_Organization                NaN   \n",
       "\u001b[1;36m5\u001b[0m        \u001b[1;36m5\u001b[0m  schema_Organization                NaN   \n",
       "\u001b[1;36m6\u001b[0m        \u001b[1;36m6\u001b[0m  schema_Organization                NaN   \n",
       "\u001b[1;36m7\u001b[0m        \u001b[1;36m7\u001b[0m  schema_Organization                NaN   \n",
       "\u001b[1;36m8\u001b[0m        \u001b[1;36m8\u001b[0m  schema_Organization                NaN   \n",
       "\u001b[1;36m9\u001b[0m        \u001b[1;36m9\u001b[0m  schema_Organization                NaN   \n",
       "\n",
       "   schema.Search.result_count  schema.Project.number schema.Project.name  \\\n",
       "\u001b[1;36m0\u001b[0m                         \u001b[1;36m3.0\u001b[0m                    NaN                 NaN   \n",
       "\u001b[1;36m1\u001b[0m                         NaN                    \u001b[1;36m0.0\u001b[0m         baking cake   \n",
       "\u001b[1;36m2\u001b[0m                         NaN                    \u001b[1;36m1.0\u001b[0m      cleaning shoes   \n",
       "\u001b[1;36m3\u001b[0m                         NaN                    \u001b[1;36m2.0\u001b[0m         fixing cars   \n",
       "\u001b[1;36m4\u001b[0m                         NaN                    NaN                 NaN   \n",
       "\u001b[1;36m5\u001b[0m                         NaN                    NaN                 NaN   \n",
       "\u001b[1;36m6\u001b[0m                         NaN                    NaN                 NaN   \n",
       "\u001b[1;36m7\u001b[0m                         NaN                    NaN                 NaN   \n",
       "\u001b[1;36m8\u001b[0m                         NaN                    NaN                 NaN   \n",
       "\u001b[1;36m9\u001b[0m                         NaN                    NaN                 NaN   \n",
       "\n",
       "  schema.Project.start schema.Project.end schema.Project.status  \\\n",
       "\u001b[1;36m0\u001b[0m                  NaN                NaN                   NaN   \n",
       "\u001b[1;36m1\u001b[0m           \u001b[1;36m2020\u001b[0m-\u001b[1;36m01\u001b[0m-\u001b[1;36m01\u001b[0m         \u001b[1;36m2020\u001b[0m-\u001b[1;36m01\u001b[0m-\u001b[1;36m04\u001b[0m                  done   \n",
       "\u001b[1;36m2\u001b[0m           \u001b[1;36m2020\u001b[0m-\u001b[1;36m01\u001b[0m-\u001b[1;36m02\u001b[0m         \u001b[1;36m2020\u001b[0m-\u001b[1;36m01\u001b[0m-\u001b[1;36m05\u001b[0m                  done   \n",
       "\u001b[1;36m3\u001b[0m           \u001b[1;36m2020\u001b[0m-\u001b[1;36m01\u001b[0m-\u001b[1;36m03\u001b[0m         \u001b[1;36m2020\u001b[0m-\u001b[1;36m01\u001b[0m-\u001b[1;36m06\u001b[0m               started   \n",
       "\u001b[1;36m4\u001b[0m                  NaN                NaN                   NaN   \n",
       "\u001b[1;36m5\u001b[0m                  NaN                NaN                   NaN   \n",
       "\u001b[1;36m6\u001b[0m                  NaN                NaN                   NaN   \n",
       "\u001b[1;36m7\u001b[0m                  NaN                NaN                   NaN   \n",
       "\u001b[1;36m8\u001b[0m                  NaN                NaN                   NaN   \n",
       "\u001b[1;36m9\u001b[0m                  NaN                NaN                   NaN   \n",
       "\n",
       "                 schema.Project.org__id               schema.Organization._id  \\\n",
       "\u001b[1;36m0\u001b[0m                                   NaN                                   NaN   \n",
       "\u001b[1;36m1\u001b[0m  \u001b[93mb4c2e65b-b716-4568-a181-159a9d1276a0\u001b[0m                                   NaN   \n",
       "\u001b[1;36m2\u001b[0m  \u001b[93m884b25cc-5974-4631-b3b9-794ad5952b75\u001b[0m                                   NaN   \n",
       "\u001b[1;36m3\u001b[0m  \u001b[93m51dcdcb7-c4d7-4f5c-af20-8386fbb93ebd\u001b[0m                                   NaN   \n",
       "\u001b[1;36m4\u001b[0m                                   NaN  \u001b[93m1010d3c8-c839-4969-a90d-247ea54cea32\u001b[0m   \n",
       "\u001b[1;36m5\u001b[0m                                   NaN  \u001b[93m1e041f8b-4f3f-4b81-8070-97f007c52641\u001b[0m   \n",
       "\u001b[1;36m6\u001b[0m                                   NaN  \u001b[93m51dcdcb7-c4d7-4f5c-af20-8386fbb93ebd\u001b[0m   \n",
       "\u001b[1;36m7\u001b[0m                                   NaN  \u001b[93m884b25cc-5974-4631-b3b9-794ad5952b75\u001b[0m   \n",
       "\u001b[1;36m8\u001b[0m                                   NaN  \u001b[93ma2662a8b-6f2c-4b20-9d75-96e94c0e5183\u001b[0m   \n",
       "\u001b[1;36m9\u001b[0m                                   NaN  \u001b[93mb4c2e65b-b716-4568-a181-159a9d1276a0\u001b[0m   \n",
       "\n",
       "  schema.Organization.name schema.Organization.address  \\\n",
       "\u001b[1;36m0\u001b[0m                      NaN                         NaN   \n",
       "\u001b[1;36m1\u001b[0m                      NaN                         NaN   \n",
       "\u001b[1;36m2\u001b[0m                      NaN                         NaN   \n",
       "\u001b[1;36m3\u001b[0m                      NaN                         NaN   \n",
       "\u001b[1;36m4\u001b[0m                 Car Shop               Main Street \u001b[1;36m3\u001b[0m   \n",
       "\u001b[1;36m5\u001b[0m                Shoe Shop               Main Street \u001b[1;36m2\u001b[0m   \n",
       "\u001b[1;36m6\u001b[0m                 Car Shop               Main Street \u001b[1;36m3\u001b[0m   \n",
       "\u001b[1;36m7\u001b[0m                Shoe Shop               Main Street \u001b[1;36m2\u001b[0m   \n",
       "\u001b[1;36m8\u001b[0m                   Bakery               Main Street \u001b[1;36m1\u001b[0m   \n",
       "\u001b[1;36m9\u001b[0m                   Bakery               Main Street \u001b[1;36m1\u001b[0m   \n",
       "\n",
       "  schema.Organization.city  \n",
       "\u001b[1;36m0\u001b[0m                      NaN  \n",
       "\u001b[1;36m1\u001b[0m                      NaN  \n",
       "\u001b[1;36m2\u001b[0m                      NaN  \n",
       "\u001b[1;36m3\u001b[0m                      NaN  \n",
       "\u001b[1;36m4\u001b[0m                  Cartown  \n",
       "\u001b[1;36m5\u001b[0m                 Shoetown  \n",
       "\u001b[1;36m6\u001b[0m                  Cartown  \n",
       "\u001b[1;36m7\u001b[0m                 Shoetown  \n",
       "\u001b[1;36m8\u001b[0m               Bakerville  \n",
       "\u001b[1;36m9\u001b[0m               Bakerville  "
      ]
     },
     "execution_count": 19,
     "metadata": {},
     "output_type": "execute_result"
    }
   ],
   "source": [
    "nodes"
   ]
  },
  {
   "cell_type": "code",
   "execution_count": 20,
   "metadata": {},
   "outputs": [
    {
     "data": {
      "text/html": [
       "<pre style=\"white-space:pre;overflow-x:auto;line-height:normal;font-family:Menlo,'DejaVu Sans Mono',consolas,'Courier New',monospace\"></pre>\n"
      ],
      "text/plain": []
     },
     "metadata": {},
     "output_type": "display_data"
    },
    {
     "data": {
      "text/html": [
       "<div>\n",
       "<style scoped>\n",
       "    .dataframe tbody tr th:only-of-type {\n",
       "        vertical-align: middle;\n",
       "    }\n",
       "\n",
       "    .dataframe tbody tr th {\n",
       "        vertical-align: top;\n",
       "    }\n",
       "\n",
       "    .dataframe thead th {\n",
       "        text-align: right;\n",
       "    }\n",
       "</style>\n",
       "<table border=\"1\" class=\"dataframe\">\n",
       "  <thead>\n",
       "    <tr style=\"text-align: right;\">\n",
       "      <th></th>\n",
       "      <th>source</th>\n",
       "      <th>target</th>\n",
       "      <th>ltr</th>\n",
       "      <th>rtl</th>\n",
       "      <th>schema.SearchResult._to_number</th>\n",
       "      <th>schema.SearchResult._id</th>\n",
       "      <th>schema.SearchResult._from_term</th>\n",
       "      <th>schema.SearchResult.score</th>\n",
       "    </tr>\n",
       "  </thead>\n",
       "  <tbody>\n",
       "    <tr>\n",
       "      <th>0</th>\n",
       "      <td>1</td>\n",
       "      <td>9</td>\n",
       "      <td>org__id</td>\n",
       "      <td>None</td>\n",
       "      <td>NaN</td>\n",
       "      <td>NaN</td>\n",
       "      <td>NaN</td>\n",
       "      <td>NaN</td>\n",
       "    </tr>\n",
       "    <tr>\n",
       "      <th>1</th>\n",
       "      <td>2</td>\n",
       "      <td>7</td>\n",
       "      <td>org__id</td>\n",
       "      <td>None</td>\n",
       "      <td>NaN</td>\n",
       "      <td>NaN</td>\n",
       "      <td>NaN</td>\n",
       "      <td>NaN</td>\n",
       "    </tr>\n",
       "    <tr>\n",
       "      <th>2</th>\n",
       "      <td>3</td>\n",
       "      <td>6</td>\n",
       "      <td>org__id</td>\n",
       "      <td>None</td>\n",
       "      <td>NaN</td>\n",
       "      <td>NaN</td>\n",
       "      <td>NaN</td>\n",
       "      <td>NaN</td>\n",
       "    </tr>\n",
       "    <tr>\n",
       "      <th>3</th>\n",
       "      <td>0</td>\n",
       "      <td>3</td>\n",
       "      <td>_to_number</td>\n",
       "      <td>_from_term</td>\n",
       "      <td>2.0</td>\n",
       "      <td>104d65b581</td>\n",
       "      <td>test</td>\n",
       "      <td>0.7</td>\n",
       "    </tr>\n",
       "    <tr>\n",
       "      <th>4</th>\n",
       "      <td>0</td>\n",
       "      <td>2</td>\n",
       "      <td>_to_number</td>\n",
       "      <td>_from_term</td>\n",
       "      <td>1.0</td>\n",
       "      <td>11faab1a21</td>\n",
       "      <td>test</td>\n",
       "      <td>0.8</td>\n",
       "    </tr>\n",
       "    <tr>\n",
       "      <th>5</th>\n",
       "      <td>0</td>\n",
       "      <td>1</td>\n",
       "      <td>_to_number</td>\n",
       "      <td>_from_term</td>\n",
       "      <td>0.0</td>\n",
       "      <td>14941c52d3</td>\n",
       "      <td>test</td>\n",
       "      <td>0.9</td>\n",
       "    </tr>\n",
       "  </tbody>\n",
       "</table>\n",
       "</div>"
      ],
      "text/plain": [
       "\n",
       "   source  target         ltr         rtl  schema.SearchResult._to_number  \\\n",
       "\u001b[1;36m0\u001b[0m       \u001b[1;36m1\u001b[0m       \u001b[1;36m9\u001b[0m     org__id        \u001b[3;35mNone\u001b[0m                             NaN   \n",
       "\u001b[1;36m1\u001b[0m       \u001b[1;36m2\u001b[0m       \u001b[1;36m7\u001b[0m     org__id        \u001b[3;35mNone\u001b[0m                             NaN   \n",
       "\u001b[1;36m2\u001b[0m       \u001b[1;36m3\u001b[0m       \u001b[1;36m6\u001b[0m     org__id        \u001b[3;35mNone\u001b[0m                             NaN   \n",
       "\u001b[1;36m3\u001b[0m       \u001b[1;36m0\u001b[0m       \u001b[1;36m3\u001b[0m  _to_number  _from_term                             \u001b[1;36m2.0\u001b[0m   \n",
       "\u001b[1;36m4\u001b[0m       \u001b[1;36m0\u001b[0m       \u001b[1;36m2\u001b[0m  _to_number  _from_term                             \u001b[1;36m1.0\u001b[0m   \n",
       "\u001b[1;36m5\u001b[0m       \u001b[1;36m0\u001b[0m       \u001b[1;36m1\u001b[0m  _to_number  _from_term                             \u001b[1;36m0.0\u001b[0m   \n",
       "\n",
       "  schema.SearchResult._id schema.SearchResult._from_term  \\\n",
       "\u001b[1;36m0\u001b[0m                     NaN                            NaN   \n",
       "\u001b[1;36m1\u001b[0m                     NaN                            NaN   \n",
       "\u001b[1;36m2\u001b[0m                     NaN                            NaN   \n",
       "\u001b[1;36m3\u001b[0m              104d65b581                           test   \n",
       "\u001b[1;36m4\u001b[0m              11faab1a21                           test   \n",
       "\u001b[1;36m5\u001b[0m              14941c52d3                           test   \n",
       "\n",
       "   schema.SearchResult.score  \n",
       "\u001b[1;36m0\u001b[0m                        NaN  \n",
       "\u001b[1;36m1\u001b[0m                        NaN  \n",
       "\u001b[1;36m2\u001b[0m                        NaN  \n",
       "\u001b[1;36m3\u001b[0m                        \u001b[1;36m0.7\u001b[0m  \n",
       "\u001b[1;36m4\u001b[0m                        \u001b[1;36m0.8\u001b[0m  \n",
       "\u001b[1;36m5\u001b[0m                        \u001b[1;36m0.9\u001b[0m  "
      ]
     },
     "execution_count": 20,
     "metadata": {},
     "output_type": "execute_result"
    }
   ],
   "source": [
    "edges"
   ]
  },
  {
   "cell_type": "code",
   "execution_count": 21,
   "metadata": {},
   "outputs": [
    {
     "data": {
      "text/html": [
       "<pre style=\"white-space:pre;overflow-x:auto;line-height:normal;font-family:Menlo,'DejaVu Sans Mono',consolas,'Courier New',monospace\"></pre>\n"
      ],
      "text/plain": []
     },
     "metadata": {},
     "output_type": "display_data"
    },
    {
     "data": {
      "text/plain": [
       "\n",
       "\u001b[1m[\u001b[0m\n",
       "    \u001b[1;35mUser\u001b[0m\u001b[1m(\u001b[0m\u001b[1m{\u001b[0m\u001b[32m'_id'\u001b[0m: \u001b[32m'066baca6-90f0-47d4-bbb2-343efa4c83b7'\u001b[0m, \u001b[32m'name'\u001b[0m: \u001b[32m'Jack'\u001b[0m, \u001b[32m'age'\u001b[0m: \u001b[1;36m66\u001b[0m\u001b[1m}\u001b[0m\u001b[1m)\u001b[0m,\n",
       "    \u001b[1;35mUser\u001b[0m\u001b[1m(\u001b[0m\u001b[1m{\u001b[0m\u001b[32m'_id'\u001b[0m: \u001b[32m'1db6b635-e8d9-457d-80b5-1ab09e8b6509'\u001b[0m, \u001b[32m'name'\u001b[0m: \u001b[32m'Jack'\u001b[0m, \u001b[32m'age'\u001b[0m: \u001b[1;36m66\u001b[0m\u001b[1m}\u001b[0m\u001b[1m)\u001b[0m,\n",
       "    \u001b[1;35mUser\u001b[0m\u001b[1m(\u001b[0m\u001b[1m{\u001b[0m\u001b[32m'_id'\u001b[0m: \u001b[32m'b0409880-13a4-4e81-bc67-856138dc428a'\u001b[0m, \u001b[32m'name'\u001b[0m: \u001b[32m'John'\u001b[0m, \u001b[32m'age'\u001b[0m: \u001b[1;36m26\u001b[0m\u001b[1m}\u001b[0m\u001b[1m)\u001b[0m,\n",
       "    \u001b[1;35mUser\u001b[0m\u001b[1m(\u001b[0m\u001b[1m{\u001b[0m\u001b[32m'_id'\u001b[0m: \u001b[32m'c22f2288-ec2a-4d9a-8f61-f5bda51e0784'\u001b[0m, \u001b[32m'name'\u001b[0m: \u001b[32m'John'\u001b[0m, \u001b[32m'age'\u001b[0m: \u001b[1;36m31\u001b[0m\u001b[1m}\u001b[0m\u001b[1m)\u001b[0m,\n",
       "    \u001b[1;35mUser\u001b[0m\u001b[1m(\u001b[0m\u001b[1m{\u001b[0m\u001b[32m'_id'\u001b[0m: \u001b[32m'e14ac4d6-3037-44cc-a725-6c92cc45ab25'\u001b[0m, \u001b[32m'name'\u001b[0m: \u001b[32m'Jane'\u001b[0m, \u001b[32m'age'\u001b[0m: \u001b[1;36m36\u001b[0m\u001b[1m}\u001b[0m\u001b[1m)\u001b[0m\n",
       "\u001b[1m]\u001b[0m"
      ]
     },
     "execution_count": 21,
     "metadata": {},
     "output_type": "execute_result"
    }
   ],
   "source": [
    "db[User].values()"
   ]
  },
  {
   "cell_type": "code",
   "execution_count": 22,
   "metadata": {},
   "outputs": [
    {
     "data": {
      "text/html": [
       "<pre style=\"white-space:pre;overflow-x:auto;line-height:normal;font-family:Menlo,'DejaVu Sans Mono',consolas,'Courier New',monospace\"></pre>\n"
      ],
      "text/plain": []
     },
     "metadata": {},
     "output_type": "display_data"
    },
    {
     "data": {
      "text/html": [
       "<div><style>\n",
       ".dataframe > thead > tr,\n",
       ".dataframe > tbody > tr {\n",
       "  text-align: right;\n",
       "  white-space: pre-wrap;\n",
       "}\n",
       "</style>\n",
       "<small>shape: (3, 6)</small><table border=\"1\" class=\"dataframe\"><thead><tr><th>number</th><th>name</th><th>start</th><th>end</th><th>status</th><th>org__id</th></tr><tr><td>i64</td><td>str</td><td>date</td><td>date</td><td>str</td><td>str</td></tr></thead><tbody><tr><td>0</td><td>&quot;baking cake&quot;</td><td>2020-01-01</td><td>2020-01-04</td><td>&quot;done&quot;</td><td>&quot;b4c2e65b-b716-4568-a181-159a9d…</td></tr><tr><td>1</td><td>&quot;cleaning shoes&quot;</td><td>2020-01-02</td><td>2020-01-05</td><td>&quot;done&quot;</td><td>&quot;884b25cc-5974-4631-b3b9-794ad5…</td></tr><tr><td>2</td><td>&quot;fixing cars&quot;</td><td>2020-01-03</td><td>2020-01-06</td><td>&quot;started&quot;</td><td>&quot;51dcdcb7-c4d7-4f5c-af20-8386fb…</td></tr></tbody></table></div>"
      ],
      "text/plain": [
       "\n",
       "shape: \u001b[1m(\u001b[0m\u001b[1;36m3\u001b[0m, \u001b[1;36m6\u001b[0m\u001b[1m)\u001b[0m\n",
       "┌────────┬────────────────┬────────────┬────────────┬─────────┬─────────────────────────────────┐\n",
       "│ number ┆ name           ┆ start      ┆ end        ┆ status  ┆ org__id                         │\n",
       "│ ---    ┆ ---            ┆ ---        ┆ ---        ┆ ---     ┆ ---                             │\n",
       "│ i64    ┆ str            ┆ date       ┆ date       ┆ str     ┆ str                             │\n",
       "╞════════╪════════════════╪════════════╪════════════╪═════════╪═════════════════════════════════╡\n",
       "│ \u001b[1;36m0\u001b[0m      ┆ baking cake    ┆ \u001b[1;36m2020\u001b[0m-\u001b[1;36m01\u001b[0m-\u001b[1;36m01\u001b[0m ┆ \u001b[1;36m2020\u001b[0m-\u001b[1;36m01\u001b[0m-\u001b[1;36m04\u001b[0m ┆ done    ┆ b4c2e65b-b716-\u001b[1;36m4568\u001b[0m-a181-159a9d… │\n",
       "│ \u001b[1;36m1\u001b[0m      ┆ cleaning shoes ┆ \u001b[1;36m2020\u001b[0m-\u001b[1;36m01\u001b[0m-\u001b[1;36m02\u001b[0m ┆ \u001b[1;36m2020\u001b[0m-\u001b[1;36m01\u001b[0m-\u001b[1;36m05\u001b[0m ┆ done    ┆ 884b25cc-\u001b[1;36m5974\u001b[0m-\u001b[1;36m4631\u001b[0m-b3b9-794ad5… │\n",
       "│ \u001b[1;36m2\u001b[0m      ┆ fixing cars    ┆ \u001b[1;36m2020\u001b[0m-\u001b[1;36m01\u001b[0m-\u001b[1;36m03\u001b[0m ┆ \u001b[1;36m2020\u001b[0m-\u001b[1;36m01\u001b[0m-\u001b[1;36m06\u001b[0m ┆ started ┆ 51dcdcb7-c4d7-4f5c-af20-8386fb… │\n",
       "└────────┴────────────────┴────────────┴────────────┴─────────┴─────────────────────────────────┘"
      ]
     },
     "execution_count": 22,
     "metadata": {},
     "output_type": "execute_result"
    }
   ],
   "source": [
    "db[Project].df()"
   ]
  },
  {
   "cell_type": "code",
   "execution_count": null,
   "metadata": {},
   "outputs": [
    {
     "data": {
      "text/html": [
       "<pre style=\"white-space:pre;overflow-x:auto;line-height:normal;font-family:Menlo,'DejaVu Sans Mono',consolas,'Courier New',monospace\"></pre>\n"
      ],
      "text/plain": []
     },
     "metadata": {},
     "output_type": "display_data"
    },
    {
     "data": {
      "text/plain": [
       "\u001b[1m[\u001b[0m\u001b[32m'test'\u001b[0m\u001b[1m]\u001b[0m"
      ]
     },
     "execution_count": 23,
     "metadata": {},
     "output_type": "execute_result"
    }
   ],
   "source": [
    "db[Search.term].values()"
   ]
  },
  {
   "cell_type": "code",
   "execution_count": 24,
   "metadata": {},
   "outputs": [
    {
     "data": {
      "text/html": [
       "<pre style=\"white-space:pre;overflow-x:auto;line-height:normal;font-family:Menlo,'DejaVu Sans Mono',consolas,'Courier New',monospace\"></pre>\n"
      ],
      "text/plain": []
     },
     "metadata": {},
     "output_type": "display_data"
    },
    {
     "data": {
      "text/plain": [
       "\u001b[1m[\u001b[0m\u001b[1m(\u001b[0m\u001b[32m'test'\u001b[0m, \u001b[1;36m3\u001b[0m\u001b[1m)\u001b[0m\u001b[1m]\u001b[0m"
      ]
     },
     "execution_count": 24,
     "metadata": {},
     "output_type": "execute_result"
    }
   ],
   "source": [
    "list(db[Search.result_count].items())"
   ]
  },
  {
   "cell_type": "code",
   "execution_count": null,
   "metadata": {},
   "outputs": [
    {
     "data": {
      "text/html": [
       "<pre style=\"white-space:pre;overflow-x:auto;line-height:normal;font-family:Menlo,'DejaVu Sans Mono',consolas,'Courier New',monospace\"></pre>\n"
      ],
      "text/plain": []
     },
     "metadata": {},
     "output_type": "display_data"
    },
    {
     "data": {
      "text/plain": [
       "\n",
       "\u001b[1m[\u001b[0m\n",
       "    \u001b[1m(\u001b[0m\n",
       "        \u001b[1m(\u001b[0m\u001b[32m'test'\u001b[0m, \u001b[1;36m0\u001b[0m, \u001b[32m'b4c2e65b-b716-4568-a181-159a9d1276a0'\u001b[0m\u001b[1m)\u001b[0m,\n",
       "        \u001b[1;35mOrganization\u001b[0m\u001b[1m(\u001b[0m\u001b[1m{\u001b[0m\u001b[32m'_id'\u001b[0m: \u001b[32m'b4c2e65b-b716-4568-a181-159a9d1276a0'\u001b[0m, \u001b[32m'name'\u001b[0m: \u001b[32m'Bakery'\u001b[0m, \u001b[32m'address'\u001b[0m: \u001b[32m'Main Street 1'\u001b[0m, \u001b[32m'city'\u001b[0m: \u001b[32m'Bakerville'\u001b[0m\u001b[1m}\u001b[0m\u001b[1m)\u001b[0m\n",
       "    \u001b[1m)\u001b[0m,\n",
       "    \u001b[1m(\u001b[0m\n",
       "        \u001b[1m(\u001b[0m\u001b[32m'test'\u001b[0m, \u001b[1;36m1\u001b[0m, \u001b[32m'884b25cc-5974-4631-b3b9-794ad5952b75'\u001b[0m\u001b[1m)\u001b[0m,\n",
       "        \u001b[1;35mOrganization\u001b[0m\u001b[1m(\u001b[0m\u001b[1m{\u001b[0m\u001b[32m'_id'\u001b[0m: \u001b[32m'884b25cc-5974-4631-b3b9-794ad5952b75'\u001b[0m, \u001b[32m'name'\u001b[0m: \u001b[32m'Shoe Shop'\u001b[0m, \u001b[32m'address'\u001b[0m: \u001b[32m'Main Street 2'\u001b[0m, \u001b[32m'city'\u001b[0m: \u001b[32m'Shoetown'\u001b[0m\u001b[1m}\u001b[0m\u001b[1m)\u001b[0m\n",
       "    \u001b[1m)\u001b[0m,\n",
       "    \u001b[1m(\u001b[0m\n",
       "        \u001b[1m(\u001b[0m\u001b[32m'test'\u001b[0m, \u001b[1;36m2\u001b[0m, \u001b[32m'51dcdcb7-c4d7-4f5c-af20-8386fbb93ebd'\u001b[0m\u001b[1m)\u001b[0m,\n",
       "        \u001b[1;35mOrganization\u001b[0m\u001b[1m(\u001b[0m\u001b[1m{\u001b[0m\u001b[32m'_id'\u001b[0m: \u001b[32m'51dcdcb7-c4d7-4f5c-af20-8386fbb93ebd'\u001b[0m, \u001b[32m'name'\u001b[0m: \u001b[32m'Car Shop'\u001b[0m, \u001b[32m'address'\u001b[0m: \u001b[32m'Main Street 3'\u001b[0m, \u001b[32m'city'\u001b[0m: \u001b[32m'Cartown'\u001b[0m\u001b[1m}\u001b[0m\u001b[1m)\u001b[0m\n",
       "    \u001b[1m)\u001b[0m\n",
       "\u001b[1m]\u001b[0m"
      ]
     },
     "execution_count": 25,
     "metadata": {},
     "output_type": "execute_result"
    }
   ],
   "source": [
    "list(db[Search.results.x.org].items())"
   ]
  },
  {
   "cell_type": "code",
   "execution_count": null,
   "metadata": {},
   "outputs": [
    {
     "data": {
      "text/html": [
       "<pre style=\"white-space:pre;overflow-x:auto;line-height:normal;font-family:Menlo,'DejaVu Sans Mono',consolas,'Courier New',monospace\"></pre>\n"
      ],
      "text/plain": []
     },
     "metadata": {},
     "output_type": "display_data"
    },
    {
     "data": {
      "text/plain": [
       "\n",
       "\u001b[1m[\u001b[0m\n",
       "    \u001b[1m(\u001b[0m\n",
       "        \u001b[1m(\u001b[0m\u001b[32m'test'\u001b[0m, \u001b[1;36m0\u001b[0m\u001b[1m)\u001b[0m,\n",
       "        \u001b[1;35mProject\u001b[0m\u001b[1m(\u001b[0m\u001b[1m{\u001b[0m\u001b[32m'number'\u001b[0m: \u001b[1;36m0\u001b[0m, \u001b[32m'name'\u001b[0m: \u001b[32m'baking cake'\u001b[0m, \u001b[32m'start'\u001b[0m: \u001b[1;35mdatetime.date\u001b[0m\u001b[1m(\u001b[0m\u001b[1;36m2020\u001b[0m, \u001b[1;36m1\u001b[0m, \u001b[1;36m1\u001b[0m\u001b[1m)\u001b[0m, \u001b[32m'end'\u001b[0m: \u001b[1;35mdatetime.date\u001b[0m\u001b[1m(\u001b[0m\u001b[1;36m2020\u001b[0m, \u001b[1;36m1\u001b[0m, \u001b[1;36m4\u001b[0m\u001b[1m)\u001b[0m, \u001b[32m'status'\u001b[0m: \u001b[32m'done'\u001b[0m\u001b[1m}\u001b[0m\u001b[1m)\u001b[0m\n",
       "    \u001b[1m)\u001b[0m,\n",
       "    \u001b[1m(\u001b[0m\n",
       "        \u001b[1m(\u001b[0m\u001b[32m'test'\u001b[0m, \u001b[1;36m1\u001b[0m\u001b[1m)\u001b[0m,\n",
       "        \u001b[1;35mProject\u001b[0m\u001b[1m(\u001b[0m\u001b[1m{\u001b[0m\u001b[32m'number'\u001b[0m: \u001b[1;36m1\u001b[0m, \u001b[32m'name'\u001b[0m: \u001b[32m'cleaning shoes'\u001b[0m, \u001b[32m'start'\u001b[0m: \u001b[1;35mdatetime.date\u001b[0m\u001b[1m(\u001b[0m\u001b[1;36m2020\u001b[0m, \u001b[1;36m1\u001b[0m, \u001b[1;36m2\u001b[0m\u001b[1m)\u001b[0m, \u001b[32m'end'\u001b[0m: \u001b[1;35mdatetime.date\u001b[0m\u001b[1m(\u001b[0m\u001b[1;36m2020\u001b[0m, \u001b[1;36m1\u001b[0m, \u001b[1;36m5\u001b[0m\u001b[1m)\u001b[0m, \u001b[32m'status'\u001b[0m: \u001b[32m'done'\u001b[0m\u001b[1m}\u001b[0m\u001b[1m)\u001b[0m\n",
       "    \u001b[1m)\u001b[0m,\n",
       "    \u001b[1m(\u001b[0m\n",
       "        \u001b[1m(\u001b[0m\u001b[32m'test'\u001b[0m, \u001b[1;36m2\u001b[0m\u001b[1m)\u001b[0m,\n",
       "        \u001b[1;35mProject\u001b[0m\u001b[1m(\u001b[0m\u001b[1m{\u001b[0m\u001b[32m'number'\u001b[0m: \u001b[1;36m2\u001b[0m, \u001b[32m'name'\u001b[0m: \u001b[32m'fixing cars'\u001b[0m, \u001b[32m'start'\u001b[0m: \u001b[1;35mdatetime.date\u001b[0m\u001b[1m(\u001b[0m\u001b[1;36m2020\u001b[0m, \u001b[1;36m1\u001b[0m, \u001b[1;36m3\u001b[0m\u001b[1m)\u001b[0m, \u001b[32m'end'\u001b[0m: \u001b[1;35mdatetime.date\u001b[0m\u001b[1m(\u001b[0m\u001b[1;36m2020\u001b[0m, \u001b[1;36m1\u001b[0m, \u001b[1;36m6\u001b[0m\u001b[1m)\u001b[0m, \u001b[32m'status'\u001b[0m: \u001b[32m'started'\u001b[0m\u001b[1m}\u001b[0m\u001b[1m)\u001b[0m\n",
       "    \u001b[1m)\u001b[0m\n",
       "\u001b[1m]\u001b[0m"
      ]
     },
     "execution_count": 26,
     "metadata": {},
     "output_type": "execute_result"
    }
   ],
   "source": [
    "db[Search.results].items()"
   ]
  },
  {
   "cell_type": "code",
   "execution_count": 27,
   "metadata": {},
   "outputs": [
    {
     "data": {
      "text/html": [
       "<pre style=\"white-space:pre;overflow-x:auto;line-height:normal;font-family:Menlo,'DejaVu Sans Mono',consolas,'Courier New',monospace\"></pre>\n"
      ],
      "text/plain": []
     },
     "metadata": {},
     "output_type": "display_data"
    },
    {
     "data": {
      "text/plain": [
       "\u001b[1m[\u001b[0m\u001b[32m'number'\u001b[0m, \u001b[32m'name'\u001b[0m, \u001b[32m'start'\u001b[0m, \u001b[32m'end'\u001b[0m, \u001b[32m'status'\u001b[0m, \u001b[32m'org__id'\u001b[0m\u001b[1m]\u001b[0m"
      ]
     },
     "execution_count": 27,
     "metadata": {},
     "output_type": "execute_result"
    }
   ],
   "source": [
    "list(db[Search.results]._abs_cols.keys())"
   ]
  },
  {
   "cell_type": "code",
   "execution_count": 28,
   "metadata": {},
   "outputs": [
    {
     "data": {
      "text/html": [
       "<pre style=\"white-space:pre;overflow-x:auto;line-height:normal;font-family:Menlo,'DejaVu Sans Mono',consolas,'Courier New',monospace\"></pre>\n"
      ],
      "text/plain": []
     },
     "metadata": {},
     "output_type": "display_data"
    },
    {
     "data": {
      "text/html": [
       "<div><style>\n",
       ".dataframe > thead > tr,\n",
       ".dataframe > tbody > tr {\n",
       "  text-align: right;\n",
       "  white-space: pre-wrap;\n",
       "}\n",
       "</style>\n",
       "<small>shape: (3, 7)</small><table border=\"1\" class=\"dataframe\"><thead><tr><th>schema.Search.term</th><th>number</th><th>name</th><th>start</th><th>end</th><th>status</th><th>org__id</th></tr><tr><td>str</td><td>i64</td><td>str</td><td>date</td><td>date</td><td>str</td><td>str</td></tr></thead><tbody><tr><td>&quot;test&quot;</td><td>0</td><td>&quot;baking cake&quot;</td><td>2020-01-01</td><td>2020-01-04</td><td>&quot;done&quot;</td><td>&quot;b4c2e65b-b716-4568-a181-159a9d…</td></tr><tr><td>&quot;test&quot;</td><td>1</td><td>&quot;cleaning shoes&quot;</td><td>2020-01-02</td><td>2020-01-05</td><td>&quot;done&quot;</td><td>&quot;884b25cc-5974-4631-b3b9-794ad5…</td></tr><tr><td>&quot;test&quot;</td><td>2</td><td>&quot;fixing cars&quot;</td><td>2020-01-03</td><td>2020-01-06</td><td>&quot;started&quot;</td><td>&quot;51dcdcb7-c4d7-4f5c-af20-8386fb…</td></tr></tbody></table></div>"
      ],
      "text/plain": [
       "\n",
       "shape: \u001b[1m(\u001b[0m\u001b[1;36m3\u001b[0m, \u001b[1;36m7\u001b[0m\u001b[1m)\u001b[0m\n",
       "┌──────────────────┬────────┬────────────────┬────────────┬────────────┬─────────┬─────────────────┐\n",
       "│ schema.Search.te ┆ number ┆ name           ┆ start      ┆ end        ┆ status  ┆ org__id         │\n",
       "│ rm               ┆ ---    ┆ ---            ┆ ---        ┆ ---        ┆ ---     ┆ ---             │\n",
       "│ ---              ┆ i64    ┆ str            ┆ date       ┆ date       ┆ str     ┆ str             │\n",
       "│ str              ┆        ┆                ┆            ┆            ┆         ┆                 │\n",
       "╞══════════════════╪════════╪════════════════╪════════════╪════════════╪═════════╪═════════════════╡\n",
       "│ test             ┆ \u001b[1;36m0\u001b[0m      ┆ baking cake    ┆ \u001b[1;36m2020\u001b[0m-\u001b[1;36m01\u001b[0m-\u001b[1;36m01\u001b[0m ┆ \u001b[1;36m2020\u001b[0m-\u001b[1;36m01\u001b[0m-\u001b[1;36m04\u001b[0m ┆ done    ┆ b4c2e65b-b716-\u001b[1;36m4\u001b[0m │\n",
       "│                  ┆        ┆                ┆            ┆            ┆         ┆ \u001b[1;36m568\u001b[0m-a181-159a9d │\n",
       "│                  ┆        ┆                ┆            ┆            ┆         ┆ …               │\n",
       "│ test             ┆ \u001b[1;36m1\u001b[0m      ┆ cleaning shoes ┆ \u001b[1;36m2020\u001b[0m-\u001b[1;36m01\u001b[0m-\u001b[1;36m02\u001b[0m ┆ \u001b[1;36m2020\u001b[0m-\u001b[1;36m01\u001b[0m-\u001b[1;36m05\u001b[0m ┆ done    ┆ 884b25cc-\u001b[1;36m5974\u001b[0m-\u001b[1;36m4\u001b[0m │\n",
       "│                  ┆        ┆                ┆            ┆            ┆         ┆ \u001b[1;36m631\u001b[0m-b3b9-794ad5 │\n",
       "│                  ┆        ┆                ┆            ┆            ┆         ┆ …               │\n",
       "│ test             ┆ \u001b[1;36m2\u001b[0m      ┆ fixing cars    ┆ \u001b[1;36m2020\u001b[0m-\u001b[1;36m01\u001b[0m-\u001b[1;36m03\u001b[0m ┆ \u001b[1;36m2020\u001b[0m-\u001b[1;36m01\u001b[0m-\u001b[1;36m06\u001b[0m ┆ started ┆ 51dcdcb7-c4d7-\u001b[1;36m4\u001b[0m │\n",
       "│                  ┆        ┆                ┆            ┆            ┆         ┆ f5c-af20-8386fb │\n",
       "│                  ┆        ┆                ┆            ┆            ┆         ┆ …               │\n",
       "└──────────────────┴────────┴────────────────┴────────────┴────────────┴─────────┴─────────────────┘"
      ]
     },
     "execution_count": 28,
     "metadata": {},
     "output_type": "execute_result"
    }
   ],
   "source": [
    "db[Search.results].df()"
   ]
  },
  {
   "cell_type": "code",
   "execution_count": 29,
   "metadata": {},
   "outputs": [
    {
     "data": {
      "text/html": [
       "<pre style=\"white-space:pre;overflow-x:auto;line-height:normal;font-family:Menlo,'DejaVu Sans Mono',consolas,'Courier New',monospace\"></pre>\n"
      ],
      "text/plain": []
     },
     "metadata": {},
     "output_type": "display_data"
    },
    {
     "data": {
      "text/html": [
       "<div><style>\n",
       ".dataframe > thead > tr,\n",
       ".dataframe > tbody > tr {\n",
       "  text-align: right;\n",
       "  white-space: pre-wrap;\n",
       "}\n",
       "</style>\n",
       "<small>shape: (3, 6)</small><table border=\"1\" class=\"dataframe\"><thead><tr><th>schema.Search.term</th><th>schema.Search.results.number</th><th>_id</th><th>name</th><th>address</th><th>city</th></tr><tr><td>str</td><td>i64</td><td>str</td><td>str</td><td>str</td><td>str</td></tr></thead><tbody><tr><td>&quot;test&quot;</td><td>0</td><td>&quot;b4c2e65b-b716-4568-a181-159a9d…</td><td>&quot;Bakery&quot;</td><td>&quot;Main Street 1&quot;</td><td>&quot;Bakerville&quot;</td></tr><tr><td>&quot;test&quot;</td><td>1</td><td>&quot;884b25cc-5974-4631-b3b9-794ad5…</td><td>&quot;Shoe Shop&quot;</td><td>&quot;Main Street 2&quot;</td><td>&quot;Shoetown&quot;</td></tr><tr><td>&quot;test&quot;</td><td>2</td><td>&quot;51dcdcb7-c4d7-4f5c-af20-8386fb…</td><td>&quot;Car Shop&quot;</td><td>&quot;Main Street 3&quot;</td><td>&quot;Cartown&quot;</td></tr></tbody></table></div>"
      ],
      "text/plain": [
       "\n",
       "shape: \u001b[1m(\u001b[0m\u001b[1;36m3\u001b[0m, \u001b[1;36m6\u001b[0m\u001b[1m)\u001b[0m\n",
       "┌───────────────────┬──────────────────┬──────────────────┬───────────┬───────────────┬────────────┐\n",
       "│ schema.Search.ter ┆ schema.Search.re ┆ _id              ┆ name      ┆ address       ┆ city       │\n",
       "│ m                 ┆ sults.number     ┆ ---              ┆ ---       ┆ ---           ┆ ---        │\n",
       "│ ---               ┆ ---              ┆ str              ┆ str       ┆ str           ┆ str        │\n",
       "│ str               ┆ i64              ┆                  ┆           ┆               ┆            │\n",
       "╞═══════════════════╪══════════════════╪══════════════════╪═══════════╪═══════════════╪════════════╡\n",
       "│ test              ┆ \u001b[1;36m0\u001b[0m                ┆ b4c2e65b-b716-\u001b[1;36m45\u001b[0m ┆ Bakery    ┆ Main Street \u001b[1;36m1\u001b[0m ┆ Bakerville │\n",
       "│                   ┆                  ┆ \u001b[1;36m68\u001b[0m-a181-159a9d…  ┆           ┆               ┆            │\n",
       "│ test              ┆ \u001b[1;36m1\u001b[0m                ┆ 884b25cc-\u001b[1;36m5974\u001b[0m-\u001b[1;36m46\u001b[0m ┆ Shoe Shop ┆ Main Street \u001b[1;36m2\u001b[0m ┆ Shoetown   │\n",
       "│                   ┆                  ┆ \u001b[1;36m31\u001b[0m-b3b9-794ad5…  ┆           ┆               ┆            │\n",
       "│ test              ┆ \u001b[1;36m2\u001b[0m                ┆ 51dcdcb7-c4d7-4f ┆ Car Shop  ┆ Main Street \u001b[1;36m3\u001b[0m ┆ Cartown    │\n",
       "│                   ┆                  ┆ 5c-af20-8386fb…  ┆           ┆               ┆            │\n",
       "└───────────────────┴──────────────────┴──────────────────┴───────────┴───────────────┴────────────┘"
      ]
     },
     "execution_count": 29,
     "metadata": {},
     "output_type": "execute_result"
    }
   ],
   "source": [
    "db[Search.results.x.org].df()"
   ]
  },
  {
   "cell_type": "code",
   "execution_count": 30,
   "metadata": {},
   "outputs": [
    {
     "data": {
      "text/html": [
       "<pre style=\"white-space:pre;overflow-x:auto;line-height:normal;font-family:Menlo,'DejaVu Sans Mono',consolas,'Courier New',monospace\"></pre>\n"
      ],
      "text/plain": []
     },
     "metadata": {},
     "output_type": "display_data"
    },
    {
     "data": {
      "text/html": [
       "<div><style>\n",
       ".dataframe > thead > tr,\n",
       ".dataframe > tbody > tr {\n",
       "  text-align: right;\n",
       "  white-space: pre-wrap;\n",
       "}\n",
       "</style>\n",
       "<small>shape: (6, 4)</small><table border=\"1\" class=\"dataframe\"><thead><tr><th>_id</th><th>name</th><th>address</th><th>city</th></tr><tr><td>str</td><td>str</td><td>str</td><td>str</td></tr></thead><tbody><tr><td>&quot;1010d3c8-c839-4969-a90d-247ea5…</td><td>&quot;Car Shop&quot;</td><td>&quot;Main Street 3&quot;</td><td>&quot;Cartown&quot;</td></tr><tr><td>&quot;1e041f8b-4f3f-4b81-8070-97f007…</td><td>&quot;Shoe Shop&quot;</td><td>&quot;Main Street 2&quot;</td><td>&quot;Shoetown&quot;</td></tr><tr><td>&quot;51dcdcb7-c4d7-4f5c-af20-8386fb…</td><td>&quot;Car Shop&quot;</td><td>&quot;Main Street 3&quot;</td><td>&quot;Cartown&quot;</td></tr><tr><td>&quot;884b25cc-5974-4631-b3b9-794ad5…</td><td>&quot;Shoe Shop&quot;</td><td>&quot;Main Street 2&quot;</td><td>&quot;Shoetown&quot;</td></tr><tr><td>&quot;a2662a8b-6f2c-4b20-9d75-96e94c…</td><td>&quot;Bakery&quot;</td><td>&quot;Main Street 1&quot;</td><td>&quot;Bakerville&quot;</td></tr><tr><td>&quot;b4c2e65b-b716-4568-a181-159a9d…</td><td>&quot;Bakery&quot;</td><td>&quot;Main Street 1&quot;</td><td>&quot;Bakerville&quot;</td></tr></tbody></table></div>"
      ],
      "text/plain": [
       "\n",
       "shape: \u001b[1m(\u001b[0m\u001b[1;36m6\u001b[0m, \u001b[1;36m4\u001b[0m\u001b[1m)\u001b[0m\n",
       "┌─────────────────────────────────┬───────────┬───────────────┬────────────┐\n",
       "│ _id                             ┆ name      ┆ address       ┆ city       │\n",
       "│ ---                             ┆ ---       ┆ ---           ┆ ---        │\n",
       "│ str                             ┆ str       ┆ str           ┆ str        │\n",
       "╞═════════════════════════════════╪═══════════╪═══════════════╪════════════╡\n",
       "│ 1010d3c8-c839-\u001b[1;36m4969\u001b[0m-a90d-247ea5… ┆ Car Shop  ┆ Main Street \u001b[1;36m3\u001b[0m ┆ Cartown    │\n",
       "│ 1e041f8b-4f3f-4b81-\u001b[1;36m8070\u001b[0m-97f007… ┆ Shoe Shop ┆ Main Street \u001b[1;36m2\u001b[0m ┆ Shoetown   │\n",
       "│ 51dcdcb7-c4d7-4f5c-af20-8386fb… ┆ Car Shop  ┆ Main Street \u001b[1;36m3\u001b[0m ┆ Cartown    │\n",
       "│ 884b25cc-\u001b[1;36m5974\u001b[0m-\u001b[1;36m4631\u001b[0m-b3b9-794ad5… ┆ Shoe Shop ┆ Main Street \u001b[1;36m2\u001b[0m ┆ Shoetown   │\n",
       "│ a2662a8b-6f2c-4b20-9d75-96e94c… ┆ Bakery    ┆ Main Street \u001b[1;36m1\u001b[0m ┆ Bakerville │\n",
       "│ b4c2e65b-b716-\u001b[1;36m4568\u001b[0m-a181-159a9d… ┆ Bakery    ┆ Main Street \u001b[1;36m1\u001b[0m ┆ Bakerville │\n",
       "└─────────────────────────────────┴───────────┴───────────────┴────────────┘"
      ]
     },
     "execution_count": 30,
     "metadata": {},
     "output_type": "execute_result"
    }
   ],
   "source": [
    "db[Organization].df()"
   ]
  },
  {
   "cell_type": "code",
   "execution_count": null,
   "metadata": {},
   "outputs": [
    {
     "data": {
      "text/html": [
       "<pre style=\"white-space:pre;overflow-x:auto;line-height:normal;font-family:Menlo,'DejaVu Sans Mono',consolas,'Courier New',monospace\"></pre>\n"
      ],
      "text/plain": []
     },
     "metadata": {},
     "output_type": "display_data"
    },
    {
     "data": {
      "text/html": [
       "<div><style>\n",
       ".dataframe > thead > tr,\n",
       ".dataframe > tbody > tr {\n",
       "  text-align: right;\n",
       "  white-space: pre-wrap;\n",
       "}\n",
       "</style>\n",
       "<small>shape: (1, 4)</small><table border=\"1\" class=\"dataframe\"><thead><tr><th>_id</th><th>score</th><th>_from_term</th><th>_to_number</th></tr><tr><td>str</td><td>f64</td><td>str</td><td>i64</td></tr></thead><tbody><tr><td>&quot;14941c52d3&quot;</td><td>0.9</td><td>&quot;test&quot;</td><td>0</td></tr></tbody></table></div>"
      ],
      "text/plain": [
       "\n",
       "shape: \u001b[1m(\u001b[0m\u001b[1;36m1\u001b[0m, \u001b[1;36m4\u001b[0m\u001b[1m)\u001b[0m\n",
       "┌────────────┬───────┬────────────┬────────────┐\n",
       "│ _id        ┆ score ┆ _from_term ┆ _to_number │\n",
       "│ ---        ┆ ---   ┆ ---        ┆ ---        │\n",
       "│ str        ┆ f64   ┆ str        ┆ i64        │\n",
       "╞════════════╪═══════╪════════════╪════════════╡\n",
       "│ 14941c52d3 ┆ \u001b[1;36m0.9\u001b[0m   ┆ test       ┆ \u001b[1;36m0\u001b[0m          │\n",
       "└────────────┴───────┴────────────┴────────────┘"
      ]
     },
     "execution_count": 31,
     "metadata": {},
     "output_type": "execute_result"
    }
   ],
   "source": [
    "db[SearchResult._table[SearchResult.score.isin(slice(0.81, 0.9))]].df()"
   ]
  },
  {
   "cell_type": "code",
   "execution_count": null,
   "metadata": {},
   "outputs": [
    {
     "data": {
      "text/html": [
       "<pre style=\"white-space:pre;overflow-x:auto;line-height:normal;font-family:Menlo,'DejaVu Sans Mono',consolas,'Courier New',monospace\"></pre>\n"
      ],
      "text/plain": []
     },
     "metadata": {},
     "output_type": "display_data"
    },
    {
     "data": {
      "text/html": [
       "<div>\n",
       "<style scoped>\n",
       "    .dataframe tbody tr th:only-of-type {\n",
       "        vertical-align: middle;\n",
       "    }\n",
       "\n",
       "    .dataframe tbody tr th {\n",
       "        vertical-align: top;\n",
       "    }\n",
       "\n",
       "    .dataframe thead th {\n",
       "        text-align: right;\n",
       "    }\n",
       "</style>\n",
       "<table border=\"1\" class=\"dataframe\">\n",
       "  <thead>\n",
       "    <tr style=\"text-align: right;\">\n",
       "      <th></th>\n",
       "      <th></th>\n",
       "      <th>value</th>\n",
       "    </tr>\n",
       "    <tr>\n",
       "      <th>schema.Organization._id</th>\n",
       "      <th>schema.Organization.countries.idx</th>\n",
       "      <th></th>\n",
       "    </tr>\n",
       "  </thead>\n",
       "  <tbody>\n",
       "    <tr>\n",
       "      <th rowspan=\"2\" valign=\"top\">1010d3c8-c839-4969-a90d-247ea54cea32</th>\n",
       "      <th>0</th>\n",
       "      <td>USA</td>\n",
       "    </tr>\n",
       "    <tr>\n",
       "      <th>1</th>\n",
       "      <td>Canada</td>\n",
       "    </tr>\n",
       "    <tr>\n",
       "      <th rowspan=\"2\" valign=\"top\">1e041f8b-4f3f-4b81-8070-97f007c52641</th>\n",
       "      <th>0</th>\n",
       "      <td>USA</td>\n",
       "    </tr>\n",
       "    <tr>\n",
       "      <th>1</th>\n",
       "      <td>Mexico</td>\n",
       "    </tr>\n",
       "    <tr>\n",
       "      <th rowspan=\"2\" valign=\"top\">51dcdcb7-c4d7-4f5c-af20-8386fbb93ebd</th>\n",
       "      <th>0</th>\n",
       "      <td>USA</td>\n",
       "    </tr>\n",
       "    <tr>\n",
       "      <th>1</th>\n",
       "      <td>Canada</td>\n",
       "    </tr>\n",
       "    <tr>\n",
       "      <th rowspan=\"2\" valign=\"top\">884b25cc-5974-4631-b3b9-794ad5952b75</th>\n",
       "      <th>0</th>\n",
       "      <td>USA</td>\n",
       "    </tr>\n",
       "    <tr>\n",
       "      <th>1</th>\n",
       "      <td>Mexico</td>\n",
       "    </tr>\n",
       "    <tr>\n",
       "      <th rowspan=\"3\" valign=\"top\">a2662a8b-6f2c-4b20-9d75-96e94c0e5183</th>\n",
       "      <th>0</th>\n",
       "      <td>USA</td>\n",
       "    </tr>\n",
       "    <tr>\n",
       "      <th>1</th>\n",
       "      <td>Mexico</td>\n",
       "    </tr>\n",
       "    <tr>\n",
       "      <th>2</th>\n",
       "      <td>Canada</td>\n",
       "    </tr>\n",
       "    <tr>\n",
       "      <th rowspan=\"3\" valign=\"top\">b4c2e65b-b716-4568-a181-159a9d1276a0</th>\n",
       "      <th>0</th>\n",
       "      <td>USA</td>\n",
       "    </tr>\n",
       "    <tr>\n",
       "      <th>1</th>\n",
       "      <td>Mexico</td>\n",
       "    </tr>\n",
       "    <tr>\n",
       "      <th>2</th>\n",
       "      <td>Canada</td>\n",
       "    </tr>\n",
       "  </tbody>\n",
       "</table>\n",
       "</div>"
      ],
      "text/plain": [
       "\n",
       "                                                                         value\n",
       "schema.Organization._id              schema.Organization.countries.idx        \n",
       "\u001b[93m1010d3c8-c839-4969-a90d-247ea54cea32\u001b[0m \u001b[1;36m0\u001b[0m                                     USA\n",
       "                                     \u001b[1;36m1\u001b[0m                                  Canada\n",
       "\u001b[93m1e041f8b-4f3f-4b81-8070-97f007c52641\u001b[0m \u001b[1;36m0\u001b[0m                                     USA\n",
       "                                     \u001b[1;36m1\u001b[0m                                  Mexico\n",
       "\u001b[93m51dcdcb7-c4d7-4f5c-af20-8386fbb93ebd\u001b[0m \u001b[1;36m0\u001b[0m                                     USA\n",
       "                                     \u001b[1;36m1\u001b[0m                                  Canada\n",
       "\u001b[93m884b25cc-5974-4631-b3b9-794ad5952b75\u001b[0m \u001b[1;36m0\u001b[0m                                     USA\n",
       "                                     \u001b[1;36m1\u001b[0m                                  Mexico\n",
       "\u001b[93ma2662a8b-6f2c-4b20-9d75-96e94c0e5183\u001b[0m \u001b[1;36m0\u001b[0m                                     USA\n",
       "                                     \u001b[1;36m1\u001b[0m                                  Mexico\n",
       "                                     \u001b[1;36m2\u001b[0m                                  Canada\n",
       "\u001b[93mb4c2e65b-b716-4568-a181-159a9d1276a0\u001b[0m \u001b[1;36m0\u001b[0m                                     USA\n",
       "                                     \u001b[1;36m1\u001b[0m                                  Mexico\n",
       "                                     \u001b[1;36m2\u001b[0m                                  Canada"
      ]
     },
     "execution_count": 32,
     "metadata": {},
     "output_type": "execute_result"
    }
   ],
   "source": [
    "import pandas as pd\n",
    "\n",
    "\n",
    "db[Organization.countries].df(pd.DataFrame)"
   ]
  },
  {
   "cell_type": "code",
   "execution_count": 33,
   "metadata": {},
   "outputs": [
    {
     "name": "stdout",
     "output_type": "stream",
     "text": [
      "         535248 function calls (481089 primitive calls) in 1.103 seconds\n",
      "\n",
      "   Ordered by: cumulative time\n",
      "   List reduced from 1779 to 156 due to restriction <'py_research'>\n",
      "\n",
      "   ncalls  tottime  percall  cumtime  percall filename:lineno(function)\n",
      "       18    0.000    0.000    0.462    0.026 C:\\Users\\lworm\\Repos\\py-research\\src\\py_research\\db\\databases.py:1570(__ior__)\n",
      "       18    0.001    0.000    0.461    0.026 C:\\Users\\lworm\\Repos\\py-research\\src\\py_research\\db\\databases.py:3029(_mutate)\n",
      "       11    0.000    0.000    0.455    0.041 C:\\Users\\lworm\\Repos\\py-research\\src\\py_research\\db\\datasources.py:850(load)\n",
      "    36/12    0.001    0.000    0.436    0.036 C:\\Users\\lworm\\Repos\\py-research\\src\\py_research\\db\\datasources.py:664(_load_records)\n",
      "       55    0.001    0.000    0.434    0.008 C:\\Users\\lworm\\Repos\\py-research\\src\\py_research\\db\\datasources.py:699(_load_rec_from_item)\n",
      "       55    0.002    0.000    0.432    0.008 C:\\Users\\lworm\\Repos\\py-research\\src\\py_research\\db\\datasources.py:571(_load_record)\n",
      "       17    0.001    0.000    0.413    0.024 C:\\Users\\lworm\\Repos\\py-research\\src\\py_research\\db\\databases.py:3166(_mutate_from_records)\n",
      "       48    0.001    0.000    0.249    0.005 C:\\Users\\lworm\\Repos\\py-research\\src\\py_research\\db\\databases.py:758(keys)\n",
      "       48    0.002    0.000    0.240    0.005"
     ]
    },
    {
     "name": "stdout",
     "output_type": "stream",
     "text": [
      " C:\\Users\\lworm\\Repos\\py-research\\src\\py_research\\db\\databases.py:941(df)\n",
      "       18    0.000    0.000    0.226    0.013 C:\\Users\\lworm\\Repos\\py-research\\src\\py_research\\db\\databases.py:3003(_df_to_table)\n",
      "19952/11732    0.026    0.000    0.222    0.000 C:\\Users\\lworm\\Repos\\py-research\\src\\py_research\\caching.py:382(__get__)\n",
      "      448    0.004    0.000    0.199    0.000 C:\\Users\\lworm\\Repos\\py-research\\src\\py_research\\db\\databases.py:704(__hash__)\n",
      "16598/481    0.023    0.000    0.171    0.000 C:\\Users\\lworm\\Repos\\py-research\\src\\py_research\\hashing.py:54(inner)\n",
      "16598/481    0.047    0.000    0.167    0.000 C:\\Users\\lworm\\Repos\\py-research\\src\\py_research\\hashing.py:69(gen_int_hash)\n",
      " 1903/507    0.002    0.000    0.163    0.000 C:\\Users\\lworm\\Repos\\py-research\\src\\py_research\\hashing.py:43(_hash_sequence)\n",
      "       18    0.003    0.000    0.160    0.009 C:\\Users\\lworm\\Repos\\py-research\\src\\py_research\\db\\databases.py:3259(_mutate_from_sql)\n",
      "7006/4616    0.015    0.000    0.160    0.000 C:\\Users\\lworm\\Repos\\py-research\\src\\py_research\\hashing.py:44(<lambda>)\n",
      "      151    0.001    0.000    0.133    0.001 C:\\Users\\lworm\\Repos\\py-research\\src\\py_research\\db\\databases.py:1738(__eq__)\n",
      "       49    0.000    0.000    0.116    0.002 C:\\Users\\lworm\\Repos\\py-research\\src\\py_research\\caching.py:364(__call__)\n",
      "       49    0.001    0.000    0.116    0.002 C:\\Users\\lworm\\Repos\\py-research\\src\\py_research\\db\\databases.py:654(select)\n",
      "      114    0.001    0.000    0.058    0.001 C:\\Users\\lworm\\Repos\\py-research\\src\\py_research\\db\\databases.py:2515(_sql_col)\n",
      "       61    0.002    0.000    0.057    0.001 C:\\Users\\lworm\\Repos\\py-research\\src\\py_research\\db\\databases.py:2267(_abs_idx_cols)\n",
      "     3379    0.009    0.000    0.056    0.000 C:\\Users\\lworm\\Repos\\py-research\\src\\py_research\\db\\databases.py:2582(_get_typearg)\n",
      "       49    0.000    0.000    0.055    0.001 C:\\Users\\lworm\\Repos\\py-research\\src\\py_research\\db\\databases.py:2469(_sql_joins)\n",
      "       49    0.000    0.000    0.054    0.001 C:\\Users\\lworm\\Repos\\py-research\\src\\py_research\\db\\databases.py:2419(_total_join_dict)\n",
      "       10    0.001    0.000    0.054    0.005 C:\\Users\\lworm\\Repos\\py-research\\src\\py_research\\telemetry.py:104(tqdm)\n",
      "       49    0.000    0.000    0.053    0.001 C:\\Users\\lworm\\Repos\\py-research\\src\\py_research\\db\\databases.py:2415(_total_joins)\n",
      "       49    0.001    0.000    0.052    0.001 C:\\Users\\lworm\\Repos\\py-research\\src\\py_research\\db\\databases.py:2352(_abs_filters)\n",
      "     8925    0.027    0.000    0.051    0.000 C:\\Users\\lworm\\Repos\\py-research\\src\\py_research\\hashing.py:34(_stable_hash)\n",
      "      163    0.001    0.000    0.045    0.000 C:\\Users\\lworm\\Repos\\py-research\\src\\py_research\\db\\databases.py:2521(_sql_table)\n",
      "    79/70    0.001    0.000    0.043    0.001 C:\\Users\\lworm\\Repos\\py-research\\src\\py_research\\db\\databases.py:2800(_gen_sql_base_table)\n",
      "      465    0.001    0.000    0.043    0.000 C:\\Users\\lworm\\Repos\\py-research\\src\\py_research\\db\\databases.py:4279(__hash__)\n",
      "       18    0.001    0.000    0.043    0.002 C:\\Users\\lworm\\Repos\\py-research\\src\\py_research\\db\\databases.py:2913(_values_to_df)\n",
      "       78    0.000    0.000    0.031    0.000 C:\\Users\\lworm\\Repos\\py-research\\src\\py_research\\db\\databases.py:2724(_visit_filter_col)\n",
      "        1    0.000    0.000    0.028    0.028 C:\\Users\\lworm\\Repos\\py-research\\src\\py_research\\db\\databases.py:3152(_mutate_from_values)\n",
      "      211    0.000    0.000    0.027    0.000 C:\\Users\\lworm\\Repos\\py-research\\src\\py_research\\db\\databases.py:2065(_generic_args)\n",
      "     2516    0.007    0.000    0.026    0.000 C:\\Users\\lworm\\Repos\\py-research\\src\\py_research\\db\\databases.py:2599(_hint_to_typedef)\n",
      "       18    0.001    0.000    0.026    0.001 C:\\Users\\lworm\\Repos\\py-research\\src\\py_research\\db\\databases.py:2959(_gen_upload_table)\n",
      "      211    0.001    0.000    0.025    0.000 C:\\Users\\lworm\\Repos\\py-research\\src\\py_research\\db\\databases.py:2056(_generic_type)\n",
      "     3137    0.003    0.000    0.024    0.000 C:\\Users\\lworm\\Repos\\py-research\\src\\py_research\\db\\databases.py:709(<genexpr>)\n",
      "       36    0.001    0.000    0.022    0.001 C:\\Users\\lworm\\Repos\\py-research\\src\\py_research\\db\\databases.py:4853(__init__)\n",
      "        9    0.000    0.000    0.020    0.002 C:\\Users\\lworm\\Repos\\py-research\\src\\py_research\\db\\databases.py:4345(_create_sqla_table)\n",
      "      206    0.009    0.000    0.020    0.000 C:\\Users\\lworm\\Repos\\py-research\\src\\py_research\\data.py:33(copy_and_override)\n",
      "       52    0.000    0.000    0.017    0.000 C:\\Users\\lworm\\Repos\\py-research\\src\\py_research\\db\\databases.py:2380(<genexpr>)\n",
      "       52    0.000    0.000    0.017    0.000 C:\\Users\\lworm\\Repos\\py-research\\src\\py_research\\db\\databases.py:2383(<genexpr>)\n",
      "       48    0.000    0.000    0.016    0.000 C:\\Users\\lworm\\Repos\\py-research\\src\\py_research\\db\\datasources.py:536(_gen_match_expr)\n",
      "       47    0.000    0.000    0.015    0.000 C:\\Users\\lworm\\Repos\\py-research\\src\\py_research\\db\\datasources.py:554(<genexpr>)\n",
      "      836    0.003    0.000    0.015    0.000 C:\\Users\\lworm\\Repos\\py-research\\src\\py_research\\db\\databases.py:4614(_props)\n",
      "      328    0.001    0.000    0.014    0.000 C:\\Users\\lworm\\Repos\\py-research\\src\\py_research\\reflect\\types.py:56(is_subtype)\n",
      "      218    0.000    0.000    0.013    0.000 C:\\Users\\lworm\\Repos\\py-research\\src\\py_research\\db\\databases.py:2203(_table)\n",
      "     1016    0.004    0.000    0.013    0.000 C:\\Users\\lworm\\Repos\\py-research\\src\\py_research\\db\\databases.py:4604(_class_fk_values)\n",
      "        8    0.000    0.000    0.012    0.002 C:\\Users\\lworm\\Repos\\py-research\\src\\py_research\\db\\datasources.py:290(sub_tables)\n",
      "      175    0.001    0.000    0.012    0.000 C:\\Users\\lworm\\Repos\\py-research\\src\\py_research\\db\\databases.py:2119(_backlink)\n",
      "       12    0.000    0.000    0.012    0.001 C:\\Users\\lworm\\Repos\\py-research\\src\\py_research\\db\\databases.py:2333(_base_table_map)\n",
      "      382    0.000    0.000    0.011    0.000 C:\\Users\\lworm\\Repos\\py-research\\src\\py_research\\db\\databases.py:548(value_type)\n",
      "       85    0.000    0.000    0.011    0.000 C:\\Users\\lworm\\Repos\\py-research\\src\\py_research\\db\\databases.py:553(target_type)\n",
      "       18    0.000    0.000    0.010    0.001 C:\\Users\\lworm\\Repos\\py-research\\src\\py_research\\db\\databases.py:328(_get_pl_schema)\n",
      "        8    0.000    0.000    0.010    0.001 C:\\Users\\lworm\\Repos\\py-research\\src\\py_research\\db\\datasources.py:271(full_map)\n",
      "        7    0.000    0.000    0.010    0.001 C:\\Users\\lworm\\Repos\\py-research\\src\\py_research\\db\\datasources.py:430(_push_to_pull_map)\n",
      "       49    0.000    0.000    0.009    0.000 C:\\Users\\lworm\\Repos\\py-research\\src\\py_research\\db\\databases.py:581(base_type)\n",
      "       59    0.002    0.000    0.009    0.000 C:\\Users\\lworm\\Repos\\py-research\\src\\py_research\\db\\databases.py:1379(__getitem__)\n",
      "      245    0.000    0.000    0.008    0.000 C:\\Users\\lworm\\Repos\\py-research\\src\\py_research\\db\\databases.py:2223(_root)\n",
      "       48    0.001    0.000    0.008    0.000 C:\\Users\\lworm\\Repos\\py-research\\src\\py_research\\db\\databases.py:4961(_is_complete_dict)\n",
      "       61    0.000    0.000    0.007    0.000 C:\\Users\\lworm\\Repos\\py-research\\src\\py_research\\db\\databases.py:534(path)\n",
      "  606/445    0.003    0.000    0.007    0.000 C:\\Users\\lworm\\Repos\\py-research\\src\\py_research\\db\\databases.py:1932(__get__)\n",
      "       13    0.001    0.000    0.006    0.000 C:\\Users\\lworm\\Repos\\py-research\\src\\py_research\\db\\databases.py:2233(_abs_cols)\n",
      "        9    0.000    0.000    0.006    0.001 C:\\Users\\lworm\\Repos\\py-research\\src\\py_research\\db\\databases.py:2766(_gen_sql_base_fks)\n",
      "      174    0.001    0.000    0.006    0.000 C:\\Users\\lworm\\Repos\\py-research\\src\\py_research\\db\\databases.py:570(relation_type)\n",
      "      233    0.001    0.000    0.006    0.000 C:\\Users\\lworm\\Repos\\py-research\\src\\py_research\\db\\databases.py:4655(_values)\n",
      "      254    0.001    0.000    0.005    0.000 C:\\Users\\lworm\\Repos\\py-research\\src\\py_research\\db\\databases.py:4667(_tables)\n",
      "  179/178    0.001    0.000    0.005    0.000 C:\\Users\\lworm\\Repos\\py-research\\src\\py_research\\db\\databases.py:588(fqn)\n",
      "        9    0.000    0.000    0.005    0.001 C:\\Users\\lworm\\Repos\\py-research\\src\\py_research\\db\\databases.py:2743(_gen_sql_base_cols)\n",
      "       48    0.000    0.000    0.005    0.000 C:\\Users\\lworm\\Repos\\py-research\\src\\py_research\\db\\databases.py:4663(_non_fk_values)\n",
      "       16    0.000    0.000    0.005    0.000 C:\\Users\\lworm\\Repos\\py-research\\src\\py_research\\db\\databases.py:5065(__post_init__)\n",
      "     1016    0.003    0.000    0.005    0.000 C:\\Users\\lworm\\Repos\\py-research\\src\\py_research\\db\\databases.py:4593(_class_links)\n",
      "       37    0.000    0.000    0.005    0.000 C:\\Users\\lworm\\Repos\\py-research\\src\\py_research\\db\\databases.py:2696(_prepend_ctx)\n",
      "      304    0.001    0.000    0.005    0.000 C:\\Users\\lworm\\Repos\\py-research\\src\\py_research\\reflect\\types.py:65(has_type)\n",
      "       96    0.000    0.000    0.004    0.000 C:\\Users\\lworm\\Repos\\py-research\\src\\py_research\\db\\datasources.py:206(select)\n",
      "       37    0.000    0.000    0.004    0.000 C:\\Users\\lworm\\Repos\\py-research\\src\\py_research\\db\\databases.py:2712(<lambda>)\n",
      "       81    0.000    0.000    0.004    0.000 C:\\Users\\lworm\\Repos\\py-research\\src\\py_research\\db\\databases.py:563(record_type)\n",
      "      151    0.000    0.000    0.004    0.000 C:\\Users\\lworm\\Repos\\py-research\\src\\py_research\\db\\databases.py:4671(_links)\n",
      "       96    0.001    0.000    0.004    0.000 C:\\Users\\lworm\\Repos\\py-research\\src\\py_research\\db\\datasources.py:103(select)\n",
      "       16    0.000    0.000    0.004    0.000 C:\\Users\\lworm\\Repos\\py-research\\src\\py_research\\hashing.py:143(gen_str_hash)\n",
      "       37    0.001    0.000    0.003    0.000 C:\\Users\\lworm\\Repos\\py-research\\src\\py_research\\db\\databases.py:4939(_to_dict)\n",
      "       96    0.001    0.000    0.003    0.000 C:\\Users\\lworm\\Repos\\py-research\\src\\py_research\\db\\datasources.py:55(_select_on_level)\n",
      "      523    0.000    0.000    0.003    0.000 C:\\Users\\lworm\\Repos\\py-research\\src\\py_research\\hashing.py:109(<genexpr>)\n",
      "      171    0.001    0.000    0.003    0.000 C:\\Users\\lworm\\Repos\\py-research\\src\\py_research\\db\\databases.py:4646(_fk_values)\n",
      "      106    0.001    0.000    0.003    0.000 C:\\Users\\lworm\\Repos\\py-research\\src\\py_research\\db\\databases.py:4624(_pk_values)\n",
      "       61    0.000    0.000    0.003    0.000 C:\\Users\\lworm\\Repos\\py-research\\src\\py_research\\db\\databases.py:2227(_abs_link_path)\n",
      "       68    0.000    0.000    0.002    0.000 C:\\Users\\lworm\\Repos\\py-research\\src\\py_research\\db\\datasources.py:480(_sliding_batch_map)\n",
      "      138    0.000    0.000    0.002    0.000 C:\\Users\\lworm\\Repos\\py-research\\src\\py_research\\db\\databases.py:2091(_ctx_module)\n",
      "  202/166    0.001    0.000    0.002    0.000 C:\\Users\\lworm\\Repos\\py-research\\src\\py_research\\db\\databases.py:1996(__set__)\n",
      "       60    0.000    0.000    0.002    0.000 C:\\Users\\lworm\\Repos\\py-research\\src\\py_research\\db\\databases.py:4659(_col_values)\n",
      "      103    0.000    0.000    0.002    0.000 C:\\Users\\lworm\\Repos\\py-research\\src\\py_research\\db\\databases.py:4675(_arrays)\n",
      "       88    0.000    0.000    0.001    0.000 C:\\Users\\lworm\\Repos\\py-research\\src\\py_research\\db\\databases.py:4801(_get_table_name)\n",
      "       80    0.000    0.000    0.001    0.000 C:\\Users\\lworm\\Repos\\py-research\\src\\py_research\\db\\databases.py:3405(<genexpr>)\n",
      "      131    0.000    0.000    0.001    0.000 C:\\Users\\lworm\\Repos\\py-research\\src\\py_research\\db\\databases.py:3569(name)\n",
      "        1    0.000    0.000    0.001    0.001 C:\\Users\\lworm\\Repos\\py-research\\src\\py_research\\db\\databases.py:3694(relation_type)\n",
      "       88    0.001    0.000    0.001    0.000 C:\\Users\\lworm\\Repos\\py-research\\src\\py_research\\db\\databases.py:4787(_default_table_name)\n",
      "1863/1862    0.001    0.000    0.001    0.000 C:\\Users\\lworm\\Repos\\py-research\\src\\py_research\\db\\databases.py:4493(_get_class_props)\n",
      "      133    0.001    0.000    0.001    0.000 C:\\Users\\lworm\\Repos\\py-research\\src\\py_research\\db\\databases.py:3564(__post_init__)\n",
      "       16    0.000    0.000    0.001    0.000 C:\\Users\\lworm\\Repos\\py-research\\src\\py_research\\db\\databases.py:5055(<lambda>)\n",
      "      138    0.001    0.000    0.001    0.000 C:\\Users\\lworm\\Repos\\py-research\\src\\py_research\\db\\databases.py:2069(_symbolic_ctx)\n",
      "        1    0.000    0.000    0.001    0.001 C:\\Users\\lworm\\Repos\\py-research\\src\\py_research\\db\\databases.py:3878(df_engine)\n",
      "        1    0.000    0.000    0.001    0.001 C:\\Users\\lworm\\Repos\\py-research\\src\\py_research\\db\\databases.py:3865(engine)\n",
      "     3339    0.001    0.000    0.001    0.000 C:\\Users\\lworm\\Repos\\py-research\\src\\py_research\\data.py:82(<genexpr>)\n",
      "     3346    0.001    0.000    0.001    0.000 C:\\Users\\lworm\\Repos\\py-research\\src\\py_research\\data.py:56(<genexpr>)\n",
      "        2    0.000    0.000    0.001    0.000 C:\\Users\\lworm\\Repos\\py-research\\src\\py_research\\db\\databases.py:323(<lambda>)\n",
      "       23    0.000    0.000    0.001    0.000 C:\\Users\\lworm\\Repos\\py-research\\src\\py_research\\db\\databases.py:4225(__getitem__)\n",
      "        1    0.000    0.000    0.001    0.001 C:\\Users\\lworm\\Repos\\py-research\\src\\py_research\\db\\databases.py:5025(dynamic_record_type)\n",
      "      150    0.000    0.000    0.001    0.000 C:\\Users\\lworm\\Repos\\py-research\\src\\py_research\\db\\databases.py:4968(<genexpr>)\n",
      "      467    0.000    0.000    0.001    0.000 C:\\Users\\lworm\\Repos\\py-research\\src\\py_research\\db\\databases.py:3821(db_id)\n",
      "       37    0.000    0.000    0.000    0.000 C:\\Users\\lworm\\Repos\\py-research\\src\\py_research\\db\\databases.py:3175(<lambda>)\n",
      "       77    0.000    0.000    0.000    0.000 C:\\Users\\lworm\\Repos\\py-research\\src\\py_research\\db\\databases.py:4975(<genexpr>)\n",
      "      152    0.000    0.000    0.000    0.000 C:\\Users\\lworm\\Repos\\py-research\\src\\py_research\\db\\databases.py:4679(_fqn)\n",
      "       41    0.000    0.000    0.000    0.000 C:\\Users\\lworm\\Repos\\py-research\\src\\py_research\\db\\databases.py:2902(_gen_fk_value_map)\n",
      "        9    0.000    0.000    0.000    0.000 C:\\Users\\lworm\\Repos\\py-research\\src\\py_research\\db\\databases.py:4633(_class_values)\n",
      "        1    0.000    0.000    0.000    0.000 C:\\Users\\lworm\\Repos\\py-research\\src\\py_research\\db\\databases.py:4444(__init__)\n",
      "       61    0.000    0.000    0.000    0.000 C:\\Users\\lworm\\Repos\\py-research\\src\\py_research\\db\\databases.py:2168(_link)\n",
      "       37    0.000    0.000    0.000    0.000 C:\\Users\\lworm\\Repos\\py-research\\src\\py_research\\db\\databases.py:3177(<lambda>)\n",
      "      204    0.000    0.000    0.000    0.000 C:\\Users\\lworm\\Repos\\py-research\\src\\py_research\\db\\databases.py:2078(_ctx_table)\n",
      "        6    0.000    0.000    0.000    0.000 C:\\Users\\lworm\\Repos\\py-research\\src\\py_research\\db\\datasources.py:350(select)\n",
      "        7    0.000    0.000    0.000    0.000 C:\\Users\\lworm\\Repos\\py-research\\src\\py_research\\db\\datasources.py:406(_parse_pushmap)\n",
      "       49    0.000    0.000    0.000    0.000 C:\\Users\\lworm\\Repos\\py-research\\src\\py_research\\db\\databases.py:2505(_sql_filters)\n",
      "      836    0.000    0.000    0.000    0.000 C:\\Users\\lworm\\Repos\\py-research\\src\\py_research\\db\\databases.py:4620(<genexpr>)\n",
      "      223    0.000    0.000    0.000    0.000 C:\\Users\\lworm\\Repos\\py-research\\src\\py_research\\db\\databases.py:2649(_hint_to_type)\n",
      "       28    0.000    0.000    0.000    0.000 C:\\Users\\lworm\\Repos\\py-research\\src\\py_research\\db\\databases.py:607(ctx)\n",
      "      183    0.000    0.000    0.000    0.000 C:\\Users\\lworm\\Repos\\py-research\\src\\py_research\\db\\databases.py:521(db)\n",
      "       49    0.000    0.000    0.000    0.000 C:\\Users\\lworm\\Repos\\py-research\\src\\py_research\\db\\databases.py:2403(_abs_joins)\n",
      "       82    0.000    0.000    0.000    0.000 C:\\Users\\lworm\\Repos\\py-research\\src\\py_research\\db\\databases.py:4976(<genexpr>)\n",
      "        1    0.000    0.000    0.000    0.000 C:\\Users\\lworm\\Repos\\py-research\\src\\py_research\\db\\databases.py:4780(__init_subclass__)\n",
      "      107    0.000    0.000    0.000    0.000 C:\\Users\\lworm\\Repos\\py-research\\src\\py_research\\db\\datasources.py:265(record_type)\n",
      "      134    0.000    0.000    0.000    0.000 C:\\Users\\lworm\\Repos\\py-research\\src\\py_research\\db\\databases.py:543(name)\n",
      "        1    0.000    0.000    0.000    0.000 C:\\Users\\lworm\\Repos\\py-research\\src\\py_research\\db\\databases.py:3766(__post_init__)\n",
      "      6/1    0.000    0.000    0.000    0.000 C:\\Users\\lworm\\Repos\\py-research\\src\\py_research\\db\\databases.py:4423(_get_typevar_map)\n",
      "       18    0.000    0.000    0.000    0.000 C:\\Users\\lworm\\Repos\\py-research\\src\\py_research\\db\\databases.py:4331(_get_valid_cache_set)\n",
      "      171    0.000    0.000    0.000    0.000 C:\\Users\\lworm\\Repos\\py-research\\src\\py_research\\db\\databases.py:4651(<genexpr>)\n",
      "        8    0.000    0.000    0.000    0.000 C:\\Users\\lworm\\Repos\\py-research\\src\\py_research\\db\\datasources.py:400(__post_init__)\n",
      "      8/3    0.000    0.000    0.000    0.000 C:\\Users\\lworm\\Repos\\py-research\\src\\py_research\\db\\databases.py:4440(<genexpr>)\n",
      "        2    0.000    0.000    0.000    0.000 C:\\Users\\lworm\\Repos\\py-research\\src\\py_research\\db\\databases.py:3308(<genexpr>)\n",
      "        3    0.000    0.000    0.000    0.000 C:\\Users\\lworm\\Repos\\py-research\\src\\py_research\\db\\databases.py:3232(_mutate_rels_from_rec_ids)\n",
      "       44    0.000    0.000    0.000    0.000 C:\\Users\\lworm\\Repos\\py-research\\src\\py_research\\db\\datasources.py:356(<genexpr>)\n",
      "        1    0.000    0.000    0.000    0.000 C:\\Users\\lworm\\Repos\\py-research\\src\\py_research\\db\\databases.py:3838(backend_type)\n",
      "       20    0.000    0.000    0.000    0.000 C:\\Users\\lworm\\Repos\\py-research\\src\\py_research\\db\\databases.py:4910(__post_init__)\n",
      "        1    0.000    0.000    0.000    0.000 C:\\Users\\lworm\\Repos\\py-research\\src\\py_research\\db\\databases.py:3686(_key_type)\n",
      "        2    0.000    0.000    0.000    0.000 C:\\Users\\lworm\\Repos\\py-research\\src\\py_research\\db\\databases.py:3277(<genexpr>)\n",
      "        4    0.000    0.000    0.000    0.000 C:\\Users\\lworm\\Repos\\py-research\\src\\py_research\\db\\datasources.py:421(_get_selector_name)\n",
      "        4    0.000    0.000    0.000    0.000 C:\\Users\\lworm\\Repos\\py-research\\src\\py_research\\db\\databases.py:4485(_super_types)\n",
      "        1    0.000    0.000    0.000    0.000 C:\\Users\\lworm\\Repos\\py-research\\src\\py_research\\db\\databases.py:5039(<lambda>)\n",
      "        1    0.000    0.000    0.000    0.000 C:\\Users\\lworm\\Repos\\py-research\\src\\py_research\\db\\databases.py:2213(_rel)\n",
      "        1    0.000    0.000    0.000    0.000 C:\\Users\\lworm\\Repos\\py-research\\src\\py_research\\db\\databases.py:4289(_schema_map)\n",
      "        2    0.000    0.000    0.000    0.000 C:\\Users\\lworm\\Repos\\py-research\\src\\py_research\\db\\databases.py:4439(<lambda>)\n",
      "        1    0.000    0.000    0.000    0.000 C:\\Users\\lworm\\Repos\\py-research\\src\\py_research\\db\\datasources.py:186(parse)\n",
      "        1    0.000    0.000    0.000    0.000 C:\\Users\\lworm\\Repos\\py-research\\src\\py_research\\db\\datasources.py:877(<genexpr>)\n",
      "        1    0.000    0.000    0.000    0.000 C:\\Users\\lworm\\Repos\\py-research\\src\\py_research\\db\\databases.py:1838(__setitem__)\n",
      "        1    0.000    0.000    0.000    0.000 C:\\Users\\lworm\\Repos\\py-research\\src\\py_research\\db\\databases.py:4240(__setitem__)\n",
      "\n",
      "\n"
     ]
    },
    {
     "data": {
      "text/html": [
       "<pre style=\"white-space:pre;overflow-x:auto;line-height:normal;font-family:Menlo,'DejaVu Sans Mono',consolas,'Courier New',monospace\"></pre>\n"
      ],
      "text/plain": []
     },
     "metadata": {},
     "output_type": "display_data"
    },
    {
     "data": {
      "text/plain": [
       "\u001b[1m<\u001b[0m\u001b[1;95mpstats.Stats\u001b[0m\u001b[39m object at \u001b[0m\u001b[1;36m0x0000022847701E20\u001b[0m\u001b[1m>\u001b[0m"
      ]
     },
     "execution_count": 33,
     "metadata": {},
     "output_type": "execute_result"
    }
   ],
   "source": [
    "stats.sort_stats(\"cumulative\")\n",
    "stats.print_stats(\"py_research\")"
   ]
  }
 ],
 "metadata": {
  "kernelspec": {
   "display_name": ".venv",
   "language": "python",
   "name": "python3"
  },
  "language_info": {
   "codemirror_mode": {
    "name": "ipython",
    "version": 3
   },
   "file_extension": ".py",
   "mimetype": "text/x-python",
   "name": "python",
   "nbconvert_exporter": "python",
   "pygments_lexer": "ipython3",
   "version": "3.12.4"
  }
 },
 "nbformat": 4,
 "nbformat_minor": 2
}

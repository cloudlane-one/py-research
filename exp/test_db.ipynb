{
 "cells": [
  {
   "cell_type": "code",
   "execution_count": 1,
   "metadata": {},
   "outputs": [],
   "source": [
    "from __future__ import annotations\n",
    "\n",
    "import json\n",
    "import cProfile\n",
    "import pstats"
   ]
  },
  {
   "cell_type": "code",
   "execution_count": 2,
   "metadata": {},
   "outputs": [],
   "source": [
    "from py_research.db import (\n",
    "    DataSource,\n",
    "    RecMap,\n",
    "    RelMap,\n",
    "    SubMap,\n",
    "    SelIndex\n",
    ")"
   ]
  },
  {
   "cell_type": "code",
   "execution_count": 3,
   "metadata": {},
   "outputs": [],
   "source": [
    "from test_db_schema import Search, Project, Task, User, Membership, Organization"
   ]
  },
  {
   "cell_type": "code",
   "execution_count": 4,
   "metadata": {},
   "outputs": [],
   "source": [
    "data_source = DataSource(\n",
    "    rec=Search,\n",
    "    use_cache=False,\n",
    "    push={\n",
    "        \"resultCount\": Search.result_count,\n",
    "        \"search\": Search.term,\n",
    "        \"results\": RelMap(\n",
    "            rel=Search.results,\n",
    "            push={\n",
    "                \"project_name\": Project.name,\n",
    "                \"project_start\": Project.start,\n",
    "                \"project_end\": Project.end,\n",
    "                \"project_status\": Project.status,\n",
    "                \"tasks\": RelMap(\n",
    "                    rel=Project.tasks,\n",
    "                    push={\n",
    "                        \"task_name\": Task.name,\n",
    "                        \"task_assignees\": RelMap(\n",
    "                            rel=Task.assignees,\n",
    "                            push=User.name,\n",
    "                            match=User.name,\n",
    "                        ),\n",
    "                        \"task_status\": Task.status,\n",
    "                    },\n",
    "                ),\n",
    "                \"members\": RelMap(\n",
    "                    rel=Project.members,\n",
    "                    push={User.name, User.age},\n",
    "                    link=RecMap(\n",
    "                        push={\n",
    "                            Membership.role,\n",
    "                        },\n",
    "                    ),\n",
    "                ),\n",
    "            },\n",
    "            pull={\n",
    "                Project.org: SubMap(\n",
    "                    push={\n",
    "                        \"organization_name\": Organization.name,\n",
    "                        \"organization_address\": Organization.address,\n",
    "                        \"organization_city\": Organization.city,\n",
    "                    },\n",
    "                ),\n",
    "                Project.number: SelIndex()\n",
    "            },\n",
    "        ),\n",
    "    },\n",
    ")"
   ]
  },
  {
   "cell_type": "code",
   "execution_count": 5,
   "metadata": {},
   "outputs": [],
   "source": [
    "with open(\"./nested_data.json\") as f:\n",
    "    data = json.load(f)"
   ]
  },
  {
   "cell_type": "code",
   "execution_count": 6,
   "metadata": {},
   "outputs": [],
   "source": [
    "with cProfile.Profile() as pr:\n",
    "  rec = data_source.load(data)\n",
    "  db = data_source.cache\n",
    "  \n",
    "  stats = pstats.Stats(pr)"
   ]
  },
  {
   "cell_type": "code",
   "execution_count": 7,
   "metadata": {},
   "outputs": [
    {
     "data": {
      "text/html": [
       "<pre style=\"white-space:pre;overflow-x:auto;line-height:normal;font-family:Menlo,'DejaVu Sans Mono',consolas,'Courier New',monospace\"></pre>\n"
      ],
      "text/plain": []
     },
     "metadata": {},
     "output_type": "display_data"
    },
    {
     "data": {
      "text/plain": [
       "\u001b[1m{\u001b[0m\u001b[32m'term'\u001b[0m: \u001b[32m'test'\u001b[0m, \u001b[32m'result_count'\u001b[0m: \u001b[1;36m3\u001b[0m, \u001b[32m'results'\u001b[0m: \u001b[1m[\u001b[0m\u001b[1m{\u001b[0m\u001b[32m'number'\u001b[0m: \u001b[1;36m0\u001b[0m, \u001b[32m'name'\u001b[0m: \u001b[32m'baking cake'\u001b[0m, \u001b[32m'start'\u001b[0m: \u001b[32m'2020-01-01'\u001b[0m, \u001b[32m'end'\u001b[0m: \u001b[32m'2020-01-04'\u001b[0m, \u001b[32m'status'\u001b[0m: \u001b[32m'done'\u001b[0m, \u001b[32m'org'\u001b[0m: \u001b[1m{\u001b[0m\u001b[32m'name'\u001b[0m: \u001b[32m'Bakery'\u001b[0m, \u001b[32m'address'\u001b[0m: \u001b[32m'Main Street 1'\u001b[0m, \u001b[32m'city'\u001b[0m: \u001b[32m'Bakerville'\u001b[0m, \u001b[32m'projects'\u001b[0m: \u001b[1m<\u001b[0m\u001b[1;95mLoadStatus.unloaded:\u001b[0m\u001b[39m \u001b[0m\u001b[1;36m1\u001b[0m\u001b[39m>, \u001b[0m\u001b[32m'_id'\u001b[0m\u001b[39m: <LoadStatus.unloaded: \u001b[0m\u001b[1;36m1\u001b[0m\u001b[39m>\u001b[0m\u001b[1;39m}\u001b[0m\u001b[39m, \u001b[0m\u001b[32m'tasks'\u001b[0m\u001b[39m: \u001b[0m\u001b[1;39m[\u001b[0m\u001b[1;39m{\u001b[0m\u001b[32m'name'\u001b[0m\u001b[39m: \u001b[0m\u001b[32m'task1'\u001b[0m\u001b[39m, \u001b[0m\u001b[32m'project'\u001b[0m\u001b[39m: <LoadStatus.unloaded: \u001b[0m\u001b[1;36m1\u001b[0m\u001b[39m>, \u001b[0m\u001b[32m'assignees'\u001b[0m\u001b[39m: \u001b[0m\u001b[1;39m[\u001b[0m\u001b[1;39m{\u001b[0m\u001b[32m'name'\u001b[0m\u001b[39m: \u001b[0m\u001b[32m'John'\u001b[0m\u001b[39m, \u001b[0m\u001b[32m'age'\u001b[0m\u001b[39m: <LoadStatus.unloaded: \u001b[0m\u001b[1;36m1\u001b[0m\u001b[39m>, \u001b[0m\u001b[32m'tasks'\u001b[0m\u001b[39m: <LoadStatus.unloaded: \u001b[0m\u001b[1;36m1\u001b[0m\u001b[39m>, \u001b[0m\u001b[32m'_id'\u001b[0m\u001b[39m: <LoadStatus.unloaded: \u001b[0m\u001b[1;36m1\u001b[0m\u001b[39m>\u001b[0m\u001b[1;39m}\u001b[0m\u001b[1;39m]\u001b[0m\u001b[39m, \u001b[0m\u001b[32m'status'\u001b[0m\u001b[39m: \u001b[0m\u001b[32m'todo'\u001b[0m\u001b[39m, \u001b[0m\u001b[32m'_id'\u001b[0m\u001b[39m: <LoadStatus.unloaded: \u001b[0m\u001b[1;36m1\u001b[0m\u001b[39m>\u001b[0m\u001b[1;39m}\u001b[0m\u001b[39m, \u001b[0m\u001b[1;39m{\u001b[0m\u001b[32m'name'\u001b[0m\u001b[39m: \u001b[0m\u001b[32m'task2'\u001b[0m\u001b[39m, \u001b[0m\u001b[32m'project'\u001b[0m\u001b[39m: <LoadStatus.unloaded: \u001b[0m\u001b[1;36m1\u001b[0m\u001b[39m>, \u001b[0m\u001b[32m'assignees'\u001b[0m\u001b[39m: \u001b[0m\u001b[1;39m[\u001b[0m\u001b[1;39m{\u001b[0m\u001b[32m'name'\u001b[0m\u001b[39m: \u001b[0m\u001b[32m'John'\u001b[0m\u001b[39m, \u001b[0m\u001b[32m'age'\u001b[0m\u001b[39m: <LoadStatus.unloaded: \u001b[0m\u001b[1;36m1\u001b[0m\u001b[39m>, \u001b[0m\u001b[32m'tasks'\u001b[0m\u001b[39m: <LoadStatus.unloaded: \u001b[0m\u001b[1;36m1\u001b[0m\u001b[39m>, \u001b[0m\u001b[32m'_id'\u001b[0m\u001b[39m: <LoadStatus.unloaded: \u001b[0m\u001b[1;36m1\u001b[0m\u001b[39m>\u001b[0m\u001b[1;39m}\u001b[0m\u001b[1;39m]\u001b[0m\u001b[39m, \u001b[0m\u001b[32m'status'\u001b[0m\u001b[39m: \u001b[0m\u001b[32m'todo'\u001b[0m\u001b[39m, \u001b[0m\u001b[32m'_id'\u001b[0m\u001b[39m: <LoadStatus.unloaded: \u001b[0m\u001b[1;36m1\u001b[0m\u001b[39m>\u001b[0m\u001b[1;39m}\u001b[0m\u001b[39m, \u001b[0m\u001b[1;39m{\u001b[0m\u001b[32m'name'\u001b[0m\u001b[39m: \u001b[0m\u001b[32m'task3'\u001b[0m\u001b[39m, \u001b[0m\u001b[32m'project'\u001b[0m\u001b[39m: <LoadStatus.unloaded: \u001b[0m\u001b[1;36m1\u001b[0m\u001b[39m>, \u001b[0m\u001b[32m'assignees'\u001b[0m\u001b[39m: \u001b[0m\u001b[1;39m[\u001b[0m\u001b[1;39m{\u001b[0m\u001b[32m'name'\u001b[0m\u001b[39m: \u001b[0m\u001b[32m'Jane'\u001b[0m\u001b[39m, \u001b[0m\u001b[32m'age'\u001b[0m\u001b[39m: <LoadStatus.unloaded: \u001b[0m\u001b[1;36m1\u001b[0m\u001b[39m>, \u001b[0m\u001b[32m'tasks'\u001b[0m\u001b[39m: <LoadStatus.unloaded: \u001b[0m\u001b[1;36m1\u001b[0m\u001b[39m>, \u001b[0m\u001b[32m'_id'\u001b[0m\u001b[39m: <LoadStatus.unloaded: \u001b[0m\u001b[1;36m1\u001b[0m\u001b[39m>\u001b[0m\u001b[1;39m}\u001b[0m\u001b[1;39m]\u001b[0m\u001b[39m, \u001b[0m\u001b[32m'status'\u001b[0m\u001b[39m: \u001b[0m\u001b[32m'done'\u001b[0m\u001b[39m, \u001b[0m\u001b[32m'_id'\u001b[0m\u001b[39m: <LoadStatus.unloaded: \u001b[0m\u001b[1;36m1\u001b[0m\u001b[39m>\u001b[0m\u001b[1;39m}\u001b[0m\u001b[1;39m]\u001b[0m\u001b[39m, \u001b[0m\u001b[32m'members'\u001b[0m\u001b[39m: \u001b[0m\u001b[1;39m[\u001b[0m\u001b[1;39m{\u001b[0m\u001b[32m'name'\u001b[0m\u001b[39m: \u001b[0m\u001b[32m'John'\u001b[0m\u001b[39m, \u001b[0m\u001b[32m'age'\u001b[0m\u001b[39m: \u001b[0m\u001b[1;36m20\u001b[0m\u001b[39m, \u001b[0m\u001b[32m'tasks'\u001b[0m\u001b[39m: <LoadStatus.unloaded: \u001b[0m\u001b[1;36m1\u001b[0m\u001b[39m>, \u001b[0m\u001b[32m'_id'\u001b[0m\u001b[39m: <LoadStatus.unloaded: \u001b[0m\u001b[1;36m1\u001b[0m\u001b[39m>\u001b[0m\u001b[1;39m}\u001b[0m\u001b[39m, \u001b[0m\u001b[1;39m{\u001b[0m\u001b[32m'name'\u001b[0m\u001b[39m: \u001b[0m\u001b[32m'John'\u001b[0m\u001b[39m, \u001b[0m\u001b[32m'age'\u001b[0m\u001b[39m: \u001b[0m\u001b[1;36m20\u001b[0m\u001b[39m, \u001b[0m\u001b[32m'tasks'\u001b[0m\u001b[39m: <LoadStatus.unloaded: \u001b[0m\u001b[1;36m1\u001b[0m\u001b[39m>, \u001b[0m\u001b[32m'_id'\u001b[0m\u001b[39m: <LoadStatus.unloaded: \u001b[0m\u001b[1;36m1\u001b[0m\u001b[39m>\u001b[0m\u001b[1;39m}\u001b[0m\u001b[1;39m]\u001b[0m\u001b[1;39m}\u001b[0m\u001b[39m, \u001b[0m\u001b[1;39m{\u001b[0m\u001b[32m'number'\u001b[0m\u001b[39m: \u001b[0m\u001b[1;36m1\u001b[0m\u001b[39m, \u001b[0m\u001b[32m'name'\u001b[0m\u001b[39m: \u001b[0m\u001b[32m'cleaning shoes'\u001b[0m\u001b[39m, \u001b[0m\u001b[32m'start'\u001b[0m\u001b[39m: \u001b[0m\u001b[32m'2020-01-02'\u001b[0m\u001b[39m, \u001b[0m\u001b[32m'end'\u001b[0m\u001b[39m: \u001b[0m\u001b[32m'2020-01-05'\u001b[0m\u001b[39m, \u001b[0m\u001b[32m'status'\u001b[0m\u001b[39m: \u001b[0m\u001b[32m'done'\u001b[0m\u001b[39m, \u001b[0m\u001b[32m'org'\u001b[0m\u001b[39m: \u001b[0m\u001b[1;39m{\u001b[0m\u001b[32m'name'\u001b[0m\u001b[39m: \u001b[0m\u001b[32m'Shoe Shop'\u001b[0m\u001b[39m, \u001b[0m\u001b[32m'address'\u001b[0m\u001b[39m: \u001b[0m\u001b[32m'Main Street 2'\u001b[0m\u001b[39m, \u001b[0m\u001b[32m'city'\u001b[0m\u001b[39m: \u001b[0m\u001b[32m'Shoetown'\u001b[0m\u001b[39m, \u001b[0m\u001b[32m'projects'\u001b[0m\u001b[39m: <LoadStatus.unloaded: \u001b[0m\u001b[1;36m1\u001b[0m\u001b[39m>, \u001b[0m\u001b[32m'_id'\u001b[0m\u001b[39m: <LoadStatus.unloaded: \u001b[0m\u001b[1;36m1\u001b[0m\u001b[39m>\u001b[0m\u001b[1;39m}\u001b[0m\u001b[39m, \u001b[0m\u001b[32m'tasks'\u001b[0m\u001b[39m: \u001b[0m\u001b[1;39m[\u001b[0m\u001b[1;39m{\u001b[0m\u001b[32m'name'\u001b[0m\u001b[39m: \u001b[0m\u001b[32m'task4'\u001b[0m\u001b[39m, \u001b[0m\u001b[32m'project'\u001b[0m\u001b[39m: <LoadStatus.unloaded: \u001b[0m\u001b[1;36m1\u001b[0m\u001b[39m>, \u001b[0m\u001b[32m'assignees'\u001b[0m\u001b[39m: \u001b[0m\u001b[1;39m[\u001b[0m\u001b[1;39m{\u001b[0m\u001b[32m'name'\u001b[0m\u001b[39m: \u001b[0m\u001b[32m'John'\u001b[0m\u001b[39m, \u001b[0m\u001b[32m'age'\u001b[0m\u001b[39m: <LoadStatus.unloaded: \u001b[0m\u001b[1;36m1\u001b[0m\u001b[39m>, \u001b[0m\u001b[32m'tasks'\u001b[0m\u001b[39m: <LoadStatus.unloaded: \u001b[0m\u001b[1;36m1\u001b[0m\u001b[39m>, \u001b[0m\u001b[32m'_id'\u001b[0m\u001b[39m: <LoadStatus.unloaded: \u001b[0m\u001b[1;36m1\u001b[0m\u001b[39m>\u001b[0m\u001b[1;39m}\u001b[0m\u001b[1;39m]\u001b[0m\u001b[39m, \u001b[0m\u001b[32m'status'\u001b[0m\u001b[39m: \u001b[0m\u001b[32m'todo'\u001b[0m\u001b[39m, \u001b[0m\u001b[32m'_id'\u001b[0m\u001b[39m: <LoadStatus.unloaded: \u001b[0m\u001b[1;36m1\u001b[0m\u001b[39m>\u001b[0m\u001b[1;39m}\u001b[0m\u001b[39m, \u001b[0m\u001b[1;39m{\u001b[0m\u001b[32m'name'\u001b[0m\u001b[39m: \u001b[0m\u001b[32m'task5'\u001b[0m\u001b[39m, \u001b[0m\u001b[32m'project'\u001b[0m\u001b[39m: <LoadStatus.unloaded: \u001b[0m\u001b[1;36m1\u001b[0m\u001b[39m>, \u001b[0m\u001b[32m'assignees'\u001b[0m\u001b[39m: \u001b[0m\u001b[1;39m[\u001b[0m\u001b[1;39m{\u001b[0m\u001b[32m'name'\u001b[0m\u001b[39m: \u001b[0m\u001b[32m'Jane'\u001b[0m\u001b[39m, \u001b[0m\u001b[32m'age'\u001b[0m\u001b[39m: <LoadStatus.unloaded: \u001b[0m\u001b[1;36m1\u001b[0m\u001b[39m>, \u001b[0m\u001b[32m'tasks'\u001b[0m\u001b[39m: <LoadStatus.unloaded: \u001b[0m\u001b[1;36m1\u001b[0m\u001b[39m>, \u001b[0m\u001b[32m'_id'\u001b[0m\u001b[39m: <LoadStatus.unloaded: \u001b[0m\u001b[1;36m1\u001b[0m\u001b[39m>\u001b[0m\u001b[1;39m}\u001b[0m\u001b[1;39m]\u001b[0m\u001b[39m, \u001b[0m\u001b[32m'status'\u001b[0m\u001b[39m: \u001b[0m\u001b[32m'todo'\u001b[0m\u001b[39m, \u001b[0m\u001b[32m'_id'\u001b[0m\u001b[39m: <LoadStatus.unloaded: \u001b[0m\u001b[1;36m1\u001b[0m\u001b[39m>\u001b[0m\u001b[1;39m}\u001b[0m\u001b[1;39m]\u001b[0m\u001b[39m, \u001b[0m\u001b[32m'members'\u001b[0m\u001b[39m: \u001b[0m\u001b[1;39m[\u001b[0m\u001b[1;39m{\u001b[0m\u001b[32m'name'\u001b[0m\u001b[39m: \u001b[0m\u001b[32m'John'\u001b[0m\u001b[39m, \u001b[0m\u001b[32m'age'\u001b[0m\u001b[39m: \u001b[0m\u001b[1;36m20\u001b[0m\u001b[39m, \u001b[0m\u001b[32m'tasks'\u001b[0m\u001b[39m: <LoadStatus.unloaded: \u001b[0m\u001b[1;36m1\u001b[0m\u001b[39m>, \u001b[0m\u001b[32m'_id'\u001b[0m\u001b[39m: <LoadStatus.unloaded: \u001b[0m\u001b[1;36m1\u001b[0m\u001b[39m>\u001b[0m\u001b[1;39m}\u001b[0m\u001b[39m, \u001b[0m\u001b[1;39m{\u001b[0m\u001b[32m'name'\u001b[0m\u001b[39m: \u001b[0m\u001b[32m'Jane'\u001b[0m\u001b[39m, \u001b[0m\u001b[32m'age'\u001b[0m\u001b[39m: \u001b[0m\u001b[1;36m30\u001b[0m\u001b[39m, \u001b[0m\u001b[32m'tasks'\u001b[0m\u001b[39m: <LoadStatus.unloaded: \u001b[0m\u001b[1;36m1\u001b[0m\u001b[39m>, \u001b[0m\u001b[32m'_id'\u001b[0m\u001b[39m: <LoadStatus.unloaded: \u001b[0m\u001b[1;36m1\u001b[0m\u001b[39m>\u001b[0m\u001b[1;39m}\u001b[0m\u001b[1;39m]\u001b[0m\u001b[1;39m}\u001b[0m\u001b[39m, \u001b[0m\u001b[1;39m{\u001b[0m\u001b[32m'number'\u001b[0m\u001b[39m: \u001b[0m\u001b[1;36m2\u001b[0m\u001b[39m, \u001b[0m\u001b[32m'name'\u001b[0m\u001b[39m: \u001b[0m\u001b[32m'fixing cars'\u001b[0m\u001b[39m, \u001b[0m\u001b[32m'start'\u001b[0m\u001b[39m: \u001b[0m\u001b[32m'2020-01-03'\u001b[0m\u001b[39m, \u001b[0m\u001b[32m'end'\u001b[0m\u001b[39m: \u001b[0m\u001b[32m'2020-01-06'\u001b[0m\u001b[39m, \u001b[0m\u001b[32m'status'\u001b[0m\u001b[39m: \u001b[0m\u001b[32m'started'\u001b[0m\u001b[39m, \u001b[0m\u001b[32m'org'\u001b[0m\u001b[39m: \u001b[0m\u001b[1;39m{\u001b[0m\u001b[32m'name'\u001b[0m\u001b[39m: \u001b[0m\u001b[32m'Car Shop'\u001b[0m\u001b[39m, \u001b[0m\u001b[32m'address'\u001b[0m\u001b[39m: \u001b[0m\u001b[32m'Main Street 3'\u001b[0m\u001b[39m, \u001b[0m\u001b[32m'city'\u001b[0m\u001b[39m: \u001b[0m\u001b[32m'Cartown'\u001b[0m\u001b[39m, \u001b[0m\u001b[32m'projects'\u001b[0m\u001b[39m: <LoadStatus.unloaded: \u001b[0m\u001b[1;36m1\u001b[0m\u001b[39m>, \u001b[0m\u001b[32m'_id'\u001b[0m\u001b[39m: <LoadStatus.unloaded: \u001b[0m\u001b[1;36m1\u001b[0m\u001b[39m>\u001b[0m\u001b[1;39m}\u001b[0m\u001b[39m, \u001b[0m\u001b[32m'tasks'\u001b[0m\u001b[39m: \u001b[0m\u001b[1;39m[\u001b[0m\u001b[1;39m{\u001b[0m\u001b[32m'name'\u001b[0m\u001b[39m: \u001b[0m\u001b[32m'task6'\u001b[0m\u001b[39m, \u001b[0m\u001b[32m'project'\u001b[0m\u001b[39m: <LoadStatus.unloaded: \u001b[0m\u001b[1;36m1\u001b[0m\u001b[39m>, \u001b[0m\u001b[32m'assignees'\u001b[0m\u001b[39m: \u001b[0m\u001b[1;39m[\u001b[0m\u001b[1;39m{\u001b[0m\u001b[32m'name'\u001b[0m\u001b[39m: \u001b[0m\u001b[32m'John'\u001b[0m\u001b[39m, \u001b[0m\u001b[32m'age'\u001b[0m\u001b[39m: <LoadStatus.unloaded: \u001b[0m\u001b[1;36m1\u001b[0m\u001b[39m>, \u001b[0m\u001b[32m'tasks'\u001b[0m\u001b[39m: <LoadStatus.unloaded: \u001b[0m\u001b[1;36m1\u001b[0m\u001b[39m>, \u001b[0m\u001b[32m'_id'\u001b[0m\u001b[39m: <LoadStatus.unloaded: \u001b[0m\u001b[1;36m1\u001b[0m\u001b[39m>\u001b[0m\u001b[1;39m}\u001b[0m\u001b[1;39m]\u001b[0m\u001b[39m, \u001b[0m\u001b[32m'status'\u001b[0m\u001b[39m: \u001b[0m\u001b[32m'todo'\u001b[0m\u001b[39m, \u001b[0m\u001b[32m'_id'\u001b[0m\u001b[39m: <LoadStatus.unloaded: \u001b[0m\u001b[1;36m1\u001b[0m\u001b[39m>\u001b[0m\u001b[1;39m}\u001b[0m\u001b[1;39m]\u001b[0m\u001b[39m, \u001b[0m\u001b[32m'members'\u001b[0m\u001b[39m: \u001b[0m\u001b[1;39m[\u001b[0m\u001b[1;39m{\u001b[0m\u001b[32m'name'\u001b[0m\u001b[39m: \u001b[0m\u001b[32m'John'\u001b[0m\u001b[39m, \u001b[0m\u001b[32m'age'\u001b[0m\u001b[39m: \u001b[0m\u001b[1;36m20\u001b[0m\u001b[39m, \u001b[0m\u001b[32m'tasks'\u001b[0m\u001b[39m: <LoadStatus.unloaded: \u001b[0m\u001b[1;36m1\u001b[0m\u001b[39m>, \u001b[0m\u001b[32m'_id'\u001b[0m\u001b[39m: <LoadStatus.unloaded: \u001b[0m\u001b[1;36m1\u001b[0m\u001b[39m>\u001b[0m\u001b[1;39m}\u001b[0m\u001b[39m, \u001b[0m\u001b[1;39m{\u001b[0m\u001b[32m'name'\u001b[0m\u001b[39m: \u001b[0m\u001b[32m'Jane'\u001b[0m\u001b[39m, \u001b[0m\u001b[32m'age'\u001b[0m\u001b[39m: \u001b[0m\u001b[1;36m30\u001b[0m\u001b[39m, \u001b[0m\u001b[32m'tasks'\u001b[0m\u001b[39m: <LoadStatus.unloaded: \u001b[0m\u001b[1;36m1\u001b[0m\u001b[39m>, \u001b[0m\u001b[32m'_id'\u001b[0m\u001b[39m: <LoadStatus.unloaded: \u001b[0m\u001b[1;36m1\u001b[0m\u001b[39m>\u001b[0m\u001b[1;39m}\u001b[0m\u001b[39m, \u001b[0m\u001b[1;39m{\u001b[0m\u001b[32m'name'\u001b[0m\u001b[39m: \u001b[0m\u001b[32m'Jack'\u001b[0m\u001b[39m, \u001b[0m\u001b[32m'age'\u001b[0m\u001b[39m: \u001b[0m\u001b[1;36m40\u001b[0m\u001b[39m, \u001b[0m\u001b[32m'tasks'\u001b[0m\u001b[39m: <LoadStatus.unloaded: \u001b[0m\u001b[1;36m1\u001b[0m\u001b[39m>, \u001b[0m\u001b[32m'_id'\u001b[0m\u001b[39m: <LoadStatus.unloaded: \u001b[0m\u001b[1;36m1\u001b[0m\u001b[1m>\u001b[0m\u001b[1m}\u001b[0m\u001b[1m]\u001b[0m\u001b[1m}\u001b[0m\u001b[1m]\u001b[0m\u001b[1m}\u001b[0m"
      ]
     },
     "execution_count": 7,
     "metadata": {},
     "output_type": "execute_result"
    }
   ],
   "source": [
    "rec"
   ]
  },
  {
   "cell_type": "code",
   "execution_count": 8,
   "metadata": {},
   "outputs": [
    {
     "name": "stdout",
     "output_type": "stream",
     "text": [
      "         375098 function calls (324274 primitive calls) in 0.326 seconds\n",
      "\n",
      "   Ordered by: cumulative time\n",
      "   List reduced from 1274 to 66 due to restriction <'py_research'>\n",
      "\n",
      "   ncalls  tottime  percall  cumtime  percall filename:lineno(function)\n",
      "     26/1    0.001    0.000    0.247    0.247 C:\\Users\\lworm\\Repos\\py-research\\src\\py_research\\db\\importing.py:370(_map_record)\n",
      "      229    0.000    0.000    0.227    0.001 C:\\Users\\lworm\\Repos\\py-research\\src\\py_research\\db\\base.py:1868(__hash__)\n",
      "26585/229    0.029    0.000    0.227    0.001 C:\\Users\\lworm\\Repos\\py-research\\src\\py_research\\hashing.py:33(gen_int_hash)\n",
      "7285/2677    0.002    0.000    0.221    0.000 C:\\Users\\lworm\\Repos\\py-research\\src\\py_research\\hashing.py:63(<genexpr>)\n",
      "6550/2448    0.002    0.000    0.220    0.000 C:\\Users\\lworm\\Repos\\py-research\\src\\py_research\\hashing.py:27(_hash_sequence)\n",
      "12528/4896    0.010    0.000    0.217    0.000 C:\\Users\\lworm\\Repos\\py-research\\src\\py_research\\hashing.py:29(<lambda>)\n",
      "       26    0.000    0.000    0.151    0.006 C:\\Users\\lworm\\Repos\\py-research\\src\\py_research\\db\\importing.py:203(full_map)\n",
      "       26    0.000    0.000    0.147    0.006 C:\\Users\\lworm\\Repos\\py-research\\src\\py_research\\db\\importing.py:314(_push_to_pull_map)\n",
      "        3    0.000    0.000    0.109    0.036 C:\\Users\\lworm\\Repos\\py-research\\src\\py_research\\reflect\\ref.py:81(reference)\n",
      "        1    0.000    0.000    0.055    0.055 C:\\Users\\lworm\\Repos\\py-research\\src\\py_research\\db\\base.py:253(engine)\n",
      "    21004    0.024    0.000    0.044    0.000 C:\\Users\\lworm\\Repos\\py-research\\src\\py_research\\hashing.py:18(_stable_hash)\n",
      "       26    0.000    0.000    0.018    0.001 C:\\Users\\lworm\\Repos\\py-research\\src\\py_research\\db\\base.py:1697(_index_from_dict)\n",
      "       52    0.000    0.000    0.018    0.000 C:\\Users\\lworm\\Repos\\py-research\\src\\py_research\\db\\base.py:1702(<genexpr>)\n",
      "       22    0.000    0.000    0.012    0.001 C:\\Users\\lworm\\Repos\\py-research\\src\\py_research\\db\\base.py:4446(_index_from_dict)\n",
      "       11    0.000    0.000    0.008    0.001 C:\\Users\\lworm\\Repos\\py-research\\src\\py_research\\db\\base.py:2354(record_type)\n",
      "       11    0.000    0.000    0.008    0.001 C:\\Users\\lworm\\Repos\\py-research\\src\\py_research\\db\\base.py:514(record_type)\n",
      "        6    0.000    0.000    0.007    0.001 C:\\Users\\lworm\\Repos\\py-research\\src\\py_research\\reflect\\dist.py:96(get_project_urls)\n",
      "       76    0.000    0.000    0.007    0.000 C:\\Users\\lworm\\Repos\\py-research\\src\\py_research\\reflect\\types.py:35(is_subtype)\n",
      "      311    0.000    0.000    0.006    0.000 C:\\Users\\lworm\\Repos\\py-research\\src\\py_research\\reflect\\types.py:40(has_type)\n",
      "        3    0.000    0.000    0.004    0.001 C:\\Users\\lworm\\Repos\\py-research\\src\\py_research\\reflect\\dist.py:87(get_module_repo)\n",
      "        3    0.000    0.000    0.004    0.001 C:\\Users\\lworm\\Repos\\py-research\\src\\py_research\\reflect\\dist.py:79(get_file_repo)\n",
      "      8/5    0.000    0.000    0.004    0.001 C:\\Users\\lworm\\Repos\\py-research\\src\\py_research\\db\\base.py:3902(direct_rel)\n",
      "       11    0.000    0.000    0.003    0.000 C:\\Users\\lworm\\Repos\\py-research\\src\\py_research\\db\\base.py:490(_generic_type)\n",
      "       33    0.000    0.000    0.003    0.000 C:\\Users\\lworm\\Repos\\py-research\\src\\py_research\\db\\base.py:3860(link_type)\n",
      "       33    0.000    0.000    0.003    0.000 C:\\Users\\lworm\\Repos\\py-research\\src\\py_research\\db\\base.py:540(link_type)\n",
      "       44    0.000    0.000    0.002    0.000 C:\\Users\\lworm\\Repos\\py-research\\src\\py_research\\db\\base.py:470(_to_type)\n",
      "       55    0.000    0.000    0.002    0.000 C:\\Users\\lworm\\Repos\\py-research\\src\\py_research\\db\\base.py:442(_to_typedef)\n",
      "        8    0.000    0.000    0.002    0.000 C:\\Users\\lworm\\Repos\\py-research\\src\\py_research\\db\\base.py:1249(__init__)\n",
      "       74    0.000    0.000    0.002    0.000 C:\\Users\\lworm\\Repos\\py-research\\src\\py_research\\db\\importing.py:163(select)\n",
      "       74    0.000    0.000    0.001    0.000 C:\\Users\\lworm\\Repos\\py-research\\src\\py_research\\db\\importing.py:71(select)\n",
      "       26    0.000    0.000    0.001    0.000 C:\\Users\\lworm\\Repos\\py-research\\src\\py_research\\db\\importing.py:289(_parse_pushmap)\n",
      "       74    0.000    0.000    0.001    0.000 C:\\Users\\lworm\\Repos\\py-research\\src\\py_research\\db\\importing.py:26(_select_on_level)\n",
      "       72    0.001    0.000    0.001    0.000 C:\\Users\\lworm\\Repos\\py-research\\src\\py_research\\db\\base.py:162(copy_and_override)\n",
      "       11    0.000    0.000    0.001    0.000 C:\\Users\\lworm\\Repos\\py-research\\src\\py_research\\db\\base.py:499(_generic_args)\n",
      "       55    0.000    0.000    0.001    0.000 C:\\Users\\lworm\\Repos\\py-research\\src\\py_research\\db\\base.py:503(<genexpr>)\n",
      "       38    0.000    0.000    0.000    0.000 C:\\Users\\lworm\\Repos\\py-research\\src\\py_research\\db\\base.py:600(__get__)\n",
      "      328    0.000    0.000    0.000    0.000 C:\\Users\\lworm\\Repos\\py-research\\src\\py_research\\reflect\\ref.py:213(to_url)\n",
      "       22    0.000    0.000    0.000    0.000 C:\\Users\\lworm\\Repos\\py-research\\src\\py_research\\db\\base.py:675(__get__)\n",
      "        8    0.000    0.000    0.000    0.000 C:\\Users\\lworm\\Repos\\py-research\\src\\py_research\\db\\base.py:1410(__init_subclass__)\n",
      "       26    0.000    0.000    0.000    0.000 C:\\Users\\lworm\\Repos\\py-research\\src\\py_research\\db\\base.py:1419(__init__)\n",
      "       16    0.000    0.000    0.000    0.000 C:\\Users\\lworm\\Repos\\py-research\\src\\py_research\\db\\base.py:747(__get__)\n",
      "       22    0.000    0.000    0.000    0.000 C:\\Users\\lworm\\Repos\\py-research\\src\\py_research\\db\\base.py:1713(_set)\n",
      "        9    0.000    0.000    0.000    0.000 C:\\Users\\lworm\\Repos\\py-research\\src\\py_research\\reflect\\types.py:45(get_lowest_common_base)\n",
      "        1    0.000    0.000    0.000    0.000 C:\\Users\\lworm\\Repos\\py-research\\src\\py_research\\db\\importing.py:131(_PushMapping)\n",
      "       26    0.000    0.000    0.000    0.000 C:\\Users\\lworm\\Repos\\py-research\\src\\py_research\\db\\base.py:1353(_primary_keys)\n",
      "       39    0.000    0.000    0.000    0.000 C:\\Users\\lworm\\Repos\\py-research\\src\\py_research\\db\\base.py:1727(__post_init__)\n",
      "       74    0.000    0.000    0.000    0.000 C:\\Users\\lworm\\Repos\\py-research\\src\\py_research\\db\\base.py:648(__set__)\n",
      "      231    0.000    0.000    0.000    0.000 C:\\Users\\lworm\\Repos\\py-research\\src\\py_research\\hashing.py:66(<genexpr>)\n",
      "        3    0.000    0.000    0.000    0.000 C:\\Users\\lworm\\Repos\\py-research\\src\\py_research\\db\\importing.py:256(select)\n",
      "      220    0.000    0.000    0.000    0.000 C:\\Users\\lworm\\Repos\\py-research\\src\\py_research\\db\\base.py:570(name)\n",
      "        3    0.000    0.000    0.000    0.000 C:\\Users\\lworm\\Repos\\py-research\\src\\py_research\\reflect\\deps.py:179(version_to_range)\n",
      "       27    0.000    0.000    0.000    0.000 C:\\Users\\lworm\\Repos\\py-research\\src\\py_research\\reflect\\types.py:47(<genexpr>)\n",
      "        9    0.000    0.000    0.000    0.000 C:\\Users\\lworm\\Repos\\py-research\\src\\py_research\\reflect\\types.py:48(<lambda>)\n",
      "        3    0.000    0.000    0.000    0.000 C:\\Users\\lworm\\Repos\\py-research\\src\\py_research\\reflect\\dist.py:23(get_module_file)\n",
      "        1    0.000    0.000    0.000    0.000 C:\\Users\\lworm\\Repos\\py-research\\src\\py_research\\db\\base.py:226(type)\n",
      "       30    0.000    0.000    0.000    0.000 C:\\Users\\lworm\\Repos\\py-research\\src\\py_research\\db\\base.py:2080(__post_init__)\n",
      "        8    0.000    0.000    0.000    0.000 C:\\Users\\lworm\\Repos\\py-research\\src\\py_research\\db\\base.py:487(<lambda>)\n",
      "        3    0.000    0.000    0.000    0.000 C:\\Users\\lworm\\Repos\\py-research\\src\\py_research\\db\\base.py:1379(_rels)\n",
      "        1    0.000    0.000    0.000    0.000 C:\\Users\\lworm\\Repos\\py-research\\src\\py_research\\db\\importing.py:16(TreeData)\n",
      "       18    0.000    0.000    0.000    0.000 C:\\Users\\lworm\\Repos\\py-research\\src\\py_research\\reflect\\types.py:48(<genexpr>)\n",
      "       30    0.000    0.000    0.000    0.000 C:\\Users\\lworm\\Repos\\py-research\\src\\py_research\\db\\base.py:1703(<genexpr>)\n",
      "       39    0.000    0.000    0.000    0.000 C:\\Users\\lworm\\Repos\\py-research\\src\\py_research\\db\\base.py:1728(<genexpr>)\n",
      "       14    0.000    0.000    0.000    0.000 C:\\Users\\lworm\\Repos\\py-research\\src\\py_research\\db\\importing.py:305(_get_selector_name)\n",
      "        6    0.000    0.000    0.000    0.000 C:\\Users\\lworm\\Repos\\py-research\\src\\py_research\\db\\importing.py:143(parse)\n",
      "        3    0.000    0.000    0.000    0.000 C:\\Users\\lworm\\Repos\\py-research\\src\\py_research\\db\\importing.py:262(<genexpr>)\n",
      "        3    0.000    0.000    0.000    0.000 C:\\Users\\lworm\\Repos\\py-research\\src\\py_research\\db\\base.py:1383(<genexpr>)\n",
      "\n",
      "\n"
     ]
    },
    {
     "data": {
      "text/html": [
       "<pre style=\"white-space:pre;overflow-x:auto;line-height:normal;font-family:Menlo,'DejaVu Sans Mono',consolas,'Courier New',monospace\"></pre>\n"
      ],
      "text/plain": []
     },
     "metadata": {},
     "output_type": "display_data"
    },
    {
     "data": {
      "text/plain": [
       "\u001b[1m<\u001b[0m\u001b[1;95mpstats.Stats\u001b[0m\u001b[39m object at \u001b[0m\u001b[1;36m0x000001E46BD947A0\u001b[0m\u001b[1m>\u001b[0m"
      ]
     },
     "execution_count": 8,
     "metadata": {},
     "output_type": "execute_result"
    }
   ],
   "source": [
    "stats.sort_stats(\"cumulative\")\n",
    "stats.print_stats(\"py_research\")"
   ]
  }
 ],
 "metadata": {
  "kernelspec": {
   "display_name": ".venv",
   "language": "python",
   "name": "python3"
  },
  "language_info": {
   "codemirror_mode": {
    "name": "ipython",
    "version": 3
   },
   "file_extension": ".py",
   "mimetype": "text/x-python",
   "name": "python",
   "nbconvert_exporter": "python",
   "pygments_lexer": "ipython3",
   "version": "3.12.4"
  }
 },
 "nbformat": 4,
 "nbformat_minor": 2
}

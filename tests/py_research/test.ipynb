{
 "cells": [
  {
   "cell_type": "code",
   "execution_count": 3,
   "metadata": {},
   "outputs": [],
   "source": [
    "from py_research.geo import merge_geo_regions, GeoRegion, GeoScheme\n",
    "import pandas as pd"
   ]
  },
  {
   "cell_type": "code",
   "execution_count": 4,
   "metadata": {},
   "outputs": [],
   "source": [
    "df, geo_col, geo_regions, input_scheme, rest_of_world, expected = (\n",
    "    pd.DataFrame(\n",
    "        {\"cc\": [\"USA\", \"CAN\", \"MEX\", \"FRA\", \"DEU\", \"GBR\", \"CHN\", \"JPN\", \"IND\"]}\n",
    "    ),\n",
    "    \"cc\",\n",
    "    [\n",
    "        GeoRegion(\"DEU\", GeoScheme.cc_iso3),\n",
    "        GeoRegion(\"America\", GeoScheme.continent),\n",
    "        GeoRegion(\"EU\", GeoScheme.alliance),\n",
    "    ],\n",
    "    GeoScheme.cc_iso3,\n",
    "    True,\n",
    "    pd.DataFrame(\n",
    "        {\n",
    "            \"geo_region\": [\n",
    "                \"America\",\n",
    "                \"America\",\n",
    "                \"America\",\n",
    "                \"EU\",\n",
    "                \"Germany\",\n",
    "                \"Rest of world\",\n",
    "                \"Rest of world\",\n",
    "                \"Rest of world\",\n",
    "                \"Rest of world\",\n",
    "            ]\n",
    "        }\n",
    "    ),\n",
    ")"
   ]
  },
  {
   "cell_type": "code",
   "execution_count": 6,
   "metadata": {},
   "outputs": [
    {
     "data": {
      "text/html": [
       "<pre style=\"white-space:pre;overflow-x:auto;line-height:normal;font-family:Menlo,'DejaVu Sans Mono',consolas,'Courier New',monospace\"></pre>\n"
      ],
      "text/plain": []
     },
     "metadata": {},
     "output_type": "display_data"
    },
    {
     "data": {
      "text/html": [
       "<div>\n",
       "<style scoped>\n",
       "    .dataframe tbody tr th:only-of-type {\n",
       "        vertical-align: middle;\n",
       "    }\n",
       "\n",
       "    .dataframe tbody tr th {\n",
       "        vertical-align: top;\n",
       "    }\n",
       "\n",
       "    .dataframe thead th {\n",
       "        text-align: right;\n",
       "    }\n",
       "</style>\n",
       "<table border=\"1\" class=\"dataframe\">\n",
       "  <thead>\n",
       "    <tr style=\"text-align: right;\">\n",
       "      <th></th>\n",
       "      <th>cc</th>\n",
       "      <th>cc_mapped</th>\n",
       "      <th>geo_region</th>\n",
       "      <th>geo_region_label</th>\n",
       "    </tr>\n",
       "  </thead>\n",
       "  <tbody>\n",
       "    <tr>\n",
       "      <th>0</th>\n",
       "      <td>DEU</td>\n",
       "      <td>DEU</td>\n",
       "      <td>Germany</td>\n",
       "      <td>DEU</td>\n",
       "    </tr>\n",
       "    <tr>\n",
       "      <th>0</th>\n",
       "      <td>USA</td>\n",
       "      <td>USA</td>\n",
       "      <td>America</td>\n",
       "      <td>America</td>\n",
       "    </tr>\n",
       "    <tr>\n",
       "      <th>1</th>\n",
       "      <td>CAN</td>\n",
       "      <td>CAN</td>\n",
       "      <td>America</td>\n",
       "      <td>America</td>\n",
       "    </tr>\n",
       "    <tr>\n",
       "      <th>2</th>\n",
       "      <td>MEX</td>\n",
       "      <td>MEX</td>\n",
       "      <td>America</td>\n",
       "      <td>America</td>\n",
       "    </tr>\n",
       "    <tr>\n",
       "      <th>0</th>\n",
       "      <td>FRA</td>\n",
       "      <td>FRA</td>\n",
       "      <td>Rest of EU</td>\n",
       "      <td>EU</td>\n",
       "    </tr>\n",
       "  </tbody>\n",
       "</table>\n",
       "</div>"
      ],
      "text/plain": [
       "\n",
       "    cc cc_mapped  geo_region geo_region_label\n",
       "\u001b[1;36m0\u001b[0m  DEU       DEU     Germany              DEU\n",
       "\u001b[1;36m0\u001b[0m  USA       USA     America          America\n",
       "\u001b[1;36m1\u001b[0m  CAN       CAN     America          America\n",
       "\u001b[1;36m2\u001b[0m  MEX       MEX     America          America\n",
       "\u001b[1;36m0\u001b[0m  FRA       FRA  Rest of EU               EU"
      ]
     },
     "execution_count": 6,
     "metadata": {},
     "output_type": "execute_result"
    }
   ],
   "source": [
    "merge_geo_regions(df, geo_col, geo_regions, input_scheme, False)"
   ]
  }
 ],
 "metadata": {
  "kernelspec": {
   "display_name": ".venv",
   "language": "python",
   "name": "python3"
  },
  "language_info": {
   "codemirror_mode": {
    "name": "ipython",
    "version": 3
   },
   "file_extension": ".py",
   "mimetype": "text/x-python",
   "name": "python",
   "nbconvert_exporter": "python",
   "pygments_lexer": "ipython3",
   "version": "3.11.2"
  }
 },
 "nbformat": 4,
 "nbformat_minor": 2
}
